{
  "nbformat": 4,
  "nbformat_minor": 0,
  "metadata": {
    "kernelspec": {
      "name": "python3",
      "display_name": "Python 3"
    },
    "language_info": {
      "pygments_lexer": "ipython3",
      "nbconvert_exporter": "python",
      "version": "3.6.4",
      "file_extension": ".py",
      "codemirror_mode": {
        "name": "ipython",
        "version": 3
      },
      "name": "python",
      "mimetype": "text/x-python"
    },
    "colab": {
      "name": "Steam Games Recommender System.ipynb",
      "provenance": [],
      "collapsed_sections": [
        "JOMHQ2xzo0FL",
        "Z62EOVTAuUAx",
        "Y3ZdobhxzooO"
      ]
    },
    "accelerator": "GPU"
  },
  "cells": [
    {
      "cell_type": "markdown",
      "metadata": {
        "id": "Q8cjGC4alTev",
        "colab_type": "text"
      },
      "source": [
        "# SECTION 1 - PRE PROCESSING"
      ]
    },
    {
      "cell_type": "markdown",
      "metadata": {
        "id": "HB9sFQKtlgkD",
        "colab_type": "text"
      },
      "source": [
        "### Install Turicreate"
      ]
    },
    {
      "cell_type": "code",
      "metadata": {
        "id": "ddSs02oAjHEZ",
        "colab_type": "code",
        "colab": {}
      },
      "source": [
        "!pip install turicreate"
      ],
      "execution_count": 0,
      "outputs": []
    },
    {
      "cell_type": "markdown",
      "metadata": {
        "id": "NDHlTFz0lZly",
        "colab_type": "text"
      },
      "source": [
        "### Import necessary Libraries"
      ]
    },
    {
      "cell_type": "code",
      "metadata": {
        "_uuid": "8f2839f25d086af736a60e9eeb907d3b93b6e0e5",
        "_cell_guid": "b1076dfc-b9ad-4769-8c92-a6c4dae69d19",
        "trusted": true,
        "id": "YuK_GFuNHT0u",
        "colab_type": "code",
        "colab": {}
      },
      "source": [
        "\n",
        "import numpy as np # linear algebra\n",
        "import pandas as pd # data processing, CSV file I/O (e.g. pd.read_csv)\n",
        "import turicreate as tc # Turicreate library for recommendations"
      ],
      "execution_count": 0,
      "outputs": []
    },
    {
      "cell_type": "markdown",
      "metadata": {
        "id": "fJDDt_iIldyD",
        "colab_type": "text"
      },
      "source": [
        "### Google Drive Pre Requisite"
      ]
    },
    {
      "cell_type": "code",
      "metadata": {
        "id": "iFhHIRu1ILU3",
        "colab_type": "code",
        "colab": {}
      },
      "source": [
        "# Code to read csv file into Colaboratory:\n",
        "from pydrive.auth import GoogleAuth\n",
        "from pydrive.drive import GoogleDrive\n",
        "from google.colab import auth\n",
        "from oauth2client.client import GoogleCredentials \n",
        "\n",
        "# Authenticate and create the PyDrive client.\n",
        "auth.authenticate_user()\n",
        "gauth = GoogleAuth()\n",
        "gauth.credentials = GoogleCredentials.get_application_default()\n",
        "drive = GoogleDrive(gauth)\n"
      ],
      "execution_count": 0,
      "outputs": []
    },
    {
      "cell_type": "code",
      "metadata": {
        "id": "g9xVoOmrIaEm",
        "colab_type": "code",
        "colab": {}
      },
      "source": [
        "link = 'https://drive.google.com/open?id=1dJ2MmNB9_UG3R5HZohSIqqu_dC0_N-S2'\n",
        "\n",
        "fluff, id = link.split('=')\n",
        "\n",
        "print (id) # Verify that you have everything after '='"
      ],
      "execution_count": 0,
      "outputs": []
    },
    {
      "cell_type": "markdown",
      "metadata": {
        "id": "O0VOabB3logg",
        "colab_type": "text"
      },
      "source": [
        "### Read data from the file."
      ]
    },
    {
      "cell_type": "code",
      "metadata": {
        "id": "JxLskfmkIRGd",
        "colab_type": "code",
        "outputId": "dcd4f1ac-305a-4785-8096-c97c7d1c09df",
        "colab": {
          "base_uri": "https://localhost:8080/",
          "height": 206
        }
      },
      "source": [
        "downloaded = drive.CreateFile({'id':id}) \n",
        "downloaded.GetContentFile(\"steam-200k.csv\")  \n",
        "df = pd.read_csv(\"steam-200k.csv\", header=None, index_col=None, names=['UserID', 'Game', 'Action', 'Hours', 'Other'])\n",
        "df.head()"
      ],
      "execution_count": 5,
      "outputs": [
        {
          "output_type": "execute_result",
          "data": {
            "text/html": [
              "<div>\n",
              "<style scoped>\n",
              "    .dataframe tbody tr th:only-of-type {\n",
              "        vertical-align: middle;\n",
              "    }\n",
              "\n",
              "    .dataframe tbody tr th {\n",
              "        vertical-align: top;\n",
              "    }\n",
              "\n",
              "    .dataframe thead th {\n",
              "        text-align: right;\n",
              "    }\n",
              "</style>\n",
              "<table border=\"1\" class=\"dataframe\">\n",
              "  <thead>\n",
              "    <tr style=\"text-align: right;\">\n",
              "      <th></th>\n",
              "      <th>UserID</th>\n",
              "      <th>Game</th>\n",
              "      <th>Action</th>\n",
              "      <th>Hours</th>\n",
              "      <th>Other</th>\n",
              "    </tr>\n",
              "  </thead>\n",
              "  <tbody>\n",
              "    <tr>\n",
              "      <th>0</th>\n",
              "      <td>151603712</td>\n",
              "      <td>The Elder Scrolls V Skyrim</td>\n",
              "      <td>purchase</td>\n",
              "      <td>1.0</td>\n",
              "      <td>0</td>\n",
              "    </tr>\n",
              "    <tr>\n",
              "      <th>1</th>\n",
              "      <td>151603712</td>\n",
              "      <td>The Elder Scrolls V Skyrim</td>\n",
              "      <td>play</td>\n",
              "      <td>273.0</td>\n",
              "      <td>0</td>\n",
              "    </tr>\n",
              "    <tr>\n",
              "      <th>2</th>\n",
              "      <td>151603712</td>\n",
              "      <td>Fallout 4</td>\n",
              "      <td>purchase</td>\n",
              "      <td>1.0</td>\n",
              "      <td>0</td>\n",
              "    </tr>\n",
              "    <tr>\n",
              "      <th>3</th>\n",
              "      <td>151603712</td>\n",
              "      <td>Fallout 4</td>\n",
              "      <td>play</td>\n",
              "      <td>87.0</td>\n",
              "      <td>0</td>\n",
              "    </tr>\n",
              "    <tr>\n",
              "      <th>4</th>\n",
              "      <td>151603712</td>\n",
              "      <td>Spore</td>\n",
              "      <td>purchase</td>\n",
              "      <td>1.0</td>\n",
              "      <td>0</td>\n",
              "    </tr>\n",
              "  </tbody>\n",
              "</table>\n",
              "</div>"
            ],
            "text/plain": [
              "      UserID                        Game    Action  Hours  Other\n",
              "0  151603712  The Elder Scrolls V Skyrim  purchase    1.0      0\n",
              "1  151603712  The Elder Scrolls V Skyrim      play  273.0      0\n",
              "2  151603712                   Fallout 4  purchase    1.0      0\n",
              "3  151603712                   Fallout 4      play   87.0      0\n",
              "4  151603712                       Spore  purchase    1.0      0"
            ]
          },
          "metadata": {
            "tags": []
          },
          "execution_count": 5
        }
      ]
    },
    {
      "cell_type": "markdown",
      "metadata": {
        "id": "6RVUII89lvCK",
        "colab_type": "text"
      },
      "source": [
        "### Check shape of the dataset"
      ]
    },
    {
      "cell_type": "code",
      "metadata": {
        "trusted": true,
        "id": "o_2aCIXuHT1G",
        "colab_type": "code",
        "outputId": "2a032142-62f1-4471-9b8f-4ef721810d6c",
        "colab": {
          "base_uri": "https://localhost:8080/",
          "height": 35
        }
      },
      "source": [
        "df.shape"
      ],
      "execution_count": 6,
      "outputs": [
        {
          "output_type": "execute_result",
          "data": {
            "text/plain": [
              "(200000, 5)"
            ]
          },
          "metadata": {
            "tags": []
          },
          "execution_count": 6
        }
      ]
    },
    {
      "cell_type": "markdown",
      "metadata": {
        "id": "hVHpPeddl38p",
        "colab_type": "text"
      },
      "source": [
        "### Check the datatypes of the columns"
      ]
    },
    {
      "cell_type": "code",
      "metadata": {
        "trusted": true,
        "id": "-Dk3_fwmHT1S",
        "colab_type": "code",
        "outputId": "810795d1-a539-4ef9-d10d-9e490ac89838",
        "colab": {
          "base_uri": "https://localhost:8080/",
          "height": 196
        }
      },
      "source": [
        "df.info()"
      ],
      "execution_count": 7,
      "outputs": [
        {
          "output_type": "stream",
          "text": [
            "<class 'pandas.core.frame.DataFrame'>\n",
            "RangeIndex: 200000 entries, 0 to 199999\n",
            "Data columns (total 5 columns):\n",
            "UserID    200000 non-null int64\n",
            "Game      200000 non-null object\n",
            "Action    200000 non-null object\n",
            "Hours     200000 non-null float64\n",
            "Other     200000 non-null int64\n",
            "dtypes: float64(1), int64(2), object(2)\n",
            "memory usage: 7.6+ MB\n"
          ],
          "name": "stdout"
        }
      ]
    },
    {
      "cell_type": "markdown",
      "metadata": {
        "id": "S8jx0u6vl9MQ",
        "colab_type": "text"
      },
      "source": [
        "### Check the values in \"Other\" column"
      ]
    },
    {
      "cell_type": "code",
      "metadata": {
        "trusted": true,
        "id": "7NixUGjqHT0_",
        "colab_type": "code",
        "outputId": "190943ec-08be-4f42-fc19-7bf99cefdc9c",
        "colab": {
          "base_uri": "https://localhost:8080/",
          "height": 53
        }
      },
      "source": [
        "df[\"Other\"].value_counts()"
      ],
      "execution_count": 8,
      "outputs": [
        {
          "output_type": "execute_result",
          "data": {
            "text/plain": [
              "0    200000\n",
              "Name: Other, dtype: int64"
            ]
          },
          "metadata": {
            "tags": []
          },
          "execution_count": 8
        }
      ]
    },
    {
      "cell_type": "markdown",
      "metadata": {
        "id": "LkdurC48mJLv",
        "colab_type": "text"
      },
      "source": [
        "### Remove the column"
      ]
    },
    {
      "cell_type": "code",
      "metadata": {
        "trusted": true,
        "id": "ezfRCr0qHT1X",
        "colab_type": "code",
        "colab": {}
      },
      "source": [
        "df.drop([\"Other\"],axis=1,inplace = True)"
      ],
      "execution_count": 0,
      "outputs": []
    },
    {
      "cell_type": "markdown",
      "metadata": {
        "id": "GKn19HdYmQt_",
        "colab_type": "text"
      },
      "source": [
        "### Statistical Information"
      ]
    },
    {
      "cell_type": "code",
      "metadata": {
        "id": "AClxH5UMP04E",
        "colab_type": "code",
        "outputId": "f7a35c7c-fac4-43a3-f503-b099bbdbcb77",
        "colab": {
          "base_uri": "https://localhost:8080/",
          "height": 178
        }
      },
      "source": [
        "df.loc[df[\"Action\"]==\"play\",\"Hours\"].describe()"
      ],
      "execution_count": 10,
      "outputs": [
        {
          "output_type": "execute_result",
          "data": {
            "text/plain": [
              "count    70489.000000\n",
              "mean        48.878063\n",
              "std        229.335236\n",
              "min          0.100000\n",
              "25%          1.000000\n",
              "50%          4.500000\n",
              "75%         19.100000\n",
              "max      11754.000000\n",
              "Name: Hours, dtype: float64"
            ]
          },
          "metadata": {
            "tags": []
          },
          "execution_count": 10
        }
      ]
    },
    {
      "cell_type": "markdown",
      "metadata": {
        "id": "thjgesJvoJli",
        "colab_type": "text"
      },
      "source": [
        "# SECTION 2 - RANKING"
      ]
    },
    {
      "cell_type": "markdown",
      "metadata": {
        "id": "UVtoNTJVmdRo",
        "colab_type": "text"
      },
      "source": [
        "### Dataset"
      ]
    },
    {
      "cell_type": "code",
      "metadata": {
        "trusted": true,
        "id": "Z40BZ1eTHT1a",
        "colab_type": "code",
        "outputId": "c04d25a6-7945-4a3c-fe4d-30c312794373",
        "colab": {
          "base_uri": "https://localhost:8080/",
          "height": 206
        }
      },
      "source": [
        "df.head()"
      ],
      "execution_count": 11,
      "outputs": [
        {
          "output_type": "execute_result",
          "data": {
            "text/html": [
              "<div>\n",
              "<style scoped>\n",
              "    .dataframe tbody tr th:only-of-type {\n",
              "        vertical-align: middle;\n",
              "    }\n",
              "\n",
              "    .dataframe tbody tr th {\n",
              "        vertical-align: top;\n",
              "    }\n",
              "\n",
              "    .dataframe thead th {\n",
              "        text-align: right;\n",
              "    }\n",
              "</style>\n",
              "<table border=\"1\" class=\"dataframe\">\n",
              "  <thead>\n",
              "    <tr style=\"text-align: right;\">\n",
              "      <th></th>\n",
              "      <th>UserID</th>\n",
              "      <th>Game</th>\n",
              "      <th>Action</th>\n",
              "      <th>Hours</th>\n",
              "    </tr>\n",
              "  </thead>\n",
              "  <tbody>\n",
              "    <tr>\n",
              "      <th>0</th>\n",
              "      <td>151603712</td>\n",
              "      <td>The Elder Scrolls V Skyrim</td>\n",
              "      <td>purchase</td>\n",
              "      <td>1.0</td>\n",
              "    </tr>\n",
              "    <tr>\n",
              "      <th>1</th>\n",
              "      <td>151603712</td>\n",
              "      <td>The Elder Scrolls V Skyrim</td>\n",
              "      <td>play</td>\n",
              "      <td>273.0</td>\n",
              "    </tr>\n",
              "    <tr>\n",
              "      <th>2</th>\n",
              "      <td>151603712</td>\n",
              "      <td>Fallout 4</td>\n",
              "      <td>purchase</td>\n",
              "      <td>1.0</td>\n",
              "    </tr>\n",
              "    <tr>\n",
              "      <th>3</th>\n",
              "      <td>151603712</td>\n",
              "      <td>Fallout 4</td>\n",
              "      <td>play</td>\n",
              "      <td>87.0</td>\n",
              "    </tr>\n",
              "    <tr>\n",
              "      <th>4</th>\n",
              "      <td>151603712</td>\n",
              "      <td>Spore</td>\n",
              "      <td>purchase</td>\n",
              "      <td>1.0</td>\n",
              "    </tr>\n",
              "  </tbody>\n",
              "</table>\n",
              "</div>"
            ],
            "text/plain": [
              "      UserID                        Game    Action  Hours\n",
              "0  151603712  The Elder Scrolls V Skyrim  purchase    1.0\n",
              "1  151603712  The Elder Scrolls V Skyrim      play  273.0\n",
              "2  151603712                   Fallout 4  purchase    1.0\n",
              "3  151603712                   Fallout 4      play   87.0\n",
              "4  151603712                       Spore  purchase    1.0"
            ]
          },
          "metadata": {
            "tags": []
          },
          "execution_count": 11
        }
      ]
    },
    {
      "cell_type": "markdown",
      "metadata": {
        "id": "-rjg7LmcmgKK",
        "colab_type": "text"
      },
      "source": [
        "### Groupby using Actions"
      ]
    },
    {
      "cell_type": "code",
      "metadata": {
        "trusted": true,
        "id": "k2KvqZoNHT1r",
        "colab_type": "code",
        "outputId": "01b93aba-468d-4d5c-8415-3fbdc2783e21",
        "colab": {
          "base_uri": "https://localhost:8080/",
          "height": 499
        }
      },
      "source": [
        "df_group_values = df.groupby([\"UserID\",\"Action\"]).size()\n",
        "df_group_values.head(25)"
      ],
      "execution_count": 12,
      "outputs": [
        {
          "output_type": "execute_result",
          "data": {
            "text/plain": [
              "UserID  Action  \n",
              "5250    play          6\n",
              "        purchase     21\n",
              "76767   play         20\n",
              "        purchase     36\n",
              "86540   play         15\n",
              "        purchase     82\n",
              "103360  purchase     10\n",
              "144736  play          1\n",
              "        purchase      8\n",
              "181212  play          2\n",
              "        purchase     12\n",
              "229911  play         18\n",
              "        purchase     27\n",
              "298950  play        175\n",
              "        purchase    259\n",
              "299153  purchase     14\n",
              "381543  play          1\n",
              "        purchase     10\n",
              "547685  play          5\n",
              "        purchase     25\n",
              "554278  play          9\n",
              "        purchase     28\n",
              "561758  play         80\n",
              "        purchase    148\n",
              "577614  play          1\n",
              "dtype: int64"
            ]
          },
          "metadata": {
            "tags": []
          },
          "execution_count": 12
        }
      ]
    },
    {
      "cell_type": "markdown",
      "metadata": {
        "id": "UkORyqQNmrxl",
        "colab_type": "text"
      },
      "source": [
        "### Describe the dataset"
      ]
    },
    {
      "cell_type": "code",
      "metadata": {
        "trusted": true,
        "id": "xS6Rrd-VHT1v",
        "colab_type": "code",
        "outputId": "d9504953-1794-4fc7-872c-ff26699ab4ff",
        "colab": {
          "base_uri": "https://localhost:8080/",
          "height": 88
        }
      },
      "source": [
        "print(\"Number of unique games : {0}\".format(len(df.Game.unique())))\n",
        "print(\"Number of unique users : {0}\".format(len(df.UserID.unique())))\n",
        "print(\"Number of total purchases by users : {0}\".format(len(df.loc[df['Action'] == 'purchase'])))\n",
        "print(\"Number of total plays by users : {0}\".format(len(df.loc[df['Action'] == 'play'])))"
      ],
      "execution_count": 13,
      "outputs": [
        {
          "output_type": "stream",
          "text": [
            "Number of unique games : 5155\n",
            "Number of unique users : 12393\n",
            "Number of total purchases by users : 129511\n",
            "Number of total plays by users : 70489\n"
          ],
          "name": "stdout"
        }
      ]
    },
    {
      "cell_type": "markdown",
      "metadata": {
        "id": "MudvwQeNmyhw",
        "colab_type": "text"
      },
      "source": [
        "### Create 2 new datasets "
      ]
    },
    {
      "cell_type": "code",
      "metadata": {
        "trusted": true,
        "id": "t9HjzzGZHT16",
        "colab_type": "code",
        "colab": {}
      },
      "source": [
        "df_purchase =  df.loc[df['Action'] == 'purchase', ['UserID','Game','Action','Hours']].rename(columns={'Hours': 'Purchased'})  # Purchased Games\n",
        "df_play = df.loc[df['Action'] == 'play', ['UserID','Game','Hours']].rename(columns={'Hours': 'Played_hours'})                 # Played games by hour"
      ],
      "execution_count": 0,
      "outputs": []
    },
    {
      "cell_type": "code",
      "metadata": {
        "trusted": true,
        "id": "HZi-pEBsHT19",
        "colab_type": "code",
        "outputId": "2ec1c61d-d1d4-47f2-e376-def917170104",
        "colab": {
          "base_uri": "https://localhost:8080/",
          "height": 53
        }
      },
      "source": [
        "print('shape of purchase dataset : ', df_purchase.shape[0])\n",
        "print('shape of play dataset : ', df_play.shape[0])"
      ],
      "execution_count": 15,
      "outputs": [
        {
          "output_type": "stream",
          "text": [
            "shape of purchase dataset :  129511\n",
            "shape of play dataset :  70489\n"
          ],
          "name": "stdout"
        }
      ]
    },
    {
      "cell_type": "markdown",
      "metadata": {
        "id": "Y1DxhzegnMCx",
        "colab_type": "text"
      },
      "source": [
        "### Merge datasets"
      ]
    },
    {
      "cell_type": "code",
      "metadata": {
        "trusted": true,
        "id": "tjtjarKeHT2C",
        "colab_type": "code",
        "colab": {}
      },
      "source": [
        "total_dataset = pd.merge(df_purchase, df_play, left_on=['UserID','Game'], right_on=['UserID','Game'], how='left').fillna(0)"
      ],
      "execution_count": 0,
      "outputs": []
    },
    {
      "cell_type": "code",
      "metadata": {
        "trusted": true,
        "id": "4Ypb_ej6HT2G",
        "colab_type": "code",
        "outputId": "c5cb1182-a288-449b-eb26-9ba22aeb46a2",
        "colab": {
          "base_uri": "https://localhost:8080/",
          "height": 677
        }
      },
      "source": [
        "total_dataset.head(20)"
      ],
      "execution_count": 17,
      "outputs": [
        {
          "output_type": "execute_result",
          "data": {
            "text/html": [
              "<div>\n",
              "<style scoped>\n",
              "    .dataframe tbody tr th:only-of-type {\n",
              "        vertical-align: middle;\n",
              "    }\n",
              "\n",
              "    .dataframe tbody tr th {\n",
              "        vertical-align: top;\n",
              "    }\n",
              "\n",
              "    .dataframe thead th {\n",
              "        text-align: right;\n",
              "    }\n",
              "</style>\n",
              "<table border=\"1\" class=\"dataframe\">\n",
              "  <thead>\n",
              "    <tr style=\"text-align: right;\">\n",
              "      <th></th>\n",
              "      <th>UserID</th>\n",
              "      <th>Game</th>\n",
              "      <th>Action</th>\n",
              "      <th>Purchased</th>\n",
              "      <th>Played_hours</th>\n",
              "    </tr>\n",
              "  </thead>\n",
              "  <tbody>\n",
              "    <tr>\n",
              "      <th>0</th>\n",
              "      <td>151603712</td>\n",
              "      <td>The Elder Scrolls V Skyrim</td>\n",
              "      <td>purchase</td>\n",
              "      <td>1.0</td>\n",
              "      <td>273.0</td>\n",
              "    </tr>\n",
              "    <tr>\n",
              "      <th>1</th>\n",
              "      <td>151603712</td>\n",
              "      <td>Fallout 4</td>\n",
              "      <td>purchase</td>\n",
              "      <td>1.0</td>\n",
              "      <td>87.0</td>\n",
              "    </tr>\n",
              "    <tr>\n",
              "      <th>2</th>\n",
              "      <td>151603712</td>\n",
              "      <td>Spore</td>\n",
              "      <td>purchase</td>\n",
              "      <td>1.0</td>\n",
              "      <td>14.9</td>\n",
              "    </tr>\n",
              "    <tr>\n",
              "      <th>3</th>\n",
              "      <td>151603712</td>\n",
              "      <td>Fallout New Vegas</td>\n",
              "      <td>purchase</td>\n",
              "      <td>1.0</td>\n",
              "      <td>12.1</td>\n",
              "    </tr>\n",
              "    <tr>\n",
              "      <th>4</th>\n",
              "      <td>151603712</td>\n",
              "      <td>Left 4 Dead 2</td>\n",
              "      <td>purchase</td>\n",
              "      <td>1.0</td>\n",
              "      <td>8.9</td>\n",
              "    </tr>\n",
              "    <tr>\n",
              "      <th>5</th>\n",
              "      <td>151603712</td>\n",
              "      <td>HuniePop</td>\n",
              "      <td>purchase</td>\n",
              "      <td>1.0</td>\n",
              "      <td>8.5</td>\n",
              "    </tr>\n",
              "    <tr>\n",
              "      <th>6</th>\n",
              "      <td>151603712</td>\n",
              "      <td>Path of Exile</td>\n",
              "      <td>purchase</td>\n",
              "      <td>1.0</td>\n",
              "      <td>8.1</td>\n",
              "    </tr>\n",
              "    <tr>\n",
              "      <th>7</th>\n",
              "      <td>151603712</td>\n",
              "      <td>Poly Bridge</td>\n",
              "      <td>purchase</td>\n",
              "      <td>1.0</td>\n",
              "      <td>7.5</td>\n",
              "    </tr>\n",
              "    <tr>\n",
              "      <th>8</th>\n",
              "      <td>151603712</td>\n",
              "      <td>Left 4 Dead</td>\n",
              "      <td>purchase</td>\n",
              "      <td>1.0</td>\n",
              "      <td>3.3</td>\n",
              "    </tr>\n",
              "    <tr>\n",
              "      <th>9</th>\n",
              "      <td>151603712</td>\n",
              "      <td>Team Fortress 2</td>\n",
              "      <td>purchase</td>\n",
              "      <td>1.0</td>\n",
              "      <td>2.8</td>\n",
              "    </tr>\n",
              "    <tr>\n",
              "      <th>10</th>\n",
              "      <td>151603712</td>\n",
              "      <td>Tomb Raider</td>\n",
              "      <td>purchase</td>\n",
              "      <td>1.0</td>\n",
              "      <td>2.5</td>\n",
              "    </tr>\n",
              "    <tr>\n",
              "      <th>11</th>\n",
              "      <td>151603712</td>\n",
              "      <td>The Banner Saga</td>\n",
              "      <td>purchase</td>\n",
              "      <td>1.0</td>\n",
              "      <td>2.0</td>\n",
              "    </tr>\n",
              "    <tr>\n",
              "      <th>12</th>\n",
              "      <td>151603712</td>\n",
              "      <td>Dead Island Epidemic</td>\n",
              "      <td>purchase</td>\n",
              "      <td>1.0</td>\n",
              "      <td>1.4</td>\n",
              "    </tr>\n",
              "    <tr>\n",
              "      <th>13</th>\n",
              "      <td>151603712</td>\n",
              "      <td>BioShock Infinite</td>\n",
              "      <td>purchase</td>\n",
              "      <td>1.0</td>\n",
              "      <td>1.3</td>\n",
              "    </tr>\n",
              "    <tr>\n",
              "      <th>14</th>\n",
              "      <td>151603712</td>\n",
              "      <td>Dragon Age Origins - Ultimate Edition</td>\n",
              "      <td>purchase</td>\n",
              "      <td>1.0</td>\n",
              "      <td>1.3</td>\n",
              "    </tr>\n",
              "    <tr>\n",
              "      <th>15</th>\n",
              "      <td>151603712</td>\n",
              "      <td>Fallout 3 - Game of the Year Edition</td>\n",
              "      <td>purchase</td>\n",
              "      <td>1.0</td>\n",
              "      <td>0.8</td>\n",
              "    </tr>\n",
              "    <tr>\n",
              "      <th>16</th>\n",
              "      <td>151603712</td>\n",
              "      <td>SEGA Genesis &amp; Mega Drive Classics</td>\n",
              "      <td>purchase</td>\n",
              "      <td>1.0</td>\n",
              "      <td>0.8</td>\n",
              "    </tr>\n",
              "    <tr>\n",
              "      <th>17</th>\n",
              "      <td>151603712</td>\n",
              "      <td>Grand Theft Auto IV</td>\n",
              "      <td>purchase</td>\n",
              "      <td>1.0</td>\n",
              "      <td>0.6</td>\n",
              "    </tr>\n",
              "    <tr>\n",
              "      <th>18</th>\n",
              "      <td>151603712</td>\n",
              "      <td>Realm of the Mad God</td>\n",
              "      <td>purchase</td>\n",
              "      <td>1.0</td>\n",
              "      <td>0.5</td>\n",
              "    </tr>\n",
              "    <tr>\n",
              "      <th>19</th>\n",
              "      <td>151603712</td>\n",
              "      <td>Marvel Heroes 2015</td>\n",
              "      <td>purchase</td>\n",
              "      <td>1.0</td>\n",
              "      <td>0.5</td>\n",
              "    </tr>\n",
              "  </tbody>\n",
              "</table>\n",
              "</div>"
            ],
            "text/plain": [
              "       UserID                                   Game  ... Purchased  Played_hours\n",
              "0   151603712             The Elder Scrolls V Skyrim  ...       1.0         273.0\n",
              "1   151603712                              Fallout 4  ...       1.0          87.0\n",
              "2   151603712                                  Spore  ...       1.0          14.9\n",
              "3   151603712                      Fallout New Vegas  ...       1.0          12.1\n",
              "4   151603712                          Left 4 Dead 2  ...       1.0           8.9\n",
              "5   151603712                               HuniePop  ...       1.0           8.5\n",
              "6   151603712                          Path of Exile  ...       1.0           8.1\n",
              "7   151603712                            Poly Bridge  ...       1.0           7.5\n",
              "8   151603712                            Left 4 Dead  ...       1.0           3.3\n",
              "9   151603712                        Team Fortress 2  ...       1.0           2.8\n",
              "10  151603712                            Tomb Raider  ...       1.0           2.5\n",
              "11  151603712                        The Banner Saga  ...       1.0           2.0\n",
              "12  151603712                   Dead Island Epidemic  ...       1.0           1.4\n",
              "13  151603712                      BioShock Infinite  ...       1.0           1.3\n",
              "14  151603712  Dragon Age Origins - Ultimate Edition  ...       1.0           1.3\n",
              "15  151603712   Fallout 3 - Game of the Year Edition  ...       1.0           0.8\n",
              "16  151603712     SEGA Genesis & Mega Drive Classics  ...       1.0           0.8\n",
              "17  151603712                    Grand Theft Auto IV  ...       1.0           0.6\n",
              "18  151603712                   Realm of the Mad God  ...       1.0           0.5\n",
              "19  151603712                     Marvel Heroes 2015  ...       1.0           0.5\n",
              "\n",
              "[20 rows x 5 columns]"
            ]
          },
          "metadata": {
            "tags": []
          },
          "execution_count": 17
        }
      ]
    },
    {
      "cell_type": "markdown",
      "metadata": {
        "id": "sutle7QonRpX",
        "colab_type": "text"
      },
      "source": [
        "### Create a ranking system for games per user ID"
      ]
    },
    {
      "cell_type": "code",
      "metadata": {
        "trusted": true,
        "id": "I2onFo6oHT2Q",
        "colab_type": "code",
        "colab": {}
      },
      "source": [
        "#Ranking = lambda x: pd.qcut(x,10,labels=False,duplicates='drop')\n",
        "#total_dataset['Ranking'] = total_dataset.groupby('UserID')['Played_hours'].apply(Ranking)"
      ],
      "execution_count": 0,
      "outputs": []
    },
    {
      "cell_type": "code",
      "metadata": {
        "id": "bktOnlwMmGWv",
        "colab_type": "code",
        "colab": {}
      },
      "source": [
        "total_dataset['Ranking'] = total_dataset.groupby('UserID')['Played_hours'].transform(pd.cut, 10, labels=False,duplicates = \"drop\")+1.0"
      ],
      "execution_count": 0,
      "outputs": []
    },
    {
      "cell_type": "code",
      "metadata": {
        "id": "S4kwC4u4mX5_",
        "colab_type": "code",
        "outputId": "f3a717f2-2fc4-4ed2-d847-00b517417e6d",
        "colab": {
          "base_uri": "https://localhost:8080/",
          "height": 990
        }
      },
      "source": [
        "total_dataset.head(30)"
      ],
      "execution_count": 20,
      "outputs": [
        {
          "output_type": "execute_result",
          "data": {
            "text/html": [
              "<div>\n",
              "<style scoped>\n",
              "    .dataframe tbody tr th:only-of-type {\n",
              "        vertical-align: middle;\n",
              "    }\n",
              "\n",
              "    .dataframe tbody tr th {\n",
              "        vertical-align: top;\n",
              "    }\n",
              "\n",
              "    .dataframe thead th {\n",
              "        text-align: right;\n",
              "    }\n",
              "</style>\n",
              "<table border=\"1\" class=\"dataframe\">\n",
              "  <thead>\n",
              "    <tr style=\"text-align: right;\">\n",
              "      <th></th>\n",
              "      <th>UserID</th>\n",
              "      <th>Game</th>\n",
              "      <th>Action</th>\n",
              "      <th>Purchased</th>\n",
              "      <th>Played_hours</th>\n",
              "      <th>Ranking</th>\n",
              "    </tr>\n",
              "  </thead>\n",
              "  <tbody>\n",
              "    <tr>\n",
              "      <th>0</th>\n",
              "      <td>151603712</td>\n",
              "      <td>The Elder Scrolls V Skyrim</td>\n",
              "      <td>purchase</td>\n",
              "      <td>1.0</td>\n",
              "      <td>273.0</td>\n",
              "      <td>10.0</td>\n",
              "    </tr>\n",
              "    <tr>\n",
              "      <th>1</th>\n",
              "      <td>151603712</td>\n",
              "      <td>Fallout 4</td>\n",
              "      <td>purchase</td>\n",
              "      <td>1.0</td>\n",
              "      <td>87.0</td>\n",
              "      <td>4.0</td>\n",
              "    </tr>\n",
              "    <tr>\n",
              "      <th>2</th>\n",
              "      <td>151603712</td>\n",
              "      <td>Spore</td>\n",
              "      <td>purchase</td>\n",
              "      <td>1.0</td>\n",
              "      <td>14.9</td>\n",
              "      <td>1.0</td>\n",
              "    </tr>\n",
              "    <tr>\n",
              "      <th>3</th>\n",
              "      <td>151603712</td>\n",
              "      <td>Fallout New Vegas</td>\n",
              "      <td>purchase</td>\n",
              "      <td>1.0</td>\n",
              "      <td>12.1</td>\n",
              "      <td>1.0</td>\n",
              "    </tr>\n",
              "    <tr>\n",
              "      <th>4</th>\n",
              "      <td>151603712</td>\n",
              "      <td>Left 4 Dead 2</td>\n",
              "      <td>purchase</td>\n",
              "      <td>1.0</td>\n",
              "      <td>8.9</td>\n",
              "      <td>1.0</td>\n",
              "    </tr>\n",
              "    <tr>\n",
              "      <th>5</th>\n",
              "      <td>151603712</td>\n",
              "      <td>HuniePop</td>\n",
              "      <td>purchase</td>\n",
              "      <td>1.0</td>\n",
              "      <td>8.5</td>\n",
              "      <td>1.0</td>\n",
              "    </tr>\n",
              "    <tr>\n",
              "      <th>6</th>\n",
              "      <td>151603712</td>\n",
              "      <td>Path of Exile</td>\n",
              "      <td>purchase</td>\n",
              "      <td>1.0</td>\n",
              "      <td>8.1</td>\n",
              "      <td>1.0</td>\n",
              "    </tr>\n",
              "    <tr>\n",
              "      <th>7</th>\n",
              "      <td>151603712</td>\n",
              "      <td>Poly Bridge</td>\n",
              "      <td>purchase</td>\n",
              "      <td>1.0</td>\n",
              "      <td>7.5</td>\n",
              "      <td>1.0</td>\n",
              "    </tr>\n",
              "    <tr>\n",
              "      <th>8</th>\n",
              "      <td>151603712</td>\n",
              "      <td>Left 4 Dead</td>\n",
              "      <td>purchase</td>\n",
              "      <td>1.0</td>\n",
              "      <td>3.3</td>\n",
              "      <td>1.0</td>\n",
              "    </tr>\n",
              "    <tr>\n",
              "      <th>9</th>\n",
              "      <td>151603712</td>\n",
              "      <td>Team Fortress 2</td>\n",
              "      <td>purchase</td>\n",
              "      <td>1.0</td>\n",
              "      <td>2.8</td>\n",
              "      <td>1.0</td>\n",
              "    </tr>\n",
              "    <tr>\n",
              "      <th>10</th>\n",
              "      <td>151603712</td>\n",
              "      <td>Tomb Raider</td>\n",
              "      <td>purchase</td>\n",
              "      <td>1.0</td>\n",
              "      <td>2.5</td>\n",
              "      <td>1.0</td>\n",
              "    </tr>\n",
              "    <tr>\n",
              "      <th>11</th>\n",
              "      <td>151603712</td>\n",
              "      <td>The Banner Saga</td>\n",
              "      <td>purchase</td>\n",
              "      <td>1.0</td>\n",
              "      <td>2.0</td>\n",
              "      <td>1.0</td>\n",
              "    </tr>\n",
              "    <tr>\n",
              "      <th>12</th>\n",
              "      <td>151603712</td>\n",
              "      <td>Dead Island Epidemic</td>\n",
              "      <td>purchase</td>\n",
              "      <td>1.0</td>\n",
              "      <td>1.4</td>\n",
              "      <td>1.0</td>\n",
              "    </tr>\n",
              "    <tr>\n",
              "      <th>13</th>\n",
              "      <td>151603712</td>\n",
              "      <td>BioShock Infinite</td>\n",
              "      <td>purchase</td>\n",
              "      <td>1.0</td>\n",
              "      <td>1.3</td>\n",
              "      <td>1.0</td>\n",
              "    </tr>\n",
              "    <tr>\n",
              "      <th>14</th>\n",
              "      <td>151603712</td>\n",
              "      <td>Dragon Age Origins - Ultimate Edition</td>\n",
              "      <td>purchase</td>\n",
              "      <td>1.0</td>\n",
              "      <td>1.3</td>\n",
              "      <td>1.0</td>\n",
              "    </tr>\n",
              "    <tr>\n",
              "      <th>15</th>\n",
              "      <td>151603712</td>\n",
              "      <td>Fallout 3 - Game of the Year Edition</td>\n",
              "      <td>purchase</td>\n",
              "      <td>1.0</td>\n",
              "      <td>0.8</td>\n",
              "      <td>1.0</td>\n",
              "    </tr>\n",
              "    <tr>\n",
              "      <th>16</th>\n",
              "      <td>151603712</td>\n",
              "      <td>SEGA Genesis &amp; Mega Drive Classics</td>\n",
              "      <td>purchase</td>\n",
              "      <td>1.0</td>\n",
              "      <td>0.8</td>\n",
              "      <td>1.0</td>\n",
              "    </tr>\n",
              "    <tr>\n",
              "      <th>17</th>\n",
              "      <td>151603712</td>\n",
              "      <td>Grand Theft Auto IV</td>\n",
              "      <td>purchase</td>\n",
              "      <td>1.0</td>\n",
              "      <td>0.6</td>\n",
              "      <td>1.0</td>\n",
              "    </tr>\n",
              "    <tr>\n",
              "      <th>18</th>\n",
              "      <td>151603712</td>\n",
              "      <td>Realm of the Mad God</td>\n",
              "      <td>purchase</td>\n",
              "      <td>1.0</td>\n",
              "      <td>0.5</td>\n",
              "      <td>1.0</td>\n",
              "    </tr>\n",
              "    <tr>\n",
              "      <th>19</th>\n",
              "      <td>151603712</td>\n",
              "      <td>Marvel Heroes 2015</td>\n",
              "      <td>purchase</td>\n",
              "      <td>1.0</td>\n",
              "      <td>0.5</td>\n",
              "      <td>1.0</td>\n",
              "    </tr>\n",
              "    <tr>\n",
              "      <th>20</th>\n",
              "      <td>151603712</td>\n",
              "      <td>Eldevin</td>\n",
              "      <td>purchase</td>\n",
              "      <td>1.0</td>\n",
              "      <td>0.5</td>\n",
              "      <td>1.0</td>\n",
              "    </tr>\n",
              "    <tr>\n",
              "      <th>21</th>\n",
              "      <td>151603712</td>\n",
              "      <td>Dota 2</td>\n",
              "      <td>purchase</td>\n",
              "      <td>1.0</td>\n",
              "      <td>0.5</td>\n",
              "      <td>1.0</td>\n",
              "    </tr>\n",
              "    <tr>\n",
              "      <th>22</th>\n",
              "      <td>151603712</td>\n",
              "      <td>BioShock</td>\n",
              "      <td>purchase</td>\n",
              "      <td>1.0</td>\n",
              "      <td>0.5</td>\n",
              "      <td>1.0</td>\n",
              "    </tr>\n",
              "    <tr>\n",
              "      <th>23</th>\n",
              "      <td>151603712</td>\n",
              "      <td>Robocraft</td>\n",
              "      <td>purchase</td>\n",
              "      <td>1.0</td>\n",
              "      <td>0.4</td>\n",
              "      <td>1.0</td>\n",
              "    </tr>\n",
              "    <tr>\n",
              "      <th>24</th>\n",
              "      <td>151603712</td>\n",
              "      <td>Garry's Mod</td>\n",
              "      <td>purchase</td>\n",
              "      <td>1.0</td>\n",
              "      <td>0.1</td>\n",
              "      <td>1.0</td>\n",
              "    </tr>\n",
              "    <tr>\n",
              "      <th>25</th>\n",
              "      <td>151603712</td>\n",
              "      <td>Jazzpunk</td>\n",
              "      <td>purchase</td>\n",
              "      <td>1.0</td>\n",
              "      <td>0.1</td>\n",
              "      <td>1.0</td>\n",
              "    </tr>\n",
              "    <tr>\n",
              "      <th>26</th>\n",
              "      <td>151603712</td>\n",
              "      <td>Alan Wake</td>\n",
              "      <td>purchase</td>\n",
              "      <td>1.0</td>\n",
              "      <td>0.0</td>\n",
              "      <td>1.0</td>\n",
              "    </tr>\n",
              "    <tr>\n",
              "      <th>27</th>\n",
              "      <td>151603712</td>\n",
              "      <td>BioShock 2</td>\n",
              "      <td>purchase</td>\n",
              "      <td>1.0</td>\n",
              "      <td>0.0</td>\n",
              "      <td>1.0</td>\n",
              "    </tr>\n",
              "    <tr>\n",
              "      <th>28</th>\n",
              "      <td>151603712</td>\n",
              "      <td>Fallen Earth</td>\n",
              "      <td>purchase</td>\n",
              "      <td>1.0</td>\n",
              "      <td>0.0</td>\n",
              "      <td>1.0</td>\n",
              "    </tr>\n",
              "    <tr>\n",
              "      <th>29</th>\n",
              "      <td>151603712</td>\n",
              "      <td>Fallout New Vegas Courier's Stash</td>\n",
              "      <td>purchase</td>\n",
              "      <td>1.0</td>\n",
              "      <td>0.0</td>\n",
              "      <td>1.0</td>\n",
              "    </tr>\n",
              "  </tbody>\n",
              "</table>\n",
              "</div>"
            ],
            "text/plain": [
              "       UserID                                   Game  ... Played_hours  Ranking\n",
              "0   151603712             The Elder Scrolls V Skyrim  ...        273.0     10.0\n",
              "1   151603712                              Fallout 4  ...         87.0      4.0\n",
              "2   151603712                                  Spore  ...         14.9      1.0\n",
              "3   151603712                      Fallout New Vegas  ...         12.1      1.0\n",
              "4   151603712                          Left 4 Dead 2  ...          8.9      1.0\n",
              "5   151603712                               HuniePop  ...          8.5      1.0\n",
              "6   151603712                          Path of Exile  ...          8.1      1.0\n",
              "7   151603712                            Poly Bridge  ...          7.5      1.0\n",
              "8   151603712                            Left 4 Dead  ...          3.3      1.0\n",
              "9   151603712                        Team Fortress 2  ...          2.8      1.0\n",
              "10  151603712                            Tomb Raider  ...          2.5      1.0\n",
              "11  151603712                        The Banner Saga  ...          2.0      1.0\n",
              "12  151603712                   Dead Island Epidemic  ...          1.4      1.0\n",
              "13  151603712                      BioShock Infinite  ...          1.3      1.0\n",
              "14  151603712  Dragon Age Origins - Ultimate Edition  ...          1.3      1.0\n",
              "15  151603712   Fallout 3 - Game of the Year Edition  ...          0.8      1.0\n",
              "16  151603712     SEGA Genesis & Mega Drive Classics  ...          0.8      1.0\n",
              "17  151603712                    Grand Theft Auto IV  ...          0.6      1.0\n",
              "18  151603712                   Realm of the Mad God  ...          0.5      1.0\n",
              "19  151603712                     Marvel Heroes 2015  ...          0.5      1.0\n",
              "20  151603712                                Eldevin  ...          0.5      1.0\n",
              "21  151603712                                 Dota 2  ...          0.5      1.0\n",
              "22  151603712                               BioShock  ...          0.5      1.0\n",
              "23  151603712                              Robocraft  ...          0.4      1.0\n",
              "24  151603712                            Garry's Mod  ...          0.1      1.0\n",
              "25  151603712                               Jazzpunk  ...          0.1      1.0\n",
              "26  151603712                              Alan Wake  ...          0.0      1.0\n",
              "27  151603712                             BioShock 2  ...          0.0      1.0\n",
              "28  151603712                           Fallen Earth  ...          0.0      1.0\n",
              "29  151603712      Fallout New Vegas Courier's Stash  ...          0.0      1.0\n",
              "\n",
              "[30 rows x 6 columns]"
            ]
          },
          "metadata": {
            "tags": []
          },
          "execution_count": 20
        }
      ]
    },
    {
      "cell_type": "code",
      "metadata": {
        "trusted": true,
        "id": "9R3r7cz_HT2U",
        "colab_type": "code",
        "outputId": "6c733a6d-5480-439c-bb8b-1b7572263957",
        "colab": {
          "base_uri": "https://localhost:8080/",
          "height": 1000
        }
      },
      "source": [
        "total_dataset.loc[total_dataset[\"UserID\"]==151603712].head(100)"
      ],
      "execution_count": 21,
      "outputs": [
        {
          "output_type": "execute_result",
          "data": {
            "text/html": [
              "<div>\n",
              "<style scoped>\n",
              "    .dataframe tbody tr th:only-of-type {\n",
              "        vertical-align: middle;\n",
              "    }\n",
              "\n",
              "    .dataframe tbody tr th {\n",
              "        vertical-align: top;\n",
              "    }\n",
              "\n",
              "    .dataframe thead th {\n",
              "        text-align: right;\n",
              "    }\n",
              "</style>\n",
              "<table border=\"1\" class=\"dataframe\">\n",
              "  <thead>\n",
              "    <tr style=\"text-align: right;\">\n",
              "      <th></th>\n",
              "      <th>UserID</th>\n",
              "      <th>Game</th>\n",
              "      <th>Action</th>\n",
              "      <th>Purchased</th>\n",
              "      <th>Played_hours</th>\n",
              "      <th>Ranking</th>\n",
              "    </tr>\n",
              "  </thead>\n",
              "  <tbody>\n",
              "    <tr>\n",
              "      <th>0</th>\n",
              "      <td>151603712</td>\n",
              "      <td>The Elder Scrolls V Skyrim</td>\n",
              "      <td>purchase</td>\n",
              "      <td>1.0</td>\n",
              "      <td>273.0</td>\n",
              "      <td>10.0</td>\n",
              "    </tr>\n",
              "    <tr>\n",
              "      <th>1</th>\n",
              "      <td>151603712</td>\n",
              "      <td>Fallout 4</td>\n",
              "      <td>purchase</td>\n",
              "      <td>1.0</td>\n",
              "      <td>87.0</td>\n",
              "      <td>4.0</td>\n",
              "    </tr>\n",
              "    <tr>\n",
              "      <th>2</th>\n",
              "      <td>151603712</td>\n",
              "      <td>Spore</td>\n",
              "      <td>purchase</td>\n",
              "      <td>1.0</td>\n",
              "      <td>14.9</td>\n",
              "      <td>1.0</td>\n",
              "    </tr>\n",
              "    <tr>\n",
              "      <th>3</th>\n",
              "      <td>151603712</td>\n",
              "      <td>Fallout New Vegas</td>\n",
              "      <td>purchase</td>\n",
              "      <td>1.0</td>\n",
              "      <td>12.1</td>\n",
              "      <td>1.0</td>\n",
              "    </tr>\n",
              "    <tr>\n",
              "      <th>4</th>\n",
              "      <td>151603712</td>\n",
              "      <td>Left 4 Dead 2</td>\n",
              "      <td>purchase</td>\n",
              "      <td>1.0</td>\n",
              "      <td>8.9</td>\n",
              "      <td>1.0</td>\n",
              "    </tr>\n",
              "    <tr>\n",
              "      <th>5</th>\n",
              "      <td>151603712</td>\n",
              "      <td>HuniePop</td>\n",
              "      <td>purchase</td>\n",
              "      <td>1.0</td>\n",
              "      <td>8.5</td>\n",
              "      <td>1.0</td>\n",
              "    </tr>\n",
              "    <tr>\n",
              "      <th>6</th>\n",
              "      <td>151603712</td>\n",
              "      <td>Path of Exile</td>\n",
              "      <td>purchase</td>\n",
              "      <td>1.0</td>\n",
              "      <td>8.1</td>\n",
              "      <td>1.0</td>\n",
              "    </tr>\n",
              "    <tr>\n",
              "      <th>7</th>\n",
              "      <td>151603712</td>\n",
              "      <td>Poly Bridge</td>\n",
              "      <td>purchase</td>\n",
              "      <td>1.0</td>\n",
              "      <td>7.5</td>\n",
              "      <td>1.0</td>\n",
              "    </tr>\n",
              "    <tr>\n",
              "      <th>8</th>\n",
              "      <td>151603712</td>\n",
              "      <td>Left 4 Dead</td>\n",
              "      <td>purchase</td>\n",
              "      <td>1.0</td>\n",
              "      <td>3.3</td>\n",
              "      <td>1.0</td>\n",
              "    </tr>\n",
              "    <tr>\n",
              "      <th>9</th>\n",
              "      <td>151603712</td>\n",
              "      <td>Team Fortress 2</td>\n",
              "      <td>purchase</td>\n",
              "      <td>1.0</td>\n",
              "      <td>2.8</td>\n",
              "      <td>1.0</td>\n",
              "    </tr>\n",
              "    <tr>\n",
              "      <th>10</th>\n",
              "      <td>151603712</td>\n",
              "      <td>Tomb Raider</td>\n",
              "      <td>purchase</td>\n",
              "      <td>1.0</td>\n",
              "      <td>2.5</td>\n",
              "      <td>1.0</td>\n",
              "    </tr>\n",
              "    <tr>\n",
              "      <th>11</th>\n",
              "      <td>151603712</td>\n",
              "      <td>The Banner Saga</td>\n",
              "      <td>purchase</td>\n",
              "      <td>1.0</td>\n",
              "      <td>2.0</td>\n",
              "      <td>1.0</td>\n",
              "    </tr>\n",
              "    <tr>\n",
              "      <th>12</th>\n",
              "      <td>151603712</td>\n",
              "      <td>Dead Island Epidemic</td>\n",
              "      <td>purchase</td>\n",
              "      <td>1.0</td>\n",
              "      <td>1.4</td>\n",
              "      <td>1.0</td>\n",
              "    </tr>\n",
              "    <tr>\n",
              "      <th>13</th>\n",
              "      <td>151603712</td>\n",
              "      <td>BioShock Infinite</td>\n",
              "      <td>purchase</td>\n",
              "      <td>1.0</td>\n",
              "      <td>1.3</td>\n",
              "      <td>1.0</td>\n",
              "    </tr>\n",
              "    <tr>\n",
              "      <th>14</th>\n",
              "      <td>151603712</td>\n",
              "      <td>Dragon Age Origins - Ultimate Edition</td>\n",
              "      <td>purchase</td>\n",
              "      <td>1.0</td>\n",
              "      <td>1.3</td>\n",
              "      <td>1.0</td>\n",
              "    </tr>\n",
              "    <tr>\n",
              "      <th>15</th>\n",
              "      <td>151603712</td>\n",
              "      <td>Fallout 3 - Game of the Year Edition</td>\n",
              "      <td>purchase</td>\n",
              "      <td>1.0</td>\n",
              "      <td>0.8</td>\n",
              "      <td>1.0</td>\n",
              "    </tr>\n",
              "    <tr>\n",
              "      <th>16</th>\n",
              "      <td>151603712</td>\n",
              "      <td>SEGA Genesis &amp; Mega Drive Classics</td>\n",
              "      <td>purchase</td>\n",
              "      <td>1.0</td>\n",
              "      <td>0.8</td>\n",
              "      <td>1.0</td>\n",
              "    </tr>\n",
              "    <tr>\n",
              "      <th>17</th>\n",
              "      <td>151603712</td>\n",
              "      <td>Grand Theft Auto IV</td>\n",
              "      <td>purchase</td>\n",
              "      <td>1.0</td>\n",
              "      <td>0.6</td>\n",
              "      <td>1.0</td>\n",
              "    </tr>\n",
              "    <tr>\n",
              "      <th>18</th>\n",
              "      <td>151603712</td>\n",
              "      <td>Realm of the Mad God</td>\n",
              "      <td>purchase</td>\n",
              "      <td>1.0</td>\n",
              "      <td>0.5</td>\n",
              "      <td>1.0</td>\n",
              "    </tr>\n",
              "    <tr>\n",
              "      <th>19</th>\n",
              "      <td>151603712</td>\n",
              "      <td>Marvel Heroes 2015</td>\n",
              "      <td>purchase</td>\n",
              "      <td>1.0</td>\n",
              "      <td>0.5</td>\n",
              "      <td>1.0</td>\n",
              "    </tr>\n",
              "    <tr>\n",
              "      <th>20</th>\n",
              "      <td>151603712</td>\n",
              "      <td>Eldevin</td>\n",
              "      <td>purchase</td>\n",
              "      <td>1.0</td>\n",
              "      <td>0.5</td>\n",
              "      <td>1.0</td>\n",
              "    </tr>\n",
              "    <tr>\n",
              "      <th>21</th>\n",
              "      <td>151603712</td>\n",
              "      <td>Dota 2</td>\n",
              "      <td>purchase</td>\n",
              "      <td>1.0</td>\n",
              "      <td>0.5</td>\n",
              "      <td>1.0</td>\n",
              "    </tr>\n",
              "    <tr>\n",
              "      <th>22</th>\n",
              "      <td>151603712</td>\n",
              "      <td>BioShock</td>\n",
              "      <td>purchase</td>\n",
              "      <td>1.0</td>\n",
              "      <td>0.5</td>\n",
              "      <td>1.0</td>\n",
              "    </tr>\n",
              "    <tr>\n",
              "      <th>23</th>\n",
              "      <td>151603712</td>\n",
              "      <td>Robocraft</td>\n",
              "      <td>purchase</td>\n",
              "      <td>1.0</td>\n",
              "      <td>0.4</td>\n",
              "      <td>1.0</td>\n",
              "    </tr>\n",
              "    <tr>\n",
              "      <th>24</th>\n",
              "      <td>151603712</td>\n",
              "      <td>Garry's Mod</td>\n",
              "      <td>purchase</td>\n",
              "      <td>1.0</td>\n",
              "      <td>0.1</td>\n",
              "      <td>1.0</td>\n",
              "    </tr>\n",
              "    <tr>\n",
              "      <th>25</th>\n",
              "      <td>151603712</td>\n",
              "      <td>Jazzpunk</td>\n",
              "      <td>purchase</td>\n",
              "      <td>1.0</td>\n",
              "      <td>0.1</td>\n",
              "      <td>1.0</td>\n",
              "    </tr>\n",
              "    <tr>\n",
              "      <th>26</th>\n",
              "      <td>151603712</td>\n",
              "      <td>Alan Wake</td>\n",
              "      <td>purchase</td>\n",
              "      <td>1.0</td>\n",
              "      <td>0.0</td>\n",
              "      <td>1.0</td>\n",
              "    </tr>\n",
              "    <tr>\n",
              "      <th>27</th>\n",
              "      <td>151603712</td>\n",
              "      <td>BioShock 2</td>\n",
              "      <td>purchase</td>\n",
              "      <td>1.0</td>\n",
              "      <td>0.0</td>\n",
              "      <td>1.0</td>\n",
              "    </tr>\n",
              "    <tr>\n",
              "      <th>28</th>\n",
              "      <td>151603712</td>\n",
              "      <td>Fallen Earth</td>\n",
              "      <td>purchase</td>\n",
              "      <td>1.0</td>\n",
              "      <td>0.0</td>\n",
              "      <td>1.0</td>\n",
              "    </tr>\n",
              "    <tr>\n",
              "      <th>29</th>\n",
              "      <td>151603712</td>\n",
              "      <td>Fallout New Vegas Courier's Stash</td>\n",
              "      <td>purchase</td>\n",
              "      <td>1.0</td>\n",
              "      <td>0.0</td>\n",
              "      <td>1.0</td>\n",
              "    </tr>\n",
              "    <tr>\n",
              "      <th>30</th>\n",
              "      <td>151603712</td>\n",
              "      <td>Fallout New Vegas Dead Money</td>\n",
              "      <td>purchase</td>\n",
              "      <td>1.0</td>\n",
              "      <td>0.0</td>\n",
              "      <td>1.0</td>\n",
              "    </tr>\n",
              "    <tr>\n",
              "      <th>31</th>\n",
              "      <td>151603712</td>\n",
              "      <td>Fallout New Vegas Honest Hearts</td>\n",
              "      <td>purchase</td>\n",
              "      <td>1.0</td>\n",
              "      <td>0.0</td>\n",
              "      <td>1.0</td>\n",
              "    </tr>\n",
              "    <tr>\n",
              "      <th>32</th>\n",
              "      <td>151603712</td>\n",
              "      <td>Grand Theft Auto Episodes from Liberty City</td>\n",
              "      <td>purchase</td>\n",
              "      <td>1.0</td>\n",
              "      <td>0.0</td>\n",
              "      <td>1.0</td>\n",
              "    </tr>\n",
              "    <tr>\n",
              "      <th>33</th>\n",
              "      <td>151603712</td>\n",
              "      <td>Hitman Absolution</td>\n",
              "      <td>purchase</td>\n",
              "      <td>1.0</td>\n",
              "      <td>0.0</td>\n",
              "      <td>1.0</td>\n",
              "    </tr>\n",
              "    <tr>\n",
              "      <th>34</th>\n",
              "      <td>151603712</td>\n",
              "      <td>HuniePop Official Digital Art Collection</td>\n",
              "      <td>purchase</td>\n",
              "      <td>1.0</td>\n",
              "      <td>0.0</td>\n",
              "      <td>1.0</td>\n",
              "    </tr>\n",
              "    <tr>\n",
              "      <th>35</th>\n",
              "      <td>151603712</td>\n",
              "      <td>HuniePop Original Soundtrack</td>\n",
              "      <td>purchase</td>\n",
              "      <td>1.0</td>\n",
              "      <td>0.0</td>\n",
              "      <td>1.0</td>\n",
              "    </tr>\n",
              "    <tr>\n",
              "      <th>36</th>\n",
              "      <td>151603712</td>\n",
              "      <td>The Banner Saga - Mod Content</td>\n",
              "      <td>purchase</td>\n",
              "      <td>1.0</td>\n",
              "      <td>0.0</td>\n",
              "      <td>1.0</td>\n",
              "    </tr>\n",
              "    <tr>\n",
              "      <th>37</th>\n",
              "      <td>151603712</td>\n",
              "      <td>The Elder Scrolls V Skyrim - Dawnguard</td>\n",
              "      <td>purchase</td>\n",
              "      <td>1.0</td>\n",
              "      <td>0.0</td>\n",
              "      <td>1.0</td>\n",
              "    </tr>\n",
              "    <tr>\n",
              "      <th>38</th>\n",
              "      <td>151603712</td>\n",
              "      <td>The Elder Scrolls V Skyrim - Dragonborn</td>\n",
              "      <td>purchase</td>\n",
              "      <td>1.0</td>\n",
              "      <td>0.0</td>\n",
              "      <td>1.0</td>\n",
              "    </tr>\n",
              "    <tr>\n",
              "      <th>39</th>\n",
              "      <td>151603712</td>\n",
              "      <td>The Elder Scrolls V Skyrim - Hearthfire</td>\n",
              "      <td>purchase</td>\n",
              "      <td>1.0</td>\n",
              "      <td>0.0</td>\n",
              "      <td>1.0</td>\n",
              "    </tr>\n",
              "  </tbody>\n",
              "</table>\n",
              "</div>"
            ],
            "text/plain": [
              "       UserID  ... Ranking\n",
              "0   151603712  ...    10.0\n",
              "1   151603712  ...     4.0\n",
              "2   151603712  ...     1.0\n",
              "3   151603712  ...     1.0\n",
              "4   151603712  ...     1.0\n",
              "5   151603712  ...     1.0\n",
              "6   151603712  ...     1.0\n",
              "7   151603712  ...     1.0\n",
              "8   151603712  ...     1.0\n",
              "9   151603712  ...     1.0\n",
              "10  151603712  ...     1.0\n",
              "11  151603712  ...     1.0\n",
              "12  151603712  ...     1.0\n",
              "13  151603712  ...     1.0\n",
              "14  151603712  ...     1.0\n",
              "15  151603712  ...     1.0\n",
              "16  151603712  ...     1.0\n",
              "17  151603712  ...     1.0\n",
              "18  151603712  ...     1.0\n",
              "19  151603712  ...     1.0\n",
              "20  151603712  ...     1.0\n",
              "21  151603712  ...     1.0\n",
              "22  151603712  ...     1.0\n",
              "23  151603712  ...     1.0\n",
              "24  151603712  ...     1.0\n",
              "25  151603712  ...     1.0\n",
              "26  151603712  ...     1.0\n",
              "27  151603712  ...     1.0\n",
              "28  151603712  ...     1.0\n",
              "29  151603712  ...     1.0\n",
              "30  151603712  ...     1.0\n",
              "31  151603712  ...     1.0\n",
              "32  151603712  ...     1.0\n",
              "33  151603712  ...     1.0\n",
              "34  151603712  ...     1.0\n",
              "35  151603712  ...     1.0\n",
              "36  151603712  ...     1.0\n",
              "37  151603712  ...     1.0\n",
              "38  151603712  ...     1.0\n",
              "39  151603712  ...     1.0\n",
              "\n",
              "[40 rows x 6 columns]"
            ]
          },
          "metadata": {
            "tags": []
          },
          "execution_count": 21
        }
      ]
    },
    {
      "cell_type": "markdown",
      "metadata": {
        "id": "tiYNjTvRn3th",
        "colab_type": "text"
      },
      "source": [
        "### Create a clean dataset by dropping redundant columns"
      ]
    },
    {
      "cell_type": "code",
      "metadata": {
        "id": "toLQ_iWkKqSs",
        "colab_type": "code",
        "outputId": "d69e2a09-ec9b-473f-d5f3-cf9d184feca6",
        "colab": {
          "base_uri": "https://localhost:8080/",
          "height": 677
        }
      },
      "source": [
        "clean_df = total_dataset.drop([\"Purchased\",\"Action\"],axis = 1)\n",
        "clean_df.head(20)"
      ],
      "execution_count": 22,
      "outputs": [
        {
          "output_type": "execute_result",
          "data": {
            "text/html": [
              "<div>\n",
              "<style scoped>\n",
              "    .dataframe tbody tr th:only-of-type {\n",
              "        vertical-align: middle;\n",
              "    }\n",
              "\n",
              "    .dataframe tbody tr th {\n",
              "        vertical-align: top;\n",
              "    }\n",
              "\n",
              "    .dataframe thead th {\n",
              "        text-align: right;\n",
              "    }\n",
              "</style>\n",
              "<table border=\"1\" class=\"dataframe\">\n",
              "  <thead>\n",
              "    <tr style=\"text-align: right;\">\n",
              "      <th></th>\n",
              "      <th>UserID</th>\n",
              "      <th>Game</th>\n",
              "      <th>Played_hours</th>\n",
              "      <th>Ranking</th>\n",
              "    </tr>\n",
              "  </thead>\n",
              "  <tbody>\n",
              "    <tr>\n",
              "      <th>0</th>\n",
              "      <td>151603712</td>\n",
              "      <td>The Elder Scrolls V Skyrim</td>\n",
              "      <td>273.0</td>\n",
              "      <td>10.0</td>\n",
              "    </tr>\n",
              "    <tr>\n",
              "      <th>1</th>\n",
              "      <td>151603712</td>\n",
              "      <td>Fallout 4</td>\n",
              "      <td>87.0</td>\n",
              "      <td>4.0</td>\n",
              "    </tr>\n",
              "    <tr>\n",
              "      <th>2</th>\n",
              "      <td>151603712</td>\n",
              "      <td>Spore</td>\n",
              "      <td>14.9</td>\n",
              "      <td>1.0</td>\n",
              "    </tr>\n",
              "    <tr>\n",
              "      <th>3</th>\n",
              "      <td>151603712</td>\n",
              "      <td>Fallout New Vegas</td>\n",
              "      <td>12.1</td>\n",
              "      <td>1.0</td>\n",
              "    </tr>\n",
              "    <tr>\n",
              "      <th>4</th>\n",
              "      <td>151603712</td>\n",
              "      <td>Left 4 Dead 2</td>\n",
              "      <td>8.9</td>\n",
              "      <td>1.0</td>\n",
              "    </tr>\n",
              "    <tr>\n",
              "      <th>5</th>\n",
              "      <td>151603712</td>\n",
              "      <td>HuniePop</td>\n",
              "      <td>8.5</td>\n",
              "      <td>1.0</td>\n",
              "    </tr>\n",
              "    <tr>\n",
              "      <th>6</th>\n",
              "      <td>151603712</td>\n",
              "      <td>Path of Exile</td>\n",
              "      <td>8.1</td>\n",
              "      <td>1.0</td>\n",
              "    </tr>\n",
              "    <tr>\n",
              "      <th>7</th>\n",
              "      <td>151603712</td>\n",
              "      <td>Poly Bridge</td>\n",
              "      <td>7.5</td>\n",
              "      <td>1.0</td>\n",
              "    </tr>\n",
              "    <tr>\n",
              "      <th>8</th>\n",
              "      <td>151603712</td>\n",
              "      <td>Left 4 Dead</td>\n",
              "      <td>3.3</td>\n",
              "      <td>1.0</td>\n",
              "    </tr>\n",
              "    <tr>\n",
              "      <th>9</th>\n",
              "      <td>151603712</td>\n",
              "      <td>Team Fortress 2</td>\n",
              "      <td>2.8</td>\n",
              "      <td>1.0</td>\n",
              "    </tr>\n",
              "    <tr>\n",
              "      <th>10</th>\n",
              "      <td>151603712</td>\n",
              "      <td>Tomb Raider</td>\n",
              "      <td>2.5</td>\n",
              "      <td>1.0</td>\n",
              "    </tr>\n",
              "    <tr>\n",
              "      <th>11</th>\n",
              "      <td>151603712</td>\n",
              "      <td>The Banner Saga</td>\n",
              "      <td>2.0</td>\n",
              "      <td>1.0</td>\n",
              "    </tr>\n",
              "    <tr>\n",
              "      <th>12</th>\n",
              "      <td>151603712</td>\n",
              "      <td>Dead Island Epidemic</td>\n",
              "      <td>1.4</td>\n",
              "      <td>1.0</td>\n",
              "    </tr>\n",
              "    <tr>\n",
              "      <th>13</th>\n",
              "      <td>151603712</td>\n",
              "      <td>BioShock Infinite</td>\n",
              "      <td>1.3</td>\n",
              "      <td>1.0</td>\n",
              "    </tr>\n",
              "    <tr>\n",
              "      <th>14</th>\n",
              "      <td>151603712</td>\n",
              "      <td>Dragon Age Origins - Ultimate Edition</td>\n",
              "      <td>1.3</td>\n",
              "      <td>1.0</td>\n",
              "    </tr>\n",
              "    <tr>\n",
              "      <th>15</th>\n",
              "      <td>151603712</td>\n",
              "      <td>Fallout 3 - Game of the Year Edition</td>\n",
              "      <td>0.8</td>\n",
              "      <td>1.0</td>\n",
              "    </tr>\n",
              "    <tr>\n",
              "      <th>16</th>\n",
              "      <td>151603712</td>\n",
              "      <td>SEGA Genesis &amp; Mega Drive Classics</td>\n",
              "      <td>0.8</td>\n",
              "      <td>1.0</td>\n",
              "    </tr>\n",
              "    <tr>\n",
              "      <th>17</th>\n",
              "      <td>151603712</td>\n",
              "      <td>Grand Theft Auto IV</td>\n",
              "      <td>0.6</td>\n",
              "      <td>1.0</td>\n",
              "    </tr>\n",
              "    <tr>\n",
              "      <th>18</th>\n",
              "      <td>151603712</td>\n",
              "      <td>Realm of the Mad God</td>\n",
              "      <td>0.5</td>\n",
              "      <td>1.0</td>\n",
              "    </tr>\n",
              "    <tr>\n",
              "      <th>19</th>\n",
              "      <td>151603712</td>\n",
              "      <td>Marvel Heroes 2015</td>\n",
              "      <td>0.5</td>\n",
              "      <td>1.0</td>\n",
              "    </tr>\n",
              "  </tbody>\n",
              "</table>\n",
              "</div>"
            ],
            "text/plain": [
              "       UserID                                   Game  Played_hours  Ranking\n",
              "0   151603712             The Elder Scrolls V Skyrim         273.0     10.0\n",
              "1   151603712                              Fallout 4          87.0      4.0\n",
              "2   151603712                                  Spore          14.9      1.0\n",
              "3   151603712                      Fallout New Vegas          12.1      1.0\n",
              "4   151603712                          Left 4 Dead 2           8.9      1.0\n",
              "5   151603712                               HuniePop           8.5      1.0\n",
              "6   151603712                          Path of Exile           8.1      1.0\n",
              "7   151603712                            Poly Bridge           7.5      1.0\n",
              "8   151603712                            Left 4 Dead           3.3      1.0\n",
              "9   151603712                        Team Fortress 2           2.8      1.0\n",
              "10  151603712                            Tomb Raider           2.5      1.0\n",
              "11  151603712                        The Banner Saga           2.0      1.0\n",
              "12  151603712                   Dead Island Epidemic           1.4      1.0\n",
              "13  151603712                      BioShock Infinite           1.3      1.0\n",
              "14  151603712  Dragon Age Origins - Ultimate Edition           1.3      1.0\n",
              "15  151603712   Fallout 3 - Game of the Year Edition           0.8      1.0\n",
              "16  151603712     SEGA Genesis & Mega Drive Classics           0.8      1.0\n",
              "17  151603712                    Grand Theft Auto IV           0.6      1.0\n",
              "18  151603712                   Realm of the Mad God           0.5      1.0\n",
              "19  151603712                     Marvel Heroes 2015           0.5      1.0"
            ]
          },
          "metadata": {
            "tags": []
          },
          "execution_count": 22
        }
      ]
    },
    {
      "cell_type": "code",
      "metadata": {
        "id": "MQnVtpD-tAUn",
        "colab_type": "code",
        "colab": {}
      },
      "source": [
        ""
      ],
      "execution_count": 0,
      "outputs": []
    },
    {
      "cell_type": "markdown",
      "metadata": {
        "id": "Ko_OrY3OoAOq",
        "colab_type": "text"
      },
      "source": [
        "### Display top 5 users based on number of games"
      ]
    },
    {
      "cell_type": "code",
      "metadata": {
        "id": "UWQc9dPMS5sG",
        "colab_type": "code",
        "outputId": "e2b9a7eb-0a39-4089-e448-e993861faecc",
        "colab": {
          "base_uri": "https://localhost:8080/",
          "height": 231
        }
      },
      "source": [
        "clean_df[\"UserID\"].value_counts()"
      ],
      "execution_count": 23,
      "outputs": [
        {
          "output_type": "execute_result",
          "data": {
            "text/plain": [
              "62990992     1075\n",
              "33865373      785\n",
              "30246419      766\n",
              "58345543      667\n",
              "76892907      597\n",
              "             ... \n",
              "149194171       1\n",
              "207945140       1\n",
              "130315685       1\n",
              "282733934       1\n",
              "214618086       1\n",
              "Name: UserID, Length: 12393, dtype: int64"
            ]
          },
          "metadata": {
            "tags": []
          },
          "execution_count": 23
        }
      ]
    },
    {
      "cell_type": "markdown",
      "metadata": {
        "id": "2BLIsNHMoa0J",
        "colab_type": "text"
      },
      "source": [
        "# SECTION 3 - RECOMMENDATION SYSTEM - FACTORIZATION RECOMMENDER"
      ]
    },
    {
      "cell_type": "markdown",
      "metadata": {
        "id": "LT4pjFsOokGR",
        "colab_type": "text"
      },
      "source": [
        "### Create a SFRame from the clean dataframe"
      ]
    },
    {
      "cell_type": "code",
      "metadata": {
        "id": "ukSU5Y-lPimz",
        "colab_type": "code",
        "colab": {}
      },
      "source": [
        "dfS = tc.SFrame(clean_df)"
      ],
      "execution_count": 0,
      "outputs": []
    },
    {
      "cell_type": "markdown",
      "metadata": {
        "id": "Qo-rMg3Fosny",
        "colab_type": "text"
      },
      "source": [
        "### Factorization Recommender System\n"
      ]
    },
    {
      "cell_type": "code",
      "metadata": {
        "id": "EQTIWcBlK6OP",
        "colab_type": "code",
        "outputId": "62cb8c7b-9b1c-411c-dc33-d2e15185b976",
        "colab": {
          "base_uri": "https://localhost:8080/",
          "height": 833
        }
      },
      "source": [
        "m = tc.factorization_recommender.create(dfS,\n",
        "\t\t\t                              user_id='UserID',\n",
        "                                    item_id='Game',\n",
        "                                    target='Ranking')"
      ],
      "execution_count": 25,
      "outputs": [
        {
          "output_type": "display_data",
          "data": {
            "text/html": [
              "<pre>Preparing data set.</pre>"
            ],
            "text/plain": [
              "Preparing data set."
            ]
          },
          "metadata": {
            "tags": []
          }
        },
        {
          "output_type": "display_data",
          "data": {
            "text/html": [
              "<pre>    Data has 129535 observations with 12393 users and 5155 items.</pre>"
            ],
            "text/plain": [
              "    Data has 129535 observations with 12393 users and 5155 items."
            ]
          },
          "metadata": {
            "tags": []
          }
        },
        {
          "output_type": "display_data",
          "data": {
            "text/html": [
              "<pre>    Data prepared in: 0.185135s</pre>"
            ],
            "text/plain": [
              "    Data prepared in: 0.185135s"
            ]
          },
          "metadata": {
            "tags": []
          }
        },
        {
          "output_type": "display_data",
          "data": {
            "text/html": [
              "<pre>Training factorization_recommender for recommendations.</pre>"
            ],
            "text/plain": [
              "Training factorization_recommender for recommendations."
            ]
          },
          "metadata": {
            "tags": []
          }
        },
        {
          "output_type": "display_data",
          "data": {
            "text/html": [
              "<pre>+--------------------------------+--------------------------------------------------+----------+</pre>"
            ],
            "text/plain": [
              "+--------------------------------+--------------------------------------------------+----------+"
            ]
          },
          "metadata": {
            "tags": []
          }
        },
        {
          "output_type": "display_data",
          "data": {
            "text/html": [
              "<pre>| Parameter                      | Description                                      | Value    |</pre>"
            ],
            "text/plain": [
              "| Parameter                      | Description                                      | Value    |"
            ]
          },
          "metadata": {
            "tags": []
          }
        },
        {
          "output_type": "display_data",
          "data": {
            "text/html": [
              "<pre>+--------------------------------+--------------------------------------------------+----------+</pre>"
            ],
            "text/plain": [
              "+--------------------------------+--------------------------------------------------+----------+"
            ]
          },
          "metadata": {
            "tags": []
          }
        },
        {
          "output_type": "display_data",
          "data": {
            "text/html": [
              "<pre>| num_factors                    | Factor Dimension                                 | 8        |</pre>"
            ],
            "text/plain": [
              "| num_factors                    | Factor Dimension                                 | 8        |"
            ]
          },
          "metadata": {
            "tags": []
          }
        },
        {
          "output_type": "display_data",
          "data": {
            "text/html": [
              "<pre>| regularization                 | L2 Regularization on Factors                     | 1e-08    |</pre>"
            ],
            "text/plain": [
              "| regularization                 | L2 Regularization on Factors                     | 1e-08    |"
            ]
          },
          "metadata": {
            "tags": []
          }
        },
        {
          "output_type": "display_data",
          "data": {
            "text/html": [
              "<pre>| solver                         | Solver used for training                         | adagrad  |</pre>"
            ],
            "text/plain": [
              "| solver                         | Solver used for training                         | adagrad  |"
            ]
          },
          "metadata": {
            "tags": []
          }
        },
        {
          "output_type": "display_data",
          "data": {
            "text/html": [
              "<pre>| linear_regularization          | L2 Regularization on Linear Coefficients         | 1e-10    |</pre>"
            ],
            "text/plain": [
              "| linear_regularization          | L2 Regularization on Linear Coefficients         | 1e-10    |"
            ]
          },
          "metadata": {
            "tags": []
          }
        },
        {
          "output_type": "display_data",
          "data": {
            "text/html": [
              "<pre>| max_iterations                 | Maximum Number of Iterations                     | 50       |</pre>"
            ],
            "text/plain": [
              "| max_iterations                 | Maximum Number of Iterations                     | 50       |"
            ]
          },
          "metadata": {
            "tags": []
          }
        },
        {
          "output_type": "display_data",
          "data": {
            "text/html": [
              "<pre>+--------------------------------+--------------------------------------------------+----------+</pre>"
            ],
            "text/plain": [
              "+--------------------------------+--------------------------------------------------+----------+"
            ]
          },
          "metadata": {
            "tags": []
          }
        },
        {
          "output_type": "display_data",
          "data": {
            "text/html": [
              "<pre>  Optimizing model using SGD; tuning step size.</pre>"
            ],
            "text/plain": [
              "  Optimizing model using SGD; tuning step size."
            ]
          },
          "metadata": {
            "tags": []
          }
        },
        {
          "output_type": "display_data",
          "data": {
            "text/html": [
              "<pre>  Using 16191 / 129535 points for tuning the step size.</pre>"
            ],
            "text/plain": [
              "  Using 16191 / 129535 points for tuning the step size."
            ]
          },
          "metadata": {
            "tags": []
          }
        },
        {
          "output_type": "display_data",
          "data": {
            "text/html": [
              "<pre>+---------+-------------------+------------------------------------------+</pre>"
            ],
            "text/plain": [
              "+---------+-------------------+------------------------------------------+"
            ]
          },
          "metadata": {
            "tags": []
          }
        },
        {
          "output_type": "display_data",
          "data": {
            "text/html": [
              "<pre>| Attempt | Initial Step Size | Estimated Objective Value                |</pre>"
            ],
            "text/plain": [
              "| Attempt | Initial Step Size | Estimated Objective Value                |"
            ]
          },
          "metadata": {
            "tags": []
          }
        },
        {
          "output_type": "display_data",
          "data": {
            "text/html": [
              "<pre>+---------+-------------------+------------------------------------------+</pre>"
            ],
            "text/plain": [
              "+---------+-------------------+------------------------------------------+"
            ]
          },
          "metadata": {
            "tags": []
          }
        },
        {
          "output_type": "display_data",
          "data": {
            "text/html": [
              "<pre>| 0       | 16.6667           | Not Viable                               |</pre>"
            ],
            "text/plain": [
              "| 0       | 16.6667           | Not Viable                               |"
            ]
          },
          "metadata": {
            "tags": []
          }
        },
        {
          "output_type": "display_data",
          "data": {
            "text/html": [
              "<pre>| 1       | 4.16667           | Not Viable                               |</pre>"
            ],
            "text/plain": [
              "| 1       | 4.16667           | Not Viable                               |"
            ]
          },
          "metadata": {
            "tags": []
          }
        },
        {
          "output_type": "display_data",
          "data": {
            "text/html": [
              "<pre>| 2       | 1.04167           | Not Viable                               |</pre>"
            ],
            "text/plain": [
              "| 2       | 1.04167           | Not Viable                               |"
            ]
          },
          "metadata": {
            "tags": []
          }
        },
        {
          "output_type": "display_data",
          "data": {
            "text/html": [
              "<pre>| 3       | 0.260417          | 0.625992                                 |</pre>"
            ],
            "text/plain": [
              "| 3       | 0.260417          | 0.625992                                 |"
            ]
          },
          "metadata": {
            "tags": []
          }
        },
        {
          "output_type": "display_data",
          "data": {
            "text/html": [
              "<pre>| 4       | 0.130208          | 1.29994                                  |</pre>"
            ],
            "text/plain": [
              "| 4       | 0.130208          | 1.29994                                  |"
            ]
          },
          "metadata": {
            "tags": []
          }
        },
        {
          "output_type": "display_data",
          "data": {
            "text/html": [
              "<pre>+---------+-------------------+------------------------------------------+</pre>"
            ],
            "text/plain": [
              "+---------+-------------------+------------------------------------------+"
            ]
          },
          "metadata": {
            "tags": []
          }
        },
        {
          "output_type": "display_data",
          "data": {
            "text/html": [
              "<pre>| Final   | 0.260417          | 0.625992                                 |</pre>"
            ],
            "text/plain": [
              "| Final   | 0.260417          | 0.625992                                 |"
            ]
          },
          "metadata": {
            "tags": []
          }
        },
        {
          "output_type": "display_data",
          "data": {
            "text/html": [
              "<pre>+---------+-------------------+------------------------------------------+</pre>"
            ],
            "text/plain": [
              "+---------+-------------------+------------------------------------------+"
            ]
          },
          "metadata": {
            "tags": []
          }
        },
        {
          "output_type": "display_data",
          "data": {
            "text/html": [
              "<pre>Starting Optimization.</pre>"
            ],
            "text/plain": [
              "Starting Optimization."
            ]
          },
          "metadata": {
            "tags": []
          }
        },
        {
          "output_type": "display_data",
          "data": {
            "text/html": [
              "<pre>+---------+--------------+-------------------+-----------------------+-------------+</pre>"
            ],
            "text/plain": [
              "+---------+--------------+-------------------+-----------------------+-------------+"
            ]
          },
          "metadata": {
            "tags": []
          }
        },
        {
          "output_type": "display_data",
          "data": {
            "text/html": [
              "<pre>| Iter.   | Elapsed Time | Approx. Objective | Approx. Training RMSE | Step Size   |</pre>"
            ],
            "text/plain": [
              "| Iter.   | Elapsed Time | Approx. Objective | Approx. Training RMSE | Step Size   |"
            ]
          },
          "metadata": {
            "tags": []
          }
        },
        {
          "output_type": "display_data",
          "data": {
            "text/html": [
              "<pre>+---------+--------------+-------------------+-----------------------+-------------+</pre>"
            ],
            "text/plain": [
              "+---------+--------------+-------------------+-----------------------+-------------+"
            ]
          },
          "metadata": {
            "tags": []
          }
        },
        {
          "output_type": "display_data",
          "data": {
            "text/html": [
              "<pre>| Initial | 68us         | 5.10709           | 2.25989               |             |</pre>"
            ],
            "text/plain": [
              "| Initial | 68us         | 5.10709           | 2.25989               |             |"
            ]
          },
          "metadata": {
            "tags": []
          }
        },
        {
          "output_type": "display_data",
          "data": {
            "text/html": [
              "<pre>+---------+--------------+-------------------+-----------------------+-------------+</pre>"
            ],
            "text/plain": [
              "+---------+--------------+-------------------+-----------------------+-------------+"
            ]
          },
          "metadata": {
            "tags": []
          }
        },
        {
          "output_type": "display_data",
          "data": {
            "text/html": [
              "<pre>| 1       | 73.233ms     | 3.28167           | 1.81149               | 0.260417    |</pre>"
            ],
            "text/plain": [
              "| 1       | 73.233ms     | 3.28167           | 1.81149               | 0.260417    |"
            ]
          },
          "metadata": {
            "tags": []
          }
        },
        {
          "output_type": "display_data",
          "data": {
            "text/html": [
              "<pre>| 2       | 140.758ms    | 2.25287           | 1.5009                | 0.260417    |</pre>"
            ],
            "text/plain": [
              "| 2       | 140.758ms    | 2.25287           | 1.5009                | 0.260417    |"
            ]
          },
          "metadata": {
            "tags": []
          }
        },
        {
          "output_type": "display_data",
          "data": {
            "text/html": [
              "<pre>| 3       | 200.829ms    | 1.74155           | 1.31961               | 0.260417    |</pre>"
            ],
            "text/plain": [
              "| 3       | 200.829ms    | 1.74155           | 1.31961               | 0.260417    |"
            ]
          },
          "metadata": {
            "tags": []
          }
        },
        {
          "output_type": "display_data",
          "data": {
            "text/html": [
              "<pre>| 4       | 263.972ms    | 1.42456           | 1.19346               | 0.260417    |</pre>"
            ],
            "text/plain": [
              "| 4       | 263.972ms    | 1.42456           | 1.19346               | 0.260417    |"
            ]
          },
          "metadata": {
            "tags": []
          }
        },
        {
          "output_type": "display_data",
          "data": {
            "text/html": [
              "<pre>| 5       | 326.213ms    | 1.31666           | 1.14736               | 0.260417    |</pre>"
            ],
            "text/plain": [
              "| 5       | 326.213ms    | 1.31666           | 1.14736               | 0.260417    |"
            ]
          },
          "metadata": {
            "tags": []
          }
        },
        {
          "output_type": "display_data",
          "data": {
            "text/html": [
              "<pre>| 10      | 622.667ms    | 1.03564           | 1.01754               | 0.260417    |</pre>"
            ],
            "text/plain": [
              "| 10      | 622.667ms    | 1.03564           | 1.01754               | 0.260417    |"
            ]
          },
          "metadata": {
            "tags": []
          }
        },
        {
          "output_type": "display_data",
          "data": {
            "text/html": [
              "<pre>| 27      | 1.63s        | DIVERGED          | DIVERGED              | 0.260417    |</pre>"
            ],
            "text/plain": [
              "| 27      | 1.63s        | DIVERGED          | DIVERGED              | 0.260417    |"
            ]
          },
          "metadata": {
            "tags": []
          }
        },
        {
          "output_type": "display_data",
          "data": {
            "text/html": [
              "<pre>| RESET   | 1.67s        | 5.10606           | 2.25966               |             |</pre>"
            ],
            "text/plain": [
              "| RESET   | 1.67s        | 5.10606           | 2.25966               |             |"
            ]
          },
          "metadata": {
            "tags": []
          }
        },
        {
          "output_type": "display_data",
          "data": {
            "text/html": [
              "<pre>| 23      | 3.02s        | 6.52762           | 2.55491               | 0.130208    |</pre>"
            ],
            "text/plain": [
              "| 23      | 3.02s        | 6.52762           | 2.55491               | 0.130208    |"
            ]
          },
          "metadata": {
            "tags": []
          }
        },
        {
          "output_type": "display_data",
          "data": {
            "text/html": [
              "<pre>| 28      | 3.32s        | 5.04548           | 2.2462                | 0.130208    |</pre>"
            ],
            "text/plain": [
              "| 28      | 3.32s        | 5.04548           | 2.2462                | 0.130208    |"
            ]
          },
          "metadata": {
            "tags": []
          }
        },
        {
          "output_type": "display_data",
          "data": {
            "text/html": [
              "<pre>+---------+--------------+-------------------+-----------------------+-------------+</pre>"
            ],
            "text/plain": [
              "+---------+--------------+-------------------+-----------------------+-------------+"
            ]
          },
          "metadata": {
            "tags": []
          }
        },
        {
          "output_type": "display_data",
          "data": {
            "text/html": [
              "<pre>Optimization Complete: Maximum number of passes through the data reached (hard limit).</pre>"
            ],
            "text/plain": [
              "Optimization Complete: Maximum number of passes through the data reached (hard limit)."
            ]
          },
          "metadata": {
            "tags": []
          }
        },
        {
          "output_type": "display_data",
          "data": {
            "text/html": [
              "<pre>Computing final objective value and training RMSE.</pre>"
            ],
            "text/plain": [
              "Computing final objective value and training RMSE."
            ]
          },
          "metadata": {
            "tags": []
          }
        },
        {
          "output_type": "display_data",
          "data": {
            "text/html": [
              "<pre>       Final objective value: 5.12791</pre>"
            ],
            "text/plain": [
              "       Final objective value: 5.12791"
            ]
          },
          "metadata": {
            "tags": []
          }
        },
        {
          "output_type": "display_data",
          "data": {
            "text/html": [
              "<pre>       Final training RMSE: 2.26448</pre>"
            ],
            "text/plain": [
              "       Final training RMSE: 2.26448"
            ]
          },
          "metadata": {
            "tags": []
          }
        }
      ]
    },
    {
      "cell_type": "code",
      "metadata": {
        "id": "cLkRbwY7QiNs",
        "colab_type": "code",
        "outputId": "09fe9b54-dc20-40dd-9e33-8a80b7c91f3c",
        "colab": {
          "base_uri": "https://localhost:8080/",
          "height": 225
        }
      },
      "source": [
        "recommendations = m.recommend()"
      ],
      "execution_count": 26,
      "outputs": [
        {
          "output_type": "display_data",
          "data": {
            "text/html": [
              "<pre>recommendations finished on 1000/12393 queries. users per second: 4853.59</pre>"
            ],
            "text/plain": [
              "recommendations finished on 1000/12393 queries. users per second: 4853.59"
            ]
          },
          "metadata": {
            "tags": []
          }
        },
        {
          "output_type": "display_data",
          "data": {
            "text/html": [
              "<pre>recommendations finished on 2000/12393 queries. users per second: 4824.15</pre>"
            ],
            "text/plain": [
              "recommendations finished on 2000/12393 queries. users per second: 4824.15"
            ]
          },
          "metadata": {
            "tags": []
          }
        },
        {
          "output_type": "display_data",
          "data": {
            "text/html": [
              "<pre>recommendations finished on 3000/12393 queries. users per second: 4777.44</pre>"
            ],
            "text/plain": [
              "recommendations finished on 3000/12393 queries. users per second: 4777.44"
            ]
          },
          "metadata": {
            "tags": []
          }
        },
        {
          "output_type": "display_data",
          "data": {
            "text/html": [
              "<pre>recommendations finished on 4000/12393 queries. users per second: 4775.99</pre>"
            ],
            "text/plain": [
              "recommendations finished on 4000/12393 queries. users per second: 4775.99"
            ]
          },
          "metadata": {
            "tags": []
          }
        },
        {
          "output_type": "display_data",
          "data": {
            "text/html": [
              "<pre>recommendations finished on 5000/12393 queries. users per second: 4795.92</pre>"
            ],
            "text/plain": [
              "recommendations finished on 5000/12393 queries. users per second: 4795.92"
            ]
          },
          "metadata": {
            "tags": []
          }
        },
        {
          "output_type": "display_data",
          "data": {
            "text/html": [
              "<pre>recommendations finished on 6000/12393 queries. users per second: 4804.94</pre>"
            ],
            "text/plain": [
              "recommendations finished on 6000/12393 queries. users per second: 4804.94"
            ]
          },
          "metadata": {
            "tags": []
          }
        },
        {
          "output_type": "display_data",
          "data": {
            "text/html": [
              "<pre>recommendations finished on 7000/12393 queries. users per second: 4804.15</pre>"
            ],
            "text/plain": [
              "recommendations finished on 7000/12393 queries. users per second: 4804.15"
            ]
          },
          "metadata": {
            "tags": []
          }
        },
        {
          "output_type": "display_data",
          "data": {
            "text/html": [
              "<pre>recommendations finished on 8000/12393 queries. users per second: 4809.5</pre>"
            ],
            "text/plain": [
              "recommendations finished on 8000/12393 queries. users per second: 4809.5"
            ]
          },
          "metadata": {
            "tags": []
          }
        },
        {
          "output_type": "display_data",
          "data": {
            "text/html": [
              "<pre>recommendations finished on 9000/12393 queries. users per second: 4800.96</pre>"
            ],
            "text/plain": [
              "recommendations finished on 9000/12393 queries. users per second: 4800.96"
            ]
          },
          "metadata": {
            "tags": []
          }
        },
        {
          "output_type": "display_data",
          "data": {
            "text/html": [
              "<pre>recommendations finished on 10000/12393 queries. users per second: 4810.91</pre>"
            ],
            "text/plain": [
              "recommendations finished on 10000/12393 queries. users per second: 4810.91"
            ]
          },
          "metadata": {
            "tags": []
          }
        },
        {
          "output_type": "display_data",
          "data": {
            "text/html": [
              "<pre>recommendations finished on 11000/12393 queries. users per second: 4825.22</pre>"
            ],
            "text/plain": [
              "recommendations finished on 11000/12393 queries. users per second: 4825.22"
            ]
          },
          "metadata": {
            "tags": []
          }
        },
        {
          "output_type": "display_data",
          "data": {
            "text/html": [
              "<pre>recommendations finished on 12000/12393 queries. users per second: 4863.01</pre>"
            ],
            "text/plain": [
              "recommendations finished on 12000/12393 queries. users per second: 4863.01"
            ]
          },
          "metadata": {
            "tags": []
          }
        }
      ]
    },
    {
      "cell_type": "markdown",
      "metadata": {
        "id": "JOMHQ2xzo0FL",
        "colab_type": "text"
      },
      "source": [
        "### USER DESCRIPTION AND RECOMMENDATIONS"
      ]
    },
    {
      "cell_type": "markdown",
      "metadata": {
        "id": "PzrLlPE0Pk1_",
        "colab_type": "text"
      },
      "source": [
        "###TOP USER 1"
      ]
    },
    {
      "cell_type": "code",
      "metadata": {
        "id": "9T0Sjm4tSMuI",
        "colab_type": "code",
        "outputId": "1a6df191-260f-4d64-fdba-42b89a8434ff",
        "colab": {
          "base_uri": "https://localhost:8080/",
          "height": 302
        }
      },
      "source": [
        "fr1 = m.recommend(users=['151603712'])\n",
        "fr1.head(20)"
      ],
      "execution_count": 27,
      "outputs": [
        {
          "output_type": "execute_result",
          "data": {
            "text/html": [
              "<div style=\"max-height:1000px;max-width:1500px;overflow:auto;\"><table frame=\"box\" rules=\"cols\">\n",
              "    <tr>\n",
              "        <th style=\"padding-left: 1em; padding-right: 1em; text-align: center\">UserID</th>\n",
              "        <th style=\"padding-left: 1em; padding-right: 1em; text-align: center\">Game</th>\n",
              "        <th style=\"padding-left: 1em; padding-right: 1em; text-align: center\">score</th>\n",
              "        <th style=\"padding-left: 1em; padding-right: 1em; text-align: center\">rank</th>\n",
              "    </tr>\n",
              "    <tr>\n",
              "        <td style=\"padding-left: 1em; padding-right: 1em; text-align: center; vertical-align: top\">151603712</td>\n",
              "        <td style=\"padding-left: 1em; padding-right: 1em; text-align: center; vertical-align: top\">Sid Meier&#x27;s Civilization<br>V ...</td>\n",
              "        <td style=\"padding-left: 1em; padding-right: 1em; text-align: center; vertical-align: top\">4.357136250900583</td>\n",
              "        <td style=\"padding-left: 1em; padding-right: 1em; text-align: center; vertical-align: top\">1</td>\n",
              "    </tr>\n",
              "    <tr>\n",
              "        <td style=\"padding-left: 1em; padding-right: 1em; text-align: center; vertical-align: top\">151603712</td>\n",
              "        <td style=\"padding-left: 1em; padding-right: 1em; text-align: center; vertical-align: top\">Counter-Strike Global<br>Offensive ...</td>\n",
              "        <td style=\"padding-left: 1em; padding-right: 1em; text-align: center; vertical-align: top\">4.046951980757074</td>\n",
              "        <td style=\"padding-left: 1em; padding-right: 1em; text-align: center; vertical-align: top\">2</td>\n",
              "    </tr>\n",
              "    <tr>\n",
              "        <td style=\"padding-left: 1em; padding-right: 1em; text-align: center; vertical-align: top\">151603712</td>\n",
              "        <td style=\"padding-left: 1em; padding-right: 1em; text-align: center; vertical-align: top\">Call of Duty Modern<br>Warfare 2 - Multiplayer ...</td>\n",
              "        <td style=\"padding-left: 1em; padding-right: 1em; text-align: center; vertical-align: top\">3.700310022997216</td>\n",
              "        <td style=\"padding-left: 1em; padding-right: 1em; text-align: center; vertical-align: top\">3</td>\n",
              "    </tr>\n",
              "    <tr>\n",
              "        <td style=\"padding-left: 1em; padding-right: 1em; text-align: center; vertical-align: top\">151603712</td>\n",
              "        <td style=\"padding-left: 1em; padding-right: 1em; text-align: center; vertical-align: top\">Grand Theft Auto V</td>\n",
              "        <td style=\"padding-left: 1em; padding-right: 1em; text-align: center; vertical-align: top\">3.682324232029275</td>\n",
              "        <td style=\"padding-left: 1em; padding-right: 1em; text-align: center; vertical-align: top\">4</td>\n",
              "    </tr>\n",
              "    <tr>\n",
              "        <td style=\"padding-left: 1em; padding-right: 1em; text-align: center; vertical-align: top\">151603712</td>\n",
              "        <td style=\"padding-left: 1em; padding-right: 1em; text-align: center; vertical-align: top\">Football Manager 2012</td>\n",
              "        <td style=\"padding-left: 1em; padding-right: 1em; text-align: center; vertical-align: top\">3.643090785908059</td>\n",
              "        <td style=\"padding-left: 1em; padding-right: 1em; text-align: center; vertical-align: top\">5</td>\n",
              "    </tr>\n",
              "    <tr>\n",
              "        <td style=\"padding-left: 1em; padding-right: 1em; text-align: center; vertical-align: top\">151603712</td>\n",
              "        <td style=\"padding-left: 1em; padding-right: 1em; text-align: center; vertical-align: top\">Half-Life 2 Lost Coast</td>\n",
              "        <td style=\"padding-left: 1em; padding-right: 1em; text-align: center; vertical-align: top\">3.56846676902707</td>\n",
              "        <td style=\"padding-left: 1em; padding-right: 1em; text-align: center; vertical-align: top\">6</td>\n",
              "    </tr>\n",
              "    <tr>\n",
              "        <td style=\"padding-left: 1em; padding-right: 1em; text-align: center; vertical-align: top\">151603712</td>\n",
              "        <td style=\"padding-left: 1em; padding-right: 1em; text-align: center; vertical-align: top\">Sniper Ghost Warrior</td>\n",
              "        <td style=\"padding-left: 1em; padding-right: 1em; text-align: center; vertical-align: top\">3.5076798512213982</td>\n",
              "        <td style=\"padding-left: 1em; padding-right: 1em; text-align: center; vertical-align: top\">7</td>\n",
              "    </tr>\n",
              "    <tr>\n",
              "        <td style=\"padding-left: 1em; padding-right: 1em; text-align: center; vertical-align: top\">151603712</td>\n",
              "        <td style=\"padding-left: 1em; padding-right: 1em; text-align: center; vertical-align: top\">Counter-Strike</td>\n",
              "        <td style=\"padding-left: 1em; padding-right: 1em; text-align: center; vertical-align: top\">3.463431233035878</td>\n",
              "        <td style=\"padding-left: 1em; padding-right: 1em; text-align: center; vertical-align: top\">8</td>\n",
              "    </tr>\n",
              "    <tr>\n",
              "        <td style=\"padding-left: 1em; padding-right: 1em; text-align: center; vertical-align: top\">151603712</td>\n",
              "        <td style=\"padding-left: 1em; padding-right: 1em; text-align: center; vertical-align: top\">Euro Truck Simulator 2</td>\n",
              "        <td style=\"padding-left: 1em; padding-right: 1em; text-align: center; vertical-align: top\">3.399292768406228</td>\n",
              "        <td style=\"padding-left: 1em; padding-right: 1em; text-align: center; vertical-align: top\">9</td>\n",
              "    </tr>\n",
              "    <tr>\n",
              "        <td style=\"padding-left: 1em; padding-right: 1em; text-align: center; vertical-align: top\">151603712</td>\n",
              "        <td style=\"padding-left: 1em; padding-right: 1em; text-align: center; vertical-align: top\">Counter-Strike Source</td>\n",
              "        <td style=\"padding-left: 1em; padding-right: 1em; text-align: center; vertical-align: top\">3.368751050400094</td>\n",
              "        <td style=\"padding-left: 1em; padding-right: 1em; text-align: center; vertical-align: top\">10</td>\n",
              "    </tr>\n",
              "</table>\n",
              "[10 rows x 4 columns]<br/>\n",
              "</div>"
            ],
            "text/plain": [
              "Columns:\n",
              "\tUserID\tint\n",
              "\tGame\tstr\n",
              "\tscore\tfloat\n",
              "\trank\tint\n",
              "\n",
              "Rows: 10\n",
              "\n",
              "Data:\n",
              "+-----------+-------------------------------+--------------------+------+\n",
              "|   UserID  |              Game             |       score        | rank |\n",
              "+-----------+-------------------------------+--------------------+------+\n",
              "| 151603712 |   Sid Meier's Civilization V  | 4.357136250900583  |  1   |\n",
              "| 151603712 | Counter-Strike Global Offe... | 4.046951980757074  |  2   |\n",
              "| 151603712 | Call of Duty Modern Warfar... | 3.700310022997216  |  3   |\n",
              "| 151603712 |       Grand Theft Auto V      | 3.682324232029275  |  4   |\n",
              "| 151603712 |     Football Manager 2012     | 3.643090785908059  |  5   |\n",
              "| 151603712 |     Half-Life 2 Lost Coast    |  3.56846676902707  |  6   |\n",
              "| 151603712 |      Sniper Ghost Warrior     | 3.5076798512213982 |  7   |\n",
              "| 151603712 |         Counter-Strike        | 3.463431233035878  |  8   |\n",
              "| 151603712 |     Euro Truck Simulator 2    | 3.399292768406228  |  9   |\n",
              "| 151603712 |     Counter-Strike Source     | 3.368751050400094  |  10  |\n",
              "+-----------+-------------------------------+--------------------+------+\n",
              "[10 rows x 4 columns]"
            ]
          },
          "metadata": {
            "tags": []
          },
          "execution_count": 27
        }
      ]
    },
    {
      "cell_type": "markdown",
      "metadata": {
        "id": "4dGgaI4AP8JL",
        "colab_type": "text"
      },
      "source": [
        "### Creating a dataframe"
      ]
    },
    {
      "cell_type": "code",
      "metadata": {
        "id": "4iOuJSsv9Q2S",
        "colab_type": "code",
        "outputId": "e9da0bba-c8b8-4b62-d340-6a0ee5b47f42",
        "colab": {
          "base_uri": "https://localhost:8080/",
          "height": 363
        }
      },
      "source": [
        "fact1 = pd.DataFrame(fr1)\n",
        "fact1.drop([\"UserID\",\"rank\"],axis = 1, inplace = True)\n",
        "fact1.rename(columns={'Game': 'Game_FR', 'score': 'score_FR'}, inplace=True)\n",
        "fact1.head(10)"
      ],
      "execution_count": 28,
      "outputs": [
        {
          "output_type": "execute_result",
          "data": {
            "text/html": [
              "<div>\n",
              "<style scoped>\n",
              "    .dataframe tbody tr th:only-of-type {\n",
              "        vertical-align: middle;\n",
              "    }\n",
              "\n",
              "    .dataframe tbody tr th {\n",
              "        vertical-align: top;\n",
              "    }\n",
              "\n",
              "    .dataframe thead th {\n",
              "        text-align: right;\n",
              "    }\n",
              "</style>\n",
              "<table border=\"1\" class=\"dataframe\">\n",
              "  <thead>\n",
              "    <tr style=\"text-align: right;\">\n",
              "      <th></th>\n",
              "      <th>Game_FR</th>\n",
              "      <th>score_FR</th>\n",
              "    </tr>\n",
              "  </thead>\n",
              "  <tbody>\n",
              "    <tr>\n",
              "      <th>0</th>\n",
              "      <td>Sid Meier's Civilization V</td>\n",
              "      <td>4.357136</td>\n",
              "    </tr>\n",
              "    <tr>\n",
              "      <th>1</th>\n",
              "      <td>Counter-Strike Global Offensive</td>\n",
              "      <td>4.046952</td>\n",
              "    </tr>\n",
              "    <tr>\n",
              "      <th>2</th>\n",
              "      <td>Call of Duty Modern Warfare 2 - Multiplayer</td>\n",
              "      <td>3.700310</td>\n",
              "    </tr>\n",
              "    <tr>\n",
              "      <th>3</th>\n",
              "      <td>Grand Theft Auto V</td>\n",
              "      <td>3.682324</td>\n",
              "    </tr>\n",
              "    <tr>\n",
              "      <th>4</th>\n",
              "      <td>Football Manager 2012</td>\n",
              "      <td>3.643091</td>\n",
              "    </tr>\n",
              "    <tr>\n",
              "      <th>5</th>\n",
              "      <td>Half-Life 2 Lost Coast</td>\n",
              "      <td>3.568467</td>\n",
              "    </tr>\n",
              "    <tr>\n",
              "      <th>6</th>\n",
              "      <td>Sniper Ghost Warrior</td>\n",
              "      <td>3.507680</td>\n",
              "    </tr>\n",
              "    <tr>\n",
              "      <th>7</th>\n",
              "      <td>Counter-Strike</td>\n",
              "      <td>3.463431</td>\n",
              "    </tr>\n",
              "    <tr>\n",
              "      <th>8</th>\n",
              "      <td>Euro Truck Simulator 2</td>\n",
              "      <td>3.399293</td>\n",
              "    </tr>\n",
              "    <tr>\n",
              "      <th>9</th>\n",
              "      <td>Counter-Strike Source</td>\n",
              "      <td>3.368751</td>\n",
              "    </tr>\n",
              "  </tbody>\n",
              "</table>\n",
              "</div>"
            ],
            "text/plain": [
              "                                       Game_FR  score_FR\n",
              "0                   Sid Meier's Civilization V  4.357136\n",
              "1              Counter-Strike Global Offensive  4.046952\n",
              "2  Call of Duty Modern Warfare 2 - Multiplayer  3.700310\n",
              "3                           Grand Theft Auto V  3.682324\n",
              "4                        Football Manager 2012  3.643091\n",
              "5                       Half-Life 2 Lost Coast  3.568467\n",
              "6                         Sniper Ghost Warrior  3.507680\n",
              "7                               Counter-Strike  3.463431\n",
              "8                       Euro Truck Simulator 2  3.399293\n",
              "9                        Counter-Strike Source  3.368751"
            ]
          },
          "metadata": {
            "tags": []
          },
          "execution_count": 28
        }
      ]
    },
    {
      "cell_type": "markdown",
      "metadata": {
        "id": "ahjYxiOSQF9j",
        "colab_type": "text"
      },
      "source": [
        "### Creating a dataframe"
      ]
    },
    {
      "cell_type": "code",
      "metadata": {
        "id": "q5QYWxHQTt1e",
        "colab_type": "code",
        "outputId": "07ffa54c-35d4-4235-b6ec-ed9b07fc7ec9",
        "colab": {
          "base_uri": "https://localhost:8080/",
          "height": 1000
        }
      },
      "source": [
        "clean_df.loc[clean_df[\"UserID\"] == 151603712,[\"Game\",\"Played_hours\",\"Ranking\"]]"
      ],
      "execution_count": 29,
      "outputs": [
        {
          "output_type": "execute_result",
          "data": {
            "text/html": [
              "<div>\n",
              "<style scoped>\n",
              "    .dataframe tbody tr th:only-of-type {\n",
              "        vertical-align: middle;\n",
              "    }\n",
              "\n",
              "    .dataframe tbody tr th {\n",
              "        vertical-align: top;\n",
              "    }\n",
              "\n",
              "    .dataframe thead th {\n",
              "        text-align: right;\n",
              "    }\n",
              "</style>\n",
              "<table border=\"1\" class=\"dataframe\">\n",
              "  <thead>\n",
              "    <tr style=\"text-align: right;\">\n",
              "      <th></th>\n",
              "      <th>Game</th>\n",
              "      <th>Played_hours</th>\n",
              "      <th>Ranking</th>\n",
              "    </tr>\n",
              "  </thead>\n",
              "  <tbody>\n",
              "    <tr>\n",
              "      <th>0</th>\n",
              "      <td>The Elder Scrolls V Skyrim</td>\n",
              "      <td>273.0</td>\n",
              "      <td>10.0</td>\n",
              "    </tr>\n",
              "    <tr>\n",
              "      <th>1</th>\n",
              "      <td>Fallout 4</td>\n",
              "      <td>87.0</td>\n",
              "      <td>4.0</td>\n",
              "    </tr>\n",
              "    <tr>\n",
              "      <th>2</th>\n",
              "      <td>Spore</td>\n",
              "      <td>14.9</td>\n",
              "      <td>1.0</td>\n",
              "    </tr>\n",
              "    <tr>\n",
              "      <th>3</th>\n",
              "      <td>Fallout New Vegas</td>\n",
              "      <td>12.1</td>\n",
              "      <td>1.0</td>\n",
              "    </tr>\n",
              "    <tr>\n",
              "      <th>4</th>\n",
              "      <td>Left 4 Dead 2</td>\n",
              "      <td>8.9</td>\n",
              "      <td>1.0</td>\n",
              "    </tr>\n",
              "    <tr>\n",
              "      <th>5</th>\n",
              "      <td>HuniePop</td>\n",
              "      <td>8.5</td>\n",
              "      <td>1.0</td>\n",
              "    </tr>\n",
              "    <tr>\n",
              "      <th>6</th>\n",
              "      <td>Path of Exile</td>\n",
              "      <td>8.1</td>\n",
              "      <td>1.0</td>\n",
              "    </tr>\n",
              "    <tr>\n",
              "      <th>7</th>\n",
              "      <td>Poly Bridge</td>\n",
              "      <td>7.5</td>\n",
              "      <td>1.0</td>\n",
              "    </tr>\n",
              "    <tr>\n",
              "      <th>8</th>\n",
              "      <td>Left 4 Dead</td>\n",
              "      <td>3.3</td>\n",
              "      <td>1.0</td>\n",
              "    </tr>\n",
              "    <tr>\n",
              "      <th>9</th>\n",
              "      <td>Team Fortress 2</td>\n",
              "      <td>2.8</td>\n",
              "      <td>1.0</td>\n",
              "    </tr>\n",
              "    <tr>\n",
              "      <th>10</th>\n",
              "      <td>Tomb Raider</td>\n",
              "      <td>2.5</td>\n",
              "      <td>1.0</td>\n",
              "    </tr>\n",
              "    <tr>\n",
              "      <th>11</th>\n",
              "      <td>The Banner Saga</td>\n",
              "      <td>2.0</td>\n",
              "      <td>1.0</td>\n",
              "    </tr>\n",
              "    <tr>\n",
              "      <th>12</th>\n",
              "      <td>Dead Island Epidemic</td>\n",
              "      <td>1.4</td>\n",
              "      <td>1.0</td>\n",
              "    </tr>\n",
              "    <tr>\n",
              "      <th>13</th>\n",
              "      <td>BioShock Infinite</td>\n",
              "      <td>1.3</td>\n",
              "      <td>1.0</td>\n",
              "    </tr>\n",
              "    <tr>\n",
              "      <th>14</th>\n",
              "      <td>Dragon Age Origins - Ultimate Edition</td>\n",
              "      <td>1.3</td>\n",
              "      <td>1.0</td>\n",
              "    </tr>\n",
              "    <tr>\n",
              "      <th>15</th>\n",
              "      <td>Fallout 3 - Game of the Year Edition</td>\n",
              "      <td>0.8</td>\n",
              "      <td>1.0</td>\n",
              "    </tr>\n",
              "    <tr>\n",
              "      <th>16</th>\n",
              "      <td>SEGA Genesis &amp; Mega Drive Classics</td>\n",
              "      <td>0.8</td>\n",
              "      <td>1.0</td>\n",
              "    </tr>\n",
              "    <tr>\n",
              "      <th>17</th>\n",
              "      <td>Grand Theft Auto IV</td>\n",
              "      <td>0.6</td>\n",
              "      <td>1.0</td>\n",
              "    </tr>\n",
              "    <tr>\n",
              "      <th>18</th>\n",
              "      <td>Realm of the Mad God</td>\n",
              "      <td>0.5</td>\n",
              "      <td>1.0</td>\n",
              "    </tr>\n",
              "    <tr>\n",
              "      <th>19</th>\n",
              "      <td>Marvel Heroes 2015</td>\n",
              "      <td>0.5</td>\n",
              "      <td>1.0</td>\n",
              "    </tr>\n",
              "    <tr>\n",
              "      <th>20</th>\n",
              "      <td>Eldevin</td>\n",
              "      <td>0.5</td>\n",
              "      <td>1.0</td>\n",
              "    </tr>\n",
              "    <tr>\n",
              "      <th>21</th>\n",
              "      <td>Dota 2</td>\n",
              "      <td>0.5</td>\n",
              "      <td>1.0</td>\n",
              "    </tr>\n",
              "    <tr>\n",
              "      <th>22</th>\n",
              "      <td>BioShock</td>\n",
              "      <td>0.5</td>\n",
              "      <td>1.0</td>\n",
              "    </tr>\n",
              "    <tr>\n",
              "      <th>23</th>\n",
              "      <td>Robocraft</td>\n",
              "      <td>0.4</td>\n",
              "      <td>1.0</td>\n",
              "    </tr>\n",
              "    <tr>\n",
              "      <th>24</th>\n",
              "      <td>Garry's Mod</td>\n",
              "      <td>0.1</td>\n",
              "      <td>1.0</td>\n",
              "    </tr>\n",
              "    <tr>\n",
              "      <th>25</th>\n",
              "      <td>Jazzpunk</td>\n",
              "      <td>0.1</td>\n",
              "      <td>1.0</td>\n",
              "    </tr>\n",
              "    <tr>\n",
              "      <th>26</th>\n",
              "      <td>Alan Wake</td>\n",
              "      <td>0.0</td>\n",
              "      <td>1.0</td>\n",
              "    </tr>\n",
              "    <tr>\n",
              "      <th>27</th>\n",
              "      <td>BioShock 2</td>\n",
              "      <td>0.0</td>\n",
              "      <td>1.0</td>\n",
              "    </tr>\n",
              "    <tr>\n",
              "      <th>28</th>\n",
              "      <td>Fallen Earth</td>\n",
              "      <td>0.0</td>\n",
              "      <td>1.0</td>\n",
              "    </tr>\n",
              "    <tr>\n",
              "      <th>29</th>\n",
              "      <td>Fallout New Vegas Courier's Stash</td>\n",
              "      <td>0.0</td>\n",
              "      <td>1.0</td>\n",
              "    </tr>\n",
              "    <tr>\n",
              "      <th>30</th>\n",
              "      <td>Fallout New Vegas Dead Money</td>\n",
              "      <td>0.0</td>\n",
              "      <td>1.0</td>\n",
              "    </tr>\n",
              "    <tr>\n",
              "      <th>31</th>\n",
              "      <td>Fallout New Vegas Honest Hearts</td>\n",
              "      <td>0.0</td>\n",
              "      <td>1.0</td>\n",
              "    </tr>\n",
              "    <tr>\n",
              "      <th>32</th>\n",
              "      <td>Grand Theft Auto Episodes from Liberty City</td>\n",
              "      <td>0.0</td>\n",
              "      <td>1.0</td>\n",
              "    </tr>\n",
              "    <tr>\n",
              "      <th>33</th>\n",
              "      <td>Hitman Absolution</td>\n",
              "      <td>0.0</td>\n",
              "      <td>1.0</td>\n",
              "    </tr>\n",
              "    <tr>\n",
              "      <th>34</th>\n",
              "      <td>HuniePop Official Digital Art Collection</td>\n",
              "      <td>0.0</td>\n",
              "      <td>1.0</td>\n",
              "    </tr>\n",
              "    <tr>\n",
              "      <th>35</th>\n",
              "      <td>HuniePop Original Soundtrack</td>\n",
              "      <td>0.0</td>\n",
              "      <td>1.0</td>\n",
              "    </tr>\n",
              "    <tr>\n",
              "      <th>36</th>\n",
              "      <td>The Banner Saga - Mod Content</td>\n",
              "      <td>0.0</td>\n",
              "      <td>1.0</td>\n",
              "    </tr>\n",
              "    <tr>\n",
              "      <th>37</th>\n",
              "      <td>The Elder Scrolls V Skyrim - Dawnguard</td>\n",
              "      <td>0.0</td>\n",
              "      <td>1.0</td>\n",
              "    </tr>\n",
              "    <tr>\n",
              "      <th>38</th>\n",
              "      <td>The Elder Scrolls V Skyrim - Dragonborn</td>\n",
              "      <td>0.0</td>\n",
              "      <td>1.0</td>\n",
              "    </tr>\n",
              "    <tr>\n",
              "      <th>39</th>\n",
              "      <td>The Elder Scrolls V Skyrim - Hearthfire</td>\n",
              "      <td>0.0</td>\n",
              "      <td>1.0</td>\n",
              "    </tr>\n",
              "  </tbody>\n",
              "</table>\n",
              "</div>"
            ],
            "text/plain": [
              "                                           Game  Played_hours  Ranking\n",
              "0                    The Elder Scrolls V Skyrim         273.0     10.0\n",
              "1                                     Fallout 4          87.0      4.0\n",
              "2                                         Spore          14.9      1.0\n",
              "3                             Fallout New Vegas          12.1      1.0\n",
              "4                                 Left 4 Dead 2           8.9      1.0\n",
              "5                                      HuniePop           8.5      1.0\n",
              "6                                 Path of Exile           8.1      1.0\n",
              "7                                   Poly Bridge           7.5      1.0\n",
              "8                                   Left 4 Dead           3.3      1.0\n",
              "9                               Team Fortress 2           2.8      1.0\n",
              "10                                  Tomb Raider           2.5      1.0\n",
              "11                              The Banner Saga           2.0      1.0\n",
              "12                         Dead Island Epidemic           1.4      1.0\n",
              "13                            BioShock Infinite           1.3      1.0\n",
              "14        Dragon Age Origins - Ultimate Edition           1.3      1.0\n",
              "15         Fallout 3 - Game of the Year Edition           0.8      1.0\n",
              "16           SEGA Genesis & Mega Drive Classics           0.8      1.0\n",
              "17                          Grand Theft Auto IV           0.6      1.0\n",
              "18                         Realm of the Mad God           0.5      1.0\n",
              "19                           Marvel Heroes 2015           0.5      1.0\n",
              "20                                      Eldevin           0.5      1.0\n",
              "21                                       Dota 2           0.5      1.0\n",
              "22                                     BioShock           0.5      1.0\n",
              "23                                    Robocraft           0.4      1.0\n",
              "24                                  Garry's Mod           0.1      1.0\n",
              "25                                     Jazzpunk           0.1      1.0\n",
              "26                                    Alan Wake           0.0      1.0\n",
              "27                                   BioShock 2           0.0      1.0\n",
              "28                                 Fallen Earth           0.0      1.0\n",
              "29            Fallout New Vegas Courier's Stash           0.0      1.0\n",
              "30                 Fallout New Vegas Dead Money           0.0      1.0\n",
              "31              Fallout New Vegas Honest Hearts           0.0      1.0\n",
              "32  Grand Theft Auto Episodes from Liberty City           0.0      1.0\n",
              "33                            Hitman Absolution           0.0      1.0\n",
              "34     HuniePop Official Digital Art Collection           0.0      1.0\n",
              "35                 HuniePop Original Soundtrack           0.0      1.0\n",
              "36                The Banner Saga - Mod Content           0.0      1.0\n",
              "37       The Elder Scrolls V Skyrim - Dawnguard           0.0      1.0\n",
              "38      The Elder Scrolls V Skyrim - Dragonborn           0.0      1.0\n",
              "39      The Elder Scrolls V Skyrim - Hearthfire           0.0      1.0"
            ]
          },
          "metadata": {
            "tags": []
          },
          "execution_count": 29
        }
      ]
    },
    {
      "cell_type": "markdown",
      "metadata": {
        "id": "30id-Z9wPtcI",
        "colab_type": "text"
      },
      "source": [
        "###TOP USER 2"
      ]
    },
    {
      "cell_type": "code",
      "metadata": {
        "id": "mMF_VvZKSVs_",
        "colab_type": "code",
        "outputId": "604992e7-7d7a-4e08-f36b-ca3515e8204e",
        "colab": {
          "base_uri": "https://localhost:8080/",
          "height": 302
        }
      },
      "source": [
        "fr2 = m.recommend(users=['62990992'])\n",
        "fr2"
      ],
      "execution_count": 30,
      "outputs": [
        {
          "output_type": "execute_result",
          "data": {
            "text/html": [
              "<div style=\"max-height:1000px;max-width:1500px;overflow:auto;\"><table frame=\"box\" rules=\"cols\">\n",
              "    <tr>\n",
              "        <th style=\"padding-left: 1em; padding-right: 1em; text-align: center\">UserID</th>\n",
              "        <th style=\"padding-left: 1em; padding-right: 1em; text-align: center\">Game</th>\n",
              "        <th style=\"padding-left: 1em; padding-right: 1em; text-align: center\">score</th>\n",
              "        <th style=\"padding-left: 1em; padding-right: 1em; text-align: center\">rank</th>\n",
              "    </tr>\n",
              "    <tr>\n",
              "        <td style=\"padding-left: 1em; padding-right: 1em; text-align: center; vertical-align: top\">62990992</td>\n",
              "        <td style=\"padding-left: 1em; padding-right: 1em; text-align: center; vertical-align: top\">UberStrike</td>\n",
              "        <td style=\"padding-left: 1em; padding-right: 1em; text-align: center; vertical-align: top\">3.5863673141771115</td>\n",
              "        <td style=\"padding-left: 1em; padding-right: 1em; text-align: center; vertical-align: top\">1</td>\n",
              "    </tr>\n",
              "    <tr>\n",
              "        <td style=\"padding-left: 1em; padding-right: 1em; text-align: center; vertical-align: top\">62990992</td>\n",
              "        <td style=\"padding-left: 1em; padding-right: 1em; text-align: center; vertical-align: top\">Football Manager 2012</td>\n",
              "        <td style=\"padding-left: 1em; padding-right: 1em; text-align: center; vertical-align: top\">3.3785778409415044</td>\n",
              "        <td style=\"padding-left: 1em; padding-right: 1em; text-align: center; vertical-align: top\">2</td>\n",
              "    </tr>\n",
              "    <tr>\n",
              "        <td style=\"padding-left: 1em; padding-right: 1em; text-align: center; vertical-align: top\">62990992</td>\n",
              "        <td style=\"padding-left: 1em; padding-right: 1em; text-align: center; vertical-align: top\">Unturned</td>\n",
              "        <td style=\"padding-left: 1em; padding-right: 1em; text-align: center; vertical-align: top\">3.3452550186389245</td>\n",
              "        <td style=\"padding-left: 1em; padding-right: 1em; text-align: center; vertical-align: top\">3</td>\n",
              "    </tr>\n",
              "    <tr>\n",
              "        <td style=\"padding-left: 1em; padding-right: 1em; text-align: center; vertical-align: top\">62990992</td>\n",
              "        <td style=\"padding-left: 1em; padding-right: 1em; text-align: center; vertical-align: top\">Serious Sam HD The Second<br>Encounter ...</td>\n",
              "        <td style=\"padding-left: 1em; padding-right: 1em; text-align: center; vertical-align: top\">3.2442380315237798</td>\n",
              "        <td style=\"padding-left: 1em; padding-right: 1em; text-align: center; vertical-align: top\">4</td>\n",
              "    </tr>\n",
              "    <tr>\n",
              "        <td style=\"padding-left: 1em; padding-right: 1em; text-align: center; vertical-align: top\">62990992</td>\n",
              "        <td style=\"padding-left: 1em; padding-right: 1em; text-align: center; vertical-align: top\">Call of Duty Black Ops</td>\n",
              "        <td style=\"padding-left: 1em; padding-right: 1em; text-align: center; vertical-align: top\">3.207467438148812</td>\n",
              "        <td style=\"padding-left: 1em; padding-right: 1em; text-align: center; vertical-align: top\">5</td>\n",
              "    </tr>\n",
              "    <tr>\n",
              "        <td style=\"padding-left: 1em; padding-right: 1em; text-align: center; vertical-align: top\">62990992</td>\n",
              "        <td style=\"padding-left: 1em; padding-right: 1em; text-align: center; vertical-align: top\">BLOCKADE 3D</td>\n",
              "        <td style=\"padding-left: 1em; padding-right: 1em; text-align: center; vertical-align: top\">3.1174401896619357</td>\n",
              "        <td style=\"padding-left: 1em; padding-right: 1em; text-align: center; vertical-align: top\">6</td>\n",
              "    </tr>\n",
              "    <tr>\n",
              "        <td style=\"padding-left: 1em; padding-right: 1em; text-align: center; vertical-align: top\">62990992</td>\n",
              "        <td style=\"padding-left: 1em; padding-right: 1em; text-align: center; vertical-align: top\">Football Manager 2013</td>\n",
              "        <td style=\"padding-left: 1em; padding-right: 1em; text-align: center; vertical-align: top\">3.060799171643809</td>\n",
              "        <td style=\"padding-left: 1em; padding-right: 1em; text-align: center; vertical-align: top\">7</td>\n",
              "    </tr>\n",
              "    <tr>\n",
              "        <td style=\"padding-left: 1em; padding-right: 1em; text-align: center; vertical-align: top\">62990992</td>\n",
              "        <td style=\"padding-left: 1em; padding-right: 1em; text-align: center; vertical-align: top\">Call of Duty Modern<br>Warfare 2 ...</td>\n",
              "        <td style=\"padding-left: 1em; padding-right: 1em; text-align: center; vertical-align: top\">2.90209391848977</td>\n",
              "        <td style=\"padding-left: 1em; padding-right: 1em; text-align: center; vertical-align: top\">8</td>\n",
              "    </tr>\n",
              "    <tr>\n",
              "        <td style=\"padding-left: 1em; padding-right: 1em; text-align: center; vertical-align: top\">62990992</td>\n",
              "        <td style=\"padding-left: 1em; padding-right: 1em; text-align: center; vertical-align: top\">Lost Planet Extreme<br>Condition ...</td>\n",
              "        <td style=\"padding-left: 1em; padding-right: 1em; text-align: center; vertical-align: top\">2.8566539859944142</td>\n",
              "        <td style=\"padding-left: 1em; padding-right: 1em; text-align: center; vertical-align: top\">9</td>\n",
              "    </tr>\n",
              "    <tr>\n",
              "        <td style=\"padding-left: 1em; padding-right: 1em; text-align: center; vertical-align: top\">62990992</td>\n",
              "        <td style=\"padding-left: 1em; padding-right: 1em; text-align: center; vertical-align: top\">F1 2012</td>\n",
              "        <td style=\"padding-left: 1em; padding-right: 1em; text-align: center; vertical-align: top\">2.819399186837033</td>\n",
              "        <td style=\"padding-left: 1em; padding-right: 1em; text-align: center; vertical-align: top\">10</td>\n",
              "    </tr>\n",
              "</table>\n",
              "[10 rows x 4 columns]<br/>\n",
              "</div>"
            ],
            "text/plain": [
              "Columns:\n",
              "\tUserID\tint\n",
              "\tGame\tstr\n",
              "\tscore\tfloat\n",
              "\trank\tint\n",
              "\n",
              "Rows: 10\n",
              "\n",
              "Data:\n",
              "+----------+-------------------------------+--------------------+------+\n",
              "|  UserID  |              Game             |       score        | rank |\n",
              "+----------+-------------------------------+--------------------+------+\n",
              "| 62990992 |           UberStrike          | 3.5863673141771115 |  1   |\n",
              "| 62990992 |     Football Manager 2012     | 3.3785778409415044 |  2   |\n",
              "| 62990992 |            Unturned           | 3.3452550186389245 |  3   |\n",
              "| 62990992 | Serious Sam HD The Second ... | 3.2442380315237798 |  4   |\n",
              "| 62990992 |     Call of Duty Black Ops    | 3.207467438148812  |  5   |\n",
              "| 62990992 |          BLOCKADE 3D          | 3.1174401896619357 |  6   |\n",
              "| 62990992 |     Football Manager 2013     | 3.060799171643809  |  7   |\n",
              "| 62990992 | Call of Duty Modern Warfare 2 |  2.90209391848977  |  8   |\n",
              "| 62990992 | Lost Planet Extreme Condition | 2.8566539859944142 |  9   |\n",
              "| 62990992 |            F1 2012            | 2.819399186837033  |  10  |\n",
              "+----------+-------------------------------+--------------------+------+\n",
              "[10 rows x 4 columns]"
            ]
          },
          "metadata": {
            "tags": []
          },
          "execution_count": 30
        }
      ]
    },
    {
      "cell_type": "markdown",
      "metadata": {
        "id": "FZ21ksftQCxL",
        "colab_type": "text"
      },
      "source": [
        "### Creating a dataframe"
      ]
    },
    {
      "cell_type": "code",
      "metadata": {
        "id": "R0poMxBY_Fzb",
        "colab_type": "code",
        "outputId": "7ce54a86-7db7-4c0f-b494-ce06efb9f457",
        "colab": {
          "base_uri": "https://localhost:8080/",
          "height": 363
        }
      },
      "source": [
        "fact2 = pd.DataFrame(fr2)\n",
        "fact2.drop([\"UserID\",\"rank\"],axis = 1, inplace = True)\n",
        "fact2.rename(columns={'Game': 'Game_FR', 'score': 'score_FR'}, inplace=True)\n",
        "fact2.head(10)"
      ],
      "execution_count": 31,
      "outputs": [
        {
          "output_type": "execute_result",
          "data": {
            "text/html": [
              "<div>\n",
              "<style scoped>\n",
              "    .dataframe tbody tr th:only-of-type {\n",
              "        vertical-align: middle;\n",
              "    }\n",
              "\n",
              "    .dataframe tbody tr th {\n",
              "        vertical-align: top;\n",
              "    }\n",
              "\n",
              "    .dataframe thead th {\n",
              "        text-align: right;\n",
              "    }\n",
              "</style>\n",
              "<table border=\"1\" class=\"dataframe\">\n",
              "  <thead>\n",
              "    <tr style=\"text-align: right;\">\n",
              "      <th></th>\n",
              "      <th>Game_FR</th>\n",
              "      <th>score_FR</th>\n",
              "    </tr>\n",
              "  </thead>\n",
              "  <tbody>\n",
              "    <tr>\n",
              "      <th>0</th>\n",
              "      <td>UberStrike</td>\n",
              "      <td>3.586367</td>\n",
              "    </tr>\n",
              "    <tr>\n",
              "      <th>1</th>\n",
              "      <td>Football Manager 2012</td>\n",
              "      <td>3.378578</td>\n",
              "    </tr>\n",
              "    <tr>\n",
              "      <th>2</th>\n",
              "      <td>Unturned</td>\n",
              "      <td>3.345255</td>\n",
              "    </tr>\n",
              "    <tr>\n",
              "      <th>3</th>\n",
              "      <td>Serious Sam HD The Second Encounter</td>\n",
              "      <td>3.244238</td>\n",
              "    </tr>\n",
              "    <tr>\n",
              "      <th>4</th>\n",
              "      <td>Call of Duty Black Ops</td>\n",
              "      <td>3.207467</td>\n",
              "    </tr>\n",
              "    <tr>\n",
              "      <th>5</th>\n",
              "      <td>BLOCKADE 3D</td>\n",
              "      <td>3.117440</td>\n",
              "    </tr>\n",
              "    <tr>\n",
              "      <th>6</th>\n",
              "      <td>Football Manager 2013</td>\n",
              "      <td>3.060799</td>\n",
              "    </tr>\n",
              "    <tr>\n",
              "      <th>7</th>\n",
              "      <td>Call of Duty Modern Warfare 2</td>\n",
              "      <td>2.902094</td>\n",
              "    </tr>\n",
              "    <tr>\n",
              "      <th>8</th>\n",
              "      <td>Lost Planet Extreme Condition</td>\n",
              "      <td>2.856654</td>\n",
              "    </tr>\n",
              "    <tr>\n",
              "      <th>9</th>\n",
              "      <td>F1 2012</td>\n",
              "      <td>2.819399</td>\n",
              "    </tr>\n",
              "  </tbody>\n",
              "</table>\n",
              "</div>"
            ],
            "text/plain": [
              "                               Game_FR  score_FR\n",
              "0                           UberStrike  3.586367\n",
              "1                Football Manager 2012  3.378578\n",
              "2                             Unturned  3.345255\n",
              "3  Serious Sam HD The Second Encounter  3.244238\n",
              "4               Call of Duty Black Ops  3.207467\n",
              "5                          BLOCKADE 3D  3.117440\n",
              "6                Football Manager 2013  3.060799\n",
              "7        Call of Duty Modern Warfare 2  2.902094\n",
              "8        Lost Planet Extreme Condition  2.856654\n",
              "9                              F1 2012  2.819399"
            ]
          },
          "metadata": {
            "tags": []
          },
          "execution_count": 31
        }
      ]
    },
    {
      "cell_type": "code",
      "metadata": {
        "id": "27GdETeDeSXR",
        "colab_type": "code",
        "outputId": "29509806-7540-4ba8-f7d2-fe407290b694",
        "colab": {
          "base_uri": "https://localhost:8080/",
          "height": 424
        }
      },
      "source": [
        "clean_df.loc[clean_df[\"UserID\"] == 62990992,[\"Game\",\"Played_hours\",\"Ranking\"]]"
      ],
      "execution_count": 32,
      "outputs": [
        {
          "output_type": "execute_result",
          "data": {
            "text/html": [
              "<div>\n",
              "<style scoped>\n",
              "    .dataframe tbody tr th:only-of-type {\n",
              "        vertical-align: middle;\n",
              "    }\n",
              "\n",
              "    .dataframe tbody tr th {\n",
              "        vertical-align: top;\n",
              "    }\n",
              "\n",
              "    .dataframe thead th {\n",
              "        text-align: right;\n",
              "    }\n",
              "</style>\n",
              "<table border=\"1\" class=\"dataframe\">\n",
              "  <thead>\n",
              "    <tr style=\"text-align: right;\">\n",
              "      <th></th>\n",
              "      <th>Game</th>\n",
              "      <th>Played_hours</th>\n",
              "      <th>Ranking</th>\n",
              "    </tr>\n",
              "  </thead>\n",
              "  <tbody>\n",
              "    <tr>\n",
              "      <th>77076</th>\n",
              "      <td>Counter-Strike Global Offensive</td>\n",
              "      <td>663.0</td>\n",
              "      <td>10.0</td>\n",
              "    </tr>\n",
              "    <tr>\n",
              "      <th>77077</th>\n",
              "      <td>Sid Meier's Civilization V</td>\n",
              "      <td>550.0</td>\n",
              "      <td>9.0</td>\n",
              "    </tr>\n",
              "    <tr>\n",
              "      <th>77078</th>\n",
              "      <td>Total War SHOGUN 2</td>\n",
              "      <td>212.0</td>\n",
              "      <td>4.0</td>\n",
              "    </tr>\n",
              "    <tr>\n",
              "      <th>77079</th>\n",
              "      <td>Total War ROME II - Emperor Edition</td>\n",
              "      <td>198.0</td>\n",
              "      <td>3.0</td>\n",
              "    </tr>\n",
              "    <tr>\n",
              "      <th>77080</th>\n",
              "      <td>Dungeon Defenders</td>\n",
              "      <td>195.0</td>\n",
              "      <td>3.0</td>\n",
              "    </tr>\n",
              "    <tr>\n",
              "      <th>...</th>\n",
              "      <td>...</td>\n",
              "      <td>...</td>\n",
              "      <td>...</td>\n",
              "    </tr>\n",
              "    <tr>\n",
              "      <th>78146</th>\n",
              "      <td>Xenophage</td>\n",
              "      <td>0.0</td>\n",
              "      <td>1.0</td>\n",
              "    </tr>\n",
              "    <tr>\n",
              "      <th>78147</th>\n",
              "      <td>Xpand Rally Xtreme</td>\n",
              "      <td>0.0</td>\n",
              "      <td>1.0</td>\n",
              "    </tr>\n",
              "    <tr>\n",
              "      <th>78148</th>\n",
              "      <td>Zen Bound 2</td>\n",
              "      <td>0.0</td>\n",
              "      <td>1.0</td>\n",
              "    </tr>\n",
              "    <tr>\n",
              "      <th>78149</th>\n",
              "      <td>Zombie Driver HD Apocalypse Pack</td>\n",
              "      <td>0.0</td>\n",
              "      <td>1.0</td>\n",
              "    </tr>\n",
              "    <tr>\n",
              "      <th>78150</th>\n",
              "      <td>Zoo Park</td>\n",
              "      <td>0.0</td>\n",
              "      <td>1.0</td>\n",
              "    </tr>\n",
              "  </tbody>\n",
              "</table>\n",
              "<p>1075 rows × 3 columns</p>\n",
              "</div>"
            ],
            "text/plain": [
              "                                      Game  Played_hours  Ranking\n",
              "77076      Counter-Strike Global Offensive         663.0     10.0\n",
              "77077           Sid Meier's Civilization V         550.0      9.0\n",
              "77078                   Total War SHOGUN 2         212.0      4.0\n",
              "77079  Total War ROME II - Emperor Edition         198.0      3.0\n",
              "77080                    Dungeon Defenders         195.0      3.0\n",
              "...                                    ...           ...      ...\n",
              "78146                            Xenophage           0.0      1.0\n",
              "78147                   Xpand Rally Xtreme           0.0      1.0\n",
              "78148                          Zen Bound 2           0.0      1.0\n",
              "78149     Zombie Driver HD Apocalypse Pack           0.0      1.0\n",
              "78150                             Zoo Park           0.0      1.0\n",
              "\n",
              "[1075 rows x 3 columns]"
            ]
          },
          "metadata": {
            "tags": []
          },
          "execution_count": 32
        }
      ]
    },
    {
      "cell_type": "markdown",
      "metadata": {
        "id": "RGhQCOKoPu7z",
        "colab_type": "text"
      },
      "source": [
        "###TOP USER 3"
      ]
    },
    {
      "cell_type": "code",
      "metadata": {
        "id": "7hUuoNSFTPVC",
        "colab_type": "code",
        "outputId": "057737c4-3c2c-478c-cabf-09a37582251d",
        "colab": {
          "base_uri": "https://localhost:8080/",
          "height": 319
        }
      },
      "source": [
        "fr3 = m.recommend(users=['33865373'])\n",
        "fr3"
      ],
      "execution_count": 33,
      "outputs": [
        {
          "output_type": "execute_result",
          "data": {
            "text/html": [
              "<div style=\"max-height:1000px;max-width:1500px;overflow:auto;\"><table frame=\"box\" rules=\"cols\">\n",
              "    <tr>\n",
              "        <th style=\"padding-left: 1em; padding-right: 1em; text-align: center\">UserID</th>\n",
              "        <th style=\"padding-left: 1em; padding-right: 1em; text-align: center\">Game</th>\n",
              "        <th style=\"padding-left: 1em; padding-right: 1em; text-align: center\">score</th>\n",
              "        <th style=\"padding-left: 1em; padding-right: 1em; text-align: center\">rank</th>\n",
              "    </tr>\n",
              "    <tr>\n",
              "        <td style=\"padding-left: 1em; padding-right: 1em; text-align: center; vertical-align: top\">33865373</td>\n",
              "        <td style=\"padding-left: 1em; padding-right: 1em; text-align: center; vertical-align: top\">Sid Meier&#x27;s Civilization<br>V ...</td>\n",
              "        <td style=\"padding-left: 1em; padding-right: 1em; text-align: center; vertical-align: top\">4.441703007983522</td>\n",
              "        <td style=\"padding-left: 1em; padding-right: 1em; text-align: center; vertical-align: top\">1</td>\n",
              "    </tr>\n",
              "    <tr>\n",
              "        <td style=\"padding-left: 1em; padding-right: 1em; text-align: center; vertical-align: top\">33865373</td>\n",
              "        <td style=\"padding-left: 1em; padding-right: 1em; text-align: center; vertical-align: top\">Counter-Strike Global<br>Offensive ...</td>\n",
              "        <td style=\"padding-left: 1em; padding-right: 1em; text-align: center; vertical-align: top\">4.134892919527845</td>\n",
              "        <td style=\"padding-left: 1em; padding-right: 1em; text-align: center; vertical-align: top\">2</td>\n",
              "    </tr>\n",
              "    <tr>\n",
              "        <td style=\"padding-left: 1em; padding-right: 1em; text-align: center; vertical-align: top\">33865373</td>\n",
              "        <td style=\"padding-left: 1em; padding-right: 1em; text-align: center; vertical-align: top\">Counter-Strike Source</td>\n",
              "        <td style=\"padding-left: 1em; padding-right: 1em; text-align: center; vertical-align: top\">3.6458142189853944</td>\n",
              "        <td style=\"padding-left: 1em; padding-right: 1em; text-align: center; vertical-align: top\">3</td>\n",
              "    </tr>\n",
              "    <tr>\n",
              "        <td style=\"padding-left: 1em; padding-right: 1em; text-align: center; vertical-align: top\">33865373</td>\n",
              "        <td style=\"padding-left: 1em; padding-right: 1em; text-align: center; vertical-align: top\">Football Manager 2012</td>\n",
              "        <td style=\"padding-left: 1em; padding-right: 1em; text-align: center; vertical-align: top\">3.6027473373883523</td>\n",
              "        <td style=\"padding-left: 1em; padding-right: 1em; text-align: center; vertical-align: top\">4</td>\n",
              "    </tr>\n",
              "    <tr>\n",
              "        <td style=\"padding-left: 1em; padding-right: 1em; text-align: center; vertical-align: top\">33865373</td>\n",
              "        <td style=\"padding-left: 1em; padding-right: 1em; text-align: center; vertical-align: top\">Counter-Strike Nexon<br>Zombies ...</td>\n",
              "        <td style=\"padding-left: 1em; padding-right: 1em; text-align: center; vertical-align: top\">3.5013963295691766</td>\n",
              "        <td style=\"padding-left: 1em; padding-right: 1em; text-align: center; vertical-align: top\">5</td>\n",
              "    </tr>\n",
              "    <tr>\n",
              "        <td style=\"padding-left: 1em; padding-right: 1em; text-align: center; vertical-align: top\">33865373</td>\n",
              "        <td style=\"padding-left: 1em; padding-right: 1em; text-align: center; vertical-align: top\">UberStrike</td>\n",
              "        <td style=\"padding-left: 1em; padding-right: 1em; text-align: center; vertical-align: top\">3.43334716694291</td>\n",
              "        <td style=\"padding-left: 1em; padding-right: 1em; text-align: center; vertical-align: top\">6</td>\n",
              "    </tr>\n",
              "    <tr>\n",
              "        <td style=\"padding-left: 1em; padding-right: 1em; text-align: center; vertical-align: top\">33865373</td>\n",
              "        <td style=\"padding-left: 1em; padding-right: 1em; text-align: center; vertical-align: top\">Sniper Ghost Warrior</td>\n",
              "        <td style=\"padding-left: 1em; padding-right: 1em; text-align: center; vertical-align: top\">3.4325565634840287</td>\n",
              "        <td style=\"padding-left: 1em; padding-right: 1em; text-align: center; vertical-align: top\">7</td>\n",
              "    </tr>\n",
              "    <tr>\n",
              "        <td style=\"padding-left: 1em; padding-right: 1em; text-align: center; vertical-align: top\">33865373</td>\n",
              "        <td style=\"padding-left: 1em; padding-right: 1em; text-align: center; vertical-align: top\">Call of Duty Modern<br>Warfare 2 - Multiplayer ...</td>\n",
              "        <td style=\"padding-left: 1em; padding-right: 1em; text-align: center; vertical-align: top\">3.373797358440713</td>\n",
              "        <td style=\"padding-left: 1em; padding-right: 1em; text-align: center; vertical-align: top\">8</td>\n",
              "    </tr>\n",
              "    <tr>\n",
              "        <td style=\"padding-left: 1em; padding-right: 1em; text-align: center; vertical-align: top\">33865373</td>\n",
              "        <td style=\"padding-left: 1em; padding-right: 1em; text-align: center; vertical-align: top\">Call of Duty Black Ops</td>\n",
              "        <td style=\"padding-left: 1em; padding-right: 1em; text-align: center; vertical-align: top\">3.236289420592145</td>\n",
              "        <td style=\"padding-left: 1em; padding-right: 1em; text-align: center; vertical-align: top\">9</td>\n",
              "    </tr>\n",
              "    <tr>\n",
              "        <td style=\"padding-left: 1em; padding-right: 1em; text-align: center; vertical-align: top\">33865373</td>\n",
              "        <td style=\"padding-left: 1em; padding-right: 1em; text-align: center; vertical-align: top\">Football Manager 2013</td>\n",
              "        <td style=\"padding-left: 1em; padding-right: 1em; text-align: center; vertical-align: top\">3.2354367612474717</td>\n",
              "        <td style=\"padding-left: 1em; padding-right: 1em; text-align: center; vertical-align: top\">10</td>\n",
              "    </tr>\n",
              "</table>\n",
              "[10 rows x 4 columns]<br/>\n",
              "</div>"
            ],
            "text/plain": [
              "Columns:\n",
              "\tUserID\tint\n",
              "\tGame\tstr\n",
              "\tscore\tfloat\n",
              "\trank\tint\n",
              "\n",
              "Rows: 10\n",
              "\n",
              "Data:\n",
              "+----------+-------------------------------+--------------------+------+\n",
              "|  UserID  |              Game             |       score        | rank |\n",
              "+----------+-------------------------------+--------------------+------+\n",
              "| 33865373 |   Sid Meier's Civilization V  | 4.441703007983522  |  1   |\n",
              "| 33865373 | Counter-Strike Global Offe... | 4.134892919527845  |  2   |\n",
              "| 33865373 |     Counter-Strike Source     | 3.6458142189853944 |  3   |\n",
              "| 33865373 |     Football Manager 2012     | 3.6027473373883523 |  4   |\n",
              "| 33865373 |  Counter-Strike Nexon Zombies | 3.5013963295691766 |  5   |\n",
              "| 33865373 |           UberStrike          |  3.43334716694291  |  6   |\n",
              "| 33865373 |      Sniper Ghost Warrior     | 3.4325565634840287 |  7   |\n",
              "| 33865373 | Call of Duty Modern Warfar... | 3.373797358440713  |  8   |\n",
              "| 33865373 |     Call of Duty Black Ops    | 3.236289420592145  |  9   |\n",
              "| 33865373 |     Football Manager 2013     | 3.2354367612474717 |  10  |\n",
              "+----------+-------------------------------+--------------------+------+\n",
              "[10 rows x 4 columns]"
            ]
          },
          "metadata": {
            "tags": []
          },
          "execution_count": 33
        }
      ]
    },
    {
      "cell_type": "markdown",
      "metadata": {
        "id": "lozNJ4b3QGGk",
        "colab_type": "text"
      },
      "source": [
        "### Creating a dataframe"
      ]
    },
    {
      "cell_type": "code",
      "metadata": {
        "id": "vCHBlZl8_OhP",
        "colab_type": "code",
        "outputId": "65af0eb4-fa9d-41a9-90c0-fd2defca1a27",
        "colab": {
          "base_uri": "https://localhost:8080/",
          "height": 363
        }
      },
      "source": [
        "fact3 = pd.DataFrame(fr3)\n",
        "fact3.drop([\"UserID\",\"rank\"],axis = 1, inplace = True)\n",
        "fact3.rename(columns={'Game': 'Game_FR', 'score': 'score_FR'}, inplace=True)\n",
        "fact3.head(10)"
      ],
      "execution_count": 34,
      "outputs": [
        {
          "output_type": "execute_result",
          "data": {
            "text/html": [
              "<div>\n",
              "<style scoped>\n",
              "    .dataframe tbody tr th:only-of-type {\n",
              "        vertical-align: middle;\n",
              "    }\n",
              "\n",
              "    .dataframe tbody tr th {\n",
              "        vertical-align: top;\n",
              "    }\n",
              "\n",
              "    .dataframe thead th {\n",
              "        text-align: right;\n",
              "    }\n",
              "</style>\n",
              "<table border=\"1\" class=\"dataframe\">\n",
              "  <thead>\n",
              "    <tr style=\"text-align: right;\">\n",
              "      <th></th>\n",
              "      <th>Game_FR</th>\n",
              "      <th>score_FR</th>\n",
              "    </tr>\n",
              "  </thead>\n",
              "  <tbody>\n",
              "    <tr>\n",
              "      <th>0</th>\n",
              "      <td>Sid Meier's Civilization V</td>\n",
              "      <td>4.441703</td>\n",
              "    </tr>\n",
              "    <tr>\n",
              "      <th>1</th>\n",
              "      <td>Counter-Strike Global Offensive</td>\n",
              "      <td>4.134893</td>\n",
              "    </tr>\n",
              "    <tr>\n",
              "      <th>2</th>\n",
              "      <td>Counter-Strike Source</td>\n",
              "      <td>3.645814</td>\n",
              "    </tr>\n",
              "    <tr>\n",
              "      <th>3</th>\n",
              "      <td>Football Manager 2012</td>\n",
              "      <td>3.602747</td>\n",
              "    </tr>\n",
              "    <tr>\n",
              "      <th>4</th>\n",
              "      <td>Counter-Strike Nexon Zombies</td>\n",
              "      <td>3.501396</td>\n",
              "    </tr>\n",
              "    <tr>\n",
              "      <th>5</th>\n",
              "      <td>UberStrike</td>\n",
              "      <td>3.433347</td>\n",
              "    </tr>\n",
              "    <tr>\n",
              "      <th>6</th>\n",
              "      <td>Sniper Ghost Warrior</td>\n",
              "      <td>3.432557</td>\n",
              "    </tr>\n",
              "    <tr>\n",
              "      <th>7</th>\n",
              "      <td>Call of Duty Modern Warfare 2 - Multiplayer</td>\n",
              "      <td>3.373797</td>\n",
              "    </tr>\n",
              "    <tr>\n",
              "      <th>8</th>\n",
              "      <td>Call of Duty Black Ops</td>\n",
              "      <td>3.236289</td>\n",
              "    </tr>\n",
              "    <tr>\n",
              "      <th>9</th>\n",
              "      <td>Football Manager 2013</td>\n",
              "      <td>3.235437</td>\n",
              "    </tr>\n",
              "  </tbody>\n",
              "</table>\n",
              "</div>"
            ],
            "text/plain": [
              "                                       Game_FR  score_FR\n",
              "0                   Sid Meier's Civilization V  4.441703\n",
              "1              Counter-Strike Global Offensive  4.134893\n",
              "2                        Counter-Strike Source  3.645814\n",
              "3                        Football Manager 2012  3.602747\n",
              "4                 Counter-Strike Nexon Zombies  3.501396\n",
              "5                                   UberStrike  3.433347\n",
              "6                         Sniper Ghost Warrior  3.432557\n",
              "7  Call of Duty Modern Warfare 2 - Multiplayer  3.373797\n",
              "8                       Call of Duty Black Ops  3.236289\n",
              "9                        Football Manager 2013  3.235437"
            ]
          },
          "metadata": {
            "tags": []
          },
          "execution_count": 34
        }
      ]
    },
    {
      "cell_type": "code",
      "metadata": {
        "id": "2ewlpcjkeYHn",
        "colab_type": "code",
        "outputId": "f6e29c9e-2f7c-4e01-92b4-9830e85d03b0",
        "colab": {
          "base_uri": "https://localhost:8080/",
          "height": 424
        }
      },
      "source": [
        "clean_df.loc[clean_df[\"UserID\"] == 33865373,[\"Game\",\"Played_hours\",\"Ranking\"]]"
      ],
      "execution_count": 35,
      "outputs": [
        {
          "output_type": "execute_result",
          "data": {
            "text/html": [
              "<div>\n",
              "<style scoped>\n",
              "    .dataframe tbody tr th:only-of-type {\n",
              "        vertical-align: middle;\n",
              "    }\n",
              "\n",
              "    .dataframe tbody tr th {\n",
              "        vertical-align: top;\n",
              "    }\n",
              "\n",
              "    .dataframe thead th {\n",
              "        text-align: right;\n",
              "    }\n",
              "</style>\n",
              "<table border=\"1\" class=\"dataframe\">\n",
              "  <thead>\n",
              "    <tr style=\"text-align: right;\">\n",
              "      <th></th>\n",
              "      <th>Game</th>\n",
              "      <th>Played_hours</th>\n",
              "      <th>Ranking</th>\n",
              "    </tr>\n",
              "  </thead>\n",
              "  <tbody>\n",
              "    <tr>\n",
              "      <th>47739</th>\n",
              "      <td>The Elder Scrolls V Skyrim</td>\n",
              "      <td>345.0</td>\n",
              "      <td>10.0</td>\n",
              "    </tr>\n",
              "    <tr>\n",
              "      <th>47740</th>\n",
              "      <td>The Elder Scrolls IV Oblivion</td>\n",
              "      <td>239.0</td>\n",
              "      <td>7.0</td>\n",
              "    </tr>\n",
              "    <tr>\n",
              "      <th>47741</th>\n",
              "      <td>Fallout New Vegas</td>\n",
              "      <td>198.0</td>\n",
              "      <td>6.0</td>\n",
              "    </tr>\n",
              "    <tr>\n",
              "      <th>47742</th>\n",
              "      <td>Sid Meier's Civilization IV</td>\n",
              "      <td>135.0</td>\n",
              "      <td>4.0</td>\n",
              "    </tr>\n",
              "    <tr>\n",
              "      <th>47743</th>\n",
              "      <td>Sid Meier's Civilization IV</td>\n",
              "      <td>2.0</td>\n",
              "      <td>1.0</td>\n",
              "    </tr>\n",
              "    <tr>\n",
              "      <th>...</th>\n",
              "      <td>...</td>\n",
              "      <td>...</td>\n",
              "      <td>...</td>\n",
              "    </tr>\n",
              "    <tr>\n",
              "      <th>48519</th>\n",
              "      <td>Xenophage</td>\n",
              "      <td>0.0</td>\n",
              "      <td>1.0</td>\n",
              "    </tr>\n",
              "    <tr>\n",
              "      <th>48520</th>\n",
              "      <td>Xotic</td>\n",
              "      <td>0.0</td>\n",
              "      <td>1.0</td>\n",
              "    </tr>\n",
              "    <tr>\n",
              "      <th>48521</th>\n",
              "      <td>Zafehouse Diaries</td>\n",
              "      <td>0.0</td>\n",
              "      <td>1.0</td>\n",
              "    </tr>\n",
              "    <tr>\n",
              "      <th>48522</th>\n",
              "      <td>Zen Bound 2</td>\n",
              "      <td>0.0</td>\n",
              "      <td>1.0</td>\n",
              "    </tr>\n",
              "    <tr>\n",
              "      <th>48523</th>\n",
              "      <td>Zombie Driver</td>\n",
              "      <td>0.0</td>\n",
              "      <td>1.0</td>\n",
              "    </tr>\n",
              "  </tbody>\n",
              "</table>\n",
              "<p>785 rows × 3 columns</p>\n",
              "</div>"
            ],
            "text/plain": [
              "                                 Game  Played_hours  Ranking\n",
              "47739      The Elder Scrolls V Skyrim         345.0     10.0\n",
              "47740  The Elder Scrolls IV Oblivion          239.0      7.0\n",
              "47741               Fallout New Vegas         198.0      6.0\n",
              "47742     Sid Meier's Civilization IV         135.0      4.0\n",
              "47743     Sid Meier's Civilization IV           2.0      1.0\n",
              "...                               ...           ...      ...\n",
              "48519                       Xenophage           0.0      1.0\n",
              "48520                           Xotic           0.0      1.0\n",
              "48521               Zafehouse Diaries           0.0      1.0\n",
              "48522                     Zen Bound 2           0.0      1.0\n",
              "48523                   Zombie Driver           0.0      1.0\n",
              "\n",
              "[785 rows x 3 columns]"
            ]
          },
          "metadata": {
            "tags": []
          },
          "execution_count": 35
        }
      ]
    },
    {
      "cell_type": "markdown",
      "metadata": {
        "id": "R8xeu067P197",
        "colab_type": "text"
      },
      "source": [
        "###TOP USER 4"
      ]
    },
    {
      "cell_type": "code",
      "metadata": {
        "id": "A7Dx9HyjTXz1",
        "colab_type": "code",
        "outputId": "9f963b3a-6d9f-403f-a4c9-577b2d5d4f8f",
        "colab": {
          "base_uri": "https://localhost:8080/",
          "height": 302
        }
      },
      "source": [
        "fr4 = m.recommend(users=['30246419'])\n",
        "fr4"
      ],
      "execution_count": 36,
      "outputs": [
        {
          "output_type": "execute_result",
          "data": {
            "text/html": [
              "<div style=\"max-height:1000px;max-width:1500px;overflow:auto;\"><table frame=\"box\" rules=\"cols\">\n",
              "    <tr>\n",
              "        <th style=\"padding-left: 1em; padding-right: 1em; text-align: center\">UserID</th>\n",
              "        <th style=\"padding-left: 1em; padding-right: 1em; text-align: center\">Game</th>\n",
              "        <th style=\"padding-left: 1em; padding-right: 1em; text-align: center\">score</th>\n",
              "        <th style=\"padding-left: 1em; padding-right: 1em; text-align: center\">rank</th>\n",
              "    </tr>\n",
              "    <tr>\n",
              "        <td style=\"padding-left: 1em; padding-right: 1em; text-align: center; vertical-align: top\">30246419</td>\n",
              "        <td style=\"padding-left: 1em; padding-right: 1em; text-align: center; vertical-align: top\">Counter-Strike Global<br>Offensive ...</td>\n",
              "        <td style=\"padding-left: 1em; padding-right: 1em; text-align: center; vertical-align: top\">5.088228316473321</td>\n",
              "        <td style=\"padding-left: 1em; padding-right: 1em; text-align: center; vertical-align: top\">1</td>\n",
              "    </tr>\n",
              "    <tr>\n",
              "        <td style=\"padding-left: 1em; padding-right: 1em; text-align: center; vertical-align: top\">30246419</td>\n",
              "        <td style=\"padding-left: 1em; padding-right: 1em; text-align: center; vertical-align: top\">Dota 2</td>\n",
              "        <td style=\"padding-left: 1em; padding-right: 1em; text-align: center; vertical-align: top\">5.080670034008579</td>\n",
              "        <td style=\"padding-left: 1em; padding-right: 1em; text-align: center; vertical-align: top\">2</td>\n",
              "    </tr>\n",
              "    <tr>\n",
              "        <td style=\"padding-left: 1em; padding-right: 1em; text-align: center; vertical-align: top\">30246419</td>\n",
              "        <td style=\"padding-left: 1em; padding-right: 1em; text-align: center; vertical-align: top\">Grand Theft Auto V</td>\n",
              "        <td style=\"padding-left: 1em; padding-right: 1em; text-align: center; vertical-align: top\">4.513085575270013</td>\n",
              "        <td style=\"padding-left: 1em; padding-right: 1em; text-align: center; vertical-align: top\">3</td>\n",
              "    </tr>\n",
              "    <tr>\n",
              "        <td style=\"padding-left: 1em; padding-right: 1em; text-align: center; vertical-align: top\">30246419</td>\n",
              "        <td style=\"padding-left: 1em; padding-right: 1em; text-align: center; vertical-align: top\">Unturned</td>\n",
              "        <td style=\"padding-left: 1em; padding-right: 1em; text-align: center; vertical-align: top\">4.390760929750757</td>\n",
              "        <td style=\"padding-left: 1em; padding-right: 1em; text-align: center; vertical-align: top\">4</td>\n",
              "    </tr>\n",
              "    <tr>\n",
              "        <td style=\"padding-left: 1em; padding-right: 1em; text-align: center; vertical-align: top\">30246419</td>\n",
              "        <td style=\"padding-left: 1em; padding-right: 1em; text-align: center; vertical-align: top\">Call of Duty Modern<br>Warfare 2 - Multiplayer ...</td>\n",
              "        <td style=\"padding-left: 1em; padding-right: 1em; text-align: center; vertical-align: top\">4.301605553793268</td>\n",
              "        <td style=\"padding-left: 1em; padding-right: 1em; text-align: center; vertical-align: top\">5</td>\n",
              "    </tr>\n",
              "    <tr>\n",
              "        <td style=\"padding-left: 1em; padding-right: 1em; text-align: center; vertical-align: top\">30246419</td>\n",
              "        <td style=\"padding-left: 1em; padding-right: 1em; text-align: center; vertical-align: top\">Football Manager 2012</td>\n",
              "        <td style=\"padding-left: 1em; padding-right: 1em; text-align: center; vertical-align: top\">4.2295291735404295</td>\n",
              "        <td style=\"padding-left: 1em; padding-right: 1em; text-align: center; vertical-align: top\">6</td>\n",
              "    </tr>\n",
              "    <tr>\n",
              "        <td style=\"padding-left: 1em; padding-right: 1em; text-align: center; vertical-align: top\">30246419</td>\n",
              "        <td style=\"padding-left: 1em; padding-right: 1em; text-align: center; vertical-align: top\">Counter-Strike Source</td>\n",
              "        <td style=\"padding-left: 1em; padding-right: 1em; text-align: center; vertical-align: top\">4.1735889925235075</td>\n",
              "        <td style=\"padding-left: 1em; padding-right: 1em; text-align: center; vertical-align: top\">7</td>\n",
              "    </tr>\n",
              "    <tr>\n",
              "        <td style=\"padding-left: 1em; padding-right: 1em; text-align: center; vertical-align: top\">30246419</td>\n",
              "        <td style=\"padding-left: 1em; padding-right: 1em; text-align: center; vertical-align: top\">Counter-Strike Nexon<br>Zombies ...</td>\n",
              "        <td style=\"padding-left: 1em; padding-right: 1em; text-align: center; vertical-align: top\">4.131647737192468</td>\n",
              "        <td style=\"padding-left: 1em; padding-right: 1em; text-align: center; vertical-align: top\">8</td>\n",
              "    </tr>\n",
              "    <tr>\n",
              "        <td style=\"padding-left: 1em; padding-right: 1em; text-align: center; vertical-align: top\">30246419</td>\n",
              "        <td style=\"padding-left: 1em; padding-right: 1em; text-align: center; vertical-align: top\">Call of Duty Black Ops</td>\n",
              "        <td style=\"padding-left: 1em; padding-right: 1em; text-align: center; vertical-align: top\">4.018088729547815</td>\n",
              "        <td style=\"padding-left: 1em; padding-right: 1em; text-align: center; vertical-align: top\">9</td>\n",
              "    </tr>\n",
              "    <tr>\n",
              "        <td style=\"padding-left: 1em; padding-right: 1em; text-align: center; vertical-align: top\">30246419</td>\n",
              "        <td style=\"padding-left: 1em; padding-right: 1em; text-align: center; vertical-align: top\">F1 2012</td>\n",
              "        <td style=\"padding-left: 1em; padding-right: 1em; text-align: center; vertical-align: top\">3.990187020468072</td>\n",
              "        <td style=\"padding-left: 1em; padding-right: 1em; text-align: center; vertical-align: top\">10</td>\n",
              "    </tr>\n",
              "</table>\n",
              "[10 rows x 4 columns]<br/>\n",
              "</div>"
            ],
            "text/plain": [
              "Columns:\n",
              "\tUserID\tint\n",
              "\tGame\tstr\n",
              "\tscore\tfloat\n",
              "\trank\tint\n",
              "\n",
              "Rows: 10\n",
              "\n",
              "Data:\n",
              "+----------+-------------------------------+--------------------+------+\n",
              "|  UserID  |              Game             |       score        | rank |\n",
              "+----------+-------------------------------+--------------------+------+\n",
              "| 30246419 | Counter-Strike Global Offe... | 5.088228316473321  |  1   |\n",
              "| 30246419 |             Dota 2            | 5.080670034008579  |  2   |\n",
              "| 30246419 |       Grand Theft Auto V      | 4.513085575270013  |  3   |\n",
              "| 30246419 |            Unturned           | 4.390760929750757  |  4   |\n",
              "| 30246419 | Call of Duty Modern Warfar... | 4.301605553793268  |  5   |\n",
              "| 30246419 |     Football Manager 2012     | 4.2295291735404295 |  6   |\n",
              "| 30246419 |     Counter-Strike Source     | 4.1735889925235075 |  7   |\n",
              "| 30246419 |  Counter-Strike Nexon Zombies | 4.131647737192468  |  8   |\n",
              "| 30246419 |     Call of Duty Black Ops    | 4.018088729547815  |  9   |\n",
              "| 30246419 |            F1 2012            | 3.990187020468072  |  10  |\n",
              "+----------+-------------------------------+--------------------+------+\n",
              "[10 rows x 4 columns]"
            ]
          },
          "metadata": {
            "tags": []
          },
          "execution_count": 36
        }
      ]
    },
    {
      "cell_type": "markdown",
      "metadata": {
        "id": "MM8qBgoeQDzK",
        "colab_type": "text"
      },
      "source": [
        "### Creating a dataframe"
      ]
    },
    {
      "cell_type": "code",
      "metadata": {
        "id": "QEeholur_Wib",
        "colab_type": "code",
        "outputId": "33aea739-bc5c-4e68-c103-0cee3f5298ad",
        "colab": {
          "base_uri": "https://localhost:8080/",
          "height": 363
        }
      },
      "source": [
        "fact4 = pd.DataFrame(fr4)\n",
        "fact4.drop([\"UserID\",\"rank\"],axis = 1, inplace = True)\n",
        "fact4.rename(columns={'Game': 'Game_FR', 'score': 'score_FR'}, inplace=True)\n",
        "fact4.head(10)"
      ],
      "execution_count": 37,
      "outputs": [
        {
          "output_type": "execute_result",
          "data": {
            "text/html": [
              "<div>\n",
              "<style scoped>\n",
              "    .dataframe tbody tr th:only-of-type {\n",
              "        vertical-align: middle;\n",
              "    }\n",
              "\n",
              "    .dataframe tbody tr th {\n",
              "        vertical-align: top;\n",
              "    }\n",
              "\n",
              "    .dataframe thead th {\n",
              "        text-align: right;\n",
              "    }\n",
              "</style>\n",
              "<table border=\"1\" class=\"dataframe\">\n",
              "  <thead>\n",
              "    <tr style=\"text-align: right;\">\n",
              "      <th></th>\n",
              "      <th>Game_FR</th>\n",
              "      <th>score_FR</th>\n",
              "    </tr>\n",
              "  </thead>\n",
              "  <tbody>\n",
              "    <tr>\n",
              "      <th>0</th>\n",
              "      <td>Counter-Strike Global Offensive</td>\n",
              "      <td>5.088228</td>\n",
              "    </tr>\n",
              "    <tr>\n",
              "      <th>1</th>\n",
              "      <td>Dota 2</td>\n",
              "      <td>5.080670</td>\n",
              "    </tr>\n",
              "    <tr>\n",
              "      <th>2</th>\n",
              "      <td>Grand Theft Auto V</td>\n",
              "      <td>4.513086</td>\n",
              "    </tr>\n",
              "    <tr>\n",
              "      <th>3</th>\n",
              "      <td>Unturned</td>\n",
              "      <td>4.390761</td>\n",
              "    </tr>\n",
              "    <tr>\n",
              "      <th>4</th>\n",
              "      <td>Call of Duty Modern Warfare 2 - Multiplayer</td>\n",
              "      <td>4.301606</td>\n",
              "    </tr>\n",
              "    <tr>\n",
              "      <th>5</th>\n",
              "      <td>Football Manager 2012</td>\n",
              "      <td>4.229529</td>\n",
              "    </tr>\n",
              "    <tr>\n",
              "      <th>6</th>\n",
              "      <td>Counter-Strike Source</td>\n",
              "      <td>4.173589</td>\n",
              "    </tr>\n",
              "    <tr>\n",
              "      <th>7</th>\n",
              "      <td>Counter-Strike Nexon Zombies</td>\n",
              "      <td>4.131648</td>\n",
              "    </tr>\n",
              "    <tr>\n",
              "      <th>8</th>\n",
              "      <td>Call of Duty Black Ops</td>\n",
              "      <td>4.018089</td>\n",
              "    </tr>\n",
              "    <tr>\n",
              "      <th>9</th>\n",
              "      <td>F1 2012</td>\n",
              "      <td>3.990187</td>\n",
              "    </tr>\n",
              "  </tbody>\n",
              "</table>\n",
              "</div>"
            ],
            "text/plain": [
              "                                       Game_FR  score_FR\n",
              "0              Counter-Strike Global Offensive  5.088228\n",
              "1                                       Dota 2  5.080670\n",
              "2                           Grand Theft Auto V  4.513086\n",
              "3                                     Unturned  4.390761\n",
              "4  Call of Duty Modern Warfare 2 - Multiplayer  4.301606\n",
              "5                        Football Manager 2012  4.229529\n",
              "6                        Counter-Strike Source  4.173589\n",
              "7                 Counter-Strike Nexon Zombies  4.131648\n",
              "8                       Call of Duty Black Ops  4.018089\n",
              "9                                      F1 2012  3.990187"
            ]
          },
          "metadata": {
            "tags": []
          },
          "execution_count": 37
        }
      ]
    },
    {
      "cell_type": "code",
      "metadata": {
        "id": "aGkl1fYSeg2J",
        "colab_type": "code",
        "outputId": "25213a74-44a5-405e-8f6b-0f24ffdc6ebf",
        "colab": {
          "base_uri": "https://localhost:8080/",
          "height": 424
        }
      },
      "source": [
        "clean_df.loc[clean_df[\"UserID\"] == 30246419,[\"Game\",\"Played_hours\",\"Ranking\"]]"
      ],
      "execution_count": 38,
      "outputs": [
        {
          "output_type": "execute_result",
          "data": {
            "text/html": [
              "<div>\n",
              "<style scoped>\n",
              "    .dataframe tbody tr th:only-of-type {\n",
              "        vertical-align: middle;\n",
              "    }\n",
              "\n",
              "    .dataframe tbody tr th {\n",
              "        vertical-align: top;\n",
              "    }\n",
              "\n",
              "    .dataframe thead th {\n",
              "        text-align: right;\n",
              "    }\n",
              "</style>\n",
              "<table border=\"1\" class=\"dataframe\">\n",
              "  <thead>\n",
              "    <tr style=\"text-align: right;\">\n",
              "      <th></th>\n",
              "      <th>Game</th>\n",
              "      <th>Played_hours</th>\n",
              "      <th>Ranking</th>\n",
              "    </tr>\n",
              "  </thead>\n",
              "  <tbody>\n",
              "    <tr>\n",
              "      <th>62101</th>\n",
              "      <td>The Witcher 3 Wild Hunt</td>\n",
              "      <td>99.0</td>\n",
              "      <td>10.0</td>\n",
              "    </tr>\n",
              "    <tr>\n",
              "      <th>62102</th>\n",
              "      <td>Fallout 4</td>\n",
              "      <td>97.0</td>\n",
              "      <td>10.0</td>\n",
              "    </tr>\n",
              "    <tr>\n",
              "      <th>62103</th>\n",
              "      <td>Two Worlds II</td>\n",
              "      <td>61.0</td>\n",
              "      <td>7.0</td>\n",
              "    </tr>\n",
              "    <tr>\n",
              "      <th>62104</th>\n",
              "      <td>Test Drive Unlimited 2</td>\n",
              "      <td>57.0</td>\n",
              "      <td>6.0</td>\n",
              "    </tr>\n",
              "    <tr>\n",
              "      <th>62105</th>\n",
              "      <td>Middle-earth Shadow of Mordor</td>\n",
              "      <td>53.0</td>\n",
              "      <td>6.0</td>\n",
              "    </tr>\n",
              "    <tr>\n",
              "      <th>...</th>\n",
              "      <td>...</td>\n",
              "      <td>...</td>\n",
              "      <td>...</td>\n",
              "    </tr>\n",
              "    <tr>\n",
              "      <th>62862</th>\n",
              "      <td>Yury</td>\n",
              "      <td>0.0</td>\n",
              "      <td>1.0</td>\n",
              "    </tr>\n",
              "    <tr>\n",
              "      <th>62863</th>\n",
              "      <td>Z</td>\n",
              "      <td>0.0</td>\n",
              "      <td>1.0</td>\n",
              "    </tr>\n",
              "    <tr>\n",
              "      <th>62864</th>\n",
              "      <td>Zafehouse Diaries</td>\n",
              "      <td>0.0</td>\n",
              "      <td>1.0</td>\n",
              "    </tr>\n",
              "    <tr>\n",
              "      <th>62865</th>\n",
              "      <td>Zeno Clash 2</td>\n",
              "      <td>0.0</td>\n",
              "      <td>1.0</td>\n",
              "    </tr>\n",
              "    <tr>\n",
              "      <th>62866</th>\n",
              "      <td>Zooloretto</td>\n",
              "      <td>0.0</td>\n",
              "      <td>1.0</td>\n",
              "    </tr>\n",
              "  </tbody>\n",
              "</table>\n",
              "<p>766 rows × 3 columns</p>\n",
              "</div>"
            ],
            "text/plain": [
              "                                Game  Played_hours  Ranking\n",
              "62101        The Witcher 3 Wild Hunt          99.0     10.0\n",
              "62102                      Fallout 4          97.0     10.0\n",
              "62103                  Two Worlds II          61.0      7.0\n",
              "62104         Test Drive Unlimited 2          57.0      6.0\n",
              "62105  Middle-earth Shadow of Mordor          53.0      6.0\n",
              "...                              ...           ...      ...\n",
              "62862                           Yury           0.0      1.0\n",
              "62863                              Z           0.0      1.0\n",
              "62864              Zafehouse Diaries           0.0      1.0\n",
              "62865                   Zeno Clash 2           0.0      1.0\n",
              "62866                     Zooloretto           0.0      1.0\n",
              "\n",
              "[766 rows x 3 columns]"
            ]
          },
          "metadata": {
            "tags": []
          },
          "execution_count": 38
        }
      ]
    },
    {
      "cell_type": "markdown",
      "metadata": {
        "id": "juVh6A0iP44L",
        "colab_type": "text"
      },
      "source": [
        "###TOP USER 5"
      ]
    },
    {
      "cell_type": "code",
      "metadata": {
        "id": "_Z9GRAL4ThiS",
        "colab_type": "code",
        "outputId": "9ce823be-8aa5-4f4b-d707-5779a3258c11",
        "colab": {
          "base_uri": "https://localhost:8080/",
          "height": 249
        }
      },
      "source": [
        "fr5 = m.recommend(users=['58345543'])\n",
        "fr5"
      ],
      "execution_count": 39,
      "outputs": [
        {
          "output_type": "execute_result",
          "data": {
            "text/html": [
              "<div style=\"max-height:1000px;max-width:1500px;overflow:auto;\"><table frame=\"box\" rules=\"cols\">\n",
              "    <tr>\n",
              "        <th style=\"padding-left: 1em; padding-right: 1em; text-align: center\">UserID</th>\n",
              "        <th style=\"padding-left: 1em; padding-right: 1em; text-align: center\">Game</th>\n",
              "        <th style=\"padding-left: 1em; padding-right: 1em; text-align: center\">score</th>\n",
              "        <th style=\"padding-left: 1em; padding-right: 1em; text-align: center\">rank</th>\n",
              "    </tr>\n",
              "    <tr>\n",
              "        <td style=\"padding-left: 1em; padding-right: 1em; text-align: center; vertical-align: top\">58345543</td>\n",
              "        <td style=\"padding-left: 1em; padding-right: 1em; text-align: center; vertical-align: top\">Grand Theft Auto V</td>\n",
              "        <td style=\"padding-left: 1em; padding-right: 1em; text-align: center; vertical-align: top\">4.697976396846132</td>\n",
              "        <td style=\"padding-left: 1em; padding-right: 1em; text-align: center; vertical-align: top\">1</td>\n",
              "    </tr>\n",
              "    <tr>\n",
              "        <td style=\"padding-left: 1em; padding-right: 1em; text-align: center; vertical-align: top\">58345543</td>\n",
              "        <td style=\"padding-left: 1em; padding-right: 1em; text-align: center; vertical-align: top\">Football Manager 2012</td>\n",
              "        <td style=\"padding-left: 1em; padding-right: 1em; text-align: center; vertical-align: top\">4.267308340834932</td>\n",
              "        <td style=\"padding-left: 1em; padding-right: 1em; text-align: center; vertical-align: top\">2</td>\n",
              "    </tr>\n",
              "    <tr>\n",
              "        <td style=\"padding-left: 1em; padding-right: 1em; text-align: center; vertical-align: top\">58345543</td>\n",
              "        <td style=\"padding-left: 1em; padding-right: 1em; text-align: center; vertical-align: top\">Euro Truck Simulator 2</td>\n",
              "        <td style=\"padding-left: 1em; padding-right: 1em; text-align: center; vertical-align: top\">4.247729228305177</td>\n",
              "        <td style=\"padding-left: 1em; padding-right: 1em; text-align: center; vertical-align: top\">3</td>\n",
              "    </tr>\n",
              "    <tr>\n",
              "        <td style=\"padding-left: 1em; padding-right: 1em; text-align: center; vertical-align: top\">58345543</td>\n",
              "        <td style=\"padding-left: 1em; padding-right: 1em; text-align: center; vertical-align: top\">F1 2012</td>\n",
              "        <td style=\"padding-left: 1em; padding-right: 1em; text-align: center; vertical-align: top\">4.076017187403993</td>\n",
              "        <td style=\"padding-left: 1em; padding-right: 1em; text-align: center; vertical-align: top\">4</td>\n",
              "    </tr>\n",
              "    <tr>\n",
              "        <td style=\"padding-left: 1em; padding-right: 1em; text-align: center; vertical-align: top\">58345543</td>\n",
              "        <td style=\"padding-left: 1em; padding-right: 1em; text-align: center; vertical-align: top\">H1Z1</td>\n",
              "        <td style=\"padding-left: 1em; padding-right: 1em; text-align: center; vertical-align: top\">4.069415257739381</td>\n",
              "        <td style=\"padding-left: 1em; padding-right: 1em; text-align: center; vertical-align: top\">5</td>\n",
              "    </tr>\n",
              "    <tr>\n",
              "        <td style=\"padding-left: 1em; padding-right: 1em; text-align: center; vertical-align: top\">58345543</td>\n",
              "        <td style=\"padding-left: 1em; padding-right: 1em; text-align: center; vertical-align: top\">Sniper Ghost Warrior</td>\n",
              "        <td style=\"padding-left: 1em; padding-right: 1em; text-align: center; vertical-align: top\">4.047849045562105</td>\n",
              "        <td style=\"padding-left: 1em; padding-right: 1em; text-align: center; vertical-align: top\">6</td>\n",
              "    </tr>\n",
              "    <tr>\n",
              "        <td style=\"padding-left: 1em; padding-right: 1em; text-align: center; vertical-align: top\">58345543</td>\n",
              "        <td style=\"padding-left: 1em; padding-right: 1em; text-align: center; vertical-align: top\">Half-Life Blue Shift</td>\n",
              "        <td style=\"padding-left: 1em; padding-right: 1em; text-align: center; vertical-align: top\">4.043884502219514</td>\n",
              "        <td style=\"padding-left: 1em; padding-right: 1em; text-align: center; vertical-align: top\">7</td>\n",
              "    </tr>\n",
              "    <tr>\n",
              "        <td style=\"padding-left: 1em; padding-right: 1em; text-align: center; vertical-align: top\">58345543</td>\n",
              "        <td style=\"padding-left: 1em; padding-right: 1em; text-align: center; vertical-align: top\">Counter-Strike</td>\n",
              "        <td style=\"padding-left: 1em; padding-right: 1em; text-align: center; vertical-align: top\">3.9897270737760824</td>\n",
              "        <td style=\"padding-left: 1em; padding-right: 1em; text-align: center; vertical-align: top\">8</td>\n",
              "    </tr>\n",
              "    <tr>\n",
              "        <td style=\"padding-left: 1em; padding-right: 1em; text-align: center; vertical-align: top\">58345543</td>\n",
              "        <td style=\"padding-left: 1em; padding-right: 1em; text-align: center; vertical-align: top\">RACE 07</td>\n",
              "        <td style=\"padding-left: 1em; padding-right: 1em; text-align: center; vertical-align: top\">3.8844409896605767</td>\n",
              "        <td style=\"padding-left: 1em; padding-right: 1em; text-align: center; vertical-align: top\">9</td>\n",
              "    </tr>\n",
              "    <tr>\n",
              "        <td style=\"padding-left: 1em; padding-right: 1em; text-align: center; vertical-align: top\">58345543</td>\n",
              "        <td style=\"padding-left: 1em; padding-right: 1em; text-align: center; vertical-align: top\">Team Fortress Classic</td>\n",
              "        <td style=\"padding-left: 1em; padding-right: 1em; text-align: center; vertical-align: top\">3.8760065896981515</td>\n",
              "        <td style=\"padding-left: 1em; padding-right: 1em; text-align: center; vertical-align: top\">10</td>\n",
              "    </tr>\n",
              "</table>\n",
              "[10 rows x 4 columns]<br/>\n",
              "</div>"
            ],
            "text/plain": [
              "Columns:\n",
              "\tUserID\tint\n",
              "\tGame\tstr\n",
              "\tscore\tfloat\n",
              "\trank\tint\n",
              "\n",
              "Rows: 10\n",
              "\n",
              "Data:\n",
              "+----------+------------------------+--------------------+------+\n",
              "|  UserID  |          Game          |       score        | rank |\n",
              "+----------+------------------------+--------------------+------+\n",
              "| 58345543 |   Grand Theft Auto V   | 4.697976396846132  |  1   |\n",
              "| 58345543 | Football Manager 2012  | 4.267308340834932  |  2   |\n",
              "| 58345543 | Euro Truck Simulator 2 | 4.247729228305177  |  3   |\n",
              "| 58345543 |        F1 2012         | 4.076017187403993  |  4   |\n",
              "| 58345543 |          H1Z1          | 4.069415257739381  |  5   |\n",
              "| 58345543 |  Sniper Ghost Warrior  | 4.047849045562105  |  6   |\n",
              "| 58345543 |  Half-Life Blue Shift  | 4.043884502219514  |  7   |\n",
              "| 58345543 |     Counter-Strike     | 3.9897270737760824 |  8   |\n",
              "| 58345543 |        RACE 07         | 3.8844409896605767 |  9   |\n",
              "| 58345543 | Team Fortress Classic  | 3.8760065896981515 |  10  |\n",
              "+----------+------------------------+--------------------+------+\n",
              "[10 rows x 4 columns]"
            ]
          },
          "metadata": {
            "tags": []
          },
          "execution_count": 39
        }
      ]
    },
    {
      "cell_type": "markdown",
      "metadata": {
        "id": "cbFr_qfcQI7c",
        "colab_type": "text"
      },
      "source": [
        "### Creating a dataframe"
      ]
    },
    {
      "cell_type": "code",
      "metadata": {
        "id": "zmm9raYm_em1",
        "colab_type": "code",
        "outputId": "e3770b13-76c3-4732-dd97-e7c108fb72af",
        "colab": {
          "base_uri": "https://localhost:8080/",
          "height": 363
        }
      },
      "source": [
        "fact5 = pd.DataFrame(fr5)\n",
        "fact5.drop([\"UserID\",\"rank\"],axis = 1, inplace = True)\n",
        "fact5.rename(columns={'Game': 'Game_FR', 'score': 'score_FR'}, inplace=True)\n",
        "fact5.head(10)"
      ],
      "execution_count": 40,
      "outputs": [
        {
          "output_type": "execute_result",
          "data": {
            "text/html": [
              "<div>\n",
              "<style scoped>\n",
              "    .dataframe tbody tr th:only-of-type {\n",
              "        vertical-align: middle;\n",
              "    }\n",
              "\n",
              "    .dataframe tbody tr th {\n",
              "        vertical-align: top;\n",
              "    }\n",
              "\n",
              "    .dataframe thead th {\n",
              "        text-align: right;\n",
              "    }\n",
              "</style>\n",
              "<table border=\"1\" class=\"dataframe\">\n",
              "  <thead>\n",
              "    <tr style=\"text-align: right;\">\n",
              "      <th></th>\n",
              "      <th>Game_FR</th>\n",
              "      <th>score_FR</th>\n",
              "    </tr>\n",
              "  </thead>\n",
              "  <tbody>\n",
              "    <tr>\n",
              "      <th>0</th>\n",
              "      <td>Grand Theft Auto V</td>\n",
              "      <td>4.697976</td>\n",
              "    </tr>\n",
              "    <tr>\n",
              "      <th>1</th>\n",
              "      <td>Football Manager 2012</td>\n",
              "      <td>4.267308</td>\n",
              "    </tr>\n",
              "    <tr>\n",
              "      <th>2</th>\n",
              "      <td>Euro Truck Simulator 2</td>\n",
              "      <td>4.247729</td>\n",
              "    </tr>\n",
              "    <tr>\n",
              "      <th>3</th>\n",
              "      <td>F1 2012</td>\n",
              "      <td>4.076017</td>\n",
              "    </tr>\n",
              "    <tr>\n",
              "      <th>4</th>\n",
              "      <td>H1Z1</td>\n",
              "      <td>4.069415</td>\n",
              "    </tr>\n",
              "    <tr>\n",
              "      <th>5</th>\n",
              "      <td>Sniper Ghost Warrior</td>\n",
              "      <td>4.047849</td>\n",
              "    </tr>\n",
              "    <tr>\n",
              "      <th>6</th>\n",
              "      <td>Half-Life Blue Shift</td>\n",
              "      <td>4.043885</td>\n",
              "    </tr>\n",
              "    <tr>\n",
              "      <th>7</th>\n",
              "      <td>Counter-Strike</td>\n",
              "      <td>3.989727</td>\n",
              "    </tr>\n",
              "    <tr>\n",
              "      <th>8</th>\n",
              "      <td>RACE 07</td>\n",
              "      <td>3.884441</td>\n",
              "    </tr>\n",
              "    <tr>\n",
              "      <th>9</th>\n",
              "      <td>Team Fortress Classic</td>\n",
              "      <td>3.876007</td>\n",
              "    </tr>\n",
              "  </tbody>\n",
              "</table>\n",
              "</div>"
            ],
            "text/plain": [
              "                  Game_FR  score_FR\n",
              "0      Grand Theft Auto V  4.697976\n",
              "1   Football Manager 2012  4.267308\n",
              "2  Euro Truck Simulator 2  4.247729\n",
              "3                 F1 2012  4.076017\n",
              "4                    H1Z1  4.069415\n",
              "5    Sniper Ghost Warrior  4.047849\n",
              "6    Half-Life Blue Shift  4.043885\n",
              "7          Counter-Strike  3.989727\n",
              "8                 RACE 07  3.884441\n",
              "9   Team Fortress Classic  3.876007"
            ]
          },
          "metadata": {
            "tags": []
          },
          "execution_count": 40
        }
      ]
    },
    {
      "cell_type": "code",
      "metadata": {
        "id": "5Sl75oW-ek-G",
        "colab_type": "code",
        "outputId": "f8eb304b-cfde-49b1-b8f7-ef291d2382b4",
        "colab": {
          "base_uri": "https://localhost:8080/",
          "height": 424
        }
      },
      "source": [
        "clean_df.loc[clean_df[\"UserID\"] == 58345543,[\"Game\",\"Played_hours\",\"Ranking\"]]"
      ],
      "execution_count": 41,
      "outputs": [
        {
          "output_type": "execute_result",
          "data": {
            "text/html": [
              "<div>\n",
              "<style scoped>\n",
              "    .dataframe tbody tr th:only-of-type {\n",
              "        vertical-align: middle;\n",
              "    }\n",
              "\n",
              "    .dataframe tbody tr th {\n",
              "        vertical-align: top;\n",
              "    }\n",
              "\n",
              "    .dataframe thead th {\n",
              "        text-align: right;\n",
              "    }\n",
              "</style>\n",
              "<table border=\"1\" class=\"dataframe\">\n",
              "  <thead>\n",
              "    <tr style=\"text-align: right;\">\n",
              "      <th></th>\n",
              "      <th>Game</th>\n",
              "      <th>Played_hours</th>\n",
              "      <th>Ranking</th>\n",
              "    </tr>\n",
              "  </thead>\n",
              "  <tbody>\n",
              "    <tr>\n",
              "      <th>115598</th>\n",
              "      <td>Spiral Knights</td>\n",
              "      <td>70.0</td>\n",
              "      <td>10.0</td>\n",
              "    </tr>\n",
              "    <tr>\n",
              "      <th>115599</th>\n",
              "      <td>Blacklight Retribution</td>\n",
              "      <td>64.0</td>\n",
              "      <td>10.0</td>\n",
              "    </tr>\n",
              "    <tr>\n",
              "      <th>115600</th>\n",
              "      <td>Dungeon Defenders</td>\n",
              "      <td>56.0</td>\n",
              "      <td>8.0</td>\n",
              "    </tr>\n",
              "    <tr>\n",
              "      <th>115601</th>\n",
              "      <td>Terraria</td>\n",
              "      <td>54.0</td>\n",
              "      <td>8.0</td>\n",
              "    </tr>\n",
              "    <tr>\n",
              "      <th>115602</th>\n",
              "      <td>Borderlands 2</td>\n",
              "      <td>53.0</td>\n",
              "      <td>8.0</td>\n",
              "    </tr>\n",
              "    <tr>\n",
              "      <th>...</th>\n",
              "      <td>...</td>\n",
              "      <td>...</td>\n",
              "      <td>...</td>\n",
              "    </tr>\n",
              "    <tr>\n",
              "      <th>116260</th>\n",
              "      <td>Wrath of Athena</td>\n",
              "      <td>0.0</td>\n",
              "      <td>1.0</td>\n",
              "    </tr>\n",
              "    <tr>\n",
              "      <th>116261</th>\n",
              "      <td>WTFast Gamers Private Network (GPN)</td>\n",
              "      <td>0.0</td>\n",
              "      <td>1.0</td>\n",
              "    </tr>\n",
              "    <tr>\n",
              "      <th>116262</th>\n",
              "      <td>Xam</td>\n",
              "      <td>0.0</td>\n",
              "      <td>1.0</td>\n",
              "    </tr>\n",
              "    <tr>\n",
              "      <th>116263</th>\n",
              "      <td>You Have to Win the Game</td>\n",
              "      <td>0.0</td>\n",
              "      <td>1.0</td>\n",
              "    </tr>\n",
              "    <tr>\n",
              "      <th>116264</th>\n",
              "      <td>Zombies Monsters Robots</td>\n",
              "      <td>0.0</td>\n",
              "      <td>1.0</td>\n",
              "    </tr>\n",
              "  </tbody>\n",
              "</table>\n",
              "<p>667 rows × 3 columns</p>\n",
              "</div>"
            ],
            "text/plain": [
              "                                       Game  Played_hours  Ranking\n",
              "115598                       Spiral Knights          70.0     10.0\n",
              "115599               Blacklight Retribution          64.0     10.0\n",
              "115600                    Dungeon Defenders          56.0      8.0\n",
              "115601                             Terraria          54.0      8.0\n",
              "115602                        Borderlands 2          53.0      8.0\n",
              "...                                     ...           ...      ...\n",
              "116260                      Wrath of Athena           0.0      1.0\n",
              "116261  WTFast Gamers Private Network (GPN)           0.0      1.0\n",
              "116262                                  Xam           0.0      1.0\n",
              "116263             You Have to Win the Game           0.0      1.0\n",
              "116264              Zombies Monsters Robots           0.0      1.0\n",
              "\n",
              "[667 rows x 3 columns]"
            ]
          },
          "metadata": {
            "tags": []
          },
          "execution_count": 41
        }
      ]
    },
    {
      "cell_type": "code",
      "metadata": {
        "id": "UUr1AGfxGgB6",
        "colab_type": "code",
        "outputId": "0433cc11-fc22-4d1b-e580-76bb92da12c3",
        "colab": {
          "base_uri": "https://localhost:8080/",
          "height": 424
        }
      },
      "source": [
        "clean_df.loc[clean_df[\"UserID\"] == 58345543,[\"Game\",\"Played_hours\",\"Ranking\"]]"
      ],
      "execution_count": 42,
      "outputs": [
        {
          "output_type": "execute_result",
          "data": {
            "text/html": [
              "<div>\n",
              "<style scoped>\n",
              "    .dataframe tbody tr th:only-of-type {\n",
              "        vertical-align: middle;\n",
              "    }\n",
              "\n",
              "    .dataframe tbody tr th {\n",
              "        vertical-align: top;\n",
              "    }\n",
              "\n",
              "    .dataframe thead th {\n",
              "        text-align: right;\n",
              "    }\n",
              "</style>\n",
              "<table border=\"1\" class=\"dataframe\">\n",
              "  <thead>\n",
              "    <tr style=\"text-align: right;\">\n",
              "      <th></th>\n",
              "      <th>Game</th>\n",
              "      <th>Played_hours</th>\n",
              "      <th>Ranking</th>\n",
              "    </tr>\n",
              "  </thead>\n",
              "  <tbody>\n",
              "    <tr>\n",
              "      <th>115598</th>\n",
              "      <td>Spiral Knights</td>\n",
              "      <td>70.0</td>\n",
              "      <td>10.0</td>\n",
              "    </tr>\n",
              "    <tr>\n",
              "      <th>115599</th>\n",
              "      <td>Blacklight Retribution</td>\n",
              "      <td>64.0</td>\n",
              "      <td>10.0</td>\n",
              "    </tr>\n",
              "    <tr>\n",
              "      <th>115600</th>\n",
              "      <td>Dungeon Defenders</td>\n",
              "      <td>56.0</td>\n",
              "      <td>8.0</td>\n",
              "    </tr>\n",
              "    <tr>\n",
              "      <th>115601</th>\n",
              "      <td>Terraria</td>\n",
              "      <td>54.0</td>\n",
              "      <td>8.0</td>\n",
              "    </tr>\n",
              "    <tr>\n",
              "      <th>115602</th>\n",
              "      <td>Borderlands 2</td>\n",
              "      <td>53.0</td>\n",
              "      <td>8.0</td>\n",
              "    </tr>\n",
              "    <tr>\n",
              "      <th>...</th>\n",
              "      <td>...</td>\n",
              "      <td>...</td>\n",
              "      <td>...</td>\n",
              "    </tr>\n",
              "    <tr>\n",
              "      <th>116260</th>\n",
              "      <td>Wrath of Athena</td>\n",
              "      <td>0.0</td>\n",
              "      <td>1.0</td>\n",
              "    </tr>\n",
              "    <tr>\n",
              "      <th>116261</th>\n",
              "      <td>WTFast Gamers Private Network (GPN)</td>\n",
              "      <td>0.0</td>\n",
              "      <td>1.0</td>\n",
              "    </tr>\n",
              "    <tr>\n",
              "      <th>116262</th>\n",
              "      <td>Xam</td>\n",
              "      <td>0.0</td>\n",
              "      <td>1.0</td>\n",
              "    </tr>\n",
              "    <tr>\n",
              "      <th>116263</th>\n",
              "      <td>You Have to Win the Game</td>\n",
              "      <td>0.0</td>\n",
              "      <td>1.0</td>\n",
              "    </tr>\n",
              "    <tr>\n",
              "      <th>116264</th>\n",
              "      <td>Zombies Monsters Robots</td>\n",
              "      <td>0.0</td>\n",
              "      <td>1.0</td>\n",
              "    </tr>\n",
              "  </tbody>\n",
              "</table>\n",
              "<p>667 rows × 3 columns</p>\n",
              "</div>"
            ],
            "text/plain": [
              "                                       Game  Played_hours  Ranking\n",
              "115598                       Spiral Knights          70.0     10.0\n",
              "115599               Blacklight Retribution          64.0     10.0\n",
              "115600                    Dungeon Defenders          56.0      8.0\n",
              "115601                             Terraria          54.0      8.0\n",
              "115602                        Borderlands 2          53.0      8.0\n",
              "...                                     ...           ...      ...\n",
              "116260                      Wrath of Athena           0.0      1.0\n",
              "116261  WTFast Gamers Private Network (GPN)           0.0      1.0\n",
              "116262                                  Xam           0.0      1.0\n",
              "116263             You Have to Win the Game           0.0      1.0\n",
              "116264              Zombies Monsters Robots           0.0      1.0\n",
              "\n",
              "[667 rows x 3 columns]"
            ]
          },
          "metadata": {
            "tags": []
          },
          "execution_count": 42
        }
      ]
    },
    {
      "cell_type": "markdown",
      "metadata": {
        "id": "GE8LKrl3sz3U",
        "colab_type": "text"
      },
      "source": [
        "# SECTION 4 - RECOMMENDATION SYSTEM - RANKING FACTORIZATION RECOMMENDER"
      ]
    },
    {
      "cell_type": "markdown",
      "metadata": {
        "id": "b9vGH-vbudal",
        "colab_type": "text"
      },
      "source": [
        "### Ranking Factorization Recommender System"
      ]
    },
    {
      "cell_type": "code",
      "metadata": {
        "id": "xNB6BPyqtGcr",
        "colab_type": "code",
        "outputId": "23bc5bbb-8f95-4c46-a436-71fdc8e3af28",
        "colab": {
          "base_uri": "https://localhost:8080/",
          "height": 955
        }
      },
      "source": [
        "n = tc.ranking_factorization_recommender.create(dfS,\n",
        "\t\t\t                              user_id='UserID',\n",
        "                                    item_id='Game',\n",
        "                                    target='Ranking')\n"
      ],
      "execution_count": 43,
      "outputs": [
        {
          "output_type": "display_data",
          "data": {
            "text/html": [
              "<pre>Preparing data set.</pre>"
            ],
            "text/plain": [
              "Preparing data set."
            ]
          },
          "metadata": {
            "tags": []
          }
        },
        {
          "output_type": "display_data",
          "data": {
            "text/html": [
              "<pre>    Data has 129535 observations with 12393 users and 5155 items.</pre>"
            ],
            "text/plain": [
              "    Data has 129535 observations with 12393 users and 5155 items."
            ]
          },
          "metadata": {
            "tags": []
          }
        },
        {
          "output_type": "display_data",
          "data": {
            "text/html": [
              "<pre>    Data prepared in: 0.194618s</pre>"
            ],
            "text/plain": [
              "    Data prepared in: 0.194618s"
            ]
          },
          "metadata": {
            "tags": []
          }
        },
        {
          "output_type": "display_data",
          "data": {
            "text/html": [
              "<pre>Training ranking_factorization_recommender for recommendations.</pre>"
            ],
            "text/plain": [
              "Training ranking_factorization_recommender for recommendations."
            ]
          },
          "metadata": {
            "tags": []
          }
        },
        {
          "output_type": "display_data",
          "data": {
            "text/html": [
              "<pre>+--------------------------------+--------------------------------------------------+----------+</pre>"
            ],
            "text/plain": [
              "+--------------------------------+--------------------------------------------------+----------+"
            ]
          },
          "metadata": {
            "tags": []
          }
        },
        {
          "output_type": "display_data",
          "data": {
            "text/html": [
              "<pre>| Parameter                      | Description                                      | Value    |</pre>"
            ],
            "text/plain": [
              "| Parameter                      | Description                                      | Value    |"
            ]
          },
          "metadata": {
            "tags": []
          }
        },
        {
          "output_type": "display_data",
          "data": {
            "text/html": [
              "<pre>+--------------------------------+--------------------------------------------------+----------+</pre>"
            ],
            "text/plain": [
              "+--------------------------------+--------------------------------------------------+----------+"
            ]
          },
          "metadata": {
            "tags": []
          }
        },
        {
          "output_type": "display_data",
          "data": {
            "text/html": [
              "<pre>| num_factors                    | Factor Dimension                                 | 32       |</pre>"
            ],
            "text/plain": [
              "| num_factors                    | Factor Dimension                                 | 32       |"
            ]
          },
          "metadata": {
            "tags": []
          }
        },
        {
          "output_type": "display_data",
          "data": {
            "text/html": [
              "<pre>| regularization                 | L2 Regularization on Factors                     | 1e-09    |</pre>"
            ],
            "text/plain": [
              "| regularization                 | L2 Regularization on Factors                     | 1e-09    |"
            ]
          },
          "metadata": {
            "tags": []
          }
        },
        {
          "output_type": "display_data",
          "data": {
            "text/html": [
              "<pre>| solver                         | Solver used for training                         | adagrad  |</pre>"
            ],
            "text/plain": [
              "| solver                         | Solver used for training                         | adagrad  |"
            ]
          },
          "metadata": {
            "tags": []
          }
        },
        {
          "output_type": "display_data",
          "data": {
            "text/html": [
              "<pre>| linear_regularization          | L2 Regularization on Linear Coefficients         | 1e-09    |</pre>"
            ],
            "text/plain": [
              "| linear_regularization          | L2 Regularization on Linear Coefficients         | 1e-09    |"
            ]
          },
          "metadata": {
            "tags": []
          }
        },
        {
          "output_type": "display_data",
          "data": {
            "text/html": [
              "<pre>| ranking_regularization         | Rank-based Regularization Weight                 | 0.25     |</pre>"
            ],
            "text/plain": [
              "| ranking_regularization         | Rank-based Regularization Weight                 | 0.25     |"
            ]
          },
          "metadata": {
            "tags": []
          }
        },
        {
          "output_type": "display_data",
          "data": {
            "text/html": [
              "<pre>| max_iterations                 | Maximum Number of Iterations                     | 25       |</pre>"
            ],
            "text/plain": [
              "| max_iterations                 | Maximum Number of Iterations                     | 25       |"
            ]
          },
          "metadata": {
            "tags": []
          }
        },
        {
          "output_type": "display_data",
          "data": {
            "text/html": [
              "<pre>+--------------------------------+--------------------------------------------------+----------+</pre>"
            ],
            "text/plain": [
              "+--------------------------------+--------------------------------------------------+----------+"
            ]
          },
          "metadata": {
            "tags": []
          }
        },
        {
          "output_type": "display_data",
          "data": {
            "text/html": [
              "<pre>  Optimizing model using SGD; tuning step size.</pre>"
            ],
            "text/plain": [
              "  Optimizing model using SGD; tuning step size."
            ]
          },
          "metadata": {
            "tags": []
          }
        },
        {
          "output_type": "display_data",
          "data": {
            "text/html": [
              "<pre>  Using 16191 / 129535 points for tuning the step size.</pre>"
            ],
            "text/plain": [
              "  Using 16191 / 129535 points for tuning the step size."
            ]
          },
          "metadata": {
            "tags": []
          }
        },
        {
          "output_type": "display_data",
          "data": {
            "text/html": [
              "<pre>+---------+-------------------+------------------------------------------+</pre>"
            ],
            "text/plain": [
              "+---------+-------------------+------------------------------------------+"
            ]
          },
          "metadata": {
            "tags": []
          }
        },
        {
          "output_type": "display_data",
          "data": {
            "text/html": [
              "<pre>| Attempt | Initial Step Size | Estimated Objective Value                |</pre>"
            ],
            "text/plain": [
              "| Attempt | Initial Step Size | Estimated Objective Value                |"
            ]
          },
          "metadata": {
            "tags": []
          }
        },
        {
          "output_type": "display_data",
          "data": {
            "text/html": [
              "<pre>+---------+-------------------+------------------------------------------+</pre>"
            ],
            "text/plain": [
              "+---------+-------------------+------------------------------------------+"
            ]
          },
          "metadata": {
            "tags": []
          }
        },
        {
          "output_type": "display_data",
          "data": {
            "text/html": [
              "<pre>| 0       | 16.6667           | Not Viable                               |</pre>"
            ],
            "text/plain": [
              "| 0       | 16.6667           | Not Viable                               |"
            ]
          },
          "metadata": {
            "tags": []
          }
        },
        {
          "output_type": "display_data",
          "data": {
            "text/html": [
              "<pre>| 1       | 4.16667           | Not Viable                               |</pre>"
            ],
            "text/plain": [
              "| 1       | 4.16667           | Not Viable                               |"
            ]
          },
          "metadata": {
            "tags": []
          }
        },
        {
          "output_type": "display_data",
          "data": {
            "text/html": [
              "<pre>| 2       | 1.04167           | Not Viable                               |</pre>"
            ],
            "text/plain": [
              "| 2       | 1.04167           | Not Viable                               |"
            ]
          },
          "metadata": {
            "tags": []
          }
        },
        {
          "output_type": "display_data",
          "data": {
            "text/html": [
              "<pre>| 3       | 0.260417          | 3.18478                                  |</pre>"
            ],
            "text/plain": [
              "| 3       | 0.260417          | 3.18478                                  |"
            ]
          },
          "metadata": {
            "tags": []
          }
        },
        {
          "output_type": "display_data",
          "data": {
            "text/html": [
              "<pre>| 4       | 0.130208          | 3.72254                                  |</pre>"
            ],
            "text/plain": [
              "| 4       | 0.130208          | 3.72254                                  |"
            ]
          },
          "metadata": {
            "tags": []
          }
        },
        {
          "output_type": "display_data",
          "data": {
            "text/html": [
              "<pre>| 5       | 0.0651042         | 4.43939                                  |</pre>"
            ],
            "text/plain": [
              "| 5       | 0.0651042         | 4.43939                                  |"
            ]
          },
          "metadata": {
            "tags": []
          }
        },
        {
          "output_type": "display_data",
          "data": {
            "text/html": [
              "<pre>| 6       | 0.0325521         | 5.91969                                  |</pre>"
            ],
            "text/plain": [
              "| 6       | 0.0325521         | 5.91969                                  |"
            ]
          },
          "metadata": {
            "tags": []
          }
        },
        {
          "output_type": "display_data",
          "data": {
            "text/html": [
              "<pre>+---------+-------------------+------------------------------------------+</pre>"
            ],
            "text/plain": [
              "+---------+-------------------+------------------------------------------+"
            ]
          },
          "metadata": {
            "tags": []
          }
        },
        {
          "output_type": "display_data",
          "data": {
            "text/html": [
              "<pre>| Final   | 0.260417          | 3.18478                                  |</pre>"
            ],
            "text/plain": [
              "| Final   | 0.260417          | 3.18478                                  |"
            ]
          },
          "metadata": {
            "tags": []
          }
        },
        {
          "output_type": "display_data",
          "data": {
            "text/html": [
              "<pre>+---------+-------------------+------------------------------------------+</pre>"
            ],
            "text/plain": [
              "+---------+-------------------+------------------------------------------+"
            ]
          },
          "metadata": {
            "tags": []
          }
        },
        {
          "output_type": "display_data",
          "data": {
            "text/html": [
              "<pre>Starting Optimization.</pre>"
            ],
            "text/plain": [
              "Starting Optimization."
            ]
          },
          "metadata": {
            "tags": []
          }
        },
        {
          "output_type": "display_data",
          "data": {
            "text/html": [
              "<pre>+---------+--------------+-------------------+-----------------------+-------------+</pre>"
            ],
            "text/plain": [
              "+---------+--------------+-------------------+-----------------------+-------------+"
            ]
          },
          "metadata": {
            "tags": []
          }
        },
        {
          "output_type": "display_data",
          "data": {
            "text/html": [
              "<pre>| Iter.   | Elapsed Time | Approx. Objective | Approx. Training RMSE | Step Size   |</pre>"
            ],
            "text/plain": [
              "| Iter.   | Elapsed Time | Approx. Objective | Approx. Training RMSE | Step Size   |"
            ]
          },
          "metadata": {
            "tags": []
          }
        },
        {
          "output_type": "display_data",
          "data": {
            "text/html": [
              "<pre>+---------+--------------+-------------------+-----------------------+-------------+</pre>"
            ],
            "text/plain": [
              "+---------+--------------+-------------------+-----------------------+-------------+"
            ]
          },
          "metadata": {
            "tags": []
          }
        },
        {
          "output_type": "display_data",
          "data": {
            "text/html": [
              "<pre>| Initial | 90us         | 10.0118           | 2.25989               |             |</pre>"
            ],
            "text/plain": [
              "| Initial | 90us         | 10.0118           | 2.25989               |             |"
            ]
          },
          "metadata": {
            "tags": []
          }
        },
        {
          "output_type": "display_data",
          "data": {
            "text/html": [
              "<pre>+---------+--------------+-------------------+-----------------------+-------------+</pre>"
            ],
            "text/plain": [
              "+---------+--------------+-------------------+-----------------------+-------------+"
            ]
          },
          "metadata": {
            "tags": []
          }
        },
        {
          "output_type": "display_data",
          "data": {
            "text/html": [
              "<pre>| 1       | 334.743ms    | 7.3397            | 2.09122               | 0.260417    |</pre>"
            ],
            "text/plain": [
              "| 1       | 334.743ms    | 7.3397            | 2.09122               | 0.260417    |"
            ]
          },
          "metadata": {
            "tags": []
          }
        },
        {
          "output_type": "display_data",
          "data": {
            "text/html": [
              "<pre>| 2       | 675.114ms    | 5.86347           | 1.69452               | 0.260417    |</pre>"
            ],
            "text/plain": [
              "| 2       | 675.114ms    | 5.86347           | 1.69452               | 0.260417    |"
            ]
          },
          "metadata": {
            "tags": []
          }
        },
        {
          "output_type": "display_data",
          "data": {
            "text/html": [
              "<pre>| 3       | 1.00s        | 4.51602           | 1.3798                | 0.260417    |</pre>"
            ],
            "text/plain": [
              "| 3       | 1.00s        | 4.51602           | 1.3798                | 0.260417    |"
            ]
          },
          "metadata": {
            "tags": []
          }
        },
        {
          "output_type": "display_data",
          "data": {
            "text/html": [
              "<pre>| 4       | 1.33s        | 4.7443            | 1.4842                | 0.260417    |</pre>"
            ],
            "text/plain": [
              "| 4       | 1.33s        | 4.7443            | 1.4842                | 0.260417    |"
            ]
          },
          "metadata": {
            "tags": []
          }
        },
        {
          "output_type": "display_data",
          "data": {
            "text/html": [
              "<pre>| 5       | 1.65s        | 9.5554            | 2.29084               | 0.260417    |</pre>"
            ],
            "text/plain": [
              "| 5       | 1.65s        | 9.5554            | 2.29084               | 0.260417    |"
            ]
          },
          "metadata": {
            "tags": []
          }
        },
        {
          "output_type": "display_data",
          "data": {
            "text/html": [
              "<pre>| 6       | 2.13s        | DIVERGED          | DIVERGED              | 0.260417    |</pre>"
            ],
            "text/plain": [
              "| 6       | 2.13s        | DIVERGED          | DIVERGED              | 0.260417    |"
            ]
          },
          "metadata": {
            "tags": []
          }
        },
        {
          "output_type": "display_data",
          "data": {
            "text/html": [
              "<pre>| RESET   | 2.31s        | 10.0105           | 2.25959               |             |</pre>"
            ],
            "text/plain": [
              "| RESET   | 2.31s        | 10.0105           | 2.25959               |             |"
            ]
          },
          "metadata": {
            "tags": []
          }
        },
        {
          "output_type": "display_data",
          "data": {
            "text/html": [
              "<pre>| 4       | 3.78s        | DIVERGED          | DIVERGED              | 0.130208    |</pre>"
            ],
            "text/plain": [
              "| 4       | 3.78s        | DIVERGED          | DIVERGED              | 0.130208    |"
            ]
          },
          "metadata": {
            "tags": []
          }
        },
        {
          "output_type": "display_data",
          "data": {
            "text/html": [
              "<pre>| RESET   | 3.96s        | 10.0109           | 2.25969               |             |</pre>"
            ],
            "text/plain": [
              "| RESET   | 3.96s        | 10.0109           | 2.25969               |             |"
            ]
          },
          "metadata": {
            "tags": []
          }
        },
        {
          "output_type": "display_data",
          "data": {
            "text/html": [
              "<pre>| 1       | 4.30s        | 7.04904           | 1.93855               | 0.0651042   |</pre>"
            ],
            "text/plain": [
              "| 1       | 4.30s        | 7.04904           | 1.93855               | 0.0651042   |"
            ]
          },
          "metadata": {
            "tags": []
          }
        },
        {
          "output_type": "display_data",
          "data": {
            "text/html": [
              "<pre>| 7       | 6.40s        | DIVERGED          | DIVERGED              | 0.0651042   |</pre>"
            ],
            "text/plain": [
              "| 7       | 6.40s        | DIVERGED          | DIVERGED              | 0.0651042   |"
            ]
          },
          "metadata": {
            "tags": []
          }
        },
        {
          "output_type": "display_data",
          "data": {
            "text/html": [
              "<pre>| RESET   | 6.58s        | 10.0117           | 2.25986               |             |</pre>"
            ],
            "text/plain": [
              "| RESET   | 6.58s        | 10.0117           | 2.25986               |             |"
            ]
          },
          "metadata": {
            "tags": []
          }
        },
        {
          "output_type": "display_data",
          "data": {
            "text/html": [
              "<pre>| 3       | 7.57s        | 7.38778           | 1.87124               | 0.0325521   |</pre>"
            ],
            "text/plain": [
              "| 3       | 7.57s        | 7.38778           | 1.87124               | 0.0325521   |"
            ]
          },
          "metadata": {
            "tags": []
          }
        },
        {
          "output_type": "display_data",
          "data": {
            "text/html": [
              "<pre>| 13      | 10.77s       | 6.6997            | 1.84335               | 0.0325521   |</pre>"
            ],
            "text/plain": [
              "| 13      | 10.77s       | 6.6997            | 1.84335               | 0.0325521   |"
            ]
          },
          "metadata": {
            "tags": []
          }
        },
        {
          "output_type": "display_data",
          "data": {
            "text/html": [
              "<pre>+---------+--------------+-------------------+-----------------------+-------------+</pre>"
            ],
            "text/plain": [
              "+---------+--------------+-------------------+-----------------------+-------------+"
            ]
          },
          "metadata": {
            "tags": []
          }
        },
        {
          "output_type": "display_data",
          "data": {
            "text/html": [
              "<pre>Optimization Complete: Maximum number of passes through the data reached (hard limit).</pre>"
            ],
            "text/plain": [
              "Optimization Complete: Maximum number of passes through the data reached (hard limit)."
            ]
          },
          "metadata": {
            "tags": []
          }
        },
        {
          "output_type": "display_data",
          "data": {
            "text/html": [
              "<pre>Computing final objective value and training RMSE.</pre>"
            ],
            "text/plain": [
              "Computing final objective value and training RMSE."
            ]
          },
          "metadata": {
            "tags": []
          }
        },
        {
          "output_type": "display_data",
          "data": {
            "text/html": [
              "<pre>       Final objective value: 6.64004</pre>"
            ],
            "text/plain": [
              "       Final objective value: 6.64004"
            ]
          },
          "metadata": {
            "tags": []
          }
        },
        {
          "output_type": "display_data",
          "data": {
            "text/html": [
              "<pre>       Final training RMSE: 1.82733</pre>"
            ],
            "text/plain": [
              "       Final training RMSE: 1.82733"
            ]
          },
          "metadata": {
            "tags": []
          }
        }
      ]
    },
    {
      "cell_type": "code",
      "metadata": {
        "id": "6Y6TY84TkcVb",
        "colab_type": "code",
        "outputId": "f1ee8f32-d736-49c8-ff6c-b916fdaec2b2",
        "colab": {
          "base_uri": "https://localhost:8080/",
          "height": 225
        }
      },
      "source": [
        "recommendations = n.recommend()"
      ],
      "execution_count": 44,
      "outputs": [
        {
          "output_type": "display_data",
          "data": {
            "text/html": [
              "<pre>recommendations finished on 1000/12393 queries. users per second: 2198</pre>"
            ],
            "text/plain": [
              "recommendations finished on 1000/12393 queries. users per second: 2198"
            ]
          },
          "metadata": {
            "tags": []
          }
        },
        {
          "output_type": "display_data",
          "data": {
            "text/html": [
              "<pre>recommendations finished on 2000/12393 queries. users per second: 2194.97</pre>"
            ],
            "text/plain": [
              "recommendations finished on 2000/12393 queries. users per second: 2194.97"
            ]
          },
          "metadata": {
            "tags": []
          }
        },
        {
          "output_type": "display_data",
          "data": {
            "text/html": [
              "<pre>recommendations finished on 3000/12393 queries. users per second: 2210.86</pre>"
            ],
            "text/plain": [
              "recommendations finished on 3000/12393 queries. users per second: 2210.86"
            ]
          },
          "metadata": {
            "tags": []
          }
        },
        {
          "output_type": "display_data",
          "data": {
            "text/html": [
              "<pre>recommendations finished on 4000/12393 queries. users per second: 2206.7</pre>"
            ],
            "text/plain": [
              "recommendations finished on 4000/12393 queries. users per second: 2206.7"
            ]
          },
          "metadata": {
            "tags": []
          }
        },
        {
          "output_type": "display_data",
          "data": {
            "text/html": [
              "<pre>recommendations finished on 5000/12393 queries. users per second: 2202.91</pre>"
            ],
            "text/plain": [
              "recommendations finished on 5000/12393 queries. users per second: 2202.91"
            ]
          },
          "metadata": {
            "tags": []
          }
        },
        {
          "output_type": "display_data",
          "data": {
            "text/html": [
              "<pre>recommendations finished on 6000/12393 queries. users per second: 2209.09</pre>"
            ],
            "text/plain": [
              "recommendations finished on 6000/12393 queries. users per second: 2209.09"
            ]
          },
          "metadata": {
            "tags": []
          }
        },
        {
          "output_type": "display_data",
          "data": {
            "text/html": [
              "<pre>recommendations finished on 7000/12393 queries. users per second: 2209.08</pre>"
            ],
            "text/plain": [
              "recommendations finished on 7000/12393 queries. users per second: 2209.08"
            ]
          },
          "metadata": {
            "tags": []
          }
        },
        {
          "output_type": "display_data",
          "data": {
            "text/html": [
              "<pre>recommendations finished on 8000/12393 queries. users per second: 2213.27</pre>"
            ],
            "text/plain": [
              "recommendations finished on 8000/12393 queries. users per second: 2213.27"
            ]
          },
          "metadata": {
            "tags": []
          }
        },
        {
          "output_type": "display_data",
          "data": {
            "text/html": [
              "<pre>recommendations finished on 9000/12393 queries. users per second: 2220.74</pre>"
            ],
            "text/plain": [
              "recommendations finished on 9000/12393 queries. users per second: 2220.74"
            ]
          },
          "metadata": {
            "tags": []
          }
        },
        {
          "output_type": "display_data",
          "data": {
            "text/html": [
              "<pre>recommendations finished on 10000/12393 queries. users per second: 2213.51</pre>"
            ],
            "text/plain": [
              "recommendations finished on 10000/12393 queries. users per second: 2213.51"
            ]
          },
          "metadata": {
            "tags": []
          }
        },
        {
          "output_type": "display_data",
          "data": {
            "text/html": [
              "<pre>recommendations finished on 11000/12393 queries. users per second: 2219.87</pre>"
            ],
            "text/plain": [
              "recommendations finished on 11000/12393 queries. users per second: 2219.87"
            ]
          },
          "metadata": {
            "tags": []
          }
        },
        {
          "output_type": "display_data",
          "data": {
            "text/html": [
              "<pre>recommendations finished on 12000/12393 queries. users per second: 2216.19</pre>"
            ],
            "text/plain": [
              "recommendations finished on 12000/12393 queries. users per second: 2216.19"
            ]
          },
          "metadata": {
            "tags": []
          }
        }
      ]
    },
    {
      "cell_type": "markdown",
      "metadata": {
        "id": "Z62EOVTAuUAx",
        "colab_type": "text"
      },
      "source": [
        "### USER DESCRIPTION AND RECOMMENDATIONS"
      ]
    },
    {
      "cell_type": "markdown",
      "metadata": {
        "id": "Q_bMNmvlQ5Za",
        "colab_type": "text"
      },
      "source": [
        "###TOP USER 1"
      ]
    },
    {
      "cell_type": "code",
      "metadata": {
        "id": "BJ86rZiFtaso",
        "colab_type": "code",
        "outputId": "b6e082a9-6684-4064-c8f0-faa7e804d22e",
        "colab": {
          "base_uri": "https://localhost:8080/",
          "height": 319
        }
      },
      "source": [
        "rf1 = n.recommend(users=['151603712'])\n",
        "rf1.head(20)"
      ],
      "execution_count": 45,
      "outputs": [
        {
          "output_type": "execute_result",
          "data": {
            "text/html": [
              "<div style=\"max-height:1000px;max-width:1500px;overflow:auto;\"><table frame=\"box\" rules=\"cols\">\n",
              "    <tr>\n",
              "        <th style=\"padding-left: 1em; padding-right: 1em; text-align: center\">UserID</th>\n",
              "        <th style=\"padding-left: 1em; padding-right: 1em; text-align: center\">Game</th>\n",
              "        <th style=\"padding-left: 1em; padding-right: 1em; text-align: center\">score</th>\n",
              "        <th style=\"padding-left: 1em; padding-right: 1em; text-align: center\">rank</th>\n",
              "    </tr>\n",
              "    <tr>\n",
              "        <td style=\"padding-left: 1em; padding-right: 1em; text-align: center; vertical-align: top\">151603712</td>\n",
              "        <td style=\"padding-left: 1em; padding-right: 1em; text-align: center; vertical-align: top\">Counter-Strike Global<br>Offensive ...</td>\n",
              "        <td style=\"padding-left: 1em; padding-right: 1em; text-align: center; vertical-align: top\">3.1671369238370217</td>\n",
              "        <td style=\"padding-left: 1em; padding-right: 1em; text-align: center; vertical-align: top\">1</td>\n",
              "    </tr>\n",
              "    <tr>\n",
              "        <td style=\"padding-left: 1em; padding-right: 1em; text-align: center; vertical-align: top\">151603712</td>\n",
              "        <td style=\"padding-left: 1em; padding-right: 1em; text-align: center; vertical-align: top\">Counter-Strike</td>\n",
              "        <td style=\"padding-left: 1em; padding-right: 1em; text-align: center; vertical-align: top\">3.095889852809266</td>\n",
              "        <td style=\"padding-left: 1em; padding-right: 1em; text-align: center; vertical-align: top\">2</td>\n",
              "    </tr>\n",
              "    <tr>\n",
              "        <td style=\"padding-left: 1em; padding-right: 1em; text-align: center; vertical-align: top\">151603712</td>\n",
              "        <td style=\"padding-left: 1em; padding-right: 1em; text-align: center; vertical-align: top\">Counter-Strike Source</td>\n",
              "        <td style=\"padding-left: 1em; padding-right: 1em; text-align: center; vertical-align: top\">3.059421749281243</td>\n",
              "        <td style=\"padding-left: 1em; padding-right: 1em; text-align: center; vertical-align: top\">3</td>\n",
              "    </tr>\n",
              "    <tr>\n",
              "        <td style=\"padding-left: 1em; padding-right: 1em; text-align: center; vertical-align: top\">151603712</td>\n",
              "        <td style=\"padding-left: 1em; padding-right: 1em; text-align: center; vertical-align: top\">Unturned</td>\n",
              "        <td style=\"padding-left: 1em; padding-right: 1em; text-align: center; vertical-align: top\">2.9935809461944856</td>\n",
              "        <td style=\"padding-left: 1em; padding-right: 1em; text-align: center; vertical-align: top\">4</td>\n",
              "    </tr>\n",
              "    <tr>\n",
              "        <td style=\"padding-left: 1em; padding-right: 1em; text-align: center; vertical-align: top\">151603712</td>\n",
              "        <td style=\"padding-left: 1em; padding-right: 1em; text-align: center; vertical-align: top\">Sid Meier&#x27;s Civilization<br>V ...</td>\n",
              "        <td style=\"padding-left: 1em; padding-right: 1em; text-align: center; vertical-align: top\">2.371591571214155</td>\n",
              "        <td style=\"padding-left: 1em; padding-right: 1em; text-align: center; vertical-align: top\">5</td>\n",
              "    </tr>\n",
              "    <tr>\n",
              "        <td style=\"padding-left: 1em; padding-right: 1em; text-align: center; vertical-align: top\">151603712</td>\n",
              "        <td style=\"padding-left: 1em; padding-right: 1em; text-align: center; vertical-align: top\">Terraria</td>\n",
              "        <td style=\"padding-left: 1em; padding-right: 1em; text-align: center; vertical-align: top\">2.125734196471528</td>\n",
              "        <td style=\"padding-left: 1em; padding-right: 1em; text-align: center; vertical-align: top\">6</td>\n",
              "    </tr>\n",
              "    <tr>\n",
              "        <td style=\"padding-left: 1em; padding-right: 1em; text-align: center; vertical-align: top\">151603712</td>\n",
              "        <td style=\"padding-left: 1em; padding-right: 1em; text-align: center; vertical-align: top\">Call of Duty Modern<br>Warfare 2 - Multiplayer ...</td>\n",
              "        <td style=\"padding-left: 1em; padding-right: 1em; text-align: center; vertical-align: top\">2.026283563541726</td>\n",
              "        <td style=\"padding-left: 1em; padding-right: 1em; text-align: center; vertical-align: top\">7</td>\n",
              "    </tr>\n",
              "    <tr>\n",
              "        <td style=\"padding-left: 1em; padding-right: 1em; text-align: center; vertical-align: top\">151603712</td>\n",
              "        <td style=\"padding-left: 1em; padding-right: 1em; text-align: center; vertical-align: top\">Call of Duty Modern<br>Warfare 2 ...</td>\n",
              "        <td style=\"padding-left: 1em; padding-right: 1em; text-align: center; vertical-align: top\">2.019285188483552</td>\n",
              "        <td style=\"padding-left: 1em; padding-right: 1em; text-align: center; vertical-align: top\">8</td>\n",
              "    </tr>\n",
              "    <tr>\n",
              "        <td style=\"padding-left: 1em; padding-right: 1em; text-align: center; vertical-align: top\">151603712</td>\n",
              "        <td style=\"padding-left: 1em; padding-right: 1em; text-align: center; vertical-align: top\">Grand Theft Auto V</td>\n",
              "        <td style=\"padding-left: 1em; padding-right: 1em; text-align: center; vertical-align: top\">1.9695560349696435</td>\n",
              "        <td style=\"padding-left: 1em; padding-right: 1em; text-align: center; vertical-align: top\">9</td>\n",
              "    </tr>\n",
              "    <tr>\n",
              "        <td style=\"padding-left: 1em; padding-right: 1em; text-align: center; vertical-align: top\">151603712</td>\n",
              "        <td style=\"padding-left: 1em; padding-right: 1em; text-align: center; vertical-align: top\">Call of Duty Black Ops</td>\n",
              "        <td style=\"padding-left: 1em; padding-right: 1em; text-align: center; vertical-align: top\">1.9694260670417107</td>\n",
              "        <td style=\"padding-left: 1em; padding-right: 1em; text-align: center; vertical-align: top\">10</td>\n",
              "    </tr>\n",
              "</table>\n",
              "[10 rows x 4 columns]<br/>\n",
              "</div>"
            ],
            "text/plain": [
              "Columns:\n",
              "\tUserID\tint\n",
              "\tGame\tstr\n",
              "\tscore\tfloat\n",
              "\trank\tint\n",
              "\n",
              "Rows: 10\n",
              "\n",
              "Data:\n",
              "+-----------+-------------------------------+--------------------+------+\n",
              "|   UserID  |              Game             |       score        | rank |\n",
              "+-----------+-------------------------------+--------------------+------+\n",
              "| 151603712 | Counter-Strike Global Offe... | 3.1671369238370217 |  1   |\n",
              "| 151603712 |         Counter-Strike        | 3.095889852809266  |  2   |\n",
              "| 151603712 |     Counter-Strike Source     | 3.059421749281243  |  3   |\n",
              "| 151603712 |            Unturned           | 2.9935809461944856 |  4   |\n",
              "| 151603712 |   Sid Meier's Civilization V  | 2.371591571214155  |  5   |\n",
              "| 151603712 |            Terraria           | 2.125734196471528  |  6   |\n",
              "| 151603712 | Call of Duty Modern Warfar... | 2.026283563541726  |  7   |\n",
              "| 151603712 | Call of Duty Modern Warfare 2 | 2.019285188483552  |  8   |\n",
              "| 151603712 |       Grand Theft Auto V      | 1.9695560349696435 |  9   |\n",
              "| 151603712 |     Call of Duty Black Ops    | 1.9694260670417107 |  10  |\n",
              "+-----------+-------------------------------+--------------------+------+\n",
              "[10 rows x 4 columns]"
            ]
          },
          "metadata": {
            "tags": []
          },
          "execution_count": 45
        }
      ]
    },
    {
      "cell_type": "markdown",
      "metadata": {
        "id": "S22qRBUfRMd4",
        "colab_type": "text"
      },
      "source": [
        "###Creating a dataframe"
      ]
    },
    {
      "cell_type": "code",
      "metadata": {
        "id": "pslnjOZC_o18",
        "colab_type": "code",
        "outputId": "216e732c-fb5b-452b-afca-fa30348c8ff3",
        "colab": {
          "base_uri": "https://localhost:8080/",
          "height": 363
        }
      },
      "source": [
        "ranfact1 = pd.DataFrame(rf1)\n",
        "ranfact1.drop([\"UserID\",\"rank\"],axis = 1, inplace = True)\n",
        "ranfact1.rename(columns={'Game': 'Game_RFR', 'score': 'score_RFR'}, inplace=True)\n",
        "ranfact1.head(10)"
      ],
      "execution_count": 46,
      "outputs": [
        {
          "output_type": "execute_result",
          "data": {
            "text/html": [
              "<div>\n",
              "<style scoped>\n",
              "    .dataframe tbody tr th:only-of-type {\n",
              "        vertical-align: middle;\n",
              "    }\n",
              "\n",
              "    .dataframe tbody tr th {\n",
              "        vertical-align: top;\n",
              "    }\n",
              "\n",
              "    .dataframe thead th {\n",
              "        text-align: right;\n",
              "    }\n",
              "</style>\n",
              "<table border=\"1\" class=\"dataframe\">\n",
              "  <thead>\n",
              "    <tr style=\"text-align: right;\">\n",
              "      <th></th>\n",
              "      <th>Game_RFR</th>\n",
              "      <th>score_RFR</th>\n",
              "    </tr>\n",
              "  </thead>\n",
              "  <tbody>\n",
              "    <tr>\n",
              "      <th>0</th>\n",
              "      <td>Counter-Strike Global Offensive</td>\n",
              "      <td>3.167137</td>\n",
              "    </tr>\n",
              "    <tr>\n",
              "      <th>1</th>\n",
              "      <td>Counter-Strike</td>\n",
              "      <td>3.095890</td>\n",
              "    </tr>\n",
              "    <tr>\n",
              "      <th>2</th>\n",
              "      <td>Counter-Strike Source</td>\n",
              "      <td>3.059422</td>\n",
              "    </tr>\n",
              "    <tr>\n",
              "      <th>3</th>\n",
              "      <td>Unturned</td>\n",
              "      <td>2.993581</td>\n",
              "    </tr>\n",
              "    <tr>\n",
              "      <th>4</th>\n",
              "      <td>Sid Meier's Civilization V</td>\n",
              "      <td>2.371592</td>\n",
              "    </tr>\n",
              "    <tr>\n",
              "      <th>5</th>\n",
              "      <td>Terraria</td>\n",
              "      <td>2.125734</td>\n",
              "    </tr>\n",
              "    <tr>\n",
              "      <th>6</th>\n",
              "      <td>Call of Duty Modern Warfare 2 - Multiplayer</td>\n",
              "      <td>2.026284</td>\n",
              "    </tr>\n",
              "    <tr>\n",
              "      <th>7</th>\n",
              "      <td>Call of Duty Modern Warfare 2</td>\n",
              "      <td>2.019285</td>\n",
              "    </tr>\n",
              "    <tr>\n",
              "      <th>8</th>\n",
              "      <td>Grand Theft Auto V</td>\n",
              "      <td>1.969556</td>\n",
              "    </tr>\n",
              "    <tr>\n",
              "      <th>9</th>\n",
              "      <td>Call of Duty Black Ops</td>\n",
              "      <td>1.969426</td>\n",
              "    </tr>\n",
              "  </tbody>\n",
              "</table>\n",
              "</div>"
            ],
            "text/plain": [
              "                                      Game_RFR  score_RFR\n",
              "0              Counter-Strike Global Offensive   3.167137\n",
              "1                               Counter-Strike   3.095890\n",
              "2                        Counter-Strike Source   3.059422\n",
              "3                                     Unturned   2.993581\n",
              "4                   Sid Meier's Civilization V   2.371592\n",
              "5                                     Terraria   2.125734\n",
              "6  Call of Duty Modern Warfare 2 - Multiplayer   2.026284\n",
              "7                Call of Duty Modern Warfare 2   2.019285\n",
              "8                           Grand Theft Auto V   1.969556\n",
              "9                       Call of Duty Black Ops   1.969426"
            ]
          },
          "metadata": {
            "tags": []
          },
          "execution_count": 46
        }
      ]
    },
    {
      "cell_type": "code",
      "metadata": {
        "id": "LRTQfegIteRQ",
        "colab_type": "code",
        "outputId": "89bd761a-ab83-40a6-8eff-b2db98eaf026",
        "colab": {
          "base_uri": "https://localhost:8080/",
          "height": 1000
        }
      },
      "source": [
        "clean_df.loc[clean_df[\"UserID\"] == 151603712,[\"Game\",\"Played_hours\",\"Ranking\"]]"
      ],
      "execution_count": 47,
      "outputs": [
        {
          "output_type": "execute_result",
          "data": {
            "text/html": [
              "<div>\n",
              "<style scoped>\n",
              "    .dataframe tbody tr th:only-of-type {\n",
              "        vertical-align: middle;\n",
              "    }\n",
              "\n",
              "    .dataframe tbody tr th {\n",
              "        vertical-align: top;\n",
              "    }\n",
              "\n",
              "    .dataframe thead th {\n",
              "        text-align: right;\n",
              "    }\n",
              "</style>\n",
              "<table border=\"1\" class=\"dataframe\">\n",
              "  <thead>\n",
              "    <tr style=\"text-align: right;\">\n",
              "      <th></th>\n",
              "      <th>Game</th>\n",
              "      <th>Played_hours</th>\n",
              "      <th>Ranking</th>\n",
              "    </tr>\n",
              "  </thead>\n",
              "  <tbody>\n",
              "    <tr>\n",
              "      <th>0</th>\n",
              "      <td>The Elder Scrolls V Skyrim</td>\n",
              "      <td>273.0</td>\n",
              "      <td>10.0</td>\n",
              "    </tr>\n",
              "    <tr>\n",
              "      <th>1</th>\n",
              "      <td>Fallout 4</td>\n",
              "      <td>87.0</td>\n",
              "      <td>4.0</td>\n",
              "    </tr>\n",
              "    <tr>\n",
              "      <th>2</th>\n",
              "      <td>Spore</td>\n",
              "      <td>14.9</td>\n",
              "      <td>1.0</td>\n",
              "    </tr>\n",
              "    <tr>\n",
              "      <th>3</th>\n",
              "      <td>Fallout New Vegas</td>\n",
              "      <td>12.1</td>\n",
              "      <td>1.0</td>\n",
              "    </tr>\n",
              "    <tr>\n",
              "      <th>4</th>\n",
              "      <td>Left 4 Dead 2</td>\n",
              "      <td>8.9</td>\n",
              "      <td>1.0</td>\n",
              "    </tr>\n",
              "    <tr>\n",
              "      <th>5</th>\n",
              "      <td>HuniePop</td>\n",
              "      <td>8.5</td>\n",
              "      <td>1.0</td>\n",
              "    </tr>\n",
              "    <tr>\n",
              "      <th>6</th>\n",
              "      <td>Path of Exile</td>\n",
              "      <td>8.1</td>\n",
              "      <td>1.0</td>\n",
              "    </tr>\n",
              "    <tr>\n",
              "      <th>7</th>\n",
              "      <td>Poly Bridge</td>\n",
              "      <td>7.5</td>\n",
              "      <td>1.0</td>\n",
              "    </tr>\n",
              "    <tr>\n",
              "      <th>8</th>\n",
              "      <td>Left 4 Dead</td>\n",
              "      <td>3.3</td>\n",
              "      <td>1.0</td>\n",
              "    </tr>\n",
              "    <tr>\n",
              "      <th>9</th>\n",
              "      <td>Team Fortress 2</td>\n",
              "      <td>2.8</td>\n",
              "      <td>1.0</td>\n",
              "    </tr>\n",
              "    <tr>\n",
              "      <th>10</th>\n",
              "      <td>Tomb Raider</td>\n",
              "      <td>2.5</td>\n",
              "      <td>1.0</td>\n",
              "    </tr>\n",
              "    <tr>\n",
              "      <th>11</th>\n",
              "      <td>The Banner Saga</td>\n",
              "      <td>2.0</td>\n",
              "      <td>1.0</td>\n",
              "    </tr>\n",
              "    <tr>\n",
              "      <th>12</th>\n",
              "      <td>Dead Island Epidemic</td>\n",
              "      <td>1.4</td>\n",
              "      <td>1.0</td>\n",
              "    </tr>\n",
              "    <tr>\n",
              "      <th>13</th>\n",
              "      <td>BioShock Infinite</td>\n",
              "      <td>1.3</td>\n",
              "      <td>1.0</td>\n",
              "    </tr>\n",
              "    <tr>\n",
              "      <th>14</th>\n",
              "      <td>Dragon Age Origins - Ultimate Edition</td>\n",
              "      <td>1.3</td>\n",
              "      <td>1.0</td>\n",
              "    </tr>\n",
              "    <tr>\n",
              "      <th>15</th>\n",
              "      <td>Fallout 3 - Game of the Year Edition</td>\n",
              "      <td>0.8</td>\n",
              "      <td>1.0</td>\n",
              "    </tr>\n",
              "    <tr>\n",
              "      <th>16</th>\n",
              "      <td>SEGA Genesis &amp; Mega Drive Classics</td>\n",
              "      <td>0.8</td>\n",
              "      <td>1.0</td>\n",
              "    </tr>\n",
              "    <tr>\n",
              "      <th>17</th>\n",
              "      <td>Grand Theft Auto IV</td>\n",
              "      <td>0.6</td>\n",
              "      <td>1.0</td>\n",
              "    </tr>\n",
              "    <tr>\n",
              "      <th>18</th>\n",
              "      <td>Realm of the Mad God</td>\n",
              "      <td>0.5</td>\n",
              "      <td>1.0</td>\n",
              "    </tr>\n",
              "    <tr>\n",
              "      <th>19</th>\n",
              "      <td>Marvel Heroes 2015</td>\n",
              "      <td>0.5</td>\n",
              "      <td>1.0</td>\n",
              "    </tr>\n",
              "    <tr>\n",
              "      <th>20</th>\n",
              "      <td>Eldevin</td>\n",
              "      <td>0.5</td>\n",
              "      <td>1.0</td>\n",
              "    </tr>\n",
              "    <tr>\n",
              "      <th>21</th>\n",
              "      <td>Dota 2</td>\n",
              "      <td>0.5</td>\n",
              "      <td>1.0</td>\n",
              "    </tr>\n",
              "    <tr>\n",
              "      <th>22</th>\n",
              "      <td>BioShock</td>\n",
              "      <td>0.5</td>\n",
              "      <td>1.0</td>\n",
              "    </tr>\n",
              "    <tr>\n",
              "      <th>23</th>\n",
              "      <td>Robocraft</td>\n",
              "      <td>0.4</td>\n",
              "      <td>1.0</td>\n",
              "    </tr>\n",
              "    <tr>\n",
              "      <th>24</th>\n",
              "      <td>Garry's Mod</td>\n",
              "      <td>0.1</td>\n",
              "      <td>1.0</td>\n",
              "    </tr>\n",
              "    <tr>\n",
              "      <th>25</th>\n",
              "      <td>Jazzpunk</td>\n",
              "      <td>0.1</td>\n",
              "      <td>1.0</td>\n",
              "    </tr>\n",
              "    <tr>\n",
              "      <th>26</th>\n",
              "      <td>Alan Wake</td>\n",
              "      <td>0.0</td>\n",
              "      <td>1.0</td>\n",
              "    </tr>\n",
              "    <tr>\n",
              "      <th>27</th>\n",
              "      <td>BioShock 2</td>\n",
              "      <td>0.0</td>\n",
              "      <td>1.0</td>\n",
              "    </tr>\n",
              "    <tr>\n",
              "      <th>28</th>\n",
              "      <td>Fallen Earth</td>\n",
              "      <td>0.0</td>\n",
              "      <td>1.0</td>\n",
              "    </tr>\n",
              "    <tr>\n",
              "      <th>29</th>\n",
              "      <td>Fallout New Vegas Courier's Stash</td>\n",
              "      <td>0.0</td>\n",
              "      <td>1.0</td>\n",
              "    </tr>\n",
              "    <tr>\n",
              "      <th>30</th>\n",
              "      <td>Fallout New Vegas Dead Money</td>\n",
              "      <td>0.0</td>\n",
              "      <td>1.0</td>\n",
              "    </tr>\n",
              "    <tr>\n",
              "      <th>31</th>\n",
              "      <td>Fallout New Vegas Honest Hearts</td>\n",
              "      <td>0.0</td>\n",
              "      <td>1.0</td>\n",
              "    </tr>\n",
              "    <tr>\n",
              "      <th>32</th>\n",
              "      <td>Grand Theft Auto Episodes from Liberty City</td>\n",
              "      <td>0.0</td>\n",
              "      <td>1.0</td>\n",
              "    </tr>\n",
              "    <tr>\n",
              "      <th>33</th>\n",
              "      <td>Hitman Absolution</td>\n",
              "      <td>0.0</td>\n",
              "      <td>1.0</td>\n",
              "    </tr>\n",
              "    <tr>\n",
              "      <th>34</th>\n",
              "      <td>HuniePop Official Digital Art Collection</td>\n",
              "      <td>0.0</td>\n",
              "      <td>1.0</td>\n",
              "    </tr>\n",
              "    <tr>\n",
              "      <th>35</th>\n",
              "      <td>HuniePop Original Soundtrack</td>\n",
              "      <td>0.0</td>\n",
              "      <td>1.0</td>\n",
              "    </tr>\n",
              "    <tr>\n",
              "      <th>36</th>\n",
              "      <td>The Banner Saga - Mod Content</td>\n",
              "      <td>0.0</td>\n",
              "      <td>1.0</td>\n",
              "    </tr>\n",
              "    <tr>\n",
              "      <th>37</th>\n",
              "      <td>The Elder Scrolls V Skyrim - Dawnguard</td>\n",
              "      <td>0.0</td>\n",
              "      <td>1.0</td>\n",
              "    </tr>\n",
              "    <tr>\n",
              "      <th>38</th>\n",
              "      <td>The Elder Scrolls V Skyrim - Dragonborn</td>\n",
              "      <td>0.0</td>\n",
              "      <td>1.0</td>\n",
              "    </tr>\n",
              "    <tr>\n",
              "      <th>39</th>\n",
              "      <td>The Elder Scrolls V Skyrim - Hearthfire</td>\n",
              "      <td>0.0</td>\n",
              "      <td>1.0</td>\n",
              "    </tr>\n",
              "  </tbody>\n",
              "</table>\n",
              "</div>"
            ],
            "text/plain": [
              "                                           Game  Played_hours  Ranking\n",
              "0                    The Elder Scrolls V Skyrim         273.0     10.0\n",
              "1                                     Fallout 4          87.0      4.0\n",
              "2                                         Spore          14.9      1.0\n",
              "3                             Fallout New Vegas          12.1      1.0\n",
              "4                                 Left 4 Dead 2           8.9      1.0\n",
              "5                                      HuniePop           8.5      1.0\n",
              "6                                 Path of Exile           8.1      1.0\n",
              "7                                   Poly Bridge           7.5      1.0\n",
              "8                                   Left 4 Dead           3.3      1.0\n",
              "9                               Team Fortress 2           2.8      1.0\n",
              "10                                  Tomb Raider           2.5      1.0\n",
              "11                              The Banner Saga           2.0      1.0\n",
              "12                         Dead Island Epidemic           1.4      1.0\n",
              "13                            BioShock Infinite           1.3      1.0\n",
              "14        Dragon Age Origins - Ultimate Edition           1.3      1.0\n",
              "15         Fallout 3 - Game of the Year Edition           0.8      1.0\n",
              "16           SEGA Genesis & Mega Drive Classics           0.8      1.0\n",
              "17                          Grand Theft Auto IV           0.6      1.0\n",
              "18                         Realm of the Mad God           0.5      1.0\n",
              "19                           Marvel Heroes 2015           0.5      1.0\n",
              "20                                      Eldevin           0.5      1.0\n",
              "21                                       Dota 2           0.5      1.0\n",
              "22                                     BioShock           0.5      1.0\n",
              "23                                    Robocraft           0.4      1.0\n",
              "24                                  Garry's Mod           0.1      1.0\n",
              "25                                     Jazzpunk           0.1      1.0\n",
              "26                                    Alan Wake           0.0      1.0\n",
              "27                                   BioShock 2           0.0      1.0\n",
              "28                                 Fallen Earth           0.0      1.0\n",
              "29            Fallout New Vegas Courier's Stash           0.0      1.0\n",
              "30                 Fallout New Vegas Dead Money           0.0      1.0\n",
              "31              Fallout New Vegas Honest Hearts           0.0      1.0\n",
              "32  Grand Theft Auto Episodes from Liberty City           0.0      1.0\n",
              "33                            Hitman Absolution           0.0      1.0\n",
              "34     HuniePop Official Digital Art Collection           0.0      1.0\n",
              "35                 HuniePop Original Soundtrack           0.0      1.0\n",
              "36                The Banner Saga - Mod Content           0.0      1.0\n",
              "37       The Elder Scrolls V Skyrim - Dawnguard           0.0      1.0\n",
              "38      The Elder Scrolls V Skyrim - Dragonborn           0.0      1.0\n",
              "39      The Elder Scrolls V Skyrim - Hearthfire           0.0      1.0"
            ]
          },
          "metadata": {
            "tags": []
          },
          "execution_count": 47
        }
      ]
    },
    {
      "cell_type": "markdown",
      "metadata": {
        "id": "kouHOuTvQ8pD",
        "colab_type": "text"
      },
      "source": [
        "###TOP USER 2"
      ]
    },
    {
      "cell_type": "code",
      "metadata": {
        "id": "1y3piqXqtazn",
        "colab_type": "code",
        "outputId": "7a111c5f-6980-4056-b1e7-f6ff7c52b70b",
        "colab": {
          "base_uri": "https://localhost:8080/",
          "height": 302
        }
      },
      "source": [
        "rf2 = n.recommend(users=['62990992'])\n",
        "rf2"
      ],
      "execution_count": 48,
      "outputs": [
        {
          "output_type": "execute_result",
          "data": {
            "text/html": [
              "<div style=\"max-height:1000px;max-width:1500px;overflow:auto;\"><table frame=\"box\" rules=\"cols\">\n",
              "    <tr>\n",
              "        <th style=\"padding-left: 1em; padding-right: 1em; text-align: center\">UserID</th>\n",
              "        <th style=\"padding-left: 1em; padding-right: 1em; text-align: center\">Game</th>\n",
              "        <th style=\"padding-left: 1em; padding-right: 1em; text-align: center\">score</th>\n",
              "        <th style=\"padding-left: 1em; padding-right: 1em; text-align: center\">rank</th>\n",
              "    </tr>\n",
              "    <tr>\n",
              "        <td style=\"padding-left: 1em; padding-right: 1em; text-align: center; vertical-align: top\">62990992</td>\n",
              "        <td style=\"padding-left: 1em; padding-right: 1em; text-align: center; vertical-align: top\">Unturned</td>\n",
              "        <td style=\"padding-left: 1em; padding-right: 1em; text-align: center; vertical-align: top\">1.8416684581511773</td>\n",
              "        <td style=\"padding-left: 1em; padding-right: 1em; text-align: center; vertical-align: top\">1</td>\n",
              "    </tr>\n",
              "    <tr>\n",
              "        <td style=\"padding-left: 1em; padding-right: 1em; text-align: center; vertical-align: top\">62990992</td>\n",
              "        <td style=\"padding-left: 1em; padding-right: 1em; text-align: center; vertical-align: top\">Grand Theft Auto V</td>\n",
              "        <td style=\"padding-left: 1em; padding-right: 1em; text-align: center; vertical-align: top\">1.1955436481707848</td>\n",
              "        <td style=\"padding-left: 1em; padding-right: 1em; text-align: center; vertical-align: top\">2</td>\n",
              "    </tr>\n",
              "    <tr>\n",
              "        <td style=\"padding-left: 1em; padding-right: 1em; text-align: center; vertical-align: top\">62990992</td>\n",
              "        <td style=\"padding-left: 1em; padding-right: 1em; text-align: center; vertical-align: top\">Call of Duty Modern<br>Warfare 2 - Multiplayer ...</td>\n",
              "        <td style=\"padding-left: 1em; padding-right: 1em; text-align: center; vertical-align: top\">1.0567457689517297</td>\n",
              "        <td style=\"padding-left: 1em; padding-right: 1em; text-align: center; vertical-align: top\">3</td>\n",
              "    </tr>\n",
              "    <tr>\n",
              "        <td style=\"padding-left: 1em; padding-right: 1em; text-align: center; vertical-align: top\">62990992</td>\n",
              "        <td style=\"padding-left: 1em; padding-right: 1em; text-align: center; vertical-align: top\">Call of Duty Modern<br>Warfare 2 ...</td>\n",
              "        <td style=\"padding-left: 1em; padding-right: 1em; text-align: center; vertical-align: top\">0.9593829526179589</td>\n",
              "        <td style=\"padding-left: 1em; padding-right: 1em; text-align: center; vertical-align: top\">4</td>\n",
              "    </tr>\n",
              "    <tr>\n",
              "        <td style=\"padding-left: 1em; padding-right: 1em; text-align: center; vertical-align: top\">62990992</td>\n",
              "        <td style=\"padding-left: 1em; padding-right: 1em; text-align: center; vertical-align: top\">Call of Duty Black Ops</td>\n",
              "        <td style=\"padding-left: 1em; padding-right: 1em; text-align: center; vertical-align: top\">0.9483786536925591</td>\n",
              "        <td style=\"padding-left: 1em; padding-right: 1em; text-align: center; vertical-align: top\">5</td>\n",
              "    </tr>\n",
              "    <tr>\n",
              "        <td style=\"padding-left: 1em; padding-right: 1em; text-align: center; vertical-align: top\">62990992</td>\n",
              "        <td style=\"padding-left: 1em; padding-right: 1em; text-align: center; vertical-align: top\">Fallout New Vegas</td>\n",
              "        <td style=\"padding-left: 1em; padding-right: 1em; text-align: center; vertical-align: top\">0.9038690938227929</td>\n",
              "        <td style=\"padding-left: 1em; padding-right: 1em; text-align: center; vertical-align: top\">6</td>\n",
              "    </tr>\n",
              "    <tr>\n",
              "        <td style=\"padding-left: 1em; padding-right: 1em; text-align: center; vertical-align: top\">62990992</td>\n",
              "        <td style=\"padding-left: 1em; padding-right: 1em; text-align: center; vertical-align: top\">PAYDAY 2</td>\n",
              "        <td style=\"padding-left: 1em; padding-right: 1em; text-align: center; vertical-align: top\">0.8968136324160851</td>\n",
              "        <td style=\"padding-left: 1em; padding-right: 1em; text-align: center; vertical-align: top\">7</td>\n",
              "    </tr>\n",
              "    <tr>\n",
              "        <td style=\"padding-left: 1em; padding-right: 1em; text-align: center; vertical-align: top\">62990992</td>\n",
              "        <td style=\"padding-left: 1em; padding-right: 1em; text-align: center; vertical-align: top\">Fallout 4</td>\n",
              "        <td style=\"padding-left: 1em; padding-right: 1em; text-align: center; vertical-align: top\">0.8740738643878259</td>\n",
              "        <td style=\"padding-left: 1em; padding-right: 1em; text-align: center; vertical-align: top\">8</td>\n",
              "    </tr>\n",
              "    <tr>\n",
              "        <td style=\"padding-left: 1em; padding-right: 1em; text-align: center; vertical-align: top\">62990992</td>\n",
              "        <td style=\"padding-left: 1em; padding-right: 1em; text-align: center; vertical-align: top\">Rust</td>\n",
              "        <td style=\"padding-left: 1em; padding-right: 1em; text-align: center; vertical-align: top\">0.8151321722739495</td>\n",
              "        <td style=\"padding-left: 1em; padding-right: 1em; text-align: center; vertical-align: top\">9</td>\n",
              "    </tr>\n",
              "    <tr>\n",
              "        <td style=\"padding-left: 1em; padding-right: 1em; text-align: center; vertical-align: top\">62990992</td>\n",
              "        <td style=\"padding-left: 1em; padding-right: 1em; text-align: center; vertical-align: top\">Dark Souls Prepare to Die<br>Edition ...</td>\n",
              "        <td style=\"padding-left: 1em; padding-right: 1em; text-align: center; vertical-align: top\">0.7517104311459817</td>\n",
              "        <td style=\"padding-left: 1em; padding-right: 1em; text-align: center; vertical-align: top\">10</td>\n",
              "    </tr>\n",
              "</table>\n",
              "[10 rows x 4 columns]<br/>\n",
              "</div>"
            ],
            "text/plain": [
              "Columns:\n",
              "\tUserID\tint\n",
              "\tGame\tstr\n",
              "\tscore\tfloat\n",
              "\trank\tint\n",
              "\n",
              "Rows: 10\n",
              "\n",
              "Data:\n",
              "+----------+-------------------------------+--------------------+------+\n",
              "|  UserID  |              Game             |       score        | rank |\n",
              "+----------+-------------------------------+--------------------+------+\n",
              "| 62990992 |            Unturned           | 1.8416684581511773 |  1   |\n",
              "| 62990992 |       Grand Theft Auto V      | 1.1955436481707848 |  2   |\n",
              "| 62990992 | Call of Duty Modern Warfar... | 1.0567457689517297 |  3   |\n",
              "| 62990992 | Call of Duty Modern Warfare 2 | 0.9593829526179589 |  4   |\n",
              "| 62990992 |     Call of Duty Black Ops    | 0.9483786536925591 |  5   |\n",
              "| 62990992 |       Fallout New Vegas       | 0.9038690938227929 |  6   |\n",
              "| 62990992 |            PAYDAY 2           | 0.8968136324160851 |  7   |\n",
              "| 62990992 |           Fallout 4           | 0.8740738643878259 |  8   |\n",
              "| 62990992 |              Rust             | 0.8151321722739495 |  9   |\n",
              "| 62990992 | Dark Souls Prepare to Die ... | 0.7517104311459817 |  10  |\n",
              "+----------+-------------------------------+--------------------+------+\n",
              "[10 rows x 4 columns]"
            ]
          },
          "metadata": {
            "tags": []
          },
          "execution_count": 48
        }
      ]
    },
    {
      "cell_type": "markdown",
      "metadata": {
        "id": "K-P_3z2ARRgn",
        "colab_type": "text"
      },
      "source": [
        "###Creating a dataframe"
      ]
    },
    {
      "cell_type": "code",
      "metadata": {
        "id": "p1qnJUbnAmON",
        "colab_type": "code",
        "outputId": "b2c11e16-a391-4398-f3ce-b69a28f352ae",
        "colab": {
          "base_uri": "https://localhost:8080/",
          "height": 363
        }
      },
      "source": [
        "ranfact2 = pd.DataFrame(rf2)\n",
        "ranfact2.drop([\"UserID\",\"rank\"],axis = 1, inplace = True)\n",
        "ranfact2.rename(columns={'Game': 'Game_RFR', 'score': 'score_RFR'}, inplace=True)\n",
        "ranfact2.head(10)"
      ],
      "execution_count": 49,
      "outputs": [
        {
          "output_type": "execute_result",
          "data": {
            "text/html": [
              "<div>\n",
              "<style scoped>\n",
              "    .dataframe tbody tr th:only-of-type {\n",
              "        vertical-align: middle;\n",
              "    }\n",
              "\n",
              "    .dataframe tbody tr th {\n",
              "        vertical-align: top;\n",
              "    }\n",
              "\n",
              "    .dataframe thead th {\n",
              "        text-align: right;\n",
              "    }\n",
              "</style>\n",
              "<table border=\"1\" class=\"dataframe\">\n",
              "  <thead>\n",
              "    <tr style=\"text-align: right;\">\n",
              "      <th></th>\n",
              "      <th>Game_RFR</th>\n",
              "      <th>score_RFR</th>\n",
              "    </tr>\n",
              "  </thead>\n",
              "  <tbody>\n",
              "    <tr>\n",
              "      <th>0</th>\n",
              "      <td>Unturned</td>\n",
              "      <td>1.841668</td>\n",
              "    </tr>\n",
              "    <tr>\n",
              "      <th>1</th>\n",
              "      <td>Grand Theft Auto V</td>\n",
              "      <td>1.195544</td>\n",
              "    </tr>\n",
              "    <tr>\n",
              "      <th>2</th>\n",
              "      <td>Call of Duty Modern Warfare 2 - Multiplayer</td>\n",
              "      <td>1.056746</td>\n",
              "    </tr>\n",
              "    <tr>\n",
              "      <th>3</th>\n",
              "      <td>Call of Duty Modern Warfare 2</td>\n",
              "      <td>0.959383</td>\n",
              "    </tr>\n",
              "    <tr>\n",
              "      <th>4</th>\n",
              "      <td>Call of Duty Black Ops</td>\n",
              "      <td>0.948379</td>\n",
              "    </tr>\n",
              "    <tr>\n",
              "      <th>5</th>\n",
              "      <td>Fallout New Vegas</td>\n",
              "      <td>0.903869</td>\n",
              "    </tr>\n",
              "    <tr>\n",
              "      <th>6</th>\n",
              "      <td>PAYDAY 2</td>\n",
              "      <td>0.896814</td>\n",
              "    </tr>\n",
              "    <tr>\n",
              "      <th>7</th>\n",
              "      <td>Fallout 4</td>\n",
              "      <td>0.874074</td>\n",
              "    </tr>\n",
              "    <tr>\n",
              "      <th>8</th>\n",
              "      <td>Rust</td>\n",
              "      <td>0.815132</td>\n",
              "    </tr>\n",
              "    <tr>\n",
              "      <th>9</th>\n",
              "      <td>Dark Souls Prepare to Die Edition</td>\n",
              "      <td>0.751710</td>\n",
              "    </tr>\n",
              "  </tbody>\n",
              "</table>\n",
              "</div>"
            ],
            "text/plain": [
              "                                      Game_RFR  score_RFR\n",
              "0                                     Unturned   1.841668\n",
              "1                           Grand Theft Auto V   1.195544\n",
              "2  Call of Duty Modern Warfare 2 - Multiplayer   1.056746\n",
              "3                Call of Duty Modern Warfare 2   0.959383\n",
              "4                       Call of Duty Black Ops   0.948379\n",
              "5                            Fallout New Vegas   0.903869\n",
              "6                                     PAYDAY 2   0.896814\n",
              "7                                    Fallout 4   0.874074\n",
              "8                                         Rust   0.815132\n",
              "9            Dark Souls Prepare to Die Edition   0.751710"
            ]
          },
          "metadata": {
            "tags": []
          },
          "execution_count": 49
        }
      ]
    },
    {
      "cell_type": "code",
      "metadata": {
        "id": "LI_p0ffHta5-",
        "colab_type": "code",
        "outputId": "ae6deae5-0989-4d61-d1e2-3f4e571cac27",
        "colab": {
          "base_uri": "https://localhost:8080/",
          "height": 424
        }
      },
      "source": [
        "clean_df.loc[clean_df[\"UserID\"] == 62990992,[\"Game\",\"Played_hours\",\"Ranking\"]]"
      ],
      "execution_count": 50,
      "outputs": [
        {
          "output_type": "execute_result",
          "data": {
            "text/html": [
              "<div>\n",
              "<style scoped>\n",
              "    .dataframe tbody tr th:only-of-type {\n",
              "        vertical-align: middle;\n",
              "    }\n",
              "\n",
              "    .dataframe tbody tr th {\n",
              "        vertical-align: top;\n",
              "    }\n",
              "\n",
              "    .dataframe thead th {\n",
              "        text-align: right;\n",
              "    }\n",
              "</style>\n",
              "<table border=\"1\" class=\"dataframe\">\n",
              "  <thead>\n",
              "    <tr style=\"text-align: right;\">\n",
              "      <th></th>\n",
              "      <th>Game</th>\n",
              "      <th>Played_hours</th>\n",
              "      <th>Ranking</th>\n",
              "    </tr>\n",
              "  </thead>\n",
              "  <tbody>\n",
              "    <tr>\n",
              "      <th>77076</th>\n",
              "      <td>Counter-Strike Global Offensive</td>\n",
              "      <td>663.0</td>\n",
              "      <td>10.0</td>\n",
              "    </tr>\n",
              "    <tr>\n",
              "      <th>77077</th>\n",
              "      <td>Sid Meier's Civilization V</td>\n",
              "      <td>550.0</td>\n",
              "      <td>9.0</td>\n",
              "    </tr>\n",
              "    <tr>\n",
              "      <th>77078</th>\n",
              "      <td>Total War SHOGUN 2</td>\n",
              "      <td>212.0</td>\n",
              "      <td>4.0</td>\n",
              "    </tr>\n",
              "    <tr>\n",
              "      <th>77079</th>\n",
              "      <td>Total War ROME II - Emperor Edition</td>\n",
              "      <td>198.0</td>\n",
              "      <td>3.0</td>\n",
              "    </tr>\n",
              "    <tr>\n",
              "      <th>77080</th>\n",
              "      <td>Dungeon Defenders</td>\n",
              "      <td>195.0</td>\n",
              "      <td>3.0</td>\n",
              "    </tr>\n",
              "    <tr>\n",
              "      <th>...</th>\n",
              "      <td>...</td>\n",
              "      <td>...</td>\n",
              "      <td>...</td>\n",
              "    </tr>\n",
              "    <tr>\n",
              "      <th>78146</th>\n",
              "      <td>Xenophage</td>\n",
              "      <td>0.0</td>\n",
              "      <td>1.0</td>\n",
              "    </tr>\n",
              "    <tr>\n",
              "      <th>78147</th>\n",
              "      <td>Xpand Rally Xtreme</td>\n",
              "      <td>0.0</td>\n",
              "      <td>1.0</td>\n",
              "    </tr>\n",
              "    <tr>\n",
              "      <th>78148</th>\n",
              "      <td>Zen Bound 2</td>\n",
              "      <td>0.0</td>\n",
              "      <td>1.0</td>\n",
              "    </tr>\n",
              "    <tr>\n",
              "      <th>78149</th>\n",
              "      <td>Zombie Driver HD Apocalypse Pack</td>\n",
              "      <td>0.0</td>\n",
              "      <td>1.0</td>\n",
              "    </tr>\n",
              "    <tr>\n",
              "      <th>78150</th>\n",
              "      <td>Zoo Park</td>\n",
              "      <td>0.0</td>\n",
              "      <td>1.0</td>\n",
              "    </tr>\n",
              "  </tbody>\n",
              "</table>\n",
              "<p>1075 rows × 3 columns</p>\n",
              "</div>"
            ],
            "text/plain": [
              "                                      Game  Played_hours  Ranking\n",
              "77076      Counter-Strike Global Offensive         663.0     10.0\n",
              "77077           Sid Meier's Civilization V         550.0      9.0\n",
              "77078                   Total War SHOGUN 2         212.0      4.0\n",
              "77079  Total War ROME II - Emperor Edition         198.0      3.0\n",
              "77080                    Dungeon Defenders         195.0      3.0\n",
              "...                                    ...           ...      ...\n",
              "78146                            Xenophage           0.0      1.0\n",
              "78147                   Xpand Rally Xtreme           0.0      1.0\n",
              "78148                          Zen Bound 2           0.0      1.0\n",
              "78149     Zombie Driver HD Apocalypse Pack           0.0      1.0\n",
              "78150                             Zoo Park           0.0      1.0\n",
              "\n",
              "[1075 rows x 3 columns]"
            ]
          },
          "metadata": {
            "tags": []
          },
          "execution_count": 50
        }
      ]
    },
    {
      "cell_type": "markdown",
      "metadata": {
        "id": "V2ntT7CZRBeF",
        "colab_type": "text"
      },
      "source": [
        "###TOP USER 3"
      ]
    },
    {
      "cell_type": "code",
      "metadata": {
        "id": "XD8ztWFTta_a",
        "colab_type": "code",
        "outputId": "44fda7a8-68b2-45c2-d50a-fef2f93f56d6",
        "colab": {
          "base_uri": "https://localhost:8080/",
          "height": 319
        }
      },
      "source": [
        "rf3 = n.recommend(users=['33865373'])\n",
        "rf3"
      ],
      "execution_count": 51,
      "outputs": [
        {
          "output_type": "execute_result",
          "data": {
            "text/html": [
              "<div style=\"max-height:1000px;max-width:1500px;overflow:auto;\"><table frame=\"box\" rules=\"cols\">\n",
              "    <tr>\n",
              "        <th style=\"padding-left: 1em; padding-right: 1em; text-align: center\">UserID</th>\n",
              "        <th style=\"padding-left: 1em; padding-right: 1em; text-align: center\">Game</th>\n",
              "        <th style=\"padding-left: 1em; padding-right: 1em; text-align: center\">score</th>\n",
              "        <th style=\"padding-left: 1em; padding-right: 1em; text-align: center\">rank</th>\n",
              "    </tr>\n",
              "    <tr>\n",
              "        <td style=\"padding-left: 1em; padding-right: 1em; text-align: center; vertical-align: top\">33865373</td>\n",
              "        <td style=\"padding-left: 1em; padding-right: 1em; text-align: center; vertical-align: top\">Counter-Strike Global<br>Offensive ...</td>\n",
              "        <td style=\"padding-left: 1em; padding-right: 1em; text-align: center; vertical-align: top\">3.1979376687281884</td>\n",
              "        <td style=\"padding-left: 1em; padding-right: 1em; text-align: center; vertical-align: top\">1</td>\n",
              "    </tr>\n",
              "    <tr>\n",
              "        <td style=\"padding-left: 1em; padding-right: 1em; text-align: center; vertical-align: top\">33865373</td>\n",
              "        <td style=\"padding-left: 1em; padding-right: 1em; text-align: center; vertical-align: top\">Counter-Strike Source</td>\n",
              "        <td style=\"padding-left: 1em; padding-right: 1em; text-align: center; vertical-align: top\">2.678135813640908</td>\n",
              "        <td style=\"padding-left: 1em; padding-right: 1em; text-align: center; vertical-align: top\">2</td>\n",
              "    </tr>\n",
              "    <tr>\n",
              "        <td style=\"padding-left: 1em; padding-right: 1em; text-align: center; vertical-align: top\">33865373</td>\n",
              "        <td style=\"padding-left: 1em; padding-right: 1em; text-align: center; vertical-align: top\">Unturned</td>\n",
              "        <td style=\"padding-left: 1em; padding-right: 1em; text-align: center; vertical-align: top\">2.387506456541375</td>\n",
              "        <td style=\"padding-left: 1em; padding-right: 1em; text-align: center; vertical-align: top\">3</td>\n",
              "    </tr>\n",
              "    <tr>\n",
              "        <td style=\"padding-left: 1em; padding-right: 1em; text-align: center; vertical-align: top\">33865373</td>\n",
              "        <td style=\"padding-left: 1em; padding-right: 1em; text-align: center; vertical-align: top\">Sid Meier&#x27;s Civilization<br>V ...</td>\n",
              "        <td style=\"padding-left: 1em; padding-right: 1em; text-align: center; vertical-align: top\">1.8684693737500466</td>\n",
              "        <td style=\"padding-left: 1em; padding-right: 1em; text-align: center; vertical-align: top\">4</td>\n",
              "    </tr>\n",
              "    <tr>\n",
              "        <td style=\"padding-left: 1em; padding-right: 1em; text-align: center; vertical-align: top\">33865373</td>\n",
              "        <td style=\"padding-left: 1em; padding-right: 1em; text-align: center; vertical-align: top\">Call of Duty Modern<br>Warfare 2 - Multiplayer ...</td>\n",
              "        <td style=\"padding-left: 1em; padding-right: 1em; text-align: center; vertical-align: top\">1.7586014880412377</td>\n",
              "        <td style=\"padding-left: 1em; padding-right: 1em; text-align: center; vertical-align: top\">5</td>\n",
              "    </tr>\n",
              "    <tr>\n",
              "        <td style=\"padding-left: 1em; padding-right: 1em; text-align: center; vertical-align: top\">33865373</td>\n",
              "        <td style=\"padding-left: 1em; padding-right: 1em; text-align: center; vertical-align: top\">Grand Theft Auto V</td>\n",
              "        <td style=\"padding-left: 1em; padding-right: 1em; text-align: center; vertical-align: top\">1.6474726809733666</td>\n",
              "        <td style=\"padding-left: 1em; padding-right: 1em; text-align: center; vertical-align: top\">6</td>\n",
              "    </tr>\n",
              "    <tr>\n",
              "        <td style=\"padding-left: 1em; padding-right: 1em; text-align: center; vertical-align: top\">33865373</td>\n",
              "        <td style=\"padding-left: 1em; padding-right: 1em; text-align: center; vertical-align: top\">Borderlands 2</td>\n",
              "        <td style=\"padding-left: 1em; padding-right: 1em; text-align: center; vertical-align: top\">1.5191771401637353</td>\n",
              "        <td style=\"padding-left: 1em; padding-right: 1em; text-align: center; vertical-align: top\">7</td>\n",
              "    </tr>\n",
              "    <tr>\n",
              "        <td style=\"padding-left: 1em; padding-right: 1em; text-align: center; vertical-align: top\">33865373</td>\n",
              "        <td style=\"padding-left: 1em; padding-right: 1em; text-align: center; vertical-align: top\">Call of Duty Black Ops</td>\n",
              "        <td style=\"padding-left: 1em; padding-right: 1em; text-align: center; vertical-align: top\">1.4703382565253533</td>\n",
              "        <td style=\"padding-left: 1em; padding-right: 1em; text-align: center; vertical-align: top\">8</td>\n",
              "    </tr>\n",
              "    <tr>\n",
              "        <td style=\"padding-left: 1em; padding-right: 1em; text-align: center; vertical-align: top\">33865373</td>\n",
              "        <td style=\"padding-left: 1em; padding-right: 1em; text-align: center; vertical-align: top\">PAYDAY 2</td>\n",
              "        <td style=\"padding-left: 1em; padding-right: 1em; text-align: center; vertical-align: top\">1.4567031873935021</td>\n",
              "        <td style=\"padding-left: 1em; padding-right: 1em; text-align: center; vertical-align: top\">9</td>\n",
              "    </tr>\n",
              "    <tr>\n",
              "        <td style=\"padding-left: 1em; padding-right: 1em; text-align: center; vertical-align: top\">33865373</td>\n",
              "        <td style=\"padding-left: 1em; padding-right: 1em; text-align: center; vertical-align: top\">The Witcher 2 Assassins<br>of Kings Enhanced Edi ...</td>\n",
              "        <td style=\"padding-left: 1em; padding-right: 1em; text-align: center; vertical-align: top\">1.4284240319007195</td>\n",
              "        <td style=\"padding-left: 1em; padding-right: 1em; text-align: center; vertical-align: top\">10</td>\n",
              "    </tr>\n",
              "</table>\n",
              "[10 rows x 4 columns]<br/>\n",
              "</div>"
            ],
            "text/plain": [
              "Columns:\n",
              "\tUserID\tint\n",
              "\tGame\tstr\n",
              "\tscore\tfloat\n",
              "\trank\tint\n",
              "\n",
              "Rows: 10\n",
              "\n",
              "Data:\n",
              "+----------+-------------------------------+--------------------+------+\n",
              "|  UserID  |              Game             |       score        | rank |\n",
              "+----------+-------------------------------+--------------------+------+\n",
              "| 33865373 | Counter-Strike Global Offe... | 3.1979376687281884 |  1   |\n",
              "| 33865373 |     Counter-Strike Source     | 2.678135813640908  |  2   |\n",
              "| 33865373 |            Unturned           | 2.387506456541375  |  3   |\n",
              "| 33865373 |   Sid Meier's Civilization V  | 1.8684693737500466 |  4   |\n",
              "| 33865373 | Call of Duty Modern Warfar... | 1.7586014880412377 |  5   |\n",
              "| 33865373 |       Grand Theft Auto V      | 1.6474726809733666 |  6   |\n",
              "| 33865373 |         Borderlands 2         | 1.5191771401637353 |  7   |\n",
              "| 33865373 |     Call of Duty Black Ops    | 1.4703382565253533 |  8   |\n",
              "| 33865373 |            PAYDAY 2           | 1.4567031873935021 |  9   |\n",
              "| 33865373 | The Witcher 2 Assassins of... | 1.4284240319007195 |  10  |\n",
              "+----------+-------------------------------+--------------------+------+\n",
              "[10 rows x 4 columns]"
            ]
          },
          "metadata": {
            "tags": []
          },
          "execution_count": 51
        }
      ]
    },
    {
      "cell_type": "markdown",
      "metadata": {
        "id": "xw-AajNtRTHr",
        "colab_type": "text"
      },
      "source": [
        "###Creating a dataframe"
      ]
    },
    {
      "cell_type": "code",
      "metadata": {
        "id": "4TRzM6ChAzu9",
        "colab_type": "code",
        "outputId": "8613c348-55b8-4d69-c23d-a4e7657ec2c9",
        "colab": {
          "base_uri": "https://localhost:8080/",
          "height": 363
        }
      },
      "source": [
        "ranfact3 = pd.DataFrame(rf3)\n",
        "ranfact3.drop([\"UserID\",\"rank\"],axis = 1, inplace = True)\n",
        "ranfact3.rename(columns={'Game': 'Game_RFR', 'score': 'score_RFR'}, inplace=True)\n",
        "ranfact3.head(10)"
      ],
      "execution_count": 52,
      "outputs": [
        {
          "output_type": "execute_result",
          "data": {
            "text/html": [
              "<div>\n",
              "<style scoped>\n",
              "    .dataframe tbody tr th:only-of-type {\n",
              "        vertical-align: middle;\n",
              "    }\n",
              "\n",
              "    .dataframe tbody tr th {\n",
              "        vertical-align: top;\n",
              "    }\n",
              "\n",
              "    .dataframe thead th {\n",
              "        text-align: right;\n",
              "    }\n",
              "</style>\n",
              "<table border=\"1\" class=\"dataframe\">\n",
              "  <thead>\n",
              "    <tr style=\"text-align: right;\">\n",
              "      <th></th>\n",
              "      <th>Game_RFR</th>\n",
              "      <th>score_RFR</th>\n",
              "    </tr>\n",
              "  </thead>\n",
              "  <tbody>\n",
              "    <tr>\n",
              "      <th>0</th>\n",
              "      <td>Counter-Strike Global Offensive</td>\n",
              "      <td>3.197938</td>\n",
              "    </tr>\n",
              "    <tr>\n",
              "      <th>1</th>\n",
              "      <td>Counter-Strike Source</td>\n",
              "      <td>2.678136</td>\n",
              "    </tr>\n",
              "    <tr>\n",
              "      <th>2</th>\n",
              "      <td>Unturned</td>\n",
              "      <td>2.387506</td>\n",
              "    </tr>\n",
              "    <tr>\n",
              "      <th>3</th>\n",
              "      <td>Sid Meier's Civilization V</td>\n",
              "      <td>1.868469</td>\n",
              "    </tr>\n",
              "    <tr>\n",
              "      <th>4</th>\n",
              "      <td>Call of Duty Modern Warfare 2 - Multiplayer</td>\n",
              "      <td>1.758601</td>\n",
              "    </tr>\n",
              "    <tr>\n",
              "      <th>5</th>\n",
              "      <td>Grand Theft Auto V</td>\n",
              "      <td>1.647473</td>\n",
              "    </tr>\n",
              "    <tr>\n",
              "      <th>6</th>\n",
              "      <td>Borderlands 2</td>\n",
              "      <td>1.519177</td>\n",
              "    </tr>\n",
              "    <tr>\n",
              "      <th>7</th>\n",
              "      <td>Call of Duty Black Ops</td>\n",
              "      <td>1.470338</td>\n",
              "    </tr>\n",
              "    <tr>\n",
              "      <th>8</th>\n",
              "      <td>PAYDAY 2</td>\n",
              "      <td>1.456703</td>\n",
              "    </tr>\n",
              "    <tr>\n",
              "      <th>9</th>\n",
              "      <td>The Witcher 2 Assassins of Kings Enhanced Edition</td>\n",
              "      <td>1.428424</td>\n",
              "    </tr>\n",
              "  </tbody>\n",
              "</table>\n",
              "</div>"
            ],
            "text/plain": [
              "                                            Game_RFR  score_RFR\n",
              "0                    Counter-Strike Global Offensive   3.197938\n",
              "1                              Counter-Strike Source   2.678136\n",
              "2                                           Unturned   2.387506\n",
              "3                         Sid Meier's Civilization V   1.868469\n",
              "4        Call of Duty Modern Warfare 2 - Multiplayer   1.758601\n",
              "5                                 Grand Theft Auto V   1.647473\n",
              "6                                      Borderlands 2   1.519177\n",
              "7                             Call of Duty Black Ops   1.470338\n",
              "8                                           PAYDAY 2   1.456703\n",
              "9  The Witcher 2 Assassins of Kings Enhanced Edition   1.428424"
            ]
          },
          "metadata": {
            "tags": []
          },
          "execution_count": 52
        }
      ]
    },
    {
      "cell_type": "code",
      "metadata": {
        "id": "xhcYcqcztbEL",
        "colab_type": "code",
        "outputId": "5b3c5a9e-e831-49cf-cca3-ce2f0a1aef32",
        "colab": {
          "base_uri": "https://localhost:8080/",
          "height": 424
        }
      },
      "source": [
        "clean_df.loc[clean_df[\"UserID\"] == 33865373,[\"Game\",\"Played_hours\",\"Ranking\"]]"
      ],
      "execution_count": 53,
      "outputs": [
        {
          "output_type": "execute_result",
          "data": {
            "text/html": [
              "<div>\n",
              "<style scoped>\n",
              "    .dataframe tbody tr th:only-of-type {\n",
              "        vertical-align: middle;\n",
              "    }\n",
              "\n",
              "    .dataframe tbody tr th {\n",
              "        vertical-align: top;\n",
              "    }\n",
              "\n",
              "    .dataframe thead th {\n",
              "        text-align: right;\n",
              "    }\n",
              "</style>\n",
              "<table border=\"1\" class=\"dataframe\">\n",
              "  <thead>\n",
              "    <tr style=\"text-align: right;\">\n",
              "      <th></th>\n",
              "      <th>Game</th>\n",
              "      <th>Played_hours</th>\n",
              "      <th>Ranking</th>\n",
              "    </tr>\n",
              "  </thead>\n",
              "  <tbody>\n",
              "    <tr>\n",
              "      <th>47739</th>\n",
              "      <td>The Elder Scrolls V Skyrim</td>\n",
              "      <td>345.0</td>\n",
              "      <td>10.0</td>\n",
              "    </tr>\n",
              "    <tr>\n",
              "      <th>47740</th>\n",
              "      <td>The Elder Scrolls IV Oblivion</td>\n",
              "      <td>239.0</td>\n",
              "      <td>7.0</td>\n",
              "    </tr>\n",
              "    <tr>\n",
              "      <th>47741</th>\n",
              "      <td>Fallout New Vegas</td>\n",
              "      <td>198.0</td>\n",
              "      <td>6.0</td>\n",
              "    </tr>\n",
              "    <tr>\n",
              "      <th>47742</th>\n",
              "      <td>Sid Meier's Civilization IV</td>\n",
              "      <td>135.0</td>\n",
              "      <td>4.0</td>\n",
              "    </tr>\n",
              "    <tr>\n",
              "      <th>47743</th>\n",
              "      <td>Sid Meier's Civilization IV</td>\n",
              "      <td>2.0</td>\n",
              "      <td>1.0</td>\n",
              "    </tr>\n",
              "    <tr>\n",
              "      <th>...</th>\n",
              "      <td>...</td>\n",
              "      <td>...</td>\n",
              "      <td>...</td>\n",
              "    </tr>\n",
              "    <tr>\n",
              "      <th>48519</th>\n",
              "      <td>Xenophage</td>\n",
              "      <td>0.0</td>\n",
              "      <td>1.0</td>\n",
              "    </tr>\n",
              "    <tr>\n",
              "      <th>48520</th>\n",
              "      <td>Xotic</td>\n",
              "      <td>0.0</td>\n",
              "      <td>1.0</td>\n",
              "    </tr>\n",
              "    <tr>\n",
              "      <th>48521</th>\n",
              "      <td>Zafehouse Diaries</td>\n",
              "      <td>0.0</td>\n",
              "      <td>1.0</td>\n",
              "    </tr>\n",
              "    <tr>\n",
              "      <th>48522</th>\n",
              "      <td>Zen Bound 2</td>\n",
              "      <td>0.0</td>\n",
              "      <td>1.0</td>\n",
              "    </tr>\n",
              "    <tr>\n",
              "      <th>48523</th>\n",
              "      <td>Zombie Driver</td>\n",
              "      <td>0.0</td>\n",
              "      <td>1.0</td>\n",
              "    </tr>\n",
              "  </tbody>\n",
              "</table>\n",
              "<p>785 rows × 3 columns</p>\n",
              "</div>"
            ],
            "text/plain": [
              "                                 Game  Played_hours  Ranking\n",
              "47739      The Elder Scrolls V Skyrim         345.0     10.0\n",
              "47740  The Elder Scrolls IV Oblivion          239.0      7.0\n",
              "47741               Fallout New Vegas         198.0      6.0\n",
              "47742     Sid Meier's Civilization IV         135.0      4.0\n",
              "47743     Sid Meier's Civilization IV           2.0      1.0\n",
              "...                               ...           ...      ...\n",
              "48519                       Xenophage           0.0      1.0\n",
              "48520                           Xotic           0.0      1.0\n",
              "48521               Zafehouse Diaries           0.0      1.0\n",
              "48522                     Zen Bound 2           0.0      1.0\n",
              "48523                   Zombie Driver           0.0      1.0\n",
              "\n",
              "[785 rows x 3 columns]"
            ]
          },
          "metadata": {
            "tags": []
          },
          "execution_count": 53
        }
      ]
    },
    {
      "cell_type": "markdown",
      "metadata": {
        "id": "VbtFPGKsRE1L",
        "colab_type": "text"
      },
      "source": [
        "###TOP USER 4"
      ]
    },
    {
      "cell_type": "code",
      "metadata": {
        "id": "c-QNXAZstbCk",
        "colab_type": "code",
        "outputId": "10c39f9b-f731-441b-f8c1-f69d51a5d2af",
        "colab": {
          "base_uri": "https://localhost:8080/",
          "height": 284
        }
      },
      "source": [
        "rf4 = n.recommend(users=['30246419'])\n",
        "rf4"
      ],
      "execution_count": 54,
      "outputs": [
        {
          "output_type": "execute_result",
          "data": {
            "text/html": [
              "<div style=\"max-height:1000px;max-width:1500px;overflow:auto;\"><table frame=\"box\" rules=\"cols\">\n",
              "    <tr>\n",
              "        <th style=\"padding-left: 1em; padding-right: 1em; text-align: center\">UserID</th>\n",
              "        <th style=\"padding-left: 1em; padding-right: 1em; text-align: center\">Game</th>\n",
              "        <th style=\"padding-left: 1em; padding-right: 1em; text-align: center\">score</th>\n",
              "        <th style=\"padding-left: 1em; padding-right: 1em; text-align: center\">rank</th>\n",
              "    </tr>\n",
              "    <tr>\n",
              "        <td style=\"padding-left: 1em; padding-right: 1em; text-align: center; vertical-align: top\">30246419</td>\n",
              "        <td style=\"padding-left: 1em; padding-right: 1em; text-align: center; vertical-align: top\">Dota 2</td>\n",
              "        <td style=\"padding-left: 1em; padding-right: 1em; text-align: center; vertical-align: top\">4.7573422952168745</td>\n",
              "        <td style=\"padding-left: 1em; padding-right: 1em; text-align: center; vertical-align: top\">1</td>\n",
              "    </tr>\n",
              "    <tr>\n",
              "        <td style=\"padding-left: 1em; padding-right: 1em; text-align: center; vertical-align: top\">30246419</td>\n",
              "        <td style=\"padding-left: 1em; padding-right: 1em; text-align: center; vertical-align: top\">Counter-Strike Global<br>Offensive ...</td>\n",
              "        <td style=\"padding-left: 1em; padding-right: 1em; text-align: center; vertical-align: top\">4.111944915222482</td>\n",
              "        <td style=\"padding-left: 1em; padding-right: 1em; text-align: center; vertical-align: top\">2</td>\n",
              "    </tr>\n",
              "    <tr>\n",
              "        <td style=\"padding-left: 1em; padding-right: 1em; text-align: center; vertical-align: top\">30246419</td>\n",
              "        <td style=\"padding-left: 1em; padding-right: 1em; text-align: center; vertical-align: top\">Team Fortress 2</td>\n",
              "        <td style=\"padding-left: 1em; padding-right: 1em; text-align: center; vertical-align: top\">4.089925469326333</td>\n",
              "        <td style=\"padding-left: 1em; padding-right: 1em; text-align: center; vertical-align: top\">3</td>\n",
              "    </tr>\n",
              "    <tr>\n",
              "        <td style=\"padding-left: 1em; padding-right: 1em; text-align: center; vertical-align: top\">30246419</td>\n",
              "        <td style=\"padding-left: 1em; padding-right: 1em; text-align: center; vertical-align: top\">Counter-Strike</td>\n",
              "        <td style=\"padding-left: 1em; padding-right: 1em; text-align: center; vertical-align: top\">3.472716511654214</td>\n",
              "        <td style=\"padding-left: 1em; padding-right: 1em; text-align: center; vertical-align: top\">4</td>\n",
              "    </tr>\n",
              "    <tr>\n",
              "        <td style=\"padding-left: 1em; padding-right: 1em; text-align: center; vertical-align: top\">30246419</td>\n",
              "        <td style=\"padding-left: 1em; padding-right: 1em; text-align: center; vertical-align: top\">Counter-Strike Source</td>\n",
              "        <td style=\"padding-left: 1em; padding-right: 1em; text-align: center; vertical-align: top\">3.4205573512786187</td>\n",
              "        <td style=\"padding-left: 1em; padding-right: 1em; text-align: center; vertical-align: top\">5</td>\n",
              "    </tr>\n",
              "    <tr>\n",
              "        <td style=\"padding-left: 1em; padding-right: 1em; text-align: center; vertical-align: top\">30246419</td>\n",
              "        <td style=\"padding-left: 1em; padding-right: 1em; text-align: center; vertical-align: top\">Garry&#x27;s Mod</td>\n",
              "        <td style=\"padding-left: 1em; padding-right: 1em; text-align: center; vertical-align: top\">3.069335163997964</td>\n",
              "        <td style=\"padding-left: 1em; padding-right: 1em; text-align: center; vertical-align: top\">6</td>\n",
              "    </tr>\n",
              "    <tr>\n",
              "        <td style=\"padding-left: 1em; padding-right: 1em; text-align: center; vertical-align: top\">30246419</td>\n",
              "        <td style=\"padding-left: 1em; padding-right: 1em; text-align: center; vertical-align: top\">Unturned</td>\n",
              "        <td style=\"padding-left: 1em; padding-right: 1em; text-align: center; vertical-align: top\">2.921819211410836</td>\n",
              "        <td style=\"padding-left: 1em; padding-right: 1em; text-align: center; vertical-align: top\">7</td>\n",
              "    </tr>\n",
              "    <tr>\n",
              "        <td style=\"padding-left: 1em; padding-right: 1em; text-align: center; vertical-align: top\">30246419</td>\n",
              "        <td style=\"padding-left: 1em; padding-right: 1em; text-align: center; vertical-align: top\">Call of Duty Modern<br>Warfare 2 - Multiplayer ...</td>\n",
              "        <td style=\"padding-left: 1em; padding-right: 1em; text-align: center; vertical-align: top\">2.642764092850045</td>\n",
              "        <td style=\"padding-left: 1em; padding-right: 1em; text-align: center; vertical-align: top\">8</td>\n",
              "    </tr>\n",
              "    <tr>\n",
              "        <td style=\"padding-left: 1em; padding-right: 1em; text-align: center; vertical-align: top\">30246419</td>\n",
              "        <td style=\"padding-left: 1em; padding-right: 1em; text-align: center; vertical-align: top\">Grand Theft Auto V</td>\n",
              "        <td style=\"padding-left: 1em; padding-right: 1em; text-align: center; vertical-align: top\">2.4814943088763513</td>\n",
              "        <td style=\"padding-left: 1em; padding-right: 1em; text-align: center; vertical-align: top\">9</td>\n",
              "    </tr>\n",
              "    <tr>\n",
              "        <td style=\"padding-left: 1em; padding-right: 1em; text-align: center; vertical-align: top\">30246419</td>\n",
              "        <td style=\"padding-left: 1em; padding-right: 1em; text-align: center; vertical-align: top\">Empire Total War</td>\n",
              "        <td style=\"padding-left: 1em; padding-right: 1em; text-align: center; vertical-align: top\">2.2851308597796716</td>\n",
              "        <td style=\"padding-left: 1em; padding-right: 1em; text-align: center; vertical-align: top\">10</td>\n",
              "    </tr>\n",
              "</table>\n",
              "[10 rows x 4 columns]<br/>\n",
              "</div>"
            ],
            "text/plain": [
              "Columns:\n",
              "\tUserID\tint\n",
              "\tGame\tstr\n",
              "\tscore\tfloat\n",
              "\trank\tint\n",
              "\n",
              "Rows: 10\n",
              "\n",
              "Data:\n",
              "+----------+-------------------------------+--------------------+------+\n",
              "|  UserID  |              Game             |       score        | rank |\n",
              "+----------+-------------------------------+--------------------+------+\n",
              "| 30246419 |             Dota 2            | 4.7573422952168745 |  1   |\n",
              "| 30246419 | Counter-Strike Global Offe... | 4.111944915222482  |  2   |\n",
              "| 30246419 |        Team Fortress 2        | 4.089925469326333  |  3   |\n",
              "| 30246419 |         Counter-Strike        | 3.472716511654214  |  4   |\n",
              "| 30246419 |     Counter-Strike Source     | 3.4205573512786187 |  5   |\n",
              "| 30246419 |          Garry's Mod          | 3.069335163997964  |  6   |\n",
              "| 30246419 |            Unturned           | 2.921819211410836  |  7   |\n",
              "| 30246419 | Call of Duty Modern Warfar... | 2.642764092850045  |  8   |\n",
              "| 30246419 |       Grand Theft Auto V      | 2.4814943088763513 |  9   |\n",
              "| 30246419 |        Empire Total War       | 2.2851308597796716 |  10  |\n",
              "+----------+-------------------------------+--------------------+------+\n",
              "[10 rows x 4 columns]"
            ]
          },
          "metadata": {
            "tags": []
          },
          "execution_count": 54
        }
      ]
    },
    {
      "cell_type": "markdown",
      "metadata": {
        "id": "MNs9s4RtRU-r",
        "colab_type": "text"
      },
      "source": [
        "###Creating a dataframe"
      ]
    },
    {
      "cell_type": "code",
      "metadata": {
        "id": "yhnixsaoBFQ9",
        "colab_type": "code",
        "outputId": "3945efd8-6b90-49a8-a0e5-541b85ca8d8c",
        "colab": {
          "base_uri": "https://localhost:8080/",
          "height": 363
        }
      },
      "source": [
        "ranfact4 = pd.DataFrame(rf4)\n",
        "ranfact4.drop([\"UserID\",\"rank\"],axis = 1, inplace = True)\n",
        "ranfact4.rename(columns={'Game': 'Game_RFR', 'score': 'score_RFR'}, inplace=True)\n",
        "ranfact4.head(10)"
      ],
      "execution_count": 55,
      "outputs": [
        {
          "output_type": "execute_result",
          "data": {
            "text/html": [
              "<div>\n",
              "<style scoped>\n",
              "    .dataframe tbody tr th:only-of-type {\n",
              "        vertical-align: middle;\n",
              "    }\n",
              "\n",
              "    .dataframe tbody tr th {\n",
              "        vertical-align: top;\n",
              "    }\n",
              "\n",
              "    .dataframe thead th {\n",
              "        text-align: right;\n",
              "    }\n",
              "</style>\n",
              "<table border=\"1\" class=\"dataframe\">\n",
              "  <thead>\n",
              "    <tr style=\"text-align: right;\">\n",
              "      <th></th>\n",
              "      <th>Game_RFR</th>\n",
              "      <th>score_RFR</th>\n",
              "    </tr>\n",
              "  </thead>\n",
              "  <tbody>\n",
              "    <tr>\n",
              "      <th>0</th>\n",
              "      <td>Dota 2</td>\n",
              "      <td>4.757342</td>\n",
              "    </tr>\n",
              "    <tr>\n",
              "      <th>1</th>\n",
              "      <td>Counter-Strike Global Offensive</td>\n",
              "      <td>4.111945</td>\n",
              "    </tr>\n",
              "    <tr>\n",
              "      <th>2</th>\n",
              "      <td>Team Fortress 2</td>\n",
              "      <td>4.089925</td>\n",
              "    </tr>\n",
              "    <tr>\n",
              "      <th>3</th>\n",
              "      <td>Counter-Strike</td>\n",
              "      <td>3.472717</td>\n",
              "    </tr>\n",
              "    <tr>\n",
              "      <th>4</th>\n",
              "      <td>Counter-Strike Source</td>\n",
              "      <td>3.420557</td>\n",
              "    </tr>\n",
              "    <tr>\n",
              "      <th>5</th>\n",
              "      <td>Garry's Mod</td>\n",
              "      <td>3.069335</td>\n",
              "    </tr>\n",
              "    <tr>\n",
              "      <th>6</th>\n",
              "      <td>Unturned</td>\n",
              "      <td>2.921819</td>\n",
              "    </tr>\n",
              "    <tr>\n",
              "      <th>7</th>\n",
              "      <td>Call of Duty Modern Warfare 2 - Multiplayer</td>\n",
              "      <td>2.642764</td>\n",
              "    </tr>\n",
              "    <tr>\n",
              "      <th>8</th>\n",
              "      <td>Grand Theft Auto V</td>\n",
              "      <td>2.481494</td>\n",
              "    </tr>\n",
              "    <tr>\n",
              "      <th>9</th>\n",
              "      <td>Empire Total War</td>\n",
              "      <td>2.285131</td>\n",
              "    </tr>\n",
              "  </tbody>\n",
              "</table>\n",
              "</div>"
            ],
            "text/plain": [
              "                                      Game_RFR  score_RFR\n",
              "0                                       Dota 2   4.757342\n",
              "1              Counter-Strike Global Offensive   4.111945\n",
              "2                              Team Fortress 2   4.089925\n",
              "3                               Counter-Strike   3.472717\n",
              "4                        Counter-Strike Source   3.420557\n",
              "5                                  Garry's Mod   3.069335\n",
              "6                                     Unturned   2.921819\n",
              "7  Call of Duty Modern Warfare 2 - Multiplayer   2.642764\n",
              "8                           Grand Theft Auto V   2.481494\n",
              "9                             Empire Total War   2.285131"
            ]
          },
          "metadata": {
            "tags": []
          },
          "execution_count": 55
        }
      ]
    },
    {
      "cell_type": "code",
      "metadata": {
        "id": "z0StlJn6ta2m",
        "colab_type": "code",
        "outputId": "ad8adef3-c132-40f8-890d-127165aab745",
        "colab": {
          "base_uri": "https://localhost:8080/",
          "height": 424
        }
      },
      "source": [
        "clean_df.loc[clean_df[\"UserID\"] == 30246419,[\"Game\",\"Played_hours\",\"Ranking\"]]"
      ],
      "execution_count": 56,
      "outputs": [
        {
          "output_type": "execute_result",
          "data": {
            "text/html": [
              "<div>\n",
              "<style scoped>\n",
              "    .dataframe tbody tr th:only-of-type {\n",
              "        vertical-align: middle;\n",
              "    }\n",
              "\n",
              "    .dataframe tbody tr th {\n",
              "        vertical-align: top;\n",
              "    }\n",
              "\n",
              "    .dataframe thead th {\n",
              "        text-align: right;\n",
              "    }\n",
              "</style>\n",
              "<table border=\"1\" class=\"dataframe\">\n",
              "  <thead>\n",
              "    <tr style=\"text-align: right;\">\n",
              "      <th></th>\n",
              "      <th>Game</th>\n",
              "      <th>Played_hours</th>\n",
              "      <th>Ranking</th>\n",
              "    </tr>\n",
              "  </thead>\n",
              "  <tbody>\n",
              "    <tr>\n",
              "      <th>62101</th>\n",
              "      <td>The Witcher 3 Wild Hunt</td>\n",
              "      <td>99.0</td>\n",
              "      <td>10.0</td>\n",
              "    </tr>\n",
              "    <tr>\n",
              "      <th>62102</th>\n",
              "      <td>Fallout 4</td>\n",
              "      <td>97.0</td>\n",
              "      <td>10.0</td>\n",
              "    </tr>\n",
              "    <tr>\n",
              "      <th>62103</th>\n",
              "      <td>Two Worlds II</td>\n",
              "      <td>61.0</td>\n",
              "      <td>7.0</td>\n",
              "    </tr>\n",
              "    <tr>\n",
              "      <th>62104</th>\n",
              "      <td>Test Drive Unlimited 2</td>\n",
              "      <td>57.0</td>\n",
              "      <td>6.0</td>\n",
              "    </tr>\n",
              "    <tr>\n",
              "      <th>62105</th>\n",
              "      <td>Middle-earth Shadow of Mordor</td>\n",
              "      <td>53.0</td>\n",
              "      <td>6.0</td>\n",
              "    </tr>\n",
              "    <tr>\n",
              "      <th>...</th>\n",
              "      <td>...</td>\n",
              "      <td>...</td>\n",
              "      <td>...</td>\n",
              "    </tr>\n",
              "    <tr>\n",
              "      <th>62862</th>\n",
              "      <td>Yury</td>\n",
              "      <td>0.0</td>\n",
              "      <td>1.0</td>\n",
              "    </tr>\n",
              "    <tr>\n",
              "      <th>62863</th>\n",
              "      <td>Z</td>\n",
              "      <td>0.0</td>\n",
              "      <td>1.0</td>\n",
              "    </tr>\n",
              "    <tr>\n",
              "      <th>62864</th>\n",
              "      <td>Zafehouse Diaries</td>\n",
              "      <td>0.0</td>\n",
              "      <td>1.0</td>\n",
              "    </tr>\n",
              "    <tr>\n",
              "      <th>62865</th>\n",
              "      <td>Zeno Clash 2</td>\n",
              "      <td>0.0</td>\n",
              "      <td>1.0</td>\n",
              "    </tr>\n",
              "    <tr>\n",
              "      <th>62866</th>\n",
              "      <td>Zooloretto</td>\n",
              "      <td>0.0</td>\n",
              "      <td>1.0</td>\n",
              "    </tr>\n",
              "  </tbody>\n",
              "</table>\n",
              "<p>766 rows × 3 columns</p>\n",
              "</div>"
            ],
            "text/plain": [
              "                                Game  Played_hours  Ranking\n",
              "62101        The Witcher 3 Wild Hunt          99.0     10.0\n",
              "62102                      Fallout 4          97.0     10.0\n",
              "62103                  Two Worlds II          61.0      7.0\n",
              "62104         Test Drive Unlimited 2          57.0      6.0\n",
              "62105  Middle-earth Shadow of Mordor          53.0      6.0\n",
              "...                              ...           ...      ...\n",
              "62862                           Yury           0.0      1.0\n",
              "62863                              Z           0.0      1.0\n",
              "62864              Zafehouse Diaries           0.0      1.0\n",
              "62865                   Zeno Clash 2           0.0      1.0\n",
              "62866                     Zooloretto           0.0      1.0\n",
              "\n",
              "[766 rows x 3 columns]"
            ]
          },
          "metadata": {
            "tags": []
          },
          "execution_count": 56
        }
      ]
    },
    {
      "cell_type": "markdown",
      "metadata": {
        "id": "f-tzU9z7RHoh",
        "colab_type": "text"
      },
      "source": [
        "###TOP USER 5"
      ]
    },
    {
      "cell_type": "code",
      "metadata": {
        "id": "2uiC_ASit8D0",
        "colab_type": "code",
        "outputId": "a7af5002-c7c0-4f83-eb8e-8e427bc275b1",
        "colab": {
          "base_uri": "https://localhost:8080/",
          "height": 319
        }
      },
      "source": [
        "rf5 = n.recommend(users=['58345543'])\n",
        "rf5"
      ],
      "execution_count": 57,
      "outputs": [
        {
          "output_type": "execute_result",
          "data": {
            "text/html": [
              "<div style=\"max-height:1000px;max-width:1500px;overflow:auto;\"><table frame=\"box\" rules=\"cols\">\n",
              "    <tr>\n",
              "        <th style=\"padding-left: 1em; padding-right: 1em; text-align: center\">UserID</th>\n",
              "        <th style=\"padding-left: 1em; padding-right: 1em; text-align: center\">Game</th>\n",
              "        <th style=\"padding-left: 1em; padding-right: 1em; text-align: center\">score</th>\n",
              "        <th style=\"padding-left: 1em; padding-right: 1em; text-align: center\">rank</th>\n",
              "    </tr>\n",
              "    <tr>\n",
              "        <td style=\"padding-left: 1em; padding-right: 1em; text-align: center; vertical-align: top\">58345543</td>\n",
              "        <td style=\"padding-left: 1em; padding-right: 1em; text-align: center; vertical-align: top\">Counter-Strike</td>\n",
              "        <td style=\"padding-left: 1em; padding-right: 1em; text-align: center; vertical-align: top\">3.885623441504792</td>\n",
              "        <td style=\"padding-left: 1em; padding-right: 1em; text-align: center; vertical-align: top\">1</td>\n",
              "    </tr>\n",
              "    <tr>\n",
              "        <td style=\"padding-left: 1em; padding-right: 1em; text-align: center; vertical-align: top\">58345543</td>\n",
              "        <td style=\"padding-left: 1em; padding-right: 1em; text-align: center; vertical-align: top\">Grand Theft Auto V</td>\n",
              "        <td style=\"padding-left: 1em; padding-right: 1em; text-align: center; vertical-align: top\">2.7967790229790963</td>\n",
              "        <td style=\"padding-left: 1em; padding-right: 1em; text-align: center; vertical-align: top\">2</td>\n",
              "    </tr>\n",
              "    <tr>\n",
              "        <td style=\"padding-left: 1em; padding-right: 1em; text-align: center; vertical-align: top\">58345543</td>\n",
              "        <td style=\"padding-left: 1em; padding-right: 1em; text-align: center; vertical-align: top\">Empire Total War</td>\n",
              "        <td style=\"padding-left: 1em; padding-right: 1em; text-align: center; vertical-align: top\">2.7773902876847543</td>\n",
              "        <td style=\"padding-left: 1em; padding-right: 1em; text-align: center; vertical-align: top\">3</td>\n",
              "    </tr>\n",
              "    <tr>\n",
              "        <td style=\"padding-left: 1em; padding-right: 1em; text-align: center; vertical-align: top\">58345543</td>\n",
              "        <td style=\"padding-left: 1em; padding-right: 1em; text-align: center; vertical-align: top\">Euro Truck Simulator 2</td>\n",
              "        <td style=\"padding-left: 1em; padding-right: 1em; text-align: center; vertical-align: top\">2.756396339701966</td>\n",
              "        <td style=\"padding-left: 1em; padding-right: 1em; text-align: center; vertical-align: top\">4</td>\n",
              "    </tr>\n",
              "    <tr>\n",
              "        <td style=\"padding-left: 1em; padding-right: 1em; text-align: center; vertical-align: top\">58345543</td>\n",
              "        <td style=\"padding-left: 1em; padding-right: 1em; text-align: center; vertical-align: top\">Total War SHOGUN 2</td>\n",
              "        <td style=\"padding-left: 1em; padding-right: 1em; text-align: center; vertical-align: top\">2.6200089319222726</td>\n",
              "        <td style=\"padding-left: 1em; padding-right: 1em; text-align: center; vertical-align: top\">5</td>\n",
              "    </tr>\n",
              "    <tr>\n",
              "        <td style=\"padding-left: 1em; padding-right: 1em; text-align: center; vertical-align: top\">58345543</td>\n",
              "        <td style=\"padding-left: 1em; padding-right: 1em; text-align: center; vertical-align: top\">Call of Duty Black Ops II<br>- Multiplayer ...</td>\n",
              "        <td style=\"padding-left: 1em; padding-right: 1em; text-align: center; vertical-align: top\">2.6094382269852914</td>\n",
              "        <td style=\"padding-left: 1em; padding-right: 1em; text-align: center; vertical-align: top\">6</td>\n",
              "    </tr>\n",
              "    <tr>\n",
              "        <td style=\"padding-left: 1em; padding-right: 1em; text-align: center; vertical-align: top\">58345543</td>\n",
              "        <td style=\"padding-left: 1em; padding-right: 1em; text-align: center; vertical-align: top\">Counter-Strike Condition<br>Zero ...</td>\n",
              "        <td style=\"padding-left: 1em; padding-right: 1em; text-align: center; vertical-align: top\">2.5925122960084237</td>\n",
              "        <td style=\"padding-left: 1em; padding-right: 1em; text-align: center; vertical-align: top\">7</td>\n",
              "    </tr>\n",
              "    <tr>\n",
              "        <td style=\"padding-left: 1em; padding-right: 1em; text-align: center; vertical-align: top\">58345543</td>\n",
              "        <td style=\"padding-left: 1em; padding-right: 1em; text-align: center; vertical-align: top\">PAYDAY 2</td>\n",
              "        <td style=\"padding-left: 1em; padding-right: 1em; text-align: center; vertical-align: top\">2.58966456489499</td>\n",
              "        <td style=\"padding-left: 1em; padding-right: 1em; text-align: center; vertical-align: top\">8</td>\n",
              "    </tr>\n",
              "    <tr>\n",
              "        <td style=\"padding-left: 1em; padding-right: 1em; text-align: center; vertical-align: top\">58345543</td>\n",
              "        <td style=\"padding-left: 1em; padding-right: 1em; text-align: center; vertical-align: top\">Arma 2 Operation<br>Arrowhead ...</td>\n",
              "        <td style=\"padding-left: 1em; padding-right: 1em; text-align: center; vertical-align: top\">2.5787628455632485</td>\n",
              "        <td style=\"padding-left: 1em; padding-right: 1em; text-align: center; vertical-align: top\">9</td>\n",
              "    </tr>\n",
              "    <tr>\n",
              "        <td style=\"padding-left: 1em; padding-right: 1em; text-align: center; vertical-align: top\">58345543</td>\n",
              "        <td style=\"padding-left: 1em; padding-right: 1em; text-align: center; vertical-align: top\">Call of Duty Modern<br>Warfare 3 - Multiplayer ...</td>\n",
              "        <td style=\"padding-left: 1em; padding-right: 1em; text-align: center; vertical-align: top\">2.5482123060696877</td>\n",
              "        <td style=\"padding-left: 1em; padding-right: 1em; text-align: center; vertical-align: top\">10</td>\n",
              "    </tr>\n",
              "</table>\n",
              "[10 rows x 4 columns]<br/>\n",
              "</div>"
            ],
            "text/plain": [
              "Columns:\n",
              "\tUserID\tint\n",
              "\tGame\tstr\n",
              "\tscore\tfloat\n",
              "\trank\tint\n",
              "\n",
              "Rows: 10\n",
              "\n",
              "Data:\n",
              "+----------+-------------------------------+--------------------+------+\n",
              "|  UserID  |              Game             |       score        | rank |\n",
              "+----------+-------------------------------+--------------------+------+\n",
              "| 58345543 |         Counter-Strike        | 3.885623441504792  |  1   |\n",
              "| 58345543 |       Grand Theft Auto V      | 2.7967790229790963 |  2   |\n",
              "| 58345543 |        Empire Total War       | 2.7773902876847543 |  3   |\n",
              "| 58345543 |     Euro Truck Simulator 2    | 2.756396339701966  |  4   |\n",
              "| 58345543 |       Total War SHOGUN 2      | 2.6200089319222726 |  5   |\n",
              "| 58345543 | Call of Duty Black Ops II ... | 2.6094382269852914 |  6   |\n",
              "| 58345543 | Counter-Strike Condition Zero | 2.5925122960084237 |  7   |\n",
              "| 58345543 |            PAYDAY 2           |  2.58966456489499  |  8   |\n",
              "| 58345543 |   Arma 2 Operation Arrowhead  | 2.5787628455632485 |  9   |\n",
              "| 58345543 | Call of Duty Modern Warfar... | 2.5482123060696877 |  10  |\n",
              "+----------+-------------------------------+--------------------+------+\n",
              "[10 rows x 4 columns]"
            ]
          },
          "metadata": {
            "tags": []
          },
          "execution_count": 57
        }
      ]
    },
    {
      "cell_type": "markdown",
      "metadata": {
        "id": "HoYeTuoNRWja",
        "colab_type": "text"
      },
      "source": [
        "###Creating a dataframe\n"
      ]
    },
    {
      "cell_type": "code",
      "metadata": {
        "id": "B0zXMrPOBkE1",
        "colab_type": "code",
        "outputId": "43ca760d-1ec2-41b7-b7a4-0c679bff2dda",
        "colab": {
          "base_uri": "https://localhost:8080/",
          "height": 363
        }
      },
      "source": [
        "ranfact5 = pd.DataFrame(rf5)\n",
        "ranfact5.drop([\"UserID\",\"rank\"],axis = 1, inplace = True)\n",
        "ranfact5.rename(columns={'Game': 'Game_RFR', 'score': 'score_RFR'}, inplace=True)\n",
        "ranfact5.head(10)"
      ],
      "execution_count": 58,
      "outputs": [
        {
          "output_type": "execute_result",
          "data": {
            "text/html": [
              "<div>\n",
              "<style scoped>\n",
              "    .dataframe tbody tr th:only-of-type {\n",
              "        vertical-align: middle;\n",
              "    }\n",
              "\n",
              "    .dataframe tbody tr th {\n",
              "        vertical-align: top;\n",
              "    }\n",
              "\n",
              "    .dataframe thead th {\n",
              "        text-align: right;\n",
              "    }\n",
              "</style>\n",
              "<table border=\"1\" class=\"dataframe\">\n",
              "  <thead>\n",
              "    <tr style=\"text-align: right;\">\n",
              "      <th></th>\n",
              "      <th>Game_RFR</th>\n",
              "      <th>score_RFR</th>\n",
              "    </tr>\n",
              "  </thead>\n",
              "  <tbody>\n",
              "    <tr>\n",
              "      <th>0</th>\n",
              "      <td>Counter-Strike</td>\n",
              "      <td>3.885623</td>\n",
              "    </tr>\n",
              "    <tr>\n",
              "      <th>1</th>\n",
              "      <td>Grand Theft Auto V</td>\n",
              "      <td>2.796779</td>\n",
              "    </tr>\n",
              "    <tr>\n",
              "      <th>2</th>\n",
              "      <td>Empire Total War</td>\n",
              "      <td>2.777390</td>\n",
              "    </tr>\n",
              "    <tr>\n",
              "      <th>3</th>\n",
              "      <td>Euro Truck Simulator 2</td>\n",
              "      <td>2.756396</td>\n",
              "    </tr>\n",
              "    <tr>\n",
              "      <th>4</th>\n",
              "      <td>Total War SHOGUN 2</td>\n",
              "      <td>2.620009</td>\n",
              "    </tr>\n",
              "    <tr>\n",
              "      <th>5</th>\n",
              "      <td>Call of Duty Black Ops II - Multiplayer</td>\n",
              "      <td>2.609438</td>\n",
              "    </tr>\n",
              "    <tr>\n",
              "      <th>6</th>\n",
              "      <td>Counter-Strike Condition Zero</td>\n",
              "      <td>2.592512</td>\n",
              "    </tr>\n",
              "    <tr>\n",
              "      <th>7</th>\n",
              "      <td>PAYDAY 2</td>\n",
              "      <td>2.589665</td>\n",
              "    </tr>\n",
              "    <tr>\n",
              "      <th>8</th>\n",
              "      <td>Arma 2 Operation Arrowhead</td>\n",
              "      <td>2.578763</td>\n",
              "    </tr>\n",
              "    <tr>\n",
              "      <th>9</th>\n",
              "      <td>Call of Duty Modern Warfare 3 - Multiplayer</td>\n",
              "      <td>2.548212</td>\n",
              "    </tr>\n",
              "  </tbody>\n",
              "</table>\n",
              "</div>"
            ],
            "text/plain": [
              "                                      Game_RFR  score_RFR\n",
              "0                               Counter-Strike   3.885623\n",
              "1                           Grand Theft Auto V   2.796779\n",
              "2                             Empire Total War   2.777390\n",
              "3                       Euro Truck Simulator 2   2.756396\n",
              "4                           Total War SHOGUN 2   2.620009\n",
              "5      Call of Duty Black Ops II - Multiplayer   2.609438\n",
              "6                Counter-Strike Condition Zero   2.592512\n",
              "7                                     PAYDAY 2   2.589665\n",
              "8                   Arma 2 Operation Arrowhead   2.578763\n",
              "9  Call of Duty Modern Warfare 3 - Multiplayer   2.548212"
            ]
          },
          "metadata": {
            "tags": []
          },
          "execution_count": 58
        }
      ]
    },
    {
      "cell_type": "code",
      "metadata": {
        "id": "stXGJY4-t8Mx",
        "colab_type": "code",
        "outputId": "436bb1c4-6df0-4cb3-f719-ebed7f416a44",
        "colab": {
          "base_uri": "https://localhost:8080/",
          "height": 424
        }
      },
      "source": [
        "clean_df.loc[clean_df[\"UserID\"] == 58345543,[\"Game\",\"Played_hours\",\"Ranking\"]]"
      ],
      "execution_count": 59,
      "outputs": [
        {
          "output_type": "execute_result",
          "data": {
            "text/html": [
              "<div>\n",
              "<style scoped>\n",
              "    .dataframe tbody tr th:only-of-type {\n",
              "        vertical-align: middle;\n",
              "    }\n",
              "\n",
              "    .dataframe tbody tr th {\n",
              "        vertical-align: top;\n",
              "    }\n",
              "\n",
              "    .dataframe thead th {\n",
              "        text-align: right;\n",
              "    }\n",
              "</style>\n",
              "<table border=\"1\" class=\"dataframe\">\n",
              "  <thead>\n",
              "    <tr style=\"text-align: right;\">\n",
              "      <th></th>\n",
              "      <th>Game</th>\n",
              "      <th>Played_hours</th>\n",
              "      <th>Ranking</th>\n",
              "    </tr>\n",
              "  </thead>\n",
              "  <tbody>\n",
              "    <tr>\n",
              "      <th>115598</th>\n",
              "      <td>Spiral Knights</td>\n",
              "      <td>70.0</td>\n",
              "      <td>10.0</td>\n",
              "    </tr>\n",
              "    <tr>\n",
              "      <th>115599</th>\n",
              "      <td>Blacklight Retribution</td>\n",
              "      <td>64.0</td>\n",
              "      <td>10.0</td>\n",
              "    </tr>\n",
              "    <tr>\n",
              "      <th>115600</th>\n",
              "      <td>Dungeon Defenders</td>\n",
              "      <td>56.0</td>\n",
              "      <td>8.0</td>\n",
              "    </tr>\n",
              "    <tr>\n",
              "      <th>115601</th>\n",
              "      <td>Terraria</td>\n",
              "      <td>54.0</td>\n",
              "      <td>8.0</td>\n",
              "    </tr>\n",
              "    <tr>\n",
              "      <th>115602</th>\n",
              "      <td>Borderlands 2</td>\n",
              "      <td>53.0</td>\n",
              "      <td>8.0</td>\n",
              "    </tr>\n",
              "    <tr>\n",
              "      <th>...</th>\n",
              "      <td>...</td>\n",
              "      <td>...</td>\n",
              "      <td>...</td>\n",
              "    </tr>\n",
              "    <tr>\n",
              "      <th>116260</th>\n",
              "      <td>Wrath of Athena</td>\n",
              "      <td>0.0</td>\n",
              "      <td>1.0</td>\n",
              "    </tr>\n",
              "    <tr>\n",
              "      <th>116261</th>\n",
              "      <td>WTFast Gamers Private Network (GPN)</td>\n",
              "      <td>0.0</td>\n",
              "      <td>1.0</td>\n",
              "    </tr>\n",
              "    <tr>\n",
              "      <th>116262</th>\n",
              "      <td>Xam</td>\n",
              "      <td>0.0</td>\n",
              "      <td>1.0</td>\n",
              "    </tr>\n",
              "    <tr>\n",
              "      <th>116263</th>\n",
              "      <td>You Have to Win the Game</td>\n",
              "      <td>0.0</td>\n",
              "      <td>1.0</td>\n",
              "    </tr>\n",
              "    <tr>\n",
              "      <th>116264</th>\n",
              "      <td>Zombies Monsters Robots</td>\n",
              "      <td>0.0</td>\n",
              "      <td>1.0</td>\n",
              "    </tr>\n",
              "  </tbody>\n",
              "</table>\n",
              "<p>667 rows × 3 columns</p>\n",
              "</div>"
            ],
            "text/plain": [
              "                                       Game  Played_hours  Ranking\n",
              "115598                       Spiral Knights          70.0     10.0\n",
              "115599               Blacklight Retribution          64.0     10.0\n",
              "115600                    Dungeon Defenders          56.0      8.0\n",
              "115601                             Terraria          54.0      8.0\n",
              "115602                        Borderlands 2          53.0      8.0\n",
              "...                                     ...           ...      ...\n",
              "116260                      Wrath of Athena           0.0      1.0\n",
              "116261  WTFast Gamers Private Network (GPN)           0.0      1.0\n",
              "116262                                  Xam           0.0      1.0\n",
              "116263             You Have to Win the Game           0.0      1.0\n",
              "116264              Zombies Monsters Robots           0.0      1.0\n",
              "\n",
              "[667 rows x 3 columns]"
            ]
          },
          "metadata": {
            "tags": []
          },
          "execution_count": 59
        }
      ]
    },
    {
      "cell_type": "markdown",
      "metadata": {
        "id": "d3Z4eu5HzBtl",
        "colab_type": "text"
      },
      "source": [
        "# SECTION 5 - RECOMMENDATION SYSTEM - ITEM SIMILARITY RECOMMENDER"
      ]
    },
    {
      "cell_type": "markdown",
      "metadata": {
        "id": "tjvNp82SzVm4",
        "colab_type": "text"
      },
      "source": [
        "### Item Similarity Recommender System"
      ]
    },
    {
      "cell_type": "code",
      "metadata": {
        "id": "8BmZ87f0zHb5",
        "colab_type": "code",
        "outputId": "56a4b132-3d0d-4812-a151-3daf989dbb57",
        "colab": {
          "base_uri": "https://localhost:8080/",
          "height": 434
        }
      },
      "source": [
        "o = tc.item_similarity_recommender.create(dfS,\n",
        "\t\t\t                              user_id='UserID',\n",
        "                                    item_id='Game',\n",
        "                                    target='Ranking')"
      ],
      "execution_count": 60,
      "outputs": [
        {
          "output_type": "display_data",
          "data": {
            "text/html": [
              "<pre>Warning: Ignoring columns Played_hours;</pre>"
            ],
            "text/plain": [
              "Warning: Ignoring columns Played_hours;"
            ]
          },
          "metadata": {
            "tags": []
          }
        },
        {
          "output_type": "display_data",
          "data": {
            "text/html": [
              "<pre>    To use these columns in scoring predictions, use a model that allows the use of additional features.</pre>"
            ],
            "text/plain": [
              "    To use these columns in scoring predictions, use a model that allows the use of additional features."
            ]
          },
          "metadata": {
            "tags": []
          }
        },
        {
          "output_type": "display_data",
          "data": {
            "text/html": [
              "<pre>Preparing data set.</pre>"
            ],
            "text/plain": [
              "Preparing data set."
            ]
          },
          "metadata": {
            "tags": []
          }
        },
        {
          "output_type": "display_data",
          "data": {
            "text/html": [
              "<pre>    Data has 129535 observations with 12393 users and 5155 items.</pre>"
            ],
            "text/plain": [
              "    Data has 129535 observations with 12393 users and 5155 items."
            ]
          },
          "metadata": {
            "tags": []
          }
        },
        {
          "output_type": "display_data",
          "data": {
            "text/html": [
              "<pre>    Data prepared in: 0.170506s</pre>"
            ],
            "text/plain": [
              "    Data prepared in: 0.170506s"
            ]
          },
          "metadata": {
            "tags": []
          }
        },
        {
          "output_type": "display_data",
          "data": {
            "text/html": [
              "<pre>Training model from provided data.</pre>"
            ],
            "text/plain": [
              "Training model from provided data."
            ]
          },
          "metadata": {
            "tags": []
          }
        },
        {
          "output_type": "display_data",
          "data": {
            "text/html": [
              "<pre>Gathering per-item and per-user statistics.</pre>"
            ],
            "text/plain": [
              "Gathering per-item and per-user statistics."
            ]
          },
          "metadata": {
            "tags": []
          }
        },
        {
          "output_type": "display_data",
          "data": {
            "text/html": [
              "<pre>+--------------------------------+------------+</pre>"
            ],
            "text/plain": [
              "+--------------------------------+------------+"
            ]
          },
          "metadata": {
            "tags": []
          }
        },
        {
          "output_type": "display_data",
          "data": {
            "text/html": [
              "<pre>| Elapsed Time (Item Statistics) | % Complete |</pre>"
            ],
            "text/plain": [
              "| Elapsed Time (Item Statistics) | % Complete |"
            ]
          },
          "metadata": {
            "tags": []
          }
        },
        {
          "output_type": "display_data",
          "data": {
            "text/html": [
              "<pre>+--------------------------------+------------+</pre>"
            ],
            "text/plain": [
              "+--------------------------------+------------+"
            ]
          },
          "metadata": {
            "tags": []
          }
        },
        {
          "output_type": "display_data",
          "data": {
            "text/html": [
              "<pre>| 1.716ms                        | 8          |</pre>"
            ],
            "text/plain": [
              "| 1.716ms                        | 8          |"
            ]
          },
          "metadata": {
            "tags": []
          }
        },
        {
          "output_type": "display_data",
          "data": {
            "text/html": [
              "<pre>| 9.949ms                        | 100        |</pre>"
            ],
            "text/plain": [
              "| 9.949ms                        | 100        |"
            ]
          },
          "metadata": {
            "tags": []
          }
        },
        {
          "output_type": "display_data",
          "data": {
            "text/html": [
              "<pre>+--------------------------------+------------+</pre>"
            ],
            "text/plain": [
              "+--------------------------------+------------+"
            ]
          },
          "metadata": {
            "tags": []
          }
        },
        {
          "output_type": "display_data",
          "data": {
            "text/html": [
              "<pre>Setting up lookup tables.</pre>"
            ],
            "text/plain": [
              "Setting up lookup tables."
            ]
          },
          "metadata": {
            "tags": []
          }
        },
        {
          "output_type": "display_data",
          "data": {
            "text/html": [
              "<pre>Processing data in one pass using dense lookup tables.</pre>"
            ],
            "text/plain": [
              "Processing data in one pass using dense lookup tables."
            ]
          },
          "metadata": {
            "tags": []
          }
        },
        {
          "output_type": "display_data",
          "data": {
            "text/html": [
              "<pre>+-------------------------------------+------------------+-----------------+</pre>"
            ],
            "text/plain": [
              "+-------------------------------------+------------------+-----------------+"
            ]
          },
          "metadata": {
            "tags": []
          }
        },
        {
          "output_type": "display_data",
          "data": {
            "text/html": [
              "<pre>| Elapsed Time (Constructing Lookups) | Total % Complete | Items Processed |</pre>"
            ],
            "text/plain": [
              "| Elapsed Time (Constructing Lookups) | Total % Complete | Items Processed |"
            ]
          },
          "metadata": {
            "tags": []
          }
        },
        {
          "output_type": "display_data",
          "data": {
            "text/html": [
              "<pre>+-------------------------------------+------------------+-----------------+</pre>"
            ],
            "text/plain": [
              "+-------------------------------------+------------------+-----------------+"
            ]
          },
          "metadata": {
            "tags": []
          }
        },
        {
          "output_type": "display_data",
          "data": {
            "text/html": [
              "<pre>| 81.566ms                            | 0                | 0               |</pre>"
            ],
            "text/plain": [
              "| 81.566ms                            | 0                | 0               |"
            ]
          },
          "metadata": {
            "tags": []
          }
        },
        {
          "output_type": "display_data",
          "data": {
            "text/html": [
              "<pre>| 580.144ms                           | 100              | 5155            |</pre>"
            ],
            "text/plain": [
              "| 580.144ms                           | 100              | 5155            |"
            ]
          },
          "metadata": {
            "tags": []
          }
        },
        {
          "output_type": "display_data",
          "data": {
            "text/html": [
              "<pre>+-------------------------------------+------------------+-----------------+</pre>"
            ],
            "text/plain": [
              "+-------------------------------------+------------------+-----------------+"
            ]
          },
          "metadata": {
            "tags": []
          }
        },
        {
          "output_type": "display_data",
          "data": {
            "text/html": [
              "<pre>Finalizing lookup tables.</pre>"
            ],
            "text/plain": [
              "Finalizing lookup tables."
            ]
          },
          "metadata": {
            "tags": []
          }
        },
        {
          "output_type": "display_data",
          "data": {
            "text/html": [
              "<pre>Generating candidate set for working with new users.</pre>"
            ],
            "text/plain": [
              "Generating candidate set for working with new users."
            ]
          },
          "metadata": {
            "tags": []
          }
        },
        {
          "output_type": "display_data",
          "data": {
            "text/html": [
              "<pre>Finished training in 0.608639s</pre>"
            ],
            "text/plain": [
              "Finished training in 0.608639s"
            ]
          },
          "metadata": {
            "tags": []
          }
        }
      ]
    },
    {
      "cell_type": "code",
      "metadata": {
        "id": "irpu1pCOzih_",
        "colab_type": "code",
        "outputId": "5cfc4a04-31c5-4341-dd07-92753f7f9352",
        "colab": {
          "base_uri": "https://localhost:8080/",
          "height": 225
        }
      },
      "source": [
        "recommendations = o.recommend()"
      ],
      "execution_count": 61,
      "outputs": [
        {
          "output_type": "display_data",
          "data": {
            "text/html": [
              "<pre>recommendations finished on 1000/12393 queries. users per second: 14871.2</pre>"
            ],
            "text/plain": [
              "recommendations finished on 1000/12393 queries. users per second: 14871.2"
            ]
          },
          "metadata": {
            "tags": []
          }
        },
        {
          "output_type": "display_data",
          "data": {
            "text/html": [
              "<pre>recommendations finished on 2000/12393 queries. users per second: 16996.8</pre>"
            ],
            "text/plain": [
              "recommendations finished on 2000/12393 queries. users per second: 16996.8"
            ]
          },
          "metadata": {
            "tags": []
          }
        },
        {
          "output_type": "display_data",
          "data": {
            "text/html": [
              "<pre>recommendations finished on 3000/12393 queries. users per second: 17475.5</pre>"
            ],
            "text/plain": [
              "recommendations finished on 3000/12393 queries. users per second: 17475.5"
            ]
          },
          "metadata": {
            "tags": []
          }
        },
        {
          "output_type": "display_data",
          "data": {
            "text/html": [
              "<pre>recommendations finished on 4000/12393 queries. users per second: 17844.5</pre>"
            ],
            "text/plain": [
              "recommendations finished on 4000/12393 queries. users per second: 17844.5"
            ]
          },
          "metadata": {
            "tags": []
          }
        },
        {
          "output_type": "display_data",
          "data": {
            "text/html": [
              "<pre>recommendations finished on 5000/12393 queries. users per second: 18190.5</pre>"
            ],
            "text/plain": [
              "recommendations finished on 5000/12393 queries. users per second: 18190.5"
            ]
          },
          "metadata": {
            "tags": []
          }
        },
        {
          "output_type": "display_data",
          "data": {
            "text/html": [
              "<pre>recommendations finished on 6000/12393 queries. users per second: 18408</pre>"
            ],
            "text/plain": [
              "recommendations finished on 6000/12393 queries. users per second: 18408"
            ]
          },
          "metadata": {
            "tags": []
          }
        },
        {
          "output_type": "display_data",
          "data": {
            "text/html": [
              "<pre>recommendations finished on 7000/12393 queries. users per second: 18148.6</pre>"
            ],
            "text/plain": [
              "recommendations finished on 7000/12393 queries. users per second: 18148.6"
            ]
          },
          "metadata": {
            "tags": []
          }
        },
        {
          "output_type": "display_data",
          "data": {
            "text/html": [
              "<pre>recommendations finished on 8000/12393 queries. users per second: 17827.3</pre>"
            ],
            "text/plain": [
              "recommendations finished on 8000/12393 queries. users per second: 17827.3"
            ]
          },
          "metadata": {
            "tags": []
          }
        },
        {
          "output_type": "display_data",
          "data": {
            "text/html": [
              "<pre>recommendations finished on 9000/12393 queries. users per second: 17909</pre>"
            ],
            "text/plain": [
              "recommendations finished on 9000/12393 queries. users per second: 17909"
            ]
          },
          "metadata": {
            "tags": []
          }
        },
        {
          "output_type": "display_data",
          "data": {
            "text/html": [
              "<pre>recommendations finished on 10000/12393 queries. users per second: 18048.9</pre>"
            ],
            "text/plain": [
              "recommendations finished on 10000/12393 queries. users per second: 18048.9"
            ]
          },
          "metadata": {
            "tags": []
          }
        },
        {
          "output_type": "display_data",
          "data": {
            "text/html": [
              "<pre>recommendations finished on 11000/12393 queries. users per second: 18066.8</pre>"
            ],
            "text/plain": [
              "recommendations finished on 11000/12393 queries. users per second: 18066.8"
            ]
          },
          "metadata": {
            "tags": []
          }
        },
        {
          "output_type": "display_data",
          "data": {
            "text/html": [
              "<pre>recommendations finished on 12000/12393 queries. users per second: 18114.1</pre>"
            ],
            "text/plain": [
              "recommendations finished on 12000/12393 queries. users per second: 18114.1"
            ]
          },
          "metadata": {
            "tags": []
          }
        }
      ]
    },
    {
      "cell_type": "markdown",
      "metadata": {
        "id": "Y3ZdobhxzooO",
        "colab_type": "text"
      },
      "source": [
        "### USER DESCRIPTION AND RECOMMENDATIONS"
      ]
    },
    {
      "cell_type": "markdown",
      "metadata": {
        "id": "PUY3rFn1SQZI",
        "colab_type": "text"
      },
      "source": [
        "###TOP 1 USER"
      ]
    },
    {
      "cell_type": "code",
      "metadata": {
        "id": "CbZ3R532zkql",
        "colab_type": "code",
        "outputId": "13eb3163-dfc1-4bf2-9c9f-0d682f770e8a",
        "colab": {
          "base_uri": "https://localhost:8080/",
          "height": 302
        }
      },
      "source": [
        "isr1 = o.recommend(users=['151603712'])\n",
        "isr1.head(20)"
      ],
      "execution_count": 62,
      "outputs": [
        {
          "output_type": "execute_result",
          "data": {
            "text/html": [
              "<div style=\"max-height:1000px;max-width:1500px;overflow:auto;\"><table frame=\"box\" rules=\"cols\">\n",
              "    <tr>\n",
              "        <th style=\"padding-left: 1em; padding-right: 1em; text-align: center\">UserID</th>\n",
              "        <th style=\"padding-left: 1em; padding-right: 1em; text-align: center\">Game</th>\n",
              "        <th style=\"padding-left: 1em; padding-right: 1em; text-align: center\">score</th>\n",
              "        <th style=\"padding-left: 1em; padding-right: 1em; text-align: center\">rank</th>\n",
              "    </tr>\n",
              "    <tr>\n",
              "        <td style=\"padding-left: 1em; padding-right: 1em; text-align: center; vertical-align: top\">151603712</td>\n",
              "        <td style=\"padding-left: 1em; padding-right: 1em; text-align: center; vertical-align: top\">Borderlands 2</td>\n",
              "        <td style=\"padding-left: 1em; padding-right: 1em; text-align: center; vertical-align: top\">0.08844002187252045</td>\n",
              "        <td style=\"padding-left: 1em; padding-right: 1em; text-align: center; vertical-align: top\">1</td>\n",
              "    </tr>\n",
              "    <tr>\n",
              "        <td style=\"padding-left: 1em; padding-right: 1em; text-align: center; vertical-align: top\">151603712</td>\n",
              "        <td style=\"padding-left: 1em; padding-right: 1em; text-align: center; vertical-align: top\">The Witcher 2 Assassins<br>of Kings Enhanced Edi ...</td>\n",
              "        <td style=\"padding-left: 1em; padding-right: 1em; text-align: center; vertical-align: top\">0.08657304048538209</td>\n",
              "        <td style=\"padding-left: 1em; padding-right: 1em; text-align: center; vertical-align: top\">2</td>\n",
              "    </tr>\n",
              "    <tr>\n",
              "        <td style=\"padding-left: 1em; padding-right: 1em; text-align: center; vertical-align: top\">151603712</td>\n",
              "        <td style=\"padding-left: 1em; padding-right: 1em; text-align: center; vertical-align: top\">Portal 2</td>\n",
              "        <td style=\"padding-left: 1em; padding-right: 1em; text-align: center; vertical-align: top\">0.08542347103357315</td>\n",
              "        <td style=\"padding-left: 1em; padding-right: 1em; text-align: center; vertical-align: top\">3</td>\n",
              "    </tr>\n",
              "    <tr>\n",
              "        <td style=\"padding-left: 1em; padding-right: 1em; text-align: center; vertical-align: top\">151603712</td>\n",
              "        <td style=\"padding-left: 1em; padding-right: 1em; text-align: center; vertical-align: top\">Metro 2033</td>\n",
              "        <td style=\"padding-left: 1em; padding-right: 1em; text-align: center; vertical-align: top\">0.08315240740776061</td>\n",
              "        <td style=\"padding-left: 1em; padding-right: 1em; text-align: center; vertical-align: top\">4</td>\n",
              "    </tr>\n",
              "    <tr>\n",
              "        <td style=\"padding-left: 1em; padding-right: 1em; text-align: center; vertical-align: top\">151603712</td>\n",
              "        <td style=\"padding-left: 1em; padding-right: 1em; text-align: center; vertical-align: top\">Dishonored</td>\n",
              "        <td style=\"padding-left: 1em; padding-right: 1em; text-align: center; vertical-align: top\">0.0812200978398323</td>\n",
              "        <td style=\"padding-left: 1em; padding-right: 1em; text-align: center; vertical-align: top\">5</td>\n",
              "    </tr>\n",
              "    <tr>\n",
              "        <td style=\"padding-left: 1em; padding-right: 1em; text-align: center; vertical-align: top\">151603712</td>\n",
              "        <td style=\"padding-left: 1em; padding-right: 1em; text-align: center; vertical-align: top\">Batman Arkham City GOTY</td>\n",
              "        <td style=\"padding-left: 1em; padding-right: 1em; text-align: center; vertical-align: top\">0.07957937866449356</td>\n",
              "        <td style=\"padding-left: 1em; padding-right: 1em; text-align: center; vertical-align: top\">6</td>\n",
              "    </tr>\n",
              "    <tr>\n",
              "        <td style=\"padding-left: 1em; padding-right: 1em; text-align: center; vertical-align: top\">151603712</td>\n",
              "        <td style=\"padding-left: 1em; padding-right: 1em; text-align: center; vertical-align: top\">Company of Heroes (New<br>Steam Version) ...</td>\n",
              "        <td style=\"padding-left: 1em; padding-right: 1em; text-align: center; vertical-align: top\">0.07412561774253845</td>\n",
              "        <td style=\"padding-left: 1em; padding-right: 1em; text-align: center; vertical-align: top\">7</td>\n",
              "    </tr>\n",
              "    <tr>\n",
              "        <td style=\"padding-left: 1em; padding-right: 1em; text-align: center; vertical-align: top\">151603712</td>\n",
              "        <td style=\"padding-left: 1em; padding-right: 1em; text-align: center; vertical-align: top\">Company of Heroes</td>\n",
              "        <td style=\"padding-left: 1em; padding-right: 1em; text-align: center; vertical-align: top\">0.06891263723373413</td>\n",
              "        <td style=\"padding-left: 1em; padding-right: 1em; text-align: center; vertical-align: top\">8</td>\n",
              "    </tr>\n",
              "    <tr>\n",
              "        <td style=\"padding-left: 1em; padding-right: 1em; text-align: center; vertical-align: top\">151603712</td>\n",
              "        <td style=\"padding-left: 1em; padding-right: 1em; text-align: center; vertical-align: top\">Batman Arkham Asylum GOTY<br>Edition ...</td>\n",
              "        <td style=\"padding-left: 1em; padding-right: 1em; text-align: center; vertical-align: top\">0.0677080437541008</td>\n",
              "        <td style=\"padding-left: 1em; padding-right: 1em; text-align: center; vertical-align: top\">9</td>\n",
              "    </tr>\n",
              "    <tr>\n",
              "        <td style=\"padding-left: 1em; padding-right: 1em; text-align: center; vertical-align: top\">151603712</td>\n",
              "        <td style=\"padding-left: 1em; padding-right: 1em; text-align: center; vertical-align: top\">Deus Ex Human Revolution</td>\n",
              "        <td style=\"padding-left: 1em; padding-right: 1em; text-align: center; vertical-align: top\">0.06749018281698227</td>\n",
              "        <td style=\"padding-left: 1em; padding-right: 1em; text-align: center; vertical-align: top\">10</td>\n",
              "    </tr>\n",
              "</table>\n",
              "[10 rows x 4 columns]<br/>\n",
              "</div>"
            ],
            "text/plain": [
              "Columns:\n",
              "\tUserID\tint\n",
              "\tGame\tstr\n",
              "\tscore\tfloat\n",
              "\trank\tint\n",
              "\n",
              "Rows: 10\n",
              "\n",
              "Data:\n",
              "+-----------+-------------------------------+---------------------+------+\n",
              "|   UserID  |              Game             |        score        | rank |\n",
              "+-----------+-------------------------------+---------------------+------+\n",
              "| 151603712 |         Borderlands 2         | 0.08844002187252045 |  1   |\n",
              "| 151603712 | The Witcher 2 Assassins of... | 0.08657304048538209 |  2   |\n",
              "| 151603712 |            Portal 2           | 0.08542347103357315 |  3   |\n",
              "| 151603712 |           Metro 2033          | 0.08315240740776061 |  4   |\n",
              "| 151603712 |           Dishonored          |  0.0812200978398323 |  5   |\n",
              "| 151603712 |    Batman Arkham City GOTY    | 0.07957937866449356 |  6   |\n",
              "| 151603712 | Company of Heroes (New Ste... | 0.07412561774253845 |  7   |\n",
              "| 151603712 |       Company of Heroes       | 0.06891263723373413 |  8   |\n",
              "| 151603712 | Batman Arkham Asylum GOTY ... |  0.0677080437541008 |  9   |\n",
              "| 151603712 |    Deus Ex Human Revolution   | 0.06749018281698227 |  10  |\n",
              "+-----------+-------------------------------+---------------------+------+\n",
              "[10 rows x 4 columns]"
            ]
          },
          "metadata": {
            "tags": []
          },
          "execution_count": 62
        }
      ]
    },
    {
      "cell_type": "markdown",
      "metadata": {
        "id": "vaPwqwlaRYxf",
        "colab_type": "text"
      },
      "source": [
        "###Creating a dataframe"
      ]
    },
    {
      "cell_type": "code",
      "metadata": {
        "id": "iEcIMrPACCMk",
        "colab_type": "code",
        "outputId": "269bd0c1-48a0-4085-f5ad-17da77c880ad",
        "colab": {
          "base_uri": "https://localhost:8080/",
          "height": 363
        }
      },
      "source": [
        "itsim1 = pd.DataFrame(isr1)\n",
        "itsim1.drop([\"UserID\",\"rank\"],axis = 1, inplace = True)\n",
        "itsim1.rename(columns={'Game': 'Game_ISR', 'score': 'score_ISR'}, inplace=True)\n",
        "itsim1.head(10)"
      ],
      "execution_count": 63,
      "outputs": [
        {
          "output_type": "execute_result",
          "data": {
            "text/html": [
              "<div>\n",
              "<style scoped>\n",
              "    .dataframe tbody tr th:only-of-type {\n",
              "        vertical-align: middle;\n",
              "    }\n",
              "\n",
              "    .dataframe tbody tr th {\n",
              "        vertical-align: top;\n",
              "    }\n",
              "\n",
              "    .dataframe thead th {\n",
              "        text-align: right;\n",
              "    }\n",
              "</style>\n",
              "<table border=\"1\" class=\"dataframe\">\n",
              "  <thead>\n",
              "    <tr style=\"text-align: right;\">\n",
              "      <th></th>\n",
              "      <th>Game_ISR</th>\n",
              "      <th>score_ISR</th>\n",
              "    </tr>\n",
              "  </thead>\n",
              "  <tbody>\n",
              "    <tr>\n",
              "      <th>0</th>\n",
              "      <td>Borderlands 2</td>\n",
              "      <td>0.088440</td>\n",
              "    </tr>\n",
              "    <tr>\n",
              "      <th>1</th>\n",
              "      <td>The Witcher 2 Assassins of Kings Enhanced Edition</td>\n",
              "      <td>0.086573</td>\n",
              "    </tr>\n",
              "    <tr>\n",
              "      <th>2</th>\n",
              "      <td>Portal 2</td>\n",
              "      <td>0.085423</td>\n",
              "    </tr>\n",
              "    <tr>\n",
              "      <th>3</th>\n",
              "      <td>Metro 2033</td>\n",
              "      <td>0.083152</td>\n",
              "    </tr>\n",
              "    <tr>\n",
              "      <th>4</th>\n",
              "      <td>Dishonored</td>\n",
              "      <td>0.081220</td>\n",
              "    </tr>\n",
              "    <tr>\n",
              "      <th>5</th>\n",
              "      <td>Batman Arkham City GOTY</td>\n",
              "      <td>0.079579</td>\n",
              "    </tr>\n",
              "    <tr>\n",
              "      <th>6</th>\n",
              "      <td>Company of Heroes (New Steam Version)</td>\n",
              "      <td>0.074126</td>\n",
              "    </tr>\n",
              "    <tr>\n",
              "      <th>7</th>\n",
              "      <td>Company of Heroes</td>\n",
              "      <td>0.068913</td>\n",
              "    </tr>\n",
              "    <tr>\n",
              "      <th>8</th>\n",
              "      <td>Batman Arkham Asylum GOTY Edition</td>\n",
              "      <td>0.067708</td>\n",
              "    </tr>\n",
              "    <tr>\n",
              "      <th>9</th>\n",
              "      <td>Deus Ex Human Revolution</td>\n",
              "      <td>0.067490</td>\n",
              "    </tr>\n",
              "  </tbody>\n",
              "</table>\n",
              "</div>"
            ],
            "text/plain": [
              "                                            Game_ISR  score_ISR\n",
              "0                                      Borderlands 2   0.088440\n",
              "1  The Witcher 2 Assassins of Kings Enhanced Edition   0.086573\n",
              "2                                           Portal 2   0.085423\n",
              "3                                         Metro 2033   0.083152\n",
              "4                                         Dishonored   0.081220\n",
              "5                            Batman Arkham City GOTY   0.079579\n",
              "6              Company of Heroes (New Steam Version)   0.074126\n",
              "7                                  Company of Heroes   0.068913\n",
              "8                  Batman Arkham Asylum GOTY Edition   0.067708\n",
              "9                           Deus Ex Human Revolution   0.067490"
            ]
          },
          "metadata": {
            "tags": []
          },
          "execution_count": 63
        }
      ]
    },
    {
      "cell_type": "code",
      "metadata": {
        "id": "VHLWAx__zktP",
        "colab_type": "code",
        "outputId": "7c976bab-ddde-433b-e6bc-43b9df655ad0",
        "colab": {
          "base_uri": "https://localhost:8080/",
          "height": 1000
        }
      },
      "source": [
        "clean_df.loc[clean_df[\"UserID\"] == 151603712,[\"Game\",\"Played_hours\",\"Ranking\"]]"
      ],
      "execution_count": 64,
      "outputs": [
        {
          "output_type": "execute_result",
          "data": {
            "text/html": [
              "<div>\n",
              "<style scoped>\n",
              "    .dataframe tbody tr th:only-of-type {\n",
              "        vertical-align: middle;\n",
              "    }\n",
              "\n",
              "    .dataframe tbody tr th {\n",
              "        vertical-align: top;\n",
              "    }\n",
              "\n",
              "    .dataframe thead th {\n",
              "        text-align: right;\n",
              "    }\n",
              "</style>\n",
              "<table border=\"1\" class=\"dataframe\">\n",
              "  <thead>\n",
              "    <tr style=\"text-align: right;\">\n",
              "      <th></th>\n",
              "      <th>Game</th>\n",
              "      <th>Played_hours</th>\n",
              "      <th>Ranking</th>\n",
              "    </tr>\n",
              "  </thead>\n",
              "  <tbody>\n",
              "    <tr>\n",
              "      <th>0</th>\n",
              "      <td>The Elder Scrolls V Skyrim</td>\n",
              "      <td>273.0</td>\n",
              "      <td>10.0</td>\n",
              "    </tr>\n",
              "    <tr>\n",
              "      <th>1</th>\n",
              "      <td>Fallout 4</td>\n",
              "      <td>87.0</td>\n",
              "      <td>4.0</td>\n",
              "    </tr>\n",
              "    <tr>\n",
              "      <th>2</th>\n",
              "      <td>Spore</td>\n",
              "      <td>14.9</td>\n",
              "      <td>1.0</td>\n",
              "    </tr>\n",
              "    <tr>\n",
              "      <th>3</th>\n",
              "      <td>Fallout New Vegas</td>\n",
              "      <td>12.1</td>\n",
              "      <td>1.0</td>\n",
              "    </tr>\n",
              "    <tr>\n",
              "      <th>4</th>\n",
              "      <td>Left 4 Dead 2</td>\n",
              "      <td>8.9</td>\n",
              "      <td>1.0</td>\n",
              "    </tr>\n",
              "    <tr>\n",
              "      <th>5</th>\n",
              "      <td>HuniePop</td>\n",
              "      <td>8.5</td>\n",
              "      <td>1.0</td>\n",
              "    </tr>\n",
              "    <tr>\n",
              "      <th>6</th>\n",
              "      <td>Path of Exile</td>\n",
              "      <td>8.1</td>\n",
              "      <td>1.0</td>\n",
              "    </tr>\n",
              "    <tr>\n",
              "      <th>7</th>\n",
              "      <td>Poly Bridge</td>\n",
              "      <td>7.5</td>\n",
              "      <td>1.0</td>\n",
              "    </tr>\n",
              "    <tr>\n",
              "      <th>8</th>\n",
              "      <td>Left 4 Dead</td>\n",
              "      <td>3.3</td>\n",
              "      <td>1.0</td>\n",
              "    </tr>\n",
              "    <tr>\n",
              "      <th>9</th>\n",
              "      <td>Team Fortress 2</td>\n",
              "      <td>2.8</td>\n",
              "      <td>1.0</td>\n",
              "    </tr>\n",
              "    <tr>\n",
              "      <th>10</th>\n",
              "      <td>Tomb Raider</td>\n",
              "      <td>2.5</td>\n",
              "      <td>1.0</td>\n",
              "    </tr>\n",
              "    <tr>\n",
              "      <th>11</th>\n",
              "      <td>The Banner Saga</td>\n",
              "      <td>2.0</td>\n",
              "      <td>1.0</td>\n",
              "    </tr>\n",
              "    <tr>\n",
              "      <th>12</th>\n",
              "      <td>Dead Island Epidemic</td>\n",
              "      <td>1.4</td>\n",
              "      <td>1.0</td>\n",
              "    </tr>\n",
              "    <tr>\n",
              "      <th>13</th>\n",
              "      <td>BioShock Infinite</td>\n",
              "      <td>1.3</td>\n",
              "      <td>1.0</td>\n",
              "    </tr>\n",
              "    <tr>\n",
              "      <th>14</th>\n",
              "      <td>Dragon Age Origins - Ultimate Edition</td>\n",
              "      <td>1.3</td>\n",
              "      <td>1.0</td>\n",
              "    </tr>\n",
              "    <tr>\n",
              "      <th>15</th>\n",
              "      <td>Fallout 3 - Game of the Year Edition</td>\n",
              "      <td>0.8</td>\n",
              "      <td>1.0</td>\n",
              "    </tr>\n",
              "    <tr>\n",
              "      <th>16</th>\n",
              "      <td>SEGA Genesis &amp; Mega Drive Classics</td>\n",
              "      <td>0.8</td>\n",
              "      <td>1.0</td>\n",
              "    </tr>\n",
              "    <tr>\n",
              "      <th>17</th>\n",
              "      <td>Grand Theft Auto IV</td>\n",
              "      <td>0.6</td>\n",
              "      <td>1.0</td>\n",
              "    </tr>\n",
              "    <tr>\n",
              "      <th>18</th>\n",
              "      <td>Realm of the Mad God</td>\n",
              "      <td>0.5</td>\n",
              "      <td>1.0</td>\n",
              "    </tr>\n",
              "    <tr>\n",
              "      <th>19</th>\n",
              "      <td>Marvel Heroes 2015</td>\n",
              "      <td>0.5</td>\n",
              "      <td>1.0</td>\n",
              "    </tr>\n",
              "    <tr>\n",
              "      <th>20</th>\n",
              "      <td>Eldevin</td>\n",
              "      <td>0.5</td>\n",
              "      <td>1.0</td>\n",
              "    </tr>\n",
              "    <tr>\n",
              "      <th>21</th>\n",
              "      <td>Dota 2</td>\n",
              "      <td>0.5</td>\n",
              "      <td>1.0</td>\n",
              "    </tr>\n",
              "    <tr>\n",
              "      <th>22</th>\n",
              "      <td>BioShock</td>\n",
              "      <td>0.5</td>\n",
              "      <td>1.0</td>\n",
              "    </tr>\n",
              "    <tr>\n",
              "      <th>23</th>\n",
              "      <td>Robocraft</td>\n",
              "      <td>0.4</td>\n",
              "      <td>1.0</td>\n",
              "    </tr>\n",
              "    <tr>\n",
              "      <th>24</th>\n",
              "      <td>Garry's Mod</td>\n",
              "      <td>0.1</td>\n",
              "      <td>1.0</td>\n",
              "    </tr>\n",
              "    <tr>\n",
              "      <th>25</th>\n",
              "      <td>Jazzpunk</td>\n",
              "      <td>0.1</td>\n",
              "      <td>1.0</td>\n",
              "    </tr>\n",
              "    <tr>\n",
              "      <th>26</th>\n",
              "      <td>Alan Wake</td>\n",
              "      <td>0.0</td>\n",
              "      <td>1.0</td>\n",
              "    </tr>\n",
              "    <tr>\n",
              "      <th>27</th>\n",
              "      <td>BioShock 2</td>\n",
              "      <td>0.0</td>\n",
              "      <td>1.0</td>\n",
              "    </tr>\n",
              "    <tr>\n",
              "      <th>28</th>\n",
              "      <td>Fallen Earth</td>\n",
              "      <td>0.0</td>\n",
              "      <td>1.0</td>\n",
              "    </tr>\n",
              "    <tr>\n",
              "      <th>29</th>\n",
              "      <td>Fallout New Vegas Courier's Stash</td>\n",
              "      <td>0.0</td>\n",
              "      <td>1.0</td>\n",
              "    </tr>\n",
              "    <tr>\n",
              "      <th>30</th>\n",
              "      <td>Fallout New Vegas Dead Money</td>\n",
              "      <td>0.0</td>\n",
              "      <td>1.0</td>\n",
              "    </tr>\n",
              "    <tr>\n",
              "      <th>31</th>\n",
              "      <td>Fallout New Vegas Honest Hearts</td>\n",
              "      <td>0.0</td>\n",
              "      <td>1.0</td>\n",
              "    </tr>\n",
              "    <tr>\n",
              "      <th>32</th>\n",
              "      <td>Grand Theft Auto Episodes from Liberty City</td>\n",
              "      <td>0.0</td>\n",
              "      <td>1.0</td>\n",
              "    </tr>\n",
              "    <tr>\n",
              "      <th>33</th>\n",
              "      <td>Hitman Absolution</td>\n",
              "      <td>0.0</td>\n",
              "      <td>1.0</td>\n",
              "    </tr>\n",
              "    <tr>\n",
              "      <th>34</th>\n",
              "      <td>HuniePop Official Digital Art Collection</td>\n",
              "      <td>0.0</td>\n",
              "      <td>1.0</td>\n",
              "    </tr>\n",
              "    <tr>\n",
              "      <th>35</th>\n",
              "      <td>HuniePop Original Soundtrack</td>\n",
              "      <td>0.0</td>\n",
              "      <td>1.0</td>\n",
              "    </tr>\n",
              "    <tr>\n",
              "      <th>36</th>\n",
              "      <td>The Banner Saga - Mod Content</td>\n",
              "      <td>0.0</td>\n",
              "      <td>1.0</td>\n",
              "    </tr>\n",
              "    <tr>\n",
              "      <th>37</th>\n",
              "      <td>The Elder Scrolls V Skyrim - Dawnguard</td>\n",
              "      <td>0.0</td>\n",
              "      <td>1.0</td>\n",
              "    </tr>\n",
              "    <tr>\n",
              "      <th>38</th>\n",
              "      <td>The Elder Scrolls V Skyrim - Dragonborn</td>\n",
              "      <td>0.0</td>\n",
              "      <td>1.0</td>\n",
              "    </tr>\n",
              "    <tr>\n",
              "      <th>39</th>\n",
              "      <td>The Elder Scrolls V Skyrim - Hearthfire</td>\n",
              "      <td>0.0</td>\n",
              "      <td>1.0</td>\n",
              "    </tr>\n",
              "  </tbody>\n",
              "</table>\n",
              "</div>"
            ],
            "text/plain": [
              "                                           Game  Played_hours  Ranking\n",
              "0                    The Elder Scrolls V Skyrim         273.0     10.0\n",
              "1                                     Fallout 4          87.0      4.0\n",
              "2                                         Spore          14.9      1.0\n",
              "3                             Fallout New Vegas          12.1      1.0\n",
              "4                                 Left 4 Dead 2           8.9      1.0\n",
              "5                                      HuniePop           8.5      1.0\n",
              "6                                 Path of Exile           8.1      1.0\n",
              "7                                   Poly Bridge           7.5      1.0\n",
              "8                                   Left 4 Dead           3.3      1.0\n",
              "9                               Team Fortress 2           2.8      1.0\n",
              "10                                  Tomb Raider           2.5      1.0\n",
              "11                              The Banner Saga           2.0      1.0\n",
              "12                         Dead Island Epidemic           1.4      1.0\n",
              "13                            BioShock Infinite           1.3      1.0\n",
              "14        Dragon Age Origins - Ultimate Edition           1.3      1.0\n",
              "15         Fallout 3 - Game of the Year Edition           0.8      1.0\n",
              "16           SEGA Genesis & Mega Drive Classics           0.8      1.0\n",
              "17                          Grand Theft Auto IV           0.6      1.0\n",
              "18                         Realm of the Mad God           0.5      1.0\n",
              "19                           Marvel Heroes 2015           0.5      1.0\n",
              "20                                      Eldevin           0.5      1.0\n",
              "21                                       Dota 2           0.5      1.0\n",
              "22                                     BioShock           0.5      1.0\n",
              "23                                    Robocraft           0.4      1.0\n",
              "24                                  Garry's Mod           0.1      1.0\n",
              "25                                     Jazzpunk           0.1      1.0\n",
              "26                                    Alan Wake           0.0      1.0\n",
              "27                                   BioShock 2           0.0      1.0\n",
              "28                                 Fallen Earth           0.0      1.0\n",
              "29            Fallout New Vegas Courier's Stash           0.0      1.0\n",
              "30                 Fallout New Vegas Dead Money           0.0      1.0\n",
              "31              Fallout New Vegas Honest Hearts           0.0      1.0\n",
              "32  Grand Theft Auto Episodes from Liberty City           0.0      1.0\n",
              "33                            Hitman Absolution           0.0      1.0\n",
              "34     HuniePop Official Digital Art Collection           0.0      1.0\n",
              "35                 HuniePop Original Soundtrack           0.0      1.0\n",
              "36                The Banner Saga - Mod Content           0.0      1.0\n",
              "37       The Elder Scrolls V Skyrim - Dawnguard           0.0      1.0\n",
              "38      The Elder Scrolls V Skyrim - Dragonborn           0.0      1.0\n",
              "39      The Elder Scrolls V Skyrim - Hearthfire           0.0      1.0"
            ]
          },
          "metadata": {
            "tags": []
          },
          "execution_count": 64
        }
      ]
    },
    {
      "cell_type": "markdown",
      "metadata": {
        "id": "-TyvKTdsSNPG",
        "colab_type": "text"
      },
      "source": [
        "###TOP 2 USER"
      ]
    },
    {
      "cell_type": "code",
      "metadata": {
        "id": "slvctfgjz082",
        "colab_type": "code",
        "outputId": "ba0c4e0e-0c23-4637-955b-4e9bb7e5edf4",
        "colab": {
          "base_uri": "https://localhost:8080/",
          "height": 249
        }
      },
      "source": [
        "isr2 = o.recommend(users=['62990992'])\n",
        "isr2"
      ],
      "execution_count": 65,
      "outputs": [
        {
          "output_type": "execute_result",
          "data": {
            "text/html": [
              "<div style=\"max-height:1000px;max-width:1500px;overflow:auto;\"><table frame=\"box\" rules=\"cols\">\n",
              "    <tr>\n",
              "        <th style=\"padding-left: 1em; padding-right: 1em; text-align: center\">UserID</th>\n",
              "        <th style=\"padding-left: 1em; padding-right: 1em; text-align: center\">Game</th>\n",
              "        <th style=\"padding-left: 1em; padding-right: 1em; text-align: center\">score</th>\n",
              "        <th style=\"padding-left: 1em; padding-right: 1em; text-align: center\">rank</th>\n",
              "    </tr>\n",
              "    <tr>\n",
              "        <td style=\"padding-left: 1em; padding-right: 1em; text-align: center; vertical-align: top\">62990992</td>\n",
              "        <td style=\"padding-left: 1em; padding-right: 1em; text-align: center; vertical-align: top\">Brtal Legend</td>\n",
              "        <td style=\"padding-left: 1em; padding-right: 1em; text-align: center; vertical-align: top\">0.021146394507715317</td>\n",
              "        <td style=\"padding-left: 1em; padding-right: 1em; text-align: center; vertical-align: top\">1</td>\n",
              "    </tr>\n",
              "    <tr>\n",
              "        <td style=\"padding-left: 1em; padding-right: 1em; text-align: center; vertical-align: top\">62990992</td>\n",
              "        <td style=\"padding-left: 1em; padding-right: 1em; text-align: center; vertical-align: top\">Overlord Raising Hell</td>\n",
              "        <td style=\"padding-left: 1em; padding-right: 1em; text-align: center; vertical-align: top\">0.021016922280583043</td>\n",
              "        <td style=\"padding-left: 1em; padding-right: 1em; text-align: center; vertical-align: top\">2</td>\n",
              "    </tr>\n",
              "    <tr>\n",
              "        <td style=\"padding-left: 1em; padding-right: 1em; text-align: center; vertical-align: top\">62990992</td>\n",
              "        <td style=\"padding-left: 1em; padding-right: 1em; text-align: center; vertical-align: top\">Mark of the Ninja</td>\n",
              "        <td style=\"padding-left: 1em; padding-right: 1em; text-align: center; vertical-align: top\">0.020262867937820235</td>\n",
              "        <td style=\"padding-left: 1em; padding-right: 1em; text-align: center; vertical-align: top\">3</td>\n",
              "    </tr>\n",
              "    <tr>\n",
              "        <td style=\"padding-left: 1em; padding-right: 1em; text-align: center; vertical-align: top\">62990992</td>\n",
              "        <td style=\"padding-left: 1em; padding-right: 1em; text-align: center; vertical-align: top\">Bastion</td>\n",
              "        <td style=\"padding-left: 1em; padding-right: 1em; text-align: center; vertical-align: top\">0.01905287171570996</td>\n",
              "        <td style=\"padding-left: 1em; padding-right: 1em; text-align: center; vertical-align: top\">4</td>\n",
              "    </tr>\n",
              "    <tr>\n",
              "        <td style=\"padding-left: 1em; padding-right: 1em; text-align: center; vertical-align: top\">62990992</td>\n",
              "        <td style=\"padding-left: 1em; padding-right: 1em; text-align: center; vertical-align: top\">Darksiders</td>\n",
              "        <td style=\"padding-left: 1em; padding-right: 1em; text-align: center; vertical-align: top\">0.018422954928562437</td>\n",
              "        <td style=\"padding-left: 1em; padding-right: 1em; text-align: center; vertical-align: top\">5</td>\n",
              "    </tr>\n",
              "    <tr>\n",
              "        <td style=\"padding-left: 1em; padding-right: 1em; text-align: center; vertical-align: top\">62990992</td>\n",
              "        <td style=\"padding-left: 1em; padding-right: 1em; text-align: center; vertical-align: top\">Dishonored</td>\n",
              "        <td style=\"padding-left: 1em; padding-right: 1em; text-align: center; vertical-align: top\">0.015959320387590244</td>\n",
              "        <td style=\"padding-left: 1em; padding-right: 1em; text-align: center; vertical-align: top\">6</td>\n",
              "    </tr>\n",
              "    <tr>\n",
              "        <td style=\"padding-left: 1em; padding-right: 1em; text-align: center; vertical-align: top\">62990992</td>\n",
              "        <td style=\"padding-left: 1em; padding-right: 1em; text-align: center; vertical-align: top\">LIMBO</td>\n",
              "        <td style=\"padding-left: 1em; padding-right: 1em; text-align: center; vertical-align: top\">0.014379451616426533</td>\n",
              "        <td style=\"padding-left: 1em; padding-right: 1em; text-align: center; vertical-align: top\">7</td>\n",
              "    </tr>\n",
              "    <tr>\n",
              "        <td style=\"padding-left: 1em; padding-right: 1em; text-align: center; vertical-align: top\">62990992</td>\n",
              "        <td style=\"padding-left: 1em; padding-right: 1em; text-align: center; vertical-align: top\">FTL Faster Than Light</td>\n",
              "        <td style=\"padding-left: 1em; padding-right: 1em; text-align: center; vertical-align: top\">0.014343305585089694</td>\n",
              "        <td style=\"padding-left: 1em; padding-right: 1em; text-align: center; vertical-align: top\">8</td>\n",
              "    </tr>\n",
              "    <tr>\n",
              "        <td style=\"padding-left: 1em; padding-right: 1em; text-align: center; vertical-align: top\">62990992</td>\n",
              "        <td style=\"padding-left: 1em; padding-right: 1em; text-align: center; vertical-align: top\">Rise of the Argonauts</td>\n",
              "        <td style=\"padding-left: 1em; padding-right: 1em; text-align: center; vertical-align: top\">0.013882566927077618</td>\n",
              "        <td style=\"padding-left: 1em; padding-right: 1em; text-align: center; vertical-align: top\">9</td>\n",
              "    </tr>\n",
              "    <tr>\n",
              "        <td style=\"padding-left: 1em; padding-right: 1em; text-align: center; vertical-align: top\">62990992</td>\n",
              "        <td style=\"padding-left: 1em; padding-right: 1em; text-align: center; vertical-align: top\">The Walking Dead</td>\n",
              "        <td style=\"padding-left: 1em; padding-right: 1em; text-align: center; vertical-align: top\">0.013650716299867808</td>\n",
              "        <td style=\"padding-left: 1em; padding-right: 1em; text-align: center; vertical-align: top\">10</td>\n",
              "    </tr>\n",
              "</table>\n",
              "[10 rows x 4 columns]<br/>\n",
              "</div>"
            ],
            "text/plain": [
              "Columns:\n",
              "\tUserID\tint\n",
              "\tGame\tstr\n",
              "\tscore\tfloat\n",
              "\trank\tint\n",
              "\n",
              "Rows: 10\n",
              "\n",
              "Data:\n",
              "+----------+-----------------------+----------------------+------+\n",
              "|  UserID  |          Game         |        score         | rank |\n",
              "+----------+-----------------------+----------------------+------+\n",
              "| 62990992 |      Brtal Legend     | 0.021146394507715317 |  1   |\n",
              "| 62990992 | Overlord Raising Hell | 0.021016922280583043 |  2   |\n",
              "| 62990992 |   Mark of the Ninja   | 0.020262867937820235 |  3   |\n",
              "| 62990992 |        Bastion        | 0.01905287171570996  |  4   |\n",
              "| 62990992 |       Darksiders      | 0.018422954928562437 |  5   |\n",
              "| 62990992 |       Dishonored      | 0.015959320387590244 |  6   |\n",
              "| 62990992 |         LIMBO         | 0.014379451616426533 |  7   |\n",
              "| 62990992 | FTL Faster Than Light | 0.014343305585089694 |  8   |\n",
              "| 62990992 | Rise of the Argonauts | 0.013882566927077618 |  9   |\n",
              "| 62990992 |    The Walking Dead   | 0.013650716299867808 |  10  |\n",
              "+----------+-----------------------+----------------------+------+\n",
              "[10 rows x 4 columns]"
            ]
          },
          "metadata": {
            "tags": []
          },
          "execution_count": 65
        }
      ]
    },
    {
      "cell_type": "markdown",
      "metadata": {
        "id": "dC63u87ORazk",
        "colab_type": "text"
      },
      "source": [
        "###Creating a dataframe"
      ]
    },
    {
      "cell_type": "code",
      "metadata": {
        "id": "006wXt9dDgw1",
        "colab_type": "code",
        "outputId": "6c8cf028-9bea-4d6c-bd80-6272f3a6b004",
        "colab": {
          "base_uri": "https://localhost:8080/",
          "height": 363
        }
      },
      "source": [
        "itsim2 = pd.DataFrame(isr2)\n",
        "itsim2.drop([\"UserID\",\"rank\"],axis = 1, inplace = True)\n",
        "itsim2.rename(columns = {'Game': 'Game_ISR', 'score': 'score_ISR'},inplace = True)\n",
        "itsim2.head(10)"
      ],
      "execution_count": 66,
      "outputs": [
        {
          "output_type": "execute_result",
          "data": {
            "text/html": [
              "<div>\n",
              "<style scoped>\n",
              "    .dataframe tbody tr th:only-of-type {\n",
              "        vertical-align: middle;\n",
              "    }\n",
              "\n",
              "    .dataframe tbody tr th {\n",
              "        vertical-align: top;\n",
              "    }\n",
              "\n",
              "    .dataframe thead th {\n",
              "        text-align: right;\n",
              "    }\n",
              "</style>\n",
              "<table border=\"1\" class=\"dataframe\">\n",
              "  <thead>\n",
              "    <tr style=\"text-align: right;\">\n",
              "      <th></th>\n",
              "      <th>Game_ISR</th>\n",
              "      <th>score_ISR</th>\n",
              "    </tr>\n",
              "  </thead>\n",
              "  <tbody>\n",
              "    <tr>\n",
              "      <th>0</th>\n",
              "      <td>Brtal Legend</td>\n",
              "      <td>0.021146</td>\n",
              "    </tr>\n",
              "    <tr>\n",
              "      <th>1</th>\n",
              "      <td>Overlord Raising Hell</td>\n",
              "      <td>0.021017</td>\n",
              "    </tr>\n",
              "    <tr>\n",
              "      <th>2</th>\n",
              "      <td>Mark of the Ninja</td>\n",
              "      <td>0.020263</td>\n",
              "    </tr>\n",
              "    <tr>\n",
              "      <th>3</th>\n",
              "      <td>Bastion</td>\n",
              "      <td>0.019053</td>\n",
              "    </tr>\n",
              "    <tr>\n",
              "      <th>4</th>\n",
              "      <td>Darksiders</td>\n",
              "      <td>0.018423</td>\n",
              "    </tr>\n",
              "    <tr>\n",
              "      <th>5</th>\n",
              "      <td>Dishonored</td>\n",
              "      <td>0.015959</td>\n",
              "    </tr>\n",
              "    <tr>\n",
              "      <th>6</th>\n",
              "      <td>LIMBO</td>\n",
              "      <td>0.014379</td>\n",
              "    </tr>\n",
              "    <tr>\n",
              "      <th>7</th>\n",
              "      <td>FTL Faster Than Light</td>\n",
              "      <td>0.014343</td>\n",
              "    </tr>\n",
              "    <tr>\n",
              "      <th>8</th>\n",
              "      <td>Rise of the Argonauts</td>\n",
              "      <td>0.013883</td>\n",
              "    </tr>\n",
              "    <tr>\n",
              "      <th>9</th>\n",
              "      <td>The Walking Dead</td>\n",
              "      <td>0.013651</td>\n",
              "    </tr>\n",
              "  </tbody>\n",
              "</table>\n",
              "</div>"
            ],
            "text/plain": [
              "                Game_ISR  score_ISR\n",
              "0           Brtal Legend   0.021146\n",
              "1  Overlord Raising Hell   0.021017\n",
              "2      Mark of the Ninja   0.020263\n",
              "3                Bastion   0.019053\n",
              "4             Darksiders   0.018423\n",
              "5             Dishonored   0.015959\n",
              "6                  LIMBO   0.014379\n",
              "7  FTL Faster Than Light   0.014343\n",
              "8  Rise of the Argonauts   0.013883\n",
              "9       The Walking Dead   0.013651"
            ]
          },
          "metadata": {
            "tags": []
          },
          "execution_count": 66
        }
      ]
    },
    {
      "cell_type": "code",
      "metadata": {
        "id": "eDa3D9Pfz1AR",
        "colab_type": "code",
        "outputId": "316e08a0-52c9-4686-bd1d-010070172f8d",
        "colab": {
          "base_uri": "https://localhost:8080/",
          "height": 424
        }
      },
      "source": [
        "clean_df.loc[clean_df[\"UserID\"] == 62990992,[\"Game\",\"Played_hours\",\"Ranking\"]]"
      ],
      "execution_count": 67,
      "outputs": [
        {
          "output_type": "execute_result",
          "data": {
            "text/html": [
              "<div>\n",
              "<style scoped>\n",
              "    .dataframe tbody tr th:only-of-type {\n",
              "        vertical-align: middle;\n",
              "    }\n",
              "\n",
              "    .dataframe tbody tr th {\n",
              "        vertical-align: top;\n",
              "    }\n",
              "\n",
              "    .dataframe thead th {\n",
              "        text-align: right;\n",
              "    }\n",
              "</style>\n",
              "<table border=\"1\" class=\"dataframe\">\n",
              "  <thead>\n",
              "    <tr style=\"text-align: right;\">\n",
              "      <th></th>\n",
              "      <th>Game</th>\n",
              "      <th>Played_hours</th>\n",
              "      <th>Ranking</th>\n",
              "    </tr>\n",
              "  </thead>\n",
              "  <tbody>\n",
              "    <tr>\n",
              "      <th>77076</th>\n",
              "      <td>Counter-Strike Global Offensive</td>\n",
              "      <td>663.0</td>\n",
              "      <td>10.0</td>\n",
              "    </tr>\n",
              "    <tr>\n",
              "      <th>77077</th>\n",
              "      <td>Sid Meier's Civilization V</td>\n",
              "      <td>550.0</td>\n",
              "      <td>9.0</td>\n",
              "    </tr>\n",
              "    <tr>\n",
              "      <th>77078</th>\n",
              "      <td>Total War SHOGUN 2</td>\n",
              "      <td>212.0</td>\n",
              "      <td>4.0</td>\n",
              "    </tr>\n",
              "    <tr>\n",
              "      <th>77079</th>\n",
              "      <td>Total War ROME II - Emperor Edition</td>\n",
              "      <td>198.0</td>\n",
              "      <td>3.0</td>\n",
              "    </tr>\n",
              "    <tr>\n",
              "      <th>77080</th>\n",
              "      <td>Dungeon Defenders</td>\n",
              "      <td>195.0</td>\n",
              "      <td>3.0</td>\n",
              "    </tr>\n",
              "    <tr>\n",
              "      <th>...</th>\n",
              "      <td>...</td>\n",
              "      <td>...</td>\n",
              "      <td>...</td>\n",
              "    </tr>\n",
              "    <tr>\n",
              "      <th>78146</th>\n",
              "      <td>Xenophage</td>\n",
              "      <td>0.0</td>\n",
              "      <td>1.0</td>\n",
              "    </tr>\n",
              "    <tr>\n",
              "      <th>78147</th>\n",
              "      <td>Xpand Rally Xtreme</td>\n",
              "      <td>0.0</td>\n",
              "      <td>1.0</td>\n",
              "    </tr>\n",
              "    <tr>\n",
              "      <th>78148</th>\n",
              "      <td>Zen Bound 2</td>\n",
              "      <td>0.0</td>\n",
              "      <td>1.0</td>\n",
              "    </tr>\n",
              "    <tr>\n",
              "      <th>78149</th>\n",
              "      <td>Zombie Driver HD Apocalypse Pack</td>\n",
              "      <td>0.0</td>\n",
              "      <td>1.0</td>\n",
              "    </tr>\n",
              "    <tr>\n",
              "      <th>78150</th>\n",
              "      <td>Zoo Park</td>\n",
              "      <td>0.0</td>\n",
              "      <td>1.0</td>\n",
              "    </tr>\n",
              "  </tbody>\n",
              "</table>\n",
              "<p>1075 rows × 3 columns</p>\n",
              "</div>"
            ],
            "text/plain": [
              "                                      Game  Played_hours  Ranking\n",
              "77076      Counter-Strike Global Offensive         663.0     10.0\n",
              "77077           Sid Meier's Civilization V         550.0      9.0\n",
              "77078                   Total War SHOGUN 2         212.0      4.0\n",
              "77079  Total War ROME II - Emperor Edition         198.0      3.0\n",
              "77080                    Dungeon Defenders         195.0      3.0\n",
              "...                                    ...           ...      ...\n",
              "78146                            Xenophage           0.0      1.0\n",
              "78147                   Xpand Rally Xtreme           0.0      1.0\n",
              "78148                          Zen Bound 2           0.0      1.0\n",
              "78149     Zombie Driver HD Apocalypse Pack           0.0      1.0\n",
              "78150                             Zoo Park           0.0      1.0\n",
              "\n",
              "[1075 rows x 3 columns]"
            ]
          },
          "metadata": {
            "tags": []
          },
          "execution_count": 67
        }
      ]
    },
    {
      "cell_type": "markdown",
      "metadata": {
        "id": "F6Zmv761SKPV",
        "colab_type": "text"
      },
      "source": [
        "###TOP 3 USER"
      ]
    },
    {
      "cell_type": "code",
      "metadata": {
        "id": "g6udA5qoz1Ga",
        "colab_type": "code",
        "outputId": "9998c888-42a4-401a-da2d-cf519eb1ab49",
        "colab": {
          "base_uri": "https://localhost:8080/",
          "height": 267
        }
      },
      "source": [
        "isr3 = o.recommend(users=['33865373'])\n",
        "isr3"
      ],
      "execution_count": 68,
      "outputs": [
        {
          "output_type": "execute_result",
          "data": {
            "text/html": [
              "<div style=\"max-height:1000px;max-width:1500px;overflow:auto;\"><table frame=\"box\" rules=\"cols\">\n",
              "    <tr>\n",
              "        <th style=\"padding-left: 1em; padding-right: 1em; text-align: center\">UserID</th>\n",
              "        <th style=\"padding-left: 1em; padding-right: 1em; text-align: center\">Game</th>\n",
              "        <th style=\"padding-left: 1em; padding-right: 1em; text-align: center\">score</th>\n",
              "        <th style=\"padding-left: 1em; padding-right: 1em; text-align: center\">rank</th>\n",
              "    </tr>\n",
              "    <tr>\n",
              "        <td style=\"padding-left: 1em; padding-right: 1em; text-align: center; vertical-align: top\">33865373</td>\n",
              "        <td style=\"padding-left: 1em; padding-right: 1em; text-align: center; vertical-align: top\">GoD Factory Wingmen</td>\n",
              "        <td style=\"padding-left: 1em; padding-right: 1em; text-align: center; vertical-align: top\">0.021196801407435507</td>\n",
              "        <td style=\"padding-left: 1em; padding-right: 1em; text-align: center; vertical-align: top\">1</td>\n",
              "    </tr>\n",
              "    <tr>\n",
              "        <td style=\"padding-left: 1em; padding-right: 1em; text-align: center; vertical-align: top\">33865373</td>\n",
              "        <td style=\"padding-left: 1em; padding-right: 1em; text-align: center; vertical-align: top\">Guacamelee! Gold Edition</td>\n",
              "        <td style=\"padding-left: 1em; padding-right: 1em; text-align: center; vertical-align: top\">0.020847121464837456</td>\n",
              "        <td style=\"padding-left: 1em; padding-right: 1em; text-align: center; vertical-align: top\">2</td>\n",
              "    </tr>\n",
              "    <tr>\n",
              "        <td style=\"padding-left: 1em; padding-right: 1em; text-align: center; vertical-align: top\">33865373</td>\n",
              "        <td style=\"padding-left: 1em; padding-right: 1em; text-align: center; vertical-align: top\">The Swapper</td>\n",
              "        <td style=\"padding-left: 1em; padding-right: 1em; text-align: center; vertical-align: top\">0.01916514636622262</td>\n",
              "        <td style=\"padding-left: 1em; padding-right: 1em; text-align: center; vertical-align: top\">3</td>\n",
              "    </tr>\n",
              "    <tr>\n",
              "        <td style=\"padding-left: 1em; padding-right: 1em; text-align: center; vertical-align: top\">33865373</td>\n",
              "        <td style=\"padding-left: 1em; padding-right: 1em; text-align: center; vertical-align: top\">Titan Quest</td>\n",
              "        <td style=\"padding-left: 1em; padding-right: 1em; text-align: center; vertical-align: top\">0.018600423618690253</td>\n",
              "        <td style=\"padding-left: 1em; padding-right: 1em; text-align: center; vertical-align: top\">4</td>\n",
              "    </tr>\n",
              "    <tr>\n",
              "        <td style=\"padding-left: 1em; padding-right: 1em; text-align: center; vertical-align: top\">33865373</td>\n",
              "        <td style=\"padding-left: 1em; padding-right: 1em; text-align: center; vertical-align: top\">Gray Matter</td>\n",
              "        <td style=\"padding-left: 1em; padding-right: 1em; text-align: center; vertical-align: top\">0.01763292448115103</td>\n",
              "        <td style=\"padding-left: 1em; padding-right: 1em; text-align: center; vertical-align: top\">5</td>\n",
              "    </tr>\n",
              "    <tr>\n",
              "        <td style=\"padding-left: 1em; padding-right: 1em; text-align: center; vertical-align: top\">33865373</td>\n",
              "        <td style=\"padding-left: 1em; padding-right: 1em; text-align: center; vertical-align: top\">Orcs Must Die! 2</td>\n",
              "        <td style=\"padding-left: 1em; padding-right: 1em; text-align: center; vertical-align: top\">0.01719852114461132</td>\n",
              "        <td style=\"padding-left: 1em; padding-right: 1em; text-align: center; vertical-align: top\">6</td>\n",
              "    </tr>\n",
              "    <tr>\n",
              "        <td style=\"padding-left: 1em; padding-right: 1em; text-align: center; vertical-align: top\">33865373</td>\n",
              "        <td style=\"padding-left: 1em; padding-right: 1em; text-align: center; vertical-align: top\">The Witcher 2 Assassins<br>of Kings Enhanced Edi ...</td>\n",
              "        <td style=\"padding-left: 1em; padding-right: 1em; text-align: center; vertical-align: top\">0.016778717182346227</td>\n",
              "        <td style=\"padding-left: 1em; padding-right: 1em; text-align: center; vertical-align: top\">7</td>\n",
              "    </tr>\n",
              "    <tr>\n",
              "        <td style=\"padding-left: 1em; padding-right: 1em; text-align: center; vertical-align: top\">33865373</td>\n",
              "        <td style=\"padding-left: 1em; padding-right: 1em; text-align: center; vertical-align: top\">The Walking Dead</td>\n",
              "        <td style=\"padding-left: 1em; padding-right: 1em; text-align: center; vertical-align: top\">0.01654549572885651</td>\n",
              "        <td style=\"padding-left: 1em; padding-right: 1em; text-align: center; vertical-align: top\">8</td>\n",
              "    </tr>\n",
              "    <tr>\n",
              "        <td style=\"padding-left: 1em; padding-right: 1em; text-align: center; vertical-align: top\">33865373</td>\n",
              "        <td style=\"padding-left: 1em; padding-right: 1em; text-align: center; vertical-align: top\">Overlord Raising Hell</td>\n",
              "        <td style=\"padding-left: 1em; padding-right: 1em; text-align: center; vertical-align: top\">0.01589132845401764</td>\n",
              "        <td style=\"padding-left: 1em; padding-right: 1em; text-align: center; vertical-align: top\">9</td>\n",
              "    </tr>\n",
              "    <tr>\n",
              "        <td style=\"padding-left: 1em; padding-right: 1em; text-align: center; vertical-align: top\">33865373</td>\n",
              "        <td style=\"padding-left: 1em; padding-right: 1em; text-align: center; vertical-align: top\">Shank 2</td>\n",
              "        <td style=\"padding-left: 1em; padding-right: 1em; text-align: center; vertical-align: top\">0.01569922314476721</td>\n",
              "        <td style=\"padding-left: 1em; padding-right: 1em; text-align: center; vertical-align: top\">10</td>\n",
              "    </tr>\n",
              "</table>\n",
              "[10 rows x 4 columns]<br/>\n",
              "</div>"
            ],
            "text/plain": [
              "Columns:\n",
              "\tUserID\tint\n",
              "\tGame\tstr\n",
              "\tscore\tfloat\n",
              "\trank\tint\n",
              "\n",
              "Rows: 10\n",
              "\n",
              "Data:\n",
              "+----------+-------------------------------+----------------------+------+\n",
              "|  UserID  |              Game             |        score         | rank |\n",
              "+----------+-------------------------------+----------------------+------+\n",
              "| 33865373 |      GoD Factory Wingmen      | 0.021196801407435507 |  1   |\n",
              "| 33865373 |    Guacamelee! Gold Edition   | 0.020847121464837456 |  2   |\n",
              "| 33865373 |          The Swapper          | 0.01916514636622262  |  3   |\n",
              "| 33865373 |          Titan Quest          | 0.018600423618690253 |  4   |\n",
              "| 33865373 |          Gray Matter          | 0.01763292448115103  |  5   |\n",
              "| 33865373 |        Orcs Must Die! 2       | 0.01719852114461132  |  6   |\n",
              "| 33865373 | The Witcher 2 Assassins of... | 0.016778717182346227 |  7   |\n",
              "| 33865373 |        The Walking Dead       | 0.01654549572885651  |  8   |\n",
              "| 33865373 |     Overlord Raising Hell     | 0.01589132845401764  |  9   |\n",
              "| 33865373 |            Shank 2            | 0.01569922314476721  |  10  |\n",
              "+----------+-------------------------------+----------------------+------+\n",
              "[10 rows x 4 columns]"
            ]
          },
          "metadata": {
            "tags": []
          },
          "execution_count": 68
        }
      ]
    },
    {
      "cell_type": "markdown",
      "metadata": {
        "id": "DNCb5cvqRcV7",
        "colab_type": "text"
      },
      "source": [
        "###Creating a dataframe"
      ]
    },
    {
      "cell_type": "code",
      "metadata": {
        "id": "Kjr9mrvXD5_P",
        "colab_type": "code",
        "outputId": "38df8cde-bde9-4a80-8f22-50ec1e14b904",
        "colab": {
          "base_uri": "https://localhost:8080/",
          "height": 363
        }
      },
      "source": [
        "itsim3 = pd.DataFrame(isr3)\n",
        "itsim3.drop([\"UserID\",\"rank\"],axis = 1, inplace = True)\n",
        "itsim3.rename(columns={'Game': 'Game_ISR', 'score': 'score_ISR'}, inplace=True)\n",
        "itsim3.head(10)"
      ],
      "execution_count": 69,
      "outputs": [
        {
          "output_type": "execute_result",
          "data": {
            "text/html": [
              "<div>\n",
              "<style scoped>\n",
              "    .dataframe tbody tr th:only-of-type {\n",
              "        vertical-align: middle;\n",
              "    }\n",
              "\n",
              "    .dataframe tbody tr th {\n",
              "        vertical-align: top;\n",
              "    }\n",
              "\n",
              "    .dataframe thead th {\n",
              "        text-align: right;\n",
              "    }\n",
              "</style>\n",
              "<table border=\"1\" class=\"dataframe\">\n",
              "  <thead>\n",
              "    <tr style=\"text-align: right;\">\n",
              "      <th></th>\n",
              "      <th>Game_ISR</th>\n",
              "      <th>score_ISR</th>\n",
              "    </tr>\n",
              "  </thead>\n",
              "  <tbody>\n",
              "    <tr>\n",
              "      <th>0</th>\n",
              "      <td>GoD Factory Wingmen</td>\n",
              "      <td>0.021197</td>\n",
              "    </tr>\n",
              "    <tr>\n",
              "      <th>1</th>\n",
              "      <td>Guacamelee! Gold Edition</td>\n",
              "      <td>0.020847</td>\n",
              "    </tr>\n",
              "    <tr>\n",
              "      <th>2</th>\n",
              "      <td>The Swapper</td>\n",
              "      <td>0.019165</td>\n",
              "    </tr>\n",
              "    <tr>\n",
              "      <th>3</th>\n",
              "      <td>Titan Quest</td>\n",
              "      <td>0.018600</td>\n",
              "    </tr>\n",
              "    <tr>\n",
              "      <th>4</th>\n",
              "      <td>Gray Matter</td>\n",
              "      <td>0.017633</td>\n",
              "    </tr>\n",
              "    <tr>\n",
              "      <th>5</th>\n",
              "      <td>Orcs Must Die! 2</td>\n",
              "      <td>0.017199</td>\n",
              "    </tr>\n",
              "    <tr>\n",
              "      <th>6</th>\n",
              "      <td>The Witcher 2 Assassins of Kings Enhanced Edition</td>\n",
              "      <td>0.016779</td>\n",
              "    </tr>\n",
              "    <tr>\n",
              "      <th>7</th>\n",
              "      <td>The Walking Dead</td>\n",
              "      <td>0.016545</td>\n",
              "    </tr>\n",
              "    <tr>\n",
              "      <th>8</th>\n",
              "      <td>Overlord Raising Hell</td>\n",
              "      <td>0.015891</td>\n",
              "    </tr>\n",
              "    <tr>\n",
              "      <th>9</th>\n",
              "      <td>Shank 2</td>\n",
              "      <td>0.015699</td>\n",
              "    </tr>\n",
              "  </tbody>\n",
              "</table>\n",
              "</div>"
            ],
            "text/plain": [
              "                                            Game_ISR  score_ISR\n",
              "0                                GoD Factory Wingmen   0.021197\n",
              "1                           Guacamelee! Gold Edition   0.020847\n",
              "2                                        The Swapper   0.019165\n",
              "3                                        Titan Quest   0.018600\n",
              "4                                        Gray Matter   0.017633\n",
              "5                                   Orcs Must Die! 2   0.017199\n",
              "6  The Witcher 2 Assassins of Kings Enhanced Edition   0.016779\n",
              "7                                   The Walking Dead   0.016545\n",
              "8                              Overlord Raising Hell   0.015891\n",
              "9                                            Shank 2   0.015699"
            ]
          },
          "metadata": {
            "tags": []
          },
          "execution_count": 69
        }
      ]
    },
    {
      "cell_type": "code",
      "metadata": {
        "id": "-0EOXOs1z1Ep",
        "colab_type": "code",
        "outputId": "7348ca76-b737-4e56-e05c-83f43f83346e",
        "colab": {
          "base_uri": "https://localhost:8080/",
          "height": 424
        }
      },
      "source": [
        "clean_df.loc[clean_df[\"UserID\"] == 33865373,[\"Game\",\"Played_hours\",\"Ranking\"]]"
      ],
      "execution_count": 70,
      "outputs": [
        {
          "output_type": "execute_result",
          "data": {
            "text/html": [
              "<div>\n",
              "<style scoped>\n",
              "    .dataframe tbody tr th:only-of-type {\n",
              "        vertical-align: middle;\n",
              "    }\n",
              "\n",
              "    .dataframe tbody tr th {\n",
              "        vertical-align: top;\n",
              "    }\n",
              "\n",
              "    .dataframe thead th {\n",
              "        text-align: right;\n",
              "    }\n",
              "</style>\n",
              "<table border=\"1\" class=\"dataframe\">\n",
              "  <thead>\n",
              "    <tr style=\"text-align: right;\">\n",
              "      <th></th>\n",
              "      <th>Game</th>\n",
              "      <th>Played_hours</th>\n",
              "      <th>Ranking</th>\n",
              "    </tr>\n",
              "  </thead>\n",
              "  <tbody>\n",
              "    <tr>\n",
              "      <th>47739</th>\n",
              "      <td>The Elder Scrolls V Skyrim</td>\n",
              "      <td>345.0</td>\n",
              "      <td>10.0</td>\n",
              "    </tr>\n",
              "    <tr>\n",
              "      <th>47740</th>\n",
              "      <td>The Elder Scrolls IV Oblivion</td>\n",
              "      <td>239.0</td>\n",
              "      <td>7.0</td>\n",
              "    </tr>\n",
              "    <tr>\n",
              "      <th>47741</th>\n",
              "      <td>Fallout New Vegas</td>\n",
              "      <td>198.0</td>\n",
              "      <td>6.0</td>\n",
              "    </tr>\n",
              "    <tr>\n",
              "      <th>47742</th>\n",
              "      <td>Sid Meier's Civilization IV</td>\n",
              "      <td>135.0</td>\n",
              "      <td>4.0</td>\n",
              "    </tr>\n",
              "    <tr>\n",
              "      <th>47743</th>\n",
              "      <td>Sid Meier's Civilization IV</td>\n",
              "      <td>2.0</td>\n",
              "      <td>1.0</td>\n",
              "    </tr>\n",
              "    <tr>\n",
              "      <th>...</th>\n",
              "      <td>...</td>\n",
              "      <td>...</td>\n",
              "      <td>...</td>\n",
              "    </tr>\n",
              "    <tr>\n",
              "      <th>48519</th>\n",
              "      <td>Xenophage</td>\n",
              "      <td>0.0</td>\n",
              "      <td>1.0</td>\n",
              "    </tr>\n",
              "    <tr>\n",
              "      <th>48520</th>\n",
              "      <td>Xotic</td>\n",
              "      <td>0.0</td>\n",
              "      <td>1.0</td>\n",
              "    </tr>\n",
              "    <tr>\n",
              "      <th>48521</th>\n",
              "      <td>Zafehouse Diaries</td>\n",
              "      <td>0.0</td>\n",
              "      <td>1.0</td>\n",
              "    </tr>\n",
              "    <tr>\n",
              "      <th>48522</th>\n",
              "      <td>Zen Bound 2</td>\n",
              "      <td>0.0</td>\n",
              "      <td>1.0</td>\n",
              "    </tr>\n",
              "    <tr>\n",
              "      <th>48523</th>\n",
              "      <td>Zombie Driver</td>\n",
              "      <td>0.0</td>\n",
              "      <td>1.0</td>\n",
              "    </tr>\n",
              "  </tbody>\n",
              "</table>\n",
              "<p>785 rows × 3 columns</p>\n",
              "</div>"
            ],
            "text/plain": [
              "                                 Game  Played_hours  Ranking\n",
              "47739      The Elder Scrolls V Skyrim         345.0     10.0\n",
              "47740  The Elder Scrolls IV Oblivion          239.0      7.0\n",
              "47741               Fallout New Vegas         198.0      6.0\n",
              "47742     Sid Meier's Civilization IV         135.0      4.0\n",
              "47743     Sid Meier's Civilization IV           2.0      1.0\n",
              "...                               ...           ...      ...\n",
              "48519                       Xenophage           0.0      1.0\n",
              "48520                           Xotic           0.0      1.0\n",
              "48521               Zafehouse Diaries           0.0      1.0\n",
              "48522                     Zen Bound 2           0.0      1.0\n",
              "48523                   Zombie Driver           0.0      1.0\n",
              "\n",
              "[785 rows x 3 columns]"
            ]
          },
          "metadata": {
            "tags": []
          },
          "execution_count": 70
        }
      ]
    },
    {
      "cell_type": "markdown",
      "metadata": {
        "id": "DBu7wP2rSGz0",
        "colab_type": "text"
      },
      "source": [
        "###TOP 4 USER"
      ]
    },
    {
      "cell_type": "code",
      "metadata": {
        "id": "u-4yPf25zk1H",
        "colab_type": "code",
        "outputId": "64fb89b8-8005-4115-d8ca-155c1dab287e",
        "colab": {
          "base_uri": "https://localhost:8080/",
          "height": 267
        }
      },
      "source": [
        "isr4 = o.recommend(users=['30246419'])\n",
        "isr4"
      ],
      "execution_count": 71,
      "outputs": [
        {
          "output_type": "execute_result",
          "data": {
            "text/html": [
              "<div style=\"max-height:1000px;max-width:1500px;overflow:auto;\"><table frame=\"box\" rules=\"cols\">\n",
              "    <tr>\n",
              "        <th style=\"padding-left: 1em; padding-right: 1em; text-align: center\">UserID</th>\n",
              "        <th style=\"padding-left: 1em; padding-right: 1em; text-align: center\">Game</th>\n",
              "        <th style=\"padding-left: 1em; padding-right: 1em; text-align: center\">score</th>\n",
              "        <th style=\"padding-left: 1em; padding-right: 1em; text-align: center\">rank</th>\n",
              "    </tr>\n",
              "    <tr>\n",
              "        <td style=\"padding-left: 1em; padding-right: 1em; text-align: center; vertical-align: top\">30246419</td>\n",
              "        <td style=\"padding-left: 1em; padding-right: 1em; text-align: center; vertical-align: top\">Sine Mora</td>\n",
              "        <td style=\"padding-left: 1em; padding-right: 1em; text-align: center; vertical-align: top\">0.023019409069744808</td>\n",
              "        <td style=\"padding-left: 1em; padding-right: 1em; text-align: center; vertical-align: top\">1</td>\n",
              "    </tr>\n",
              "    <tr>\n",
              "        <td style=\"padding-left: 1em; padding-right: 1em; text-align: center; vertical-align: top\">30246419</td>\n",
              "        <td style=\"padding-left: 1em; padding-right: 1em; text-align: center; vertical-align: top\">Dishonored</td>\n",
              "        <td style=\"padding-left: 1em; padding-right: 1em; text-align: center; vertical-align: top\">0.02135214456927635</td>\n",
              "        <td style=\"padding-left: 1em; padding-right: 1em; text-align: center; vertical-align: top\">2</td>\n",
              "    </tr>\n",
              "    <tr>\n",
              "        <td style=\"padding-left: 1em; padding-right: 1em; text-align: center; vertical-align: top\">30246419</td>\n",
              "        <td style=\"padding-left: 1em; padding-right: 1em; text-align: center; vertical-align: top\">Dear Esther</td>\n",
              "        <td style=\"padding-left: 1em; padding-right: 1em; text-align: center; vertical-align: top\">0.019962160954833504</td>\n",
              "        <td style=\"padding-left: 1em; padding-right: 1em; text-align: center; vertical-align: top\">3</td>\n",
              "    </tr>\n",
              "    <tr>\n",
              "        <td style=\"padding-left: 1em; padding-right: 1em; text-align: center; vertical-align: top\">30246419</td>\n",
              "        <td style=\"padding-left: 1em; padding-right: 1em; text-align: center; vertical-align: top\">BioShock Infinite</td>\n",
              "        <td style=\"padding-left: 1em; padding-right: 1em; text-align: center; vertical-align: top\">0.01912367100458057</td>\n",
              "        <td style=\"padding-left: 1em; padding-right: 1em; text-align: center; vertical-align: top\">4</td>\n",
              "    </tr>\n",
              "    <tr>\n",
              "        <td style=\"padding-left: 1em; padding-right: 1em; text-align: center; vertical-align: top\">30246419</td>\n",
              "        <td style=\"padding-left: 1em; padding-right: 1em; text-align: center; vertical-align: top\">Gratuitous Space Battles</td>\n",
              "        <td style=\"padding-left: 1em; padding-right: 1em; text-align: center; vertical-align: top\">0.017178096868618046</td>\n",
              "        <td style=\"padding-left: 1em; padding-right: 1em; text-align: center; vertical-align: top\">5</td>\n",
              "    </tr>\n",
              "    <tr>\n",
              "        <td style=\"padding-left: 1em; padding-right: 1em; text-align: center; vertical-align: top\">30246419</td>\n",
              "        <td style=\"padding-left: 1em; padding-right: 1em; text-align: center; vertical-align: top\">Osmos</td>\n",
              "        <td style=\"padding-left: 1em; padding-right: 1em; text-align: center; vertical-align: top\">0.01651441509073431</td>\n",
              "        <td style=\"padding-left: 1em; padding-right: 1em; text-align: center; vertical-align: top\">6</td>\n",
              "    </tr>\n",
              "    <tr>\n",
              "        <td style=\"padding-left: 1em; padding-right: 1em; text-align: center; vertical-align: top\">30246419</td>\n",
              "        <td style=\"padding-left: 1em; padding-right: 1em; text-align: center; vertical-align: top\">Intrusion 2</td>\n",
              "        <td style=\"padding-left: 1em; padding-right: 1em; text-align: center; vertical-align: top\">0.016453122982708675</td>\n",
              "        <td style=\"padding-left: 1em; padding-right: 1em; text-align: center; vertical-align: top\">7</td>\n",
              "    </tr>\n",
              "    <tr>\n",
              "        <td style=\"padding-left: 1em; padding-right: 1em; text-align: center; vertical-align: top\">30246419</td>\n",
              "        <td style=\"padding-left: 1em; padding-right: 1em; text-align: center; vertical-align: top\">Red Faction Guerrilla<br>Steam Edition ...</td>\n",
              "        <td style=\"padding-left: 1em; padding-right: 1em; text-align: center; vertical-align: top\">0.015398942670332113</td>\n",
              "        <td style=\"padding-left: 1em; padding-right: 1em; text-align: center; vertical-align: top\">8</td>\n",
              "    </tr>\n",
              "    <tr>\n",
              "        <td style=\"padding-left: 1em; padding-right: 1em; text-align: center; vertical-align: top\">30246419</td>\n",
              "        <td style=\"padding-left: 1em; padding-right: 1em; text-align: center; vertical-align: top\">Proteus</td>\n",
              "        <td style=\"padding-left: 1em; padding-right: 1em; text-align: center; vertical-align: top\">0.01519429000470007</td>\n",
              "        <td style=\"padding-left: 1em; padding-right: 1em; text-align: center; vertical-align: top\">9</td>\n",
              "    </tr>\n",
              "    <tr>\n",
              "        <td style=\"padding-left: 1em; padding-right: 1em; text-align: center; vertical-align: top\">30246419</td>\n",
              "        <td style=\"padding-left: 1em; padding-right: 1em; text-align: center; vertical-align: top\">Thomas Was Alone</td>\n",
              "        <td style=\"padding-left: 1em; padding-right: 1em; text-align: center; vertical-align: top\">0.014901416417952425</td>\n",
              "        <td style=\"padding-left: 1em; padding-right: 1em; text-align: center; vertical-align: top\">10</td>\n",
              "    </tr>\n",
              "</table>\n",
              "[10 rows x 4 columns]<br/>\n",
              "</div>"
            ],
            "text/plain": [
              "Columns:\n",
              "\tUserID\tint\n",
              "\tGame\tstr\n",
              "\tscore\tfloat\n",
              "\trank\tint\n",
              "\n",
              "Rows: 10\n",
              "\n",
              "Data:\n",
              "+----------+-------------------------------+----------------------+------+\n",
              "|  UserID  |              Game             |        score         | rank |\n",
              "+----------+-------------------------------+----------------------+------+\n",
              "| 30246419 |           Sine Mora           | 0.023019409069744808 |  1   |\n",
              "| 30246419 |           Dishonored          | 0.02135214456927635  |  2   |\n",
              "| 30246419 |          Dear Esther          | 0.019962160954833504 |  3   |\n",
              "| 30246419 |       BioShock Infinite       | 0.01912367100458057  |  4   |\n",
              "| 30246419 |    Gratuitous Space Battles   | 0.017178096868618046 |  5   |\n",
              "| 30246419 |             Osmos             | 0.01651441509073431  |  6   |\n",
              "| 30246419 |          Intrusion 2          | 0.016453122982708675 |  7   |\n",
              "| 30246419 | Red Faction Guerrilla Stea... | 0.015398942670332113 |  8   |\n",
              "| 30246419 |            Proteus            | 0.01519429000470007  |  9   |\n",
              "| 30246419 |        Thomas Was Alone       | 0.014901416417952425 |  10  |\n",
              "+----------+-------------------------------+----------------------+------+\n",
              "[10 rows x 4 columns]"
            ]
          },
          "metadata": {
            "tags": []
          },
          "execution_count": 71
        }
      ]
    },
    {
      "cell_type": "markdown",
      "metadata": {
        "id": "p-GQH-77ReZe",
        "colab_type": "text"
      },
      "source": [
        "###Creating a dataframe"
      ]
    },
    {
      "cell_type": "code",
      "metadata": {
        "id": "MixzoDuyECCJ",
        "colab_type": "code",
        "outputId": "0fb719c0-3638-45be-cf2d-cdb945b2b230",
        "colab": {
          "base_uri": "https://localhost:8080/",
          "height": 363
        }
      },
      "source": [
        "itsim4 = pd.DataFrame(isr4)\n",
        "itsim4.drop([\"UserID\",\"rank\"],axis = 1, inplace = True)\n",
        "itsim4.rename(columns={'Game': 'Game_ISR', 'score': 'score_ISR'}, inplace=True)\n",
        "itsim4.head(10)"
      ],
      "execution_count": 72,
      "outputs": [
        {
          "output_type": "execute_result",
          "data": {
            "text/html": [
              "<div>\n",
              "<style scoped>\n",
              "    .dataframe tbody tr th:only-of-type {\n",
              "        vertical-align: middle;\n",
              "    }\n",
              "\n",
              "    .dataframe tbody tr th {\n",
              "        vertical-align: top;\n",
              "    }\n",
              "\n",
              "    .dataframe thead th {\n",
              "        text-align: right;\n",
              "    }\n",
              "</style>\n",
              "<table border=\"1\" class=\"dataframe\">\n",
              "  <thead>\n",
              "    <tr style=\"text-align: right;\">\n",
              "      <th></th>\n",
              "      <th>Game_ISR</th>\n",
              "      <th>score_ISR</th>\n",
              "    </tr>\n",
              "  </thead>\n",
              "  <tbody>\n",
              "    <tr>\n",
              "      <th>0</th>\n",
              "      <td>Sine Mora</td>\n",
              "      <td>0.023019</td>\n",
              "    </tr>\n",
              "    <tr>\n",
              "      <th>1</th>\n",
              "      <td>Dishonored</td>\n",
              "      <td>0.021352</td>\n",
              "    </tr>\n",
              "    <tr>\n",
              "      <th>2</th>\n",
              "      <td>Dear Esther</td>\n",
              "      <td>0.019962</td>\n",
              "    </tr>\n",
              "    <tr>\n",
              "      <th>3</th>\n",
              "      <td>BioShock Infinite</td>\n",
              "      <td>0.019124</td>\n",
              "    </tr>\n",
              "    <tr>\n",
              "      <th>4</th>\n",
              "      <td>Gratuitous Space Battles</td>\n",
              "      <td>0.017178</td>\n",
              "    </tr>\n",
              "    <tr>\n",
              "      <th>5</th>\n",
              "      <td>Osmos</td>\n",
              "      <td>0.016514</td>\n",
              "    </tr>\n",
              "    <tr>\n",
              "      <th>6</th>\n",
              "      <td>Intrusion 2</td>\n",
              "      <td>0.016453</td>\n",
              "    </tr>\n",
              "    <tr>\n",
              "      <th>7</th>\n",
              "      <td>Red Faction Guerrilla Steam Edition</td>\n",
              "      <td>0.015399</td>\n",
              "    </tr>\n",
              "    <tr>\n",
              "      <th>8</th>\n",
              "      <td>Proteus</td>\n",
              "      <td>0.015194</td>\n",
              "    </tr>\n",
              "    <tr>\n",
              "      <th>9</th>\n",
              "      <td>Thomas Was Alone</td>\n",
              "      <td>0.014901</td>\n",
              "    </tr>\n",
              "  </tbody>\n",
              "</table>\n",
              "</div>"
            ],
            "text/plain": [
              "                              Game_ISR  score_ISR\n",
              "0                            Sine Mora   0.023019\n",
              "1                           Dishonored   0.021352\n",
              "2                          Dear Esther   0.019962\n",
              "3                    BioShock Infinite   0.019124\n",
              "4             Gratuitous Space Battles   0.017178\n",
              "5                                Osmos   0.016514\n",
              "6                          Intrusion 2   0.016453\n",
              "7  Red Faction Guerrilla Steam Edition   0.015399\n",
              "8                              Proteus   0.015194\n",
              "9                     Thomas Was Alone   0.014901"
            ]
          },
          "metadata": {
            "tags": []
          },
          "execution_count": 72
        }
      ]
    },
    {
      "cell_type": "code",
      "metadata": {
        "id": "2Ra2Rl1Dzk4p",
        "colab_type": "code",
        "outputId": "9ac3169b-d2f7-4875-93ad-d5f75fbc66eb",
        "colab": {
          "base_uri": "https://localhost:8080/",
          "height": 424
        }
      },
      "source": [
        "clean_df.loc[clean_df[\"UserID\"] == 30246419,[\"Game\",\"Played_hours\",\"Ranking\"]]"
      ],
      "execution_count": 73,
      "outputs": [
        {
          "output_type": "execute_result",
          "data": {
            "text/html": [
              "<div>\n",
              "<style scoped>\n",
              "    .dataframe tbody tr th:only-of-type {\n",
              "        vertical-align: middle;\n",
              "    }\n",
              "\n",
              "    .dataframe tbody tr th {\n",
              "        vertical-align: top;\n",
              "    }\n",
              "\n",
              "    .dataframe thead th {\n",
              "        text-align: right;\n",
              "    }\n",
              "</style>\n",
              "<table border=\"1\" class=\"dataframe\">\n",
              "  <thead>\n",
              "    <tr style=\"text-align: right;\">\n",
              "      <th></th>\n",
              "      <th>Game</th>\n",
              "      <th>Played_hours</th>\n",
              "      <th>Ranking</th>\n",
              "    </tr>\n",
              "  </thead>\n",
              "  <tbody>\n",
              "    <tr>\n",
              "      <th>62101</th>\n",
              "      <td>The Witcher 3 Wild Hunt</td>\n",
              "      <td>99.0</td>\n",
              "      <td>10.0</td>\n",
              "    </tr>\n",
              "    <tr>\n",
              "      <th>62102</th>\n",
              "      <td>Fallout 4</td>\n",
              "      <td>97.0</td>\n",
              "      <td>10.0</td>\n",
              "    </tr>\n",
              "    <tr>\n",
              "      <th>62103</th>\n",
              "      <td>Two Worlds II</td>\n",
              "      <td>61.0</td>\n",
              "      <td>7.0</td>\n",
              "    </tr>\n",
              "    <tr>\n",
              "      <th>62104</th>\n",
              "      <td>Test Drive Unlimited 2</td>\n",
              "      <td>57.0</td>\n",
              "      <td>6.0</td>\n",
              "    </tr>\n",
              "    <tr>\n",
              "      <th>62105</th>\n",
              "      <td>Middle-earth Shadow of Mordor</td>\n",
              "      <td>53.0</td>\n",
              "      <td>6.0</td>\n",
              "    </tr>\n",
              "    <tr>\n",
              "      <th>...</th>\n",
              "      <td>...</td>\n",
              "      <td>...</td>\n",
              "      <td>...</td>\n",
              "    </tr>\n",
              "    <tr>\n",
              "      <th>62862</th>\n",
              "      <td>Yury</td>\n",
              "      <td>0.0</td>\n",
              "      <td>1.0</td>\n",
              "    </tr>\n",
              "    <tr>\n",
              "      <th>62863</th>\n",
              "      <td>Z</td>\n",
              "      <td>0.0</td>\n",
              "      <td>1.0</td>\n",
              "    </tr>\n",
              "    <tr>\n",
              "      <th>62864</th>\n",
              "      <td>Zafehouse Diaries</td>\n",
              "      <td>0.0</td>\n",
              "      <td>1.0</td>\n",
              "    </tr>\n",
              "    <tr>\n",
              "      <th>62865</th>\n",
              "      <td>Zeno Clash 2</td>\n",
              "      <td>0.0</td>\n",
              "      <td>1.0</td>\n",
              "    </tr>\n",
              "    <tr>\n",
              "      <th>62866</th>\n",
              "      <td>Zooloretto</td>\n",
              "      <td>0.0</td>\n",
              "      <td>1.0</td>\n",
              "    </tr>\n",
              "  </tbody>\n",
              "</table>\n",
              "<p>766 rows × 3 columns</p>\n",
              "</div>"
            ],
            "text/plain": [
              "                                Game  Played_hours  Ranking\n",
              "62101        The Witcher 3 Wild Hunt          99.0     10.0\n",
              "62102                      Fallout 4          97.0     10.0\n",
              "62103                  Two Worlds II          61.0      7.0\n",
              "62104         Test Drive Unlimited 2          57.0      6.0\n",
              "62105  Middle-earth Shadow of Mordor          53.0      6.0\n",
              "...                              ...           ...      ...\n",
              "62862                           Yury           0.0      1.0\n",
              "62863                              Z           0.0      1.0\n",
              "62864              Zafehouse Diaries           0.0      1.0\n",
              "62865                   Zeno Clash 2           0.0      1.0\n",
              "62866                     Zooloretto           0.0      1.0\n",
              "\n",
              "[766 rows x 3 columns]"
            ]
          },
          "metadata": {
            "tags": []
          },
          "execution_count": 73
        }
      ]
    },
    {
      "cell_type": "markdown",
      "metadata": {
        "id": "Vb6_aVmhR7-z",
        "colab_type": "text"
      },
      "source": [
        "###TOP 5 USER"
      ]
    },
    {
      "cell_type": "code",
      "metadata": {
        "id": "TvMMOUUszky8",
        "colab_type": "code",
        "outputId": "75091cd2-c10d-47ec-eff1-00af3bf125a0",
        "colab": {
          "base_uri": "https://localhost:8080/",
          "height": 267
        }
      },
      "source": [
        "isr5 = o.recommend(users=['58345543'])\n",
        "isr5"
      ],
      "execution_count": 74,
      "outputs": [
        {
          "output_type": "execute_result",
          "data": {
            "text/html": [
              "<div style=\"max-height:1000px;max-width:1500px;overflow:auto;\"><table frame=\"box\" rules=\"cols\">\n",
              "    <tr>\n",
              "        <th style=\"padding-left: 1em; padding-right: 1em; text-align: center\">UserID</th>\n",
              "        <th style=\"padding-left: 1em; padding-right: 1em; text-align: center\">Game</th>\n",
              "        <th style=\"padding-left: 1em; padding-right: 1em; text-align: center\">score</th>\n",
              "        <th style=\"padding-left: 1em; padding-right: 1em; text-align: center\">rank</th>\n",
              "    </tr>\n",
              "    <tr>\n",
              "        <td style=\"padding-left: 1em; padding-right: 1em; text-align: center; vertical-align: top\">58345543</td>\n",
              "        <td style=\"padding-left: 1em; padding-right: 1em; text-align: center; vertical-align: top\">Combat Arms</td>\n",
              "        <td style=\"padding-left: 1em; padding-right: 1em; text-align: center; vertical-align: top\">0.02556089524392251</td>\n",
              "        <td style=\"padding-left: 1em; padding-right: 1em; text-align: center; vertical-align: top\">1</td>\n",
              "    </tr>\n",
              "    <tr>\n",
              "        <td style=\"padding-left: 1em; padding-right: 1em; text-align: center; vertical-align: top\">58345543</td>\n",
              "        <td style=\"padding-left: 1em; padding-right: 1em; text-align: center; vertical-align: top\">Dragon Nest Europe</td>\n",
              "        <td style=\"padding-left: 1em; padding-right: 1em; text-align: center; vertical-align: top\">0.022591863577072328</td>\n",
              "        <td style=\"padding-left: 1em; padding-right: 1em; text-align: center; vertical-align: top\">2</td>\n",
              "    </tr>\n",
              "    <tr>\n",
              "        <td style=\"padding-left: 1em; padding-right: 1em; text-align: center; vertical-align: top\">58345543</td>\n",
              "        <td style=\"padding-left: 1em; padding-right: 1em; text-align: center; vertical-align: top\">Global Agenda</td>\n",
              "        <td style=\"padding-left: 1em; padding-right: 1em; text-align: center; vertical-align: top\">0.02009778230397909</td>\n",
              "        <td style=\"padding-left: 1em; padding-right: 1em; text-align: center; vertical-align: top\">3</td>\n",
              "    </tr>\n",
              "    <tr>\n",
              "        <td style=\"padding-left: 1em; padding-right: 1em; text-align: center; vertical-align: top\">58345543</td>\n",
              "        <td style=\"padding-left: 1em; padding-right: 1em; text-align: center; vertical-align: top\">Mark of the Ninja</td>\n",
              "        <td style=\"padding-left: 1em; padding-right: 1em; text-align: center; vertical-align: top\">0.017079286031178885</td>\n",
              "        <td style=\"padding-left: 1em; padding-right: 1em; text-align: center; vertical-align: top\">4</td>\n",
              "    </tr>\n",
              "    <tr>\n",
              "        <td style=\"padding-left: 1em; padding-right: 1em; text-align: center; vertical-align: top\">58345543</td>\n",
              "        <td style=\"padding-left: 1em; padding-right: 1em; text-align: center; vertical-align: top\">Batman Arkham City GOTY</td>\n",
              "        <td style=\"padding-left: 1em; padding-right: 1em; text-align: center; vertical-align: top\">0.016511627951183834</td>\n",
              "        <td style=\"padding-left: 1em; padding-right: 1em; text-align: center; vertical-align: top\">5</td>\n",
              "    </tr>\n",
              "    <tr>\n",
              "        <td style=\"padding-left: 1em; padding-right: 1em; text-align: center; vertical-align: top\">58345543</td>\n",
              "        <td style=\"padding-left: 1em; padding-right: 1em; text-align: center; vertical-align: top\">Batman Arkham Asylum GOTY<br>Edition ...</td>\n",
              "        <td style=\"padding-left: 1em; padding-right: 1em; text-align: center; vertical-align: top\">0.016301111505554244</td>\n",
              "        <td style=\"padding-left: 1em; padding-right: 1em; text-align: center; vertical-align: top\">6</td>\n",
              "    </tr>\n",
              "    <tr>\n",
              "        <td style=\"padding-left: 1em; padding-right: 1em; text-align: center; vertical-align: top\">58345543</td>\n",
              "        <td style=\"padding-left: 1em; padding-right: 1em; text-align: center; vertical-align: top\">Frozen Synapse</td>\n",
              "        <td style=\"padding-left: 1em; padding-right: 1em; text-align: center; vertical-align: top\">0.016036841604444716</td>\n",
              "        <td style=\"padding-left: 1em; padding-right: 1em; text-align: center; vertical-align: top\">7</td>\n",
              "    </tr>\n",
              "    <tr>\n",
              "        <td style=\"padding-left: 1em; padding-right: 1em; text-align: center; vertical-align: top\">58345543</td>\n",
              "        <td style=\"padding-left: 1em; padding-right: 1em; text-align: center; vertical-align: top\">Dear Esther</td>\n",
              "        <td style=\"padding-left: 1em; padding-right: 1em; text-align: center; vertical-align: top\">0.015709562165601116</td>\n",
              "        <td style=\"padding-left: 1em; padding-right: 1em; text-align: center; vertical-align: top\">8</td>\n",
              "    </tr>\n",
              "    <tr>\n",
              "        <td style=\"padding-left: 1em; padding-right: 1em; text-align: center; vertical-align: top\">58345543</td>\n",
              "        <td style=\"padding-left: 1em; padding-right: 1em; text-align: center; vertical-align: top\">FTL Faster Than Light</td>\n",
              "        <td style=\"padding-left: 1em; padding-right: 1em; text-align: center; vertical-align: top\">0.015591508364892221</td>\n",
              "        <td style=\"padding-left: 1em; padding-right: 1em; text-align: center; vertical-align: top\">9</td>\n",
              "    </tr>\n",
              "    <tr>\n",
              "        <td style=\"padding-left: 1em; padding-right: 1em; text-align: center; vertical-align: top\">58345543</td>\n",
              "        <td style=\"padding-left: 1em; padding-right: 1em; text-align: center; vertical-align: top\">Dishonored</td>\n",
              "        <td style=\"padding-left: 1em; padding-right: 1em; text-align: center; vertical-align: top\">0.015285215399286768</td>\n",
              "        <td style=\"padding-left: 1em; padding-right: 1em; text-align: center; vertical-align: top\">10</td>\n",
              "    </tr>\n",
              "</table>\n",
              "[10 rows x 4 columns]<br/>\n",
              "</div>"
            ],
            "text/plain": [
              "Columns:\n",
              "\tUserID\tint\n",
              "\tGame\tstr\n",
              "\tscore\tfloat\n",
              "\trank\tint\n",
              "\n",
              "Rows: 10\n",
              "\n",
              "Data:\n",
              "+----------+-------------------------------+----------------------+------+\n",
              "|  UserID  |              Game             |        score         | rank |\n",
              "+----------+-------------------------------+----------------------+------+\n",
              "| 58345543 |          Combat Arms          | 0.02556089524392251  |  1   |\n",
              "| 58345543 |       Dragon Nest Europe      | 0.022591863577072328 |  2   |\n",
              "| 58345543 |         Global Agenda         | 0.02009778230397909  |  3   |\n",
              "| 58345543 |       Mark of the Ninja       | 0.017079286031178885 |  4   |\n",
              "| 58345543 |    Batman Arkham City GOTY    | 0.016511627951183834 |  5   |\n",
              "| 58345543 | Batman Arkham Asylum GOTY ... | 0.016301111505554244 |  6   |\n",
              "| 58345543 |         Frozen Synapse        | 0.016036841604444716 |  7   |\n",
              "| 58345543 |          Dear Esther          | 0.015709562165601116 |  8   |\n",
              "| 58345543 |     FTL Faster Than Light     | 0.015591508364892221 |  9   |\n",
              "| 58345543 |           Dishonored          | 0.015285215399286768 |  10  |\n",
              "+----------+-------------------------------+----------------------+------+\n",
              "[10 rows x 4 columns]"
            ]
          },
          "metadata": {
            "tags": []
          },
          "execution_count": 74
        }
      ]
    },
    {
      "cell_type": "markdown",
      "metadata": {
        "id": "IMnXMYjCRf9U",
        "colab_type": "text"
      },
      "source": [
        "###Creating a dataframe"
      ]
    },
    {
      "cell_type": "code",
      "metadata": {
        "id": "5qKTdd53EJWS",
        "colab_type": "code",
        "outputId": "91564aab-9436-4014-f2d9-463fe30f75ab",
        "colab": {
          "base_uri": "https://localhost:8080/",
          "height": 363
        }
      },
      "source": [
        "itsim5 = pd.DataFrame(isr5)\n",
        "itsim5.drop([\"UserID\",\"rank\"],axis = 1, inplace = True)\n",
        "itsim5.rename(columns={'Game': 'Game_ISR', 'score': 'score_ISR'},inplace = True)\n",
        "itsim5.head(10)"
      ],
      "execution_count": 75,
      "outputs": [
        {
          "output_type": "execute_result",
          "data": {
            "text/html": [
              "<div>\n",
              "<style scoped>\n",
              "    .dataframe tbody tr th:only-of-type {\n",
              "        vertical-align: middle;\n",
              "    }\n",
              "\n",
              "    .dataframe tbody tr th {\n",
              "        vertical-align: top;\n",
              "    }\n",
              "\n",
              "    .dataframe thead th {\n",
              "        text-align: right;\n",
              "    }\n",
              "</style>\n",
              "<table border=\"1\" class=\"dataframe\">\n",
              "  <thead>\n",
              "    <tr style=\"text-align: right;\">\n",
              "      <th></th>\n",
              "      <th>Game_ISR</th>\n",
              "      <th>score_ISR</th>\n",
              "    </tr>\n",
              "  </thead>\n",
              "  <tbody>\n",
              "    <tr>\n",
              "      <th>0</th>\n",
              "      <td>Combat Arms</td>\n",
              "      <td>0.025561</td>\n",
              "    </tr>\n",
              "    <tr>\n",
              "      <th>1</th>\n",
              "      <td>Dragon Nest Europe</td>\n",
              "      <td>0.022592</td>\n",
              "    </tr>\n",
              "    <tr>\n",
              "      <th>2</th>\n",
              "      <td>Global Agenda</td>\n",
              "      <td>0.020098</td>\n",
              "    </tr>\n",
              "    <tr>\n",
              "      <th>3</th>\n",
              "      <td>Mark of the Ninja</td>\n",
              "      <td>0.017079</td>\n",
              "    </tr>\n",
              "    <tr>\n",
              "      <th>4</th>\n",
              "      <td>Batman Arkham City GOTY</td>\n",
              "      <td>0.016512</td>\n",
              "    </tr>\n",
              "    <tr>\n",
              "      <th>5</th>\n",
              "      <td>Batman Arkham Asylum GOTY Edition</td>\n",
              "      <td>0.016301</td>\n",
              "    </tr>\n",
              "    <tr>\n",
              "      <th>6</th>\n",
              "      <td>Frozen Synapse</td>\n",
              "      <td>0.016037</td>\n",
              "    </tr>\n",
              "    <tr>\n",
              "      <th>7</th>\n",
              "      <td>Dear Esther</td>\n",
              "      <td>0.015710</td>\n",
              "    </tr>\n",
              "    <tr>\n",
              "      <th>8</th>\n",
              "      <td>FTL Faster Than Light</td>\n",
              "      <td>0.015592</td>\n",
              "    </tr>\n",
              "    <tr>\n",
              "      <th>9</th>\n",
              "      <td>Dishonored</td>\n",
              "      <td>0.015285</td>\n",
              "    </tr>\n",
              "  </tbody>\n",
              "</table>\n",
              "</div>"
            ],
            "text/plain": [
              "                            Game_ISR  score_ISR\n",
              "0                        Combat Arms   0.025561\n",
              "1                 Dragon Nest Europe   0.022592\n",
              "2                      Global Agenda   0.020098\n",
              "3                  Mark of the Ninja   0.017079\n",
              "4            Batman Arkham City GOTY   0.016512\n",
              "5  Batman Arkham Asylum GOTY Edition   0.016301\n",
              "6                     Frozen Synapse   0.016037\n",
              "7                        Dear Esther   0.015710\n",
              "8              FTL Faster Than Light   0.015592\n",
              "9                         Dishonored   0.015285"
            ]
          },
          "metadata": {
            "tags": []
          },
          "execution_count": 75
        }
      ]
    },
    {
      "cell_type": "code",
      "metadata": {
        "id": "3KIu27WFzkxK",
        "colab_type": "code",
        "outputId": "8f15a8e5-2e8e-4038-bb10-1ebf02148b0b",
        "colab": {
          "base_uri": "https://localhost:8080/",
          "height": 424
        }
      },
      "source": [
        "clean_df.loc[clean_df[\"UserID\"] == 58345543,[\"Game\",\"Played_hours\",\"Ranking\"]]"
      ],
      "execution_count": 76,
      "outputs": [
        {
          "output_type": "execute_result",
          "data": {
            "text/html": [
              "<div>\n",
              "<style scoped>\n",
              "    .dataframe tbody tr th:only-of-type {\n",
              "        vertical-align: middle;\n",
              "    }\n",
              "\n",
              "    .dataframe tbody tr th {\n",
              "        vertical-align: top;\n",
              "    }\n",
              "\n",
              "    .dataframe thead th {\n",
              "        text-align: right;\n",
              "    }\n",
              "</style>\n",
              "<table border=\"1\" class=\"dataframe\">\n",
              "  <thead>\n",
              "    <tr style=\"text-align: right;\">\n",
              "      <th></th>\n",
              "      <th>Game</th>\n",
              "      <th>Played_hours</th>\n",
              "      <th>Ranking</th>\n",
              "    </tr>\n",
              "  </thead>\n",
              "  <tbody>\n",
              "    <tr>\n",
              "      <th>115598</th>\n",
              "      <td>Spiral Knights</td>\n",
              "      <td>70.0</td>\n",
              "      <td>10.0</td>\n",
              "    </tr>\n",
              "    <tr>\n",
              "      <th>115599</th>\n",
              "      <td>Blacklight Retribution</td>\n",
              "      <td>64.0</td>\n",
              "      <td>10.0</td>\n",
              "    </tr>\n",
              "    <tr>\n",
              "      <th>115600</th>\n",
              "      <td>Dungeon Defenders</td>\n",
              "      <td>56.0</td>\n",
              "      <td>8.0</td>\n",
              "    </tr>\n",
              "    <tr>\n",
              "      <th>115601</th>\n",
              "      <td>Terraria</td>\n",
              "      <td>54.0</td>\n",
              "      <td>8.0</td>\n",
              "    </tr>\n",
              "    <tr>\n",
              "      <th>115602</th>\n",
              "      <td>Borderlands 2</td>\n",
              "      <td>53.0</td>\n",
              "      <td>8.0</td>\n",
              "    </tr>\n",
              "    <tr>\n",
              "      <th>...</th>\n",
              "      <td>...</td>\n",
              "      <td>...</td>\n",
              "      <td>...</td>\n",
              "    </tr>\n",
              "    <tr>\n",
              "      <th>116260</th>\n",
              "      <td>Wrath of Athena</td>\n",
              "      <td>0.0</td>\n",
              "      <td>1.0</td>\n",
              "    </tr>\n",
              "    <tr>\n",
              "      <th>116261</th>\n",
              "      <td>WTFast Gamers Private Network (GPN)</td>\n",
              "      <td>0.0</td>\n",
              "      <td>1.0</td>\n",
              "    </tr>\n",
              "    <tr>\n",
              "      <th>116262</th>\n",
              "      <td>Xam</td>\n",
              "      <td>0.0</td>\n",
              "      <td>1.0</td>\n",
              "    </tr>\n",
              "    <tr>\n",
              "      <th>116263</th>\n",
              "      <td>You Have to Win the Game</td>\n",
              "      <td>0.0</td>\n",
              "      <td>1.0</td>\n",
              "    </tr>\n",
              "    <tr>\n",
              "      <th>116264</th>\n",
              "      <td>Zombies Monsters Robots</td>\n",
              "      <td>0.0</td>\n",
              "      <td>1.0</td>\n",
              "    </tr>\n",
              "  </tbody>\n",
              "</table>\n",
              "<p>667 rows × 3 columns</p>\n",
              "</div>"
            ],
            "text/plain": [
              "                                       Game  Played_hours  Ranking\n",
              "115598                       Spiral Knights          70.0     10.0\n",
              "115599               Blacklight Retribution          64.0     10.0\n",
              "115600                    Dungeon Defenders          56.0      8.0\n",
              "115601                             Terraria          54.0      8.0\n",
              "115602                        Borderlands 2          53.0      8.0\n",
              "...                                     ...           ...      ...\n",
              "116260                      Wrath of Athena           0.0      1.0\n",
              "116261  WTFast Gamers Private Network (GPN)           0.0      1.0\n",
              "116262                                  Xam           0.0      1.0\n",
              "116263             You Have to Win the Game           0.0      1.0\n",
              "116264              Zombies Monsters Robots           0.0      1.0\n",
              "\n",
              "[667 rows x 3 columns]"
            ]
          },
          "metadata": {
            "tags": []
          },
          "execution_count": 76
        }
      ]
    },
    {
      "cell_type": "markdown",
      "metadata": {
        "id": "2wK1I6CBRiWS",
        "colab_type": "text"
      },
      "source": [
        "### TOP 1 USER TOTAL COMPARISON FOR RECOMMENDATIONS"
      ]
    },
    {
      "cell_type": "code",
      "metadata": {
        "id": "5FACvcHhE5jm",
        "colab_type": "code",
        "outputId": "7fbffdfe-1e8f-4954-d6c3-3ac2f903d9a8",
        "colab": {
          "base_uri": "https://localhost:8080/",
          "height": 363
        }
      },
      "source": [
        "Top1_comparison = pd.concat([fact1, ranfact1,itsim1], axis=1, sort=False)\n",
        "Top1_comparison.head(10)"
      ],
      "execution_count": 77,
      "outputs": [
        {
          "output_type": "execute_result",
          "data": {
            "text/html": [
              "<div>\n",
              "<style scoped>\n",
              "    .dataframe tbody tr th:only-of-type {\n",
              "        vertical-align: middle;\n",
              "    }\n",
              "\n",
              "    .dataframe tbody tr th {\n",
              "        vertical-align: top;\n",
              "    }\n",
              "\n",
              "    .dataframe thead th {\n",
              "        text-align: right;\n",
              "    }\n",
              "</style>\n",
              "<table border=\"1\" class=\"dataframe\">\n",
              "  <thead>\n",
              "    <tr style=\"text-align: right;\">\n",
              "      <th></th>\n",
              "      <th>Game_FR</th>\n",
              "      <th>score_FR</th>\n",
              "      <th>Game_RFR</th>\n",
              "      <th>score_RFR</th>\n",
              "      <th>Game_ISR</th>\n",
              "      <th>score_ISR</th>\n",
              "    </tr>\n",
              "  </thead>\n",
              "  <tbody>\n",
              "    <tr>\n",
              "      <th>0</th>\n",
              "      <td>Sid Meier's Civilization V</td>\n",
              "      <td>4.357136</td>\n",
              "      <td>Counter-Strike Global Offensive</td>\n",
              "      <td>3.167137</td>\n",
              "      <td>Borderlands 2</td>\n",
              "      <td>0.088440</td>\n",
              "    </tr>\n",
              "    <tr>\n",
              "      <th>1</th>\n",
              "      <td>Counter-Strike Global Offensive</td>\n",
              "      <td>4.046952</td>\n",
              "      <td>Counter-Strike</td>\n",
              "      <td>3.095890</td>\n",
              "      <td>The Witcher 2 Assassins of Kings Enhanced Edition</td>\n",
              "      <td>0.086573</td>\n",
              "    </tr>\n",
              "    <tr>\n",
              "      <th>2</th>\n",
              "      <td>Call of Duty Modern Warfare 2 - Multiplayer</td>\n",
              "      <td>3.700310</td>\n",
              "      <td>Counter-Strike Source</td>\n",
              "      <td>3.059422</td>\n",
              "      <td>Portal 2</td>\n",
              "      <td>0.085423</td>\n",
              "    </tr>\n",
              "    <tr>\n",
              "      <th>3</th>\n",
              "      <td>Grand Theft Auto V</td>\n",
              "      <td>3.682324</td>\n",
              "      <td>Unturned</td>\n",
              "      <td>2.993581</td>\n",
              "      <td>Metro 2033</td>\n",
              "      <td>0.083152</td>\n",
              "    </tr>\n",
              "    <tr>\n",
              "      <th>4</th>\n",
              "      <td>Football Manager 2012</td>\n",
              "      <td>3.643091</td>\n",
              "      <td>Sid Meier's Civilization V</td>\n",
              "      <td>2.371592</td>\n",
              "      <td>Dishonored</td>\n",
              "      <td>0.081220</td>\n",
              "    </tr>\n",
              "    <tr>\n",
              "      <th>5</th>\n",
              "      <td>Half-Life 2 Lost Coast</td>\n",
              "      <td>3.568467</td>\n",
              "      <td>Terraria</td>\n",
              "      <td>2.125734</td>\n",
              "      <td>Batman Arkham City GOTY</td>\n",
              "      <td>0.079579</td>\n",
              "    </tr>\n",
              "    <tr>\n",
              "      <th>6</th>\n",
              "      <td>Sniper Ghost Warrior</td>\n",
              "      <td>3.507680</td>\n",
              "      <td>Call of Duty Modern Warfare 2 - Multiplayer</td>\n",
              "      <td>2.026284</td>\n",
              "      <td>Company of Heroes (New Steam Version)</td>\n",
              "      <td>0.074126</td>\n",
              "    </tr>\n",
              "    <tr>\n",
              "      <th>7</th>\n",
              "      <td>Counter-Strike</td>\n",
              "      <td>3.463431</td>\n",
              "      <td>Call of Duty Modern Warfare 2</td>\n",
              "      <td>2.019285</td>\n",
              "      <td>Company of Heroes</td>\n",
              "      <td>0.068913</td>\n",
              "    </tr>\n",
              "    <tr>\n",
              "      <th>8</th>\n",
              "      <td>Euro Truck Simulator 2</td>\n",
              "      <td>3.399293</td>\n",
              "      <td>Grand Theft Auto V</td>\n",
              "      <td>1.969556</td>\n",
              "      <td>Batman Arkham Asylum GOTY Edition</td>\n",
              "      <td>0.067708</td>\n",
              "    </tr>\n",
              "    <tr>\n",
              "      <th>9</th>\n",
              "      <td>Counter-Strike Source</td>\n",
              "      <td>3.368751</td>\n",
              "      <td>Call of Duty Black Ops</td>\n",
              "      <td>1.969426</td>\n",
              "      <td>Deus Ex Human Revolution</td>\n",
              "      <td>0.067490</td>\n",
              "    </tr>\n",
              "  </tbody>\n",
              "</table>\n",
              "</div>"
            ],
            "text/plain": [
              "                                       Game_FR  ...  score_ISR\n",
              "0                   Sid Meier's Civilization V  ...   0.088440\n",
              "1              Counter-Strike Global Offensive  ...   0.086573\n",
              "2  Call of Duty Modern Warfare 2 - Multiplayer  ...   0.085423\n",
              "3                           Grand Theft Auto V  ...   0.083152\n",
              "4                        Football Manager 2012  ...   0.081220\n",
              "5                       Half-Life 2 Lost Coast  ...   0.079579\n",
              "6                         Sniper Ghost Warrior  ...   0.074126\n",
              "7                               Counter-Strike  ...   0.068913\n",
              "8                       Euro Truck Simulator 2  ...   0.067708\n",
              "9                        Counter-Strike Source  ...   0.067490\n",
              "\n",
              "[10 rows x 6 columns]"
            ]
          },
          "metadata": {
            "tags": []
          },
          "execution_count": 77
        }
      ]
    },
    {
      "cell_type": "markdown",
      "metadata": {
        "id": "XDcnOYVGRqoU",
        "colab_type": "text"
      },
      "source": [
        "### TOP 2 USER TOTAL COMPARISON FOR RECOMMENDATIONS"
      ]
    },
    {
      "cell_type": "code",
      "metadata": {
        "id": "rzZ6G26THTBs",
        "colab_type": "code",
        "outputId": "92290115-71ea-48b8-90b3-4d0b250e70c6",
        "colab": {
          "base_uri": "https://localhost:8080/",
          "height": 363
        }
      },
      "source": [
        "Top2_comparison = pd.concat([fact2, ranfact2,itsim2], axis=1, sort=False)\n",
        "Top2_comparison.head(10)"
      ],
      "execution_count": 78,
      "outputs": [
        {
          "output_type": "execute_result",
          "data": {
            "text/html": [
              "<div>\n",
              "<style scoped>\n",
              "    .dataframe tbody tr th:only-of-type {\n",
              "        vertical-align: middle;\n",
              "    }\n",
              "\n",
              "    .dataframe tbody tr th {\n",
              "        vertical-align: top;\n",
              "    }\n",
              "\n",
              "    .dataframe thead th {\n",
              "        text-align: right;\n",
              "    }\n",
              "</style>\n",
              "<table border=\"1\" class=\"dataframe\">\n",
              "  <thead>\n",
              "    <tr style=\"text-align: right;\">\n",
              "      <th></th>\n",
              "      <th>Game_FR</th>\n",
              "      <th>score_FR</th>\n",
              "      <th>Game_RFR</th>\n",
              "      <th>score_RFR</th>\n",
              "      <th>Game_ISR</th>\n",
              "      <th>score_ISR</th>\n",
              "    </tr>\n",
              "  </thead>\n",
              "  <tbody>\n",
              "    <tr>\n",
              "      <th>0</th>\n",
              "      <td>UberStrike</td>\n",
              "      <td>3.586367</td>\n",
              "      <td>Unturned</td>\n",
              "      <td>1.841668</td>\n",
              "      <td>Brtal Legend</td>\n",
              "      <td>0.021146</td>\n",
              "    </tr>\n",
              "    <tr>\n",
              "      <th>1</th>\n",
              "      <td>Football Manager 2012</td>\n",
              "      <td>3.378578</td>\n",
              "      <td>Grand Theft Auto V</td>\n",
              "      <td>1.195544</td>\n",
              "      <td>Overlord Raising Hell</td>\n",
              "      <td>0.021017</td>\n",
              "    </tr>\n",
              "    <tr>\n",
              "      <th>2</th>\n",
              "      <td>Unturned</td>\n",
              "      <td>3.345255</td>\n",
              "      <td>Call of Duty Modern Warfare 2 - Multiplayer</td>\n",
              "      <td>1.056746</td>\n",
              "      <td>Mark of the Ninja</td>\n",
              "      <td>0.020263</td>\n",
              "    </tr>\n",
              "    <tr>\n",
              "      <th>3</th>\n",
              "      <td>Serious Sam HD The Second Encounter</td>\n",
              "      <td>3.244238</td>\n",
              "      <td>Call of Duty Modern Warfare 2</td>\n",
              "      <td>0.959383</td>\n",
              "      <td>Bastion</td>\n",
              "      <td>0.019053</td>\n",
              "    </tr>\n",
              "    <tr>\n",
              "      <th>4</th>\n",
              "      <td>Call of Duty Black Ops</td>\n",
              "      <td>3.207467</td>\n",
              "      <td>Call of Duty Black Ops</td>\n",
              "      <td>0.948379</td>\n",
              "      <td>Darksiders</td>\n",
              "      <td>0.018423</td>\n",
              "    </tr>\n",
              "    <tr>\n",
              "      <th>5</th>\n",
              "      <td>BLOCKADE 3D</td>\n",
              "      <td>3.117440</td>\n",
              "      <td>Fallout New Vegas</td>\n",
              "      <td>0.903869</td>\n",
              "      <td>Dishonored</td>\n",
              "      <td>0.015959</td>\n",
              "    </tr>\n",
              "    <tr>\n",
              "      <th>6</th>\n",
              "      <td>Football Manager 2013</td>\n",
              "      <td>3.060799</td>\n",
              "      <td>PAYDAY 2</td>\n",
              "      <td>0.896814</td>\n",
              "      <td>LIMBO</td>\n",
              "      <td>0.014379</td>\n",
              "    </tr>\n",
              "    <tr>\n",
              "      <th>7</th>\n",
              "      <td>Call of Duty Modern Warfare 2</td>\n",
              "      <td>2.902094</td>\n",
              "      <td>Fallout 4</td>\n",
              "      <td>0.874074</td>\n",
              "      <td>FTL Faster Than Light</td>\n",
              "      <td>0.014343</td>\n",
              "    </tr>\n",
              "    <tr>\n",
              "      <th>8</th>\n",
              "      <td>Lost Planet Extreme Condition</td>\n",
              "      <td>2.856654</td>\n",
              "      <td>Rust</td>\n",
              "      <td>0.815132</td>\n",
              "      <td>Rise of the Argonauts</td>\n",
              "      <td>0.013883</td>\n",
              "    </tr>\n",
              "    <tr>\n",
              "      <th>9</th>\n",
              "      <td>F1 2012</td>\n",
              "      <td>2.819399</td>\n",
              "      <td>Dark Souls Prepare to Die Edition</td>\n",
              "      <td>0.751710</td>\n",
              "      <td>The Walking Dead</td>\n",
              "      <td>0.013651</td>\n",
              "    </tr>\n",
              "  </tbody>\n",
              "</table>\n",
              "</div>"
            ],
            "text/plain": [
              "                               Game_FR  ...  score_ISR\n",
              "0                           UberStrike  ...   0.021146\n",
              "1                Football Manager 2012  ...   0.021017\n",
              "2                             Unturned  ...   0.020263\n",
              "3  Serious Sam HD The Second Encounter  ...   0.019053\n",
              "4               Call of Duty Black Ops  ...   0.018423\n",
              "5                          BLOCKADE 3D  ...   0.015959\n",
              "6                Football Manager 2013  ...   0.014379\n",
              "7        Call of Duty Modern Warfare 2  ...   0.014343\n",
              "8        Lost Planet Extreme Condition  ...   0.013883\n",
              "9                              F1 2012  ...   0.013651\n",
              "\n",
              "[10 rows x 6 columns]"
            ]
          },
          "metadata": {
            "tags": []
          },
          "execution_count": 78
        }
      ]
    },
    {
      "cell_type": "markdown",
      "metadata": {
        "id": "Zs4HejRpRuO1",
        "colab_type": "text"
      },
      "source": [
        "### TOP 3 USER TOTAL COMPARISON FOR RECOMMENDATIONS"
      ]
    },
    {
      "cell_type": "code",
      "metadata": {
        "id": "6DNhw96EJzBd",
        "colab_type": "code",
        "outputId": "0e5223e1-b9f9-45df-e469-8e0c9cd91dae",
        "colab": {
          "base_uri": "https://localhost:8080/",
          "height": 363
        }
      },
      "source": [
        "Top3_comparison = pd.concat([fact3, ranfact3,itsim3], axis=1, sort=False)\n",
        "Top3_comparison.head(10)"
      ],
      "execution_count": 79,
      "outputs": [
        {
          "output_type": "execute_result",
          "data": {
            "text/html": [
              "<div>\n",
              "<style scoped>\n",
              "    .dataframe tbody tr th:only-of-type {\n",
              "        vertical-align: middle;\n",
              "    }\n",
              "\n",
              "    .dataframe tbody tr th {\n",
              "        vertical-align: top;\n",
              "    }\n",
              "\n",
              "    .dataframe thead th {\n",
              "        text-align: right;\n",
              "    }\n",
              "</style>\n",
              "<table border=\"1\" class=\"dataframe\">\n",
              "  <thead>\n",
              "    <tr style=\"text-align: right;\">\n",
              "      <th></th>\n",
              "      <th>Game_FR</th>\n",
              "      <th>score_FR</th>\n",
              "      <th>Game_RFR</th>\n",
              "      <th>score_RFR</th>\n",
              "      <th>Game_ISR</th>\n",
              "      <th>score_ISR</th>\n",
              "    </tr>\n",
              "  </thead>\n",
              "  <tbody>\n",
              "    <tr>\n",
              "      <th>0</th>\n",
              "      <td>Sid Meier's Civilization V</td>\n",
              "      <td>4.441703</td>\n",
              "      <td>Counter-Strike Global Offensive</td>\n",
              "      <td>3.197938</td>\n",
              "      <td>GoD Factory Wingmen</td>\n",
              "      <td>0.021197</td>\n",
              "    </tr>\n",
              "    <tr>\n",
              "      <th>1</th>\n",
              "      <td>Counter-Strike Global Offensive</td>\n",
              "      <td>4.134893</td>\n",
              "      <td>Counter-Strike Source</td>\n",
              "      <td>2.678136</td>\n",
              "      <td>Guacamelee! Gold Edition</td>\n",
              "      <td>0.020847</td>\n",
              "    </tr>\n",
              "    <tr>\n",
              "      <th>2</th>\n",
              "      <td>Counter-Strike Source</td>\n",
              "      <td>3.645814</td>\n",
              "      <td>Unturned</td>\n",
              "      <td>2.387506</td>\n",
              "      <td>The Swapper</td>\n",
              "      <td>0.019165</td>\n",
              "    </tr>\n",
              "    <tr>\n",
              "      <th>3</th>\n",
              "      <td>Football Manager 2012</td>\n",
              "      <td>3.602747</td>\n",
              "      <td>Sid Meier's Civilization V</td>\n",
              "      <td>1.868469</td>\n",
              "      <td>Titan Quest</td>\n",
              "      <td>0.018600</td>\n",
              "    </tr>\n",
              "    <tr>\n",
              "      <th>4</th>\n",
              "      <td>Counter-Strike Nexon Zombies</td>\n",
              "      <td>3.501396</td>\n",
              "      <td>Call of Duty Modern Warfare 2 - Multiplayer</td>\n",
              "      <td>1.758601</td>\n",
              "      <td>Gray Matter</td>\n",
              "      <td>0.017633</td>\n",
              "    </tr>\n",
              "    <tr>\n",
              "      <th>5</th>\n",
              "      <td>UberStrike</td>\n",
              "      <td>3.433347</td>\n",
              "      <td>Grand Theft Auto V</td>\n",
              "      <td>1.647473</td>\n",
              "      <td>Orcs Must Die! 2</td>\n",
              "      <td>0.017199</td>\n",
              "    </tr>\n",
              "    <tr>\n",
              "      <th>6</th>\n",
              "      <td>Sniper Ghost Warrior</td>\n",
              "      <td>3.432557</td>\n",
              "      <td>Borderlands 2</td>\n",
              "      <td>1.519177</td>\n",
              "      <td>The Witcher 2 Assassins of Kings Enhanced Edition</td>\n",
              "      <td>0.016779</td>\n",
              "    </tr>\n",
              "    <tr>\n",
              "      <th>7</th>\n",
              "      <td>Call of Duty Modern Warfare 2 - Multiplayer</td>\n",
              "      <td>3.373797</td>\n",
              "      <td>Call of Duty Black Ops</td>\n",
              "      <td>1.470338</td>\n",
              "      <td>The Walking Dead</td>\n",
              "      <td>0.016545</td>\n",
              "    </tr>\n",
              "    <tr>\n",
              "      <th>8</th>\n",
              "      <td>Call of Duty Black Ops</td>\n",
              "      <td>3.236289</td>\n",
              "      <td>PAYDAY 2</td>\n",
              "      <td>1.456703</td>\n",
              "      <td>Overlord Raising Hell</td>\n",
              "      <td>0.015891</td>\n",
              "    </tr>\n",
              "    <tr>\n",
              "      <th>9</th>\n",
              "      <td>Football Manager 2013</td>\n",
              "      <td>3.235437</td>\n",
              "      <td>The Witcher 2 Assassins of Kings Enhanced Edition</td>\n",
              "      <td>1.428424</td>\n",
              "      <td>Shank 2</td>\n",
              "      <td>0.015699</td>\n",
              "    </tr>\n",
              "  </tbody>\n",
              "</table>\n",
              "</div>"
            ],
            "text/plain": [
              "                                       Game_FR  ...  score_ISR\n",
              "0                   Sid Meier's Civilization V  ...   0.021197\n",
              "1              Counter-Strike Global Offensive  ...   0.020847\n",
              "2                        Counter-Strike Source  ...   0.019165\n",
              "3                        Football Manager 2012  ...   0.018600\n",
              "4                 Counter-Strike Nexon Zombies  ...   0.017633\n",
              "5                                   UberStrike  ...   0.017199\n",
              "6                         Sniper Ghost Warrior  ...   0.016779\n",
              "7  Call of Duty Modern Warfare 2 - Multiplayer  ...   0.016545\n",
              "8                       Call of Duty Black Ops  ...   0.015891\n",
              "9                        Football Manager 2013  ...   0.015699\n",
              "\n",
              "[10 rows x 6 columns]"
            ]
          },
          "metadata": {
            "tags": []
          },
          "execution_count": 79
        }
      ]
    },
    {
      "cell_type": "markdown",
      "metadata": {
        "id": "G1gtsAMlRw2z",
        "colab_type": "text"
      },
      "source": [
        "### TOP 4 USER TOTAL COMPARISON FOR RECOMMENDATIONS"
      ]
    },
    {
      "cell_type": "code",
      "metadata": {
        "id": "DsCKJVz5J6az",
        "colab_type": "code",
        "outputId": "8fb59248-37d1-4024-c8eb-39339560ed91",
        "colab": {
          "base_uri": "https://localhost:8080/",
          "height": 363
        }
      },
      "source": [
        "Top4_comparison = pd.concat([fact4, ranfact4,itsim4], axis=1, sort=False)\n",
        "Top4_comparison.head(10)"
      ],
      "execution_count": 80,
      "outputs": [
        {
          "output_type": "execute_result",
          "data": {
            "text/html": [
              "<div>\n",
              "<style scoped>\n",
              "    .dataframe tbody tr th:only-of-type {\n",
              "        vertical-align: middle;\n",
              "    }\n",
              "\n",
              "    .dataframe tbody tr th {\n",
              "        vertical-align: top;\n",
              "    }\n",
              "\n",
              "    .dataframe thead th {\n",
              "        text-align: right;\n",
              "    }\n",
              "</style>\n",
              "<table border=\"1\" class=\"dataframe\">\n",
              "  <thead>\n",
              "    <tr style=\"text-align: right;\">\n",
              "      <th></th>\n",
              "      <th>Game_FR</th>\n",
              "      <th>score_FR</th>\n",
              "      <th>Game_RFR</th>\n",
              "      <th>score_RFR</th>\n",
              "      <th>Game_ISR</th>\n",
              "      <th>score_ISR</th>\n",
              "    </tr>\n",
              "  </thead>\n",
              "  <tbody>\n",
              "    <tr>\n",
              "      <th>0</th>\n",
              "      <td>Counter-Strike Global Offensive</td>\n",
              "      <td>5.088228</td>\n",
              "      <td>Dota 2</td>\n",
              "      <td>4.757342</td>\n",
              "      <td>Sine Mora</td>\n",
              "      <td>0.023019</td>\n",
              "    </tr>\n",
              "    <tr>\n",
              "      <th>1</th>\n",
              "      <td>Dota 2</td>\n",
              "      <td>5.080670</td>\n",
              "      <td>Counter-Strike Global Offensive</td>\n",
              "      <td>4.111945</td>\n",
              "      <td>Dishonored</td>\n",
              "      <td>0.021352</td>\n",
              "    </tr>\n",
              "    <tr>\n",
              "      <th>2</th>\n",
              "      <td>Grand Theft Auto V</td>\n",
              "      <td>4.513086</td>\n",
              "      <td>Team Fortress 2</td>\n",
              "      <td>4.089925</td>\n",
              "      <td>Dear Esther</td>\n",
              "      <td>0.019962</td>\n",
              "    </tr>\n",
              "    <tr>\n",
              "      <th>3</th>\n",
              "      <td>Unturned</td>\n",
              "      <td>4.390761</td>\n",
              "      <td>Counter-Strike</td>\n",
              "      <td>3.472717</td>\n",
              "      <td>BioShock Infinite</td>\n",
              "      <td>0.019124</td>\n",
              "    </tr>\n",
              "    <tr>\n",
              "      <th>4</th>\n",
              "      <td>Call of Duty Modern Warfare 2 - Multiplayer</td>\n",
              "      <td>4.301606</td>\n",
              "      <td>Counter-Strike Source</td>\n",
              "      <td>3.420557</td>\n",
              "      <td>Gratuitous Space Battles</td>\n",
              "      <td>0.017178</td>\n",
              "    </tr>\n",
              "    <tr>\n",
              "      <th>5</th>\n",
              "      <td>Football Manager 2012</td>\n",
              "      <td>4.229529</td>\n",
              "      <td>Garry's Mod</td>\n",
              "      <td>3.069335</td>\n",
              "      <td>Osmos</td>\n",
              "      <td>0.016514</td>\n",
              "    </tr>\n",
              "    <tr>\n",
              "      <th>6</th>\n",
              "      <td>Counter-Strike Source</td>\n",
              "      <td>4.173589</td>\n",
              "      <td>Unturned</td>\n",
              "      <td>2.921819</td>\n",
              "      <td>Intrusion 2</td>\n",
              "      <td>0.016453</td>\n",
              "    </tr>\n",
              "    <tr>\n",
              "      <th>7</th>\n",
              "      <td>Counter-Strike Nexon Zombies</td>\n",
              "      <td>4.131648</td>\n",
              "      <td>Call of Duty Modern Warfare 2 - Multiplayer</td>\n",
              "      <td>2.642764</td>\n",
              "      <td>Red Faction Guerrilla Steam Edition</td>\n",
              "      <td>0.015399</td>\n",
              "    </tr>\n",
              "    <tr>\n",
              "      <th>8</th>\n",
              "      <td>Call of Duty Black Ops</td>\n",
              "      <td>4.018089</td>\n",
              "      <td>Grand Theft Auto V</td>\n",
              "      <td>2.481494</td>\n",
              "      <td>Proteus</td>\n",
              "      <td>0.015194</td>\n",
              "    </tr>\n",
              "    <tr>\n",
              "      <th>9</th>\n",
              "      <td>F1 2012</td>\n",
              "      <td>3.990187</td>\n",
              "      <td>Empire Total War</td>\n",
              "      <td>2.285131</td>\n",
              "      <td>Thomas Was Alone</td>\n",
              "      <td>0.014901</td>\n",
              "    </tr>\n",
              "  </tbody>\n",
              "</table>\n",
              "</div>"
            ],
            "text/plain": [
              "                                       Game_FR  ...  score_ISR\n",
              "0              Counter-Strike Global Offensive  ...   0.023019\n",
              "1                                       Dota 2  ...   0.021352\n",
              "2                           Grand Theft Auto V  ...   0.019962\n",
              "3                                     Unturned  ...   0.019124\n",
              "4  Call of Duty Modern Warfare 2 - Multiplayer  ...   0.017178\n",
              "5                        Football Manager 2012  ...   0.016514\n",
              "6                        Counter-Strike Source  ...   0.016453\n",
              "7                 Counter-Strike Nexon Zombies  ...   0.015399\n",
              "8                       Call of Duty Black Ops  ...   0.015194\n",
              "9                                      F1 2012  ...   0.014901\n",
              "\n",
              "[10 rows x 6 columns]"
            ]
          },
          "metadata": {
            "tags": []
          },
          "execution_count": 80
        }
      ]
    },
    {
      "cell_type": "markdown",
      "metadata": {
        "id": "BeC2C1oPRyz1",
        "colab_type": "text"
      },
      "source": [
        "### TOP 5 USER TOTAL COMPARISON FOR RECOMMENDATIONS"
      ]
    },
    {
      "cell_type": "code",
      "metadata": {
        "id": "IVMFi4EFKBoc",
        "colab_type": "code",
        "outputId": "1f4b69b8-83e1-49af-f21b-06ef34b37a4f",
        "colab": {
          "base_uri": "https://localhost:8080/",
          "height": 363
        }
      },
      "source": [
        "Top5_comparison = pd.concat([fact5, ranfact5,itsim5], axis=1, sort=False)\n",
        "Top5_comparison.head(10)"
      ],
      "execution_count": 81,
      "outputs": [
        {
          "output_type": "execute_result",
          "data": {
            "text/html": [
              "<div>\n",
              "<style scoped>\n",
              "    .dataframe tbody tr th:only-of-type {\n",
              "        vertical-align: middle;\n",
              "    }\n",
              "\n",
              "    .dataframe tbody tr th {\n",
              "        vertical-align: top;\n",
              "    }\n",
              "\n",
              "    .dataframe thead th {\n",
              "        text-align: right;\n",
              "    }\n",
              "</style>\n",
              "<table border=\"1\" class=\"dataframe\">\n",
              "  <thead>\n",
              "    <tr style=\"text-align: right;\">\n",
              "      <th></th>\n",
              "      <th>Game_FR</th>\n",
              "      <th>score_FR</th>\n",
              "      <th>Game_RFR</th>\n",
              "      <th>score_RFR</th>\n",
              "      <th>Game_ISR</th>\n",
              "      <th>score_ISR</th>\n",
              "    </tr>\n",
              "  </thead>\n",
              "  <tbody>\n",
              "    <tr>\n",
              "      <th>0</th>\n",
              "      <td>Grand Theft Auto V</td>\n",
              "      <td>4.697976</td>\n",
              "      <td>Counter-Strike</td>\n",
              "      <td>3.885623</td>\n",
              "      <td>Combat Arms</td>\n",
              "      <td>0.025561</td>\n",
              "    </tr>\n",
              "    <tr>\n",
              "      <th>1</th>\n",
              "      <td>Football Manager 2012</td>\n",
              "      <td>4.267308</td>\n",
              "      <td>Grand Theft Auto V</td>\n",
              "      <td>2.796779</td>\n",
              "      <td>Dragon Nest Europe</td>\n",
              "      <td>0.022592</td>\n",
              "    </tr>\n",
              "    <tr>\n",
              "      <th>2</th>\n",
              "      <td>Euro Truck Simulator 2</td>\n",
              "      <td>4.247729</td>\n",
              "      <td>Empire Total War</td>\n",
              "      <td>2.777390</td>\n",
              "      <td>Global Agenda</td>\n",
              "      <td>0.020098</td>\n",
              "    </tr>\n",
              "    <tr>\n",
              "      <th>3</th>\n",
              "      <td>F1 2012</td>\n",
              "      <td>4.076017</td>\n",
              "      <td>Euro Truck Simulator 2</td>\n",
              "      <td>2.756396</td>\n",
              "      <td>Mark of the Ninja</td>\n",
              "      <td>0.017079</td>\n",
              "    </tr>\n",
              "    <tr>\n",
              "      <th>4</th>\n",
              "      <td>H1Z1</td>\n",
              "      <td>4.069415</td>\n",
              "      <td>Total War SHOGUN 2</td>\n",
              "      <td>2.620009</td>\n",
              "      <td>Batman Arkham City GOTY</td>\n",
              "      <td>0.016512</td>\n",
              "    </tr>\n",
              "    <tr>\n",
              "      <th>5</th>\n",
              "      <td>Sniper Ghost Warrior</td>\n",
              "      <td>4.047849</td>\n",
              "      <td>Call of Duty Black Ops II - Multiplayer</td>\n",
              "      <td>2.609438</td>\n",
              "      <td>Batman Arkham Asylum GOTY Edition</td>\n",
              "      <td>0.016301</td>\n",
              "    </tr>\n",
              "    <tr>\n",
              "      <th>6</th>\n",
              "      <td>Half-Life Blue Shift</td>\n",
              "      <td>4.043885</td>\n",
              "      <td>Counter-Strike Condition Zero</td>\n",
              "      <td>2.592512</td>\n",
              "      <td>Frozen Synapse</td>\n",
              "      <td>0.016037</td>\n",
              "    </tr>\n",
              "    <tr>\n",
              "      <th>7</th>\n",
              "      <td>Counter-Strike</td>\n",
              "      <td>3.989727</td>\n",
              "      <td>PAYDAY 2</td>\n",
              "      <td>2.589665</td>\n",
              "      <td>Dear Esther</td>\n",
              "      <td>0.015710</td>\n",
              "    </tr>\n",
              "    <tr>\n",
              "      <th>8</th>\n",
              "      <td>RACE 07</td>\n",
              "      <td>3.884441</td>\n",
              "      <td>Arma 2 Operation Arrowhead</td>\n",
              "      <td>2.578763</td>\n",
              "      <td>FTL Faster Than Light</td>\n",
              "      <td>0.015592</td>\n",
              "    </tr>\n",
              "    <tr>\n",
              "      <th>9</th>\n",
              "      <td>Team Fortress Classic</td>\n",
              "      <td>3.876007</td>\n",
              "      <td>Call of Duty Modern Warfare 3 - Multiplayer</td>\n",
              "      <td>2.548212</td>\n",
              "      <td>Dishonored</td>\n",
              "      <td>0.015285</td>\n",
              "    </tr>\n",
              "  </tbody>\n",
              "</table>\n",
              "</div>"
            ],
            "text/plain": [
              "                  Game_FR  ...  score_ISR\n",
              "0      Grand Theft Auto V  ...   0.025561\n",
              "1   Football Manager 2012  ...   0.022592\n",
              "2  Euro Truck Simulator 2  ...   0.020098\n",
              "3                 F1 2012  ...   0.017079\n",
              "4                    H1Z1  ...   0.016512\n",
              "5    Sniper Ghost Warrior  ...   0.016301\n",
              "6    Half-Life Blue Shift  ...   0.016037\n",
              "7          Counter-Strike  ...   0.015710\n",
              "8                 RACE 07  ...   0.015592\n",
              "9   Team Fortress Classic  ...   0.015285\n",
              "\n",
              "[10 rows x 6 columns]"
            ]
          },
          "metadata": {
            "tags": []
          },
          "execution_count": 81
        }
      ]
    },
    {
      "cell_type": "markdown",
      "metadata": {
        "id": "KYDsHFFLEHnR",
        "colab_type": "text"
      },
      "source": [
        "###Evaluation of Recommender Systems"
      ]
    },
    {
      "cell_type": "markdown",
      "metadata": {
        "id": "R8d5P8qzOdrl",
        "colab_type": "text"
      },
      "source": [
        "### Split into Test and Train data"
      ]
    },
    {
      "cell_type": "code",
      "metadata": {
        "id": "Iyy_sWQvEHMu",
        "colab_type": "code",
        "colab": {}
      },
      "source": [
        "train_set, test_set = tc.recommender.util.random_split_by_user(dfS,\"UserID\",\"Game\",item_test_proportion= 0.2)"
      ],
      "execution_count": 0,
      "outputs": []
    },
    {
      "cell_type": "markdown",
      "metadata": {
        "id": "MjQq2rL-Okft",
        "colab_type": "text"
      },
      "source": [
        "### Model 1 : Factorization Recommender - Training"
      ]
    },
    {
      "cell_type": "code",
      "metadata": {
        "id": "NpqjhP2nLjux",
        "colab_type": "code",
        "colab": {
          "base_uri": "https://localhost:8080/",
          "height": 868
        },
        "outputId": "0cbad149-5965-4c08-c159-7c393e0a80bb"
      },
      "source": [
        "model1 = tc.factorization_recommender.create(train_set,\n",
        "\t\t\t                              user_id='UserID',\n",
        "                                    item_id='Game',\n",
        "                                    target='Ranking')"
      ],
      "execution_count": 83,
      "outputs": [
        {
          "output_type": "display_data",
          "data": {
            "text/html": [
              "<pre>Preparing data set.</pre>"
            ],
            "text/plain": [
              "Preparing data set."
            ]
          },
          "metadata": {
            "tags": []
          }
        },
        {
          "output_type": "display_data",
          "data": {
            "text/html": [
              "<pre>    Data has 127419 observations with 12294 users and 5144 items.</pre>"
            ],
            "text/plain": [
              "    Data has 127419 observations with 12294 users and 5144 items."
            ]
          },
          "metadata": {
            "tags": []
          }
        },
        {
          "output_type": "display_data",
          "data": {
            "text/html": [
              "<pre>    Data prepared in: 0.192481s</pre>"
            ],
            "text/plain": [
              "    Data prepared in: 0.192481s"
            ]
          },
          "metadata": {
            "tags": []
          }
        },
        {
          "output_type": "display_data",
          "data": {
            "text/html": [
              "<pre>Training factorization_recommender for recommendations.</pre>"
            ],
            "text/plain": [
              "Training factorization_recommender for recommendations."
            ]
          },
          "metadata": {
            "tags": []
          }
        },
        {
          "output_type": "display_data",
          "data": {
            "text/html": [
              "<pre>+--------------------------------+--------------------------------------------------+----------+</pre>"
            ],
            "text/plain": [
              "+--------------------------------+--------------------------------------------------+----------+"
            ]
          },
          "metadata": {
            "tags": []
          }
        },
        {
          "output_type": "display_data",
          "data": {
            "text/html": [
              "<pre>| Parameter                      | Description                                      | Value    |</pre>"
            ],
            "text/plain": [
              "| Parameter                      | Description                                      | Value    |"
            ]
          },
          "metadata": {
            "tags": []
          }
        },
        {
          "output_type": "display_data",
          "data": {
            "text/html": [
              "<pre>+--------------------------------+--------------------------------------------------+----------+</pre>"
            ],
            "text/plain": [
              "+--------------------------------+--------------------------------------------------+----------+"
            ]
          },
          "metadata": {
            "tags": []
          }
        },
        {
          "output_type": "display_data",
          "data": {
            "text/html": [
              "<pre>| num_factors                    | Factor Dimension                                 | 8        |</pre>"
            ],
            "text/plain": [
              "| num_factors                    | Factor Dimension                                 | 8        |"
            ]
          },
          "metadata": {
            "tags": []
          }
        },
        {
          "output_type": "display_data",
          "data": {
            "text/html": [
              "<pre>| regularization                 | L2 Regularization on Factors                     | 1e-08    |</pre>"
            ],
            "text/plain": [
              "| regularization                 | L2 Regularization on Factors                     | 1e-08    |"
            ]
          },
          "metadata": {
            "tags": []
          }
        },
        {
          "output_type": "display_data",
          "data": {
            "text/html": [
              "<pre>| solver                         | Solver used for training                         | adagrad  |</pre>"
            ],
            "text/plain": [
              "| solver                         | Solver used for training                         | adagrad  |"
            ]
          },
          "metadata": {
            "tags": []
          }
        },
        {
          "output_type": "display_data",
          "data": {
            "text/html": [
              "<pre>| linear_regularization          | L2 Regularization on Linear Coefficients         | 1e-10    |</pre>"
            ],
            "text/plain": [
              "| linear_regularization          | L2 Regularization on Linear Coefficients         | 1e-10    |"
            ]
          },
          "metadata": {
            "tags": []
          }
        },
        {
          "output_type": "display_data",
          "data": {
            "text/html": [
              "<pre>| max_iterations                 | Maximum Number of Iterations                     | 50       |</pre>"
            ],
            "text/plain": [
              "| max_iterations                 | Maximum Number of Iterations                     | 50       |"
            ]
          },
          "metadata": {
            "tags": []
          }
        },
        {
          "output_type": "display_data",
          "data": {
            "text/html": [
              "<pre>+--------------------------------+--------------------------------------------------+----------+</pre>"
            ],
            "text/plain": [
              "+--------------------------------+--------------------------------------------------+----------+"
            ]
          },
          "metadata": {
            "tags": []
          }
        },
        {
          "output_type": "display_data",
          "data": {
            "text/html": [
              "<pre>  Optimizing model using SGD; tuning step size.</pre>"
            ],
            "text/plain": [
              "  Optimizing model using SGD; tuning step size."
            ]
          },
          "metadata": {
            "tags": []
          }
        },
        {
          "output_type": "display_data",
          "data": {
            "text/html": [
              "<pre>  Using 15927 / 127419 points for tuning the step size.</pre>"
            ],
            "text/plain": [
              "  Using 15927 / 127419 points for tuning the step size."
            ]
          },
          "metadata": {
            "tags": []
          }
        },
        {
          "output_type": "display_data",
          "data": {
            "text/html": [
              "<pre>+---------+-------------------+------------------------------------------+</pre>"
            ],
            "text/plain": [
              "+---------+-------------------+------------------------------------------+"
            ]
          },
          "metadata": {
            "tags": []
          }
        },
        {
          "output_type": "display_data",
          "data": {
            "text/html": [
              "<pre>| Attempt | Initial Step Size | Estimated Objective Value                |</pre>"
            ],
            "text/plain": [
              "| Attempt | Initial Step Size | Estimated Objective Value                |"
            ]
          },
          "metadata": {
            "tags": []
          }
        },
        {
          "output_type": "display_data",
          "data": {
            "text/html": [
              "<pre>+---------+-------------------+------------------------------------------+</pre>"
            ],
            "text/plain": [
              "+---------+-------------------+------------------------------------------+"
            ]
          },
          "metadata": {
            "tags": []
          }
        },
        {
          "output_type": "display_data",
          "data": {
            "text/html": [
              "<pre>| 0       | 16.6667           | Not Viable                               |</pre>"
            ],
            "text/plain": [
              "| 0       | 16.6667           | Not Viable                               |"
            ]
          },
          "metadata": {
            "tags": []
          }
        },
        {
          "output_type": "display_data",
          "data": {
            "text/html": [
              "<pre>| 1       | 4.16667           | Not Viable                               |</pre>"
            ],
            "text/plain": [
              "| 1       | 4.16667           | Not Viable                               |"
            ]
          },
          "metadata": {
            "tags": []
          }
        },
        {
          "output_type": "display_data",
          "data": {
            "text/html": [
              "<pre>| 2       | 1.04167           | Not Viable                               |</pre>"
            ],
            "text/plain": [
              "| 2       | 1.04167           | Not Viable                               |"
            ]
          },
          "metadata": {
            "tags": []
          }
        },
        {
          "output_type": "display_data",
          "data": {
            "text/html": [
              "<pre>| 3       | 0.260417          | 1.53394                                  |</pre>"
            ],
            "text/plain": [
              "| 3       | 0.260417          | 1.53394                                  |"
            ]
          },
          "metadata": {
            "tags": []
          }
        },
        {
          "output_type": "display_data",
          "data": {
            "text/html": [
              "<pre>| 4       | 0.130208          | 0.926342                                 |</pre>"
            ],
            "text/plain": [
              "| 4       | 0.130208          | 0.926342                                 |"
            ]
          },
          "metadata": {
            "tags": []
          }
        },
        {
          "output_type": "display_data",
          "data": {
            "text/html": [
              "<pre>| 5       | 0.0651042         | 1.72428                                  |</pre>"
            ],
            "text/plain": [
              "| 5       | 0.0651042         | 1.72428                                  |"
            ]
          },
          "metadata": {
            "tags": []
          }
        },
        {
          "output_type": "display_data",
          "data": {
            "text/html": [
              "<pre>| 6       | 0.0325521         | 2.71671                                  |</pre>"
            ],
            "text/plain": [
              "| 6       | 0.0325521         | 2.71671                                  |"
            ]
          },
          "metadata": {
            "tags": []
          }
        },
        {
          "output_type": "display_data",
          "data": {
            "text/html": [
              "<pre>+---------+-------------------+------------------------------------------+</pre>"
            ],
            "text/plain": [
              "+---------+-------------------+------------------------------------------+"
            ]
          },
          "metadata": {
            "tags": []
          }
        },
        {
          "output_type": "display_data",
          "data": {
            "text/html": [
              "<pre>| Final   | 0.130208          | 0.926342                                 |</pre>"
            ],
            "text/plain": [
              "| Final   | 0.130208          | 0.926342                                 |"
            ]
          },
          "metadata": {
            "tags": []
          }
        },
        {
          "output_type": "display_data",
          "data": {
            "text/html": [
              "<pre>+---------+-------------------+------------------------------------------+</pre>"
            ],
            "text/plain": [
              "+---------+-------------------+------------------------------------------+"
            ]
          },
          "metadata": {
            "tags": []
          }
        },
        {
          "output_type": "display_data",
          "data": {
            "text/html": [
              "<pre>Starting Optimization.</pre>"
            ],
            "text/plain": [
              "Starting Optimization."
            ]
          },
          "metadata": {
            "tags": []
          }
        },
        {
          "output_type": "display_data",
          "data": {
            "text/html": [
              "<pre>+---------+--------------+-------------------+-----------------------+-------------+</pre>"
            ],
            "text/plain": [
              "+---------+--------------+-------------------+-----------------------+-------------+"
            ]
          },
          "metadata": {
            "tags": []
          }
        },
        {
          "output_type": "display_data",
          "data": {
            "text/html": [
              "<pre>| Iter.   | Elapsed Time | Approx. Objective | Approx. Training RMSE | Step Size   |</pre>"
            ],
            "text/plain": [
              "| Iter.   | Elapsed Time | Approx. Objective | Approx. Training RMSE | Step Size   |"
            ]
          },
          "metadata": {
            "tags": []
          }
        },
        {
          "output_type": "display_data",
          "data": {
            "text/html": [
              "<pre>+---------+--------------+-------------------+-----------------------+-------------+</pre>"
            ],
            "text/plain": [
              "+---------+--------------+-------------------+-----------------------+-------------+"
            ]
          },
          "metadata": {
            "tags": []
          }
        },
        {
          "output_type": "display_data",
          "data": {
            "text/html": [
              "<pre>| Initial | 151us        | 5.10164           | 2.25868               |             |</pre>"
            ],
            "text/plain": [
              "| Initial | 151us        | 5.10164           | 2.25868               |             |"
            ]
          },
          "metadata": {
            "tags": []
          }
        },
        {
          "output_type": "display_data",
          "data": {
            "text/html": [
              "<pre>+---------+--------------+-------------------+-----------------------+-------------+</pre>"
            ],
            "text/plain": [
              "+---------+--------------+-------------------+-----------------------+-------------+"
            ]
          },
          "metadata": {
            "tags": []
          }
        },
        {
          "output_type": "display_data",
          "data": {
            "text/html": [
              "<pre>| 1       | 78.642ms     | 3.27537           | 1.80978               | 0.130208    |</pre>"
            ],
            "text/plain": [
              "| 1       | 78.642ms     | 3.27537           | 1.80978               | 0.130208    |"
            ]
          },
          "metadata": {
            "tags": []
          }
        },
        {
          "output_type": "display_data",
          "data": {
            "text/html": [
              "<pre>| 2       | 134.394ms    | 2.71987           | 1.64919               | 0.130208    |</pre>"
            ],
            "text/plain": [
              "| 2       | 134.394ms    | 2.71987           | 1.64919               | 0.130208    |"
            ]
          },
          "metadata": {
            "tags": []
          }
        },
        {
          "output_type": "display_data",
          "data": {
            "text/html": [
              "<pre>| 3       | 200.816ms    | 2.9386            | 1.71422               | 0.130208    |</pre>"
            ],
            "text/plain": [
              "| 3       | 200.816ms    | 2.9386            | 1.71422               | 0.130208    |"
            ]
          },
          "metadata": {
            "tags": []
          }
        },
        {
          "output_type": "display_data",
          "data": {
            "text/html": [
              "<pre>| 4       | 261.857ms    | 3.33571           | 1.82638               | 0.130208    |</pre>"
            ],
            "text/plain": [
              "| 4       | 261.857ms    | 3.33571           | 1.82638               | 0.130208    |"
            ]
          },
          "metadata": {
            "tags": []
          }
        },
        {
          "output_type": "display_data",
          "data": {
            "text/html": [
              "<pre>| 5       | 345.51ms     | 4.20767           | 2.05125               | 0.130208    |</pre>"
            ],
            "text/plain": [
              "| 5       | 345.51ms     | 4.20767           | 2.05125               | 0.130208    |"
            ]
          },
          "metadata": {
            "tags": []
          }
        },
        {
          "output_type": "display_data",
          "data": {
            "text/html": [
              "<pre>| 10      | 644.51ms     | 6.14783           | 2.47947               | 0.130208    |</pre>"
            ],
            "text/plain": [
              "| 10      | 644.51ms     | 6.14783           | 2.47947               | 0.130208    |"
            ]
          },
          "metadata": {
            "tags": []
          }
        },
        {
          "output_type": "display_data",
          "data": {
            "text/html": [
              "<pre>| 43      | 2.57s        | DIVERGED          | DIVERGED              | 0.130208    |</pre>"
            ],
            "text/plain": [
              "| 43      | 2.57s        | DIVERGED          | DIVERGED              | 0.130208    |"
            ]
          },
          "metadata": {
            "tags": []
          }
        },
        {
          "output_type": "display_data",
          "data": {
            "text/html": [
              "<pre>| RESET   | 2.60s        | 5.10138           | 2.25862               |             |</pre>"
            ],
            "text/plain": [
              "| RESET   | 2.60s        | 5.10138           | 2.25862               |             |"
            ]
          },
          "metadata": {
            "tags": []
          }
        },
        {
          "output_type": "display_data",
          "data": {
            "text/html": [
              "<pre>| 7       | 3.02s        | 3.31022           | 1.8194                | 0.0651042   |</pre>"
            ],
            "text/plain": [
              "| 7       | 3.02s        | 3.31022           | 1.8194                | 0.0651042   |"
            ]
          },
          "metadata": {
            "tags": []
          }
        },
        {
          "output_type": "display_data",
          "data": {
            "text/html": [
              "<pre>| 12      | 3.31s        | 2.7726            | 1.66511               | 0.0651042   |</pre>"
            ],
            "text/plain": [
              "| 12      | 3.31s        | 2.7726            | 1.66511               | 0.0651042   |"
            ]
          },
          "metadata": {
            "tags": []
          }
        },
        {
          "output_type": "display_data",
          "data": {
            "text/html": [
              "<pre>+---------+--------------+-------------------+-----------------------+-------------+</pre>"
            ],
            "text/plain": [
              "+---------+--------------+-------------------+-----------------------+-------------+"
            ]
          },
          "metadata": {
            "tags": []
          }
        },
        {
          "output_type": "display_data",
          "data": {
            "text/html": [
              "<pre>Optimization Complete: Maximum number of passes through the data reached (hard limit).</pre>"
            ],
            "text/plain": [
              "Optimization Complete: Maximum number of passes through the data reached (hard limit)."
            ]
          },
          "metadata": {
            "tags": []
          }
        },
        {
          "output_type": "display_data",
          "data": {
            "text/html": [
              "<pre>Computing final objective value and training RMSE.</pre>"
            ],
            "text/plain": [
              "Computing final objective value and training RMSE."
            ]
          },
          "metadata": {
            "tags": []
          }
        },
        {
          "output_type": "display_data",
          "data": {
            "text/html": [
              "<pre>       Final objective value: 3.05929</pre>"
            ],
            "text/plain": [
              "       Final objective value: 3.05929"
            ]
          },
          "metadata": {
            "tags": []
          }
        },
        {
          "output_type": "display_data",
          "data": {
            "text/html": [
              "<pre>       Final training RMSE: 1.74908</pre>"
            ],
            "text/plain": [
              "       Final training RMSE: 1.74908"
            ]
          },
          "metadata": {
            "tags": []
          }
        }
      ]
    },
    {
      "cell_type": "markdown",
      "metadata": {
        "id": "gqvUfmKnOs36",
        "colab_type": "text"
      },
      "source": [
        "### Model 1 : Factorization Recommender - Testing"
      ]
    },
    {
      "cell_type": "code",
      "metadata": {
        "id": "9q8HQ49pNq3v",
        "colab_type": "code",
        "colab": {
          "base_uri": "https://localhost:8080/",
          "height": 1000
        },
        "outputId": "4a346e34-98e2-4de9-9a70-06f873fbb287"
      },
      "source": [
        "model1.evaluate(test_set)"
      ],
      "execution_count": 84,
      "outputs": [
        {
          "output_type": "stream",
          "text": [
            "/usr/local/lib/python3.6/dist-packages/turicreate/aggregate.py:92: UserWarning: Passing parameter(s) to COUNT is deprecated. This functionality will be removed in the next major release. Any passed parameters are ignored.\n",
            "  + 'the next major release. Any passed parameters are ignored.')\n"
          ],
          "name": "stderr"
        },
        {
          "output_type": "stream",
          "text": [
            "\n",
            "Precision and recall summary statistics by cutoff\n",
            "+--------+----------------------+---------------------+\n",
            "| cutoff |    mean_precision    |     mean_recall     |\n",
            "+--------+----------------------+---------------------+\n",
            "|   1    | 0.18633540372670812  | 0.13412867093488082 |\n",
            "|   2    | 0.13768115942028983  | 0.16685040541938734 |\n",
            "|   3    | 0.10973084886128363  | 0.18058323621920877 |\n",
            "|   4    | 0.09316770186335403  |  0.2038856526893271 |\n",
            "|   5    | 0.08405797101449272  |  0.2238409174039085 |\n",
            "|   6    | 0.07556935817805378  | 0.23768107569282457 |\n",
            "|   7    | 0.06802721088435379  | 0.24964745644802522 |\n",
            "|   8    | 0.061853002070393355 | 0.25735608274115623 |\n",
            "|   9    | 0.057510927076144455 |  0.2628852211895493 |\n",
            "|   10   | 0.05403726708074535  |  0.2695297574879037 |\n",
            "+--------+----------------------+---------------------+\n",
            "[10 rows x 3 columns]\n",
            "\n",
            "\n",
            "Overall RMSE: 4.499849176267877\n",
            "\n",
            "Per User RMSE (best)\n",
            "+-----------+----------------------+-------+\n",
            "|   UserID  |         rmse         | count |\n",
            "+-----------+----------------------+-------+\n",
            "| 101731521 | 0.002409114114032773 |   1   |\n",
            "+-----------+----------------------+-------+\n",
            "[1 rows x 3 columns]\n",
            "\n",
            "\n",
            "Per User RMSE (worst)\n",
            "+-----------+-------------------+-------+\n",
            "|   UserID  |        rmse       | count |\n",
            "+-----------+-------------------+-------+\n",
            "| 205329032 | 95.03508306551726 |   1   |\n",
            "+-----------+-------------------+-------+\n",
            "[1 rows x 3 columns]\n",
            "\n",
            "\n",
            "Per Item RMSE (best)\n",
            "+------------------+-----------------------+-------+\n",
            "|       Game       |          rmse         | count |\n",
            "+------------------+-----------------------+-------+\n",
            "| Assassin's Creed | 0.0003114850556298343 |   1   |\n",
            "+------------------+-----------------------+-------+\n",
            "[1 rows x 3 columns]\n",
            "\n",
            "\n",
            "Per Item RMSE (worst)\n",
            "+----------------------------+-------------------+-------+\n",
            "|            Game            |        rmse       | count |\n",
            "+----------------------------+-------------------+-------+\n",
            "| X-Plane 10 Global - 64 Bit | 90.76759940289467 |   1   |\n",
            "+----------------------------+-------------------+-------+\n",
            "[1 rows x 3 columns]\n",
            "\n"
          ],
          "name": "stdout"
        },
        {
          "output_type": "execute_result",
          "data": {
            "text/plain": [
              "{'precision_recall_by_user': Columns:\n",
              " \tUserID\tint\n",
              " \tcutoff\tint\n",
              " \tprecision\tfloat\n",
              " \trecall\tfloat\n",
              " \tcount\tint\n",
              " \n",
              " Rows: 8694\n",
              " \n",
              " Data:\n",
              " +----------+--------+-----------+--------+-------+\n",
              " |  UserID  | cutoff | precision | recall | count |\n",
              " +----------+--------+-----------+--------+-------+\n",
              " | 30695285 |   1    |    0.0    |  0.0   |   1   |\n",
              " | 30695285 |   2    |    0.0    |  0.0   |   1   |\n",
              " | 30695285 |   3    |    0.0    |  0.0   |   1   |\n",
              " | 30695285 |   4    |    0.0    |  0.0   |   1   |\n",
              " | 30695285 |   5    |    0.0    |  0.0   |   1   |\n",
              " | 30695285 |   6    |    0.0    |  0.0   |   1   |\n",
              " | 30695285 |   7    |    0.0    |  0.0   |   1   |\n",
              " | 30695285 |   8    |    0.0    |  0.0   |   1   |\n",
              " | 30695285 |   9    |    0.0    |  0.0   |   1   |\n",
              " | 30695285 |   10   |    0.0    |  0.0   |   1   |\n",
              " +----------+--------+-----------+--------+-------+\n",
              " [8694 rows x 5 columns]\n",
              " Note: Only the head of the SFrame is printed.\n",
              " You can use print_rows(num_rows=m, num_columns=n) to print more rows and columns.,\n",
              " 'precision_recall_overall': Columns:\n",
              " \tcutoff\tint\n",
              " \tprecision\tfloat\n",
              " \trecall\tfloat\n",
              " \n",
              " Rows: 18\n",
              " \n",
              " Data:\n",
              " +--------+----------------------+---------------------+\n",
              " | cutoff |      precision       |        recall       |\n",
              " +--------+----------------------+---------------------+\n",
              " |   1    | 0.18633540372670807  | 0.13412867093488082 |\n",
              " |   2    | 0.13768115942028983  | 0.16685040541938734 |\n",
              " |   3    | 0.10973084886128363  | 0.18058323621920871 |\n",
              " |   4    | 0.09316770186335403  | 0.20388565268932704 |\n",
              " |   5    | 0.08405797101449272  |  0.2238409174039085 |\n",
              " |   6    | 0.07556935817805382  |  0.2376810756928246 |\n",
              " |   7    | 0.06802721088435379  | 0.24964745644802516 |\n",
              " |   8    | 0.06185300207039338  |  0.2573560827411563 |\n",
              " |   9    | 0.057510927076144455 |  0.2628852211895493 |\n",
              " |   10   | 0.05403726708074533  |  0.2695297574879038 |\n",
              " +--------+----------------------+---------------------+\n",
              " [18 rows x 3 columns]\n",
              " Note: Only the head of the SFrame is printed.\n",
              " You can use print_rows(num_rows=m, num_columns=n) to print more rows and columns.,\n",
              " 'rmse_by_item': Columns:\n",
              " \tGame\tstr\n",
              " \trmse\tfloat\n",
              " \tcount\tint\n",
              " \n",
              " Rows: 988\n",
              " \n",
              " Data:\n",
              " +-------------------------------+---------------------+-------+\n",
              " |              Game             |         rmse        | count |\n",
              " +-------------------------------+---------------------+-------+\n",
              " |  Infestation Survivor Stories |  0.7050900191705853 |   1   |\n",
              " |           Hell Yeah!          |  0.9978284515362733 |   2   |\n",
              " |          EverQuest II         | 0.30061876046529856 |   1   |\n",
              " |         BIT.TRIP FLUX         |  0.0978199338821717 |   1   |\n",
              " |      Magicka Frozen Lake      | 0.05636227668244165 |   1   |\n",
              " | RACE 07 - Formula RaceRoom... |  1.6593853847773725 |   1   |\n",
              " |  ACE - Arena Cyber Evolution  | 0.20429449693280977 |   1   |\n",
              " |            Galcon 2           |  0.3651458115966968 |   1   |\n",
              " |          World of Goo         |  0.3779678259055785 |   2   |\n",
              " |    Painkiller Resurrection    | 0.07863276616651338 |   1   |\n",
              " +-------------------------------+---------------------+-------+\n",
              " [988 rows x 3 columns]\n",
              " Note: Only the head of the SFrame is printed.\n",
              " You can use print_rows(num_rows=m, num_columns=n) to print more rows and columns.,\n",
              " 'rmse_by_user': Columns:\n",
              " \tUserID\tint\n",
              " \trmse\tfloat\n",
              " \tcount\tint\n",
              " \n",
              " Rows: 483\n",
              " \n",
              " Data:\n",
              " +-----------+---------------------+-------+\n",
              " |   UserID  |         rmse        | count |\n",
              " +-----------+---------------------+-------+\n",
              " | 231122258 |  7.8661832933425435 |   1   |\n",
              " | 114080968 |  1.4498088715879267 |   1   |\n",
              " | 152328066 | 0.07664581968467887 |   1   |\n",
              " | 163281091 |  1.7281570468376284 |   2   |\n",
              " |  95044091 |   4.71504798014862  |   2   |\n",
              " | 172105480 |  2.5491032211391276 |   1   |\n",
              " |  35290890 |  4.795793310598696  |   2   |\n",
              " | 179498213 |  0.7099593124194312 |   1   |\n",
              " |  16821928 |  1.8570928909141617 |   2   |\n",
              " |  49350285 |  1.1569196406993831 |   6   |\n",
              " +-----------+---------------------+-------+\n",
              " [483 rows x 3 columns]\n",
              " Note: Only the head of the SFrame is printed.\n",
              " You can use print_rows(num_rows=m, num_columns=n) to print more rows and columns.,\n",
              " 'rmse_overall': 4.499849176267877}"
            ]
          },
          "metadata": {
            "tags": []
          },
          "execution_count": 84
        }
      ]
    },
    {
      "cell_type": "markdown",
      "metadata": {
        "id": "T8HwLMlJO1Ok",
        "colab_type": "text"
      },
      "source": [
        "### Model 2 : Ranking Factorization Recommender - Training"
      ]
    },
    {
      "cell_type": "code",
      "metadata": {
        "id": "1LjGaFbVIBas",
        "colab_type": "code",
        "colab": {
          "base_uri": "https://localhost:8080/",
          "height": 955
        },
        "outputId": "62abe3fe-791f-47aa-9cb2-ac0367bb1235"
      },
      "source": [
        "model2 = tc.ranking_factorization_recommender.create(train_set,\n",
        "\t\t\t                              user_id='UserID',\n",
        "                                    item_id='Game',\n",
        "                                    target='Ranking')"
      ],
      "execution_count": 85,
      "outputs": [
        {
          "output_type": "display_data",
          "data": {
            "text/html": [
              "<pre>Preparing data set.</pre>"
            ],
            "text/plain": [
              "Preparing data set."
            ]
          },
          "metadata": {
            "tags": []
          }
        },
        {
          "output_type": "display_data",
          "data": {
            "text/html": [
              "<pre>    Data has 127419 observations with 12294 users and 5144 items.</pre>"
            ],
            "text/plain": [
              "    Data has 127419 observations with 12294 users and 5144 items."
            ]
          },
          "metadata": {
            "tags": []
          }
        },
        {
          "output_type": "display_data",
          "data": {
            "text/html": [
              "<pre>    Data prepared in: 0.174461s</pre>"
            ],
            "text/plain": [
              "    Data prepared in: 0.174461s"
            ]
          },
          "metadata": {
            "tags": []
          }
        },
        {
          "output_type": "display_data",
          "data": {
            "text/html": [
              "<pre>Training ranking_factorization_recommender for recommendations.</pre>"
            ],
            "text/plain": [
              "Training ranking_factorization_recommender for recommendations."
            ]
          },
          "metadata": {
            "tags": []
          }
        },
        {
          "output_type": "display_data",
          "data": {
            "text/html": [
              "<pre>+--------------------------------+--------------------------------------------------+----------+</pre>"
            ],
            "text/plain": [
              "+--------------------------------+--------------------------------------------------+----------+"
            ]
          },
          "metadata": {
            "tags": []
          }
        },
        {
          "output_type": "display_data",
          "data": {
            "text/html": [
              "<pre>| Parameter                      | Description                                      | Value    |</pre>"
            ],
            "text/plain": [
              "| Parameter                      | Description                                      | Value    |"
            ]
          },
          "metadata": {
            "tags": []
          }
        },
        {
          "output_type": "display_data",
          "data": {
            "text/html": [
              "<pre>+--------------------------------+--------------------------------------------------+----------+</pre>"
            ],
            "text/plain": [
              "+--------------------------------+--------------------------------------------------+----------+"
            ]
          },
          "metadata": {
            "tags": []
          }
        },
        {
          "output_type": "display_data",
          "data": {
            "text/html": [
              "<pre>| num_factors                    | Factor Dimension                                 | 32       |</pre>"
            ],
            "text/plain": [
              "| num_factors                    | Factor Dimension                                 | 32       |"
            ]
          },
          "metadata": {
            "tags": []
          }
        },
        {
          "output_type": "display_data",
          "data": {
            "text/html": [
              "<pre>| regularization                 | L2 Regularization on Factors                     | 1e-09    |</pre>"
            ],
            "text/plain": [
              "| regularization                 | L2 Regularization on Factors                     | 1e-09    |"
            ]
          },
          "metadata": {
            "tags": []
          }
        },
        {
          "output_type": "display_data",
          "data": {
            "text/html": [
              "<pre>| solver                         | Solver used for training                         | adagrad  |</pre>"
            ],
            "text/plain": [
              "| solver                         | Solver used for training                         | adagrad  |"
            ]
          },
          "metadata": {
            "tags": []
          }
        },
        {
          "output_type": "display_data",
          "data": {
            "text/html": [
              "<pre>| linear_regularization          | L2 Regularization on Linear Coefficients         | 1e-09    |</pre>"
            ],
            "text/plain": [
              "| linear_regularization          | L2 Regularization on Linear Coefficients         | 1e-09    |"
            ]
          },
          "metadata": {
            "tags": []
          }
        },
        {
          "output_type": "display_data",
          "data": {
            "text/html": [
              "<pre>| ranking_regularization         | Rank-based Regularization Weight                 | 0.25     |</pre>"
            ],
            "text/plain": [
              "| ranking_regularization         | Rank-based Regularization Weight                 | 0.25     |"
            ]
          },
          "metadata": {
            "tags": []
          }
        },
        {
          "output_type": "display_data",
          "data": {
            "text/html": [
              "<pre>| max_iterations                 | Maximum Number of Iterations                     | 25       |</pre>"
            ],
            "text/plain": [
              "| max_iterations                 | Maximum Number of Iterations                     | 25       |"
            ]
          },
          "metadata": {
            "tags": []
          }
        },
        {
          "output_type": "display_data",
          "data": {
            "text/html": [
              "<pre>+--------------------------------+--------------------------------------------------+----------+</pre>"
            ],
            "text/plain": [
              "+--------------------------------+--------------------------------------------------+----------+"
            ]
          },
          "metadata": {
            "tags": []
          }
        },
        {
          "output_type": "display_data",
          "data": {
            "text/html": [
              "<pre>  Optimizing model using SGD; tuning step size.</pre>"
            ],
            "text/plain": [
              "  Optimizing model using SGD; tuning step size."
            ]
          },
          "metadata": {
            "tags": []
          }
        },
        {
          "output_type": "display_data",
          "data": {
            "text/html": [
              "<pre>  Using 15927 / 127419 points for tuning the step size.</pre>"
            ],
            "text/plain": [
              "  Using 15927 / 127419 points for tuning the step size."
            ]
          },
          "metadata": {
            "tags": []
          }
        },
        {
          "output_type": "display_data",
          "data": {
            "text/html": [
              "<pre>+---------+-------------------+------------------------------------------+</pre>"
            ],
            "text/plain": [
              "+---------+-------------------+------------------------------------------+"
            ]
          },
          "metadata": {
            "tags": []
          }
        },
        {
          "output_type": "display_data",
          "data": {
            "text/html": [
              "<pre>| Attempt | Initial Step Size | Estimated Objective Value                |</pre>"
            ],
            "text/plain": [
              "| Attempt | Initial Step Size | Estimated Objective Value                |"
            ]
          },
          "metadata": {
            "tags": []
          }
        },
        {
          "output_type": "display_data",
          "data": {
            "text/html": [
              "<pre>+---------+-------------------+------------------------------------------+</pre>"
            ],
            "text/plain": [
              "+---------+-------------------+------------------------------------------+"
            ]
          },
          "metadata": {
            "tags": []
          }
        },
        {
          "output_type": "display_data",
          "data": {
            "text/html": [
              "<pre>| 0       | 16.6667           | Not Viable                               |</pre>"
            ],
            "text/plain": [
              "| 0       | 16.6667           | Not Viable                               |"
            ]
          },
          "metadata": {
            "tags": []
          }
        },
        {
          "output_type": "display_data",
          "data": {
            "text/html": [
              "<pre>| 1       | 4.16667           | Not Viable                               |</pre>"
            ],
            "text/plain": [
              "| 1       | 4.16667           | Not Viable                               |"
            ]
          },
          "metadata": {
            "tags": []
          }
        },
        {
          "output_type": "display_data",
          "data": {
            "text/html": [
              "<pre>| 2       | 1.04167           | Not Viable                               |</pre>"
            ],
            "text/plain": [
              "| 2       | 1.04167           | Not Viable                               |"
            ]
          },
          "metadata": {
            "tags": []
          }
        },
        {
          "output_type": "display_data",
          "data": {
            "text/html": [
              "<pre>| 3       | 0.260417          | 3.17298                                  |</pre>"
            ],
            "text/plain": [
              "| 3       | 0.260417          | 3.17298                                  |"
            ]
          },
          "metadata": {
            "tags": []
          }
        },
        {
          "output_type": "display_data",
          "data": {
            "text/html": [
              "<pre>| 4       | 0.130208          | 3.70232                                  |</pre>"
            ],
            "text/plain": [
              "| 4       | 0.130208          | 3.70232                                  |"
            ]
          },
          "metadata": {
            "tags": []
          }
        },
        {
          "output_type": "display_data",
          "data": {
            "text/html": [
              "<pre>| 5       | 0.0651042         | 4.64876                                  |</pre>"
            ],
            "text/plain": [
              "| 5       | 0.0651042         | 4.64876                                  |"
            ]
          },
          "metadata": {
            "tags": []
          }
        },
        {
          "output_type": "display_data",
          "data": {
            "text/html": [
              "<pre>| 6       | 0.0325521         | 6.22931                                  |</pre>"
            ],
            "text/plain": [
              "| 6       | 0.0325521         | 6.22931                                  |"
            ]
          },
          "metadata": {
            "tags": []
          }
        },
        {
          "output_type": "display_data",
          "data": {
            "text/html": [
              "<pre>+---------+-------------------+------------------------------------------+</pre>"
            ],
            "text/plain": [
              "+---------+-------------------+------------------------------------------+"
            ]
          },
          "metadata": {
            "tags": []
          }
        },
        {
          "output_type": "display_data",
          "data": {
            "text/html": [
              "<pre>| Final   | 0.260417          | 3.17298                                  |</pre>"
            ],
            "text/plain": [
              "| Final   | 0.260417          | 3.17298                                  |"
            ]
          },
          "metadata": {
            "tags": []
          }
        },
        {
          "output_type": "display_data",
          "data": {
            "text/html": [
              "<pre>+---------+-------------------+------------------------------------------+</pre>"
            ],
            "text/plain": [
              "+---------+-------------------+------------------------------------------+"
            ]
          },
          "metadata": {
            "tags": []
          }
        },
        {
          "output_type": "display_data",
          "data": {
            "text/html": [
              "<pre>Starting Optimization.</pre>"
            ],
            "text/plain": [
              "Starting Optimization."
            ]
          },
          "metadata": {
            "tags": []
          }
        },
        {
          "output_type": "display_data",
          "data": {
            "text/html": [
              "<pre>+---------+--------------+-------------------+-----------------------+-------------+</pre>"
            ],
            "text/plain": [
              "+---------+--------------+-------------------+-----------------------+-------------+"
            ]
          },
          "metadata": {
            "tags": []
          }
        },
        {
          "output_type": "display_data",
          "data": {
            "text/html": [
              "<pre>| Iter.   | Elapsed Time | Approx. Objective | Approx. Training RMSE | Step Size   |</pre>"
            ],
            "text/plain": [
              "| Iter.   | Elapsed Time | Approx. Objective | Approx. Training RMSE | Step Size   |"
            ]
          },
          "metadata": {
            "tags": []
          }
        },
        {
          "output_type": "display_data",
          "data": {
            "text/html": [
              "<pre>+---------+--------------+-------------------+-----------------------+-------------+</pre>"
            ],
            "text/plain": [
              "+---------+--------------+-------------------+-----------------------+-------------+"
            ]
          },
          "metadata": {
            "tags": []
          }
        },
        {
          "output_type": "display_data",
          "data": {
            "text/html": [
              "<pre>| Initial | 89us         | 10.0014           | 2.25868               |             |</pre>"
            ],
            "text/plain": [
              "| Initial | 89us         | 10.0014           | 2.25868               |             |"
            ]
          },
          "metadata": {
            "tags": []
          }
        },
        {
          "output_type": "display_data",
          "data": {
            "text/html": [
              "<pre>+---------+--------------+-------------------+-----------------------+-------------+</pre>"
            ],
            "text/plain": [
              "+---------+--------------+-------------------+-----------------------+-------------+"
            ]
          },
          "metadata": {
            "tags": []
          }
        },
        {
          "output_type": "display_data",
          "data": {
            "text/html": [
              "<pre>| 1       | 344.575ms    | 7.49999           | 2.12419               | 0.260417    |</pre>"
            ],
            "text/plain": [
              "| 1       | 344.575ms    | 7.49999           | 2.12419               | 0.260417    |"
            ]
          },
          "metadata": {
            "tags": []
          }
        },
        {
          "output_type": "display_data",
          "data": {
            "text/html": [
              "<pre>| 2       | 672.732ms    | 5.9532            | 1.72098               | 0.260417    |</pre>"
            ],
            "text/plain": [
              "| 2       | 672.732ms    | 5.9532            | 1.72098               | 0.260417    |"
            ]
          },
          "metadata": {
            "tags": []
          }
        },
        {
          "output_type": "display_data",
          "data": {
            "text/html": [
              "<pre>| 3       | 1.00s        | 4.91968           | 1.49316               | 0.260417    |</pre>"
            ],
            "text/plain": [
              "| 3       | 1.00s        | 4.91968           | 1.49316               | 0.260417    |"
            ]
          },
          "metadata": {
            "tags": []
          }
        },
        {
          "output_type": "display_data",
          "data": {
            "text/html": [
              "<pre>| 4       | 1.33s        | 4.69375           | 1.44958               | 0.260417    |</pre>"
            ],
            "text/plain": [
              "| 4       | 1.33s        | 4.69375           | 1.44958               | 0.260417    |"
            ]
          },
          "metadata": {
            "tags": []
          }
        },
        {
          "output_type": "display_data",
          "data": {
            "text/html": [
              "<pre>| 5       | 1.67s        | 4.20978           | 1.31551               | 0.260417    |</pre>"
            ],
            "text/plain": [
              "| 5       | 1.67s        | 4.20978           | 1.31551               | 0.260417    |"
            ]
          },
          "metadata": {
            "tags": []
          }
        },
        {
          "output_type": "display_data",
          "data": {
            "text/html": [
              "<pre>| 7       | 2.44s        | DIVERGED          | DIVERGED              | 0.260417    |</pre>"
            ],
            "text/plain": [
              "| 7       | 2.44s        | DIVERGED          | DIVERGED              | 0.260417    |"
            ]
          },
          "metadata": {
            "tags": []
          }
        },
        {
          "output_type": "display_data",
          "data": {
            "text/html": [
              "<pre>| RESET   | 2.63s        | 10.0005           | 2.25847               |             |</pre>"
            ],
            "text/plain": [
              "| RESET   | 2.63s        | 10.0005           | 2.25847               |             |"
            ]
          },
          "metadata": {
            "tags": []
          }
        },
        {
          "output_type": "display_data",
          "data": {
            "text/html": [
              "<pre>| 3       | 3.58s        | 8.80158           | 2.44345               | 0.130208    |</pre>"
            ],
            "text/plain": [
              "| 3       | 3.58s        | 8.80158           | 2.44345               | 0.130208    |"
            ]
          },
          "metadata": {
            "tags": []
          }
        },
        {
          "output_type": "display_data",
          "data": {
            "text/html": [
              "<pre>| 4       | 4.05s        | DIVERGED          | DIVERGED              | 0.130208    |</pre>"
            ],
            "text/plain": [
              "| 4       | 4.05s        | DIVERGED          | DIVERGED              | 0.130208    |"
            ]
          },
          "metadata": {
            "tags": []
          }
        },
        {
          "output_type": "display_data",
          "data": {
            "text/html": [
              "<pre>| RESET   | 4.23s        | 10.0007           | 2.25853               |             |</pre>"
            ],
            "text/plain": [
              "| RESET   | 4.23s        | 10.0007           | 2.25853               |             |"
            ]
          },
          "metadata": {
            "tags": []
          }
        },
        {
          "output_type": "display_data",
          "data": {
            "text/html": [
              "<pre>| 5       | 6.01s        | DIVERGED          | DIVERGED              | 0.0651042   |</pre>"
            ],
            "text/plain": [
              "| 5       | 6.01s        | DIVERGED          | DIVERGED              | 0.0651042   |"
            ]
          },
          "metadata": {
            "tags": []
          }
        },
        {
          "output_type": "display_data",
          "data": {
            "text/html": [
              "<pre>| RESET   | 6.19s        | 10.0013           | 2.25866               |             |</pre>"
            ],
            "text/plain": [
              "| RESET   | 6.19s        | 10.0013           | 2.25866               |             |"
            ]
          },
          "metadata": {
            "tags": []
          }
        },
        {
          "output_type": "display_data",
          "data": {
            "text/html": [
              "<pre>| 4       | 7.47s        | 6.92147           | 1.93591               | 0.0325521   |</pre>"
            ],
            "text/plain": [
              "| 4       | 7.47s        | 6.92147           | 1.93591               | 0.0325521   |"
            ]
          },
          "metadata": {
            "tags": []
          }
        },
        {
          "output_type": "display_data",
          "data": {
            "text/html": [
              "<pre>| 14      | 10.70s       | 8.0335            | 2.11644               | 0.0325521   |</pre>"
            ],
            "text/plain": [
              "| 14      | 10.70s       | 8.0335            | 2.11644               | 0.0325521   |"
            ]
          },
          "metadata": {
            "tags": []
          }
        },
        {
          "output_type": "display_data",
          "data": {
            "text/html": [
              "<pre>+---------+--------------+-------------------+-----------------------+-------------+</pre>"
            ],
            "text/plain": [
              "+---------+--------------+-------------------+-----------------------+-------------+"
            ]
          },
          "metadata": {
            "tags": []
          }
        },
        {
          "output_type": "display_data",
          "data": {
            "text/html": [
              "<pre>Optimization Complete: Maximum number of passes through the data reached (hard limit).</pre>"
            ],
            "text/plain": [
              "Optimization Complete: Maximum number of passes through the data reached (hard limit)."
            ]
          },
          "metadata": {
            "tags": []
          }
        },
        {
          "output_type": "display_data",
          "data": {
            "text/html": [
              "<pre>Computing final objective value and training RMSE.</pre>"
            ],
            "text/plain": [
              "Computing final objective value and training RMSE."
            ]
          },
          "metadata": {
            "tags": []
          }
        },
        {
          "output_type": "display_data",
          "data": {
            "text/html": [
              "<pre>       Final objective value: 8.01936</pre>"
            ],
            "text/plain": [
              "       Final objective value: 8.01936"
            ]
          },
          "metadata": {
            "tags": []
          }
        },
        {
          "output_type": "display_data",
          "data": {
            "text/html": [
              "<pre>       Final training RMSE: 2.11075</pre>"
            ],
            "text/plain": [
              "       Final training RMSE: 2.11075"
            ]
          },
          "metadata": {
            "tags": []
          }
        }
      ]
    },
    {
      "cell_type": "markdown",
      "metadata": {
        "id": "wj0eujAmO8qN",
        "colab_type": "text"
      },
      "source": [
        "### Model 2 : Ranking Factorization Recommender - Testing"
      ]
    },
    {
      "cell_type": "code",
      "metadata": {
        "id": "OjGitA7zLSng",
        "colab_type": "code",
        "colab": {
          "base_uri": "https://localhost:8080/",
          "height": 1000
        },
        "outputId": "18444f9a-bf0a-4a64-f863-23de60a6704f"
      },
      "source": [
        "model2.evaluate(test_set)"
      ],
      "execution_count": 86,
      "outputs": [
        {
          "output_type": "stream",
          "text": [
            "\n",
            "Precision and recall summary statistics by cutoff\n",
            "+--------+---------------------+---------------------+\n",
            "| cutoff |    mean_precision   |     mean_recall     |\n",
            "+--------+---------------------+---------------------+\n",
            "|   1    |  0.1884057971014493 | 0.13516386762225147 |\n",
            "|   2    | 0.14078674948240166 | 0.16934692737760698 |\n",
            "|   3    | 0.11111111111111112 |  0.1920241256234375 |\n",
            "|   4    | 0.09368530020703936 |  0.2065021372900729 |\n",
            "|   5    | 0.08364389233954449 |  0.2228368320409167 |\n",
            "|   6    |  0.077639751552795  | 0.23943764304144982 |\n",
            "|   7    | 0.06980183377698908 | 0.24971973150667934 |\n",
            "|   8    | 0.06521739130434781 | 0.26135696771997663 |\n",
            "|   9    | 0.06165171382562681 | 0.27120620437740245 |\n",
            "|   10   | 0.05838509316770183 |  0.277552136727247  |\n",
            "+--------+---------------------+---------------------+\n",
            "[10 rows x 3 columns]\n",
            "\n",
            "\n",
            "Overall RMSE: 8.479656776691641\n",
            "\n",
            "Per User RMSE (best)\n",
            "+-----------+-----------------------+-------+\n",
            "|   UserID  |          rmse         | count |\n",
            "+-----------+-----------------------+-------+\n",
            "| 172976494 | 0.0005426474821301763 |   1   |\n",
            "+-----------+-----------------------+-------+\n",
            "[1 rows x 3 columns]\n",
            "\n",
            "\n",
            "Per User RMSE (worst)\n",
            "+-----------+--------------------+-------+\n",
            "|   UserID  |        rmse        | count |\n",
            "+-----------+--------------------+-------+\n",
            "| 205329032 | 189.98489975139987 |   1   |\n",
            "+-----------+--------------------+-------+\n",
            "[1 rows x 3 columns]\n",
            "\n",
            "\n",
            "Per Item RMSE (best)\n",
            "+-----------------------+-----------------------+-------+\n",
            "|          Game         |          rmse         | count |\n",
            "+-----------------------+-----------------------+-------+\n",
            "| Secret Files Tunguska | 0.0009599491479639344 |   1   |\n",
            "+-----------------------+-----------------------+-------+\n",
            "[1 rows x 3 columns]\n",
            "\n",
            "\n",
            "Per Item RMSE (worst)\n",
            "+-------------+-------------------+-------+\n",
            "|     Game    |        rmse       | count |\n",
            "+-------------+-------------------+-------+\n",
            "| Prime World | 72.38380164767878 |   1   |\n",
            "+-------------+-------------------+-------+\n",
            "[1 rows x 3 columns]\n",
            "\n"
          ],
          "name": "stdout"
        },
        {
          "output_type": "stream",
          "text": [
            "/usr/local/lib/python3.6/dist-packages/turicreate/aggregate.py:92: UserWarning: Passing parameter(s) to COUNT is deprecated. This functionality will be removed in the next major release. Any passed parameters are ignored.\n",
            "  + 'the next major release. Any passed parameters are ignored.')\n"
          ],
          "name": "stderr"
        },
        {
          "output_type": "execute_result",
          "data": {
            "text/plain": [
              "{'precision_recall_by_user': Columns:\n",
              " \tUserID\tint\n",
              " \tcutoff\tint\n",
              " \tprecision\tfloat\n",
              " \trecall\tfloat\n",
              " \tcount\tint\n",
              " \n",
              " Rows: 8694\n",
              " \n",
              " Data:\n",
              " +----------+--------+-----------+--------+-------+\n",
              " |  UserID  | cutoff | precision | recall | count |\n",
              " +----------+--------+-----------+--------+-------+\n",
              " | 30695285 |   1    |    0.0    |  0.0   |   1   |\n",
              " | 30695285 |   2    |    0.0    |  0.0   |   1   |\n",
              " | 30695285 |   3    |    0.0    |  0.0   |   1   |\n",
              " | 30695285 |   4    |    0.0    |  0.0   |   1   |\n",
              " | 30695285 |   5    |    0.0    |  0.0   |   1   |\n",
              " | 30695285 |   6    |    0.0    |  0.0   |   1   |\n",
              " | 30695285 |   7    |    0.0    |  0.0   |   1   |\n",
              " | 30695285 |   8    |    0.0    |  0.0   |   1   |\n",
              " | 30695285 |   9    |    0.0    |  0.0   |   1   |\n",
              " | 30695285 |   10   |    0.0    |  0.0   |   1   |\n",
              " +----------+--------+-----------+--------+-------+\n",
              " [8694 rows x 5 columns]\n",
              " Note: Only the head of the SFrame is printed.\n",
              " You can use print_rows(num_rows=m, num_columns=n) to print more rows and columns.,\n",
              " 'precision_recall_overall': Columns:\n",
              " \tcutoff\tint\n",
              " \tprecision\tfloat\n",
              " \trecall\tfloat\n",
              " \n",
              " Rows: 18\n",
              " \n",
              " Data:\n",
              " +--------+----------------------+---------------------+\n",
              " | cutoff |      precision       |        recall       |\n",
              " +--------+----------------------+---------------------+\n",
              " |   1    | 0.18840579710144928  | 0.13516386762225135 |\n",
              " |   2    |  0.1407867494824016  | 0.16934692737760706 |\n",
              " |   3    | 0.11111111111111112  | 0.19202412562343749 |\n",
              " |   4    |  0.0936853002070393  |  0.2065021372900729 |\n",
              " |   5    | 0.08364389233954449  |  0.2228368320409166 |\n",
              " |   6    | 0.07763975155279505  | 0.23943764304144985 |\n",
              " |   7    | 0.06980183377698906  |  0.2497197315066793 |\n",
              " |   8    | 0.06521739130434782  |  0.2613569677199769 |\n",
              " |   9    | 0.06165171382562685  |  0.2712062043774023 |\n",
              " |   10   | 0.058385093167701824 |  0.277552136727247  |\n",
              " +--------+----------------------+---------------------+\n",
              " [18 rows x 3 columns]\n",
              " Note: Only the head of the SFrame is printed.\n",
              " You can use print_rows(num_rows=m, num_columns=n) to print more rows and columns.,\n",
              " 'rmse_by_item': Columns:\n",
              " \tGame\tstr\n",
              " \trmse\tfloat\n",
              " \tcount\tint\n",
              " \n",
              " Rows: 988\n",
              " \n",
              " Data:\n",
              " +-------------------------------+---------------------+-------+\n",
              " |              Game             |         rmse        | count |\n",
              " +-------------------------------+---------------------+-------+\n",
              " |  Infestation Survivor Stories |  1.1755666752661158 |   1   |\n",
              " |           Hell Yeah!          |  1.4327718978349542 |   2   |\n",
              " |          EverQuest II         |  0.4240423636321382 |   1   |\n",
              " |         BIT.TRIP FLUX         |  1.0411934718015436 |   1   |\n",
              " |      Magicka Frozen Lake      |  0.4326399997350927 |   1   |\n",
              " | RACE 07 - Formula RaceRoom... |  1.6995317242565395 |   1   |\n",
              " |  ACE - Arena Cyber Evolution  |  1.1474366918680428 |   1   |\n",
              " |            Galcon 2           |   1.60477320705626  |   1   |\n",
              " |          World of Goo         |  0.6020549342729872 |   2   |\n",
              " |    Painkiller Resurrection    | 0.39592199628326874 |   1   |\n",
              " +-------------------------------+---------------------+-------+\n",
              " [988 rows x 3 columns]\n",
              " Note: Only the head of the SFrame is printed.\n",
              " You can use print_rows(num_rows=m, num_columns=n) to print more rows and columns.,\n",
              " 'rmse_by_user': Columns:\n",
              " \tUserID\tint\n",
              " \trmse\tfloat\n",
              " \tcount\tint\n",
              " \n",
              " Rows: 483\n",
              " \n",
              " Data:\n",
              " +-----------+--------------------+-------+\n",
              " |   UserID  |        rmse        | count |\n",
              " +-----------+--------------------+-------+\n",
              " | 231122258 |  8.01604551567414  |   1   |\n",
              " | 114080968 | 0.7070019696382044 |   1   |\n",
              " | 152328066 | 0.4748362577977423 |   1   |\n",
              " | 163281091 | 1.583330401869851  |   2   |\n",
              " |  95044091 | 5.5113468063289055 |   2   |\n",
              " | 172105480 | 2.3556135282394646 |   1   |\n",
              " |  35290890 |  5.58855858164251  |   2   |\n",
              " | 179498213 | 0.5801602686996707 |   1   |\n",
              " |  16821928 | 3.420821820645586  |   2   |\n",
              " |  49350285 | 1.4718174957673793 |   6   |\n",
              " +-----------+--------------------+-------+\n",
              " [483 rows x 3 columns]\n",
              " Note: Only the head of the SFrame is printed.\n",
              " You can use print_rows(num_rows=m, num_columns=n) to print more rows and columns.,\n",
              " 'rmse_overall': 8.479656776691641}"
            ]
          },
          "metadata": {
            "tags": []
          },
          "execution_count": 86
        }
      ]
    },
    {
      "cell_type": "markdown",
      "metadata": {
        "id": "HUNw8czgPBEV",
        "colab_type": "text"
      },
      "source": [
        "### Model 3 : Item Similarity Recommender - Training"
      ]
    },
    {
      "cell_type": "code",
      "metadata": {
        "id": "CSnCqmuNNu0g",
        "colab_type": "code",
        "colab": {
          "base_uri": "https://localhost:8080/",
          "height": 434
        },
        "outputId": "e7eb6203-b5c8-4fe5-e0fa-b9cc5a2474d5"
      },
      "source": [
        "model3 = tc.item_similarity_recommender.create(train_set,\n",
        "\t\t\t                              user_id='UserID',\n",
        "                                    item_id='Game',\n",
        "                                    target='Ranking')"
      ],
      "execution_count": 87,
      "outputs": [
        {
          "output_type": "display_data",
          "data": {
            "text/html": [
              "<pre>Warning: Ignoring columns Played_hours;</pre>"
            ],
            "text/plain": [
              "Warning: Ignoring columns Played_hours;"
            ]
          },
          "metadata": {
            "tags": []
          }
        },
        {
          "output_type": "display_data",
          "data": {
            "text/html": [
              "<pre>    To use these columns in scoring predictions, use a model that allows the use of additional features.</pre>"
            ],
            "text/plain": [
              "    To use these columns in scoring predictions, use a model that allows the use of additional features."
            ]
          },
          "metadata": {
            "tags": []
          }
        },
        {
          "output_type": "display_data",
          "data": {
            "text/html": [
              "<pre>Preparing data set.</pre>"
            ],
            "text/plain": [
              "Preparing data set."
            ]
          },
          "metadata": {
            "tags": []
          }
        },
        {
          "output_type": "display_data",
          "data": {
            "text/html": [
              "<pre>    Data has 127419 observations with 12294 users and 5144 items.</pre>"
            ],
            "text/plain": [
              "    Data has 127419 observations with 12294 users and 5144 items."
            ]
          },
          "metadata": {
            "tags": []
          }
        },
        {
          "output_type": "display_data",
          "data": {
            "text/html": [
              "<pre>    Data prepared in: 0.160762s</pre>"
            ],
            "text/plain": [
              "    Data prepared in: 0.160762s"
            ]
          },
          "metadata": {
            "tags": []
          }
        },
        {
          "output_type": "display_data",
          "data": {
            "text/html": [
              "<pre>Training model from provided data.</pre>"
            ],
            "text/plain": [
              "Training model from provided data."
            ]
          },
          "metadata": {
            "tags": []
          }
        },
        {
          "output_type": "display_data",
          "data": {
            "text/html": [
              "<pre>Gathering per-item and per-user statistics.</pre>"
            ],
            "text/plain": [
              "Gathering per-item and per-user statistics."
            ]
          },
          "metadata": {
            "tags": []
          }
        },
        {
          "output_type": "display_data",
          "data": {
            "text/html": [
              "<pre>+--------------------------------+------------+</pre>"
            ],
            "text/plain": [
              "+--------------------------------+------------+"
            ]
          },
          "metadata": {
            "tags": []
          }
        },
        {
          "output_type": "display_data",
          "data": {
            "text/html": [
              "<pre>| Elapsed Time (Item Statistics) | % Complete |</pre>"
            ],
            "text/plain": [
              "| Elapsed Time (Item Statistics) | % Complete |"
            ]
          },
          "metadata": {
            "tags": []
          }
        },
        {
          "output_type": "display_data",
          "data": {
            "text/html": [
              "<pre>+--------------------------------+------------+</pre>"
            ],
            "text/plain": [
              "+--------------------------------+------------+"
            ]
          },
          "metadata": {
            "tags": []
          }
        },
        {
          "output_type": "display_data",
          "data": {
            "text/html": [
              "<pre>| 1.189ms                        | 8          |</pre>"
            ],
            "text/plain": [
              "| 1.189ms                        | 8          |"
            ]
          },
          "metadata": {
            "tags": []
          }
        },
        {
          "output_type": "display_data",
          "data": {
            "text/html": [
              "<pre>| 16.786ms                       | 100        |</pre>"
            ],
            "text/plain": [
              "| 16.786ms                       | 100        |"
            ]
          },
          "metadata": {
            "tags": []
          }
        },
        {
          "output_type": "display_data",
          "data": {
            "text/html": [
              "<pre>+--------------------------------+------------+</pre>"
            ],
            "text/plain": [
              "+--------------------------------+------------+"
            ]
          },
          "metadata": {
            "tags": []
          }
        },
        {
          "output_type": "display_data",
          "data": {
            "text/html": [
              "<pre>Setting up lookup tables.</pre>"
            ],
            "text/plain": [
              "Setting up lookup tables."
            ]
          },
          "metadata": {
            "tags": []
          }
        },
        {
          "output_type": "display_data",
          "data": {
            "text/html": [
              "<pre>Processing data in one pass using dense lookup tables.</pre>"
            ],
            "text/plain": [
              "Processing data in one pass using dense lookup tables."
            ]
          },
          "metadata": {
            "tags": []
          }
        },
        {
          "output_type": "display_data",
          "data": {
            "text/html": [
              "<pre>+-------------------------------------+------------------+-----------------+</pre>"
            ],
            "text/plain": [
              "+-------------------------------------+------------------+-----------------+"
            ]
          },
          "metadata": {
            "tags": []
          }
        },
        {
          "output_type": "display_data",
          "data": {
            "text/html": [
              "<pre>| Elapsed Time (Constructing Lookups) | Total % Complete | Items Processed |</pre>"
            ],
            "text/plain": [
              "| Elapsed Time (Constructing Lookups) | Total % Complete | Items Processed |"
            ]
          },
          "metadata": {
            "tags": []
          }
        },
        {
          "output_type": "display_data",
          "data": {
            "text/html": [
              "<pre>+-------------------------------------+------------------+-----------------+</pre>"
            ],
            "text/plain": [
              "+-------------------------------------+------------------+-----------------+"
            ]
          },
          "metadata": {
            "tags": []
          }
        },
        {
          "output_type": "display_data",
          "data": {
            "text/html": [
              "<pre>| 61.546ms                            | 0                | 0               |</pre>"
            ],
            "text/plain": [
              "| 61.546ms                            | 0                | 0               |"
            ]
          },
          "metadata": {
            "tags": []
          }
        },
        {
          "output_type": "display_data",
          "data": {
            "text/html": [
              "<pre>| 571.858ms                           | 100              | 5144            |</pre>"
            ],
            "text/plain": [
              "| 571.858ms                           | 100              | 5144            |"
            ]
          },
          "metadata": {
            "tags": []
          }
        },
        {
          "output_type": "display_data",
          "data": {
            "text/html": [
              "<pre>+-------------------------------------+------------------+-----------------+</pre>"
            ],
            "text/plain": [
              "+-------------------------------------+------------------+-----------------+"
            ]
          },
          "metadata": {
            "tags": []
          }
        },
        {
          "output_type": "display_data",
          "data": {
            "text/html": [
              "<pre>Finalizing lookup tables.</pre>"
            ],
            "text/plain": [
              "Finalizing lookup tables."
            ]
          },
          "metadata": {
            "tags": []
          }
        },
        {
          "output_type": "display_data",
          "data": {
            "text/html": [
              "<pre>Generating candidate set for working with new users.</pre>"
            ],
            "text/plain": [
              "Generating candidate set for working with new users."
            ]
          },
          "metadata": {
            "tags": []
          }
        },
        {
          "output_type": "display_data",
          "data": {
            "text/html": [
              "<pre>Finished training in 0.604971s</pre>"
            ],
            "text/plain": [
              "Finished training in 0.604971s"
            ]
          },
          "metadata": {
            "tags": []
          }
        }
      ]
    },
    {
      "cell_type": "markdown",
      "metadata": {
        "id": "cNtalfd9PBOf",
        "colab_type": "text"
      },
      "source": [
        "### Model 3 : Item Similarity Recommender - Testing"
      ]
    },
    {
      "cell_type": "code",
      "metadata": {
        "id": "Nn70NrxoN-7B",
        "colab_type": "code",
        "colab": {
          "base_uri": "https://localhost:8080/",
          "height": 1000
        },
        "outputId": "a0433706-4f9a-40e1-a7b0-0d2942f013ee"
      },
      "source": [
        "model3.evaluate(test_set)"
      ],
      "execution_count": 88,
      "outputs": [
        {
          "output_type": "stream",
          "text": [
            "\n",
            "Precision and recall summary statistics by cutoff\n",
            "+--------+---------------------+---------------------+\n",
            "| cutoff |    mean_precision   |     mean_recall     |\n",
            "+--------+---------------------+---------------------+\n",
            "|   1    | 0.32919254658385094 |   0.16071200411688  |\n",
            "|   2    |  0.2474120082815734 | 0.21565839388833424 |\n",
            "|   3    | 0.20220841959972394 | 0.24857016964943604 |\n",
            "|   4    | 0.17184265010351968 | 0.26279689669636974 |\n",
            "|   5    | 0.14989648033126296 | 0.27316891737481314 |\n",
            "|   6    |  0.1342305037957212 |  0.2852597561901469 |\n",
            "|   7    | 0.12333629103815437 | 0.29389099423380977 |\n",
            "|   8    | 0.11413043478260866 |  0.3001590985093651 |\n",
            "|   9    | 0.10559006211180126 |  0.3026206755612717 |\n",
            "|   10   | 0.09896480331262938 | 0.30812000311546095 |\n",
            "+--------+---------------------+---------------------+\n",
            "[10 rows x 3 columns]\n",
            "\n",
            "\n",
            "Overall RMSE: 3.0048352519037644\n",
            "\n",
            "Per User RMSE (best)\n",
            "+-----------+----------------------+-------+\n",
            "|   UserID  |         rmse         | count |\n",
            "+-----------+----------------------+-------+\n",
            "| 155277811 | 0.026785731315612793 |   1   |\n",
            "+-----------+----------------------+-------+\n",
            "[1 rows x 3 columns]\n",
            "\n",
            "\n",
            "Per User RMSE (worst)\n",
            "+-----------+------+-------+\n",
            "|   UserID  | rmse | count |\n",
            "+-----------+------+-------+\n",
            "| 113407067 | 10.0 |   1   |\n",
            "+-----------+------+-------+\n",
            "[1 rows x 3 columns]\n",
            "\n",
            "\n",
            "Per Item RMSE (best)\n",
            "+--------------+--------------------+-------+\n",
            "|     Game     |        rmse        | count |\n",
            "+--------------+--------------------+-------+\n",
            "| Mare Nostrum | 0.0317460298538208 |   1   |\n",
            "+--------------+--------------------+-------+\n",
            "[1 rows x 3 columns]\n",
            "\n",
            "\n",
            "Per Item RMSE (worst)\n",
            "+-----------------------------+------+-------+\n",
            "|             Game            | rmse | count |\n",
            "+-----------------------------+------+-------+\n",
            "| Geometry Wars Retro Evolved | 10.0 |   1   |\n",
            "+-----------------------------+------+-------+\n",
            "[1 rows x 3 columns]\n",
            "\n"
          ],
          "name": "stdout"
        },
        {
          "output_type": "stream",
          "text": [
            "/usr/local/lib/python3.6/dist-packages/turicreate/aggregate.py:92: UserWarning: Passing parameter(s) to COUNT is deprecated. This functionality will be removed in the next major release. Any passed parameters are ignored.\n",
            "  + 'the next major release. Any passed parameters are ignored.')\n"
          ],
          "name": "stderr"
        },
        {
          "output_type": "execute_result",
          "data": {
            "text/plain": [
              "{'precision_recall_by_user': Columns:\n",
              " \tUserID\tint\n",
              " \tcutoff\tint\n",
              " \tprecision\tfloat\n",
              " \trecall\tfloat\n",
              " \tcount\tint\n",
              " \n",
              " Rows: 8694\n",
              " \n",
              " Data:\n",
              " +----------+--------+---------------------+--------+-------+\n",
              " |  UserID  | cutoff |      precision      | recall | count |\n",
              " +----------+--------+---------------------+--------+-------+\n",
              " | 30695285 |   1    |         1.0         |  1.0   |   1   |\n",
              " | 30695285 |   2    |         0.5         |  1.0   |   1   |\n",
              " | 30695285 |   3    |  0.3333333333333333 |  1.0   |   1   |\n",
              " | 30695285 |   4    |         0.25        |  1.0   |   1   |\n",
              " | 30695285 |   5    |         0.2         |  1.0   |   1   |\n",
              " | 30695285 |   6    | 0.16666666666666666 |  1.0   |   1   |\n",
              " | 30695285 |   7    | 0.14285714285714285 |  1.0   |   1   |\n",
              " | 30695285 |   8    |        0.125        |  1.0   |   1   |\n",
              " | 30695285 |   9    |  0.1111111111111111 |  1.0   |   1   |\n",
              " | 30695285 |   10   |         0.1         |  1.0   |   1   |\n",
              " +----------+--------+---------------------+--------+-------+\n",
              " [8694 rows x 5 columns]\n",
              " Note: Only the head of the SFrame is printed.\n",
              " You can use print_rows(num_rows=m, num_columns=n) to print more rows and columns.,\n",
              " 'precision_recall_overall': Columns:\n",
              " \tcutoff\tint\n",
              " \tprecision\tfloat\n",
              " \trecall\tfloat\n",
              " \n",
              " Rows: 18\n",
              " \n",
              " Data:\n",
              " +--------+---------------------+---------------------+\n",
              " | cutoff |      precision      |        recall       |\n",
              " +--------+---------------------+---------------------+\n",
              " |   1    |  0.3291925465838509 | 0.16071200411687997 |\n",
              " |   2    | 0.24741200828157353 | 0.21565839388833424 |\n",
              " |   3    | 0.20220841959972405 |  0.248570169649436  |\n",
              " |   4    | 0.17184265010351968 |  0.2627968966963695 |\n",
              " |   5    | 0.14989648033126293 |  0.273168917374813  |\n",
              " |   6    |  0.1342305037957212 | 0.28525975619014693 |\n",
              " |   7    |  0.1233362910381544 |  0.2938909942338098 |\n",
              " |   8    | 0.11413043478260866 |  0.3001590985093653 |\n",
              " |   9    |  0.1055900621118013 | 0.30262067556127165 |\n",
              " |   10   | 0.09896480331262943 | 0.30812000311546095 |\n",
              " +--------+---------------------+---------------------+\n",
              " [18 rows x 3 columns]\n",
              " Note: Only the head of the SFrame is printed.\n",
              " You can use print_rows(num_rows=m, num_columns=n) to print more rows and columns.,\n",
              " 'rmse_by_item': Columns:\n",
              " \tGame\tstr\n",
              " \trmse\tfloat\n",
              " \tcount\tint\n",
              " \n",
              " Rows: 988\n",
              " \n",
              " Data:\n",
              " +-------------------------------+--------------------+-------+\n",
              " |              Game             |        rmse        | count |\n",
              " +-------------------------------+--------------------+-------+\n",
              " |  Infestation Survivor Stories |        2.0         |   1   |\n",
              " |           Hell Yeah!          | 0.9903791530116521 |   2   |\n",
              " |          EverQuest II         |  0.97132126548711  |   1   |\n",
              " |         BIT.TRIP FLUX         | 0.9926372153691977 |   1   |\n",
              " |      Magicka Frozen Lake      | 0.9744669912710722 |   1   |\n",
              " | RACE 07 - Formula RaceRoom... | 4.5684210658073425 |   1   |\n",
              " |  ACE - Arena Cyber Evolution  | 0.9881118902793298 |   1   |\n",
              " |            Galcon 2           | 0.9971428573131561 |   1   |\n",
              " |          World of Goo         | 0.9557093198566795 |   2   |\n",
              " |    Painkiller Resurrection    | 0.9869565220846646 |   1   |\n",
              " +-------------------------------+--------------------+-------+\n",
              " [988 rows x 3 columns]\n",
              " Note: Only the head of the SFrame is printed.\n",
              " You can use print_rows(num_rows=m, num_columns=n) to print more rows and columns.,\n",
              " 'rmse_by_user': Columns:\n",
              " \tUserID\tint\n",
              " \trmse\tfloat\n",
              " \tcount\tint\n",
              " \n",
              " Rows: 483\n",
              " \n",
              " Data:\n",
              " +-----------+--------------------+-------+\n",
              " |   UserID  |        rmse        | count |\n",
              " +-----------+--------------------+-------+\n",
              " | 231122258 |  9.97680413722992  |   1   |\n",
              " | 114080968 | 0.8192933201789856 |   1   |\n",
              " | 152328066 | 0.575129508972168  |   1   |\n",
              " | 163281091 | 3.543060931772653  |   2   |\n",
              " |  95044091 | 6.562143288896605  |   2   |\n",
              " | 172105480 | 0.6616794764995575 |   1   |\n",
              " |  35290890 | 6.624692048317838  |   2   |\n",
              " | 179498213 | 4.991960632801056  |   1   |\n",
              " |  16821928 | 4.576712081116605  |   2   |\n",
              " |  49350285 | 1.4602192828729823 |   6   |\n",
              " +-----------+--------------------+-------+\n",
              " [483 rows x 3 columns]\n",
              " Note: Only the head of the SFrame is printed.\n",
              " You can use print_rows(num_rows=m, num_columns=n) to print more rows and columns.,\n",
              " 'rmse_overall': 3.0048352519037644}"
            ]
          },
          "metadata": {
            "tags": []
          },
          "execution_count": 88
        }
      ]
    },
    {
      "cell_type": "code",
      "metadata": {
        "id": "EaZ0scT3OD7T",
        "colab_type": "code",
        "colab": {}
      },
      "source": [
        ""
      ],
      "execution_count": 0,
      "outputs": []
    },
    {
      "cell_type": "markdown",
      "metadata": {
        "id": "KOuyE42rPMZK",
        "colab_type": "text"
      },
      "source": [
        "### Dataset Reduction"
      ]
    },
    {
      "cell_type": "markdown",
      "metadata": {
        "id": "KUvN4_OhTcBo",
        "colab_type": "text"
      },
      "source": [
        "### Removing all the users with less than 5 games played"
      ]
    },
    {
      "cell_type": "code",
      "metadata": {
        "id": "slsmZbnrPT-r",
        "colab_type": "code",
        "colab": {
          "base_uri": "https://localhost:8080/",
          "height": 231
        },
        "outputId": "fc76d8b6-45fd-4e7a-c0f7-d3cd5e3f4d26"
      },
      "source": [
        "counts = clean_df['UserID'].value_counts()\n",
        "\n",
        "cleanest_df = clean_df[~clean_df['UserID'].isin(counts[counts < 5].index)]\n",
        "cleanest_df[\"UserID\"].value_counts()"
      ],
      "execution_count": 89,
      "outputs": [
        {
          "output_type": "execute_result",
          "data": {
            "text/plain": [
              "62990992     1075\n",
              "33865373      785\n",
              "30246419      766\n",
              "58345543      667\n",
              "76892907      597\n",
              "             ... \n",
              "253814117       5\n",
              "299991818       5\n",
              "164961511       5\n",
              "82438562        5\n",
              "136891549       5\n",
              "Name: UserID, Length: 3761, dtype: int64"
            ]
          },
          "metadata": {
            "tags": []
          },
          "execution_count": 89
        }
      ]
    },
    {
      "cell_type": "markdown",
      "metadata": {
        "id": "4jQw0pczech5",
        "colab_type": "text"
      },
      "source": [
        "### Comparison with original clean dataset"
      ]
    },
    {
      "cell_type": "code",
      "metadata": {
        "id": "1dIJN90aTO_w",
        "colab_type": "code",
        "colab": {
          "base_uri": "https://localhost:8080/",
          "height": 231
        },
        "outputId": "6f20a763-5280-49e2-f289-2c76823ef796"
      },
      "source": [
        "clean_df[\"UserID\"].value_counts()"
      ],
      "execution_count": 90,
      "outputs": [
        {
          "output_type": "execute_result",
          "data": {
            "text/plain": [
              "62990992     1075\n",
              "33865373      785\n",
              "30246419      766\n",
              "58345543      667\n",
              "76892907      597\n",
              "             ... \n",
              "149194171       1\n",
              "207945140       1\n",
              "130315685       1\n",
              "282733934       1\n",
              "214618086       1\n",
              "Name: UserID, Length: 12393, dtype: int64"
            ]
          },
          "metadata": {
            "tags": []
          },
          "execution_count": 90
        }
      ]
    },
    {
      "cell_type": "markdown",
      "metadata": {
        "id": "IXev3_piejXj",
        "colab_type": "text"
      },
      "source": [
        "### Convert the dataframe into SFrame"
      ]
    },
    {
      "cell_type": "code",
      "metadata": {
        "id": "EyrBzYE1dGbj",
        "colab_type": "code",
        "colab": {}
      },
      "source": [
        "dfC = tc.SFrame(cleanest_df)"
      ],
      "execution_count": 0,
      "outputs": []
    },
    {
      "cell_type": "markdown",
      "metadata": {
        "id": "pSbrR1q7ekhx",
        "colab_type": "text"
      },
      "source": [
        "### Create the Training dataset and Testing dataset"
      ]
    },
    {
      "cell_type": "code",
      "metadata": {
        "id": "omAjzNDkTT9K",
        "colab_type": "code",
        "colab": {}
      },
      "source": [
        "train_set2, test_set2 = tc.recommender.util.random_split_by_user(dfC,\"UserID\",\"Game\",item_test_proportion= 0.2)"
      ],
      "execution_count": 0,
      "outputs": []
    },
    {
      "cell_type": "markdown",
      "metadata": {
        "id": "SYxhjzIAelmR",
        "colab_type": "text"
      },
      "source": [
        "### Model 1 : Factorization Recommender - Training"
      ]
    },
    {
      "cell_type": "code",
      "metadata": {
        "id": "Lkeui14RdYx6",
        "colab_type": "code",
        "colab": {
          "base_uri": "https://localhost:8080/",
          "height": 885
        },
        "outputId": "ebe9c7fd-14c1-4b65-cc75-4387fb547afa"
      },
      "source": [
        "model1C = tc.factorization_recommender.create(train_set2,\n",
        "\t\t\t                              user_id='UserID',\n",
        "                                    item_id='Game',\n",
        "                                    target='Ranking')"
      ],
      "execution_count": 93,
      "outputs": [
        {
          "output_type": "display_data",
          "data": {
            "text/html": [
              "<pre>Preparing data set.</pre>"
            ],
            "text/plain": [
              "Preparing data set."
            ]
          },
          "metadata": {
            "tags": []
          }
        },
        {
          "output_type": "display_data",
          "data": {
            "text/html": [
              "<pre>    Data has 109726 observations with 3761 users and 5035 items.</pre>"
            ],
            "text/plain": [
              "    Data has 109726 observations with 3761 users and 5035 items."
            ]
          },
          "metadata": {
            "tags": []
          }
        },
        {
          "output_type": "display_data",
          "data": {
            "text/html": [
              "<pre>    Data prepared in: 0.158462s</pre>"
            ],
            "text/plain": [
              "    Data prepared in: 0.158462s"
            ]
          },
          "metadata": {
            "tags": []
          }
        },
        {
          "output_type": "display_data",
          "data": {
            "text/html": [
              "<pre>Training factorization_recommender for recommendations.</pre>"
            ],
            "text/plain": [
              "Training factorization_recommender for recommendations."
            ]
          },
          "metadata": {
            "tags": []
          }
        },
        {
          "output_type": "display_data",
          "data": {
            "text/html": [
              "<pre>+--------------------------------+--------------------------------------------------+----------+</pre>"
            ],
            "text/plain": [
              "+--------------------------------+--------------------------------------------------+----------+"
            ]
          },
          "metadata": {
            "tags": []
          }
        },
        {
          "output_type": "display_data",
          "data": {
            "text/html": [
              "<pre>| Parameter                      | Description                                      | Value    |</pre>"
            ],
            "text/plain": [
              "| Parameter                      | Description                                      | Value    |"
            ]
          },
          "metadata": {
            "tags": []
          }
        },
        {
          "output_type": "display_data",
          "data": {
            "text/html": [
              "<pre>+--------------------------------+--------------------------------------------------+----------+</pre>"
            ],
            "text/plain": [
              "+--------------------------------+--------------------------------------------------+----------+"
            ]
          },
          "metadata": {
            "tags": []
          }
        },
        {
          "output_type": "display_data",
          "data": {
            "text/html": [
              "<pre>| num_factors                    | Factor Dimension                                 | 8        |</pre>"
            ],
            "text/plain": [
              "| num_factors                    | Factor Dimension                                 | 8        |"
            ]
          },
          "metadata": {
            "tags": []
          }
        },
        {
          "output_type": "display_data",
          "data": {
            "text/html": [
              "<pre>| regularization                 | L2 Regularization on Factors                     | 1e-08    |</pre>"
            ],
            "text/plain": [
              "| regularization                 | L2 Regularization on Factors                     | 1e-08    |"
            ]
          },
          "metadata": {
            "tags": []
          }
        },
        {
          "output_type": "display_data",
          "data": {
            "text/html": [
              "<pre>| solver                         | Solver used for training                         | adagrad  |</pre>"
            ],
            "text/plain": [
              "| solver                         | Solver used for training                         | adagrad  |"
            ]
          },
          "metadata": {
            "tags": []
          }
        },
        {
          "output_type": "display_data",
          "data": {
            "text/html": [
              "<pre>| linear_regularization          | L2 Regularization on Linear Coefficients         | 1e-10    |</pre>"
            ],
            "text/plain": [
              "| linear_regularization          | L2 Regularization on Linear Coefficients         | 1e-10    |"
            ]
          },
          "metadata": {
            "tags": []
          }
        },
        {
          "output_type": "display_data",
          "data": {
            "text/html": [
              "<pre>| max_iterations                 | Maximum Number of Iterations                     | 50       |</pre>"
            ],
            "text/plain": [
              "| max_iterations                 | Maximum Number of Iterations                     | 50       |"
            ]
          },
          "metadata": {
            "tags": []
          }
        },
        {
          "output_type": "display_data",
          "data": {
            "text/html": [
              "<pre>+--------------------------------+--------------------------------------------------+----------+</pre>"
            ],
            "text/plain": [
              "+--------------------------------+--------------------------------------------------+----------+"
            ]
          },
          "metadata": {
            "tags": []
          }
        },
        {
          "output_type": "display_data",
          "data": {
            "text/html": [
              "<pre>  Optimizing model using SGD; tuning step size.</pre>"
            ],
            "text/plain": [
              "  Optimizing model using SGD; tuning step size."
            ]
          },
          "metadata": {
            "tags": []
          }
        },
        {
          "output_type": "display_data",
          "data": {
            "text/html": [
              "<pre>  Using 13715 / 109726 points for tuning the step size.</pre>"
            ],
            "text/plain": [
              "  Using 13715 / 109726 points for tuning the step size."
            ]
          },
          "metadata": {
            "tags": []
          }
        },
        {
          "output_type": "display_data",
          "data": {
            "text/html": [
              "<pre>+---------+-------------------+------------------------------------------+</pre>"
            ],
            "text/plain": [
              "+---------+-------------------+------------------------------------------+"
            ]
          },
          "metadata": {
            "tags": []
          }
        },
        {
          "output_type": "display_data",
          "data": {
            "text/html": [
              "<pre>| Attempt | Initial Step Size | Estimated Objective Value                |</pre>"
            ],
            "text/plain": [
              "| Attempt | Initial Step Size | Estimated Objective Value                |"
            ]
          },
          "metadata": {
            "tags": []
          }
        },
        {
          "output_type": "display_data",
          "data": {
            "text/html": [
              "<pre>+---------+-------------------+------------------------------------------+</pre>"
            ],
            "text/plain": [
              "+---------+-------------------+------------------------------------------+"
            ]
          },
          "metadata": {
            "tags": []
          }
        },
        {
          "output_type": "display_data",
          "data": {
            "text/html": [
              "<pre>| 0       | 16.6667           | Not Viable                               |</pre>"
            ],
            "text/plain": [
              "| 0       | 16.6667           | Not Viable                               |"
            ]
          },
          "metadata": {
            "tags": []
          }
        },
        {
          "output_type": "display_data",
          "data": {
            "text/html": [
              "<pre>| 1       | 4.16667           | Not Viable                               |</pre>"
            ],
            "text/plain": [
              "| 1       | 4.16667           | Not Viable                               |"
            ]
          },
          "metadata": {
            "tags": []
          }
        },
        {
          "output_type": "display_data",
          "data": {
            "text/html": [
              "<pre>| 2       | 1.04167           | Not Viable                               |</pre>"
            ],
            "text/plain": [
              "| 2       | 1.04167           | Not Viable                               |"
            ]
          },
          "metadata": {
            "tags": []
          }
        },
        {
          "output_type": "display_data",
          "data": {
            "text/html": [
              "<pre>| 3       | 0.260417          | 1.24414                                  |</pre>"
            ],
            "text/plain": [
              "| 3       | 0.260417          | 1.24414                                  |"
            ]
          },
          "metadata": {
            "tags": []
          }
        },
        {
          "output_type": "display_data",
          "data": {
            "text/html": [
              "<pre>| 4       | 0.130208          | 2.40595                                  |</pre>"
            ],
            "text/plain": [
              "| 4       | 0.130208          | 2.40595                                  |"
            ]
          },
          "metadata": {
            "tags": []
          }
        },
        {
          "output_type": "display_data",
          "data": {
            "text/html": [
              "<pre>| 5       | 0.0651042         | 1.53802                                  |</pre>"
            ],
            "text/plain": [
              "| 5       | 0.0651042         | 1.53802                                  |"
            ]
          },
          "metadata": {
            "tags": []
          }
        },
        {
          "output_type": "display_data",
          "data": {
            "text/html": [
              "<pre>| 6       | 0.0325521         | 1.85819                                  |</pre>"
            ],
            "text/plain": [
              "| 6       | 0.0325521         | 1.85819                                  |"
            ]
          },
          "metadata": {
            "tags": []
          }
        },
        {
          "output_type": "display_data",
          "data": {
            "text/html": [
              "<pre>+---------+-------------------+------------------------------------------+</pre>"
            ],
            "text/plain": [
              "+---------+-------------------+------------------------------------------+"
            ]
          },
          "metadata": {
            "tags": []
          }
        },
        {
          "output_type": "display_data",
          "data": {
            "text/html": [
              "<pre>| Final   | 0.260417          | 1.24414                                  |</pre>"
            ],
            "text/plain": [
              "| Final   | 0.260417          | 1.24414                                  |"
            ]
          },
          "metadata": {
            "tags": []
          }
        },
        {
          "output_type": "display_data",
          "data": {
            "text/html": [
              "<pre>+---------+-------------------+------------------------------------------+</pre>"
            ],
            "text/plain": [
              "+---------+-------------------+------------------------------------------+"
            ]
          },
          "metadata": {
            "tags": []
          }
        },
        {
          "output_type": "display_data",
          "data": {
            "text/html": [
              "<pre>Starting Optimization.</pre>"
            ],
            "text/plain": [
              "Starting Optimization."
            ]
          },
          "metadata": {
            "tags": []
          }
        },
        {
          "output_type": "display_data",
          "data": {
            "text/html": [
              "<pre>+---------+--------------+-------------------+-----------------------+-------------+</pre>"
            ],
            "text/plain": [
              "+---------+--------------+-------------------+-----------------------+-------------+"
            ]
          },
          "metadata": {
            "tags": []
          }
        },
        {
          "output_type": "display_data",
          "data": {
            "text/html": [
              "<pre>| Iter.   | Elapsed Time | Approx. Objective | Approx. Training RMSE | Step Size   |</pre>"
            ],
            "text/plain": [
              "| Iter.   | Elapsed Time | Approx. Objective | Approx. Training RMSE | Step Size   |"
            ]
          },
          "metadata": {
            "tags": []
          }
        },
        {
          "output_type": "display_data",
          "data": {
            "text/html": [
              "<pre>+---------+--------------+-------------------+-----------------------+-------------+</pre>"
            ],
            "text/plain": [
              "+---------+--------------+-------------------+-----------------------+-------------+"
            ]
          },
          "metadata": {
            "tags": []
          }
        },
        {
          "output_type": "display_data",
          "data": {
            "text/html": [
              "<pre>| Initial | 90us         | 3.49811           | 1.87032               |             |</pre>"
            ],
            "text/plain": [
              "| Initial | 90us         | 3.49811           | 1.87032               |             |"
            ]
          },
          "metadata": {
            "tags": []
          }
        },
        {
          "output_type": "display_data",
          "data": {
            "text/html": [
              "<pre>+---------+--------------+-------------------+-----------------------+-------------+</pre>"
            ],
            "text/plain": [
              "+---------+--------------+-------------------+-----------------------+-------------+"
            ]
          },
          "metadata": {
            "tags": []
          }
        },
        {
          "output_type": "display_data",
          "data": {
            "text/html": [
              "<pre>| 1       | 76.769ms     | 3.01344           | 1.7359                | 0.260417    |</pre>"
            ],
            "text/plain": [
              "| 1       | 76.769ms     | 3.01344           | 1.7359                | 0.260417    |"
            ]
          },
          "metadata": {
            "tags": []
          }
        },
        {
          "output_type": "display_data",
          "data": {
            "text/html": [
              "<pre>| 2       | 121.081ms    | 2.59951           | 1.61228               | 0.260417    |</pre>"
            ],
            "text/plain": [
              "| 2       | 121.081ms    | 2.59951           | 1.61228               | 0.260417    |"
            ]
          },
          "metadata": {
            "tags": []
          }
        },
        {
          "output_type": "display_data",
          "data": {
            "text/html": [
              "<pre>| 3       | 175.24ms     | 2.15529           | 1.46806               | 0.260417    |</pre>"
            ],
            "text/plain": [
              "| 3       | 175.24ms     | 2.15529           | 1.46806               | 0.260417    |"
            ]
          },
          "metadata": {
            "tags": []
          }
        },
        {
          "output_type": "display_data",
          "data": {
            "text/html": [
              "<pre>| 4       | 230.681ms    | 2.06975           | 1.43864               | 0.260417    |</pre>"
            ],
            "text/plain": [
              "| 4       | 230.681ms    | 2.06975           | 1.43864               | 0.260417    |"
            ]
          },
          "metadata": {
            "tags": []
          }
        },
        {
          "output_type": "display_data",
          "data": {
            "text/html": [
              "<pre>| 5       | 294.335ms    | 2.39008           | 1.54596               | 0.260417    |</pre>"
            ],
            "text/plain": [
              "| 5       | 294.335ms    | 2.39008           | 1.54596               | 0.260417    |"
            ]
          },
          "metadata": {
            "tags": []
          }
        },
        {
          "output_type": "display_data",
          "data": {
            "text/html": [
              "<pre>| 8       | 455.987ms    | DIVERGED          | DIVERGED              | 0.260417    |</pre>"
            ],
            "text/plain": [
              "| 8       | 455.987ms    | DIVERGED          | DIVERGED              | 0.260417    |"
            ]
          },
          "metadata": {
            "tags": []
          }
        },
        {
          "output_type": "display_data",
          "data": {
            "text/html": [
              "<pre>| RESET   | 479.043ms    | 3.49827           | 1.87037               |             |</pre>"
            ],
            "text/plain": [
              "| RESET   | 479.043ms    | 3.49827           | 1.87037               |             |"
            ]
          },
          "metadata": {
            "tags": []
          }
        },
        {
          "output_type": "display_data",
          "data": {
            "text/html": [
              "<pre>| 2       | 597.087ms    | DIVERGED          | DIVERGED              | 0.130208    |</pre>"
            ],
            "text/plain": [
              "| 2       | 597.087ms    | DIVERGED          | DIVERGED              | 0.130208    |"
            ]
          },
          "metadata": {
            "tags": []
          }
        },
        {
          "output_type": "display_data",
          "data": {
            "text/html": [
              "<pre>| RESET   | 619.068ms    | 3.49864           | 1.87046               |             |</pre>"
            ],
            "text/plain": [
              "| RESET   | 619.068ms    | 3.49864           | 1.87046               |             |"
            ]
          },
          "metadata": {
            "tags": []
          }
        },
        {
          "output_type": "display_data",
          "data": {
            "text/html": [
              "<pre>| 40      | 2.60s        | 2.4617            | 1.56898               | 0.0651042   |</pre>"
            ],
            "text/plain": [
              "| 40      | 2.60s        | 2.4617            | 1.56898               | 0.0651042   |"
            ]
          },
          "metadata": {
            "tags": []
          }
        },
        {
          "output_type": "display_data",
          "data": {
            "text/html": [
              "<pre>| 45      | 2.86s        | 2.5241            | 1.58873               | 0.0651042   |</pre>"
            ],
            "text/plain": [
              "| 45      | 2.86s        | 2.5241            | 1.58873               | 0.0651042   |"
            ]
          },
          "metadata": {
            "tags": []
          }
        },
        {
          "output_type": "display_data",
          "data": {
            "text/html": [
              "<pre>+---------+--------------+-------------------+-----------------------+-------------+</pre>"
            ],
            "text/plain": [
              "+---------+--------------+-------------------+-----------------------+-------------+"
            ]
          },
          "metadata": {
            "tags": []
          }
        },
        {
          "output_type": "display_data",
          "data": {
            "text/html": [
              "<pre>Optimization Complete: Maximum number of passes through the data reached (hard limit).</pre>"
            ],
            "text/plain": [
              "Optimization Complete: Maximum number of passes through the data reached (hard limit)."
            ]
          },
          "metadata": {
            "tags": []
          }
        },
        {
          "output_type": "display_data",
          "data": {
            "text/html": [
              "<pre>Computing final objective value and training RMSE.</pre>"
            ],
            "text/plain": [
              "Computing final objective value and training RMSE."
            ]
          },
          "metadata": {
            "tags": []
          }
        },
        {
          "output_type": "display_data",
          "data": {
            "text/html": [
              "<pre>       Final objective value: 2.62903</pre>"
            ],
            "text/plain": [
              "       Final objective value: 2.62903"
            ]
          },
          "metadata": {
            "tags": []
          }
        },
        {
          "output_type": "display_data",
          "data": {
            "text/html": [
              "<pre>       Final training RMSE: 1.62142</pre>"
            ],
            "text/plain": [
              "       Final training RMSE: 1.62142"
            ]
          },
          "metadata": {
            "tags": []
          }
        }
      ]
    },
    {
      "cell_type": "markdown",
      "metadata": {
        "id": "DqZsPuexeqKx",
        "colab_type": "text"
      },
      "source": [
        "### Model 1 : Factorization Recommender - Testing"
      ]
    },
    {
      "cell_type": "code",
      "metadata": {
        "id": "oGIW8TaKdgBa",
        "colab_type": "code",
        "colab": {
          "base_uri": "https://localhost:8080/",
          "height": 1000
        },
        "outputId": "4f5aa0a6-92ab-4209-e4c0-a99561903e5e"
      },
      "source": [
        "model1C.evaluate(test_set2)"
      ],
      "execution_count": 99,
      "outputs": [
        {
          "output_type": "stream",
          "text": [
            "\n",
            "Precision and recall summary statistics by cutoff\n",
            "+--------+----------------------+---------------------+\n",
            "| cutoff |    mean_precision    |     mean_recall     |\n",
            "+--------+----------------------+---------------------+\n",
            "|   1    |  0.0487264673311185  |  0.0173474558923125 |\n",
            "|   2    | 0.047619047619047616 | 0.02376847026118361 |\n",
            "|   3    | 0.05241786637135473  | 0.04012994138337609 |\n",
            "|   4    | 0.058970099667774084 | 0.06540515419523148 |\n",
            "|   5    | 0.05891472868217055  | 0.08996028431485315 |\n",
            "|   6    | 0.05518641565153195  | 0.10282932912055046 |\n",
            "|   7    | 0.050150292675209616 | 0.10775660220529724 |\n",
            "|   8    | 0.04595791805094129  | 0.11184977900887712 |\n",
            "|   9    | 0.04318936877076411  | 0.11697474250943082 |\n",
            "|   10   | 0.04053156146179402  | 0.11870193722894065 |\n",
            "+--------+----------------------+---------------------+\n",
            "[10 rows x 3 columns]\n",
            "\n",
            "\n",
            "Overall RMSE: 4.1286615977438545\n",
            "\n",
            "Per User RMSE (best)\n",
            "+----------+----------------------+-------+\n",
            "|  UserID  |         rmse         | count |\n",
            "+----------+----------------------+-------+\n",
            "| 79474322 | 0.002202439859326555 |   1   |\n",
            "+----------+----------------------+-------+\n",
            "[1 rows x 3 columns]\n",
            "\n",
            "\n",
            "Per User RMSE (worst)\n",
            "+-----------+--------------------+-------+\n",
            "|   UserID  |        rmse        | count |\n",
            "+-----------+--------------------+-------+\n",
            "| 120116659 | 189.35004518102647 |   1   |\n",
            "+-----------+--------------------+-------+\n",
            "[1 rows x 3 columns]\n",
            "\n",
            "\n",
            "Per Item RMSE (best)\n",
            "+-------------------------------+-----------------------+-------+\n",
            "|              Game             |          rmse         | count |\n",
            "+-------------------------------+-----------------------+-------+\n",
            "| Tom Clancy's Ghost Recon P... | 7.128734904937595e-05 |   1   |\n",
            "+-------------------------------+-----------------------+-------+\n",
            "[1 rows x 3 columns]\n",
            "\n",
            "\n",
            "Per Item RMSE (worst)\n",
            "+--------+--------------------+-------+\n",
            "|  Game  |        rmse        | count |\n",
            "+--------+--------------------+-------+\n",
            "| Dota 2 | 32.210316011123844 |   71  |\n",
            "+--------+--------------------+-------+\n",
            "[1 rows x 3 columns]\n",
            "\n"
          ],
          "name": "stdout"
        },
        {
          "output_type": "stream",
          "text": [
            "/usr/local/lib/python3.6/dist-packages/turicreate/aggregate.py:92: UserWarning: Passing parameter(s) to COUNT is deprecated. This functionality will be removed in the next major release. Any passed parameters are ignored.\n",
            "  + 'the next major release. Any passed parameters are ignored.')\n"
          ],
          "name": "stderr"
        },
        {
          "output_type": "execute_result",
          "data": {
            "text/plain": [
              "{'precision_recall_by_user': Columns:\n",
              " \tUserID\tint\n",
              " \tcutoff\tint\n",
              " \tprecision\tfloat\n",
              " \trecall\tfloat\n",
              " \tcount\tint\n",
              " \n",
              " Rows: 16254\n",
              " \n",
              " Data:\n",
              " +----------+--------+-----------+--------+-------+\n",
              " |  UserID  | cutoff | precision | recall | count |\n",
              " +----------+--------+-----------+--------+-------+\n",
              " | 59945701 |   1    |    0.0    |  0.0   |   10  |\n",
              " | 59945701 |   2    |    0.0    |  0.0   |   10  |\n",
              " | 59945701 |   3    |    0.0    |  0.0   |   10  |\n",
              " | 59945701 |   4    |    0.0    |  0.0   |   10  |\n",
              " | 59945701 |   5    |    0.0    |  0.0   |   10  |\n",
              " | 59945701 |   6    |    0.0    |  0.0   |   10  |\n",
              " | 59945701 |   7    |    0.0    |  0.0   |   10  |\n",
              " | 59945701 |   8    |    0.0    |  0.0   |   10  |\n",
              " | 59945701 |   9    |    0.0    |  0.0   |   10  |\n",
              " | 59945701 |   10   |    0.0    |  0.0   |   10  |\n",
              " +----------+--------+-----------+--------+-------+\n",
              " [16254 rows x 5 columns]\n",
              " Note: Only the head of the SFrame is printed.\n",
              " You can use print_rows(num_rows=m, num_columns=n) to print more rows and columns.,\n",
              " 'precision_recall_overall': Columns:\n",
              " \tcutoff\tint\n",
              " \tprecision\tfloat\n",
              " \trecall\tfloat\n",
              " \n",
              " Rows: 18\n",
              " \n",
              " Data:\n",
              " +--------+----------------------+----------------------+\n",
              " | cutoff |      precision       |        recall        |\n",
              " +--------+----------------------+----------------------+\n",
              " |   1    | 0.048726467331118524 | 0.017347455892312513 |\n",
              " |   2    | 0.04761904761904761  |  0.0237684702611836  |\n",
              " |   3    | 0.052417866371354746 | 0.04012994138337609  |\n",
              " |   4    | 0.058970099667774084 | 0.06540515419523146  |\n",
              " |   5    | 0.058914728682170556 | 0.08996028431485316  |\n",
              " |   6    | 0.05518641565153194  | 0.10282932912055046  |\n",
              " |   7    | 0.05015029267520962  | 0.10775660220529722  |\n",
              " |   8    | 0.04595791805094132  | 0.11184977900887715  |\n",
              " |   9    | 0.043189368770764104 |  0.1169747425094308  |\n",
              " |   10   | 0.04053156146179405  | 0.11870193722894064  |\n",
              " +--------+----------------------+----------------------+\n",
              " [18 rows x 3 columns]\n",
              " Note: Only the head of the SFrame is printed.\n",
              " You can use print_rows(num_rows=m, num_columns=n) to print more rows and columns.,\n",
              " 'rmse_by_item': Columns:\n",
              " \tGame\tstr\n",
              " \trmse\tfloat\n",
              " \tcount\tint\n",
              " \n",
              " Rows: 1901\n",
              " \n",
              " Data:\n",
              " +-------------------------------+---------------------+-------+\n",
              " |              Game             |         rmse        | count |\n",
              " +-------------------------------+---------------------+-------+\n",
              " |        Space Engineers        |  0.5597273184395111 |   8   |\n",
              " |  Infestation Survivor Stories |  5.009459323994963  |   3   |\n",
              " |           Hell Yeah!          |  0.5130541307318267 |   2   |\n",
              " |      The Tiny Bang Story      |  1.2463591659517923 |   1   |\n",
              " |          EverQuest II         |  0.5316919723528737 |   2   |\n",
              " |   Arson & Plunder Unleashed   | 0.09722917918879204 |   1   |\n",
              " |  Blood Bowl Legendary Edition | 0.18840946055597335 |   3   |\n",
              " |      Magicka Frozen Lake      |  0.900985512023504  |   3   |\n",
              " |          Math Rescue          | 0.32502983157355003 |   1   |\n",
              " | RACE 07 - Formula RaceRoom... | 0.15458178167063408 |   1   |\n",
              " +-------------------------------+---------------------+-------+\n",
              " [1901 rows x 3 columns]\n",
              " Note: Only the head of the SFrame is printed.\n",
              " You can use print_rows(num_rows=m, num_columns=n) to print more rows and columns.,\n",
              " 'rmse_by_user': Columns:\n",
              " \tUserID\tint\n",
              " \trmse\tfloat\n",
              " \tcount\tint\n",
              " \n",
              " Rows: 903\n",
              " \n",
              " Data:\n",
              " +-----------+--------------------+-------+\n",
              " |   UserID  |        rmse        | count |\n",
              " +-----------+--------------------+-------+\n",
              " |  24841093 | 2.1236181787815958 |   2   |\n",
              " | 154296520 | 0.7117301748854686 |   8   |\n",
              " | 207009485 | 12.774125800135778 |   1   |\n",
              " |  61031710 | 7.4783860892798195 |   1   |\n",
              " | 171965445 | 2.5165896110224857 |   1   |\n",
              " | 184807923 | 0.6586854592029614 |   3   |\n",
              " | 283922576 | 1.1807923641891949 |   3   |\n",
              " | 196403090 |  6.80607666804947  |   4   |\n",
              " | 247887213 | 2.975391809091155  |   1   |\n",
              " | 200524998 | 1.0597304907049048 |   1   |\n",
              " +-----------+--------------------+-------+\n",
              " [903 rows x 3 columns]\n",
              " Note: Only the head of the SFrame is printed.\n",
              " You can use print_rows(num_rows=m, num_columns=n) to print more rows and columns.,\n",
              " 'rmse_overall': 4.1286615977438545}"
            ]
          },
          "metadata": {
            "tags": []
          },
          "execution_count": 99
        }
      ]
    },
    {
      "cell_type": "markdown",
      "metadata": {
        "id": "hW4zeUyTeuTN",
        "colab_type": "text"
      },
      "source": [
        "### Model 2 : Ranking Factorization Recommender - Training"
      ]
    },
    {
      "cell_type": "code",
      "metadata": {
        "id": "1eT2keUMdvVL",
        "colab_type": "code",
        "colab": {
          "base_uri": "https://localhost:8080/",
          "height": 955
        },
        "outputId": "5ab180f7-23cc-4de9-8e12-0edd3f1bede3"
      },
      "source": [
        "model2C = tc.ranking_factorization_recommender.create(train_set2,\n",
        "\t\t\t                              user_id='UserID',\n",
        "                                    item_id='Game',\n",
        "                                    target='Ranking')"
      ],
      "execution_count": 100,
      "outputs": [
        {
          "output_type": "display_data",
          "data": {
            "text/html": [
              "<pre>Preparing data set.</pre>"
            ],
            "text/plain": [
              "Preparing data set."
            ]
          },
          "metadata": {
            "tags": []
          }
        },
        {
          "output_type": "display_data",
          "data": {
            "text/html": [
              "<pre>    Data has 109726 observations with 3761 users and 5035 items.</pre>"
            ],
            "text/plain": [
              "    Data has 109726 observations with 3761 users and 5035 items."
            ]
          },
          "metadata": {
            "tags": []
          }
        },
        {
          "output_type": "display_data",
          "data": {
            "text/html": [
              "<pre>    Data prepared in: 0.160394s</pre>"
            ],
            "text/plain": [
              "    Data prepared in: 0.160394s"
            ]
          },
          "metadata": {
            "tags": []
          }
        },
        {
          "output_type": "display_data",
          "data": {
            "text/html": [
              "<pre>Training ranking_factorization_recommender for recommendations.</pre>"
            ],
            "text/plain": [
              "Training ranking_factorization_recommender for recommendations."
            ]
          },
          "metadata": {
            "tags": []
          }
        },
        {
          "output_type": "display_data",
          "data": {
            "text/html": [
              "<pre>+--------------------------------+--------------------------------------------------+----------+</pre>"
            ],
            "text/plain": [
              "+--------------------------------+--------------------------------------------------+----------+"
            ]
          },
          "metadata": {
            "tags": []
          }
        },
        {
          "output_type": "display_data",
          "data": {
            "text/html": [
              "<pre>| Parameter                      | Description                                      | Value    |</pre>"
            ],
            "text/plain": [
              "| Parameter                      | Description                                      | Value    |"
            ]
          },
          "metadata": {
            "tags": []
          }
        },
        {
          "output_type": "display_data",
          "data": {
            "text/html": [
              "<pre>+--------------------------------+--------------------------------------------------+----------+</pre>"
            ],
            "text/plain": [
              "+--------------------------------+--------------------------------------------------+----------+"
            ]
          },
          "metadata": {
            "tags": []
          }
        },
        {
          "output_type": "display_data",
          "data": {
            "text/html": [
              "<pre>| num_factors                    | Factor Dimension                                 | 32       |</pre>"
            ],
            "text/plain": [
              "| num_factors                    | Factor Dimension                                 | 32       |"
            ]
          },
          "metadata": {
            "tags": []
          }
        },
        {
          "output_type": "display_data",
          "data": {
            "text/html": [
              "<pre>| regularization                 | L2 Regularization on Factors                     | 1e-09    |</pre>"
            ],
            "text/plain": [
              "| regularization                 | L2 Regularization on Factors                     | 1e-09    |"
            ]
          },
          "metadata": {
            "tags": []
          }
        },
        {
          "output_type": "display_data",
          "data": {
            "text/html": [
              "<pre>| solver                         | Solver used for training                         | adagrad  |</pre>"
            ],
            "text/plain": [
              "| solver                         | Solver used for training                         | adagrad  |"
            ]
          },
          "metadata": {
            "tags": []
          }
        },
        {
          "output_type": "display_data",
          "data": {
            "text/html": [
              "<pre>| linear_regularization          | L2 Regularization on Linear Coefficients         | 1e-09    |</pre>"
            ],
            "text/plain": [
              "| linear_regularization          | L2 Regularization on Linear Coefficients         | 1e-09    |"
            ]
          },
          "metadata": {
            "tags": []
          }
        },
        {
          "output_type": "display_data",
          "data": {
            "text/html": [
              "<pre>| ranking_regularization         | Rank-based Regularization Weight                 | 0.25     |</pre>"
            ],
            "text/plain": [
              "| ranking_regularization         | Rank-based Regularization Weight                 | 0.25     |"
            ]
          },
          "metadata": {
            "tags": []
          }
        },
        {
          "output_type": "display_data",
          "data": {
            "text/html": [
              "<pre>| max_iterations                 | Maximum Number of Iterations                     | 25       |</pre>"
            ],
            "text/plain": [
              "| max_iterations                 | Maximum Number of Iterations                     | 25       |"
            ]
          },
          "metadata": {
            "tags": []
          }
        },
        {
          "output_type": "display_data",
          "data": {
            "text/html": [
              "<pre>+--------------------------------+--------------------------------------------------+----------+</pre>"
            ],
            "text/plain": [
              "+--------------------------------+--------------------------------------------------+----------+"
            ]
          },
          "metadata": {
            "tags": []
          }
        },
        {
          "output_type": "display_data",
          "data": {
            "text/html": [
              "<pre>  Optimizing model using SGD; tuning step size.</pre>"
            ],
            "text/plain": [
              "  Optimizing model using SGD; tuning step size."
            ]
          },
          "metadata": {
            "tags": []
          }
        },
        {
          "output_type": "display_data",
          "data": {
            "text/html": [
              "<pre>  Using 13715 / 109726 points for tuning the step size.</pre>"
            ],
            "text/plain": [
              "  Using 13715 / 109726 points for tuning the step size."
            ]
          },
          "metadata": {
            "tags": []
          }
        },
        {
          "output_type": "display_data",
          "data": {
            "text/html": [
              "<pre>+---------+-------------------+------------------------------------------+</pre>"
            ],
            "text/plain": [
              "+---------+-------------------+------------------------------------------+"
            ]
          },
          "metadata": {
            "tags": []
          }
        },
        {
          "output_type": "display_data",
          "data": {
            "text/html": [
              "<pre>| Attempt | Initial Step Size | Estimated Objective Value                |</pre>"
            ],
            "text/plain": [
              "| Attempt | Initial Step Size | Estimated Objective Value                |"
            ]
          },
          "metadata": {
            "tags": []
          }
        },
        {
          "output_type": "display_data",
          "data": {
            "text/html": [
              "<pre>+---------+-------------------+------------------------------------------+</pre>"
            ],
            "text/plain": [
              "+---------+-------------------+------------------------------------------+"
            ]
          },
          "metadata": {
            "tags": []
          }
        },
        {
          "output_type": "display_data",
          "data": {
            "text/html": [
              "<pre>| 0       | 16.6667           | Not Viable                               |</pre>"
            ],
            "text/plain": [
              "| 0       | 16.6667           | Not Viable                               |"
            ]
          },
          "metadata": {
            "tags": []
          }
        },
        {
          "output_type": "display_data",
          "data": {
            "text/html": [
              "<pre>| 1       | 4.16667           | Not Viable                               |</pre>"
            ],
            "text/plain": [
              "| 1       | 4.16667           | Not Viable                               |"
            ]
          },
          "metadata": {
            "tags": []
          }
        },
        {
          "output_type": "display_data",
          "data": {
            "text/html": [
              "<pre>| 2       | 1.04167           | Not Viable                               |</pre>"
            ],
            "text/plain": [
              "| 2       | 1.04167           | Not Viable                               |"
            ]
          },
          "metadata": {
            "tags": []
          }
        },
        {
          "output_type": "display_data",
          "data": {
            "text/html": [
              "<pre>| 3       | 0.260417          | 2.36416                                  |</pre>"
            ],
            "text/plain": [
              "| 3       | 0.260417          | 2.36416                                  |"
            ]
          },
          "metadata": {
            "tags": []
          }
        },
        {
          "output_type": "display_data",
          "data": {
            "text/html": [
              "<pre>| 4       | 0.130208          | 3.26118                                  |</pre>"
            ],
            "text/plain": [
              "| 4       | 0.130208          | 3.26118                                  |"
            ]
          },
          "metadata": {
            "tags": []
          }
        },
        {
          "output_type": "display_data",
          "data": {
            "text/html": [
              "<pre>| 5       | 0.0651042         | 3.95885                                  |</pre>"
            ],
            "text/plain": [
              "| 5       | 0.0651042         | 3.95885                                  |"
            ]
          },
          "metadata": {
            "tags": []
          }
        },
        {
          "output_type": "display_data",
          "data": {
            "text/html": [
              "<pre>| 6       | 0.0325521         | 4.18178                                  |</pre>"
            ],
            "text/plain": [
              "| 6       | 0.0325521         | 4.18178                                  |"
            ]
          },
          "metadata": {
            "tags": []
          }
        },
        {
          "output_type": "display_data",
          "data": {
            "text/html": [
              "<pre>+---------+-------------------+------------------------------------------+</pre>"
            ],
            "text/plain": [
              "+---------+-------------------+------------------------------------------+"
            ]
          },
          "metadata": {
            "tags": []
          }
        },
        {
          "output_type": "display_data",
          "data": {
            "text/html": [
              "<pre>| Final   | 0.260417          | 2.36416                                  |</pre>"
            ],
            "text/plain": [
              "| Final   | 0.260417          | 2.36416                                  |"
            ]
          },
          "metadata": {
            "tags": []
          }
        },
        {
          "output_type": "display_data",
          "data": {
            "text/html": [
              "<pre>+---------+-------------------+------------------------------------------+</pre>"
            ],
            "text/plain": [
              "+---------+-------------------+------------------------------------------+"
            ]
          },
          "metadata": {
            "tags": []
          }
        },
        {
          "output_type": "display_data",
          "data": {
            "text/html": [
              "<pre>Starting Optimization.</pre>"
            ],
            "text/plain": [
              "Starting Optimization."
            ]
          },
          "metadata": {
            "tags": []
          }
        },
        {
          "output_type": "display_data",
          "data": {
            "text/html": [
              "<pre>+---------+--------------+-------------------+-----------------------+-------------+</pre>"
            ],
            "text/plain": [
              "+---------+--------------+-------------------+-----------------------+-------------+"
            ]
          },
          "metadata": {
            "tags": []
          }
        },
        {
          "output_type": "display_data",
          "data": {
            "text/html": [
              "<pre>| Iter.   | Elapsed Time | Approx. Objective | Approx. Training RMSE | Step Size   |</pre>"
            ],
            "text/plain": [
              "| Iter.   | Elapsed Time | Approx. Objective | Approx. Training RMSE | Step Size   |"
            ]
          },
          "metadata": {
            "tags": []
          }
        },
        {
          "output_type": "display_data",
          "data": {
            "text/html": [
              "<pre>+---------+--------------+-------------------+-----------------------+-------------+</pre>"
            ],
            "text/plain": [
              "+---------+--------------+-------------------+-----------------------+-------------+"
            ]
          },
          "metadata": {
            "tags": []
          }
        },
        {
          "output_type": "display_data",
          "data": {
            "text/html": [
              "<pre>| Initial | 105us        | 6.85843           | 1.87032               |             |</pre>"
            ],
            "text/plain": [
              "| Initial | 105us        | 6.85843           | 1.87032               |             |"
            ]
          },
          "metadata": {
            "tags": []
          }
        },
        {
          "output_type": "display_data",
          "data": {
            "text/html": [
              "<pre>+---------+--------------+-------------------+-----------------------+-------------+</pre>"
            ],
            "text/plain": [
              "+---------+--------------+-------------------+-----------------------+-------------+"
            ]
          },
          "metadata": {
            "tags": []
          }
        },
        {
          "output_type": "display_data",
          "data": {
            "text/html": [
              "<pre>| 1       | 307.56ms     | 6.24404           | 2.01072               | 0.260417    |</pre>"
            ],
            "text/plain": [
              "| 1       | 307.56ms     | 6.24404           | 2.01072               | 0.260417    |"
            ]
          },
          "metadata": {
            "tags": []
          }
        },
        {
          "output_type": "display_data",
          "data": {
            "text/html": [
              "<pre>| 2       | 586.032ms    | 8.47              | 2.20819               | 0.260417    |</pre>"
            ],
            "text/plain": [
              "| 2       | 586.032ms    | 8.47              | 2.20819               | 0.260417    |"
            ]
          },
          "metadata": {
            "tags": []
          }
        },
        {
          "output_type": "display_data",
          "data": {
            "text/html": [
              "<pre>| 3       | 863.176ms    | 11.0017           | 2.70509               | 0.260417    |</pre>"
            ],
            "text/plain": [
              "| 3       | 863.176ms    | 11.0017           | 2.70509               | 0.260417    |"
            ]
          },
          "metadata": {
            "tags": []
          }
        },
        {
          "output_type": "display_data",
          "data": {
            "text/html": [
              "<pre>| 4       | 1.28s        | DIVERGED          | DIVERGED              | 0.260417    |</pre>"
            ],
            "text/plain": [
              "| 4       | 1.28s        | DIVERGED          | DIVERGED              | 0.260417    |"
            ]
          },
          "metadata": {
            "tags": []
          }
        },
        {
          "output_type": "display_data",
          "data": {
            "text/html": [
              "<pre>| RESET   | 1.43s        | 6.85924           | 1.87055               |             |</pre>"
            ],
            "text/plain": [
              "| RESET   | 1.43s        | 6.85924           | 1.87055               |             |"
            ]
          },
          "metadata": {
            "tags": []
          }
        },
        {
          "output_type": "display_data",
          "data": {
            "text/html": [
              "<pre>| 1       | 1.72s        | 5.29596           | 1.75869               | 0.130208    |</pre>"
            ],
            "text/plain": [
              "| 1       | 1.72s        | 5.29596           | 1.75869               | 0.130208    |"
            ]
          },
          "metadata": {
            "tags": []
          }
        },
        {
          "output_type": "display_data",
          "data": {
            "text/html": [
              "<pre>| 2       | 1.99s        | 13.4586           | 3.01349               | 0.130208    |</pre>"
            ],
            "text/plain": [
              "| 2       | 1.99s        | 13.4586           | 3.01349               | 0.130208    |"
            ]
          },
          "metadata": {
            "tags": []
          }
        },
        {
          "output_type": "display_data",
          "data": {
            "text/html": [
              "<pre>| 3       | 2.40s        | DIVERGED          | DIVERGED              | 0.130208    |</pre>"
            ],
            "text/plain": [
              "| 3       | 2.40s        | DIVERGED          | DIVERGED              | 0.130208    |"
            ]
          },
          "metadata": {
            "tags": []
          }
        },
        {
          "output_type": "display_data",
          "data": {
            "text/html": [
              "<pre>| RESET   | 2.55s        | 6.85773           | 1.87015               |             |</pre>"
            ],
            "text/plain": [
              "| RESET   | 2.55s        | 6.85773           | 1.87015               |             |"
            ]
          },
          "metadata": {
            "tags": []
          }
        },
        {
          "output_type": "display_data",
          "data": {
            "text/html": [
              "<pre>| 3       | 3.41s        | 4.10494           | 1.43748               | 0.0651042   |</pre>"
            ],
            "text/plain": [
              "| 3       | 3.41s        | 4.10494           | 1.43748               | 0.0651042   |"
            ]
          },
          "metadata": {
            "tags": []
          }
        },
        {
          "output_type": "display_data",
          "data": {
            "text/html": [
              "<pre>| 10      | 5.51s        | DIVERGED          | DIVERGED              | 0.0651042   |</pre>"
            ],
            "text/plain": [
              "| 10      | 5.51s        | DIVERGED          | DIVERGED              | 0.0651042   |"
            ]
          },
          "metadata": {
            "tags": []
          }
        },
        {
          "output_type": "display_data",
          "data": {
            "text/html": [
              "<pre>| RESET   | 5.65s        | 6.85804           | 1.87023               |             |</pre>"
            ],
            "text/plain": [
              "| RESET   | 5.65s        | 6.85804           | 1.87023               |             |"
            ]
          },
          "metadata": {
            "tags": []
          }
        },
        {
          "output_type": "display_data",
          "data": {
            "text/html": [
              "<pre>| 3       | 6.51s        | 4.33702           | 1.44934               | 0.0325521   |</pre>"
            ],
            "text/plain": [
              "| 3       | 6.51s        | 4.33702           | 1.44934               | 0.0325521   |"
            ]
          },
          "metadata": {
            "tags": []
          }
        },
        {
          "output_type": "display_data",
          "data": {
            "text/html": [
              "<pre>| 13      | 9.31s        | 9.36126           | 2.4734                | 0.0325521   |</pre>"
            ],
            "text/plain": [
              "| 13      | 9.31s        | 9.36126           | 2.4734                | 0.0325521   |"
            ]
          },
          "metadata": {
            "tags": []
          }
        },
        {
          "output_type": "display_data",
          "data": {
            "text/html": [
              "<pre>+---------+--------------+-------------------+-----------------------+-------------+</pre>"
            ],
            "text/plain": [
              "+---------+--------------+-------------------+-----------------------+-------------+"
            ]
          },
          "metadata": {
            "tags": []
          }
        },
        {
          "output_type": "display_data",
          "data": {
            "text/html": [
              "<pre>Optimization Complete: Maximum number of passes through the data reached (hard limit).</pre>"
            ],
            "text/plain": [
              "Optimization Complete: Maximum number of passes through the data reached (hard limit)."
            ]
          },
          "metadata": {
            "tags": []
          }
        },
        {
          "output_type": "display_data",
          "data": {
            "text/html": [
              "<pre>Computing final objective value and training RMSE.</pre>"
            ],
            "text/plain": [
              "Computing final objective value and training RMSE."
            ]
          },
          "metadata": {
            "tags": []
          }
        },
        {
          "output_type": "display_data",
          "data": {
            "text/html": [
              "<pre>       Final objective value: 8.73438</pre>"
            ],
            "text/plain": [
              "       Final objective value: 8.73438"
            ]
          },
          "metadata": {
            "tags": []
          }
        },
        {
          "output_type": "display_data",
          "data": {
            "text/html": [
              "<pre>       Final training RMSE: 2.3205</pre>"
            ],
            "text/plain": [
              "       Final training RMSE: 2.3205"
            ]
          },
          "metadata": {
            "tags": []
          }
        }
      ]
    },
    {
      "cell_type": "markdown",
      "metadata": {
        "id": "JNrlDYSbe12b",
        "colab_type": "text"
      },
      "source": [
        "### Model 2 : Ranking Factorization Recommender - Testing"
      ]
    },
    {
      "cell_type": "code",
      "metadata": {
        "id": "Y-3bA4Trdgvh",
        "colab_type": "code",
        "colab": {
          "base_uri": "https://localhost:8080/",
          "height": 1000
        },
        "outputId": "4f15080f-bab1-461f-be0c-212ba7f12604"
      },
      "source": [
        "model2C.evaluate(test_set2)"
      ],
      "execution_count": 101,
      "outputs": [
        {
          "output_type": "stream",
          "text": [
            "\n",
            "Precision and recall summary statistics by cutoff\n",
            "+--------+---------------------+----------------------+\n",
            "| cutoff |    mean_precision   |     mean_recall      |\n",
            "+--------+---------------------+----------------------+\n",
            "|   1    | 0.05647840531561461 | 0.020404076274514273 |\n",
            "|   2    | 0.08582502768549283 | 0.055954147129964375 |\n",
            "|   3    | 0.09228497600590624 | 0.08466152707700993  |\n",
            "|   4    | 0.08887043189368772 | 0.10308389366679085  |\n",
            "|   5    | 0.08261351052048725 | 0.12062969722138327  |\n",
            "|   6    | 0.07622739018087858 | 0.13139419307168243  |\n",
            "|   7    | 0.07166587565258661 | 0.13976511227227756  |\n",
            "|   8    | 0.06741417497231453 | 0.14856042770470781  |\n",
            "|   9    | 0.06619908945490341 | 0.15811841337958524  |\n",
            "|   10   | 0.06378737541528236 | 0.17006146260139873  |\n",
            "+--------+---------------------+----------------------+\n",
            "[10 rows x 3 columns]\n",
            "\n",
            "\n",
            "Overall RMSE: 5.526610236208746\n",
            "\n",
            "Per User RMSE (best)\n",
            "+-----------+-----------------------+-------+\n",
            "|   UserID  |          rmse         | count |\n",
            "+-----------+-----------------------+-------+\n",
            "| 199236587 | 0.0011972407135703023 |   1   |\n",
            "+-----------+-----------------------+-------+\n",
            "[1 rows x 3 columns]\n",
            "\n",
            "\n",
            "Per User RMSE (worst)\n",
            "+-----------+-------------------+-------+\n",
            "|   UserID  |        rmse       | count |\n",
            "+-----------+-------------------+-------+\n",
            "| 157314597 | 168.3856743789246 |   2   |\n",
            "+-----------+-------------------+-------+\n",
            "[1 rows x 3 columns]\n",
            "\n",
            "\n",
            "Per Item RMSE (best)\n",
            "+----------------------+-----------------------+-------+\n",
            "|         Game         |          rmse         | count |\n",
            "+----------------------+-----------------------+-------+\n",
            "| Breath of Death VII  | 0.0007458249363638814 |   1   |\n",
            "+----------------------+-----------------------+-------+\n",
            "[1 rows x 3 columns]\n",
            "\n",
            "\n",
            "Per Item RMSE (worst)\n",
            "+--------+--------------------+-------+\n",
            "|  Game  |        rmse        | count |\n",
            "+--------+--------------------+-------+\n",
            "| Dota 2 | 40.564909884851225 |   71  |\n",
            "+--------+--------------------+-------+\n",
            "[1 rows x 3 columns]\n",
            "\n"
          ],
          "name": "stdout"
        },
        {
          "output_type": "stream",
          "text": [
            "/usr/local/lib/python3.6/dist-packages/turicreate/aggregate.py:92: UserWarning: Passing parameter(s) to COUNT is deprecated. This functionality will be removed in the next major release. Any passed parameters are ignored.\n",
            "  + 'the next major release. Any passed parameters are ignored.')\n"
          ],
          "name": "stderr"
        },
        {
          "output_type": "execute_result",
          "data": {
            "text/plain": [
              "{'precision_recall_by_user': Columns:\n",
              " \tUserID\tint\n",
              " \tcutoff\tint\n",
              " \tprecision\tfloat\n",
              " \trecall\tfloat\n",
              " \tcount\tint\n",
              " \n",
              " Rows: 16254\n",
              " \n",
              " Data:\n",
              " +----------+--------+-----------+--------+-------+\n",
              " |  UserID  | cutoff | precision | recall | count |\n",
              " +----------+--------+-----------+--------+-------+\n",
              " | 59945701 |   1    |    0.0    |  0.0   |   10  |\n",
              " | 59945701 |   2    |    0.0    |  0.0   |   10  |\n",
              " | 59945701 |   3    |    0.0    |  0.0   |   10  |\n",
              " | 59945701 |   4    |    0.0    |  0.0   |   10  |\n",
              " | 59945701 |   5    |    0.0    |  0.0   |   10  |\n",
              " | 59945701 |   6    |    0.0    |  0.0   |   10  |\n",
              " | 59945701 |   7    |    0.0    |  0.0   |   10  |\n",
              " | 59945701 |   8    |    0.0    |  0.0   |   10  |\n",
              " | 59945701 |   9    |    0.0    |  0.0   |   10  |\n",
              " | 59945701 |   10   |    0.0    |  0.0   |   10  |\n",
              " +----------+--------+-----------+--------+-------+\n",
              " [16254 rows x 5 columns]\n",
              " Note: Only the head of the SFrame is printed.\n",
              " You can use print_rows(num_rows=m, num_columns=n) to print more rows and columns.,\n",
              " 'precision_recall_overall': Columns:\n",
              " \tcutoff\tint\n",
              " \tprecision\tfloat\n",
              " \trecall\tfloat\n",
              " \n",
              " Rows: 18\n",
              " \n",
              " Data:\n",
              " +--------+---------------------+---------------------+\n",
              " | cutoff |      precision      |        recall       |\n",
              " +--------+---------------------+---------------------+\n",
              " |   1    | 0.05647840531561464 | 0.02040407627451428 |\n",
              " |   2    |  0.0858250276854928 |  0.0559541471299644 |\n",
              " |   3    | 0.09228497600590624 | 0.08466152707700995 |\n",
              " |   4    |  0.0888704318936877 | 0.10308389366679087 |\n",
              " |   5    |  0.0826135105204873 | 0.12062969722138325 |\n",
              " |   6    | 0.07622739018087857 |  0.1313941930716823 |\n",
              " |   7    |  0.0716658756525866 | 0.13976511227227736 |\n",
              " |   8    | 0.06741417497231451 |  0.1485604277047078 |\n",
              " |   9    | 0.06619908945490341 | 0.15811841337958518 |\n",
              " |   10   |  0.0637873754152824 | 0.17006146260139873 |\n",
              " +--------+---------------------+---------------------+\n",
              " [18 rows x 3 columns]\n",
              " Note: Only the head of the SFrame is printed.\n",
              " You can use print_rows(num_rows=m, num_columns=n) to print more rows and columns.,\n",
              " 'rmse_by_item': Columns:\n",
              " \tGame\tstr\n",
              " \trmse\tfloat\n",
              " \tcount\tint\n",
              " \n",
              " Rows: 1901\n",
              " \n",
              " Data:\n",
              " +-------------------------------+---------------------+-------+\n",
              " |              Game             |         rmse        | count |\n",
              " +-------------------------------+---------------------+-------+\n",
              " |        Space Engineers        |  1.2281526894229842 |   8   |\n",
              " |  Infestation Survivor Stories |  6.066572161898948  |   3   |\n",
              " |           Hell Yeah!          |  0.2684135690254555 |   2   |\n",
              " |      The Tiny Bang Story      |  2.4604595383372567 |   1   |\n",
              " |          EverQuest II         |  1.0618581278145418 |   2   |\n",
              " |   Arson & Plunder Unleashed   |  1.866222359773185  |   1   |\n",
              " |  Blood Bowl Legendary Edition |  1.1293144034832698 |   3   |\n",
              " |      Magicka Frozen Lake      |  1.6150579516768429 |   3   |\n",
              " |          Math Rescue          | 0.35912752949860305 |   1   |\n",
              " | RACE 07 - Formula RaceRoom... | 0.40569806897309035 |   1   |\n",
              " +-------------------------------+---------------------+-------+\n",
              " [1901 rows x 3 columns]\n",
              " Note: Only the head of the SFrame is printed.\n",
              " You can use print_rows(num_rows=m, num_columns=n) to print more rows and columns.,\n",
              " 'rmse_by_user': Columns:\n",
              " \tUserID\tint\n",
              " \trmse\tfloat\n",
              " \tcount\tint\n",
              " \n",
              " Rows: 903\n",
              " \n",
              " Data:\n",
              " +-----------+--------------------+-------+\n",
              " |   UserID  |        rmse        | count |\n",
              " +-----------+--------------------+-------+\n",
              " |  24841093 | 3.0537428771451136 |   2   |\n",
              " | 154296520 | 1.3938856833390405 |   8   |\n",
              " | 207009485 | 13.342643159054894 |   1   |\n",
              " |  61031710 | 5.927046525139328  |   1   |\n",
              " | 171965445 | 1.3326960193717672 |   1   |\n",
              " | 184807923 | 4.6174192626684505 |   3   |\n",
              " | 283922576 | 1.399609534579619  |   3   |\n",
              " | 196403090 | 6.830733587521377  |   4   |\n",
              " | 247887213 | 0.0733351675536893 |   1   |\n",
              " | 200524998 | 1.1341774456556077 |   1   |\n",
              " +-----------+--------------------+-------+\n",
              " [903 rows x 3 columns]\n",
              " Note: Only the head of the SFrame is printed.\n",
              " You can use print_rows(num_rows=m, num_columns=n) to print more rows and columns.,\n",
              " 'rmse_overall': 5.526610236208746}"
            ]
          },
          "metadata": {
            "tags": []
          },
          "execution_count": 101
        }
      ]
    },
    {
      "cell_type": "markdown",
      "metadata": {
        "id": "SjfYX4fqe5n5",
        "colab_type": "text"
      },
      "source": [
        "### Model 3 : Item Similarity Recommender - Training"
      ]
    },
    {
      "cell_type": "code",
      "metadata": {
        "id": "csRbBe_xdvoP",
        "colab_type": "code",
        "colab": {
          "base_uri": "https://localhost:8080/",
          "height": 434
        },
        "outputId": "ef47303e-e576-41be-8afb-4f816ea7773a"
      },
      "source": [
        "model3C = tc.item_similarity_recommender.create(train_set2,\n",
        "\t\t\t                              user_id='UserID',\n",
        "                                    item_id='Game',\n",
        "                                    target='Ranking')"
      ],
      "execution_count": 95,
      "outputs": [
        {
          "output_type": "display_data",
          "data": {
            "text/html": [
              "<pre>Warning: Ignoring columns Played_hours;</pre>"
            ],
            "text/plain": [
              "Warning: Ignoring columns Played_hours;"
            ]
          },
          "metadata": {
            "tags": []
          }
        },
        {
          "output_type": "display_data",
          "data": {
            "text/html": [
              "<pre>    To use these columns in scoring predictions, use a model that allows the use of additional features.</pre>"
            ],
            "text/plain": [
              "    To use these columns in scoring predictions, use a model that allows the use of additional features."
            ]
          },
          "metadata": {
            "tags": []
          }
        },
        {
          "output_type": "display_data",
          "data": {
            "text/html": [
              "<pre>Preparing data set.</pre>"
            ],
            "text/plain": [
              "Preparing data set."
            ]
          },
          "metadata": {
            "tags": []
          }
        },
        {
          "output_type": "display_data",
          "data": {
            "text/html": [
              "<pre>    Data has 109726 observations with 3761 users and 5035 items.</pre>"
            ],
            "text/plain": [
              "    Data has 109726 observations with 3761 users and 5035 items."
            ]
          },
          "metadata": {
            "tags": []
          }
        },
        {
          "output_type": "display_data",
          "data": {
            "text/html": [
              "<pre>    Data prepared in: 0.136466s</pre>"
            ],
            "text/plain": [
              "    Data prepared in: 0.136466s"
            ]
          },
          "metadata": {
            "tags": []
          }
        },
        {
          "output_type": "display_data",
          "data": {
            "text/html": [
              "<pre>Training model from provided data.</pre>"
            ],
            "text/plain": [
              "Training model from provided data."
            ]
          },
          "metadata": {
            "tags": []
          }
        },
        {
          "output_type": "display_data",
          "data": {
            "text/html": [
              "<pre>Gathering per-item and per-user statistics.</pre>"
            ],
            "text/plain": [
              "Gathering per-item and per-user statistics."
            ]
          },
          "metadata": {
            "tags": []
          }
        },
        {
          "output_type": "display_data",
          "data": {
            "text/html": [
              "<pre>+--------------------------------+------------+</pre>"
            ],
            "text/plain": [
              "+--------------------------------+------------+"
            ]
          },
          "metadata": {
            "tags": []
          }
        },
        {
          "output_type": "display_data",
          "data": {
            "text/html": [
              "<pre>| Elapsed Time (Item Statistics) | % Complete |</pre>"
            ],
            "text/plain": [
              "| Elapsed Time (Item Statistics) | % Complete |"
            ]
          },
          "metadata": {
            "tags": []
          }
        },
        {
          "output_type": "display_data",
          "data": {
            "text/html": [
              "<pre>+--------------------------------+------------+</pre>"
            ],
            "text/plain": [
              "+--------------------------------+------------+"
            ]
          },
          "metadata": {
            "tags": []
          }
        },
        {
          "output_type": "display_data",
          "data": {
            "text/html": [
              "<pre>| 11.304ms                       | 26.5       |</pre>"
            ],
            "text/plain": [
              "| 11.304ms                       | 26.5       |"
            ]
          },
          "metadata": {
            "tags": []
          }
        },
        {
          "output_type": "display_data",
          "data": {
            "text/html": [
              "<pre>| 15.022ms                       | 100        |</pre>"
            ],
            "text/plain": [
              "| 15.022ms                       | 100        |"
            ]
          },
          "metadata": {
            "tags": []
          }
        },
        {
          "output_type": "display_data",
          "data": {
            "text/html": [
              "<pre>+--------------------------------+------------+</pre>"
            ],
            "text/plain": [
              "+--------------------------------+------------+"
            ]
          },
          "metadata": {
            "tags": []
          }
        },
        {
          "output_type": "display_data",
          "data": {
            "text/html": [
              "<pre>Setting up lookup tables.</pre>"
            ],
            "text/plain": [
              "Setting up lookup tables."
            ]
          },
          "metadata": {
            "tags": []
          }
        },
        {
          "output_type": "display_data",
          "data": {
            "text/html": [
              "<pre>Processing data in one pass using dense lookup tables.</pre>"
            ],
            "text/plain": [
              "Processing data in one pass using dense lookup tables."
            ]
          },
          "metadata": {
            "tags": []
          }
        },
        {
          "output_type": "display_data",
          "data": {
            "text/html": [
              "<pre>+-------------------------------------+------------------+-----------------+</pre>"
            ],
            "text/plain": [
              "+-------------------------------------+------------------+-----------------+"
            ]
          },
          "metadata": {
            "tags": []
          }
        },
        {
          "output_type": "display_data",
          "data": {
            "text/html": [
              "<pre>| Elapsed Time (Constructing Lookups) | Total % Complete | Items Processed |</pre>"
            ],
            "text/plain": [
              "| Elapsed Time (Constructing Lookups) | Total % Complete | Items Processed |"
            ]
          },
          "metadata": {
            "tags": []
          }
        },
        {
          "output_type": "display_data",
          "data": {
            "text/html": [
              "<pre>+-------------------------------------+------------------+-----------------+</pre>"
            ],
            "text/plain": [
              "+-------------------------------------+------------------+-----------------+"
            ]
          },
          "metadata": {
            "tags": []
          }
        },
        {
          "output_type": "display_data",
          "data": {
            "text/html": [
              "<pre>| 61.951ms                            | 0                | 0               |</pre>"
            ],
            "text/plain": [
              "| 61.951ms                            | 0                | 0               |"
            ]
          },
          "metadata": {
            "tags": []
          }
        },
        {
          "output_type": "display_data",
          "data": {
            "text/html": [
              "<pre>| 504.164ms                           | 100              | 5035            |</pre>"
            ],
            "text/plain": [
              "| 504.164ms                           | 100              | 5035            |"
            ]
          },
          "metadata": {
            "tags": []
          }
        },
        {
          "output_type": "display_data",
          "data": {
            "text/html": [
              "<pre>+-------------------------------------+------------------+-----------------+</pre>"
            ],
            "text/plain": [
              "+-------------------------------------+------------------+-----------------+"
            ]
          },
          "metadata": {
            "tags": []
          }
        },
        {
          "output_type": "display_data",
          "data": {
            "text/html": [
              "<pre>Finalizing lookup tables.</pre>"
            ],
            "text/plain": [
              "Finalizing lookup tables."
            ]
          },
          "metadata": {
            "tags": []
          }
        },
        {
          "output_type": "display_data",
          "data": {
            "text/html": [
              "<pre>Generating candidate set for working with new users.</pre>"
            ],
            "text/plain": [
              "Generating candidate set for working with new users."
            ]
          },
          "metadata": {
            "tags": []
          }
        },
        {
          "output_type": "display_data",
          "data": {
            "text/html": [
              "<pre>Finished training in 0.528446s</pre>"
            ],
            "text/plain": [
              "Finished training in 0.528446s"
            ]
          },
          "metadata": {
            "tags": []
          }
        }
      ]
    },
    {
      "cell_type": "markdown",
      "metadata": {
        "id": "wcQDYdNwfCEC",
        "colab_type": "text"
      },
      "source": [
        "### Model 3 : Item Similarity Recommender - Testing"
      ]
    },
    {
      "cell_type": "code",
      "metadata": {
        "id": "Wxl6y0Jfdl3p",
        "colab_type": "code",
        "colab": {
          "base_uri": "https://localhost:8080/",
          "height": 1000
        },
        "outputId": "c8bdef74-3d67-46d9-e3d4-fd50bae3dfb5"
      },
      "source": [
        "model3C.evaluate(test_set2)"
      ],
      "execution_count": 98,
      "outputs": [
        {
          "output_type": "stream",
          "text": [
            "/usr/local/lib/python3.6/dist-packages/turicreate/aggregate.py:92: UserWarning: Passing parameter(s) to COUNT is deprecated. This functionality will be removed in the next major release. Any passed parameters are ignored.\n",
            "  + 'the next major release. Any passed parameters are ignored.')\n"
          ],
          "name": "stderr"
        },
        {
          "output_type": "stream",
          "text": [
            "\n",
            "Precision and recall summary statistics by cutoff\n",
            "+--------+---------------------+---------------------+\n",
            "| cutoff |    mean_precision   |     mean_recall     |\n",
            "+--------+---------------------+---------------------+\n",
            "|   1    |  0.4695459579180509 | 0.17801340812324148 |\n",
            "|   2    |  0.3704318936877078 | 0.25369770744080505 |\n",
            "|   3    |  0.301218161683278  |  0.2886499908653039 |\n",
            "|   4    | 0.25526024363233674 | 0.31338863532185574 |\n",
            "|   5    | 0.22414174972314507 |  0.3333855016947847 |\n",
            "|   6    |  0.2033960871170174 | 0.35095555007932827 |\n",
            "|   7    | 0.18652112007593738 |  0.3681066895381865 |\n",
            "|   8    |  0.1705426356589147 |  0.3777562956910776 |\n",
            "|   9    | 0.15885320536483316 |  0.3889573115375226 |\n",
            "|   10   | 0.14961240310077528 |  0.4012447681034705 |\n",
            "+--------+---------------------+---------------------+\n",
            "[10 rows x 3 columns]\n",
            "\n",
            "\n",
            "Overall RMSE: 2.4146158152424086\n",
            "\n",
            "Per User RMSE (best)\n",
            "+----------+--------------------+-------+\n",
            "|  UserID  |        rmse        | count |\n",
            "+----------+--------------------+-------+\n",
            "| 35394734 | 0.3383036198770404 |   2   |\n",
            "+----------+--------------------+-------+\n",
            "[1 rows x 3 columns]\n",
            "\n",
            "\n",
            "Per User RMSE (worst)\n",
            "+-----------+------+-------+\n",
            "|   UserID  | rmse | count |\n",
            "+-----------+------+-------+\n",
            "| 254497372 | 10.0 |   1   |\n",
            "+-----------+------+-------+\n",
            "[1 rows x 3 columns]\n",
            "\n",
            "\n",
            "Per Item RMSE (best)\n",
            "+---------------+--------------------+-------+\n",
            "|      Game     |        rmse        | count |\n",
            "+---------------+--------------------+-------+\n",
            "| Tomb Raider I | 0.4216430336236954 |   1   |\n",
            "+---------------+--------------------+-------+\n",
            "[1 rows x 3 columns]\n",
            "\n",
            "\n",
            "Per Item RMSE (worst)\n",
            "+-------------+------+-------+\n",
            "|     Game    | rmse | count |\n",
            "+-------------+------+-------+\n",
            "| Gems of War | 10.0 |   1   |\n",
            "+-------------+------+-------+\n",
            "[1 rows x 3 columns]\n",
            "\n"
          ],
          "name": "stdout"
        },
        {
          "output_type": "execute_result",
          "data": {
            "text/plain": [
              "{'precision_recall_by_user': Columns:\n",
              " \tUserID\tint\n",
              " \tcutoff\tint\n",
              " \tprecision\tfloat\n",
              " \trecall\tfloat\n",
              " \tcount\tint\n",
              " \n",
              " Rows: 16254\n",
              " \n",
              " Data:\n",
              " +----------+--------+---------------------+--------+-------+\n",
              " |  UserID  | cutoff |      precision      | recall | count |\n",
              " +----------+--------+---------------------+--------+-------+\n",
              " | 59945701 |   1    |         0.0         |  0.0   |   10  |\n",
              " | 59945701 |   2    |         0.5         |  0.1   |   10  |\n",
              " | 59945701 |   3    |  0.6666666666666666 |  0.2   |   10  |\n",
              " | 59945701 |   4    |         0.5         |  0.2   |   10  |\n",
              " | 59945701 |   5    |         0.4         |  0.2   |   10  |\n",
              " | 59945701 |   6    |  0.3333333333333333 |  0.2   |   10  |\n",
              " | 59945701 |   7    | 0.42857142857142855 |  0.3   |   10  |\n",
              " | 59945701 |   8    |        0.375        |  0.3   |   10  |\n",
              " | 59945701 |   9    |  0.3333333333333333 |  0.3   |   10  |\n",
              " | 59945701 |   10   |         0.3         |  0.3   |   10  |\n",
              " +----------+--------+---------------------+--------+-------+\n",
              " [16254 rows x 5 columns]\n",
              " Note: Only the head of the SFrame is printed.\n",
              " You can use print_rows(num_rows=m, num_columns=n) to print more rows and columns.,\n",
              " 'precision_recall_overall': Columns:\n",
              " \tcutoff\tint\n",
              " \tprecision\tfloat\n",
              " \trecall\tfloat\n",
              " \n",
              " Rows: 18\n",
              " \n",
              " Data:\n",
              " +--------+---------------------+---------------------+\n",
              " | cutoff |      precision      |        recall       |\n",
              " +--------+---------------------+---------------------+\n",
              " |   1    |  0.469545957918051  | 0.17801340812324146 |\n",
              " |   2    |  0.3704318936877076 | 0.25369770744080483 |\n",
              " |   3    |  0.3012181616832776 |  0.288649990865304  |\n",
              " |   4    |  0.2552602436323367 |  0.3133886353218555 |\n",
              " |   5    |  0.224141749723145  | 0.33338550169478437 |\n",
              " |   6    | 0.20339608711701737 |  0.3509555500793282 |\n",
              " |   7    | 0.18652112007593746 | 0.36810668953818654 |\n",
              " |   8    | 0.17054263565891473 | 0.37775629569107794 |\n",
              " |   9    | 0.15885320536483327 |  0.3889573115375228 |\n",
              " |   10   | 0.14961240310077512 | 0.40124476810347076 |\n",
              " +--------+---------------------+---------------------+\n",
              " [18 rows x 3 columns]\n",
              " Note: Only the head of the SFrame is printed.\n",
              " You can use print_rows(num_rows=m, num_columns=n) to print more rows and columns.,\n",
              " 'rmse_by_item': Columns:\n",
              " \tGame\tstr\n",
              " \trmse\tfloat\n",
              " \tcount\tint\n",
              " \n",
              " Rows: 1901\n",
              " \n",
              " Data:\n",
              " +-------------------------------+--------------------+-------+\n",
              " |              Game             |        rmse        | count |\n",
              " +-------------------------------+--------------------+-------+\n",
              " |        Space Engineers        | 1.9633602926394425 |   8   |\n",
              " |  Infestation Survivor Stories | 5.829816819365836  |   3   |\n",
              " |           Hell Yeah!          | 0.9812834165824738 |   2   |\n",
              " |      The Tiny Bang Story      | 0.9979224377556851 |   1   |\n",
              " |          EverQuest II         | 0.8812750082633083 |   2   |\n",
              " |   Arson & Plunder Unleashed   |        1.0         |   1   |\n",
              " |  Blood Bowl Legendary Edition | 1.3824485969927363 |   3   |\n",
              " |      Magicka Frozen Lake      | 0.9422454976155717 |   3   |\n",
              " |          Math Rescue          | 0.9799511700068229 |   1   |\n",
              " | RACE 07 - Formula RaceRoom... | 0.9949639248641539 |   1   |\n",
              " +-------------------------------+--------------------+-------+\n",
              " [1901 rows x 3 columns]\n",
              " Note: Only the head of the SFrame is printed.\n",
              " You can use print_rows(num_rows=m, num_columns=n) to print more rows and columns.,\n",
              " 'rmse_by_user': Columns:\n",
              " \tUserID\tint\n",
              " \trmse\tfloat\n",
              " \tcount\tint\n",
              " \n",
              " Rows: 903\n",
              " \n",
              " Data:\n",
              " +-----------+--------------------+-------+\n",
              " |   UserID  |        rmse        | count |\n",
              " +-----------+--------------------+-------+\n",
              " |  24841093 | 1.9440032499093034 |   2   |\n",
              " | 154296520 | 1.3776877113646133 |   8   |\n",
              " | 207009485 |  9.85458669397566  |   1   |\n",
              " |  61031710 |  9.63742284476757  |   1   |\n",
              " | 171965445 | 0.9282354235649108 |   1   |\n",
              " | 184807923 | 4.967307269404032  |   3   |\n",
              " | 283922576 | 1.3980320850355286 |   3   |\n",
              " | 196403090 | 5.0507119175300685 |   4   |\n",
              " | 247887213 |        1.0         |   1   |\n",
              " | 200524998 | 0.8944465517997742 |   1   |\n",
              " +-----------+--------------------+-------+\n",
              " [903 rows x 3 columns]\n",
              " Note: Only the head of the SFrame is printed.\n",
              " You can use print_rows(num_rows=m, num_columns=n) to print more rows and columns.,\n",
              " 'rmse_overall': 2.4146158152424086}"
            ]
          },
          "metadata": {
            "tags": []
          },
          "execution_count": 98
        }
      ]
    },
    {
      "cell_type": "markdown",
      "metadata": {
        "id": "P4aov9NNgwSh",
        "colab_type": "text"
      },
      "source": [
        "### Compilation of Results"
      ]
    },
    {
      "cell_type": "code",
      "metadata": {
        "id": "d59oqEo5d6Vn",
        "colab_type": "code",
        "colab": {
          "base_uri": "https://localhost:8080/",
          "height": 143
        },
        "outputId": "63f444dd-a026-4506-a77b-f02e82682af4"
      },
      "source": [
        "Data = {'Factorization Recommender RMSE':  ['4.499 ', '4.128'],\n",
        "        'Ranking Factorization Recommender RMSE': ['8.479','5.526'],\n",
        "        'Item Similarity RMSE':  ['3.004', '2.414'],\n",
        "         'Actions':[\"Original\",\"Cleaned\"]}\n",
        "\n",
        "tab = pd.DataFrame (Data, columns = ['Factorization Recommender RMSE','Ranking Factorization Recommender RMSE','Item Similarity RMSE','Actions'])\n",
        "tab.set_index(\"Actions\",inplace = True)\n",
        "tab"
      ],
      "execution_count": 103,
      "outputs": [
        {
          "output_type": "execute_result",
          "data": {
            "text/html": [
              "<div>\n",
              "<style scoped>\n",
              "    .dataframe tbody tr th:only-of-type {\n",
              "        vertical-align: middle;\n",
              "    }\n",
              "\n",
              "    .dataframe tbody tr th {\n",
              "        vertical-align: top;\n",
              "    }\n",
              "\n",
              "    .dataframe thead th {\n",
              "        text-align: right;\n",
              "    }\n",
              "</style>\n",
              "<table border=\"1\" class=\"dataframe\">\n",
              "  <thead>\n",
              "    <tr style=\"text-align: right;\">\n",
              "      <th></th>\n",
              "      <th>Factorization Recommender RMSE</th>\n",
              "      <th>Ranking Factorization Recommender RMSE</th>\n",
              "      <th>Item Similarity RMSE</th>\n",
              "    </tr>\n",
              "    <tr>\n",
              "      <th>Actions</th>\n",
              "      <th></th>\n",
              "      <th></th>\n",
              "      <th></th>\n",
              "    </tr>\n",
              "  </thead>\n",
              "  <tbody>\n",
              "    <tr>\n",
              "      <th>Original</th>\n",
              "      <td>4.499</td>\n",
              "      <td>8.479</td>\n",
              "      <td>3.004</td>\n",
              "    </tr>\n",
              "    <tr>\n",
              "      <th>Cleaned</th>\n",
              "      <td>4.128</td>\n",
              "      <td>5.526</td>\n",
              "      <td>2.414</td>\n",
              "    </tr>\n",
              "  </tbody>\n",
              "</table>\n",
              "</div>"
            ],
            "text/plain": [
              "         Factorization Recommender RMSE  ... Item Similarity RMSE\n",
              "Actions                                  ...                     \n",
              "Original                         4.499   ...                3.004\n",
              "Cleaned                           4.128  ...                2.414\n",
              "\n",
              "[2 rows x 3 columns]"
            ]
          },
          "metadata": {
            "tags": []
          },
          "execution_count": 103
        }
      ]
    },
    {
      "cell_type": "code",
      "metadata": {
        "id": "nXE1qRFshyEc",
        "colab_type": "code",
        "colab": {}
      },
      "source": [
        ""
      ],
      "execution_count": 0,
      "outputs": []
    }
  ]
}