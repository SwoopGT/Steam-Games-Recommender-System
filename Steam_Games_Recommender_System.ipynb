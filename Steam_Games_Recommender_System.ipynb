{
  "nbformat": 4,
  "nbformat_minor": 0,
  "metadata": {
    "kernelspec": {
      "name": "python3",
      "display_name": "Python 3"
    },
    "language_info": {
      "pygments_lexer": "ipython3",
      "nbconvert_exporter": "python",
      "version": "3.6.4",
      "file_extension": ".py",
      "codemirror_mode": {
        "name": "ipython",
        "version": 3
      },
      "name": "python",
      "mimetype": "text/x-python"
    },
    "colab": {
      "name": "Steam Games Recommender System.ipynb",
      "provenance": []
    },
    "accelerator": "GPU"
  },
  "cells": [
    {
      "cell_type": "markdown",
      "metadata": {
        "id": "Q8cjGC4alTev",
        "colab_type": "text"
      },
      "source": [
        "# SECTION 1 - PRE PROCESSING"
      ]
    },
    {
      "cell_type": "markdown",
      "metadata": {
        "id": "HB9sFQKtlgkD",
        "colab_type": "text"
      },
      "source": [
        "### Install Turicreate"
      ]
    },
    {
      "cell_type": "code",
      "metadata": {
        "id": "ddSs02oAjHEZ",
        "colab_type": "code",
        "colab": {}
      },
      "source": [
        "!pip install turicreate"
      ],
      "execution_count": 0,
      "outputs": []
    },
    {
      "cell_type": "markdown",
      "metadata": {
        "id": "NDHlTFz0lZly",
        "colab_type": "text"
      },
      "source": [
        "### Import necessary Libraries"
      ]
    },
    {
      "cell_type": "code",
      "metadata": {
        "_uuid": "8f2839f25d086af736a60e9eeb907d3b93b6e0e5",
        "_cell_guid": "b1076dfc-b9ad-4769-8c92-a6c4dae69d19",
        "trusted": true,
        "id": "YuK_GFuNHT0u",
        "colab_type": "code",
        "colab": {}
      },
      "source": [
        "\n",
        "import numpy as np # linear algebra\n",
        "import pandas as pd # data processing, CSV file I/O (e.g. pd.read_csv)\n",
        "import turicreate as tc # Turicreate library for recommendations"
      ],
      "execution_count": 0,
      "outputs": []
    },
    {
      "cell_type": "markdown",
      "metadata": {
        "id": "fJDDt_iIldyD",
        "colab_type": "text"
      },
      "source": [
        "### Google Drive Pre Requisite"
      ]
    },
    {
      "cell_type": "code",
      "metadata": {
        "id": "iFhHIRu1ILU3",
        "colab_type": "code",
        "colab": {}
      },
      "source": [
        "# Code to read csv file into Colaboratory:\n",
        "from pydrive.auth import GoogleAuth\n",
        "from pydrive.drive import GoogleDrive\n",
        "from google.colab import auth\n",
        "from oauth2client.client import GoogleCredentials \n",
        "\n",
        "# Authenticate and create the PyDrive client.\n",
        "auth.authenticate_user()\n",
        "gauth = GoogleAuth()\n",
        "gauth.credentials = GoogleCredentials.get_application_default()\n",
        "drive = GoogleDrive(gauth)\n"
      ],
      "execution_count": 0,
      "outputs": []
    },
    {
      "cell_type": "code",
      "metadata": {
        "id": "g9xVoOmrIaEm",
        "colab_type": "code",
        "colab": {}
      },
      "source": [
        "link = 'https://drive.google.com/open?id=1dJ2MmNB9_UG3R5HZohSIqqu_dC0_N-S2'\n",
        "\n",
        "fluff, id = link.split('=')\n",
        "\n",
        "print (id) # Verify that you have everything after '='"
      ],
      "execution_count": 0,
      "outputs": []
    },
    {
      "cell_type": "markdown",
      "metadata": {
        "id": "O0VOabB3logg",
        "colab_type": "text"
      },
      "source": [
        "### Read data from the file."
      ]
    },
    {
      "cell_type": "code",
      "metadata": {
        "id": "JxLskfmkIRGd",
        "colab_type": "code",
        "outputId": "6a14b63e-fe83-45eb-91c2-682aab9ae9eb",
        "colab": {
          "base_uri": "https://localhost:8080/",
          "height": 206
        }
      },
      "source": [
        "downloaded = drive.CreateFile({'id':id}) \n",
        "downloaded.GetContentFile(\"steam-200k.csv\")  \n",
        "df = pd.read_csv(\"steam-200k.csv\", header=None, index_col=None, names=['UserID', 'Game', 'Action', 'Hours', 'Other'])\n",
        "df.head()"
      ],
      "execution_count": 5,
      "outputs": [
        {
          "output_type": "execute_result",
          "data": {
            "text/html": [
              "<div>\n",
              "<style scoped>\n",
              "    .dataframe tbody tr th:only-of-type {\n",
              "        vertical-align: middle;\n",
              "    }\n",
              "\n",
              "    .dataframe tbody tr th {\n",
              "        vertical-align: top;\n",
              "    }\n",
              "\n",
              "    .dataframe thead th {\n",
              "        text-align: right;\n",
              "    }\n",
              "</style>\n",
              "<table border=\"1\" class=\"dataframe\">\n",
              "  <thead>\n",
              "    <tr style=\"text-align: right;\">\n",
              "      <th></th>\n",
              "      <th>UserID</th>\n",
              "      <th>Game</th>\n",
              "      <th>Action</th>\n",
              "      <th>Hours</th>\n",
              "      <th>Other</th>\n",
              "    </tr>\n",
              "  </thead>\n",
              "  <tbody>\n",
              "    <tr>\n",
              "      <th>0</th>\n",
              "      <td>151603712</td>\n",
              "      <td>The Elder Scrolls V Skyrim</td>\n",
              "      <td>purchase</td>\n",
              "      <td>1.0</td>\n",
              "      <td>0</td>\n",
              "    </tr>\n",
              "    <tr>\n",
              "      <th>1</th>\n",
              "      <td>151603712</td>\n",
              "      <td>The Elder Scrolls V Skyrim</td>\n",
              "      <td>play</td>\n",
              "      <td>273.0</td>\n",
              "      <td>0</td>\n",
              "    </tr>\n",
              "    <tr>\n",
              "      <th>2</th>\n",
              "      <td>151603712</td>\n",
              "      <td>Fallout 4</td>\n",
              "      <td>purchase</td>\n",
              "      <td>1.0</td>\n",
              "      <td>0</td>\n",
              "    </tr>\n",
              "    <tr>\n",
              "      <th>3</th>\n",
              "      <td>151603712</td>\n",
              "      <td>Fallout 4</td>\n",
              "      <td>play</td>\n",
              "      <td>87.0</td>\n",
              "      <td>0</td>\n",
              "    </tr>\n",
              "    <tr>\n",
              "      <th>4</th>\n",
              "      <td>151603712</td>\n",
              "      <td>Spore</td>\n",
              "      <td>purchase</td>\n",
              "      <td>1.0</td>\n",
              "      <td>0</td>\n",
              "    </tr>\n",
              "  </tbody>\n",
              "</table>\n",
              "</div>"
            ],
            "text/plain": [
              "      UserID                        Game    Action  Hours  Other\n",
              "0  151603712  The Elder Scrolls V Skyrim  purchase    1.0      0\n",
              "1  151603712  The Elder Scrolls V Skyrim      play  273.0      0\n",
              "2  151603712                   Fallout 4  purchase    1.0      0\n",
              "3  151603712                   Fallout 4      play   87.0      0\n",
              "4  151603712                       Spore  purchase    1.0      0"
            ]
          },
          "metadata": {
            "tags": []
          },
          "execution_count": 5
        }
      ]
    },
    {
      "cell_type": "markdown",
      "metadata": {
        "id": "6RVUII89lvCK",
        "colab_type": "text"
      },
      "source": [
        "### Check shape of the dataset"
      ]
    },
    {
      "cell_type": "code",
      "metadata": {
        "trusted": true,
        "id": "o_2aCIXuHT1G",
        "colab_type": "code",
        "outputId": "b0484f84-96a2-4673-a01a-ff1a0d633e1d",
        "colab": {
          "base_uri": "https://localhost:8080/",
          "height": 35
        }
      },
      "source": [
        "df.shape"
      ],
      "execution_count": 6,
      "outputs": [
        {
          "output_type": "execute_result",
          "data": {
            "text/plain": [
              "(200000, 5)"
            ]
          },
          "metadata": {
            "tags": []
          },
          "execution_count": 6
        }
      ]
    },
    {
      "cell_type": "markdown",
      "metadata": {
        "id": "hVHpPeddl38p",
        "colab_type": "text"
      },
      "source": [
        "### Check the datatypes of the columns"
      ]
    },
    {
      "cell_type": "code",
      "metadata": {
        "trusted": true,
        "id": "-Dk3_fwmHT1S",
        "colab_type": "code",
        "outputId": "879dd747-5f60-4bab-af49-3d8e7dcd0385",
        "colab": {
          "base_uri": "https://localhost:8080/",
          "height": 196
        }
      },
      "source": [
        "df.info()"
      ],
      "execution_count": 7,
      "outputs": [
        {
          "output_type": "stream",
          "text": [
            "<class 'pandas.core.frame.DataFrame'>\n",
            "RangeIndex: 200000 entries, 0 to 199999\n",
            "Data columns (total 5 columns):\n",
            "UserID    200000 non-null int64\n",
            "Game      200000 non-null object\n",
            "Action    200000 non-null object\n",
            "Hours     200000 non-null float64\n",
            "Other     200000 non-null int64\n",
            "dtypes: float64(1), int64(2), object(2)\n",
            "memory usage: 7.6+ MB\n"
          ],
          "name": "stdout"
        }
      ]
    },
    {
      "cell_type": "markdown",
      "metadata": {
        "id": "S8jx0u6vl9MQ",
        "colab_type": "text"
      },
      "source": [
        "### Check the values in \"Other\" column"
      ]
    },
    {
      "cell_type": "code",
      "metadata": {
        "trusted": true,
        "id": "7NixUGjqHT0_",
        "colab_type": "code",
        "outputId": "f14b0fea-c71a-49bb-905e-02f20cac94a6",
        "colab": {
          "base_uri": "https://localhost:8080/",
          "height": 53
        }
      },
      "source": [
        "df[\"Other\"].value_counts()"
      ],
      "execution_count": 8,
      "outputs": [
        {
          "output_type": "execute_result",
          "data": {
            "text/plain": [
              "0    200000\n",
              "Name: Other, dtype: int64"
            ]
          },
          "metadata": {
            "tags": []
          },
          "execution_count": 8
        }
      ]
    },
    {
      "cell_type": "markdown",
      "metadata": {
        "id": "LkdurC48mJLv",
        "colab_type": "text"
      },
      "source": [
        "### Remove the column"
      ]
    },
    {
      "cell_type": "code",
      "metadata": {
        "trusted": true,
        "id": "ezfRCr0qHT1X",
        "colab_type": "code",
        "colab": {}
      },
      "source": [
        "df.drop([\"Other\"],axis=1,inplace = True)"
      ],
      "execution_count": 0,
      "outputs": []
    },
    {
      "cell_type": "markdown",
      "metadata": {
        "id": "GKn19HdYmQt_",
        "colab_type": "text"
      },
      "source": [
        "### Statistical Information"
      ]
    },
    {
      "cell_type": "code",
      "metadata": {
        "id": "AClxH5UMP04E",
        "colab_type": "code",
        "outputId": "ad95b1e6-2b25-405f-9548-22963a439af0",
        "colab": {
          "base_uri": "https://localhost:8080/",
          "height": 178
        }
      },
      "source": [
        "df.loc[df[\"Action\"]==\"play\",\"Hours\"].describe()"
      ],
      "execution_count": 10,
      "outputs": [
        {
          "output_type": "execute_result",
          "data": {
            "text/plain": [
              "count    70489.000000\n",
              "mean        48.878063\n",
              "std        229.335236\n",
              "min          0.100000\n",
              "25%          1.000000\n",
              "50%          4.500000\n",
              "75%         19.100000\n",
              "max      11754.000000\n",
              "Name: Hours, dtype: float64"
            ]
          },
          "metadata": {
            "tags": []
          },
          "execution_count": 10
        }
      ]
    },
    {
      "cell_type": "markdown",
      "metadata": {
        "id": "thjgesJvoJli",
        "colab_type": "text"
      },
      "source": [
        "# SECTION 2 - RANKING"
      ]
    },
    {
      "cell_type": "markdown",
      "metadata": {
        "id": "UVtoNTJVmdRo",
        "colab_type": "text"
      },
      "source": [
        "### Dataset"
      ]
    },
    {
      "cell_type": "code",
      "metadata": {
        "trusted": true,
        "id": "Z40BZ1eTHT1a",
        "colab_type": "code",
        "outputId": "4a16adfa-ee8b-4d16-d760-5144eb9c14e1",
        "colab": {
          "base_uri": "https://localhost:8080/",
          "height": 206
        }
      },
      "source": [
        "df.head()"
      ],
      "execution_count": 11,
      "outputs": [
        {
          "output_type": "execute_result",
          "data": {
            "text/html": [
              "<div>\n",
              "<style scoped>\n",
              "    .dataframe tbody tr th:only-of-type {\n",
              "        vertical-align: middle;\n",
              "    }\n",
              "\n",
              "    .dataframe tbody tr th {\n",
              "        vertical-align: top;\n",
              "    }\n",
              "\n",
              "    .dataframe thead th {\n",
              "        text-align: right;\n",
              "    }\n",
              "</style>\n",
              "<table border=\"1\" class=\"dataframe\">\n",
              "  <thead>\n",
              "    <tr style=\"text-align: right;\">\n",
              "      <th></th>\n",
              "      <th>UserID</th>\n",
              "      <th>Game</th>\n",
              "      <th>Action</th>\n",
              "      <th>Hours</th>\n",
              "    </tr>\n",
              "  </thead>\n",
              "  <tbody>\n",
              "    <tr>\n",
              "      <th>0</th>\n",
              "      <td>151603712</td>\n",
              "      <td>The Elder Scrolls V Skyrim</td>\n",
              "      <td>purchase</td>\n",
              "      <td>1.0</td>\n",
              "    </tr>\n",
              "    <tr>\n",
              "      <th>1</th>\n",
              "      <td>151603712</td>\n",
              "      <td>The Elder Scrolls V Skyrim</td>\n",
              "      <td>play</td>\n",
              "      <td>273.0</td>\n",
              "    </tr>\n",
              "    <tr>\n",
              "      <th>2</th>\n",
              "      <td>151603712</td>\n",
              "      <td>Fallout 4</td>\n",
              "      <td>purchase</td>\n",
              "      <td>1.0</td>\n",
              "    </tr>\n",
              "    <tr>\n",
              "      <th>3</th>\n",
              "      <td>151603712</td>\n",
              "      <td>Fallout 4</td>\n",
              "      <td>play</td>\n",
              "      <td>87.0</td>\n",
              "    </tr>\n",
              "    <tr>\n",
              "      <th>4</th>\n",
              "      <td>151603712</td>\n",
              "      <td>Spore</td>\n",
              "      <td>purchase</td>\n",
              "      <td>1.0</td>\n",
              "    </tr>\n",
              "  </tbody>\n",
              "</table>\n",
              "</div>"
            ],
            "text/plain": [
              "      UserID                        Game    Action  Hours\n",
              "0  151603712  The Elder Scrolls V Skyrim  purchase    1.0\n",
              "1  151603712  The Elder Scrolls V Skyrim      play  273.0\n",
              "2  151603712                   Fallout 4  purchase    1.0\n",
              "3  151603712                   Fallout 4      play   87.0\n",
              "4  151603712                       Spore  purchase    1.0"
            ]
          },
          "metadata": {
            "tags": []
          },
          "execution_count": 11
        }
      ]
    },
    {
      "cell_type": "markdown",
      "metadata": {
        "id": "-rjg7LmcmgKK",
        "colab_type": "text"
      },
      "source": [
        "### Groupby using Actions"
      ]
    },
    {
      "cell_type": "code",
      "metadata": {
        "trusted": true,
        "id": "k2KvqZoNHT1r",
        "colab_type": "code",
        "outputId": "de6d7ea9-203c-40fd-c8e3-0fe0f63a761a",
        "colab": {
          "base_uri": "https://localhost:8080/",
          "height": 499
        }
      },
      "source": [
        "df_group_values = df.groupby([\"UserID\",\"Action\"]).size()\n",
        "df_group_values.head(25)"
      ],
      "execution_count": 12,
      "outputs": [
        {
          "output_type": "execute_result",
          "data": {
            "text/plain": [
              "UserID  Action  \n",
              "5250    play          6\n",
              "        purchase     21\n",
              "76767   play         20\n",
              "        purchase     36\n",
              "86540   play         15\n",
              "        purchase     82\n",
              "103360  purchase     10\n",
              "144736  play          1\n",
              "        purchase      8\n",
              "181212  play          2\n",
              "        purchase     12\n",
              "229911  play         18\n",
              "        purchase     27\n",
              "298950  play        175\n",
              "        purchase    259\n",
              "299153  purchase     14\n",
              "381543  play          1\n",
              "        purchase     10\n",
              "547685  play          5\n",
              "        purchase     25\n",
              "554278  play          9\n",
              "        purchase     28\n",
              "561758  play         80\n",
              "        purchase    148\n",
              "577614  play          1\n",
              "dtype: int64"
            ]
          },
          "metadata": {
            "tags": []
          },
          "execution_count": 12
        }
      ]
    },
    {
      "cell_type": "markdown",
      "metadata": {
        "id": "UkORyqQNmrxl",
        "colab_type": "text"
      },
      "source": [
        "### Describe the dataset"
      ]
    },
    {
      "cell_type": "code",
      "metadata": {
        "trusted": true,
        "id": "xS6Rrd-VHT1v",
        "colab_type": "code",
        "outputId": "ad01cb0e-4b9d-4312-c4c9-ef1837b1b8c6",
        "colab": {
          "base_uri": "https://localhost:8080/",
          "height": 88
        }
      },
      "source": [
        "print(\"Number of unique games : {0}\".format(len(df.Game.unique())))\n",
        "print(\"Number of unique users : {0}\".format(len(df.UserID.unique())))\n",
        "print(\"Number of total purchases by users : {0}\".format(len(df.loc[df['Action'] == 'purchase'])))\n",
        "print(\"Number of total plays by users : {0}\".format(len(df.loc[df['Action'] == 'play'])))"
      ],
      "execution_count": 13,
      "outputs": [
        {
          "output_type": "stream",
          "text": [
            "Number of unique games : 5155\n",
            "Number of unique users : 12393\n",
            "Number of total purchases by users : 129511\n",
            "Number of total plays by users : 70489\n"
          ],
          "name": "stdout"
        }
      ]
    },
    {
      "cell_type": "markdown",
      "metadata": {
        "id": "MudvwQeNmyhw",
        "colab_type": "text"
      },
      "source": [
        "### Create 2 new datasets "
      ]
    },
    {
      "cell_type": "code",
      "metadata": {
        "trusted": true,
        "id": "t9HjzzGZHT16",
        "colab_type": "code",
        "colab": {}
      },
      "source": [
        "df_purchase =  df.loc[df['Action'] == 'purchase', ['UserID','Game','Action','Hours']].rename(columns={'Hours': 'Purchased'})  # Purchased Games\n",
        "df_play = df.loc[df['Action'] == 'play', ['UserID','Game','Hours']].rename(columns={'Hours': 'Played_hours'})                 # Played games by hour"
      ],
      "execution_count": 0,
      "outputs": []
    },
    {
      "cell_type": "code",
      "metadata": {
        "trusted": true,
        "id": "HZi-pEBsHT19",
        "colab_type": "code",
        "outputId": "6f32c1dc-ec1a-43ae-9bf9-36744b1c7521",
        "colab": {
          "base_uri": "https://localhost:8080/",
          "height": 53
        }
      },
      "source": [
        "print('shape of purchase dataset : ', df_purchase.shape[0])\n",
        "print('shape of play dataset : ', df_play.shape[0])"
      ],
      "execution_count": 15,
      "outputs": [
        {
          "output_type": "stream",
          "text": [
            "shape of purchase dataset :  129511\n",
            "shape of play dataset :  70489\n"
          ],
          "name": "stdout"
        }
      ]
    },
    {
      "cell_type": "markdown",
      "metadata": {
        "id": "Y1DxhzegnMCx",
        "colab_type": "text"
      },
      "source": [
        "### Merge datasets"
      ]
    },
    {
      "cell_type": "code",
      "metadata": {
        "trusted": true,
        "id": "tjtjarKeHT2C",
        "colab_type": "code",
        "colab": {}
      },
      "source": [
        "total_dataset = pd.merge(df_purchase, df_play, left_on=['UserID','Game'], right_on=['UserID','Game'], how='left').fillna(0)"
      ],
      "execution_count": 0,
      "outputs": []
    },
    {
      "cell_type": "code",
      "metadata": {
        "trusted": true,
        "id": "4Ypb_ej6HT2G",
        "colab_type": "code",
        "outputId": "3b3f1c83-8861-491c-a0da-ac73782bd92c",
        "colab": {
          "base_uri": "https://localhost:8080/",
          "height": 677
        }
      },
      "source": [
        "total_dataset.head(20)"
      ],
      "execution_count": 17,
      "outputs": [
        {
          "output_type": "execute_result",
          "data": {
            "text/html": [
              "<div>\n",
              "<style scoped>\n",
              "    .dataframe tbody tr th:only-of-type {\n",
              "        vertical-align: middle;\n",
              "    }\n",
              "\n",
              "    .dataframe tbody tr th {\n",
              "        vertical-align: top;\n",
              "    }\n",
              "\n",
              "    .dataframe thead th {\n",
              "        text-align: right;\n",
              "    }\n",
              "</style>\n",
              "<table border=\"1\" class=\"dataframe\">\n",
              "  <thead>\n",
              "    <tr style=\"text-align: right;\">\n",
              "      <th></th>\n",
              "      <th>UserID</th>\n",
              "      <th>Game</th>\n",
              "      <th>Action</th>\n",
              "      <th>Purchased</th>\n",
              "      <th>Played_hours</th>\n",
              "    </tr>\n",
              "  </thead>\n",
              "  <tbody>\n",
              "    <tr>\n",
              "      <th>0</th>\n",
              "      <td>151603712</td>\n",
              "      <td>The Elder Scrolls V Skyrim</td>\n",
              "      <td>purchase</td>\n",
              "      <td>1.0</td>\n",
              "      <td>273.0</td>\n",
              "    </tr>\n",
              "    <tr>\n",
              "      <th>1</th>\n",
              "      <td>151603712</td>\n",
              "      <td>Fallout 4</td>\n",
              "      <td>purchase</td>\n",
              "      <td>1.0</td>\n",
              "      <td>87.0</td>\n",
              "    </tr>\n",
              "    <tr>\n",
              "      <th>2</th>\n",
              "      <td>151603712</td>\n",
              "      <td>Spore</td>\n",
              "      <td>purchase</td>\n",
              "      <td>1.0</td>\n",
              "      <td>14.9</td>\n",
              "    </tr>\n",
              "    <tr>\n",
              "      <th>3</th>\n",
              "      <td>151603712</td>\n",
              "      <td>Fallout New Vegas</td>\n",
              "      <td>purchase</td>\n",
              "      <td>1.0</td>\n",
              "      <td>12.1</td>\n",
              "    </tr>\n",
              "    <tr>\n",
              "      <th>4</th>\n",
              "      <td>151603712</td>\n",
              "      <td>Left 4 Dead 2</td>\n",
              "      <td>purchase</td>\n",
              "      <td>1.0</td>\n",
              "      <td>8.9</td>\n",
              "    </tr>\n",
              "    <tr>\n",
              "      <th>5</th>\n",
              "      <td>151603712</td>\n",
              "      <td>HuniePop</td>\n",
              "      <td>purchase</td>\n",
              "      <td>1.0</td>\n",
              "      <td>8.5</td>\n",
              "    </tr>\n",
              "    <tr>\n",
              "      <th>6</th>\n",
              "      <td>151603712</td>\n",
              "      <td>Path of Exile</td>\n",
              "      <td>purchase</td>\n",
              "      <td>1.0</td>\n",
              "      <td>8.1</td>\n",
              "    </tr>\n",
              "    <tr>\n",
              "      <th>7</th>\n",
              "      <td>151603712</td>\n",
              "      <td>Poly Bridge</td>\n",
              "      <td>purchase</td>\n",
              "      <td>1.0</td>\n",
              "      <td>7.5</td>\n",
              "    </tr>\n",
              "    <tr>\n",
              "      <th>8</th>\n",
              "      <td>151603712</td>\n",
              "      <td>Left 4 Dead</td>\n",
              "      <td>purchase</td>\n",
              "      <td>1.0</td>\n",
              "      <td>3.3</td>\n",
              "    </tr>\n",
              "    <tr>\n",
              "      <th>9</th>\n",
              "      <td>151603712</td>\n",
              "      <td>Team Fortress 2</td>\n",
              "      <td>purchase</td>\n",
              "      <td>1.0</td>\n",
              "      <td>2.8</td>\n",
              "    </tr>\n",
              "    <tr>\n",
              "      <th>10</th>\n",
              "      <td>151603712</td>\n",
              "      <td>Tomb Raider</td>\n",
              "      <td>purchase</td>\n",
              "      <td>1.0</td>\n",
              "      <td>2.5</td>\n",
              "    </tr>\n",
              "    <tr>\n",
              "      <th>11</th>\n",
              "      <td>151603712</td>\n",
              "      <td>The Banner Saga</td>\n",
              "      <td>purchase</td>\n",
              "      <td>1.0</td>\n",
              "      <td>2.0</td>\n",
              "    </tr>\n",
              "    <tr>\n",
              "      <th>12</th>\n",
              "      <td>151603712</td>\n",
              "      <td>Dead Island Epidemic</td>\n",
              "      <td>purchase</td>\n",
              "      <td>1.0</td>\n",
              "      <td>1.4</td>\n",
              "    </tr>\n",
              "    <tr>\n",
              "      <th>13</th>\n",
              "      <td>151603712</td>\n",
              "      <td>BioShock Infinite</td>\n",
              "      <td>purchase</td>\n",
              "      <td>1.0</td>\n",
              "      <td>1.3</td>\n",
              "    </tr>\n",
              "    <tr>\n",
              "      <th>14</th>\n",
              "      <td>151603712</td>\n",
              "      <td>Dragon Age Origins - Ultimate Edition</td>\n",
              "      <td>purchase</td>\n",
              "      <td>1.0</td>\n",
              "      <td>1.3</td>\n",
              "    </tr>\n",
              "    <tr>\n",
              "      <th>15</th>\n",
              "      <td>151603712</td>\n",
              "      <td>Fallout 3 - Game of the Year Edition</td>\n",
              "      <td>purchase</td>\n",
              "      <td>1.0</td>\n",
              "      <td>0.8</td>\n",
              "    </tr>\n",
              "    <tr>\n",
              "      <th>16</th>\n",
              "      <td>151603712</td>\n",
              "      <td>SEGA Genesis &amp; Mega Drive Classics</td>\n",
              "      <td>purchase</td>\n",
              "      <td>1.0</td>\n",
              "      <td>0.8</td>\n",
              "    </tr>\n",
              "    <tr>\n",
              "      <th>17</th>\n",
              "      <td>151603712</td>\n",
              "      <td>Grand Theft Auto IV</td>\n",
              "      <td>purchase</td>\n",
              "      <td>1.0</td>\n",
              "      <td>0.6</td>\n",
              "    </tr>\n",
              "    <tr>\n",
              "      <th>18</th>\n",
              "      <td>151603712</td>\n",
              "      <td>Realm of the Mad God</td>\n",
              "      <td>purchase</td>\n",
              "      <td>1.0</td>\n",
              "      <td>0.5</td>\n",
              "    </tr>\n",
              "    <tr>\n",
              "      <th>19</th>\n",
              "      <td>151603712</td>\n",
              "      <td>Marvel Heroes 2015</td>\n",
              "      <td>purchase</td>\n",
              "      <td>1.0</td>\n",
              "      <td>0.5</td>\n",
              "    </tr>\n",
              "  </tbody>\n",
              "</table>\n",
              "</div>"
            ],
            "text/plain": [
              "       UserID                                   Game  ... Purchased  Played_hours\n",
              "0   151603712             The Elder Scrolls V Skyrim  ...       1.0         273.0\n",
              "1   151603712                              Fallout 4  ...       1.0          87.0\n",
              "2   151603712                                  Spore  ...       1.0          14.9\n",
              "3   151603712                      Fallout New Vegas  ...       1.0          12.1\n",
              "4   151603712                          Left 4 Dead 2  ...       1.0           8.9\n",
              "5   151603712                               HuniePop  ...       1.0           8.5\n",
              "6   151603712                          Path of Exile  ...       1.0           8.1\n",
              "7   151603712                            Poly Bridge  ...       1.0           7.5\n",
              "8   151603712                            Left 4 Dead  ...       1.0           3.3\n",
              "9   151603712                        Team Fortress 2  ...       1.0           2.8\n",
              "10  151603712                            Tomb Raider  ...       1.0           2.5\n",
              "11  151603712                        The Banner Saga  ...       1.0           2.0\n",
              "12  151603712                   Dead Island Epidemic  ...       1.0           1.4\n",
              "13  151603712                      BioShock Infinite  ...       1.0           1.3\n",
              "14  151603712  Dragon Age Origins - Ultimate Edition  ...       1.0           1.3\n",
              "15  151603712   Fallout 3 - Game of the Year Edition  ...       1.0           0.8\n",
              "16  151603712     SEGA Genesis & Mega Drive Classics  ...       1.0           0.8\n",
              "17  151603712                    Grand Theft Auto IV  ...       1.0           0.6\n",
              "18  151603712                   Realm of the Mad God  ...       1.0           0.5\n",
              "19  151603712                     Marvel Heroes 2015  ...       1.0           0.5\n",
              "\n",
              "[20 rows x 5 columns]"
            ]
          },
          "metadata": {
            "tags": []
          },
          "execution_count": 17
        }
      ]
    },
    {
      "cell_type": "markdown",
      "metadata": {
        "id": "sutle7QonRpX",
        "colab_type": "text"
      },
      "source": [
        "### Create a ranking system for games per user ID"
      ]
    },
    {
      "cell_type": "code",
      "metadata": {
        "trusted": true,
        "id": "I2onFo6oHT2Q",
        "colab_type": "code",
        "colab": {}
      },
      "source": [
        "#Ranking = lambda x: pd.qcut(x,10,labels=False,duplicates='drop')\n",
        "#total_dataset['Ranking'] = total_dataset.groupby('UserID')['Played_hours'].apply(Ranking)"
      ],
      "execution_count": 0,
      "outputs": []
    },
    {
      "cell_type": "code",
      "metadata": {
        "id": "bktOnlwMmGWv",
        "colab_type": "code",
        "colab": {}
      },
      "source": [
        "total_dataset['Ranking'] = total_dataset.groupby('UserID')['Played_hours'].transform(pd.cut, 10, labels=False,duplicates = \"drop\")+1.0"
      ],
      "execution_count": 0,
      "outputs": []
    },
    {
      "cell_type": "code",
      "metadata": {
        "id": "S4kwC4u4mX5_",
        "colab_type": "code",
        "outputId": "38913c0c-c8f3-4d6b-fe16-be29ae0e8353",
        "colab": {
          "base_uri": "https://localhost:8080/",
          "height": 990
        }
      },
      "source": [
        "total_dataset.head(30)"
      ],
      "execution_count": 20,
      "outputs": [
        {
          "output_type": "execute_result",
          "data": {
            "text/html": [
              "<div>\n",
              "<style scoped>\n",
              "    .dataframe tbody tr th:only-of-type {\n",
              "        vertical-align: middle;\n",
              "    }\n",
              "\n",
              "    .dataframe tbody tr th {\n",
              "        vertical-align: top;\n",
              "    }\n",
              "\n",
              "    .dataframe thead th {\n",
              "        text-align: right;\n",
              "    }\n",
              "</style>\n",
              "<table border=\"1\" class=\"dataframe\">\n",
              "  <thead>\n",
              "    <tr style=\"text-align: right;\">\n",
              "      <th></th>\n",
              "      <th>UserID</th>\n",
              "      <th>Game</th>\n",
              "      <th>Action</th>\n",
              "      <th>Purchased</th>\n",
              "      <th>Played_hours</th>\n",
              "      <th>Ranking</th>\n",
              "    </tr>\n",
              "  </thead>\n",
              "  <tbody>\n",
              "    <tr>\n",
              "      <th>0</th>\n",
              "      <td>151603712</td>\n",
              "      <td>The Elder Scrolls V Skyrim</td>\n",
              "      <td>purchase</td>\n",
              "      <td>1.0</td>\n",
              "      <td>273.0</td>\n",
              "      <td>10.0</td>\n",
              "    </tr>\n",
              "    <tr>\n",
              "      <th>1</th>\n",
              "      <td>151603712</td>\n",
              "      <td>Fallout 4</td>\n",
              "      <td>purchase</td>\n",
              "      <td>1.0</td>\n",
              "      <td>87.0</td>\n",
              "      <td>4.0</td>\n",
              "    </tr>\n",
              "    <tr>\n",
              "      <th>2</th>\n",
              "      <td>151603712</td>\n",
              "      <td>Spore</td>\n",
              "      <td>purchase</td>\n",
              "      <td>1.0</td>\n",
              "      <td>14.9</td>\n",
              "      <td>1.0</td>\n",
              "    </tr>\n",
              "    <tr>\n",
              "      <th>3</th>\n",
              "      <td>151603712</td>\n",
              "      <td>Fallout New Vegas</td>\n",
              "      <td>purchase</td>\n",
              "      <td>1.0</td>\n",
              "      <td>12.1</td>\n",
              "      <td>1.0</td>\n",
              "    </tr>\n",
              "    <tr>\n",
              "      <th>4</th>\n",
              "      <td>151603712</td>\n",
              "      <td>Left 4 Dead 2</td>\n",
              "      <td>purchase</td>\n",
              "      <td>1.0</td>\n",
              "      <td>8.9</td>\n",
              "      <td>1.0</td>\n",
              "    </tr>\n",
              "    <tr>\n",
              "      <th>5</th>\n",
              "      <td>151603712</td>\n",
              "      <td>HuniePop</td>\n",
              "      <td>purchase</td>\n",
              "      <td>1.0</td>\n",
              "      <td>8.5</td>\n",
              "      <td>1.0</td>\n",
              "    </tr>\n",
              "    <tr>\n",
              "      <th>6</th>\n",
              "      <td>151603712</td>\n",
              "      <td>Path of Exile</td>\n",
              "      <td>purchase</td>\n",
              "      <td>1.0</td>\n",
              "      <td>8.1</td>\n",
              "      <td>1.0</td>\n",
              "    </tr>\n",
              "    <tr>\n",
              "      <th>7</th>\n",
              "      <td>151603712</td>\n",
              "      <td>Poly Bridge</td>\n",
              "      <td>purchase</td>\n",
              "      <td>1.0</td>\n",
              "      <td>7.5</td>\n",
              "      <td>1.0</td>\n",
              "    </tr>\n",
              "    <tr>\n",
              "      <th>8</th>\n",
              "      <td>151603712</td>\n",
              "      <td>Left 4 Dead</td>\n",
              "      <td>purchase</td>\n",
              "      <td>1.0</td>\n",
              "      <td>3.3</td>\n",
              "      <td>1.0</td>\n",
              "    </tr>\n",
              "    <tr>\n",
              "      <th>9</th>\n",
              "      <td>151603712</td>\n",
              "      <td>Team Fortress 2</td>\n",
              "      <td>purchase</td>\n",
              "      <td>1.0</td>\n",
              "      <td>2.8</td>\n",
              "      <td>1.0</td>\n",
              "    </tr>\n",
              "    <tr>\n",
              "      <th>10</th>\n",
              "      <td>151603712</td>\n",
              "      <td>Tomb Raider</td>\n",
              "      <td>purchase</td>\n",
              "      <td>1.0</td>\n",
              "      <td>2.5</td>\n",
              "      <td>1.0</td>\n",
              "    </tr>\n",
              "    <tr>\n",
              "      <th>11</th>\n",
              "      <td>151603712</td>\n",
              "      <td>The Banner Saga</td>\n",
              "      <td>purchase</td>\n",
              "      <td>1.0</td>\n",
              "      <td>2.0</td>\n",
              "      <td>1.0</td>\n",
              "    </tr>\n",
              "    <tr>\n",
              "      <th>12</th>\n",
              "      <td>151603712</td>\n",
              "      <td>Dead Island Epidemic</td>\n",
              "      <td>purchase</td>\n",
              "      <td>1.0</td>\n",
              "      <td>1.4</td>\n",
              "      <td>1.0</td>\n",
              "    </tr>\n",
              "    <tr>\n",
              "      <th>13</th>\n",
              "      <td>151603712</td>\n",
              "      <td>BioShock Infinite</td>\n",
              "      <td>purchase</td>\n",
              "      <td>1.0</td>\n",
              "      <td>1.3</td>\n",
              "      <td>1.0</td>\n",
              "    </tr>\n",
              "    <tr>\n",
              "      <th>14</th>\n",
              "      <td>151603712</td>\n",
              "      <td>Dragon Age Origins - Ultimate Edition</td>\n",
              "      <td>purchase</td>\n",
              "      <td>1.0</td>\n",
              "      <td>1.3</td>\n",
              "      <td>1.0</td>\n",
              "    </tr>\n",
              "    <tr>\n",
              "      <th>15</th>\n",
              "      <td>151603712</td>\n",
              "      <td>Fallout 3 - Game of the Year Edition</td>\n",
              "      <td>purchase</td>\n",
              "      <td>1.0</td>\n",
              "      <td>0.8</td>\n",
              "      <td>1.0</td>\n",
              "    </tr>\n",
              "    <tr>\n",
              "      <th>16</th>\n",
              "      <td>151603712</td>\n",
              "      <td>SEGA Genesis &amp; Mega Drive Classics</td>\n",
              "      <td>purchase</td>\n",
              "      <td>1.0</td>\n",
              "      <td>0.8</td>\n",
              "      <td>1.0</td>\n",
              "    </tr>\n",
              "    <tr>\n",
              "      <th>17</th>\n",
              "      <td>151603712</td>\n",
              "      <td>Grand Theft Auto IV</td>\n",
              "      <td>purchase</td>\n",
              "      <td>1.0</td>\n",
              "      <td>0.6</td>\n",
              "      <td>1.0</td>\n",
              "    </tr>\n",
              "    <tr>\n",
              "      <th>18</th>\n",
              "      <td>151603712</td>\n",
              "      <td>Realm of the Mad God</td>\n",
              "      <td>purchase</td>\n",
              "      <td>1.0</td>\n",
              "      <td>0.5</td>\n",
              "      <td>1.0</td>\n",
              "    </tr>\n",
              "    <tr>\n",
              "      <th>19</th>\n",
              "      <td>151603712</td>\n",
              "      <td>Marvel Heroes 2015</td>\n",
              "      <td>purchase</td>\n",
              "      <td>1.0</td>\n",
              "      <td>0.5</td>\n",
              "      <td>1.0</td>\n",
              "    </tr>\n",
              "    <tr>\n",
              "      <th>20</th>\n",
              "      <td>151603712</td>\n",
              "      <td>Eldevin</td>\n",
              "      <td>purchase</td>\n",
              "      <td>1.0</td>\n",
              "      <td>0.5</td>\n",
              "      <td>1.0</td>\n",
              "    </tr>\n",
              "    <tr>\n",
              "      <th>21</th>\n",
              "      <td>151603712</td>\n",
              "      <td>Dota 2</td>\n",
              "      <td>purchase</td>\n",
              "      <td>1.0</td>\n",
              "      <td>0.5</td>\n",
              "      <td>1.0</td>\n",
              "    </tr>\n",
              "    <tr>\n",
              "      <th>22</th>\n",
              "      <td>151603712</td>\n",
              "      <td>BioShock</td>\n",
              "      <td>purchase</td>\n",
              "      <td>1.0</td>\n",
              "      <td>0.5</td>\n",
              "      <td>1.0</td>\n",
              "    </tr>\n",
              "    <tr>\n",
              "      <th>23</th>\n",
              "      <td>151603712</td>\n",
              "      <td>Robocraft</td>\n",
              "      <td>purchase</td>\n",
              "      <td>1.0</td>\n",
              "      <td>0.4</td>\n",
              "      <td>1.0</td>\n",
              "    </tr>\n",
              "    <tr>\n",
              "      <th>24</th>\n",
              "      <td>151603712</td>\n",
              "      <td>Garry's Mod</td>\n",
              "      <td>purchase</td>\n",
              "      <td>1.0</td>\n",
              "      <td>0.1</td>\n",
              "      <td>1.0</td>\n",
              "    </tr>\n",
              "    <tr>\n",
              "      <th>25</th>\n",
              "      <td>151603712</td>\n",
              "      <td>Jazzpunk</td>\n",
              "      <td>purchase</td>\n",
              "      <td>1.0</td>\n",
              "      <td>0.1</td>\n",
              "      <td>1.0</td>\n",
              "    </tr>\n",
              "    <tr>\n",
              "      <th>26</th>\n",
              "      <td>151603712</td>\n",
              "      <td>Alan Wake</td>\n",
              "      <td>purchase</td>\n",
              "      <td>1.0</td>\n",
              "      <td>0.0</td>\n",
              "      <td>1.0</td>\n",
              "    </tr>\n",
              "    <tr>\n",
              "      <th>27</th>\n",
              "      <td>151603712</td>\n",
              "      <td>BioShock 2</td>\n",
              "      <td>purchase</td>\n",
              "      <td>1.0</td>\n",
              "      <td>0.0</td>\n",
              "      <td>1.0</td>\n",
              "    </tr>\n",
              "    <tr>\n",
              "      <th>28</th>\n",
              "      <td>151603712</td>\n",
              "      <td>Fallen Earth</td>\n",
              "      <td>purchase</td>\n",
              "      <td>1.0</td>\n",
              "      <td>0.0</td>\n",
              "      <td>1.0</td>\n",
              "    </tr>\n",
              "    <tr>\n",
              "      <th>29</th>\n",
              "      <td>151603712</td>\n",
              "      <td>Fallout New Vegas Courier's Stash</td>\n",
              "      <td>purchase</td>\n",
              "      <td>1.0</td>\n",
              "      <td>0.0</td>\n",
              "      <td>1.0</td>\n",
              "    </tr>\n",
              "  </tbody>\n",
              "</table>\n",
              "</div>"
            ],
            "text/plain": [
              "       UserID                                   Game  ... Played_hours  Ranking\n",
              "0   151603712             The Elder Scrolls V Skyrim  ...        273.0     10.0\n",
              "1   151603712                              Fallout 4  ...         87.0      4.0\n",
              "2   151603712                                  Spore  ...         14.9      1.0\n",
              "3   151603712                      Fallout New Vegas  ...         12.1      1.0\n",
              "4   151603712                          Left 4 Dead 2  ...          8.9      1.0\n",
              "5   151603712                               HuniePop  ...          8.5      1.0\n",
              "6   151603712                          Path of Exile  ...          8.1      1.0\n",
              "7   151603712                            Poly Bridge  ...          7.5      1.0\n",
              "8   151603712                            Left 4 Dead  ...          3.3      1.0\n",
              "9   151603712                        Team Fortress 2  ...          2.8      1.0\n",
              "10  151603712                            Tomb Raider  ...          2.5      1.0\n",
              "11  151603712                        The Banner Saga  ...          2.0      1.0\n",
              "12  151603712                   Dead Island Epidemic  ...          1.4      1.0\n",
              "13  151603712                      BioShock Infinite  ...          1.3      1.0\n",
              "14  151603712  Dragon Age Origins - Ultimate Edition  ...          1.3      1.0\n",
              "15  151603712   Fallout 3 - Game of the Year Edition  ...          0.8      1.0\n",
              "16  151603712     SEGA Genesis & Mega Drive Classics  ...          0.8      1.0\n",
              "17  151603712                    Grand Theft Auto IV  ...          0.6      1.0\n",
              "18  151603712                   Realm of the Mad God  ...          0.5      1.0\n",
              "19  151603712                     Marvel Heroes 2015  ...          0.5      1.0\n",
              "20  151603712                                Eldevin  ...          0.5      1.0\n",
              "21  151603712                                 Dota 2  ...          0.5      1.0\n",
              "22  151603712                               BioShock  ...          0.5      1.0\n",
              "23  151603712                              Robocraft  ...          0.4      1.0\n",
              "24  151603712                            Garry's Mod  ...          0.1      1.0\n",
              "25  151603712                               Jazzpunk  ...          0.1      1.0\n",
              "26  151603712                              Alan Wake  ...          0.0      1.0\n",
              "27  151603712                             BioShock 2  ...          0.0      1.0\n",
              "28  151603712                           Fallen Earth  ...          0.0      1.0\n",
              "29  151603712      Fallout New Vegas Courier's Stash  ...          0.0      1.0\n",
              "\n",
              "[30 rows x 6 columns]"
            ]
          },
          "metadata": {
            "tags": []
          },
          "execution_count": 20
        }
      ]
    },
    {
      "cell_type": "code",
      "metadata": {
        "trusted": true,
        "id": "9R3r7cz_HT2U",
        "colab_type": "code",
        "outputId": "afee5562-7db2-42cc-ebce-6f54146900ae",
        "colab": {
          "base_uri": "https://localhost:8080/",
          "height": 1000
        }
      },
      "source": [
        "total_dataset.loc[total_dataset[\"UserID\"]==151603712].head(100)"
      ],
      "execution_count": 21,
      "outputs": [
        {
          "output_type": "execute_result",
          "data": {
            "text/html": [
              "<div>\n",
              "<style scoped>\n",
              "    .dataframe tbody tr th:only-of-type {\n",
              "        vertical-align: middle;\n",
              "    }\n",
              "\n",
              "    .dataframe tbody tr th {\n",
              "        vertical-align: top;\n",
              "    }\n",
              "\n",
              "    .dataframe thead th {\n",
              "        text-align: right;\n",
              "    }\n",
              "</style>\n",
              "<table border=\"1\" class=\"dataframe\">\n",
              "  <thead>\n",
              "    <tr style=\"text-align: right;\">\n",
              "      <th></th>\n",
              "      <th>UserID</th>\n",
              "      <th>Game</th>\n",
              "      <th>Action</th>\n",
              "      <th>Purchased</th>\n",
              "      <th>Played_hours</th>\n",
              "      <th>Ranking</th>\n",
              "    </tr>\n",
              "  </thead>\n",
              "  <tbody>\n",
              "    <tr>\n",
              "      <th>0</th>\n",
              "      <td>151603712</td>\n",
              "      <td>The Elder Scrolls V Skyrim</td>\n",
              "      <td>purchase</td>\n",
              "      <td>1.0</td>\n",
              "      <td>273.0</td>\n",
              "      <td>10.0</td>\n",
              "    </tr>\n",
              "    <tr>\n",
              "      <th>1</th>\n",
              "      <td>151603712</td>\n",
              "      <td>Fallout 4</td>\n",
              "      <td>purchase</td>\n",
              "      <td>1.0</td>\n",
              "      <td>87.0</td>\n",
              "      <td>4.0</td>\n",
              "    </tr>\n",
              "    <tr>\n",
              "      <th>2</th>\n",
              "      <td>151603712</td>\n",
              "      <td>Spore</td>\n",
              "      <td>purchase</td>\n",
              "      <td>1.0</td>\n",
              "      <td>14.9</td>\n",
              "      <td>1.0</td>\n",
              "    </tr>\n",
              "    <tr>\n",
              "      <th>3</th>\n",
              "      <td>151603712</td>\n",
              "      <td>Fallout New Vegas</td>\n",
              "      <td>purchase</td>\n",
              "      <td>1.0</td>\n",
              "      <td>12.1</td>\n",
              "      <td>1.0</td>\n",
              "    </tr>\n",
              "    <tr>\n",
              "      <th>4</th>\n",
              "      <td>151603712</td>\n",
              "      <td>Left 4 Dead 2</td>\n",
              "      <td>purchase</td>\n",
              "      <td>1.0</td>\n",
              "      <td>8.9</td>\n",
              "      <td>1.0</td>\n",
              "    </tr>\n",
              "    <tr>\n",
              "      <th>5</th>\n",
              "      <td>151603712</td>\n",
              "      <td>HuniePop</td>\n",
              "      <td>purchase</td>\n",
              "      <td>1.0</td>\n",
              "      <td>8.5</td>\n",
              "      <td>1.0</td>\n",
              "    </tr>\n",
              "    <tr>\n",
              "      <th>6</th>\n",
              "      <td>151603712</td>\n",
              "      <td>Path of Exile</td>\n",
              "      <td>purchase</td>\n",
              "      <td>1.0</td>\n",
              "      <td>8.1</td>\n",
              "      <td>1.0</td>\n",
              "    </tr>\n",
              "    <tr>\n",
              "      <th>7</th>\n",
              "      <td>151603712</td>\n",
              "      <td>Poly Bridge</td>\n",
              "      <td>purchase</td>\n",
              "      <td>1.0</td>\n",
              "      <td>7.5</td>\n",
              "      <td>1.0</td>\n",
              "    </tr>\n",
              "    <tr>\n",
              "      <th>8</th>\n",
              "      <td>151603712</td>\n",
              "      <td>Left 4 Dead</td>\n",
              "      <td>purchase</td>\n",
              "      <td>1.0</td>\n",
              "      <td>3.3</td>\n",
              "      <td>1.0</td>\n",
              "    </tr>\n",
              "    <tr>\n",
              "      <th>9</th>\n",
              "      <td>151603712</td>\n",
              "      <td>Team Fortress 2</td>\n",
              "      <td>purchase</td>\n",
              "      <td>1.0</td>\n",
              "      <td>2.8</td>\n",
              "      <td>1.0</td>\n",
              "    </tr>\n",
              "    <tr>\n",
              "      <th>10</th>\n",
              "      <td>151603712</td>\n",
              "      <td>Tomb Raider</td>\n",
              "      <td>purchase</td>\n",
              "      <td>1.0</td>\n",
              "      <td>2.5</td>\n",
              "      <td>1.0</td>\n",
              "    </tr>\n",
              "    <tr>\n",
              "      <th>11</th>\n",
              "      <td>151603712</td>\n",
              "      <td>The Banner Saga</td>\n",
              "      <td>purchase</td>\n",
              "      <td>1.0</td>\n",
              "      <td>2.0</td>\n",
              "      <td>1.0</td>\n",
              "    </tr>\n",
              "    <tr>\n",
              "      <th>12</th>\n",
              "      <td>151603712</td>\n",
              "      <td>Dead Island Epidemic</td>\n",
              "      <td>purchase</td>\n",
              "      <td>1.0</td>\n",
              "      <td>1.4</td>\n",
              "      <td>1.0</td>\n",
              "    </tr>\n",
              "    <tr>\n",
              "      <th>13</th>\n",
              "      <td>151603712</td>\n",
              "      <td>BioShock Infinite</td>\n",
              "      <td>purchase</td>\n",
              "      <td>1.0</td>\n",
              "      <td>1.3</td>\n",
              "      <td>1.0</td>\n",
              "    </tr>\n",
              "    <tr>\n",
              "      <th>14</th>\n",
              "      <td>151603712</td>\n",
              "      <td>Dragon Age Origins - Ultimate Edition</td>\n",
              "      <td>purchase</td>\n",
              "      <td>1.0</td>\n",
              "      <td>1.3</td>\n",
              "      <td>1.0</td>\n",
              "    </tr>\n",
              "    <tr>\n",
              "      <th>15</th>\n",
              "      <td>151603712</td>\n",
              "      <td>Fallout 3 - Game of the Year Edition</td>\n",
              "      <td>purchase</td>\n",
              "      <td>1.0</td>\n",
              "      <td>0.8</td>\n",
              "      <td>1.0</td>\n",
              "    </tr>\n",
              "    <tr>\n",
              "      <th>16</th>\n",
              "      <td>151603712</td>\n",
              "      <td>SEGA Genesis &amp; Mega Drive Classics</td>\n",
              "      <td>purchase</td>\n",
              "      <td>1.0</td>\n",
              "      <td>0.8</td>\n",
              "      <td>1.0</td>\n",
              "    </tr>\n",
              "    <tr>\n",
              "      <th>17</th>\n",
              "      <td>151603712</td>\n",
              "      <td>Grand Theft Auto IV</td>\n",
              "      <td>purchase</td>\n",
              "      <td>1.0</td>\n",
              "      <td>0.6</td>\n",
              "      <td>1.0</td>\n",
              "    </tr>\n",
              "    <tr>\n",
              "      <th>18</th>\n",
              "      <td>151603712</td>\n",
              "      <td>Realm of the Mad God</td>\n",
              "      <td>purchase</td>\n",
              "      <td>1.0</td>\n",
              "      <td>0.5</td>\n",
              "      <td>1.0</td>\n",
              "    </tr>\n",
              "    <tr>\n",
              "      <th>19</th>\n",
              "      <td>151603712</td>\n",
              "      <td>Marvel Heroes 2015</td>\n",
              "      <td>purchase</td>\n",
              "      <td>1.0</td>\n",
              "      <td>0.5</td>\n",
              "      <td>1.0</td>\n",
              "    </tr>\n",
              "    <tr>\n",
              "      <th>20</th>\n",
              "      <td>151603712</td>\n",
              "      <td>Eldevin</td>\n",
              "      <td>purchase</td>\n",
              "      <td>1.0</td>\n",
              "      <td>0.5</td>\n",
              "      <td>1.0</td>\n",
              "    </tr>\n",
              "    <tr>\n",
              "      <th>21</th>\n",
              "      <td>151603712</td>\n",
              "      <td>Dota 2</td>\n",
              "      <td>purchase</td>\n",
              "      <td>1.0</td>\n",
              "      <td>0.5</td>\n",
              "      <td>1.0</td>\n",
              "    </tr>\n",
              "    <tr>\n",
              "      <th>22</th>\n",
              "      <td>151603712</td>\n",
              "      <td>BioShock</td>\n",
              "      <td>purchase</td>\n",
              "      <td>1.0</td>\n",
              "      <td>0.5</td>\n",
              "      <td>1.0</td>\n",
              "    </tr>\n",
              "    <tr>\n",
              "      <th>23</th>\n",
              "      <td>151603712</td>\n",
              "      <td>Robocraft</td>\n",
              "      <td>purchase</td>\n",
              "      <td>1.0</td>\n",
              "      <td>0.4</td>\n",
              "      <td>1.0</td>\n",
              "    </tr>\n",
              "    <tr>\n",
              "      <th>24</th>\n",
              "      <td>151603712</td>\n",
              "      <td>Garry's Mod</td>\n",
              "      <td>purchase</td>\n",
              "      <td>1.0</td>\n",
              "      <td>0.1</td>\n",
              "      <td>1.0</td>\n",
              "    </tr>\n",
              "    <tr>\n",
              "      <th>25</th>\n",
              "      <td>151603712</td>\n",
              "      <td>Jazzpunk</td>\n",
              "      <td>purchase</td>\n",
              "      <td>1.0</td>\n",
              "      <td>0.1</td>\n",
              "      <td>1.0</td>\n",
              "    </tr>\n",
              "    <tr>\n",
              "      <th>26</th>\n",
              "      <td>151603712</td>\n",
              "      <td>Alan Wake</td>\n",
              "      <td>purchase</td>\n",
              "      <td>1.0</td>\n",
              "      <td>0.0</td>\n",
              "      <td>1.0</td>\n",
              "    </tr>\n",
              "    <tr>\n",
              "      <th>27</th>\n",
              "      <td>151603712</td>\n",
              "      <td>BioShock 2</td>\n",
              "      <td>purchase</td>\n",
              "      <td>1.0</td>\n",
              "      <td>0.0</td>\n",
              "      <td>1.0</td>\n",
              "    </tr>\n",
              "    <tr>\n",
              "      <th>28</th>\n",
              "      <td>151603712</td>\n",
              "      <td>Fallen Earth</td>\n",
              "      <td>purchase</td>\n",
              "      <td>1.0</td>\n",
              "      <td>0.0</td>\n",
              "      <td>1.0</td>\n",
              "    </tr>\n",
              "    <tr>\n",
              "      <th>29</th>\n",
              "      <td>151603712</td>\n",
              "      <td>Fallout New Vegas Courier's Stash</td>\n",
              "      <td>purchase</td>\n",
              "      <td>1.0</td>\n",
              "      <td>0.0</td>\n",
              "      <td>1.0</td>\n",
              "    </tr>\n",
              "    <tr>\n",
              "      <th>30</th>\n",
              "      <td>151603712</td>\n",
              "      <td>Fallout New Vegas Dead Money</td>\n",
              "      <td>purchase</td>\n",
              "      <td>1.0</td>\n",
              "      <td>0.0</td>\n",
              "      <td>1.0</td>\n",
              "    </tr>\n",
              "    <tr>\n",
              "      <th>31</th>\n",
              "      <td>151603712</td>\n",
              "      <td>Fallout New Vegas Honest Hearts</td>\n",
              "      <td>purchase</td>\n",
              "      <td>1.0</td>\n",
              "      <td>0.0</td>\n",
              "      <td>1.0</td>\n",
              "    </tr>\n",
              "    <tr>\n",
              "      <th>32</th>\n",
              "      <td>151603712</td>\n",
              "      <td>Grand Theft Auto Episodes from Liberty City</td>\n",
              "      <td>purchase</td>\n",
              "      <td>1.0</td>\n",
              "      <td>0.0</td>\n",
              "      <td>1.0</td>\n",
              "    </tr>\n",
              "    <tr>\n",
              "      <th>33</th>\n",
              "      <td>151603712</td>\n",
              "      <td>Hitman Absolution</td>\n",
              "      <td>purchase</td>\n",
              "      <td>1.0</td>\n",
              "      <td>0.0</td>\n",
              "      <td>1.0</td>\n",
              "    </tr>\n",
              "    <tr>\n",
              "      <th>34</th>\n",
              "      <td>151603712</td>\n",
              "      <td>HuniePop Official Digital Art Collection</td>\n",
              "      <td>purchase</td>\n",
              "      <td>1.0</td>\n",
              "      <td>0.0</td>\n",
              "      <td>1.0</td>\n",
              "    </tr>\n",
              "    <tr>\n",
              "      <th>35</th>\n",
              "      <td>151603712</td>\n",
              "      <td>HuniePop Original Soundtrack</td>\n",
              "      <td>purchase</td>\n",
              "      <td>1.0</td>\n",
              "      <td>0.0</td>\n",
              "      <td>1.0</td>\n",
              "    </tr>\n",
              "    <tr>\n",
              "      <th>36</th>\n",
              "      <td>151603712</td>\n",
              "      <td>The Banner Saga - Mod Content</td>\n",
              "      <td>purchase</td>\n",
              "      <td>1.0</td>\n",
              "      <td>0.0</td>\n",
              "      <td>1.0</td>\n",
              "    </tr>\n",
              "    <tr>\n",
              "      <th>37</th>\n",
              "      <td>151603712</td>\n",
              "      <td>The Elder Scrolls V Skyrim - Dawnguard</td>\n",
              "      <td>purchase</td>\n",
              "      <td>1.0</td>\n",
              "      <td>0.0</td>\n",
              "      <td>1.0</td>\n",
              "    </tr>\n",
              "    <tr>\n",
              "      <th>38</th>\n",
              "      <td>151603712</td>\n",
              "      <td>The Elder Scrolls V Skyrim - Dragonborn</td>\n",
              "      <td>purchase</td>\n",
              "      <td>1.0</td>\n",
              "      <td>0.0</td>\n",
              "      <td>1.0</td>\n",
              "    </tr>\n",
              "    <tr>\n",
              "      <th>39</th>\n",
              "      <td>151603712</td>\n",
              "      <td>The Elder Scrolls V Skyrim - Hearthfire</td>\n",
              "      <td>purchase</td>\n",
              "      <td>1.0</td>\n",
              "      <td>0.0</td>\n",
              "      <td>1.0</td>\n",
              "    </tr>\n",
              "  </tbody>\n",
              "</table>\n",
              "</div>"
            ],
            "text/plain": [
              "       UserID  ... Ranking\n",
              "0   151603712  ...    10.0\n",
              "1   151603712  ...     4.0\n",
              "2   151603712  ...     1.0\n",
              "3   151603712  ...     1.0\n",
              "4   151603712  ...     1.0\n",
              "5   151603712  ...     1.0\n",
              "6   151603712  ...     1.0\n",
              "7   151603712  ...     1.0\n",
              "8   151603712  ...     1.0\n",
              "9   151603712  ...     1.0\n",
              "10  151603712  ...     1.0\n",
              "11  151603712  ...     1.0\n",
              "12  151603712  ...     1.0\n",
              "13  151603712  ...     1.0\n",
              "14  151603712  ...     1.0\n",
              "15  151603712  ...     1.0\n",
              "16  151603712  ...     1.0\n",
              "17  151603712  ...     1.0\n",
              "18  151603712  ...     1.0\n",
              "19  151603712  ...     1.0\n",
              "20  151603712  ...     1.0\n",
              "21  151603712  ...     1.0\n",
              "22  151603712  ...     1.0\n",
              "23  151603712  ...     1.0\n",
              "24  151603712  ...     1.0\n",
              "25  151603712  ...     1.0\n",
              "26  151603712  ...     1.0\n",
              "27  151603712  ...     1.0\n",
              "28  151603712  ...     1.0\n",
              "29  151603712  ...     1.0\n",
              "30  151603712  ...     1.0\n",
              "31  151603712  ...     1.0\n",
              "32  151603712  ...     1.0\n",
              "33  151603712  ...     1.0\n",
              "34  151603712  ...     1.0\n",
              "35  151603712  ...     1.0\n",
              "36  151603712  ...     1.0\n",
              "37  151603712  ...     1.0\n",
              "38  151603712  ...     1.0\n",
              "39  151603712  ...     1.0\n",
              "\n",
              "[40 rows x 6 columns]"
            ]
          },
          "metadata": {
            "tags": []
          },
          "execution_count": 21
        }
      ]
    },
    {
      "cell_type": "markdown",
      "metadata": {
        "id": "tiYNjTvRn3th",
        "colab_type": "text"
      },
      "source": [
        "### Create a clean dataset by dropping redundant columns"
      ]
    },
    {
      "cell_type": "code",
      "metadata": {
        "id": "toLQ_iWkKqSs",
        "colab_type": "code",
        "outputId": "ba1a998d-b492-4773-8774-9bc65e94779d",
        "colab": {
          "base_uri": "https://localhost:8080/",
          "height": 677
        }
      },
      "source": [
        "clean_df = total_dataset.drop([\"Purchased\",\"Action\"],axis = 1)\n",
        "clean_df.head(20)"
      ],
      "execution_count": 22,
      "outputs": [
        {
          "output_type": "execute_result",
          "data": {
            "text/html": [
              "<div>\n",
              "<style scoped>\n",
              "    .dataframe tbody tr th:only-of-type {\n",
              "        vertical-align: middle;\n",
              "    }\n",
              "\n",
              "    .dataframe tbody tr th {\n",
              "        vertical-align: top;\n",
              "    }\n",
              "\n",
              "    .dataframe thead th {\n",
              "        text-align: right;\n",
              "    }\n",
              "</style>\n",
              "<table border=\"1\" class=\"dataframe\">\n",
              "  <thead>\n",
              "    <tr style=\"text-align: right;\">\n",
              "      <th></th>\n",
              "      <th>UserID</th>\n",
              "      <th>Game</th>\n",
              "      <th>Played_hours</th>\n",
              "      <th>Ranking</th>\n",
              "    </tr>\n",
              "  </thead>\n",
              "  <tbody>\n",
              "    <tr>\n",
              "      <th>0</th>\n",
              "      <td>151603712</td>\n",
              "      <td>The Elder Scrolls V Skyrim</td>\n",
              "      <td>273.0</td>\n",
              "      <td>10.0</td>\n",
              "    </tr>\n",
              "    <tr>\n",
              "      <th>1</th>\n",
              "      <td>151603712</td>\n",
              "      <td>Fallout 4</td>\n",
              "      <td>87.0</td>\n",
              "      <td>4.0</td>\n",
              "    </tr>\n",
              "    <tr>\n",
              "      <th>2</th>\n",
              "      <td>151603712</td>\n",
              "      <td>Spore</td>\n",
              "      <td>14.9</td>\n",
              "      <td>1.0</td>\n",
              "    </tr>\n",
              "    <tr>\n",
              "      <th>3</th>\n",
              "      <td>151603712</td>\n",
              "      <td>Fallout New Vegas</td>\n",
              "      <td>12.1</td>\n",
              "      <td>1.0</td>\n",
              "    </tr>\n",
              "    <tr>\n",
              "      <th>4</th>\n",
              "      <td>151603712</td>\n",
              "      <td>Left 4 Dead 2</td>\n",
              "      <td>8.9</td>\n",
              "      <td>1.0</td>\n",
              "    </tr>\n",
              "    <tr>\n",
              "      <th>5</th>\n",
              "      <td>151603712</td>\n",
              "      <td>HuniePop</td>\n",
              "      <td>8.5</td>\n",
              "      <td>1.0</td>\n",
              "    </tr>\n",
              "    <tr>\n",
              "      <th>6</th>\n",
              "      <td>151603712</td>\n",
              "      <td>Path of Exile</td>\n",
              "      <td>8.1</td>\n",
              "      <td>1.0</td>\n",
              "    </tr>\n",
              "    <tr>\n",
              "      <th>7</th>\n",
              "      <td>151603712</td>\n",
              "      <td>Poly Bridge</td>\n",
              "      <td>7.5</td>\n",
              "      <td>1.0</td>\n",
              "    </tr>\n",
              "    <tr>\n",
              "      <th>8</th>\n",
              "      <td>151603712</td>\n",
              "      <td>Left 4 Dead</td>\n",
              "      <td>3.3</td>\n",
              "      <td>1.0</td>\n",
              "    </tr>\n",
              "    <tr>\n",
              "      <th>9</th>\n",
              "      <td>151603712</td>\n",
              "      <td>Team Fortress 2</td>\n",
              "      <td>2.8</td>\n",
              "      <td>1.0</td>\n",
              "    </tr>\n",
              "    <tr>\n",
              "      <th>10</th>\n",
              "      <td>151603712</td>\n",
              "      <td>Tomb Raider</td>\n",
              "      <td>2.5</td>\n",
              "      <td>1.0</td>\n",
              "    </tr>\n",
              "    <tr>\n",
              "      <th>11</th>\n",
              "      <td>151603712</td>\n",
              "      <td>The Banner Saga</td>\n",
              "      <td>2.0</td>\n",
              "      <td>1.0</td>\n",
              "    </tr>\n",
              "    <tr>\n",
              "      <th>12</th>\n",
              "      <td>151603712</td>\n",
              "      <td>Dead Island Epidemic</td>\n",
              "      <td>1.4</td>\n",
              "      <td>1.0</td>\n",
              "    </tr>\n",
              "    <tr>\n",
              "      <th>13</th>\n",
              "      <td>151603712</td>\n",
              "      <td>BioShock Infinite</td>\n",
              "      <td>1.3</td>\n",
              "      <td>1.0</td>\n",
              "    </tr>\n",
              "    <tr>\n",
              "      <th>14</th>\n",
              "      <td>151603712</td>\n",
              "      <td>Dragon Age Origins - Ultimate Edition</td>\n",
              "      <td>1.3</td>\n",
              "      <td>1.0</td>\n",
              "    </tr>\n",
              "    <tr>\n",
              "      <th>15</th>\n",
              "      <td>151603712</td>\n",
              "      <td>Fallout 3 - Game of the Year Edition</td>\n",
              "      <td>0.8</td>\n",
              "      <td>1.0</td>\n",
              "    </tr>\n",
              "    <tr>\n",
              "      <th>16</th>\n",
              "      <td>151603712</td>\n",
              "      <td>SEGA Genesis &amp; Mega Drive Classics</td>\n",
              "      <td>0.8</td>\n",
              "      <td>1.0</td>\n",
              "    </tr>\n",
              "    <tr>\n",
              "      <th>17</th>\n",
              "      <td>151603712</td>\n",
              "      <td>Grand Theft Auto IV</td>\n",
              "      <td>0.6</td>\n",
              "      <td>1.0</td>\n",
              "    </tr>\n",
              "    <tr>\n",
              "      <th>18</th>\n",
              "      <td>151603712</td>\n",
              "      <td>Realm of the Mad God</td>\n",
              "      <td>0.5</td>\n",
              "      <td>1.0</td>\n",
              "    </tr>\n",
              "    <tr>\n",
              "      <th>19</th>\n",
              "      <td>151603712</td>\n",
              "      <td>Marvel Heroes 2015</td>\n",
              "      <td>0.5</td>\n",
              "      <td>1.0</td>\n",
              "    </tr>\n",
              "  </tbody>\n",
              "</table>\n",
              "</div>"
            ],
            "text/plain": [
              "       UserID                                   Game  Played_hours  Ranking\n",
              "0   151603712             The Elder Scrolls V Skyrim         273.0     10.0\n",
              "1   151603712                              Fallout 4          87.0      4.0\n",
              "2   151603712                                  Spore          14.9      1.0\n",
              "3   151603712                      Fallout New Vegas          12.1      1.0\n",
              "4   151603712                          Left 4 Dead 2           8.9      1.0\n",
              "5   151603712                               HuniePop           8.5      1.0\n",
              "6   151603712                          Path of Exile           8.1      1.0\n",
              "7   151603712                            Poly Bridge           7.5      1.0\n",
              "8   151603712                            Left 4 Dead           3.3      1.0\n",
              "9   151603712                        Team Fortress 2           2.8      1.0\n",
              "10  151603712                            Tomb Raider           2.5      1.0\n",
              "11  151603712                        The Banner Saga           2.0      1.0\n",
              "12  151603712                   Dead Island Epidemic           1.4      1.0\n",
              "13  151603712                      BioShock Infinite           1.3      1.0\n",
              "14  151603712  Dragon Age Origins - Ultimate Edition           1.3      1.0\n",
              "15  151603712   Fallout 3 - Game of the Year Edition           0.8      1.0\n",
              "16  151603712     SEGA Genesis & Mega Drive Classics           0.8      1.0\n",
              "17  151603712                    Grand Theft Auto IV           0.6      1.0\n",
              "18  151603712                   Realm of the Mad God           0.5      1.0\n",
              "19  151603712                     Marvel Heroes 2015           0.5      1.0"
            ]
          },
          "metadata": {
            "tags": []
          },
          "execution_count": 22
        }
      ]
    },
    {
      "cell_type": "code",
      "metadata": {
        "id": "MQnVtpD-tAUn",
        "colab_type": "code",
        "colab": {}
      },
      "source": [
        ""
      ],
      "execution_count": 0,
      "outputs": []
    },
    {
      "cell_type": "markdown",
      "metadata": {
        "id": "Ko_OrY3OoAOq",
        "colab_type": "text"
      },
      "source": [
        "### Display top 5 users based on number of games"
      ]
    },
    {
      "cell_type": "code",
      "metadata": {
        "id": "UWQc9dPMS5sG",
        "colab_type": "code",
        "outputId": "93256898-da8c-426a-db89-8cda9f9bacd3",
        "colab": {
          "base_uri": "https://localhost:8080/",
          "height": 231
        }
      },
      "source": [
        "clean_df[\"UserID\"].value_counts()"
      ],
      "execution_count": 23,
      "outputs": [
        {
          "output_type": "execute_result",
          "data": {
            "text/plain": [
              "62990992     1075\n",
              "33865373      785\n",
              "30246419      766\n",
              "58345543      667\n",
              "76892907      597\n",
              "             ... \n",
              "149194171       1\n",
              "207945140       1\n",
              "130315685       1\n",
              "282733934       1\n",
              "214618086       1\n",
              "Name: UserID, Length: 12393, dtype: int64"
            ]
          },
          "metadata": {
            "tags": []
          },
          "execution_count": 23
        }
      ]
    },
    {
      "cell_type": "markdown",
      "metadata": {
        "id": "2BLIsNHMoa0J",
        "colab_type": "text"
      },
      "source": [
        "# SECTION 3 - RECOMMENDATION SYSTEM - FACTORIZATION RECOMMENDER"
      ]
    },
    {
      "cell_type": "markdown",
      "metadata": {
        "id": "LT4pjFsOokGR",
        "colab_type": "text"
      },
      "source": [
        "### Create a SFRame from the clean dataframe"
      ]
    },
    {
      "cell_type": "code",
      "metadata": {
        "id": "ukSU5Y-lPimz",
        "colab_type": "code",
        "colab": {}
      },
      "source": [
        "dfS = tc.SFrame(clean_df)"
      ],
      "execution_count": 0,
      "outputs": []
    },
    {
      "cell_type": "markdown",
      "metadata": {
        "id": "Qo-rMg3Fosny",
        "colab_type": "text"
      },
      "source": [
        "### Factorization Recommender System\n"
      ]
    },
    {
      "cell_type": "code",
      "metadata": {
        "id": "EQTIWcBlK6OP",
        "colab_type": "code",
        "outputId": "6031aa27-99c5-40b6-8b13-3e875241add8",
        "colab": {
          "base_uri": "https://localhost:8080/",
          "height": 868
        }
      },
      "source": [
        "m = tc.factorization_recommender.create(dfS,\n",
        "\t\t\t                              user_id='UserID',\n",
        "                                    item_id='Game',\n",
        "                                    target='Ranking')"
      ],
      "execution_count": 25,
      "outputs": [
        {
          "output_type": "display_data",
          "data": {
            "text/html": [
              "<pre>Preparing data set.</pre>"
            ],
            "text/plain": [
              "Preparing data set."
            ]
          },
          "metadata": {
            "tags": []
          }
        },
        {
          "output_type": "display_data",
          "data": {
            "text/html": [
              "<pre>    Data has 129535 observations with 12393 users and 5155 items.</pre>"
            ],
            "text/plain": [
              "    Data has 129535 observations with 12393 users and 5155 items."
            ]
          },
          "metadata": {
            "tags": []
          }
        },
        {
          "output_type": "display_data",
          "data": {
            "text/html": [
              "<pre>    Data prepared in: 0.169527s</pre>"
            ],
            "text/plain": [
              "    Data prepared in: 0.169527s"
            ]
          },
          "metadata": {
            "tags": []
          }
        },
        {
          "output_type": "display_data",
          "data": {
            "text/html": [
              "<pre>Training factorization_recommender for recommendations.</pre>"
            ],
            "text/plain": [
              "Training factorization_recommender for recommendations."
            ]
          },
          "metadata": {
            "tags": []
          }
        },
        {
          "output_type": "display_data",
          "data": {
            "text/html": [
              "<pre>+--------------------------------+--------------------------------------------------+----------+</pre>"
            ],
            "text/plain": [
              "+--------------------------------+--------------------------------------------------+----------+"
            ]
          },
          "metadata": {
            "tags": []
          }
        },
        {
          "output_type": "display_data",
          "data": {
            "text/html": [
              "<pre>| Parameter                      | Description                                      | Value    |</pre>"
            ],
            "text/plain": [
              "| Parameter                      | Description                                      | Value    |"
            ]
          },
          "metadata": {
            "tags": []
          }
        },
        {
          "output_type": "display_data",
          "data": {
            "text/html": [
              "<pre>+--------------------------------+--------------------------------------------------+----------+</pre>"
            ],
            "text/plain": [
              "+--------------------------------+--------------------------------------------------+----------+"
            ]
          },
          "metadata": {
            "tags": []
          }
        },
        {
          "output_type": "display_data",
          "data": {
            "text/html": [
              "<pre>| num_factors                    | Factor Dimension                                 | 8        |</pre>"
            ],
            "text/plain": [
              "| num_factors                    | Factor Dimension                                 | 8        |"
            ]
          },
          "metadata": {
            "tags": []
          }
        },
        {
          "output_type": "display_data",
          "data": {
            "text/html": [
              "<pre>| regularization                 | L2 Regularization on Factors                     | 1e-08    |</pre>"
            ],
            "text/plain": [
              "| regularization                 | L2 Regularization on Factors                     | 1e-08    |"
            ]
          },
          "metadata": {
            "tags": []
          }
        },
        {
          "output_type": "display_data",
          "data": {
            "text/html": [
              "<pre>| solver                         | Solver used for training                         | adagrad  |</pre>"
            ],
            "text/plain": [
              "| solver                         | Solver used for training                         | adagrad  |"
            ]
          },
          "metadata": {
            "tags": []
          }
        },
        {
          "output_type": "display_data",
          "data": {
            "text/html": [
              "<pre>| linear_regularization          | L2 Regularization on Linear Coefficients         | 1e-10    |</pre>"
            ],
            "text/plain": [
              "| linear_regularization          | L2 Regularization on Linear Coefficients         | 1e-10    |"
            ]
          },
          "metadata": {
            "tags": []
          }
        },
        {
          "output_type": "display_data",
          "data": {
            "text/html": [
              "<pre>| max_iterations                 | Maximum Number of Iterations                     | 50       |</pre>"
            ],
            "text/plain": [
              "| max_iterations                 | Maximum Number of Iterations                     | 50       |"
            ]
          },
          "metadata": {
            "tags": []
          }
        },
        {
          "output_type": "display_data",
          "data": {
            "text/html": [
              "<pre>+--------------------------------+--------------------------------------------------+----------+</pre>"
            ],
            "text/plain": [
              "+--------------------------------+--------------------------------------------------+----------+"
            ]
          },
          "metadata": {
            "tags": []
          }
        },
        {
          "output_type": "display_data",
          "data": {
            "text/html": [
              "<pre>  Optimizing model using SGD; tuning step size.</pre>"
            ],
            "text/plain": [
              "  Optimizing model using SGD; tuning step size."
            ]
          },
          "metadata": {
            "tags": []
          }
        },
        {
          "output_type": "display_data",
          "data": {
            "text/html": [
              "<pre>  Using 16191 / 129535 points for tuning the step size.</pre>"
            ],
            "text/plain": [
              "  Using 16191 / 129535 points for tuning the step size."
            ]
          },
          "metadata": {
            "tags": []
          }
        },
        {
          "output_type": "display_data",
          "data": {
            "text/html": [
              "<pre>+---------+-------------------+------------------------------------------+</pre>"
            ],
            "text/plain": [
              "+---------+-------------------+------------------------------------------+"
            ]
          },
          "metadata": {
            "tags": []
          }
        },
        {
          "output_type": "display_data",
          "data": {
            "text/html": [
              "<pre>| Attempt | Initial Step Size | Estimated Objective Value                |</pre>"
            ],
            "text/plain": [
              "| Attempt | Initial Step Size | Estimated Objective Value                |"
            ]
          },
          "metadata": {
            "tags": []
          }
        },
        {
          "output_type": "display_data",
          "data": {
            "text/html": [
              "<pre>+---------+-------------------+------------------------------------------+</pre>"
            ],
            "text/plain": [
              "+---------+-------------------+------------------------------------------+"
            ]
          },
          "metadata": {
            "tags": []
          }
        },
        {
          "output_type": "display_data",
          "data": {
            "text/html": [
              "<pre>| 0       | 16.6667           | Not Viable                               |</pre>"
            ],
            "text/plain": [
              "| 0       | 16.6667           | Not Viable                               |"
            ]
          },
          "metadata": {
            "tags": []
          }
        },
        {
          "output_type": "display_data",
          "data": {
            "text/html": [
              "<pre>| 1       | 4.16667           | Not Viable                               |</pre>"
            ],
            "text/plain": [
              "| 1       | 4.16667           | Not Viable                               |"
            ]
          },
          "metadata": {
            "tags": []
          }
        },
        {
          "output_type": "display_data",
          "data": {
            "text/html": [
              "<pre>| 2       | 1.04167           | Not Viable                               |</pre>"
            ],
            "text/plain": [
              "| 2       | 1.04167           | Not Viable                               |"
            ]
          },
          "metadata": {
            "tags": []
          }
        },
        {
          "output_type": "display_data",
          "data": {
            "text/html": [
              "<pre>| 3       | 0.260417          | 0.668561                                 |</pre>"
            ],
            "text/plain": [
              "| 3       | 0.260417          | 0.668561                                 |"
            ]
          },
          "metadata": {
            "tags": []
          }
        },
        {
          "output_type": "display_data",
          "data": {
            "text/html": [
              "<pre>| 4       | 0.130208          | 1.4208                                   |</pre>"
            ],
            "text/plain": [
              "| 4       | 0.130208          | 1.4208                                   |"
            ]
          },
          "metadata": {
            "tags": []
          }
        },
        {
          "output_type": "display_data",
          "data": {
            "text/html": [
              "<pre>+---------+-------------------+------------------------------------------+</pre>"
            ],
            "text/plain": [
              "+---------+-------------------+------------------------------------------+"
            ]
          },
          "metadata": {
            "tags": []
          }
        },
        {
          "output_type": "display_data",
          "data": {
            "text/html": [
              "<pre>| Final   | 0.260417          | 0.668561                                 |</pre>"
            ],
            "text/plain": [
              "| Final   | 0.260417          | 0.668561                                 |"
            ]
          },
          "metadata": {
            "tags": []
          }
        },
        {
          "output_type": "display_data",
          "data": {
            "text/html": [
              "<pre>+---------+-------------------+------------------------------------------+</pre>"
            ],
            "text/plain": [
              "+---------+-------------------+------------------------------------------+"
            ]
          },
          "metadata": {
            "tags": []
          }
        },
        {
          "output_type": "display_data",
          "data": {
            "text/html": [
              "<pre>Starting Optimization.</pre>"
            ],
            "text/plain": [
              "Starting Optimization."
            ]
          },
          "metadata": {
            "tags": []
          }
        },
        {
          "output_type": "display_data",
          "data": {
            "text/html": [
              "<pre>+---------+--------------+-------------------+-----------------------+-------------+</pre>"
            ],
            "text/plain": [
              "+---------+--------------+-------------------+-----------------------+-------------+"
            ]
          },
          "metadata": {
            "tags": []
          }
        },
        {
          "output_type": "display_data",
          "data": {
            "text/html": [
              "<pre>| Iter.   | Elapsed Time | Approx. Objective | Approx. Training RMSE | Step Size   |</pre>"
            ],
            "text/plain": [
              "| Iter.   | Elapsed Time | Approx. Objective | Approx. Training RMSE | Step Size   |"
            ]
          },
          "metadata": {
            "tags": []
          }
        },
        {
          "output_type": "display_data",
          "data": {
            "text/html": [
              "<pre>+---------+--------------+-------------------+-----------------------+-------------+</pre>"
            ],
            "text/plain": [
              "+---------+--------------+-------------------+-----------------------+-------------+"
            ]
          },
          "metadata": {
            "tags": []
          }
        },
        {
          "output_type": "display_data",
          "data": {
            "text/html": [
              "<pre>| Initial | 52us         | 5.10709           | 2.25989               |             |</pre>"
            ],
            "text/plain": [
              "| Initial | 52us         | 5.10709           | 2.25989               |             |"
            ]
          },
          "metadata": {
            "tags": []
          }
        },
        {
          "output_type": "display_data",
          "data": {
            "text/html": [
              "<pre>+---------+--------------+-------------------+-----------------------+-------------+</pre>"
            ],
            "text/plain": [
              "+---------+--------------+-------------------+-----------------------+-------------+"
            ]
          },
          "metadata": {
            "tags": []
          }
        },
        {
          "output_type": "display_data",
          "data": {
            "text/html": [
              "<pre>| 1       | 66.026ms     | 3.34935           | 1.83008               | 0.260417    |</pre>"
            ],
            "text/plain": [
              "| 1       | 66.026ms     | 3.34935           | 1.83008               | 0.260417    |"
            ]
          },
          "metadata": {
            "tags": []
          }
        },
        {
          "output_type": "display_data",
          "data": {
            "text/html": [
              "<pre>| 2       | 135.612ms    | 2.43849           | 1.56151               | 0.260417    |</pre>"
            ],
            "text/plain": [
              "| 2       | 135.612ms    | 2.43849           | 1.56151               | 0.260417    |"
            ]
          },
          "metadata": {
            "tags": []
          }
        },
        {
          "output_type": "display_data",
          "data": {
            "text/html": [
              "<pre>| 3       | 183.958ms    | 1.9277            | 1.38836               | 0.260417    |</pre>"
            ],
            "text/plain": [
              "| 3       | 183.958ms    | 1.9277            | 1.38836               | 0.260417    |"
            ]
          },
          "metadata": {
            "tags": []
          }
        },
        {
          "output_type": "display_data",
          "data": {
            "text/html": [
              "<pre>| 4       | 244.922ms    | 1.65556           | 1.28662               | 0.260417    |</pre>"
            ],
            "text/plain": [
              "| 4       | 244.922ms    | 1.65556           | 1.28662               | 0.260417    |"
            ]
          },
          "metadata": {
            "tags": []
          }
        },
        {
          "output_type": "display_data",
          "data": {
            "text/html": [
              "<pre>| 5       | 303.043ms    | 1.54517           | 1.24297               | 0.260417    |</pre>"
            ],
            "text/plain": [
              "| 5       | 303.043ms    | 1.54517           | 1.24297               | 0.260417    |"
            ]
          },
          "metadata": {
            "tags": []
          }
        },
        {
          "output_type": "display_data",
          "data": {
            "text/html": [
              "<pre>| 10      | 578.598ms    | 1.10297           | 1.05012               | 0.260417    |</pre>"
            ],
            "text/plain": [
              "| 10      | 578.598ms    | 1.10297           | 1.05012               | 0.260417    |"
            ]
          },
          "metadata": {
            "tags": []
          }
        },
        {
          "output_type": "display_data",
          "data": {
            "text/html": [
              "<pre>| 21      | 1.19s        | DIVERGED          | DIVERGED              | 0.260417    |</pre>"
            ],
            "text/plain": [
              "| 21      | 1.19s        | DIVERGED          | DIVERGED              | 0.260417    |"
            ]
          },
          "metadata": {
            "tags": []
          }
        },
        {
          "output_type": "display_data",
          "data": {
            "text/html": [
              "<pre>| RESET   | 1.22s        | 5.10579           | 2.2596                |             |</pre>"
            ],
            "text/plain": [
              "| RESET   | 1.22s        | 5.10579           | 2.2596                |             |"
            ]
          },
          "metadata": {
            "tags": []
          }
        },
        {
          "output_type": "display_data",
          "data": {
            "text/html": [
              "<pre>| 14      | 2.00s        | DIVERGED          | DIVERGED              | 0.130208    |</pre>"
            ],
            "text/plain": [
              "| 14      | 2.00s        | DIVERGED          | DIVERGED              | 0.130208    |"
            ]
          },
          "metadata": {
            "tags": []
          }
        },
        {
          "output_type": "display_data",
          "data": {
            "text/html": [
              "<pre>| RESET   | 2.03s        | 5.10578           | 2.2596                |             |</pre>"
            ],
            "text/plain": [
              "| RESET   | 2.03s        | 5.10578           | 2.2596                |             |"
            ]
          },
          "metadata": {
            "tags": []
          }
        },
        {
          "output_type": "display_data",
          "data": {
            "text/html": [
              "<pre>| 15      | 2.86s        | 2.9626            | 1.72121               | 0.0651042   |</pre>"
            ],
            "text/plain": [
              "| 15      | 2.86s        | 2.9626            | 1.72121               | 0.0651042   |"
            ]
          },
          "metadata": {
            "tags": []
          }
        },
        {
          "output_type": "display_data",
          "data": {
            "text/html": [
              "<pre>| 20      | 3.13s        | 2.83593           | 1.68402               | 0.0651042   |</pre>"
            ],
            "text/plain": [
              "| 20      | 3.13s        | 2.83593           | 1.68402               | 0.0651042   |"
            ]
          },
          "metadata": {
            "tags": []
          }
        },
        {
          "output_type": "display_data",
          "data": {
            "text/html": [
              "<pre>+---------+--------------+-------------------+-----------------------+-------------+</pre>"
            ],
            "text/plain": [
              "+---------+--------------+-------------------+-----------------------+-------------+"
            ]
          },
          "metadata": {
            "tags": []
          }
        },
        {
          "output_type": "display_data",
          "data": {
            "text/html": [
              "<pre>Optimization Complete: Maximum number of passes through the data reached (hard limit).</pre>"
            ],
            "text/plain": [
              "Optimization Complete: Maximum number of passes through the data reached (hard limit)."
            ]
          },
          "metadata": {
            "tags": []
          }
        },
        {
          "output_type": "display_data",
          "data": {
            "text/html": [
              "<pre>Computing final objective value and training RMSE.</pre>"
            ],
            "text/plain": [
              "Computing final objective value and training RMSE."
            ]
          },
          "metadata": {
            "tags": []
          }
        },
        {
          "output_type": "display_data",
          "data": {
            "text/html": [
              "<pre>       Final objective value: 2.85355</pre>"
            ],
            "text/plain": [
              "       Final objective value: 2.85355"
            ]
          },
          "metadata": {
            "tags": []
          }
        },
        {
          "output_type": "display_data",
          "data": {
            "text/html": [
              "<pre>       Final training RMSE: 1.68924</pre>"
            ],
            "text/plain": [
              "       Final training RMSE: 1.68924"
            ]
          },
          "metadata": {
            "tags": []
          }
        }
      ]
    },
    {
      "cell_type": "code",
      "metadata": {
        "id": "cLkRbwY7QiNs",
        "colab_type": "code",
        "outputId": "5e993228-f91c-49f2-9648-257dad696211",
        "colab": {
          "base_uri": "https://localhost:8080/",
          "height": 225
        }
      },
      "source": [
        "recommendations = m.recommend()"
      ],
      "execution_count": 26,
      "outputs": [
        {
          "output_type": "display_data",
          "data": {
            "text/html": [
              "<pre>recommendations finished on 1000/12393 queries. users per second: 5268.62</pre>"
            ],
            "text/plain": [
              "recommendations finished on 1000/12393 queries. users per second: 5268.62"
            ]
          },
          "metadata": {
            "tags": []
          }
        },
        {
          "output_type": "display_data",
          "data": {
            "text/html": [
              "<pre>recommendations finished on 2000/12393 queries. users per second: 5314.61</pre>"
            ],
            "text/plain": [
              "recommendations finished on 2000/12393 queries. users per second: 5314.61"
            ]
          },
          "metadata": {
            "tags": []
          }
        },
        {
          "output_type": "display_data",
          "data": {
            "text/html": [
              "<pre>recommendations finished on 3000/12393 queries. users per second: 5352.11</pre>"
            ],
            "text/plain": [
              "recommendations finished on 3000/12393 queries. users per second: 5352.11"
            ]
          },
          "metadata": {
            "tags": []
          }
        },
        {
          "output_type": "display_data",
          "data": {
            "text/html": [
              "<pre>recommendations finished on 4000/12393 queries. users per second: 5367.46</pre>"
            ],
            "text/plain": [
              "recommendations finished on 4000/12393 queries. users per second: 5367.46"
            ]
          },
          "metadata": {
            "tags": []
          }
        },
        {
          "output_type": "display_data",
          "data": {
            "text/html": [
              "<pre>recommendations finished on 5000/12393 queries. users per second: 5373.13</pre>"
            ],
            "text/plain": [
              "recommendations finished on 5000/12393 queries. users per second: 5373.13"
            ]
          },
          "metadata": {
            "tags": []
          }
        },
        {
          "output_type": "display_data",
          "data": {
            "text/html": [
              "<pre>recommendations finished on 6000/12393 queries. users per second: 5369.22</pre>"
            ],
            "text/plain": [
              "recommendations finished on 6000/12393 queries. users per second: 5369.22"
            ]
          },
          "metadata": {
            "tags": []
          }
        },
        {
          "output_type": "display_data",
          "data": {
            "text/html": [
              "<pre>recommendations finished on 7000/12393 queries. users per second: 5358.52</pre>"
            ],
            "text/plain": [
              "recommendations finished on 7000/12393 queries. users per second: 5358.52"
            ]
          },
          "metadata": {
            "tags": []
          }
        },
        {
          "output_type": "display_data",
          "data": {
            "text/html": [
              "<pre>recommendations finished on 8000/12393 queries. users per second: 5360.84</pre>"
            ],
            "text/plain": [
              "recommendations finished on 8000/12393 queries. users per second: 5360.84"
            ]
          },
          "metadata": {
            "tags": []
          }
        },
        {
          "output_type": "display_data",
          "data": {
            "text/html": [
              "<pre>recommendations finished on 9000/12393 queries. users per second: 5365.86</pre>"
            ],
            "text/plain": [
              "recommendations finished on 9000/12393 queries. users per second: 5365.86"
            ]
          },
          "metadata": {
            "tags": []
          }
        },
        {
          "output_type": "display_data",
          "data": {
            "text/html": [
              "<pre>recommendations finished on 10000/12393 queries. users per second: 5378.74</pre>"
            ],
            "text/plain": [
              "recommendations finished on 10000/12393 queries. users per second: 5378.74"
            ]
          },
          "metadata": {
            "tags": []
          }
        },
        {
          "output_type": "display_data",
          "data": {
            "text/html": [
              "<pre>recommendations finished on 11000/12393 queries. users per second: 5386.94</pre>"
            ],
            "text/plain": [
              "recommendations finished on 11000/12393 queries. users per second: 5386.94"
            ]
          },
          "metadata": {
            "tags": []
          }
        },
        {
          "output_type": "display_data",
          "data": {
            "text/html": [
              "<pre>recommendations finished on 12000/12393 queries. users per second: 5440.16</pre>"
            ],
            "text/plain": [
              "recommendations finished on 12000/12393 queries. users per second: 5440.16"
            ]
          },
          "metadata": {
            "tags": []
          }
        }
      ]
    },
    {
      "cell_type": "markdown",
      "metadata": {
        "id": "JOMHQ2xzo0FL",
        "colab_type": "text"
      },
      "source": [
        "### USER DESCRIPTION AND RECOMMENDATIONS"
      ]
    },
    {
      "cell_type": "markdown",
      "metadata": {
        "id": "PzrLlPE0Pk1_",
        "colab_type": "text"
      },
      "source": [
        "###TOP USER 1"
      ]
    },
    {
      "cell_type": "code",
      "metadata": {
        "id": "9T0Sjm4tSMuI",
        "colab_type": "code",
        "outputId": "86e1cbda-6cfa-4280-b2ff-185e51c71787",
        "colab": {
          "base_uri": "https://localhost:8080/",
          "height": 319
        }
      },
      "source": [
        "fr1 = m.recommend(users=['151603712'])\n",
        "fr1.head(20)"
      ],
      "execution_count": 27,
      "outputs": [
        {
          "output_type": "execute_result",
          "data": {
            "text/html": [
              "<div style=\"max-height:1000px;max-width:1500px;overflow:auto;\"><table frame=\"box\" rules=\"cols\">\n",
              "    <tr>\n",
              "        <th style=\"padding-left: 1em; padding-right: 1em; text-align: center\">UserID</th>\n",
              "        <th style=\"padding-left: 1em; padding-right: 1em; text-align: center\">Game</th>\n",
              "        <th style=\"padding-left: 1em; padding-right: 1em; text-align: center\">score</th>\n",
              "        <th style=\"padding-left: 1em; padding-right: 1em; text-align: center\">rank</th>\n",
              "    </tr>\n",
              "    <tr>\n",
              "        <td style=\"padding-left: 1em; padding-right: 1em; text-align: center; vertical-align: top\">151603712</td>\n",
              "        <td style=\"padding-left: 1em; padding-right: 1em; text-align: center; vertical-align: top\">Counter-Strike</td>\n",
              "        <td style=\"padding-left: 1em; padding-right: 1em; text-align: center; vertical-align: top\">3.59921151535447</td>\n",
              "        <td style=\"padding-left: 1em; padding-right: 1em; text-align: center; vertical-align: top\">1</td>\n",
              "    </tr>\n",
              "    <tr>\n",
              "        <td style=\"padding-left: 1em; padding-right: 1em; text-align: center; vertical-align: top\">151603712</td>\n",
              "        <td style=\"padding-left: 1em; padding-right: 1em; text-align: center; vertical-align: top\">Counter-Strike Source</td>\n",
              "        <td style=\"padding-left: 1em; padding-right: 1em; text-align: center; vertical-align: top\">3.318337859081582</td>\n",
              "        <td style=\"padding-left: 1em; padding-right: 1em; text-align: center; vertical-align: top\">2</td>\n",
              "    </tr>\n",
              "    <tr>\n",
              "        <td style=\"padding-left: 1em; padding-right: 1em; text-align: center; vertical-align: top\">151603712</td>\n",
              "        <td style=\"padding-left: 1em; padding-right: 1em; text-align: center; vertical-align: top\">Counter-Strike Global<br>Offensive ...</td>\n",
              "        <td style=\"padding-left: 1em; padding-right: 1em; text-align: center; vertical-align: top\">3.295660690831498</td>\n",
              "        <td style=\"padding-left: 1em; padding-right: 1em; text-align: center; vertical-align: top\">3</td>\n",
              "    </tr>\n",
              "    <tr>\n",
              "        <td style=\"padding-left: 1em; padding-right: 1em; text-align: center; vertical-align: top\">151603712</td>\n",
              "        <td style=\"padding-left: 1em; padding-right: 1em; text-align: center; vertical-align: top\">Half-Life 2</td>\n",
              "        <td style=\"padding-left: 1em; padding-right: 1em; text-align: center; vertical-align: top\">3.0173503472083367</td>\n",
              "        <td style=\"padding-left: 1em; padding-right: 1em; text-align: center; vertical-align: top\">4</td>\n",
              "    </tr>\n",
              "    <tr>\n",
              "        <td style=\"padding-left: 1em; padding-right: 1em; text-align: center; vertical-align: top\">151603712</td>\n",
              "        <td style=\"padding-left: 1em; padding-right: 1em; text-align: center; vertical-align: top\">Unturned</td>\n",
              "        <td style=\"padding-left: 1em; padding-right: 1em; text-align: center; vertical-align: top\">2.8074335767501153</td>\n",
              "        <td style=\"padding-left: 1em; padding-right: 1em; text-align: center; vertical-align: top\">5</td>\n",
              "    </tr>\n",
              "    <tr>\n",
              "        <td style=\"padding-left: 1em; padding-right: 1em; text-align: center; vertical-align: top\">151603712</td>\n",
              "        <td style=\"padding-left: 1em; padding-right: 1em; text-align: center; vertical-align: top\">Sid Meier&#x27;s Civilization<br>V ...</td>\n",
              "        <td style=\"padding-left: 1em; padding-right: 1em; text-align: center; vertical-align: top\">2.735713945197419</td>\n",
              "        <td style=\"padding-left: 1em; padding-right: 1em; text-align: center; vertical-align: top\">6</td>\n",
              "    </tr>\n",
              "    <tr>\n",
              "        <td style=\"padding-left: 1em; padding-right: 1em; text-align: center; vertical-align: top\">151603712</td>\n",
              "        <td style=\"padding-left: 1em; padding-right: 1em; text-align: center; vertical-align: top\">Counter-Strike Nexon<br>Zombies ...</td>\n",
              "        <td style=\"padding-left: 1em; padding-right: 1em; text-align: center; vertical-align: top\">2.7023700712793626</td>\n",
              "        <td style=\"padding-left: 1em; padding-right: 1em; text-align: center; vertical-align: top\">7</td>\n",
              "    </tr>\n",
              "    <tr>\n",
              "        <td style=\"padding-left: 1em; padding-right: 1em; text-align: center; vertical-align: top\">151603712</td>\n",
              "        <td style=\"padding-left: 1em; padding-right: 1em; text-align: center; vertical-align: top\">Call of Duty Modern<br>Warfare 2 ...</td>\n",
              "        <td style=\"padding-left: 1em; padding-right: 1em; text-align: center; vertical-align: top\">2.666452520953969</td>\n",
              "        <td style=\"padding-left: 1em; padding-right: 1em; text-align: center; vertical-align: top\">8</td>\n",
              "    </tr>\n",
              "    <tr>\n",
              "        <td style=\"padding-left: 1em; padding-right: 1em; text-align: center; vertical-align: top\">151603712</td>\n",
              "        <td style=\"padding-left: 1em; padding-right: 1em; text-align: center; vertical-align: top\">Ricochet</td>\n",
              "        <td style=\"padding-left: 1em; padding-right: 1em; text-align: center; vertical-align: top\">2.642383040355996</td>\n",
              "        <td style=\"padding-left: 1em; padding-right: 1em; text-align: center; vertical-align: top\">9</td>\n",
              "    </tr>\n",
              "    <tr>\n",
              "        <td style=\"padding-left: 1em; padding-right: 1em; text-align: center; vertical-align: top\">151603712</td>\n",
              "        <td style=\"padding-left: 1em; padding-right: 1em; text-align: center; vertical-align: top\">Half-Life Blue Shift</td>\n",
              "        <td style=\"padding-left: 1em; padding-right: 1em; text-align: center; vertical-align: top\">2.63719497756894</td>\n",
              "        <td style=\"padding-left: 1em; padding-right: 1em; text-align: center; vertical-align: top\">10</td>\n",
              "    </tr>\n",
              "</table>\n",
              "[10 rows x 4 columns]<br/>\n",
              "</div>"
            ],
            "text/plain": [
              "Columns:\n",
              "\tUserID\tint\n",
              "\tGame\tstr\n",
              "\tscore\tfloat\n",
              "\trank\tint\n",
              "\n",
              "Rows: 10\n",
              "\n",
              "Data:\n",
              "+-----------+-------------------------------+--------------------+------+\n",
              "|   UserID  |              Game             |       score        | rank |\n",
              "+-----------+-------------------------------+--------------------+------+\n",
              "| 151603712 |         Counter-Strike        |  3.59921151535447  |  1   |\n",
              "| 151603712 |     Counter-Strike Source     | 3.318337859081582  |  2   |\n",
              "| 151603712 | Counter-Strike Global Offe... | 3.295660690831498  |  3   |\n",
              "| 151603712 |          Half-Life 2          | 3.0173503472083367 |  4   |\n",
              "| 151603712 |            Unturned           | 2.8074335767501153 |  5   |\n",
              "| 151603712 |   Sid Meier's Civilization V  | 2.735713945197419  |  6   |\n",
              "| 151603712 |  Counter-Strike Nexon Zombies | 2.7023700712793626 |  7   |\n",
              "| 151603712 | Call of Duty Modern Warfare 2 | 2.666452520953969  |  8   |\n",
              "| 151603712 |            Ricochet           | 2.642383040355996  |  9   |\n",
              "| 151603712 |      Half-Life Blue Shift     |  2.63719497756894  |  10  |\n",
              "+-----------+-------------------------------+--------------------+------+\n",
              "[10 rows x 4 columns]"
            ]
          },
          "metadata": {
            "tags": []
          },
          "execution_count": 27
        }
      ]
    },
    {
      "cell_type": "markdown",
      "metadata": {
        "id": "4dGgaI4AP8JL",
        "colab_type": "text"
      },
      "source": [
        "### Creating a dataframe"
      ]
    },
    {
      "cell_type": "code",
      "metadata": {
        "id": "4iOuJSsv9Q2S",
        "colab_type": "code",
        "colab": {
          "base_uri": "https://localhost:8080/",
          "height": 363
        },
        "outputId": "b1ed7ee9-dcad-4ef5-9399-1689e3d8cf95"
      },
      "source": [
        "fact1 = pd.DataFrame(fr1)\n",
        "fact1.drop([\"UserID\",\"rank\"],axis = 1, inplace = True)\n",
        "fact1.rename(columns={'Game': 'Game_FR', 'score': 'score_FR'}, inplace=True)\n",
        "fact1.head(10)"
      ],
      "execution_count": 28,
      "outputs": [
        {
          "output_type": "execute_result",
          "data": {
            "text/html": [
              "<div>\n",
              "<style scoped>\n",
              "    .dataframe tbody tr th:only-of-type {\n",
              "        vertical-align: middle;\n",
              "    }\n",
              "\n",
              "    .dataframe tbody tr th {\n",
              "        vertical-align: top;\n",
              "    }\n",
              "\n",
              "    .dataframe thead th {\n",
              "        text-align: right;\n",
              "    }\n",
              "</style>\n",
              "<table border=\"1\" class=\"dataframe\">\n",
              "  <thead>\n",
              "    <tr style=\"text-align: right;\">\n",
              "      <th></th>\n",
              "      <th>Game_FR</th>\n",
              "      <th>score_FR</th>\n",
              "    </tr>\n",
              "  </thead>\n",
              "  <tbody>\n",
              "    <tr>\n",
              "      <th>0</th>\n",
              "      <td>Counter-Strike</td>\n",
              "      <td>3.599212</td>\n",
              "    </tr>\n",
              "    <tr>\n",
              "      <th>1</th>\n",
              "      <td>Counter-Strike Source</td>\n",
              "      <td>3.318338</td>\n",
              "    </tr>\n",
              "    <tr>\n",
              "      <th>2</th>\n",
              "      <td>Counter-Strike Global Offensive</td>\n",
              "      <td>3.295661</td>\n",
              "    </tr>\n",
              "    <tr>\n",
              "      <th>3</th>\n",
              "      <td>Half-Life 2</td>\n",
              "      <td>3.017350</td>\n",
              "    </tr>\n",
              "    <tr>\n",
              "      <th>4</th>\n",
              "      <td>Unturned</td>\n",
              "      <td>2.807434</td>\n",
              "    </tr>\n",
              "    <tr>\n",
              "      <th>5</th>\n",
              "      <td>Sid Meier's Civilization V</td>\n",
              "      <td>2.735714</td>\n",
              "    </tr>\n",
              "    <tr>\n",
              "      <th>6</th>\n",
              "      <td>Counter-Strike Nexon Zombies</td>\n",
              "      <td>2.702370</td>\n",
              "    </tr>\n",
              "    <tr>\n",
              "      <th>7</th>\n",
              "      <td>Call of Duty Modern Warfare 2</td>\n",
              "      <td>2.666453</td>\n",
              "    </tr>\n",
              "    <tr>\n",
              "      <th>8</th>\n",
              "      <td>Ricochet</td>\n",
              "      <td>2.642383</td>\n",
              "    </tr>\n",
              "    <tr>\n",
              "      <th>9</th>\n",
              "      <td>Half-Life Blue Shift</td>\n",
              "      <td>2.637195</td>\n",
              "    </tr>\n",
              "  </tbody>\n",
              "</table>\n",
              "</div>"
            ],
            "text/plain": [
              "                           Game_FR  score_FR\n",
              "0                   Counter-Strike  3.599212\n",
              "1            Counter-Strike Source  3.318338\n",
              "2  Counter-Strike Global Offensive  3.295661\n",
              "3                      Half-Life 2  3.017350\n",
              "4                         Unturned  2.807434\n",
              "5       Sid Meier's Civilization V  2.735714\n",
              "6     Counter-Strike Nexon Zombies  2.702370\n",
              "7    Call of Duty Modern Warfare 2  2.666453\n",
              "8                         Ricochet  2.642383\n",
              "9             Half-Life Blue Shift  2.637195"
            ]
          },
          "metadata": {
            "tags": []
          },
          "execution_count": 28
        }
      ]
    },
    {
      "cell_type": "markdown",
      "metadata": {
        "id": "ahjYxiOSQF9j",
        "colab_type": "text"
      },
      "source": [
        "### Creating a dataframe"
      ]
    },
    {
      "cell_type": "code",
      "metadata": {
        "id": "q5QYWxHQTt1e",
        "colab_type": "code",
        "outputId": "0bf39016-c6fc-4917-f4c3-6fcac6ccb43e",
        "colab": {
          "base_uri": "https://localhost:8080/",
          "height": 1000
        }
      },
      "source": [
        "clean_df.loc[clean_df[\"UserID\"] == 151603712,[\"Game\",\"Played_hours\",\"Ranking\"]]"
      ],
      "execution_count": 29,
      "outputs": [
        {
          "output_type": "execute_result",
          "data": {
            "text/html": [
              "<div>\n",
              "<style scoped>\n",
              "    .dataframe tbody tr th:only-of-type {\n",
              "        vertical-align: middle;\n",
              "    }\n",
              "\n",
              "    .dataframe tbody tr th {\n",
              "        vertical-align: top;\n",
              "    }\n",
              "\n",
              "    .dataframe thead th {\n",
              "        text-align: right;\n",
              "    }\n",
              "</style>\n",
              "<table border=\"1\" class=\"dataframe\">\n",
              "  <thead>\n",
              "    <tr style=\"text-align: right;\">\n",
              "      <th></th>\n",
              "      <th>Game</th>\n",
              "      <th>Played_hours</th>\n",
              "      <th>Ranking</th>\n",
              "    </tr>\n",
              "  </thead>\n",
              "  <tbody>\n",
              "    <tr>\n",
              "      <th>0</th>\n",
              "      <td>The Elder Scrolls V Skyrim</td>\n",
              "      <td>273.0</td>\n",
              "      <td>10.0</td>\n",
              "    </tr>\n",
              "    <tr>\n",
              "      <th>1</th>\n",
              "      <td>Fallout 4</td>\n",
              "      <td>87.0</td>\n",
              "      <td>4.0</td>\n",
              "    </tr>\n",
              "    <tr>\n",
              "      <th>2</th>\n",
              "      <td>Spore</td>\n",
              "      <td>14.9</td>\n",
              "      <td>1.0</td>\n",
              "    </tr>\n",
              "    <tr>\n",
              "      <th>3</th>\n",
              "      <td>Fallout New Vegas</td>\n",
              "      <td>12.1</td>\n",
              "      <td>1.0</td>\n",
              "    </tr>\n",
              "    <tr>\n",
              "      <th>4</th>\n",
              "      <td>Left 4 Dead 2</td>\n",
              "      <td>8.9</td>\n",
              "      <td>1.0</td>\n",
              "    </tr>\n",
              "    <tr>\n",
              "      <th>5</th>\n",
              "      <td>HuniePop</td>\n",
              "      <td>8.5</td>\n",
              "      <td>1.0</td>\n",
              "    </tr>\n",
              "    <tr>\n",
              "      <th>6</th>\n",
              "      <td>Path of Exile</td>\n",
              "      <td>8.1</td>\n",
              "      <td>1.0</td>\n",
              "    </tr>\n",
              "    <tr>\n",
              "      <th>7</th>\n",
              "      <td>Poly Bridge</td>\n",
              "      <td>7.5</td>\n",
              "      <td>1.0</td>\n",
              "    </tr>\n",
              "    <tr>\n",
              "      <th>8</th>\n",
              "      <td>Left 4 Dead</td>\n",
              "      <td>3.3</td>\n",
              "      <td>1.0</td>\n",
              "    </tr>\n",
              "    <tr>\n",
              "      <th>9</th>\n",
              "      <td>Team Fortress 2</td>\n",
              "      <td>2.8</td>\n",
              "      <td>1.0</td>\n",
              "    </tr>\n",
              "    <tr>\n",
              "      <th>10</th>\n",
              "      <td>Tomb Raider</td>\n",
              "      <td>2.5</td>\n",
              "      <td>1.0</td>\n",
              "    </tr>\n",
              "    <tr>\n",
              "      <th>11</th>\n",
              "      <td>The Banner Saga</td>\n",
              "      <td>2.0</td>\n",
              "      <td>1.0</td>\n",
              "    </tr>\n",
              "    <tr>\n",
              "      <th>12</th>\n",
              "      <td>Dead Island Epidemic</td>\n",
              "      <td>1.4</td>\n",
              "      <td>1.0</td>\n",
              "    </tr>\n",
              "    <tr>\n",
              "      <th>13</th>\n",
              "      <td>BioShock Infinite</td>\n",
              "      <td>1.3</td>\n",
              "      <td>1.0</td>\n",
              "    </tr>\n",
              "    <tr>\n",
              "      <th>14</th>\n",
              "      <td>Dragon Age Origins - Ultimate Edition</td>\n",
              "      <td>1.3</td>\n",
              "      <td>1.0</td>\n",
              "    </tr>\n",
              "    <tr>\n",
              "      <th>15</th>\n",
              "      <td>Fallout 3 - Game of the Year Edition</td>\n",
              "      <td>0.8</td>\n",
              "      <td>1.0</td>\n",
              "    </tr>\n",
              "    <tr>\n",
              "      <th>16</th>\n",
              "      <td>SEGA Genesis &amp; Mega Drive Classics</td>\n",
              "      <td>0.8</td>\n",
              "      <td>1.0</td>\n",
              "    </tr>\n",
              "    <tr>\n",
              "      <th>17</th>\n",
              "      <td>Grand Theft Auto IV</td>\n",
              "      <td>0.6</td>\n",
              "      <td>1.0</td>\n",
              "    </tr>\n",
              "    <tr>\n",
              "      <th>18</th>\n",
              "      <td>Realm of the Mad God</td>\n",
              "      <td>0.5</td>\n",
              "      <td>1.0</td>\n",
              "    </tr>\n",
              "    <tr>\n",
              "      <th>19</th>\n",
              "      <td>Marvel Heroes 2015</td>\n",
              "      <td>0.5</td>\n",
              "      <td>1.0</td>\n",
              "    </tr>\n",
              "    <tr>\n",
              "      <th>20</th>\n",
              "      <td>Eldevin</td>\n",
              "      <td>0.5</td>\n",
              "      <td>1.0</td>\n",
              "    </tr>\n",
              "    <tr>\n",
              "      <th>21</th>\n",
              "      <td>Dota 2</td>\n",
              "      <td>0.5</td>\n",
              "      <td>1.0</td>\n",
              "    </tr>\n",
              "    <tr>\n",
              "      <th>22</th>\n",
              "      <td>BioShock</td>\n",
              "      <td>0.5</td>\n",
              "      <td>1.0</td>\n",
              "    </tr>\n",
              "    <tr>\n",
              "      <th>23</th>\n",
              "      <td>Robocraft</td>\n",
              "      <td>0.4</td>\n",
              "      <td>1.0</td>\n",
              "    </tr>\n",
              "    <tr>\n",
              "      <th>24</th>\n",
              "      <td>Garry's Mod</td>\n",
              "      <td>0.1</td>\n",
              "      <td>1.0</td>\n",
              "    </tr>\n",
              "    <tr>\n",
              "      <th>25</th>\n",
              "      <td>Jazzpunk</td>\n",
              "      <td>0.1</td>\n",
              "      <td>1.0</td>\n",
              "    </tr>\n",
              "    <tr>\n",
              "      <th>26</th>\n",
              "      <td>Alan Wake</td>\n",
              "      <td>0.0</td>\n",
              "      <td>1.0</td>\n",
              "    </tr>\n",
              "    <tr>\n",
              "      <th>27</th>\n",
              "      <td>BioShock 2</td>\n",
              "      <td>0.0</td>\n",
              "      <td>1.0</td>\n",
              "    </tr>\n",
              "    <tr>\n",
              "      <th>28</th>\n",
              "      <td>Fallen Earth</td>\n",
              "      <td>0.0</td>\n",
              "      <td>1.0</td>\n",
              "    </tr>\n",
              "    <tr>\n",
              "      <th>29</th>\n",
              "      <td>Fallout New Vegas Courier's Stash</td>\n",
              "      <td>0.0</td>\n",
              "      <td>1.0</td>\n",
              "    </tr>\n",
              "    <tr>\n",
              "      <th>30</th>\n",
              "      <td>Fallout New Vegas Dead Money</td>\n",
              "      <td>0.0</td>\n",
              "      <td>1.0</td>\n",
              "    </tr>\n",
              "    <tr>\n",
              "      <th>31</th>\n",
              "      <td>Fallout New Vegas Honest Hearts</td>\n",
              "      <td>0.0</td>\n",
              "      <td>1.0</td>\n",
              "    </tr>\n",
              "    <tr>\n",
              "      <th>32</th>\n",
              "      <td>Grand Theft Auto Episodes from Liberty City</td>\n",
              "      <td>0.0</td>\n",
              "      <td>1.0</td>\n",
              "    </tr>\n",
              "    <tr>\n",
              "      <th>33</th>\n",
              "      <td>Hitman Absolution</td>\n",
              "      <td>0.0</td>\n",
              "      <td>1.0</td>\n",
              "    </tr>\n",
              "    <tr>\n",
              "      <th>34</th>\n",
              "      <td>HuniePop Official Digital Art Collection</td>\n",
              "      <td>0.0</td>\n",
              "      <td>1.0</td>\n",
              "    </tr>\n",
              "    <tr>\n",
              "      <th>35</th>\n",
              "      <td>HuniePop Original Soundtrack</td>\n",
              "      <td>0.0</td>\n",
              "      <td>1.0</td>\n",
              "    </tr>\n",
              "    <tr>\n",
              "      <th>36</th>\n",
              "      <td>The Banner Saga - Mod Content</td>\n",
              "      <td>0.0</td>\n",
              "      <td>1.0</td>\n",
              "    </tr>\n",
              "    <tr>\n",
              "      <th>37</th>\n",
              "      <td>The Elder Scrolls V Skyrim - Dawnguard</td>\n",
              "      <td>0.0</td>\n",
              "      <td>1.0</td>\n",
              "    </tr>\n",
              "    <tr>\n",
              "      <th>38</th>\n",
              "      <td>The Elder Scrolls V Skyrim - Dragonborn</td>\n",
              "      <td>0.0</td>\n",
              "      <td>1.0</td>\n",
              "    </tr>\n",
              "    <tr>\n",
              "      <th>39</th>\n",
              "      <td>The Elder Scrolls V Skyrim - Hearthfire</td>\n",
              "      <td>0.0</td>\n",
              "      <td>1.0</td>\n",
              "    </tr>\n",
              "  </tbody>\n",
              "</table>\n",
              "</div>"
            ],
            "text/plain": [
              "                                           Game  Played_hours  Ranking\n",
              "0                    The Elder Scrolls V Skyrim         273.0     10.0\n",
              "1                                     Fallout 4          87.0      4.0\n",
              "2                                         Spore          14.9      1.0\n",
              "3                             Fallout New Vegas          12.1      1.0\n",
              "4                                 Left 4 Dead 2           8.9      1.0\n",
              "5                                      HuniePop           8.5      1.0\n",
              "6                                 Path of Exile           8.1      1.0\n",
              "7                                   Poly Bridge           7.5      1.0\n",
              "8                                   Left 4 Dead           3.3      1.0\n",
              "9                               Team Fortress 2           2.8      1.0\n",
              "10                                  Tomb Raider           2.5      1.0\n",
              "11                              The Banner Saga           2.0      1.0\n",
              "12                         Dead Island Epidemic           1.4      1.0\n",
              "13                            BioShock Infinite           1.3      1.0\n",
              "14        Dragon Age Origins - Ultimate Edition           1.3      1.0\n",
              "15         Fallout 3 - Game of the Year Edition           0.8      1.0\n",
              "16           SEGA Genesis & Mega Drive Classics           0.8      1.0\n",
              "17                          Grand Theft Auto IV           0.6      1.0\n",
              "18                         Realm of the Mad God           0.5      1.0\n",
              "19                           Marvel Heroes 2015           0.5      1.0\n",
              "20                                      Eldevin           0.5      1.0\n",
              "21                                       Dota 2           0.5      1.0\n",
              "22                                     BioShock           0.5      1.0\n",
              "23                                    Robocraft           0.4      1.0\n",
              "24                                  Garry's Mod           0.1      1.0\n",
              "25                                     Jazzpunk           0.1      1.0\n",
              "26                                    Alan Wake           0.0      1.0\n",
              "27                                   BioShock 2           0.0      1.0\n",
              "28                                 Fallen Earth           0.0      1.0\n",
              "29            Fallout New Vegas Courier's Stash           0.0      1.0\n",
              "30                 Fallout New Vegas Dead Money           0.0      1.0\n",
              "31              Fallout New Vegas Honest Hearts           0.0      1.0\n",
              "32  Grand Theft Auto Episodes from Liberty City           0.0      1.0\n",
              "33                            Hitman Absolution           0.0      1.0\n",
              "34     HuniePop Official Digital Art Collection           0.0      1.0\n",
              "35                 HuniePop Original Soundtrack           0.0      1.0\n",
              "36                The Banner Saga - Mod Content           0.0      1.0\n",
              "37       The Elder Scrolls V Skyrim - Dawnguard           0.0      1.0\n",
              "38      The Elder Scrolls V Skyrim - Dragonborn           0.0      1.0\n",
              "39      The Elder Scrolls V Skyrim - Hearthfire           0.0      1.0"
            ]
          },
          "metadata": {
            "tags": []
          },
          "execution_count": 29
        }
      ]
    },
    {
      "cell_type": "markdown",
      "metadata": {
        "id": "30id-Z9wPtcI",
        "colab_type": "text"
      },
      "source": [
        "###TOP USER 2"
      ]
    },
    {
      "cell_type": "code",
      "metadata": {
        "id": "mMF_VvZKSVs_",
        "colab_type": "code",
        "outputId": "1679d7f8-305e-4e8d-bd1c-0e87e596c90f",
        "colab": {
          "base_uri": "https://localhost:8080/",
          "height": 284
        }
      },
      "source": [
        "fr2 = m.recommend(users=['62990992'])\n",
        "fr2"
      ],
      "execution_count": 30,
      "outputs": [
        {
          "output_type": "execute_result",
          "data": {
            "text/html": [
              "<div style=\"max-height:1000px;max-width:1500px;overflow:auto;\"><table frame=\"box\" rules=\"cols\">\n",
              "    <tr>\n",
              "        <th style=\"padding-left: 1em; padding-right: 1em; text-align: center\">UserID</th>\n",
              "        <th style=\"padding-left: 1em; padding-right: 1em; text-align: center\">Game</th>\n",
              "        <th style=\"padding-left: 1em; padding-right: 1em; text-align: center\">score</th>\n",
              "        <th style=\"padding-left: 1em; padding-right: 1em; text-align: center\">rank</th>\n",
              "    </tr>\n",
              "    <tr>\n",
              "        <td style=\"padding-left: 1em; padding-right: 1em; text-align: center; vertical-align: top\">62990992</td>\n",
              "        <td style=\"padding-left: 1em; padding-right: 1em; text-align: center; vertical-align: top\">Unturned</td>\n",
              "        <td style=\"padding-left: 1em; padding-right: 1em; text-align: center; vertical-align: top\">2.781367094683007</td>\n",
              "        <td style=\"padding-left: 1em; padding-right: 1em; text-align: center; vertical-align: top\">1</td>\n",
              "    </tr>\n",
              "    <tr>\n",
              "        <td style=\"padding-left: 1em; padding-right: 1em; text-align: center; vertical-align: top\">62990992</td>\n",
              "        <td style=\"padding-left: 1em; padding-right: 1em; text-align: center; vertical-align: top\">Call of Duty Modern<br>Warfare 2 ...</td>\n",
              "        <td style=\"padding-left: 1em; padding-right: 1em; text-align: center; vertical-align: top\">2.2532993866675652</td>\n",
              "        <td style=\"padding-left: 1em; padding-right: 1em; text-align: center; vertical-align: top\">2</td>\n",
              "    </tr>\n",
              "    <tr>\n",
              "        <td style=\"padding-left: 1em; padding-right: 1em; text-align: center; vertical-align: top\">62990992</td>\n",
              "        <td style=\"padding-left: 1em; padding-right: 1em; text-align: center; vertical-align: top\">H1Z1</td>\n",
              "        <td style=\"padding-left: 1em; padding-right: 1em; text-align: center; vertical-align: top\">2.13686308773096</td>\n",
              "        <td style=\"padding-left: 1em; padding-right: 1em; text-align: center; vertical-align: top\">3</td>\n",
              "    </tr>\n",
              "    <tr>\n",
              "        <td style=\"padding-left: 1em; padding-right: 1em; text-align: center; vertical-align: top\">62990992</td>\n",
              "        <td style=\"padding-left: 1em; padding-right: 1em; text-align: center; vertical-align: top\">Call of Duty Modern<br>Warfare 2 - Multiplayer ...</td>\n",
              "        <td style=\"padding-left: 1em; padding-right: 1em; text-align: center; vertical-align: top\">2.1279049827330865</td>\n",
              "        <td style=\"padding-left: 1em; padding-right: 1em; text-align: center; vertical-align: top\">4</td>\n",
              "    </tr>\n",
              "    <tr>\n",
              "        <td style=\"padding-left: 1em; padding-right: 1em; text-align: center; vertical-align: top\">62990992</td>\n",
              "        <td style=\"padding-left: 1em; padding-right: 1em; text-align: center; vertical-align: top\">Call of Duty Black Ops</td>\n",
              "        <td style=\"padding-left: 1em; padding-right: 1em; text-align: center; vertical-align: top\">2.1200462146275796</td>\n",
              "        <td style=\"padding-left: 1em; padding-right: 1em; text-align: center; vertical-align: top\">5</td>\n",
              "    </tr>\n",
              "    <tr>\n",
              "        <td style=\"padding-left: 1em; padding-right: 1em; text-align: center; vertical-align: top\">62990992</td>\n",
              "        <td style=\"padding-left: 1em; padding-right: 1em; text-align: center; vertical-align: top\">Grand Theft Auto V</td>\n",
              "        <td style=\"padding-left: 1em; padding-right: 1em; text-align: center; vertical-align: top\">2.0452180965417184</td>\n",
              "        <td style=\"padding-left: 1em; padding-right: 1em; text-align: center; vertical-align: top\">6</td>\n",
              "    </tr>\n",
              "    <tr>\n",
              "        <td style=\"padding-left: 1em; padding-right: 1em; text-align: center; vertical-align: top\">62990992</td>\n",
              "        <td style=\"padding-left: 1em; padding-right: 1em; text-align: center; vertical-align: top\">The Sims(TM) 3</td>\n",
              "        <td style=\"padding-left: 1em; padding-right: 1em; text-align: center; vertical-align: top\">2.042751071470336</td>\n",
              "        <td style=\"padding-left: 1em; padding-right: 1em; text-align: center; vertical-align: top\">7</td>\n",
              "    </tr>\n",
              "    <tr>\n",
              "        <td style=\"padding-left: 1em; padding-right: 1em; text-align: center; vertical-align: top\">62990992</td>\n",
              "        <td style=\"padding-left: 1em; padding-right: 1em; text-align: center; vertical-align: top\">Football Manager 2009</td>\n",
              "        <td style=\"padding-left: 1em; padding-right: 1em; text-align: center; vertical-align: top\">2.03585664691265</td>\n",
              "        <td style=\"padding-left: 1em; padding-right: 1em; text-align: center; vertical-align: top\">8</td>\n",
              "    </tr>\n",
              "    <tr>\n",
              "        <td style=\"padding-left: 1em; padding-right: 1em; text-align: center; vertical-align: top\">62990992</td>\n",
              "        <td style=\"padding-left: 1em; padding-right: 1em; text-align: center; vertical-align: top\">Train Simulator</td>\n",
              "        <td style=\"padding-left: 1em; padding-right: 1em; text-align: center; vertical-align: top\">1.9970836150073565</td>\n",
              "        <td style=\"padding-left: 1em; padding-right: 1em; text-align: center; vertical-align: top\">9</td>\n",
              "    </tr>\n",
              "    <tr>\n",
              "        <td style=\"padding-left: 1em; padding-right: 1em; text-align: center; vertical-align: top\">62990992</td>\n",
              "        <td style=\"padding-left: 1em; padding-right: 1em; text-align: center; vertical-align: top\">Farming Simulator 2013</td>\n",
              "        <td style=\"padding-left: 1em; padding-right: 1em; text-align: center; vertical-align: top\">1.9390092915468968</td>\n",
              "        <td style=\"padding-left: 1em; padding-right: 1em; text-align: center; vertical-align: top\">10</td>\n",
              "    </tr>\n",
              "</table>\n",
              "[10 rows x 4 columns]<br/>\n",
              "</div>"
            ],
            "text/plain": [
              "Columns:\n",
              "\tUserID\tint\n",
              "\tGame\tstr\n",
              "\tscore\tfloat\n",
              "\trank\tint\n",
              "\n",
              "Rows: 10\n",
              "\n",
              "Data:\n",
              "+----------+-------------------------------+--------------------+------+\n",
              "|  UserID  |              Game             |       score        | rank |\n",
              "+----------+-------------------------------+--------------------+------+\n",
              "| 62990992 |            Unturned           | 2.781367094683007  |  1   |\n",
              "| 62990992 | Call of Duty Modern Warfare 2 | 2.2532993866675652 |  2   |\n",
              "| 62990992 |              H1Z1             |  2.13686308773096  |  3   |\n",
              "| 62990992 | Call of Duty Modern Warfar... | 2.1279049827330865 |  4   |\n",
              "| 62990992 |     Call of Duty Black Ops    | 2.1200462146275796 |  5   |\n",
              "| 62990992 |       Grand Theft Auto V      | 2.0452180965417184 |  6   |\n",
              "| 62990992 |         The Sims(TM) 3        | 2.042751071470336  |  7   |\n",
              "| 62990992 |     Football Manager 2009     |  2.03585664691265  |  8   |\n",
              "| 62990992 |        Train Simulator        | 1.9970836150073565 |  9   |\n",
              "| 62990992 |     Farming Simulator 2013    | 1.9390092915468968 |  10  |\n",
              "+----------+-------------------------------+--------------------+------+\n",
              "[10 rows x 4 columns]"
            ]
          },
          "metadata": {
            "tags": []
          },
          "execution_count": 30
        }
      ]
    },
    {
      "cell_type": "markdown",
      "metadata": {
        "id": "FZ21ksftQCxL",
        "colab_type": "text"
      },
      "source": [
        "### Creating a dataframe"
      ]
    },
    {
      "cell_type": "code",
      "metadata": {
        "id": "R0poMxBY_Fzb",
        "colab_type": "code",
        "colab": {
          "base_uri": "https://localhost:8080/",
          "height": 363
        },
        "outputId": "73b0b419-654a-42f0-d25b-4bd351c42e81"
      },
      "source": [
        "fact2 = pd.DataFrame(fr2)\n",
        "fact2.drop([\"UserID\",\"rank\"],axis = 1, inplace = True)\n",
        "fact2.rename(columns={'Game': 'Game_FR', 'score': 'score_FR'}, inplace=True)\n",
        "fact2.head(10)"
      ],
      "execution_count": 31,
      "outputs": [
        {
          "output_type": "execute_result",
          "data": {
            "text/html": [
              "<div>\n",
              "<style scoped>\n",
              "    .dataframe tbody tr th:only-of-type {\n",
              "        vertical-align: middle;\n",
              "    }\n",
              "\n",
              "    .dataframe tbody tr th {\n",
              "        vertical-align: top;\n",
              "    }\n",
              "\n",
              "    .dataframe thead th {\n",
              "        text-align: right;\n",
              "    }\n",
              "</style>\n",
              "<table border=\"1\" class=\"dataframe\">\n",
              "  <thead>\n",
              "    <tr style=\"text-align: right;\">\n",
              "      <th></th>\n",
              "      <th>Game_FR</th>\n",
              "      <th>score_FR</th>\n",
              "    </tr>\n",
              "  </thead>\n",
              "  <tbody>\n",
              "    <tr>\n",
              "      <th>0</th>\n",
              "      <td>Unturned</td>\n",
              "      <td>2.781367</td>\n",
              "    </tr>\n",
              "    <tr>\n",
              "      <th>1</th>\n",
              "      <td>Call of Duty Modern Warfare 2</td>\n",
              "      <td>2.253299</td>\n",
              "    </tr>\n",
              "    <tr>\n",
              "      <th>2</th>\n",
              "      <td>H1Z1</td>\n",
              "      <td>2.136863</td>\n",
              "    </tr>\n",
              "    <tr>\n",
              "      <th>3</th>\n",
              "      <td>Call of Duty Modern Warfare 2 - Multiplayer</td>\n",
              "      <td>2.127905</td>\n",
              "    </tr>\n",
              "    <tr>\n",
              "      <th>4</th>\n",
              "      <td>Call of Duty Black Ops</td>\n",
              "      <td>2.120046</td>\n",
              "    </tr>\n",
              "    <tr>\n",
              "      <th>5</th>\n",
              "      <td>Grand Theft Auto V</td>\n",
              "      <td>2.045218</td>\n",
              "    </tr>\n",
              "    <tr>\n",
              "      <th>6</th>\n",
              "      <td>The Sims(TM) 3</td>\n",
              "      <td>2.042751</td>\n",
              "    </tr>\n",
              "    <tr>\n",
              "      <th>7</th>\n",
              "      <td>Football Manager 2009</td>\n",
              "      <td>2.035857</td>\n",
              "    </tr>\n",
              "    <tr>\n",
              "      <th>8</th>\n",
              "      <td>Train Simulator</td>\n",
              "      <td>1.997084</td>\n",
              "    </tr>\n",
              "    <tr>\n",
              "      <th>9</th>\n",
              "      <td>Farming Simulator 2013</td>\n",
              "      <td>1.939009</td>\n",
              "    </tr>\n",
              "  </tbody>\n",
              "</table>\n",
              "</div>"
            ],
            "text/plain": [
              "                                       Game_FR  score_FR\n",
              "0                                     Unturned  2.781367\n",
              "1                Call of Duty Modern Warfare 2  2.253299\n",
              "2                                         H1Z1  2.136863\n",
              "3  Call of Duty Modern Warfare 2 - Multiplayer  2.127905\n",
              "4                       Call of Duty Black Ops  2.120046\n",
              "5                           Grand Theft Auto V  2.045218\n",
              "6                               The Sims(TM) 3  2.042751\n",
              "7                        Football Manager 2009  2.035857\n",
              "8                              Train Simulator  1.997084\n",
              "9                       Farming Simulator 2013  1.939009"
            ]
          },
          "metadata": {
            "tags": []
          },
          "execution_count": 31
        }
      ]
    },
    {
      "cell_type": "code",
      "metadata": {
        "id": "27GdETeDeSXR",
        "colab_type": "code",
        "outputId": "86a381d8-ea65-42c9-9dc7-949005d2fd92",
        "colab": {
          "base_uri": "https://localhost:8080/",
          "height": 424
        }
      },
      "source": [
        "clean_df.loc[clean_df[\"UserID\"] == 62990992,[\"Game\",\"Played_hours\",\"Ranking\"]]"
      ],
      "execution_count": 32,
      "outputs": [
        {
          "output_type": "execute_result",
          "data": {
            "text/html": [
              "<div>\n",
              "<style scoped>\n",
              "    .dataframe tbody tr th:only-of-type {\n",
              "        vertical-align: middle;\n",
              "    }\n",
              "\n",
              "    .dataframe tbody tr th {\n",
              "        vertical-align: top;\n",
              "    }\n",
              "\n",
              "    .dataframe thead th {\n",
              "        text-align: right;\n",
              "    }\n",
              "</style>\n",
              "<table border=\"1\" class=\"dataframe\">\n",
              "  <thead>\n",
              "    <tr style=\"text-align: right;\">\n",
              "      <th></th>\n",
              "      <th>Game</th>\n",
              "      <th>Played_hours</th>\n",
              "      <th>Ranking</th>\n",
              "    </tr>\n",
              "  </thead>\n",
              "  <tbody>\n",
              "    <tr>\n",
              "      <th>77076</th>\n",
              "      <td>Counter-Strike Global Offensive</td>\n",
              "      <td>663.0</td>\n",
              "      <td>10.0</td>\n",
              "    </tr>\n",
              "    <tr>\n",
              "      <th>77077</th>\n",
              "      <td>Sid Meier's Civilization V</td>\n",
              "      <td>550.0</td>\n",
              "      <td>9.0</td>\n",
              "    </tr>\n",
              "    <tr>\n",
              "      <th>77078</th>\n",
              "      <td>Total War SHOGUN 2</td>\n",
              "      <td>212.0</td>\n",
              "      <td>4.0</td>\n",
              "    </tr>\n",
              "    <tr>\n",
              "      <th>77079</th>\n",
              "      <td>Total War ROME II - Emperor Edition</td>\n",
              "      <td>198.0</td>\n",
              "      <td>3.0</td>\n",
              "    </tr>\n",
              "    <tr>\n",
              "      <th>77080</th>\n",
              "      <td>Dungeon Defenders</td>\n",
              "      <td>195.0</td>\n",
              "      <td>3.0</td>\n",
              "    </tr>\n",
              "    <tr>\n",
              "      <th>...</th>\n",
              "      <td>...</td>\n",
              "      <td>...</td>\n",
              "      <td>...</td>\n",
              "    </tr>\n",
              "    <tr>\n",
              "      <th>78146</th>\n",
              "      <td>Xenophage</td>\n",
              "      <td>0.0</td>\n",
              "      <td>1.0</td>\n",
              "    </tr>\n",
              "    <tr>\n",
              "      <th>78147</th>\n",
              "      <td>Xpand Rally Xtreme</td>\n",
              "      <td>0.0</td>\n",
              "      <td>1.0</td>\n",
              "    </tr>\n",
              "    <tr>\n",
              "      <th>78148</th>\n",
              "      <td>Zen Bound 2</td>\n",
              "      <td>0.0</td>\n",
              "      <td>1.0</td>\n",
              "    </tr>\n",
              "    <tr>\n",
              "      <th>78149</th>\n",
              "      <td>Zombie Driver HD Apocalypse Pack</td>\n",
              "      <td>0.0</td>\n",
              "      <td>1.0</td>\n",
              "    </tr>\n",
              "    <tr>\n",
              "      <th>78150</th>\n",
              "      <td>Zoo Park</td>\n",
              "      <td>0.0</td>\n",
              "      <td>1.0</td>\n",
              "    </tr>\n",
              "  </tbody>\n",
              "</table>\n",
              "<p>1075 rows × 3 columns</p>\n",
              "</div>"
            ],
            "text/plain": [
              "                                      Game  Played_hours  Ranking\n",
              "77076      Counter-Strike Global Offensive         663.0     10.0\n",
              "77077           Sid Meier's Civilization V         550.0      9.0\n",
              "77078                   Total War SHOGUN 2         212.0      4.0\n",
              "77079  Total War ROME II - Emperor Edition         198.0      3.0\n",
              "77080                    Dungeon Defenders         195.0      3.0\n",
              "...                                    ...           ...      ...\n",
              "78146                            Xenophage           0.0      1.0\n",
              "78147                   Xpand Rally Xtreme           0.0      1.0\n",
              "78148                          Zen Bound 2           0.0      1.0\n",
              "78149     Zombie Driver HD Apocalypse Pack           0.0      1.0\n",
              "78150                             Zoo Park           0.0      1.0\n",
              "\n",
              "[1075 rows x 3 columns]"
            ]
          },
          "metadata": {
            "tags": []
          },
          "execution_count": 32
        }
      ]
    },
    {
      "cell_type": "markdown",
      "metadata": {
        "id": "RGhQCOKoPu7z",
        "colab_type": "text"
      },
      "source": [
        "###TOP USER 3"
      ]
    },
    {
      "cell_type": "code",
      "metadata": {
        "id": "7hUuoNSFTPVC",
        "colab_type": "code",
        "outputId": "923c22ee-ed8b-45bf-f13a-06dd2dce214a",
        "colab": {
          "base_uri": "https://localhost:8080/",
          "height": 319
        }
      },
      "source": [
        "fr3 = m.recommend(users=['33865373'])\n",
        "fr3"
      ],
      "execution_count": 33,
      "outputs": [
        {
          "output_type": "execute_result",
          "data": {
            "text/html": [
              "<div style=\"max-height:1000px;max-width:1500px;overflow:auto;\"><table frame=\"box\" rules=\"cols\">\n",
              "    <tr>\n",
              "        <th style=\"padding-left: 1em; padding-right: 1em; text-align: center\">UserID</th>\n",
              "        <th style=\"padding-left: 1em; padding-right: 1em; text-align: center\">Game</th>\n",
              "        <th style=\"padding-left: 1em; padding-right: 1em; text-align: center\">score</th>\n",
              "        <th style=\"padding-left: 1em; padding-right: 1em; text-align: center\">rank</th>\n",
              "    </tr>\n",
              "    <tr>\n",
              "        <td style=\"padding-left: 1em; padding-right: 1em; text-align: center; vertical-align: top\">33865373</td>\n",
              "        <td style=\"padding-left: 1em; padding-right: 1em; text-align: center; vertical-align: top\">Counter-Strike Source</td>\n",
              "        <td style=\"padding-left: 1em; padding-right: 1em; text-align: center; vertical-align: top\">3.306293712424592</td>\n",
              "        <td style=\"padding-left: 1em; padding-right: 1em; text-align: center; vertical-align: top\">1</td>\n",
              "    </tr>\n",
              "    <tr>\n",
              "        <td style=\"padding-left: 1em; padding-right: 1em; text-align: center; vertical-align: top\">33865373</td>\n",
              "        <td style=\"padding-left: 1em; padding-right: 1em; text-align: center; vertical-align: top\">Counter-Strike Global<br>Offensive ...</td>\n",
              "        <td style=\"padding-left: 1em; padding-right: 1em; text-align: center; vertical-align: top\">3.1577509357207574</td>\n",
              "        <td style=\"padding-left: 1em; padding-right: 1em; text-align: center; vertical-align: top\">2</td>\n",
              "    </tr>\n",
              "    <tr>\n",
              "        <td style=\"padding-left: 1em; padding-right: 1em; text-align: center; vertical-align: top\">33865373</td>\n",
              "        <td style=\"padding-left: 1em; padding-right: 1em; text-align: center; vertical-align: top\">Unturned</td>\n",
              "        <td style=\"padding-left: 1em; padding-right: 1em; text-align: center; vertical-align: top\">2.7964980615847863</td>\n",
              "        <td style=\"padding-left: 1em; padding-right: 1em; text-align: center; vertical-align: top\">3</td>\n",
              "    </tr>\n",
              "    <tr>\n",
              "        <td style=\"padding-left: 1em; padding-right: 1em; text-align: center; vertical-align: top\">33865373</td>\n",
              "        <td style=\"padding-left: 1em; padding-right: 1em; text-align: center; vertical-align: top\">Sid Meier&#x27;s Civilization<br>V ...</td>\n",
              "        <td style=\"padding-left: 1em; padding-right: 1em; text-align: center; vertical-align: top\">2.6391002400391854</td>\n",
              "        <td style=\"padding-left: 1em; padding-right: 1em; text-align: center; vertical-align: top\">4</td>\n",
              "    </tr>\n",
              "    <tr>\n",
              "        <td style=\"padding-left: 1em; padding-right: 1em; text-align: center; vertical-align: top\">33865373</td>\n",
              "        <td style=\"padding-left: 1em; padding-right: 1em; text-align: center; vertical-align: top\">Call of Duty Modern<br>Warfare 2 - Multiplayer ...</td>\n",
              "        <td style=\"padding-left: 1em; padding-right: 1em; text-align: center; vertical-align: top\">2.522734777497605</td>\n",
              "        <td style=\"padding-left: 1em; padding-right: 1em; text-align: center; vertical-align: top\">5</td>\n",
              "    </tr>\n",
              "    <tr>\n",
              "        <td style=\"padding-left: 1em; padding-right: 1em; text-align: center; vertical-align: top\">33865373</td>\n",
              "        <td style=\"padding-left: 1em; padding-right: 1em; text-align: center; vertical-align: top\">Counter-Strike Nexon<br>Zombies ...</td>\n",
              "        <td style=\"padding-left: 1em; padding-right: 1em; text-align: center; vertical-align: top\">2.492555038499192</td>\n",
              "        <td style=\"padding-left: 1em; padding-right: 1em; text-align: center; vertical-align: top\">6</td>\n",
              "    </tr>\n",
              "    <tr>\n",
              "        <td style=\"padding-left: 1em; padding-right: 1em; text-align: center; vertical-align: top\">33865373</td>\n",
              "        <td style=\"padding-left: 1em; padding-right: 1em; text-align: center; vertical-align: top\">Grand Theft Auto V</td>\n",
              "        <td style=\"padding-left: 1em; padding-right: 1em; text-align: center; vertical-align: top\">2.42958857254918</td>\n",
              "        <td style=\"padding-left: 1em; padding-right: 1em; text-align: center; vertical-align: top\">7</td>\n",
              "    </tr>\n",
              "    <tr>\n",
              "        <td style=\"padding-left: 1em; padding-right: 1em; text-align: center; vertical-align: top\">33865373</td>\n",
              "        <td style=\"padding-left: 1em; padding-right: 1em; text-align: center; vertical-align: top\">Trove</td>\n",
              "        <td style=\"padding-left: 1em; padding-right: 1em; text-align: center; vertical-align: top\">2.4283634586804665</td>\n",
              "        <td style=\"padding-left: 1em; padding-right: 1em; text-align: center; vertical-align: top\">8</td>\n",
              "    </tr>\n",
              "    <tr>\n",
              "        <td style=\"padding-left: 1em; padding-right: 1em; text-align: center; vertical-align: top\">33865373</td>\n",
              "        <td style=\"padding-left: 1em; padding-right: 1em; text-align: center; vertical-align: top\">H1Z1</td>\n",
              "        <td style=\"padding-left: 1em; padding-right: 1em; text-align: center; vertical-align: top\">2.423694336282567</td>\n",
              "        <td style=\"padding-left: 1em; padding-right: 1em; text-align: center; vertical-align: top\">9</td>\n",
              "    </tr>\n",
              "    <tr>\n",
              "        <td style=\"padding-left: 1em; padding-right: 1em; text-align: center; vertical-align: top\">33865373</td>\n",
              "        <td style=\"padding-left: 1em; padding-right: 1em; text-align: center; vertical-align: top\">The Sims(TM) 3</td>\n",
              "        <td style=\"padding-left: 1em; padding-right: 1em; text-align: center; vertical-align: top\">2.4022689326279916</td>\n",
              "        <td style=\"padding-left: 1em; padding-right: 1em; text-align: center; vertical-align: top\">10</td>\n",
              "    </tr>\n",
              "</table>\n",
              "[10 rows x 4 columns]<br/>\n",
              "</div>"
            ],
            "text/plain": [
              "Columns:\n",
              "\tUserID\tint\n",
              "\tGame\tstr\n",
              "\tscore\tfloat\n",
              "\trank\tint\n",
              "\n",
              "Rows: 10\n",
              "\n",
              "Data:\n",
              "+----------+-------------------------------+--------------------+------+\n",
              "|  UserID  |              Game             |       score        | rank |\n",
              "+----------+-------------------------------+--------------------+------+\n",
              "| 33865373 |     Counter-Strike Source     | 3.306293712424592  |  1   |\n",
              "| 33865373 | Counter-Strike Global Offe... | 3.1577509357207574 |  2   |\n",
              "| 33865373 |            Unturned           | 2.7964980615847863 |  3   |\n",
              "| 33865373 |   Sid Meier's Civilization V  | 2.6391002400391854 |  4   |\n",
              "| 33865373 | Call of Duty Modern Warfar... | 2.522734777497605  |  5   |\n",
              "| 33865373 |  Counter-Strike Nexon Zombies | 2.492555038499192  |  6   |\n",
              "| 33865373 |       Grand Theft Auto V      |  2.42958857254918  |  7   |\n",
              "| 33865373 |             Trove             | 2.4283634586804665 |  8   |\n",
              "| 33865373 |              H1Z1             | 2.423694336282567  |  9   |\n",
              "| 33865373 |         The Sims(TM) 3        | 2.4022689326279916 |  10  |\n",
              "+----------+-------------------------------+--------------------+------+\n",
              "[10 rows x 4 columns]"
            ]
          },
          "metadata": {
            "tags": []
          },
          "execution_count": 33
        }
      ]
    },
    {
      "cell_type": "markdown",
      "metadata": {
        "id": "lozNJ4b3QGGk",
        "colab_type": "text"
      },
      "source": [
        "### Creating a dataframe"
      ]
    },
    {
      "cell_type": "code",
      "metadata": {
        "id": "vCHBlZl8_OhP",
        "colab_type": "code",
        "colab": {
          "base_uri": "https://localhost:8080/",
          "height": 363
        },
        "outputId": "0b9a57a3-2327-4fd9-de35-7311cde9940e"
      },
      "source": [
        "fact3 = pd.DataFrame(fr3)\n",
        "fact3.drop([\"UserID\",\"rank\"],axis = 1, inplace = True)\n",
        "fact3.rename(columns={'Game': 'Game_FR', 'score': 'score_FR'}, inplace=True)\n",
        "fact3.head(10)"
      ],
      "execution_count": 34,
      "outputs": [
        {
          "output_type": "execute_result",
          "data": {
            "text/html": [
              "<div>\n",
              "<style scoped>\n",
              "    .dataframe tbody tr th:only-of-type {\n",
              "        vertical-align: middle;\n",
              "    }\n",
              "\n",
              "    .dataframe tbody tr th {\n",
              "        vertical-align: top;\n",
              "    }\n",
              "\n",
              "    .dataframe thead th {\n",
              "        text-align: right;\n",
              "    }\n",
              "</style>\n",
              "<table border=\"1\" class=\"dataframe\">\n",
              "  <thead>\n",
              "    <tr style=\"text-align: right;\">\n",
              "      <th></th>\n",
              "      <th>Game_FR</th>\n",
              "      <th>score_FR</th>\n",
              "    </tr>\n",
              "  </thead>\n",
              "  <tbody>\n",
              "    <tr>\n",
              "      <th>0</th>\n",
              "      <td>Counter-Strike Source</td>\n",
              "      <td>3.306294</td>\n",
              "    </tr>\n",
              "    <tr>\n",
              "      <th>1</th>\n",
              "      <td>Counter-Strike Global Offensive</td>\n",
              "      <td>3.157751</td>\n",
              "    </tr>\n",
              "    <tr>\n",
              "      <th>2</th>\n",
              "      <td>Unturned</td>\n",
              "      <td>2.796498</td>\n",
              "    </tr>\n",
              "    <tr>\n",
              "      <th>3</th>\n",
              "      <td>Sid Meier's Civilization V</td>\n",
              "      <td>2.639100</td>\n",
              "    </tr>\n",
              "    <tr>\n",
              "      <th>4</th>\n",
              "      <td>Call of Duty Modern Warfare 2 - Multiplayer</td>\n",
              "      <td>2.522735</td>\n",
              "    </tr>\n",
              "    <tr>\n",
              "      <th>5</th>\n",
              "      <td>Counter-Strike Nexon Zombies</td>\n",
              "      <td>2.492555</td>\n",
              "    </tr>\n",
              "    <tr>\n",
              "      <th>6</th>\n",
              "      <td>Grand Theft Auto V</td>\n",
              "      <td>2.429589</td>\n",
              "    </tr>\n",
              "    <tr>\n",
              "      <th>7</th>\n",
              "      <td>Trove</td>\n",
              "      <td>2.428363</td>\n",
              "    </tr>\n",
              "    <tr>\n",
              "      <th>8</th>\n",
              "      <td>H1Z1</td>\n",
              "      <td>2.423694</td>\n",
              "    </tr>\n",
              "    <tr>\n",
              "      <th>9</th>\n",
              "      <td>The Sims(TM) 3</td>\n",
              "      <td>2.402269</td>\n",
              "    </tr>\n",
              "  </tbody>\n",
              "</table>\n",
              "</div>"
            ],
            "text/plain": [
              "                                       Game_FR  score_FR\n",
              "0                        Counter-Strike Source  3.306294\n",
              "1              Counter-Strike Global Offensive  3.157751\n",
              "2                                     Unturned  2.796498\n",
              "3                   Sid Meier's Civilization V  2.639100\n",
              "4  Call of Duty Modern Warfare 2 - Multiplayer  2.522735\n",
              "5                 Counter-Strike Nexon Zombies  2.492555\n",
              "6                           Grand Theft Auto V  2.429589\n",
              "7                                        Trove  2.428363\n",
              "8                                         H1Z1  2.423694\n",
              "9                               The Sims(TM) 3  2.402269"
            ]
          },
          "metadata": {
            "tags": []
          },
          "execution_count": 34
        }
      ]
    },
    {
      "cell_type": "code",
      "metadata": {
        "id": "2ewlpcjkeYHn",
        "colab_type": "code",
        "outputId": "58adabbe-260c-45d9-8a81-4bb49a0bad7a",
        "colab": {
          "base_uri": "https://localhost:8080/",
          "height": 424
        }
      },
      "source": [
        "clean_df.loc[clean_df[\"UserID\"] == 33865373,[\"Game\",\"Played_hours\",\"Ranking\"]]"
      ],
      "execution_count": 35,
      "outputs": [
        {
          "output_type": "execute_result",
          "data": {
            "text/html": [
              "<div>\n",
              "<style scoped>\n",
              "    .dataframe tbody tr th:only-of-type {\n",
              "        vertical-align: middle;\n",
              "    }\n",
              "\n",
              "    .dataframe tbody tr th {\n",
              "        vertical-align: top;\n",
              "    }\n",
              "\n",
              "    .dataframe thead th {\n",
              "        text-align: right;\n",
              "    }\n",
              "</style>\n",
              "<table border=\"1\" class=\"dataframe\">\n",
              "  <thead>\n",
              "    <tr style=\"text-align: right;\">\n",
              "      <th></th>\n",
              "      <th>Game</th>\n",
              "      <th>Played_hours</th>\n",
              "      <th>Ranking</th>\n",
              "    </tr>\n",
              "  </thead>\n",
              "  <tbody>\n",
              "    <tr>\n",
              "      <th>47739</th>\n",
              "      <td>The Elder Scrolls V Skyrim</td>\n",
              "      <td>345.0</td>\n",
              "      <td>10.0</td>\n",
              "    </tr>\n",
              "    <tr>\n",
              "      <th>47740</th>\n",
              "      <td>The Elder Scrolls IV Oblivion</td>\n",
              "      <td>239.0</td>\n",
              "      <td>7.0</td>\n",
              "    </tr>\n",
              "    <tr>\n",
              "      <th>47741</th>\n",
              "      <td>Fallout New Vegas</td>\n",
              "      <td>198.0</td>\n",
              "      <td>6.0</td>\n",
              "    </tr>\n",
              "    <tr>\n",
              "      <th>47742</th>\n",
              "      <td>Sid Meier's Civilization IV</td>\n",
              "      <td>135.0</td>\n",
              "      <td>4.0</td>\n",
              "    </tr>\n",
              "    <tr>\n",
              "      <th>47743</th>\n",
              "      <td>Sid Meier's Civilization IV</td>\n",
              "      <td>2.0</td>\n",
              "      <td>1.0</td>\n",
              "    </tr>\n",
              "    <tr>\n",
              "      <th>...</th>\n",
              "      <td>...</td>\n",
              "      <td>...</td>\n",
              "      <td>...</td>\n",
              "    </tr>\n",
              "    <tr>\n",
              "      <th>48519</th>\n",
              "      <td>Xenophage</td>\n",
              "      <td>0.0</td>\n",
              "      <td>1.0</td>\n",
              "    </tr>\n",
              "    <tr>\n",
              "      <th>48520</th>\n",
              "      <td>Xotic</td>\n",
              "      <td>0.0</td>\n",
              "      <td>1.0</td>\n",
              "    </tr>\n",
              "    <tr>\n",
              "      <th>48521</th>\n",
              "      <td>Zafehouse Diaries</td>\n",
              "      <td>0.0</td>\n",
              "      <td>1.0</td>\n",
              "    </tr>\n",
              "    <tr>\n",
              "      <th>48522</th>\n",
              "      <td>Zen Bound 2</td>\n",
              "      <td>0.0</td>\n",
              "      <td>1.0</td>\n",
              "    </tr>\n",
              "    <tr>\n",
              "      <th>48523</th>\n",
              "      <td>Zombie Driver</td>\n",
              "      <td>0.0</td>\n",
              "      <td>1.0</td>\n",
              "    </tr>\n",
              "  </tbody>\n",
              "</table>\n",
              "<p>785 rows × 3 columns</p>\n",
              "</div>"
            ],
            "text/plain": [
              "                                 Game  Played_hours  Ranking\n",
              "47739      The Elder Scrolls V Skyrim         345.0     10.0\n",
              "47740  The Elder Scrolls IV Oblivion          239.0      7.0\n",
              "47741               Fallout New Vegas         198.0      6.0\n",
              "47742     Sid Meier's Civilization IV         135.0      4.0\n",
              "47743     Sid Meier's Civilization IV           2.0      1.0\n",
              "...                               ...           ...      ...\n",
              "48519                       Xenophage           0.0      1.0\n",
              "48520                           Xotic           0.0      1.0\n",
              "48521               Zafehouse Diaries           0.0      1.0\n",
              "48522                     Zen Bound 2           0.0      1.0\n",
              "48523                   Zombie Driver           0.0      1.0\n",
              "\n",
              "[785 rows x 3 columns]"
            ]
          },
          "metadata": {
            "tags": []
          },
          "execution_count": 35
        }
      ]
    },
    {
      "cell_type": "markdown",
      "metadata": {
        "id": "R8xeu067P197",
        "colab_type": "text"
      },
      "source": [
        "###TOP USER 4"
      ]
    },
    {
      "cell_type": "code",
      "metadata": {
        "id": "A7Dx9HyjTXz1",
        "colab_type": "code",
        "outputId": "9e920762-980f-4e7e-b40b-00cae6cd699c",
        "colab": {
          "base_uri": "https://localhost:8080/",
          "height": 302
        }
      },
      "source": [
        "fr4 = m.recommend(users=['30246419'])\n",
        "fr4"
      ],
      "execution_count": 36,
      "outputs": [
        {
          "output_type": "execute_result",
          "data": {
            "text/html": [
              "<div style=\"max-height:1000px;max-width:1500px;overflow:auto;\"><table frame=\"box\" rules=\"cols\">\n",
              "    <tr>\n",
              "        <th style=\"padding-left: 1em; padding-right: 1em; text-align: center\">UserID</th>\n",
              "        <th style=\"padding-left: 1em; padding-right: 1em; text-align: center\">Game</th>\n",
              "        <th style=\"padding-left: 1em; padding-right: 1em; text-align: center\">score</th>\n",
              "        <th style=\"padding-left: 1em; padding-right: 1em; text-align: center\">rank</th>\n",
              "    </tr>\n",
              "    <tr>\n",
              "        <td style=\"padding-left: 1em; padding-right: 1em; text-align: center; vertical-align: top\">30246419</td>\n",
              "        <td style=\"padding-left: 1em; padding-right: 1em; text-align: center; vertical-align: top\">Dota 2</td>\n",
              "        <td style=\"padding-left: 1em; padding-right: 1em; text-align: center; vertical-align: top\">5.824189187454538</td>\n",
              "        <td style=\"padding-left: 1em; padding-right: 1em; text-align: center; vertical-align: top\">1</td>\n",
              "    </tr>\n",
              "    <tr>\n",
              "        <td style=\"padding-left: 1em; padding-right: 1em; text-align: center; vertical-align: top\">30246419</td>\n",
              "        <td style=\"padding-left: 1em; padding-right: 1em; text-align: center; vertical-align: top\">Counter-Strike Source</td>\n",
              "        <td style=\"padding-left: 1em; padding-right: 1em; text-align: center; vertical-align: top\">4.697782964872674</td>\n",
              "        <td style=\"padding-left: 1em; padding-right: 1em; text-align: center; vertical-align: top\">2</td>\n",
              "    </tr>\n",
              "    <tr>\n",
              "        <td style=\"padding-left: 1em; padding-right: 1em; text-align: center; vertical-align: top\">30246419</td>\n",
              "        <td style=\"padding-left: 1em; padding-right: 1em; text-align: center; vertical-align: top\">Counter-Strike</td>\n",
              "        <td style=\"padding-left: 1em; padding-right: 1em; text-align: center; vertical-align: top\">4.690150575208024</td>\n",
              "        <td style=\"padding-left: 1em; padding-right: 1em; text-align: center; vertical-align: top\">3</td>\n",
              "    </tr>\n",
              "    <tr>\n",
              "        <td style=\"padding-left: 1em; padding-right: 1em; text-align: center; vertical-align: top\">30246419</td>\n",
              "        <td style=\"padding-left: 1em; padding-right: 1em; text-align: center; vertical-align: top\">Team Fortress 2</td>\n",
              "        <td style=\"padding-left: 1em; padding-right: 1em; text-align: center; vertical-align: top\">4.636831962930517</td>\n",
              "        <td style=\"padding-left: 1em; padding-right: 1em; text-align: center; vertical-align: top\">4</td>\n",
              "    </tr>\n",
              "    <tr>\n",
              "        <td style=\"padding-left: 1em; padding-right: 1em; text-align: center; vertical-align: top\">30246419</td>\n",
              "        <td style=\"padding-left: 1em; padding-right: 1em; text-align: center; vertical-align: top\">Counter-Strike Global<br>Offensive ...</td>\n",
              "        <td style=\"padding-left: 1em; padding-right: 1em; text-align: center; vertical-align: top\">4.632633538412408</td>\n",
              "        <td style=\"padding-left: 1em; padding-right: 1em; text-align: center; vertical-align: top\">5</td>\n",
              "    </tr>\n",
              "    <tr>\n",
              "        <td style=\"padding-left: 1em; padding-right: 1em; text-align: center; vertical-align: top\">30246419</td>\n",
              "        <td style=\"padding-left: 1em; padding-right: 1em; text-align: center; vertical-align: top\">Call of Duty Modern<br>Warfare 2 - Multiplayer ...</td>\n",
              "        <td style=\"padding-left: 1em; padding-right: 1em; text-align: center; vertical-align: top\">4.030859352516488</td>\n",
              "        <td style=\"padding-left: 1em; padding-right: 1em; text-align: center; vertical-align: top\">6</td>\n",
              "    </tr>\n",
              "    <tr>\n",
              "        <td style=\"padding-left: 1em; padding-right: 1em; text-align: center; vertical-align: top\">30246419</td>\n",
              "        <td style=\"padding-left: 1em; padding-right: 1em; text-align: center; vertical-align: top\">Grand Theft Auto V</td>\n",
              "        <td style=\"padding-left: 1em; padding-right: 1em; text-align: center; vertical-align: top\">3.975383253263787</td>\n",
              "        <td style=\"padding-left: 1em; padding-right: 1em; text-align: center; vertical-align: top\">7</td>\n",
              "    </tr>\n",
              "    <tr>\n",
              "        <td style=\"padding-left: 1em; padding-right: 1em; text-align: center; vertical-align: top\">30246419</td>\n",
              "        <td style=\"padding-left: 1em; padding-right: 1em; text-align: center; vertical-align: top\">Garry&#x27;s Mod</td>\n",
              "        <td style=\"padding-left: 1em; padding-right: 1em; text-align: center; vertical-align: top\">3.874509127306298</td>\n",
              "        <td style=\"padding-left: 1em; padding-right: 1em; text-align: center; vertical-align: top\">8</td>\n",
              "    </tr>\n",
              "    <tr>\n",
              "        <td style=\"padding-left: 1em; padding-right: 1em; text-align: center; vertical-align: top\">30246419</td>\n",
              "        <td style=\"padding-left: 1em; padding-right: 1em; text-align: center; vertical-align: top\">Counter-Strike Nexon<br>Zombies ...</td>\n",
              "        <td style=\"padding-left: 1em; padding-right: 1em; text-align: center; vertical-align: top\">3.8483098237388886</td>\n",
              "        <td style=\"padding-left: 1em; padding-right: 1em; text-align: center; vertical-align: top\">9</td>\n",
              "    </tr>\n",
              "    <tr>\n",
              "        <td style=\"padding-left: 1em; padding-right: 1em; text-align: center; vertical-align: top\">30246419</td>\n",
              "        <td style=\"padding-left: 1em; padding-right: 1em; text-align: center; vertical-align: top\">Trove</td>\n",
              "        <td style=\"padding-left: 1em; padding-right: 1em; text-align: center; vertical-align: top\">3.842202009128884</td>\n",
              "        <td style=\"padding-left: 1em; padding-right: 1em; text-align: center; vertical-align: top\">10</td>\n",
              "    </tr>\n",
              "</table>\n",
              "[10 rows x 4 columns]<br/>\n",
              "</div>"
            ],
            "text/plain": [
              "Columns:\n",
              "\tUserID\tint\n",
              "\tGame\tstr\n",
              "\tscore\tfloat\n",
              "\trank\tint\n",
              "\n",
              "Rows: 10\n",
              "\n",
              "Data:\n",
              "+----------+-------------------------------+--------------------+------+\n",
              "|  UserID  |              Game             |       score        | rank |\n",
              "+----------+-------------------------------+--------------------+------+\n",
              "| 30246419 |             Dota 2            | 5.824189187454538  |  1   |\n",
              "| 30246419 |     Counter-Strike Source     | 4.697782964872674  |  2   |\n",
              "| 30246419 |         Counter-Strike        | 4.690150575208024  |  3   |\n",
              "| 30246419 |        Team Fortress 2        | 4.636831962930517  |  4   |\n",
              "| 30246419 | Counter-Strike Global Offe... | 4.632633538412408  |  5   |\n",
              "| 30246419 | Call of Duty Modern Warfar... | 4.030859352516488  |  6   |\n",
              "| 30246419 |       Grand Theft Auto V      | 3.975383253263787  |  7   |\n",
              "| 30246419 |          Garry's Mod          | 3.874509127306298  |  8   |\n",
              "| 30246419 |  Counter-Strike Nexon Zombies | 3.8483098237388886 |  9   |\n",
              "| 30246419 |             Trove             | 3.842202009128884  |  10  |\n",
              "+----------+-------------------------------+--------------------+------+\n",
              "[10 rows x 4 columns]"
            ]
          },
          "metadata": {
            "tags": []
          },
          "execution_count": 36
        }
      ]
    },
    {
      "cell_type": "markdown",
      "metadata": {
        "id": "MM8qBgoeQDzK",
        "colab_type": "text"
      },
      "source": [
        "### Creating a dataframe"
      ]
    },
    {
      "cell_type": "code",
      "metadata": {
        "id": "QEeholur_Wib",
        "colab_type": "code",
        "colab": {
          "base_uri": "https://localhost:8080/",
          "height": 363
        },
        "outputId": "055f39d3-e5a7-4550-f357-ca42f44ad89c"
      },
      "source": [
        "fact4 = pd.DataFrame(fr4)\n",
        "fact4.drop([\"UserID\",\"rank\"],axis = 1, inplace = True)\n",
        "fact4.rename(columns={'Game': 'Game_FR', 'score': 'score_FR'}, inplace=True)\n",
        "fact4.head(10)"
      ],
      "execution_count": 37,
      "outputs": [
        {
          "output_type": "execute_result",
          "data": {
            "text/html": [
              "<div>\n",
              "<style scoped>\n",
              "    .dataframe tbody tr th:only-of-type {\n",
              "        vertical-align: middle;\n",
              "    }\n",
              "\n",
              "    .dataframe tbody tr th {\n",
              "        vertical-align: top;\n",
              "    }\n",
              "\n",
              "    .dataframe thead th {\n",
              "        text-align: right;\n",
              "    }\n",
              "</style>\n",
              "<table border=\"1\" class=\"dataframe\">\n",
              "  <thead>\n",
              "    <tr style=\"text-align: right;\">\n",
              "      <th></th>\n",
              "      <th>Game_FR</th>\n",
              "      <th>score_FR</th>\n",
              "    </tr>\n",
              "  </thead>\n",
              "  <tbody>\n",
              "    <tr>\n",
              "      <th>0</th>\n",
              "      <td>Dota 2</td>\n",
              "      <td>5.824189</td>\n",
              "    </tr>\n",
              "    <tr>\n",
              "      <th>1</th>\n",
              "      <td>Counter-Strike Source</td>\n",
              "      <td>4.697783</td>\n",
              "    </tr>\n",
              "    <tr>\n",
              "      <th>2</th>\n",
              "      <td>Counter-Strike</td>\n",
              "      <td>4.690151</td>\n",
              "    </tr>\n",
              "    <tr>\n",
              "      <th>3</th>\n",
              "      <td>Team Fortress 2</td>\n",
              "      <td>4.636832</td>\n",
              "    </tr>\n",
              "    <tr>\n",
              "      <th>4</th>\n",
              "      <td>Counter-Strike Global Offensive</td>\n",
              "      <td>4.632634</td>\n",
              "    </tr>\n",
              "    <tr>\n",
              "      <th>5</th>\n",
              "      <td>Call of Duty Modern Warfare 2 - Multiplayer</td>\n",
              "      <td>4.030859</td>\n",
              "    </tr>\n",
              "    <tr>\n",
              "      <th>6</th>\n",
              "      <td>Grand Theft Auto V</td>\n",
              "      <td>3.975383</td>\n",
              "    </tr>\n",
              "    <tr>\n",
              "      <th>7</th>\n",
              "      <td>Garry's Mod</td>\n",
              "      <td>3.874509</td>\n",
              "    </tr>\n",
              "    <tr>\n",
              "      <th>8</th>\n",
              "      <td>Counter-Strike Nexon Zombies</td>\n",
              "      <td>3.848310</td>\n",
              "    </tr>\n",
              "    <tr>\n",
              "      <th>9</th>\n",
              "      <td>Trove</td>\n",
              "      <td>3.842202</td>\n",
              "    </tr>\n",
              "  </tbody>\n",
              "</table>\n",
              "</div>"
            ],
            "text/plain": [
              "                                       Game_FR  score_FR\n",
              "0                                       Dota 2  5.824189\n",
              "1                        Counter-Strike Source  4.697783\n",
              "2                               Counter-Strike  4.690151\n",
              "3                              Team Fortress 2  4.636832\n",
              "4              Counter-Strike Global Offensive  4.632634\n",
              "5  Call of Duty Modern Warfare 2 - Multiplayer  4.030859\n",
              "6                           Grand Theft Auto V  3.975383\n",
              "7                                  Garry's Mod  3.874509\n",
              "8                 Counter-Strike Nexon Zombies  3.848310\n",
              "9                                        Trove  3.842202"
            ]
          },
          "metadata": {
            "tags": []
          },
          "execution_count": 37
        }
      ]
    },
    {
      "cell_type": "code",
      "metadata": {
        "id": "aGkl1fYSeg2J",
        "colab_type": "code",
        "outputId": "7f8dc1e8-c3ba-4d11-f394-2a9606776a99",
        "colab": {
          "base_uri": "https://localhost:8080/",
          "height": 424
        }
      },
      "source": [
        "clean_df.loc[clean_df[\"UserID\"] == 30246419,[\"Game\",\"Played_hours\",\"Ranking\"]]"
      ],
      "execution_count": 38,
      "outputs": [
        {
          "output_type": "execute_result",
          "data": {
            "text/html": [
              "<div>\n",
              "<style scoped>\n",
              "    .dataframe tbody tr th:only-of-type {\n",
              "        vertical-align: middle;\n",
              "    }\n",
              "\n",
              "    .dataframe tbody tr th {\n",
              "        vertical-align: top;\n",
              "    }\n",
              "\n",
              "    .dataframe thead th {\n",
              "        text-align: right;\n",
              "    }\n",
              "</style>\n",
              "<table border=\"1\" class=\"dataframe\">\n",
              "  <thead>\n",
              "    <tr style=\"text-align: right;\">\n",
              "      <th></th>\n",
              "      <th>Game</th>\n",
              "      <th>Played_hours</th>\n",
              "      <th>Ranking</th>\n",
              "    </tr>\n",
              "  </thead>\n",
              "  <tbody>\n",
              "    <tr>\n",
              "      <th>62101</th>\n",
              "      <td>The Witcher 3 Wild Hunt</td>\n",
              "      <td>99.0</td>\n",
              "      <td>10.0</td>\n",
              "    </tr>\n",
              "    <tr>\n",
              "      <th>62102</th>\n",
              "      <td>Fallout 4</td>\n",
              "      <td>97.0</td>\n",
              "      <td>10.0</td>\n",
              "    </tr>\n",
              "    <tr>\n",
              "      <th>62103</th>\n",
              "      <td>Two Worlds II</td>\n",
              "      <td>61.0</td>\n",
              "      <td>7.0</td>\n",
              "    </tr>\n",
              "    <tr>\n",
              "      <th>62104</th>\n",
              "      <td>Test Drive Unlimited 2</td>\n",
              "      <td>57.0</td>\n",
              "      <td>6.0</td>\n",
              "    </tr>\n",
              "    <tr>\n",
              "      <th>62105</th>\n",
              "      <td>Middle-earth Shadow of Mordor</td>\n",
              "      <td>53.0</td>\n",
              "      <td>6.0</td>\n",
              "    </tr>\n",
              "    <tr>\n",
              "      <th>...</th>\n",
              "      <td>...</td>\n",
              "      <td>...</td>\n",
              "      <td>...</td>\n",
              "    </tr>\n",
              "    <tr>\n",
              "      <th>62862</th>\n",
              "      <td>Yury</td>\n",
              "      <td>0.0</td>\n",
              "      <td>1.0</td>\n",
              "    </tr>\n",
              "    <tr>\n",
              "      <th>62863</th>\n",
              "      <td>Z</td>\n",
              "      <td>0.0</td>\n",
              "      <td>1.0</td>\n",
              "    </tr>\n",
              "    <tr>\n",
              "      <th>62864</th>\n",
              "      <td>Zafehouse Diaries</td>\n",
              "      <td>0.0</td>\n",
              "      <td>1.0</td>\n",
              "    </tr>\n",
              "    <tr>\n",
              "      <th>62865</th>\n",
              "      <td>Zeno Clash 2</td>\n",
              "      <td>0.0</td>\n",
              "      <td>1.0</td>\n",
              "    </tr>\n",
              "    <tr>\n",
              "      <th>62866</th>\n",
              "      <td>Zooloretto</td>\n",
              "      <td>0.0</td>\n",
              "      <td>1.0</td>\n",
              "    </tr>\n",
              "  </tbody>\n",
              "</table>\n",
              "<p>766 rows × 3 columns</p>\n",
              "</div>"
            ],
            "text/plain": [
              "                                Game  Played_hours  Ranking\n",
              "62101        The Witcher 3 Wild Hunt          99.0     10.0\n",
              "62102                      Fallout 4          97.0     10.0\n",
              "62103                  Two Worlds II          61.0      7.0\n",
              "62104         Test Drive Unlimited 2          57.0      6.0\n",
              "62105  Middle-earth Shadow of Mordor          53.0      6.0\n",
              "...                              ...           ...      ...\n",
              "62862                           Yury           0.0      1.0\n",
              "62863                              Z           0.0      1.0\n",
              "62864              Zafehouse Diaries           0.0      1.0\n",
              "62865                   Zeno Clash 2           0.0      1.0\n",
              "62866                     Zooloretto           0.0      1.0\n",
              "\n",
              "[766 rows x 3 columns]"
            ]
          },
          "metadata": {
            "tags": []
          },
          "execution_count": 38
        }
      ]
    },
    {
      "cell_type": "markdown",
      "metadata": {
        "id": "juVh6A0iP44L",
        "colab_type": "text"
      },
      "source": [
        "###TOP USER 5"
      ]
    },
    {
      "cell_type": "code",
      "metadata": {
        "id": "_Z9GRAL4ThiS",
        "colab_type": "code",
        "outputId": "5e2c6fd6-aafe-4b55-e5a1-74b337ea1d7c",
        "colab": {
          "base_uri": "https://localhost:8080/",
          "height": 249
        }
      },
      "source": [
        "fr5 = m.recommend(users=['58345543'])\n",
        "fr5"
      ],
      "execution_count": 39,
      "outputs": [
        {
          "output_type": "execute_result",
          "data": {
            "text/html": [
              "<div style=\"max-height:1000px;max-width:1500px;overflow:auto;\"><table frame=\"box\" rules=\"cols\">\n",
              "    <tr>\n",
              "        <th style=\"padding-left: 1em; padding-right: 1em; text-align: center\">UserID</th>\n",
              "        <th style=\"padding-left: 1em; padding-right: 1em; text-align: center\">Game</th>\n",
              "        <th style=\"padding-left: 1em; padding-right: 1em; text-align: center\">score</th>\n",
              "        <th style=\"padding-left: 1em; padding-right: 1em; text-align: center\">rank</th>\n",
              "    </tr>\n",
              "    <tr>\n",
              "        <td style=\"padding-left: 1em; padding-right: 1em; text-align: center; vertical-align: top\">58345543</td>\n",
              "        <td style=\"padding-left: 1em; padding-right: 1em; text-align: center; vertical-align: top\">Counter-Strike</td>\n",
              "        <td style=\"padding-left: 1em; padding-right: 1em; text-align: center; vertical-align: top\">5.290025697516755</td>\n",
              "        <td style=\"padding-left: 1em; padding-right: 1em; text-align: center; vertical-align: top\">1</td>\n",
              "    </tr>\n",
              "    <tr>\n",
              "        <td style=\"padding-left: 1em; padding-right: 1em; text-align: center; vertical-align: top\">58345543</td>\n",
              "        <td style=\"padding-left: 1em; padding-right: 1em; text-align: center; vertical-align: top\">Grand Theft Auto V</td>\n",
              "        <td style=\"padding-left: 1em; padding-right: 1em; text-align: center; vertical-align: top\">4.757214368748025</td>\n",
              "        <td style=\"padding-left: 1em; padding-right: 1em; text-align: center; vertical-align: top\">2</td>\n",
              "    </tr>\n",
              "    <tr>\n",
              "        <td style=\"padding-left: 1em; padding-right: 1em; text-align: center; vertical-align: top\">58345543</td>\n",
              "        <td style=\"padding-left: 1em; padding-right: 1em; text-align: center; vertical-align: top\">Euro Truck Simulator 2</td>\n",
              "        <td style=\"padding-left: 1em; padding-right: 1em; text-align: center; vertical-align: top\">4.65266645090516</td>\n",
              "        <td style=\"padding-left: 1em; padding-right: 1em; text-align: center; vertical-align: top\">3</td>\n",
              "    </tr>\n",
              "    <tr>\n",
              "        <td style=\"padding-left: 1em; padding-right: 1em; text-align: center; vertical-align: top\">58345543</td>\n",
              "        <td style=\"padding-left: 1em; padding-right: 1em; text-align: center; vertical-align: top\">ARK Survival Evolved</td>\n",
              "        <td style=\"padding-left: 1em; padding-right: 1em; text-align: center; vertical-align: top\">4.442864121364908</td>\n",
              "        <td style=\"padding-left: 1em; padding-right: 1em; text-align: center; vertical-align: top\">4</td>\n",
              "    </tr>\n",
              "    <tr>\n",
              "        <td style=\"padding-left: 1em; padding-right: 1em; text-align: center; vertical-align: top\">58345543</td>\n",
              "        <td style=\"padding-left: 1em; padding-right: 1em; text-align: center; vertical-align: top\">H1Z1</td>\n",
              "        <td style=\"padding-left: 1em; padding-right: 1em; text-align: center; vertical-align: top\">4.428638325499849</td>\n",
              "        <td style=\"padding-left: 1em; padding-right: 1em; text-align: center; vertical-align: top\">5</td>\n",
              "    </tr>\n",
              "    <tr>\n",
              "        <td style=\"padding-left: 1em; padding-right: 1em; text-align: center; vertical-align: top\">58345543</td>\n",
              "        <td style=\"padding-left: 1em; padding-right: 1em; text-align: center; vertical-align: top\">The Sims(TM) 3</td>\n",
              "        <td style=\"padding-left: 1em; padding-right: 1em; text-align: center; vertical-align: top\">4.41312779622014</td>\n",
              "        <td style=\"padding-left: 1em; padding-right: 1em; text-align: center; vertical-align: top\">6</td>\n",
              "    </tr>\n",
              "    <tr>\n",
              "        <td style=\"padding-left: 1em; padding-right: 1em; text-align: center; vertical-align: top\">58345543</td>\n",
              "        <td style=\"padding-left: 1em; padding-right: 1em; text-align: center; vertical-align: top\">Empire Total War</td>\n",
              "        <td style=\"padding-left: 1em; padding-right: 1em; text-align: center; vertical-align: top\">4.35109972344573</td>\n",
              "        <td style=\"padding-left: 1em; padding-right: 1em; text-align: center; vertical-align: top\">7</td>\n",
              "    </tr>\n",
              "    <tr>\n",
              "        <td style=\"padding-left: 1em; padding-right: 1em; text-align: center; vertical-align: top\">58345543</td>\n",
              "        <td style=\"padding-left: 1em; padding-right: 1em; text-align: center; vertical-align: top\">Football Manager 2009</td>\n",
              "        <td style=\"padding-left: 1em; padding-right: 1em; text-align: center; vertical-align: top\">4.305280254649476</td>\n",
              "        <td style=\"padding-left: 1em; padding-right: 1em; text-align: center; vertical-align: top\">8</td>\n",
              "    </tr>\n",
              "    <tr>\n",
              "        <td style=\"padding-left: 1em; padding-right: 1em; text-align: center; vertical-align: top\">58345543</td>\n",
              "        <td style=\"padding-left: 1em; padding-right: 1em; text-align: center; vertical-align: top\">Cities Skylines</td>\n",
              "        <td style=\"padding-left: 1em; padding-right: 1em; text-align: center; vertical-align: top\">4.30124661462243</td>\n",
              "        <td style=\"padding-left: 1em; padding-right: 1em; text-align: center; vertical-align: top\">9</td>\n",
              "    </tr>\n",
              "    <tr>\n",
              "        <td style=\"padding-left: 1em; padding-right: 1em; text-align: center; vertical-align: top\">58345543</td>\n",
              "        <td style=\"padding-left: 1em; padding-right: 1em; text-align: center; vertical-align: top\">Farming Simulator 15</td>\n",
              "        <td style=\"padding-left: 1em; padding-right: 1em; text-align: center; vertical-align: top\">4.28386157886918</td>\n",
              "        <td style=\"padding-left: 1em; padding-right: 1em; text-align: center; vertical-align: top\">10</td>\n",
              "    </tr>\n",
              "</table>\n",
              "[10 rows x 4 columns]<br/>\n",
              "</div>"
            ],
            "text/plain": [
              "Columns:\n",
              "\tUserID\tint\n",
              "\tGame\tstr\n",
              "\tscore\tfloat\n",
              "\trank\tint\n",
              "\n",
              "Rows: 10\n",
              "\n",
              "Data:\n",
              "+----------+------------------------+-------------------+------+\n",
              "|  UserID  |          Game          |       score       | rank |\n",
              "+----------+------------------------+-------------------+------+\n",
              "| 58345543 |     Counter-Strike     | 5.290025697516755 |  1   |\n",
              "| 58345543 |   Grand Theft Auto V   | 4.757214368748025 |  2   |\n",
              "| 58345543 | Euro Truck Simulator 2 |  4.65266645090516 |  3   |\n",
              "| 58345543 |  ARK Survival Evolved  | 4.442864121364908 |  4   |\n",
              "| 58345543 |          H1Z1          | 4.428638325499849 |  5   |\n",
              "| 58345543 |     The Sims(TM) 3     |  4.41312779622014 |  6   |\n",
              "| 58345543 |    Empire Total War    |  4.35109972344573 |  7   |\n",
              "| 58345543 | Football Manager 2009  | 4.305280254649476 |  8   |\n",
              "| 58345543 |    Cities Skylines     |  4.30124661462243 |  9   |\n",
              "| 58345543 |  Farming Simulator 15  |  4.28386157886918 |  10  |\n",
              "+----------+------------------------+-------------------+------+\n",
              "[10 rows x 4 columns]"
            ]
          },
          "metadata": {
            "tags": []
          },
          "execution_count": 39
        }
      ]
    },
    {
      "cell_type": "markdown",
      "metadata": {
        "id": "cbFr_qfcQI7c",
        "colab_type": "text"
      },
      "source": [
        "### Creating a dataframe"
      ]
    },
    {
      "cell_type": "code",
      "metadata": {
        "id": "zmm9raYm_em1",
        "colab_type": "code",
        "colab": {
          "base_uri": "https://localhost:8080/",
          "height": 363
        },
        "outputId": "995da74e-c0a7-47d7-f167-b7333d568fe7"
      },
      "source": [
        "fact5 = pd.DataFrame(fr5)\n",
        "fact5.drop([\"UserID\",\"rank\"],axis = 1, inplace = True)\n",
        "fact5.rename(columns={'Game': 'Game_FR', 'score': 'score_FR'}, inplace=True)\n",
        "fact5.head(10)"
      ],
      "execution_count": 40,
      "outputs": [
        {
          "output_type": "execute_result",
          "data": {
            "text/html": [
              "<div>\n",
              "<style scoped>\n",
              "    .dataframe tbody tr th:only-of-type {\n",
              "        vertical-align: middle;\n",
              "    }\n",
              "\n",
              "    .dataframe tbody tr th {\n",
              "        vertical-align: top;\n",
              "    }\n",
              "\n",
              "    .dataframe thead th {\n",
              "        text-align: right;\n",
              "    }\n",
              "</style>\n",
              "<table border=\"1\" class=\"dataframe\">\n",
              "  <thead>\n",
              "    <tr style=\"text-align: right;\">\n",
              "      <th></th>\n",
              "      <th>Game_FR</th>\n",
              "      <th>score_FR</th>\n",
              "    </tr>\n",
              "  </thead>\n",
              "  <tbody>\n",
              "    <tr>\n",
              "      <th>0</th>\n",
              "      <td>Counter-Strike</td>\n",
              "      <td>5.290026</td>\n",
              "    </tr>\n",
              "    <tr>\n",
              "      <th>1</th>\n",
              "      <td>Grand Theft Auto V</td>\n",
              "      <td>4.757214</td>\n",
              "    </tr>\n",
              "    <tr>\n",
              "      <th>2</th>\n",
              "      <td>Euro Truck Simulator 2</td>\n",
              "      <td>4.652666</td>\n",
              "    </tr>\n",
              "    <tr>\n",
              "      <th>3</th>\n",
              "      <td>ARK Survival Evolved</td>\n",
              "      <td>4.442864</td>\n",
              "    </tr>\n",
              "    <tr>\n",
              "      <th>4</th>\n",
              "      <td>H1Z1</td>\n",
              "      <td>4.428638</td>\n",
              "    </tr>\n",
              "    <tr>\n",
              "      <th>5</th>\n",
              "      <td>The Sims(TM) 3</td>\n",
              "      <td>4.413128</td>\n",
              "    </tr>\n",
              "    <tr>\n",
              "      <th>6</th>\n",
              "      <td>Empire Total War</td>\n",
              "      <td>4.351100</td>\n",
              "    </tr>\n",
              "    <tr>\n",
              "      <th>7</th>\n",
              "      <td>Football Manager 2009</td>\n",
              "      <td>4.305280</td>\n",
              "    </tr>\n",
              "    <tr>\n",
              "      <th>8</th>\n",
              "      <td>Cities Skylines</td>\n",
              "      <td>4.301247</td>\n",
              "    </tr>\n",
              "    <tr>\n",
              "      <th>9</th>\n",
              "      <td>Farming Simulator 15</td>\n",
              "      <td>4.283862</td>\n",
              "    </tr>\n",
              "  </tbody>\n",
              "</table>\n",
              "</div>"
            ],
            "text/plain": [
              "                  Game_FR  score_FR\n",
              "0          Counter-Strike  5.290026\n",
              "1      Grand Theft Auto V  4.757214\n",
              "2  Euro Truck Simulator 2  4.652666\n",
              "3    ARK Survival Evolved  4.442864\n",
              "4                    H1Z1  4.428638\n",
              "5          The Sims(TM) 3  4.413128\n",
              "6        Empire Total War  4.351100\n",
              "7   Football Manager 2009  4.305280\n",
              "8         Cities Skylines  4.301247\n",
              "9    Farming Simulator 15  4.283862"
            ]
          },
          "metadata": {
            "tags": []
          },
          "execution_count": 40
        }
      ]
    },
    {
      "cell_type": "code",
      "metadata": {
        "id": "5Sl75oW-ek-G",
        "colab_type": "code",
        "outputId": "287a4349-06b2-4742-d63e-7fb237f6e4e9",
        "colab": {
          "base_uri": "https://localhost:8080/",
          "height": 424
        }
      },
      "source": [
        "clean_df.loc[clean_df[\"UserID\"] == 58345543,[\"Game\",\"Played_hours\",\"Ranking\"]]"
      ],
      "execution_count": 41,
      "outputs": [
        {
          "output_type": "execute_result",
          "data": {
            "text/html": [
              "<div>\n",
              "<style scoped>\n",
              "    .dataframe tbody tr th:only-of-type {\n",
              "        vertical-align: middle;\n",
              "    }\n",
              "\n",
              "    .dataframe tbody tr th {\n",
              "        vertical-align: top;\n",
              "    }\n",
              "\n",
              "    .dataframe thead th {\n",
              "        text-align: right;\n",
              "    }\n",
              "</style>\n",
              "<table border=\"1\" class=\"dataframe\">\n",
              "  <thead>\n",
              "    <tr style=\"text-align: right;\">\n",
              "      <th></th>\n",
              "      <th>Game</th>\n",
              "      <th>Played_hours</th>\n",
              "      <th>Ranking</th>\n",
              "    </tr>\n",
              "  </thead>\n",
              "  <tbody>\n",
              "    <tr>\n",
              "      <th>115598</th>\n",
              "      <td>Spiral Knights</td>\n",
              "      <td>70.0</td>\n",
              "      <td>10.0</td>\n",
              "    </tr>\n",
              "    <tr>\n",
              "      <th>115599</th>\n",
              "      <td>Blacklight Retribution</td>\n",
              "      <td>64.0</td>\n",
              "      <td>10.0</td>\n",
              "    </tr>\n",
              "    <tr>\n",
              "      <th>115600</th>\n",
              "      <td>Dungeon Defenders</td>\n",
              "      <td>56.0</td>\n",
              "      <td>8.0</td>\n",
              "    </tr>\n",
              "    <tr>\n",
              "      <th>115601</th>\n",
              "      <td>Terraria</td>\n",
              "      <td>54.0</td>\n",
              "      <td>8.0</td>\n",
              "    </tr>\n",
              "    <tr>\n",
              "      <th>115602</th>\n",
              "      <td>Borderlands 2</td>\n",
              "      <td>53.0</td>\n",
              "      <td>8.0</td>\n",
              "    </tr>\n",
              "    <tr>\n",
              "      <th>...</th>\n",
              "      <td>...</td>\n",
              "      <td>...</td>\n",
              "      <td>...</td>\n",
              "    </tr>\n",
              "    <tr>\n",
              "      <th>116260</th>\n",
              "      <td>Wrath of Athena</td>\n",
              "      <td>0.0</td>\n",
              "      <td>1.0</td>\n",
              "    </tr>\n",
              "    <tr>\n",
              "      <th>116261</th>\n",
              "      <td>WTFast Gamers Private Network (GPN)</td>\n",
              "      <td>0.0</td>\n",
              "      <td>1.0</td>\n",
              "    </tr>\n",
              "    <tr>\n",
              "      <th>116262</th>\n",
              "      <td>Xam</td>\n",
              "      <td>0.0</td>\n",
              "      <td>1.0</td>\n",
              "    </tr>\n",
              "    <tr>\n",
              "      <th>116263</th>\n",
              "      <td>You Have to Win the Game</td>\n",
              "      <td>0.0</td>\n",
              "      <td>1.0</td>\n",
              "    </tr>\n",
              "    <tr>\n",
              "      <th>116264</th>\n",
              "      <td>Zombies Monsters Robots</td>\n",
              "      <td>0.0</td>\n",
              "      <td>1.0</td>\n",
              "    </tr>\n",
              "  </tbody>\n",
              "</table>\n",
              "<p>667 rows × 3 columns</p>\n",
              "</div>"
            ],
            "text/plain": [
              "                                       Game  Played_hours  Ranking\n",
              "115598                       Spiral Knights          70.0     10.0\n",
              "115599               Blacklight Retribution          64.0     10.0\n",
              "115600                    Dungeon Defenders          56.0      8.0\n",
              "115601                             Terraria          54.0      8.0\n",
              "115602                        Borderlands 2          53.0      8.0\n",
              "...                                     ...           ...      ...\n",
              "116260                      Wrath of Athena           0.0      1.0\n",
              "116261  WTFast Gamers Private Network (GPN)           0.0      1.0\n",
              "116262                                  Xam           0.0      1.0\n",
              "116263             You Have to Win the Game           0.0      1.0\n",
              "116264              Zombies Monsters Robots           0.0      1.0\n",
              "\n",
              "[667 rows x 3 columns]"
            ]
          },
          "metadata": {
            "tags": []
          },
          "execution_count": 41
        }
      ]
    },
    {
      "cell_type": "code",
      "metadata": {
        "id": "UUr1AGfxGgB6",
        "colab_type": "code",
        "outputId": "9e8518b7-badb-437b-827a-b6a08e97db07",
        "colab": {
          "base_uri": "https://localhost:8080/",
          "height": 424
        }
      },
      "source": [
        "clean_df.loc[clean_df[\"UserID\"] == 58345543,[\"Game\",\"Played_hours\",\"Ranking\"]]"
      ],
      "execution_count": 42,
      "outputs": [
        {
          "output_type": "execute_result",
          "data": {
            "text/html": [
              "<div>\n",
              "<style scoped>\n",
              "    .dataframe tbody tr th:only-of-type {\n",
              "        vertical-align: middle;\n",
              "    }\n",
              "\n",
              "    .dataframe tbody tr th {\n",
              "        vertical-align: top;\n",
              "    }\n",
              "\n",
              "    .dataframe thead th {\n",
              "        text-align: right;\n",
              "    }\n",
              "</style>\n",
              "<table border=\"1\" class=\"dataframe\">\n",
              "  <thead>\n",
              "    <tr style=\"text-align: right;\">\n",
              "      <th></th>\n",
              "      <th>Game</th>\n",
              "      <th>Played_hours</th>\n",
              "      <th>Ranking</th>\n",
              "    </tr>\n",
              "  </thead>\n",
              "  <tbody>\n",
              "    <tr>\n",
              "      <th>115598</th>\n",
              "      <td>Spiral Knights</td>\n",
              "      <td>70.0</td>\n",
              "      <td>10.0</td>\n",
              "    </tr>\n",
              "    <tr>\n",
              "      <th>115599</th>\n",
              "      <td>Blacklight Retribution</td>\n",
              "      <td>64.0</td>\n",
              "      <td>10.0</td>\n",
              "    </tr>\n",
              "    <tr>\n",
              "      <th>115600</th>\n",
              "      <td>Dungeon Defenders</td>\n",
              "      <td>56.0</td>\n",
              "      <td>8.0</td>\n",
              "    </tr>\n",
              "    <tr>\n",
              "      <th>115601</th>\n",
              "      <td>Terraria</td>\n",
              "      <td>54.0</td>\n",
              "      <td>8.0</td>\n",
              "    </tr>\n",
              "    <tr>\n",
              "      <th>115602</th>\n",
              "      <td>Borderlands 2</td>\n",
              "      <td>53.0</td>\n",
              "      <td>8.0</td>\n",
              "    </tr>\n",
              "    <tr>\n",
              "      <th>...</th>\n",
              "      <td>...</td>\n",
              "      <td>...</td>\n",
              "      <td>...</td>\n",
              "    </tr>\n",
              "    <tr>\n",
              "      <th>116260</th>\n",
              "      <td>Wrath of Athena</td>\n",
              "      <td>0.0</td>\n",
              "      <td>1.0</td>\n",
              "    </tr>\n",
              "    <tr>\n",
              "      <th>116261</th>\n",
              "      <td>WTFast Gamers Private Network (GPN)</td>\n",
              "      <td>0.0</td>\n",
              "      <td>1.0</td>\n",
              "    </tr>\n",
              "    <tr>\n",
              "      <th>116262</th>\n",
              "      <td>Xam</td>\n",
              "      <td>0.0</td>\n",
              "      <td>1.0</td>\n",
              "    </tr>\n",
              "    <tr>\n",
              "      <th>116263</th>\n",
              "      <td>You Have to Win the Game</td>\n",
              "      <td>0.0</td>\n",
              "      <td>1.0</td>\n",
              "    </tr>\n",
              "    <tr>\n",
              "      <th>116264</th>\n",
              "      <td>Zombies Monsters Robots</td>\n",
              "      <td>0.0</td>\n",
              "      <td>1.0</td>\n",
              "    </tr>\n",
              "  </tbody>\n",
              "</table>\n",
              "<p>667 rows × 3 columns</p>\n",
              "</div>"
            ],
            "text/plain": [
              "                                       Game  Played_hours  Ranking\n",
              "115598                       Spiral Knights          70.0     10.0\n",
              "115599               Blacklight Retribution          64.0     10.0\n",
              "115600                    Dungeon Defenders          56.0      8.0\n",
              "115601                             Terraria          54.0      8.0\n",
              "115602                        Borderlands 2          53.0      8.0\n",
              "...                                     ...           ...      ...\n",
              "116260                      Wrath of Athena           0.0      1.0\n",
              "116261  WTFast Gamers Private Network (GPN)           0.0      1.0\n",
              "116262                                  Xam           0.0      1.0\n",
              "116263             You Have to Win the Game           0.0      1.0\n",
              "116264              Zombies Monsters Robots           0.0      1.0\n",
              "\n",
              "[667 rows x 3 columns]"
            ]
          },
          "metadata": {
            "tags": []
          },
          "execution_count": 42
        }
      ]
    },
    {
      "cell_type": "markdown",
      "metadata": {
        "id": "GE8LKrl3sz3U",
        "colab_type": "text"
      },
      "source": [
        "# SECTION 4 - RECOMMENDATION SYSTEM - RANKING FACTORIZATION RECOMMENDER"
      ]
    },
    {
      "cell_type": "markdown",
      "metadata": {
        "id": "b9vGH-vbudal",
        "colab_type": "text"
      },
      "source": [
        "### Ranking Factorization Recommender System"
      ]
    },
    {
      "cell_type": "code",
      "metadata": {
        "id": "xNB6BPyqtGcr",
        "colab_type": "code",
        "outputId": "3150ac25-b834-460f-90de-aec2667c9cbd",
        "colab": {
          "base_uri": "https://localhost:8080/",
          "height": 955
        }
      },
      "source": [
        "n = tc.ranking_factorization_recommender.create(dfS,\n",
        "\t\t\t                              user_id='UserID',\n",
        "                                    item_id='Game',\n",
        "                                    target='Ranking')\n"
      ],
      "execution_count": 43,
      "outputs": [
        {
          "output_type": "display_data",
          "data": {
            "text/html": [
              "<pre>Preparing data set.</pre>"
            ],
            "text/plain": [
              "Preparing data set."
            ]
          },
          "metadata": {
            "tags": []
          }
        },
        {
          "output_type": "display_data",
          "data": {
            "text/html": [
              "<pre>    Data has 129535 observations with 12393 users and 5155 items.</pre>"
            ],
            "text/plain": [
              "    Data has 129535 observations with 12393 users and 5155 items."
            ]
          },
          "metadata": {
            "tags": []
          }
        },
        {
          "output_type": "display_data",
          "data": {
            "text/html": [
              "<pre>    Data prepared in: 0.164534s</pre>"
            ],
            "text/plain": [
              "    Data prepared in: 0.164534s"
            ]
          },
          "metadata": {
            "tags": []
          }
        },
        {
          "output_type": "display_data",
          "data": {
            "text/html": [
              "<pre>Training ranking_factorization_recommender for recommendations.</pre>"
            ],
            "text/plain": [
              "Training ranking_factorization_recommender for recommendations."
            ]
          },
          "metadata": {
            "tags": []
          }
        },
        {
          "output_type": "display_data",
          "data": {
            "text/html": [
              "<pre>+--------------------------------+--------------------------------------------------+----------+</pre>"
            ],
            "text/plain": [
              "+--------------------------------+--------------------------------------------------+----------+"
            ]
          },
          "metadata": {
            "tags": []
          }
        },
        {
          "output_type": "display_data",
          "data": {
            "text/html": [
              "<pre>| Parameter                      | Description                                      | Value    |</pre>"
            ],
            "text/plain": [
              "| Parameter                      | Description                                      | Value    |"
            ]
          },
          "metadata": {
            "tags": []
          }
        },
        {
          "output_type": "display_data",
          "data": {
            "text/html": [
              "<pre>+--------------------------------+--------------------------------------------------+----------+</pre>"
            ],
            "text/plain": [
              "+--------------------------------+--------------------------------------------------+----------+"
            ]
          },
          "metadata": {
            "tags": []
          }
        },
        {
          "output_type": "display_data",
          "data": {
            "text/html": [
              "<pre>| num_factors                    | Factor Dimension                                 | 32       |</pre>"
            ],
            "text/plain": [
              "| num_factors                    | Factor Dimension                                 | 32       |"
            ]
          },
          "metadata": {
            "tags": []
          }
        },
        {
          "output_type": "display_data",
          "data": {
            "text/html": [
              "<pre>| regularization                 | L2 Regularization on Factors                     | 1e-09    |</pre>"
            ],
            "text/plain": [
              "| regularization                 | L2 Regularization on Factors                     | 1e-09    |"
            ]
          },
          "metadata": {
            "tags": []
          }
        },
        {
          "output_type": "display_data",
          "data": {
            "text/html": [
              "<pre>| solver                         | Solver used for training                         | adagrad  |</pre>"
            ],
            "text/plain": [
              "| solver                         | Solver used for training                         | adagrad  |"
            ]
          },
          "metadata": {
            "tags": []
          }
        },
        {
          "output_type": "display_data",
          "data": {
            "text/html": [
              "<pre>| linear_regularization          | L2 Regularization on Linear Coefficients         | 1e-09    |</pre>"
            ],
            "text/plain": [
              "| linear_regularization          | L2 Regularization on Linear Coefficients         | 1e-09    |"
            ]
          },
          "metadata": {
            "tags": []
          }
        },
        {
          "output_type": "display_data",
          "data": {
            "text/html": [
              "<pre>| ranking_regularization         | Rank-based Regularization Weight                 | 0.25     |</pre>"
            ],
            "text/plain": [
              "| ranking_regularization         | Rank-based Regularization Weight                 | 0.25     |"
            ]
          },
          "metadata": {
            "tags": []
          }
        },
        {
          "output_type": "display_data",
          "data": {
            "text/html": [
              "<pre>| max_iterations                 | Maximum Number of Iterations                     | 25       |</pre>"
            ],
            "text/plain": [
              "| max_iterations                 | Maximum Number of Iterations                     | 25       |"
            ]
          },
          "metadata": {
            "tags": []
          }
        },
        {
          "output_type": "display_data",
          "data": {
            "text/html": [
              "<pre>+--------------------------------+--------------------------------------------------+----------+</pre>"
            ],
            "text/plain": [
              "+--------------------------------+--------------------------------------------------+----------+"
            ]
          },
          "metadata": {
            "tags": []
          }
        },
        {
          "output_type": "display_data",
          "data": {
            "text/html": [
              "<pre>  Optimizing model using SGD; tuning step size.</pre>"
            ],
            "text/plain": [
              "  Optimizing model using SGD; tuning step size."
            ]
          },
          "metadata": {
            "tags": []
          }
        },
        {
          "output_type": "display_data",
          "data": {
            "text/html": [
              "<pre>  Using 16191 / 129535 points for tuning the step size.</pre>"
            ],
            "text/plain": [
              "  Using 16191 / 129535 points for tuning the step size."
            ]
          },
          "metadata": {
            "tags": []
          }
        },
        {
          "output_type": "display_data",
          "data": {
            "text/html": [
              "<pre>+---------+-------------------+------------------------------------------+</pre>"
            ],
            "text/plain": [
              "+---------+-------------------+------------------------------------------+"
            ]
          },
          "metadata": {
            "tags": []
          }
        },
        {
          "output_type": "display_data",
          "data": {
            "text/html": [
              "<pre>| Attempt | Initial Step Size | Estimated Objective Value                |</pre>"
            ],
            "text/plain": [
              "| Attempt | Initial Step Size | Estimated Objective Value                |"
            ]
          },
          "metadata": {
            "tags": []
          }
        },
        {
          "output_type": "display_data",
          "data": {
            "text/html": [
              "<pre>+---------+-------------------+------------------------------------------+</pre>"
            ],
            "text/plain": [
              "+---------+-------------------+------------------------------------------+"
            ]
          },
          "metadata": {
            "tags": []
          }
        },
        {
          "output_type": "display_data",
          "data": {
            "text/html": [
              "<pre>| 0       | 16.6667           | Not Viable                               |</pre>"
            ],
            "text/plain": [
              "| 0       | 16.6667           | Not Viable                               |"
            ]
          },
          "metadata": {
            "tags": []
          }
        },
        {
          "output_type": "display_data",
          "data": {
            "text/html": [
              "<pre>| 1       | 4.16667           | Not Viable                               |</pre>"
            ],
            "text/plain": [
              "| 1       | 4.16667           | Not Viable                               |"
            ]
          },
          "metadata": {
            "tags": []
          }
        },
        {
          "output_type": "display_data",
          "data": {
            "text/html": [
              "<pre>| 2       | 1.04167           | Not Viable                               |</pre>"
            ],
            "text/plain": [
              "| 2       | 1.04167           | Not Viable                               |"
            ]
          },
          "metadata": {
            "tags": []
          }
        },
        {
          "output_type": "display_data",
          "data": {
            "text/html": [
              "<pre>| 3       | 0.260417          | 2.88806                                  |</pre>"
            ],
            "text/plain": [
              "| 3       | 0.260417          | 2.88806                                  |"
            ]
          },
          "metadata": {
            "tags": []
          }
        },
        {
          "output_type": "display_data",
          "data": {
            "text/html": [
              "<pre>| 4       | 0.130208          | 3.60998                                  |</pre>"
            ],
            "text/plain": [
              "| 4       | 0.130208          | 3.60998                                  |"
            ]
          },
          "metadata": {
            "tags": []
          }
        },
        {
          "output_type": "display_data",
          "data": {
            "text/html": [
              "<pre>| 5       | 0.0651042         | 4.61527                                  |</pre>"
            ],
            "text/plain": [
              "| 5       | 0.0651042         | 4.61527                                  |"
            ]
          },
          "metadata": {
            "tags": []
          }
        },
        {
          "output_type": "display_data",
          "data": {
            "text/html": [
              "<pre>| 6       | 0.0325521         | 5.96638                                  |</pre>"
            ],
            "text/plain": [
              "| 6       | 0.0325521         | 5.96638                                  |"
            ]
          },
          "metadata": {
            "tags": []
          }
        },
        {
          "output_type": "display_data",
          "data": {
            "text/html": [
              "<pre>+---------+-------------------+------------------------------------------+</pre>"
            ],
            "text/plain": [
              "+---------+-------------------+------------------------------------------+"
            ]
          },
          "metadata": {
            "tags": []
          }
        },
        {
          "output_type": "display_data",
          "data": {
            "text/html": [
              "<pre>| Final   | 0.260417          | 2.88806                                  |</pre>"
            ],
            "text/plain": [
              "| Final   | 0.260417          | 2.88806                                  |"
            ]
          },
          "metadata": {
            "tags": []
          }
        },
        {
          "output_type": "display_data",
          "data": {
            "text/html": [
              "<pre>+---------+-------------------+------------------------------------------+</pre>"
            ],
            "text/plain": [
              "+---------+-------------------+------------------------------------------+"
            ]
          },
          "metadata": {
            "tags": []
          }
        },
        {
          "output_type": "display_data",
          "data": {
            "text/html": [
              "<pre>Starting Optimization.</pre>"
            ],
            "text/plain": [
              "Starting Optimization."
            ]
          },
          "metadata": {
            "tags": []
          }
        },
        {
          "output_type": "display_data",
          "data": {
            "text/html": [
              "<pre>+---------+--------------+-------------------+-----------------------+-------------+</pre>"
            ],
            "text/plain": [
              "+---------+--------------+-------------------+-----------------------+-------------+"
            ]
          },
          "metadata": {
            "tags": []
          }
        },
        {
          "output_type": "display_data",
          "data": {
            "text/html": [
              "<pre>| Iter.   | Elapsed Time | Approx. Objective | Approx. Training RMSE | Step Size   |</pre>"
            ],
            "text/plain": [
              "| Iter.   | Elapsed Time | Approx. Objective | Approx. Training RMSE | Step Size   |"
            ]
          },
          "metadata": {
            "tags": []
          }
        },
        {
          "output_type": "display_data",
          "data": {
            "text/html": [
              "<pre>+---------+--------------+-------------------+-----------------------+-------------+</pre>"
            ],
            "text/plain": [
              "+---------+--------------+-------------------+-----------------------+-------------+"
            ]
          },
          "metadata": {
            "tags": []
          }
        },
        {
          "output_type": "display_data",
          "data": {
            "text/html": [
              "<pre>| Initial | 69us         | 10.0118           | 2.25989               |             |</pre>"
            ],
            "text/plain": [
              "| Initial | 69us         | 10.0118           | 2.25989               |             |"
            ]
          },
          "metadata": {
            "tags": []
          }
        },
        {
          "output_type": "display_data",
          "data": {
            "text/html": [
              "<pre>+---------+--------------+-------------------+-----------------------+-------------+</pre>"
            ],
            "text/plain": [
              "+---------+--------------+-------------------+-----------------------+-------------+"
            ]
          },
          "metadata": {
            "tags": []
          }
        },
        {
          "output_type": "display_data",
          "data": {
            "text/html": [
              "<pre>| 1       | 311.657ms    | 7.41367           | 2.10659               | 0.260417    |</pre>"
            ],
            "text/plain": [
              "| 1       | 311.657ms    | 7.41367           | 2.10659               | 0.260417    |"
            ]
          },
          "metadata": {
            "tags": []
          }
        },
        {
          "output_type": "display_data",
          "data": {
            "text/html": [
              "<pre>| 2       | 596.115ms    | 6.42421           | 1.78825               | 0.260417    |</pre>"
            ],
            "text/plain": [
              "| 2       | 596.115ms    | 6.42421           | 1.78825               | 0.260417    |"
            ]
          },
          "metadata": {
            "tags": []
          }
        },
        {
          "output_type": "display_data",
          "data": {
            "text/html": [
              "<pre>| 3       | 860.469ms    | 4.95798           | 1.48251               | 0.260417    |</pre>"
            ],
            "text/plain": [
              "| 3       | 860.469ms    | 4.95798           | 1.48251               | 0.260417    |"
            ]
          },
          "metadata": {
            "tags": []
          }
        },
        {
          "output_type": "display_data",
          "data": {
            "text/html": [
              "<pre>| 4       | 1.14s        | 5.14116           | 1.56212               | 0.260417    |</pre>"
            ],
            "text/plain": [
              "| 4       | 1.14s        | 5.14116           | 1.56212               | 0.260417    |"
            ]
          },
          "metadata": {
            "tags": []
          }
        },
        {
          "output_type": "display_data",
          "data": {
            "text/html": [
              "<pre>| 5       | 1.41s        | 16.2494           | 3.53584               | 0.260417    |</pre>"
            ],
            "text/plain": [
              "| 5       | 1.41s        | 16.2494           | 3.53584               | 0.260417    |"
            ]
          },
          "metadata": {
            "tags": []
          }
        },
        {
          "output_type": "display_data",
          "data": {
            "text/html": [
              "<pre>| 6       | 1.80s        | DIVERGED          | DIVERGED              | 0.260417    |</pre>"
            ],
            "text/plain": [
              "| 6       | 1.80s        | DIVERGED          | DIVERGED              | 0.260417    |"
            ]
          },
          "metadata": {
            "tags": []
          }
        },
        {
          "output_type": "display_data",
          "data": {
            "text/html": [
              "<pre>| RESET   | 1.95s        | 10.0116           | 2.25983               |             |</pre>"
            ],
            "text/plain": [
              "| RESET   | 1.95s        | 10.0116           | 2.25983               |             |"
            ]
          },
          "metadata": {
            "tags": []
          }
        },
        {
          "output_type": "display_data",
          "data": {
            "text/html": [
              "<pre>| 4       | 3.05s        | 8.00168           | 2.25157               | 0.130208    |</pre>"
            ],
            "text/plain": [
              "| 4       | 3.05s        | 8.00168           | 2.25157               | 0.130208    |"
            ]
          },
          "metadata": {
            "tags": []
          }
        },
        {
          "output_type": "display_data",
          "data": {
            "text/html": [
              "<pre>| 5       | 3.45s        | DIVERGED          | DIVERGED              | 0.130208    |</pre>"
            ],
            "text/plain": [
              "| 5       | 3.45s        | DIVERGED          | DIVERGED              | 0.130208    |"
            ]
          },
          "metadata": {
            "tags": []
          }
        },
        {
          "output_type": "display_data",
          "data": {
            "text/html": [
              "<pre>| RESET   | 3.60s        | 10.0115           | 2.25983               |             |</pre>"
            ],
            "text/plain": [
              "| RESET   | 3.60s        | 10.0115           | 2.25983               |             |"
            ]
          },
          "metadata": {
            "tags": []
          }
        },
        {
          "output_type": "display_data",
          "data": {
            "text/html": [
              "<pre>| 6       | 5.36s        | DIVERGED          | DIVERGED              | 0.0651042   |</pre>"
            ],
            "text/plain": [
              "| 6       | 5.36s        | DIVERGED          | DIVERGED              | 0.0651042   |"
            ]
          },
          "metadata": {
            "tags": []
          }
        },
        {
          "output_type": "display_data",
          "data": {
            "text/html": [
              "<pre>| RESET   | 5.51s        | 10.0112           | 2.25975               |             |</pre>"
            ],
            "text/plain": [
              "| RESET   | 5.51s        | 10.0112           | 2.25975               |             |"
            ]
          },
          "metadata": {
            "tags": []
          }
        },
        {
          "output_type": "display_data",
          "data": {
            "text/html": [
              "<pre>| 8       | 7.68s        | 7.26905           | 2.03406               | 0.0325521   |</pre>"
            ],
            "text/plain": [
              "| 8       | 7.68s        | 7.26905           | 2.03406               | 0.0325521   |"
            ]
          },
          "metadata": {
            "tags": []
          }
        },
        {
          "output_type": "display_data",
          "data": {
            "text/html": [
              "<pre>| 13      | 9.04s        | 6.75853           | 1.93464               | 0.0325521   |</pre>"
            ],
            "text/plain": [
              "| 13      | 9.04s        | 6.75853           | 1.93464               | 0.0325521   |"
            ]
          },
          "metadata": {
            "tags": []
          }
        },
        {
          "output_type": "display_data",
          "data": {
            "text/html": [
              "<pre>+---------+--------------+-------------------+-----------------------+-------------+</pre>"
            ],
            "text/plain": [
              "+---------+--------------+-------------------+-----------------------+-------------+"
            ]
          },
          "metadata": {
            "tags": []
          }
        },
        {
          "output_type": "display_data",
          "data": {
            "text/html": [
              "<pre>Optimization Complete: Maximum number of passes through the data reached (hard limit).</pre>"
            ],
            "text/plain": [
              "Optimization Complete: Maximum number of passes through the data reached (hard limit)."
            ]
          },
          "metadata": {
            "tags": []
          }
        },
        {
          "output_type": "display_data",
          "data": {
            "text/html": [
              "<pre>Computing final objective value and training RMSE.</pre>"
            ],
            "text/plain": [
              "Computing final objective value and training RMSE."
            ]
          },
          "metadata": {
            "tags": []
          }
        },
        {
          "output_type": "display_data",
          "data": {
            "text/html": [
              "<pre>       Final objective value: 6.63614</pre>"
            ],
            "text/plain": [
              "       Final objective value: 6.63614"
            ]
          },
          "metadata": {
            "tags": []
          }
        },
        {
          "output_type": "display_data",
          "data": {
            "text/html": [
              "<pre>       Final training RMSE: 1.90184</pre>"
            ],
            "text/plain": [
              "       Final training RMSE: 1.90184"
            ]
          },
          "metadata": {
            "tags": []
          }
        }
      ]
    },
    {
      "cell_type": "code",
      "metadata": {
        "id": "6Y6TY84TkcVb",
        "colab_type": "code",
        "outputId": "bf48ebfe-45da-429f-82e3-b4911fa37c11",
        "colab": {
          "base_uri": "https://localhost:8080/",
          "height": 225
        }
      },
      "source": [
        "recommendations = n.recommend()"
      ],
      "execution_count": 44,
      "outputs": [
        {
          "output_type": "display_data",
          "data": {
            "text/html": [
              "<pre>recommendations finished on 1000/12393 queries. users per second: 2512.76</pre>"
            ],
            "text/plain": [
              "recommendations finished on 1000/12393 queries. users per second: 2512.76"
            ]
          },
          "metadata": {
            "tags": []
          }
        },
        {
          "output_type": "display_data",
          "data": {
            "text/html": [
              "<pre>recommendations finished on 2000/12393 queries. users per second: 2582.7</pre>"
            ],
            "text/plain": [
              "recommendations finished on 2000/12393 queries. users per second: 2582.7"
            ]
          },
          "metadata": {
            "tags": []
          }
        },
        {
          "output_type": "display_data",
          "data": {
            "text/html": [
              "<pre>recommendations finished on 3000/12393 queries. users per second: 2600.68</pre>"
            ],
            "text/plain": [
              "recommendations finished on 3000/12393 queries. users per second: 2600.68"
            ]
          },
          "metadata": {
            "tags": []
          }
        },
        {
          "output_type": "display_data",
          "data": {
            "text/html": [
              "<pre>recommendations finished on 4000/12393 queries. users per second: 2591.34</pre>"
            ],
            "text/plain": [
              "recommendations finished on 4000/12393 queries. users per second: 2591.34"
            ]
          },
          "metadata": {
            "tags": []
          }
        },
        {
          "output_type": "display_data",
          "data": {
            "text/html": [
              "<pre>recommendations finished on 5000/12393 queries. users per second: 2612.77</pre>"
            ],
            "text/plain": [
              "recommendations finished on 5000/12393 queries. users per second: 2612.77"
            ]
          },
          "metadata": {
            "tags": []
          }
        },
        {
          "output_type": "display_data",
          "data": {
            "text/html": [
              "<pre>recommendations finished on 6000/12393 queries. users per second: 2612.73</pre>"
            ],
            "text/plain": [
              "recommendations finished on 6000/12393 queries. users per second: 2612.73"
            ]
          },
          "metadata": {
            "tags": []
          }
        },
        {
          "output_type": "display_data",
          "data": {
            "text/html": [
              "<pre>recommendations finished on 7000/12393 queries. users per second: 2615.48</pre>"
            ],
            "text/plain": [
              "recommendations finished on 7000/12393 queries. users per second: 2615.48"
            ]
          },
          "metadata": {
            "tags": []
          }
        },
        {
          "output_type": "display_data",
          "data": {
            "text/html": [
              "<pre>recommendations finished on 8000/12393 queries. users per second: 2611.95</pre>"
            ],
            "text/plain": [
              "recommendations finished on 8000/12393 queries. users per second: 2611.95"
            ]
          },
          "metadata": {
            "tags": []
          }
        },
        {
          "output_type": "display_data",
          "data": {
            "text/html": [
              "<pre>recommendations finished on 9000/12393 queries. users per second: 2619.69</pre>"
            ],
            "text/plain": [
              "recommendations finished on 9000/12393 queries. users per second: 2619.69"
            ]
          },
          "metadata": {
            "tags": []
          }
        },
        {
          "output_type": "display_data",
          "data": {
            "text/html": [
              "<pre>recommendations finished on 10000/12393 queries. users per second: 2623.94</pre>"
            ],
            "text/plain": [
              "recommendations finished on 10000/12393 queries. users per second: 2623.94"
            ]
          },
          "metadata": {
            "tags": []
          }
        },
        {
          "output_type": "display_data",
          "data": {
            "text/html": [
              "<pre>recommendations finished on 11000/12393 queries. users per second: 2627.2</pre>"
            ],
            "text/plain": [
              "recommendations finished on 11000/12393 queries. users per second: 2627.2"
            ]
          },
          "metadata": {
            "tags": []
          }
        },
        {
          "output_type": "display_data",
          "data": {
            "text/html": [
              "<pre>recommendations finished on 12000/12393 queries. users per second: 2619.03</pre>"
            ],
            "text/plain": [
              "recommendations finished on 12000/12393 queries. users per second: 2619.03"
            ]
          },
          "metadata": {
            "tags": []
          }
        }
      ]
    },
    {
      "cell_type": "markdown",
      "metadata": {
        "id": "Z62EOVTAuUAx",
        "colab_type": "text"
      },
      "source": [
        "### USER DESCRIPTION AND RECOMMENDATIONS"
      ]
    },
    {
      "cell_type": "markdown",
      "metadata": {
        "id": "Q_bMNmvlQ5Za",
        "colab_type": "text"
      },
      "source": [
        "###TOP USER 1"
      ]
    },
    {
      "cell_type": "code",
      "metadata": {
        "id": "BJ86rZiFtaso",
        "colab_type": "code",
        "outputId": "67efc9a9-7f1c-45ff-8700-7262eed2fdec",
        "colab": {
          "base_uri": "https://localhost:8080/",
          "height": 319
        }
      },
      "source": [
        "rf1 = n.recommend(users=['151603712'])\n",
        "rf1.head(20)"
      ],
      "execution_count": 45,
      "outputs": [
        {
          "output_type": "execute_result",
          "data": {
            "text/html": [
              "<div style=\"max-height:1000px;max-width:1500px;overflow:auto;\"><table frame=\"box\" rules=\"cols\">\n",
              "    <tr>\n",
              "        <th style=\"padding-left: 1em; padding-right: 1em; text-align: center\">UserID</th>\n",
              "        <th style=\"padding-left: 1em; padding-right: 1em; text-align: center\">Game</th>\n",
              "        <th style=\"padding-left: 1em; padding-right: 1em; text-align: center\">score</th>\n",
              "        <th style=\"padding-left: 1em; padding-right: 1em; text-align: center\">rank</th>\n",
              "    </tr>\n",
              "    <tr>\n",
              "        <td style=\"padding-left: 1em; padding-right: 1em; text-align: center; vertical-align: top\">151603712</td>\n",
              "        <td style=\"padding-left: 1em; padding-right: 1em; text-align: center; vertical-align: top\">Counter-Strike</td>\n",
              "        <td style=\"padding-left: 1em; padding-right: 1em; text-align: center; vertical-align: top\">3.042427854108171</td>\n",
              "        <td style=\"padding-left: 1em; padding-right: 1em; text-align: center; vertical-align: top\">1</td>\n",
              "    </tr>\n",
              "    <tr>\n",
              "        <td style=\"padding-left: 1em; padding-right: 1em; text-align: center; vertical-align: top\">151603712</td>\n",
              "        <td style=\"padding-left: 1em; padding-right: 1em; text-align: center; vertical-align: top\">Counter-Strike Source</td>\n",
              "        <td style=\"padding-left: 1em; padding-right: 1em; text-align: center; vertical-align: top\">2.97718675570424</td>\n",
              "        <td style=\"padding-left: 1em; padding-right: 1em; text-align: center; vertical-align: top\">2</td>\n",
              "    </tr>\n",
              "    <tr>\n",
              "        <td style=\"padding-left: 1em; padding-right: 1em; text-align: center; vertical-align: top\">151603712</td>\n",
              "        <td style=\"padding-left: 1em; padding-right: 1em; text-align: center; vertical-align: top\">Counter-Strike Global<br>Offensive ...</td>\n",
              "        <td style=\"padding-left: 1em; padding-right: 1em; text-align: center; vertical-align: top\">2.9645570232146543</td>\n",
              "        <td style=\"padding-left: 1em; padding-right: 1em; text-align: center; vertical-align: top\">3</td>\n",
              "    </tr>\n",
              "    <tr>\n",
              "        <td style=\"padding-left: 1em; padding-right: 1em; text-align: center; vertical-align: top\">151603712</td>\n",
              "        <td style=\"padding-left: 1em; padding-right: 1em; text-align: center; vertical-align: top\">Unturned</td>\n",
              "        <td style=\"padding-left: 1em; padding-right: 1em; text-align: center; vertical-align: top\">2.918730975555734</td>\n",
              "        <td style=\"padding-left: 1em; padding-right: 1em; text-align: center; vertical-align: top\">4</td>\n",
              "    </tr>\n",
              "    <tr>\n",
              "        <td style=\"padding-left: 1em; padding-right: 1em; text-align: center; vertical-align: top\">151603712</td>\n",
              "        <td style=\"padding-left: 1em; padding-right: 1em; text-align: center; vertical-align: top\">Sid Meier&#x27;s Civilization<br>V ...</td>\n",
              "        <td style=\"padding-left: 1em; padding-right: 1em; text-align: center; vertical-align: top\">2.5077969147437376</td>\n",
              "        <td style=\"padding-left: 1em; padding-right: 1em; text-align: center; vertical-align: top\">5</td>\n",
              "    </tr>\n",
              "    <tr>\n",
              "        <td style=\"padding-left: 1em; padding-right: 1em; text-align: center; vertical-align: top\">151603712</td>\n",
              "        <td style=\"padding-left: 1em; padding-right: 1em; text-align: center; vertical-align: top\">Half-Life 2</td>\n",
              "        <td style=\"padding-left: 1em; padding-right: 1em; text-align: center; vertical-align: top\">2.130364136266069</td>\n",
              "        <td style=\"padding-left: 1em; padding-right: 1em; text-align: center; vertical-align: top\">6</td>\n",
              "    </tr>\n",
              "    <tr>\n",
              "        <td style=\"padding-left: 1em; padding-right: 1em; text-align: center; vertical-align: top\">151603712</td>\n",
              "        <td style=\"padding-left: 1em; padding-right: 1em; text-align: center; vertical-align: top\">Terraria</td>\n",
              "        <td style=\"padding-left: 1em; padding-right: 1em; text-align: center; vertical-align: top\">1.9603886468880933</td>\n",
              "        <td style=\"padding-left: 1em; padding-right: 1em; text-align: center; vertical-align: top\">7</td>\n",
              "    </tr>\n",
              "    <tr>\n",
              "        <td style=\"padding-left: 1em; padding-right: 1em; text-align: center; vertical-align: top\">151603712</td>\n",
              "        <td style=\"padding-left: 1em; padding-right: 1em; text-align: center; vertical-align: top\">Portal 2</td>\n",
              "        <td style=\"padding-left: 1em; padding-right: 1em; text-align: center; vertical-align: top\">1.9563434286587995</td>\n",
              "        <td style=\"padding-left: 1em; padding-right: 1em; text-align: center; vertical-align: top\">8</td>\n",
              "    </tr>\n",
              "    <tr>\n",
              "        <td style=\"padding-left: 1em; padding-right: 1em; text-align: center; vertical-align: top\">151603712</td>\n",
              "        <td style=\"padding-left: 1em; padding-right: 1em; text-align: center; vertical-align: top\">Call of Duty Modern<br>Warfare 2 - Multiplayer ...</td>\n",
              "        <td style=\"padding-left: 1em; padding-right: 1em; text-align: center; vertical-align: top\">1.9504931731694501</td>\n",
              "        <td style=\"padding-left: 1em; padding-right: 1em; text-align: center; vertical-align: top\">9</td>\n",
              "    </tr>\n",
              "    <tr>\n",
              "        <td style=\"padding-left: 1em; padding-right: 1em; text-align: center; vertical-align: top\">151603712</td>\n",
              "        <td style=\"padding-left: 1em; padding-right: 1em; text-align: center; vertical-align: top\">Call of Duty Modern<br>Warfare 2 ...</td>\n",
              "        <td style=\"padding-left: 1em; padding-right: 1em; text-align: center; vertical-align: top\">1.8722515119784635</td>\n",
              "        <td style=\"padding-left: 1em; padding-right: 1em; text-align: center; vertical-align: top\">10</td>\n",
              "    </tr>\n",
              "</table>\n",
              "[10 rows x 4 columns]<br/>\n",
              "</div>"
            ],
            "text/plain": [
              "Columns:\n",
              "\tUserID\tint\n",
              "\tGame\tstr\n",
              "\tscore\tfloat\n",
              "\trank\tint\n",
              "\n",
              "Rows: 10\n",
              "\n",
              "Data:\n",
              "+-----------+-------------------------------+--------------------+------+\n",
              "|   UserID  |              Game             |       score        | rank |\n",
              "+-----------+-------------------------------+--------------------+------+\n",
              "| 151603712 |         Counter-Strike        | 3.042427854108171  |  1   |\n",
              "| 151603712 |     Counter-Strike Source     |  2.97718675570424  |  2   |\n",
              "| 151603712 | Counter-Strike Global Offe... | 2.9645570232146543 |  3   |\n",
              "| 151603712 |            Unturned           | 2.918730975555734  |  4   |\n",
              "| 151603712 |   Sid Meier's Civilization V  | 2.5077969147437376 |  5   |\n",
              "| 151603712 |          Half-Life 2          | 2.130364136266069  |  6   |\n",
              "| 151603712 |            Terraria           | 1.9603886468880933 |  7   |\n",
              "| 151603712 |            Portal 2           | 1.9563434286587995 |  8   |\n",
              "| 151603712 | Call of Duty Modern Warfar... | 1.9504931731694501 |  9   |\n",
              "| 151603712 | Call of Duty Modern Warfare 2 | 1.8722515119784635 |  10  |\n",
              "+-----------+-------------------------------+--------------------+------+\n",
              "[10 rows x 4 columns]"
            ]
          },
          "metadata": {
            "tags": []
          },
          "execution_count": 45
        }
      ]
    },
    {
      "cell_type": "markdown",
      "metadata": {
        "id": "S22qRBUfRMd4",
        "colab_type": "text"
      },
      "source": [
        "###Creating a dataframe"
      ]
    },
    {
      "cell_type": "code",
      "metadata": {
        "id": "pslnjOZC_o18",
        "colab_type": "code",
        "colab": {
          "base_uri": "https://localhost:8080/",
          "height": 363
        },
        "outputId": "c2b5011a-70ea-4857-8e17-1bd3da2f5035"
      },
      "source": [
        "ranfact1 = pd.DataFrame(rf1)\n",
        "ranfact1.drop([\"UserID\",\"rank\"],axis = 1, inplace = True)\n",
        "ranfact1.rename(columns={'Game': 'Game_RFR', 'score': 'score_RFR'}, inplace=True)\n",
        "ranfact1.head(10)"
      ],
      "execution_count": 46,
      "outputs": [
        {
          "output_type": "execute_result",
          "data": {
            "text/html": [
              "<div>\n",
              "<style scoped>\n",
              "    .dataframe tbody tr th:only-of-type {\n",
              "        vertical-align: middle;\n",
              "    }\n",
              "\n",
              "    .dataframe tbody tr th {\n",
              "        vertical-align: top;\n",
              "    }\n",
              "\n",
              "    .dataframe thead th {\n",
              "        text-align: right;\n",
              "    }\n",
              "</style>\n",
              "<table border=\"1\" class=\"dataframe\">\n",
              "  <thead>\n",
              "    <tr style=\"text-align: right;\">\n",
              "      <th></th>\n",
              "      <th>Game_RFR</th>\n",
              "      <th>score_RFR</th>\n",
              "    </tr>\n",
              "  </thead>\n",
              "  <tbody>\n",
              "    <tr>\n",
              "      <th>0</th>\n",
              "      <td>Counter-Strike</td>\n",
              "      <td>3.042428</td>\n",
              "    </tr>\n",
              "    <tr>\n",
              "      <th>1</th>\n",
              "      <td>Counter-Strike Source</td>\n",
              "      <td>2.977187</td>\n",
              "    </tr>\n",
              "    <tr>\n",
              "      <th>2</th>\n",
              "      <td>Counter-Strike Global Offensive</td>\n",
              "      <td>2.964557</td>\n",
              "    </tr>\n",
              "    <tr>\n",
              "      <th>3</th>\n",
              "      <td>Unturned</td>\n",
              "      <td>2.918731</td>\n",
              "    </tr>\n",
              "    <tr>\n",
              "      <th>4</th>\n",
              "      <td>Sid Meier's Civilization V</td>\n",
              "      <td>2.507797</td>\n",
              "    </tr>\n",
              "    <tr>\n",
              "      <th>5</th>\n",
              "      <td>Half-Life 2</td>\n",
              "      <td>2.130364</td>\n",
              "    </tr>\n",
              "    <tr>\n",
              "      <th>6</th>\n",
              "      <td>Terraria</td>\n",
              "      <td>1.960389</td>\n",
              "    </tr>\n",
              "    <tr>\n",
              "      <th>7</th>\n",
              "      <td>Portal 2</td>\n",
              "      <td>1.956343</td>\n",
              "    </tr>\n",
              "    <tr>\n",
              "      <th>8</th>\n",
              "      <td>Call of Duty Modern Warfare 2 - Multiplayer</td>\n",
              "      <td>1.950493</td>\n",
              "    </tr>\n",
              "    <tr>\n",
              "      <th>9</th>\n",
              "      <td>Call of Duty Modern Warfare 2</td>\n",
              "      <td>1.872252</td>\n",
              "    </tr>\n",
              "  </tbody>\n",
              "</table>\n",
              "</div>"
            ],
            "text/plain": [
              "                                      Game_RFR  score_RFR\n",
              "0                               Counter-Strike   3.042428\n",
              "1                        Counter-Strike Source   2.977187\n",
              "2              Counter-Strike Global Offensive   2.964557\n",
              "3                                     Unturned   2.918731\n",
              "4                   Sid Meier's Civilization V   2.507797\n",
              "5                                  Half-Life 2   2.130364\n",
              "6                                     Terraria   1.960389\n",
              "7                                     Portal 2   1.956343\n",
              "8  Call of Duty Modern Warfare 2 - Multiplayer   1.950493\n",
              "9                Call of Duty Modern Warfare 2   1.872252"
            ]
          },
          "metadata": {
            "tags": []
          },
          "execution_count": 46
        }
      ]
    },
    {
      "cell_type": "code",
      "metadata": {
        "id": "LRTQfegIteRQ",
        "colab_type": "code",
        "outputId": "624ac0ce-8c37-400f-e19c-bbc86bdfd704",
        "colab": {
          "base_uri": "https://localhost:8080/",
          "height": 1000
        }
      },
      "source": [
        "clean_df.loc[clean_df[\"UserID\"] == 151603712,[\"Game\",\"Played_hours\",\"Ranking\"]]"
      ],
      "execution_count": 47,
      "outputs": [
        {
          "output_type": "execute_result",
          "data": {
            "text/html": [
              "<div>\n",
              "<style scoped>\n",
              "    .dataframe tbody tr th:only-of-type {\n",
              "        vertical-align: middle;\n",
              "    }\n",
              "\n",
              "    .dataframe tbody tr th {\n",
              "        vertical-align: top;\n",
              "    }\n",
              "\n",
              "    .dataframe thead th {\n",
              "        text-align: right;\n",
              "    }\n",
              "</style>\n",
              "<table border=\"1\" class=\"dataframe\">\n",
              "  <thead>\n",
              "    <tr style=\"text-align: right;\">\n",
              "      <th></th>\n",
              "      <th>Game</th>\n",
              "      <th>Played_hours</th>\n",
              "      <th>Ranking</th>\n",
              "    </tr>\n",
              "  </thead>\n",
              "  <tbody>\n",
              "    <tr>\n",
              "      <th>0</th>\n",
              "      <td>The Elder Scrolls V Skyrim</td>\n",
              "      <td>273.0</td>\n",
              "      <td>10.0</td>\n",
              "    </tr>\n",
              "    <tr>\n",
              "      <th>1</th>\n",
              "      <td>Fallout 4</td>\n",
              "      <td>87.0</td>\n",
              "      <td>4.0</td>\n",
              "    </tr>\n",
              "    <tr>\n",
              "      <th>2</th>\n",
              "      <td>Spore</td>\n",
              "      <td>14.9</td>\n",
              "      <td>1.0</td>\n",
              "    </tr>\n",
              "    <tr>\n",
              "      <th>3</th>\n",
              "      <td>Fallout New Vegas</td>\n",
              "      <td>12.1</td>\n",
              "      <td>1.0</td>\n",
              "    </tr>\n",
              "    <tr>\n",
              "      <th>4</th>\n",
              "      <td>Left 4 Dead 2</td>\n",
              "      <td>8.9</td>\n",
              "      <td>1.0</td>\n",
              "    </tr>\n",
              "    <tr>\n",
              "      <th>5</th>\n",
              "      <td>HuniePop</td>\n",
              "      <td>8.5</td>\n",
              "      <td>1.0</td>\n",
              "    </tr>\n",
              "    <tr>\n",
              "      <th>6</th>\n",
              "      <td>Path of Exile</td>\n",
              "      <td>8.1</td>\n",
              "      <td>1.0</td>\n",
              "    </tr>\n",
              "    <tr>\n",
              "      <th>7</th>\n",
              "      <td>Poly Bridge</td>\n",
              "      <td>7.5</td>\n",
              "      <td>1.0</td>\n",
              "    </tr>\n",
              "    <tr>\n",
              "      <th>8</th>\n",
              "      <td>Left 4 Dead</td>\n",
              "      <td>3.3</td>\n",
              "      <td>1.0</td>\n",
              "    </tr>\n",
              "    <tr>\n",
              "      <th>9</th>\n",
              "      <td>Team Fortress 2</td>\n",
              "      <td>2.8</td>\n",
              "      <td>1.0</td>\n",
              "    </tr>\n",
              "    <tr>\n",
              "      <th>10</th>\n",
              "      <td>Tomb Raider</td>\n",
              "      <td>2.5</td>\n",
              "      <td>1.0</td>\n",
              "    </tr>\n",
              "    <tr>\n",
              "      <th>11</th>\n",
              "      <td>The Banner Saga</td>\n",
              "      <td>2.0</td>\n",
              "      <td>1.0</td>\n",
              "    </tr>\n",
              "    <tr>\n",
              "      <th>12</th>\n",
              "      <td>Dead Island Epidemic</td>\n",
              "      <td>1.4</td>\n",
              "      <td>1.0</td>\n",
              "    </tr>\n",
              "    <tr>\n",
              "      <th>13</th>\n",
              "      <td>BioShock Infinite</td>\n",
              "      <td>1.3</td>\n",
              "      <td>1.0</td>\n",
              "    </tr>\n",
              "    <tr>\n",
              "      <th>14</th>\n",
              "      <td>Dragon Age Origins - Ultimate Edition</td>\n",
              "      <td>1.3</td>\n",
              "      <td>1.0</td>\n",
              "    </tr>\n",
              "    <tr>\n",
              "      <th>15</th>\n",
              "      <td>Fallout 3 - Game of the Year Edition</td>\n",
              "      <td>0.8</td>\n",
              "      <td>1.0</td>\n",
              "    </tr>\n",
              "    <tr>\n",
              "      <th>16</th>\n",
              "      <td>SEGA Genesis &amp; Mega Drive Classics</td>\n",
              "      <td>0.8</td>\n",
              "      <td>1.0</td>\n",
              "    </tr>\n",
              "    <tr>\n",
              "      <th>17</th>\n",
              "      <td>Grand Theft Auto IV</td>\n",
              "      <td>0.6</td>\n",
              "      <td>1.0</td>\n",
              "    </tr>\n",
              "    <tr>\n",
              "      <th>18</th>\n",
              "      <td>Realm of the Mad God</td>\n",
              "      <td>0.5</td>\n",
              "      <td>1.0</td>\n",
              "    </tr>\n",
              "    <tr>\n",
              "      <th>19</th>\n",
              "      <td>Marvel Heroes 2015</td>\n",
              "      <td>0.5</td>\n",
              "      <td>1.0</td>\n",
              "    </tr>\n",
              "    <tr>\n",
              "      <th>20</th>\n",
              "      <td>Eldevin</td>\n",
              "      <td>0.5</td>\n",
              "      <td>1.0</td>\n",
              "    </tr>\n",
              "    <tr>\n",
              "      <th>21</th>\n",
              "      <td>Dota 2</td>\n",
              "      <td>0.5</td>\n",
              "      <td>1.0</td>\n",
              "    </tr>\n",
              "    <tr>\n",
              "      <th>22</th>\n",
              "      <td>BioShock</td>\n",
              "      <td>0.5</td>\n",
              "      <td>1.0</td>\n",
              "    </tr>\n",
              "    <tr>\n",
              "      <th>23</th>\n",
              "      <td>Robocraft</td>\n",
              "      <td>0.4</td>\n",
              "      <td>1.0</td>\n",
              "    </tr>\n",
              "    <tr>\n",
              "      <th>24</th>\n",
              "      <td>Garry's Mod</td>\n",
              "      <td>0.1</td>\n",
              "      <td>1.0</td>\n",
              "    </tr>\n",
              "    <tr>\n",
              "      <th>25</th>\n",
              "      <td>Jazzpunk</td>\n",
              "      <td>0.1</td>\n",
              "      <td>1.0</td>\n",
              "    </tr>\n",
              "    <tr>\n",
              "      <th>26</th>\n",
              "      <td>Alan Wake</td>\n",
              "      <td>0.0</td>\n",
              "      <td>1.0</td>\n",
              "    </tr>\n",
              "    <tr>\n",
              "      <th>27</th>\n",
              "      <td>BioShock 2</td>\n",
              "      <td>0.0</td>\n",
              "      <td>1.0</td>\n",
              "    </tr>\n",
              "    <tr>\n",
              "      <th>28</th>\n",
              "      <td>Fallen Earth</td>\n",
              "      <td>0.0</td>\n",
              "      <td>1.0</td>\n",
              "    </tr>\n",
              "    <tr>\n",
              "      <th>29</th>\n",
              "      <td>Fallout New Vegas Courier's Stash</td>\n",
              "      <td>0.0</td>\n",
              "      <td>1.0</td>\n",
              "    </tr>\n",
              "    <tr>\n",
              "      <th>30</th>\n",
              "      <td>Fallout New Vegas Dead Money</td>\n",
              "      <td>0.0</td>\n",
              "      <td>1.0</td>\n",
              "    </tr>\n",
              "    <tr>\n",
              "      <th>31</th>\n",
              "      <td>Fallout New Vegas Honest Hearts</td>\n",
              "      <td>0.0</td>\n",
              "      <td>1.0</td>\n",
              "    </tr>\n",
              "    <tr>\n",
              "      <th>32</th>\n",
              "      <td>Grand Theft Auto Episodes from Liberty City</td>\n",
              "      <td>0.0</td>\n",
              "      <td>1.0</td>\n",
              "    </tr>\n",
              "    <tr>\n",
              "      <th>33</th>\n",
              "      <td>Hitman Absolution</td>\n",
              "      <td>0.0</td>\n",
              "      <td>1.0</td>\n",
              "    </tr>\n",
              "    <tr>\n",
              "      <th>34</th>\n",
              "      <td>HuniePop Official Digital Art Collection</td>\n",
              "      <td>0.0</td>\n",
              "      <td>1.0</td>\n",
              "    </tr>\n",
              "    <tr>\n",
              "      <th>35</th>\n",
              "      <td>HuniePop Original Soundtrack</td>\n",
              "      <td>0.0</td>\n",
              "      <td>1.0</td>\n",
              "    </tr>\n",
              "    <tr>\n",
              "      <th>36</th>\n",
              "      <td>The Banner Saga - Mod Content</td>\n",
              "      <td>0.0</td>\n",
              "      <td>1.0</td>\n",
              "    </tr>\n",
              "    <tr>\n",
              "      <th>37</th>\n",
              "      <td>The Elder Scrolls V Skyrim - Dawnguard</td>\n",
              "      <td>0.0</td>\n",
              "      <td>1.0</td>\n",
              "    </tr>\n",
              "    <tr>\n",
              "      <th>38</th>\n",
              "      <td>The Elder Scrolls V Skyrim - Dragonborn</td>\n",
              "      <td>0.0</td>\n",
              "      <td>1.0</td>\n",
              "    </tr>\n",
              "    <tr>\n",
              "      <th>39</th>\n",
              "      <td>The Elder Scrolls V Skyrim - Hearthfire</td>\n",
              "      <td>0.0</td>\n",
              "      <td>1.0</td>\n",
              "    </tr>\n",
              "  </tbody>\n",
              "</table>\n",
              "</div>"
            ],
            "text/plain": [
              "                                           Game  Played_hours  Ranking\n",
              "0                    The Elder Scrolls V Skyrim         273.0     10.0\n",
              "1                                     Fallout 4          87.0      4.0\n",
              "2                                         Spore          14.9      1.0\n",
              "3                             Fallout New Vegas          12.1      1.0\n",
              "4                                 Left 4 Dead 2           8.9      1.0\n",
              "5                                      HuniePop           8.5      1.0\n",
              "6                                 Path of Exile           8.1      1.0\n",
              "7                                   Poly Bridge           7.5      1.0\n",
              "8                                   Left 4 Dead           3.3      1.0\n",
              "9                               Team Fortress 2           2.8      1.0\n",
              "10                                  Tomb Raider           2.5      1.0\n",
              "11                              The Banner Saga           2.0      1.0\n",
              "12                         Dead Island Epidemic           1.4      1.0\n",
              "13                            BioShock Infinite           1.3      1.0\n",
              "14        Dragon Age Origins - Ultimate Edition           1.3      1.0\n",
              "15         Fallout 3 - Game of the Year Edition           0.8      1.0\n",
              "16           SEGA Genesis & Mega Drive Classics           0.8      1.0\n",
              "17                          Grand Theft Auto IV           0.6      1.0\n",
              "18                         Realm of the Mad God           0.5      1.0\n",
              "19                           Marvel Heroes 2015           0.5      1.0\n",
              "20                                      Eldevin           0.5      1.0\n",
              "21                                       Dota 2           0.5      1.0\n",
              "22                                     BioShock           0.5      1.0\n",
              "23                                    Robocraft           0.4      1.0\n",
              "24                                  Garry's Mod           0.1      1.0\n",
              "25                                     Jazzpunk           0.1      1.0\n",
              "26                                    Alan Wake           0.0      1.0\n",
              "27                                   BioShock 2           0.0      1.0\n",
              "28                                 Fallen Earth           0.0      1.0\n",
              "29            Fallout New Vegas Courier's Stash           0.0      1.0\n",
              "30                 Fallout New Vegas Dead Money           0.0      1.0\n",
              "31              Fallout New Vegas Honest Hearts           0.0      1.0\n",
              "32  Grand Theft Auto Episodes from Liberty City           0.0      1.0\n",
              "33                            Hitman Absolution           0.0      1.0\n",
              "34     HuniePop Official Digital Art Collection           0.0      1.0\n",
              "35                 HuniePop Original Soundtrack           0.0      1.0\n",
              "36                The Banner Saga - Mod Content           0.0      1.0\n",
              "37       The Elder Scrolls V Skyrim - Dawnguard           0.0      1.0\n",
              "38      The Elder Scrolls V Skyrim - Dragonborn           0.0      1.0\n",
              "39      The Elder Scrolls V Skyrim - Hearthfire           0.0      1.0"
            ]
          },
          "metadata": {
            "tags": []
          },
          "execution_count": 47
        }
      ]
    },
    {
      "cell_type": "markdown",
      "metadata": {
        "id": "kouHOuTvQ8pD",
        "colab_type": "text"
      },
      "source": [
        "###TOP USER 2"
      ]
    },
    {
      "cell_type": "code",
      "metadata": {
        "id": "1y3piqXqtazn",
        "colab_type": "code",
        "outputId": "ca0422b5-b7a4-418f-dbf1-a06b53289c3b",
        "colab": {
          "base_uri": "https://localhost:8080/",
          "height": 319
        }
      },
      "source": [
        "rf2 = n.recommend(users=['62990992'])\n",
        "rf2"
      ],
      "execution_count": 48,
      "outputs": [
        {
          "output_type": "execute_result",
          "data": {
            "text/html": [
              "<div style=\"max-height:1000px;max-width:1500px;overflow:auto;\"><table frame=\"box\" rules=\"cols\">\n",
              "    <tr>\n",
              "        <th style=\"padding-left: 1em; padding-right: 1em; text-align: center\">UserID</th>\n",
              "        <th style=\"padding-left: 1em; padding-right: 1em; text-align: center\">Game</th>\n",
              "        <th style=\"padding-left: 1em; padding-right: 1em; text-align: center\">score</th>\n",
              "        <th style=\"padding-left: 1em; padding-right: 1em; text-align: center\">rank</th>\n",
              "    </tr>\n",
              "    <tr>\n",
              "        <td style=\"padding-left: 1em; padding-right: 1em; text-align: center; vertical-align: top\">62990992</td>\n",
              "        <td style=\"padding-left: 1em; padding-right: 1em; text-align: center; vertical-align: top\">Unturned</td>\n",
              "        <td style=\"padding-left: 1em; padding-right: 1em; text-align: center; vertical-align: top\">1.9923604442351621</td>\n",
              "        <td style=\"padding-left: 1em; padding-right: 1em; text-align: center; vertical-align: top\">1</td>\n",
              "    </tr>\n",
              "    <tr>\n",
              "        <td style=\"padding-left: 1em; padding-right: 1em; text-align: center; vertical-align: top\">62990992</td>\n",
              "        <td style=\"padding-left: 1em; padding-right: 1em; text-align: center; vertical-align: top\">Call of Duty Modern<br>Warfare 2 - Multiplayer ...</td>\n",
              "        <td style=\"padding-left: 1em; padding-right: 1em; text-align: center; vertical-align: top\">0.9596423520320219</td>\n",
              "        <td style=\"padding-left: 1em; padding-right: 1em; text-align: center; vertical-align: top\">2</td>\n",
              "    </tr>\n",
              "    <tr>\n",
              "        <td style=\"padding-left: 1em; padding-right: 1em; text-align: center; vertical-align: top\">62990992</td>\n",
              "        <td style=\"padding-left: 1em; padding-right: 1em; text-align: center; vertical-align: top\">Call of Duty Modern<br>Warfare 2 ...</td>\n",
              "        <td style=\"padding-left: 1em; padding-right: 1em; text-align: center; vertical-align: top\">0.9409424974196714</td>\n",
              "        <td style=\"padding-left: 1em; padding-right: 1em; text-align: center; vertical-align: top\">3</td>\n",
              "    </tr>\n",
              "    <tr>\n",
              "        <td style=\"padding-left: 1em; padding-right: 1em; text-align: center; vertical-align: top\">62990992</td>\n",
              "        <td style=\"padding-left: 1em; padding-right: 1em; text-align: center; vertical-align: top\">PAYDAY 2</td>\n",
              "        <td style=\"padding-left: 1em; padding-right: 1em; text-align: center; vertical-align: top\">0.9305881573432249</td>\n",
              "        <td style=\"padding-left: 1em; padding-right: 1em; text-align: center; vertical-align: top\">4</td>\n",
              "    </tr>\n",
              "    <tr>\n",
              "        <td style=\"padding-left: 1em; padding-right: 1em; text-align: center; vertical-align: top\">62990992</td>\n",
              "        <td style=\"padding-left: 1em; padding-right: 1em; text-align: center; vertical-align: top\">Call of Duty Black Ops -<br>Multiplayer ...</td>\n",
              "        <td style=\"padding-left: 1em; padding-right: 1em; text-align: center; vertical-align: top\">0.7651392533057493</td>\n",
              "        <td style=\"padding-left: 1em; padding-right: 1em; text-align: center; vertical-align: top\">5</td>\n",
              "    </tr>\n",
              "    <tr>\n",
              "        <td style=\"padding-left: 1em; padding-right: 1em; text-align: center; vertical-align: top\">62990992</td>\n",
              "        <td style=\"padding-left: 1em; padding-right: 1em; text-align: center; vertical-align: top\">Grand Theft Auto V</td>\n",
              "        <td style=\"padding-left: 1em; padding-right: 1em; text-align: center; vertical-align: top\">0.7189708365672391</td>\n",
              "        <td style=\"padding-left: 1em; padding-right: 1em; text-align: center; vertical-align: top\">6</td>\n",
              "    </tr>\n",
              "    <tr>\n",
              "        <td style=\"padding-left: 1em; padding-right: 1em; text-align: center; vertical-align: top\">62990992</td>\n",
              "        <td style=\"padding-left: 1em; padding-right: 1em; text-align: center; vertical-align: top\">DayZ</td>\n",
              "        <td style=\"padding-left: 1em; padding-right: 1em; text-align: center; vertical-align: top\">0.7025823904746336</td>\n",
              "        <td style=\"padding-left: 1em; padding-right: 1em; text-align: center; vertical-align: top\">7</td>\n",
              "    </tr>\n",
              "    <tr>\n",
              "        <td style=\"padding-left: 1em; padding-right: 1em; text-align: center; vertical-align: top\">62990992</td>\n",
              "        <td style=\"padding-left: 1em; padding-right: 1em; text-align: center; vertical-align: top\">Don&#x27;t Starve</td>\n",
              "        <td style=\"padding-left: 1em; padding-right: 1em; text-align: center; vertical-align: top\">0.6945310248606962</td>\n",
              "        <td style=\"padding-left: 1em; padding-right: 1em; text-align: center; vertical-align: top\">8</td>\n",
              "    </tr>\n",
              "    <tr>\n",
              "        <td style=\"padding-left: 1em; padding-right: 1em; text-align: center; vertical-align: top\">62990992</td>\n",
              "        <td style=\"padding-left: 1em; padding-right: 1em; text-align: center; vertical-align: top\">Fallout New Vegas</td>\n",
              "        <td style=\"padding-left: 1em; padding-right: 1em; text-align: center; vertical-align: top\">0.6890297545665067</td>\n",
              "        <td style=\"padding-left: 1em; padding-right: 1em; text-align: center; vertical-align: top\">9</td>\n",
              "    </tr>\n",
              "    <tr>\n",
              "        <td style=\"padding-left: 1em; padding-right: 1em; text-align: center; vertical-align: top\">62990992</td>\n",
              "        <td style=\"padding-left: 1em; padding-right: 1em; text-align: center; vertical-align: top\">Dark Souls Prepare to Die<br>Edition ...</td>\n",
              "        <td style=\"padding-left: 1em; padding-right: 1em; text-align: center; vertical-align: top\">0.6585998995774549</td>\n",
              "        <td style=\"padding-left: 1em; padding-right: 1em; text-align: center; vertical-align: top\">10</td>\n",
              "    </tr>\n",
              "</table>\n",
              "[10 rows x 4 columns]<br/>\n",
              "</div>"
            ],
            "text/plain": [
              "Columns:\n",
              "\tUserID\tint\n",
              "\tGame\tstr\n",
              "\tscore\tfloat\n",
              "\trank\tint\n",
              "\n",
              "Rows: 10\n",
              "\n",
              "Data:\n",
              "+----------+-------------------------------+--------------------+------+\n",
              "|  UserID  |              Game             |       score        | rank |\n",
              "+----------+-------------------------------+--------------------+------+\n",
              "| 62990992 |            Unturned           | 1.9923604442351621 |  1   |\n",
              "| 62990992 | Call of Duty Modern Warfar... | 0.9596423520320219 |  2   |\n",
              "| 62990992 | Call of Duty Modern Warfare 2 | 0.9409424974196714 |  3   |\n",
              "| 62990992 |            PAYDAY 2           | 0.9305881573432249 |  4   |\n",
              "| 62990992 | Call of Duty Black Ops - M... | 0.7651392533057493 |  5   |\n",
              "| 62990992 |       Grand Theft Auto V      | 0.7189708365672391 |  6   |\n",
              "| 62990992 |              DayZ             | 0.7025823904746336 |  7   |\n",
              "| 62990992 |          Don't Starve         | 0.6945310248606962 |  8   |\n",
              "| 62990992 |       Fallout New Vegas       | 0.6890297545665067 |  9   |\n",
              "| 62990992 | Dark Souls Prepare to Die ... | 0.6585998995774549 |  10  |\n",
              "+----------+-------------------------------+--------------------+------+\n",
              "[10 rows x 4 columns]"
            ]
          },
          "metadata": {
            "tags": []
          },
          "execution_count": 48
        }
      ]
    },
    {
      "cell_type": "markdown",
      "metadata": {
        "id": "K-P_3z2ARRgn",
        "colab_type": "text"
      },
      "source": [
        "###Creating a dataframe"
      ]
    },
    {
      "cell_type": "code",
      "metadata": {
        "id": "p1qnJUbnAmON",
        "colab_type": "code",
        "colab": {
          "base_uri": "https://localhost:8080/",
          "height": 363
        },
        "outputId": "a6faf9b6-a630-4419-cb4e-825ca07c4859"
      },
      "source": [
        "ranfact2 = pd.DataFrame(rf2)\n",
        "ranfact2.drop([\"UserID\",\"rank\"],axis = 1, inplace = True)\n",
        "ranfact2.rename(columns={'Game': 'Game_RFR', 'score': 'score_RFR'}, inplace=True)\n",
        "ranfact2.head(10)"
      ],
      "execution_count": 49,
      "outputs": [
        {
          "output_type": "execute_result",
          "data": {
            "text/html": [
              "<div>\n",
              "<style scoped>\n",
              "    .dataframe tbody tr th:only-of-type {\n",
              "        vertical-align: middle;\n",
              "    }\n",
              "\n",
              "    .dataframe tbody tr th {\n",
              "        vertical-align: top;\n",
              "    }\n",
              "\n",
              "    .dataframe thead th {\n",
              "        text-align: right;\n",
              "    }\n",
              "</style>\n",
              "<table border=\"1\" class=\"dataframe\">\n",
              "  <thead>\n",
              "    <tr style=\"text-align: right;\">\n",
              "      <th></th>\n",
              "      <th>Game_RFR</th>\n",
              "      <th>score_RFR</th>\n",
              "    </tr>\n",
              "  </thead>\n",
              "  <tbody>\n",
              "    <tr>\n",
              "      <th>0</th>\n",
              "      <td>Unturned</td>\n",
              "      <td>1.992360</td>\n",
              "    </tr>\n",
              "    <tr>\n",
              "      <th>1</th>\n",
              "      <td>Call of Duty Modern Warfare 2 - Multiplayer</td>\n",
              "      <td>0.959642</td>\n",
              "    </tr>\n",
              "    <tr>\n",
              "      <th>2</th>\n",
              "      <td>Call of Duty Modern Warfare 2</td>\n",
              "      <td>0.940942</td>\n",
              "    </tr>\n",
              "    <tr>\n",
              "      <th>3</th>\n",
              "      <td>PAYDAY 2</td>\n",
              "      <td>0.930588</td>\n",
              "    </tr>\n",
              "    <tr>\n",
              "      <th>4</th>\n",
              "      <td>Call of Duty Black Ops - Multiplayer</td>\n",
              "      <td>0.765139</td>\n",
              "    </tr>\n",
              "    <tr>\n",
              "      <th>5</th>\n",
              "      <td>Grand Theft Auto V</td>\n",
              "      <td>0.718971</td>\n",
              "    </tr>\n",
              "    <tr>\n",
              "      <th>6</th>\n",
              "      <td>DayZ</td>\n",
              "      <td>0.702582</td>\n",
              "    </tr>\n",
              "    <tr>\n",
              "      <th>7</th>\n",
              "      <td>Don't Starve</td>\n",
              "      <td>0.694531</td>\n",
              "    </tr>\n",
              "    <tr>\n",
              "      <th>8</th>\n",
              "      <td>Fallout New Vegas</td>\n",
              "      <td>0.689030</td>\n",
              "    </tr>\n",
              "    <tr>\n",
              "      <th>9</th>\n",
              "      <td>Dark Souls Prepare to Die Edition</td>\n",
              "      <td>0.658600</td>\n",
              "    </tr>\n",
              "  </tbody>\n",
              "</table>\n",
              "</div>"
            ],
            "text/plain": [
              "                                      Game_RFR  score_RFR\n",
              "0                                     Unturned   1.992360\n",
              "1  Call of Duty Modern Warfare 2 - Multiplayer   0.959642\n",
              "2                Call of Duty Modern Warfare 2   0.940942\n",
              "3                                     PAYDAY 2   0.930588\n",
              "4         Call of Duty Black Ops - Multiplayer   0.765139\n",
              "5                           Grand Theft Auto V   0.718971\n",
              "6                                         DayZ   0.702582\n",
              "7                                 Don't Starve   0.694531\n",
              "8                            Fallout New Vegas   0.689030\n",
              "9            Dark Souls Prepare to Die Edition   0.658600"
            ]
          },
          "metadata": {
            "tags": []
          },
          "execution_count": 49
        }
      ]
    },
    {
      "cell_type": "code",
      "metadata": {
        "id": "LI_p0ffHta5-",
        "colab_type": "code",
        "outputId": "33e02a42-a3a2-4866-b03d-fea8a8efdfde",
        "colab": {
          "base_uri": "https://localhost:8080/",
          "height": 424
        }
      },
      "source": [
        "clean_df.loc[clean_df[\"UserID\"] == 62990992,[\"Game\",\"Played_hours\",\"Ranking\"]]"
      ],
      "execution_count": 50,
      "outputs": [
        {
          "output_type": "execute_result",
          "data": {
            "text/html": [
              "<div>\n",
              "<style scoped>\n",
              "    .dataframe tbody tr th:only-of-type {\n",
              "        vertical-align: middle;\n",
              "    }\n",
              "\n",
              "    .dataframe tbody tr th {\n",
              "        vertical-align: top;\n",
              "    }\n",
              "\n",
              "    .dataframe thead th {\n",
              "        text-align: right;\n",
              "    }\n",
              "</style>\n",
              "<table border=\"1\" class=\"dataframe\">\n",
              "  <thead>\n",
              "    <tr style=\"text-align: right;\">\n",
              "      <th></th>\n",
              "      <th>Game</th>\n",
              "      <th>Played_hours</th>\n",
              "      <th>Ranking</th>\n",
              "    </tr>\n",
              "  </thead>\n",
              "  <tbody>\n",
              "    <tr>\n",
              "      <th>77076</th>\n",
              "      <td>Counter-Strike Global Offensive</td>\n",
              "      <td>663.0</td>\n",
              "      <td>10.0</td>\n",
              "    </tr>\n",
              "    <tr>\n",
              "      <th>77077</th>\n",
              "      <td>Sid Meier's Civilization V</td>\n",
              "      <td>550.0</td>\n",
              "      <td>9.0</td>\n",
              "    </tr>\n",
              "    <tr>\n",
              "      <th>77078</th>\n",
              "      <td>Total War SHOGUN 2</td>\n",
              "      <td>212.0</td>\n",
              "      <td>4.0</td>\n",
              "    </tr>\n",
              "    <tr>\n",
              "      <th>77079</th>\n",
              "      <td>Total War ROME II - Emperor Edition</td>\n",
              "      <td>198.0</td>\n",
              "      <td>3.0</td>\n",
              "    </tr>\n",
              "    <tr>\n",
              "      <th>77080</th>\n",
              "      <td>Dungeon Defenders</td>\n",
              "      <td>195.0</td>\n",
              "      <td>3.0</td>\n",
              "    </tr>\n",
              "    <tr>\n",
              "      <th>...</th>\n",
              "      <td>...</td>\n",
              "      <td>...</td>\n",
              "      <td>...</td>\n",
              "    </tr>\n",
              "    <tr>\n",
              "      <th>78146</th>\n",
              "      <td>Xenophage</td>\n",
              "      <td>0.0</td>\n",
              "      <td>1.0</td>\n",
              "    </tr>\n",
              "    <tr>\n",
              "      <th>78147</th>\n",
              "      <td>Xpand Rally Xtreme</td>\n",
              "      <td>0.0</td>\n",
              "      <td>1.0</td>\n",
              "    </tr>\n",
              "    <tr>\n",
              "      <th>78148</th>\n",
              "      <td>Zen Bound 2</td>\n",
              "      <td>0.0</td>\n",
              "      <td>1.0</td>\n",
              "    </tr>\n",
              "    <tr>\n",
              "      <th>78149</th>\n",
              "      <td>Zombie Driver HD Apocalypse Pack</td>\n",
              "      <td>0.0</td>\n",
              "      <td>1.0</td>\n",
              "    </tr>\n",
              "    <tr>\n",
              "      <th>78150</th>\n",
              "      <td>Zoo Park</td>\n",
              "      <td>0.0</td>\n",
              "      <td>1.0</td>\n",
              "    </tr>\n",
              "  </tbody>\n",
              "</table>\n",
              "<p>1075 rows × 3 columns</p>\n",
              "</div>"
            ],
            "text/plain": [
              "                                      Game  Played_hours  Ranking\n",
              "77076      Counter-Strike Global Offensive         663.0     10.0\n",
              "77077           Sid Meier's Civilization V         550.0      9.0\n",
              "77078                   Total War SHOGUN 2         212.0      4.0\n",
              "77079  Total War ROME II - Emperor Edition         198.0      3.0\n",
              "77080                    Dungeon Defenders         195.0      3.0\n",
              "...                                    ...           ...      ...\n",
              "78146                            Xenophage           0.0      1.0\n",
              "78147                   Xpand Rally Xtreme           0.0      1.0\n",
              "78148                          Zen Bound 2           0.0      1.0\n",
              "78149     Zombie Driver HD Apocalypse Pack           0.0      1.0\n",
              "78150                             Zoo Park           0.0      1.0\n",
              "\n",
              "[1075 rows x 3 columns]"
            ]
          },
          "metadata": {
            "tags": []
          },
          "execution_count": 50
        }
      ]
    },
    {
      "cell_type": "markdown",
      "metadata": {
        "id": "V2ntT7CZRBeF",
        "colab_type": "text"
      },
      "source": [
        "###TOP USER 3"
      ]
    },
    {
      "cell_type": "code",
      "metadata": {
        "id": "XD8ztWFTta_a",
        "colab_type": "code",
        "outputId": "ae5cd69e-f448-4203-877e-e05e58c9dd6e",
        "colab": {
          "base_uri": "https://localhost:8080/",
          "height": 336
        }
      },
      "source": [
        "rf3 = n.recommend(users=['33865373'])\n",
        "rf3"
      ],
      "execution_count": 51,
      "outputs": [
        {
          "output_type": "execute_result",
          "data": {
            "text/html": [
              "<div style=\"max-height:1000px;max-width:1500px;overflow:auto;\"><table frame=\"box\" rules=\"cols\">\n",
              "    <tr>\n",
              "        <th style=\"padding-left: 1em; padding-right: 1em; text-align: center\">UserID</th>\n",
              "        <th style=\"padding-left: 1em; padding-right: 1em; text-align: center\">Game</th>\n",
              "        <th style=\"padding-left: 1em; padding-right: 1em; text-align: center\">score</th>\n",
              "        <th style=\"padding-left: 1em; padding-right: 1em; text-align: center\">rank</th>\n",
              "    </tr>\n",
              "    <tr>\n",
              "        <td style=\"padding-left: 1em; padding-right: 1em; text-align: center; vertical-align: top\">33865373</td>\n",
              "        <td style=\"padding-left: 1em; padding-right: 1em; text-align: center; vertical-align: top\">Counter-Strike Global<br>Offensive ...</td>\n",
              "        <td style=\"padding-left: 1em; padding-right: 1em; text-align: center; vertical-align: top\">2.660006792711572</td>\n",
              "        <td style=\"padding-left: 1em; padding-right: 1em; text-align: center; vertical-align: top\">1</td>\n",
              "    </tr>\n",
              "    <tr>\n",
              "        <td style=\"padding-left: 1em; padding-right: 1em; text-align: center; vertical-align: top\">33865373</td>\n",
              "        <td style=\"padding-left: 1em; padding-right: 1em; text-align: center; vertical-align: top\">Counter-Strike Source</td>\n",
              "        <td style=\"padding-left: 1em; padding-right: 1em; text-align: center; vertical-align: top\">2.535124482082681</td>\n",
              "        <td style=\"padding-left: 1em; padding-right: 1em; text-align: center; vertical-align: top\">2</td>\n",
              "    </tr>\n",
              "    <tr>\n",
              "        <td style=\"padding-left: 1em; padding-right: 1em; text-align: center; vertical-align: top\">33865373</td>\n",
              "        <td style=\"padding-left: 1em; padding-right: 1em; text-align: center; vertical-align: top\">Unturned</td>\n",
              "        <td style=\"padding-left: 1em; padding-right: 1em; text-align: center; vertical-align: top\">2.324752600359277</td>\n",
              "        <td style=\"padding-left: 1em; padding-right: 1em; text-align: center; vertical-align: top\">3</td>\n",
              "    </tr>\n",
              "    <tr>\n",
              "        <td style=\"padding-left: 1em; padding-right: 1em; text-align: center; vertical-align: top\">33865373</td>\n",
              "        <td style=\"padding-left: 1em; padding-right: 1em; text-align: center; vertical-align: top\">Sid Meier&#x27;s Civilization<br>V ...</td>\n",
              "        <td style=\"padding-left: 1em; padding-right: 1em; text-align: center; vertical-align: top\">2.093989954757051</td>\n",
              "        <td style=\"padding-left: 1em; padding-right: 1em; text-align: center; vertical-align: top\">4</td>\n",
              "    </tr>\n",
              "    <tr>\n",
              "        <td style=\"padding-left: 1em; padding-right: 1em; text-align: center; vertical-align: top\">33865373</td>\n",
              "        <td style=\"padding-left: 1em; padding-right: 1em; text-align: center; vertical-align: top\">Call of Duty Modern<br>Warfare 2 - Multiplayer ...</td>\n",
              "        <td style=\"padding-left: 1em; padding-right: 1em; text-align: center; vertical-align: top\">1.4246517135375303</td>\n",
              "        <td style=\"padding-left: 1em; padding-right: 1em; text-align: center; vertical-align: top\">5</td>\n",
              "    </tr>\n",
              "    <tr>\n",
              "        <td style=\"padding-left: 1em; padding-right: 1em; text-align: center; vertical-align: top\">33865373</td>\n",
              "        <td style=\"padding-left: 1em; padding-right: 1em; text-align: center; vertical-align: top\">Call of Duty Modern<br>Warfare 2 ...</td>\n",
              "        <td style=\"padding-left: 1em; padding-right: 1em; text-align: center; vertical-align: top\">1.3406461192839902</td>\n",
              "        <td style=\"padding-left: 1em; padding-right: 1em; text-align: center; vertical-align: top\">6</td>\n",
              "    </tr>\n",
              "    <tr>\n",
              "        <td style=\"padding-left: 1em; padding-right: 1em; text-align: center; vertical-align: top\">33865373</td>\n",
              "        <td style=\"padding-left: 1em; padding-right: 1em; text-align: center; vertical-align: top\">PAYDAY 2</td>\n",
              "        <td style=\"padding-left: 1em; padding-right: 1em; text-align: center; vertical-align: top\">1.29155799882348</td>\n",
              "        <td style=\"padding-left: 1em; padding-right: 1em; text-align: center; vertical-align: top\">7</td>\n",
              "    </tr>\n",
              "    <tr>\n",
              "        <td style=\"padding-left: 1em; padding-right: 1em; text-align: center; vertical-align: top\">33865373</td>\n",
              "        <td style=\"padding-left: 1em; padding-right: 1em; text-align: center; vertical-align: top\">Warframe</td>\n",
              "        <td style=\"padding-left: 1em; padding-right: 1em; text-align: center; vertical-align: top\">1.2790919257872861</td>\n",
              "        <td style=\"padding-left: 1em; padding-right: 1em; text-align: center; vertical-align: top\">8</td>\n",
              "    </tr>\n",
              "    <tr>\n",
              "        <td style=\"padding-left: 1em; padding-right: 1em; text-align: center; vertical-align: top\">33865373</td>\n",
              "        <td style=\"padding-left: 1em; padding-right: 1em; text-align: center; vertical-align: top\">War Thunder</td>\n",
              "        <td style=\"padding-left: 1em; padding-right: 1em; text-align: center; vertical-align: top\">1.2046479745381635</td>\n",
              "        <td style=\"padding-left: 1em; padding-right: 1em; text-align: center; vertical-align: top\">9</td>\n",
              "    </tr>\n",
              "    <tr>\n",
              "        <td style=\"padding-left: 1em; padding-right: 1em; text-align: center; vertical-align: top\">33865373</td>\n",
              "        <td style=\"padding-left: 1em; padding-right: 1em; text-align: center; vertical-align: top\">Age of Empires II HD<br>Edition ...</td>\n",
              "        <td style=\"padding-left: 1em; padding-right: 1em; text-align: center; vertical-align: top\">1.2004426135295194</td>\n",
              "        <td style=\"padding-left: 1em; padding-right: 1em; text-align: center; vertical-align: top\">10</td>\n",
              "    </tr>\n",
              "</table>\n",
              "[10 rows x 4 columns]<br/>\n",
              "</div>"
            ],
            "text/plain": [
              "Columns:\n",
              "\tUserID\tint\n",
              "\tGame\tstr\n",
              "\tscore\tfloat\n",
              "\trank\tint\n",
              "\n",
              "Rows: 10\n",
              "\n",
              "Data:\n",
              "+----------+-------------------------------+--------------------+------+\n",
              "|  UserID  |              Game             |       score        | rank |\n",
              "+----------+-------------------------------+--------------------+------+\n",
              "| 33865373 | Counter-Strike Global Offe... | 2.660006792711572  |  1   |\n",
              "| 33865373 |     Counter-Strike Source     | 2.535124482082681  |  2   |\n",
              "| 33865373 |            Unturned           | 2.324752600359277  |  3   |\n",
              "| 33865373 |   Sid Meier's Civilization V  | 2.093989954757051  |  4   |\n",
              "| 33865373 | Call of Duty Modern Warfar... | 1.4246517135375303 |  5   |\n",
              "| 33865373 | Call of Duty Modern Warfare 2 | 1.3406461192839902 |  6   |\n",
              "| 33865373 |            PAYDAY 2           |  1.29155799882348  |  7   |\n",
              "| 33865373 |            Warframe           | 1.2790919257872861 |  8   |\n",
              "| 33865373 |          War Thunder          | 1.2046479745381635 |  9   |\n",
              "| 33865373 |  Age of Empires II HD Edition | 1.2004426135295194 |  10  |\n",
              "+----------+-------------------------------+--------------------+------+\n",
              "[10 rows x 4 columns]"
            ]
          },
          "metadata": {
            "tags": []
          },
          "execution_count": 51
        }
      ]
    },
    {
      "cell_type": "markdown",
      "metadata": {
        "id": "xw-AajNtRTHr",
        "colab_type": "text"
      },
      "source": [
        "###Creating a dataframe"
      ]
    },
    {
      "cell_type": "code",
      "metadata": {
        "id": "4TRzM6ChAzu9",
        "colab_type": "code",
        "colab": {
          "base_uri": "https://localhost:8080/",
          "height": 363
        },
        "outputId": "5406e21b-af4a-469d-cf9c-5a25bccc03a2"
      },
      "source": [
        "ranfact3 = pd.DataFrame(rf3)\n",
        "ranfact3.drop([\"UserID\",\"rank\"],axis = 1, inplace = True)\n",
        "ranfact3.rename(columns={'Game': 'Game_RFR', 'score': 'score_RFR'}, inplace=True)\n",
        "ranfact3.head(10)"
      ],
      "execution_count": 52,
      "outputs": [
        {
          "output_type": "execute_result",
          "data": {
            "text/html": [
              "<div>\n",
              "<style scoped>\n",
              "    .dataframe tbody tr th:only-of-type {\n",
              "        vertical-align: middle;\n",
              "    }\n",
              "\n",
              "    .dataframe tbody tr th {\n",
              "        vertical-align: top;\n",
              "    }\n",
              "\n",
              "    .dataframe thead th {\n",
              "        text-align: right;\n",
              "    }\n",
              "</style>\n",
              "<table border=\"1\" class=\"dataframe\">\n",
              "  <thead>\n",
              "    <tr style=\"text-align: right;\">\n",
              "      <th></th>\n",
              "      <th>Game_RFR</th>\n",
              "      <th>score_RFR</th>\n",
              "    </tr>\n",
              "  </thead>\n",
              "  <tbody>\n",
              "    <tr>\n",
              "      <th>0</th>\n",
              "      <td>Counter-Strike Global Offensive</td>\n",
              "      <td>2.660007</td>\n",
              "    </tr>\n",
              "    <tr>\n",
              "      <th>1</th>\n",
              "      <td>Counter-Strike Source</td>\n",
              "      <td>2.535124</td>\n",
              "    </tr>\n",
              "    <tr>\n",
              "      <th>2</th>\n",
              "      <td>Unturned</td>\n",
              "      <td>2.324753</td>\n",
              "    </tr>\n",
              "    <tr>\n",
              "      <th>3</th>\n",
              "      <td>Sid Meier's Civilization V</td>\n",
              "      <td>2.093990</td>\n",
              "    </tr>\n",
              "    <tr>\n",
              "      <th>4</th>\n",
              "      <td>Call of Duty Modern Warfare 2 - Multiplayer</td>\n",
              "      <td>1.424652</td>\n",
              "    </tr>\n",
              "    <tr>\n",
              "      <th>5</th>\n",
              "      <td>Call of Duty Modern Warfare 2</td>\n",
              "      <td>1.340646</td>\n",
              "    </tr>\n",
              "    <tr>\n",
              "      <th>6</th>\n",
              "      <td>PAYDAY 2</td>\n",
              "      <td>1.291558</td>\n",
              "    </tr>\n",
              "    <tr>\n",
              "      <th>7</th>\n",
              "      <td>Warframe</td>\n",
              "      <td>1.279092</td>\n",
              "    </tr>\n",
              "    <tr>\n",
              "      <th>8</th>\n",
              "      <td>War Thunder</td>\n",
              "      <td>1.204648</td>\n",
              "    </tr>\n",
              "    <tr>\n",
              "      <th>9</th>\n",
              "      <td>Age of Empires II HD Edition</td>\n",
              "      <td>1.200443</td>\n",
              "    </tr>\n",
              "  </tbody>\n",
              "</table>\n",
              "</div>"
            ],
            "text/plain": [
              "                                      Game_RFR  score_RFR\n",
              "0              Counter-Strike Global Offensive   2.660007\n",
              "1                        Counter-Strike Source   2.535124\n",
              "2                                     Unturned   2.324753\n",
              "3                   Sid Meier's Civilization V   2.093990\n",
              "4  Call of Duty Modern Warfare 2 - Multiplayer   1.424652\n",
              "5                Call of Duty Modern Warfare 2   1.340646\n",
              "6                                     PAYDAY 2   1.291558\n",
              "7                                     Warframe   1.279092\n",
              "8                                  War Thunder   1.204648\n",
              "9                 Age of Empires II HD Edition   1.200443"
            ]
          },
          "metadata": {
            "tags": []
          },
          "execution_count": 52
        }
      ]
    },
    {
      "cell_type": "code",
      "metadata": {
        "id": "xhcYcqcztbEL",
        "colab_type": "code",
        "outputId": "fdce6e00-a7fb-4728-80be-0bb2cbcc2302",
        "colab": {
          "base_uri": "https://localhost:8080/",
          "height": 424
        }
      },
      "source": [
        "clean_df.loc[clean_df[\"UserID\"] == 33865373,[\"Game\",\"Played_hours\",\"Ranking\"]]"
      ],
      "execution_count": 53,
      "outputs": [
        {
          "output_type": "execute_result",
          "data": {
            "text/html": [
              "<div>\n",
              "<style scoped>\n",
              "    .dataframe tbody tr th:only-of-type {\n",
              "        vertical-align: middle;\n",
              "    }\n",
              "\n",
              "    .dataframe tbody tr th {\n",
              "        vertical-align: top;\n",
              "    }\n",
              "\n",
              "    .dataframe thead th {\n",
              "        text-align: right;\n",
              "    }\n",
              "</style>\n",
              "<table border=\"1\" class=\"dataframe\">\n",
              "  <thead>\n",
              "    <tr style=\"text-align: right;\">\n",
              "      <th></th>\n",
              "      <th>Game</th>\n",
              "      <th>Played_hours</th>\n",
              "      <th>Ranking</th>\n",
              "    </tr>\n",
              "  </thead>\n",
              "  <tbody>\n",
              "    <tr>\n",
              "      <th>47739</th>\n",
              "      <td>The Elder Scrolls V Skyrim</td>\n",
              "      <td>345.0</td>\n",
              "      <td>10.0</td>\n",
              "    </tr>\n",
              "    <tr>\n",
              "      <th>47740</th>\n",
              "      <td>The Elder Scrolls IV Oblivion</td>\n",
              "      <td>239.0</td>\n",
              "      <td>7.0</td>\n",
              "    </tr>\n",
              "    <tr>\n",
              "      <th>47741</th>\n",
              "      <td>Fallout New Vegas</td>\n",
              "      <td>198.0</td>\n",
              "      <td>6.0</td>\n",
              "    </tr>\n",
              "    <tr>\n",
              "      <th>47742</th>\n",
              "      <td>Sid Meier's Civilization IV</td>\n",
              "      <td>135.0</td>\n",
              "      <td>4.0</td>\n",
              "    </tr>\n",
              "    <tr>\n",
              "      <th>47743</th>\n",
              "      <td>Sid Meier's Civilization IV</td>\n",
              "      <td>2.0</td>\n",
              "      <td>1.0</td>\n",
              "    </tr>\n",
              "    <tr>\n",
              "      <th>...</th>\n",
              "      <td>...</td>\n",
              "      <td>...</td>\n",
              "      <td>...</td>\n",
              "    </tr>\n",
              "    <tr>\n",
              "      <th>48519</th>\n",
              "      <td>Xenophage</td>\n",
              "      <td>0.0</td>\n",
              "      <td>1.0</td>\n",
              "    </tr>\n",
              "    <tr>\n",
              "      <th>48520</th>\n",
              "      <td>Xotic</td>\n",
              "      <td>0.0</td>\n",
              "      <td>1.0</td>\n",
              "    </tr>\n",
              "    <tr>\n",
              "      <th>48521</th>\n",
              "      <td>Zafehouse Diaries</td>\n",
              "      <td>0.0</td>\n",
              "      <td>1.0</td>\n",
              "    </tr>\n",
              "    <tr>\n",
              "      <th>48522</th>\n",
              "      <td>Zen Bound 2</td>\n",
              "      <td>0.0</td>\n",
              "      <td>1.0</td>\n",
              "    </tr>\n",
              "    <tr>\n",
              "      <th>48523</th>\n",
              "      <td>Zombie Driver</td>\n",
              "      <td>0.0</td>\n",
              "      <td>1.0</td>\n",
              "    </tr>\n",
              "  </tbody>\n",
              "</table>\n",
              "<p>785 rows × 3 columns</p>\n",
              "</div>"
            ],
            "text/plain": [
              "                                 Game  Played_hours  Ranking\n",
              "47739      The Elder Scrolls V Skyrim         345.0     10.0\n",
              "47740  The Elder Scrolls IV Oblivion          239.0      7.0\n",
              "47741               Fallout New Vegas         198.0      6.0\n",
              "47742     Sid Meier's Civilization IV         135.0      4.0\n",
              "47743     Sid Meier's Civilization IV           2.0      1.0\n",
              "...                               ...           ...      ...\n",
              "48519                       Xenophage           0.0      1.0\n",
              "48520                           Xotic           0.0      1.0\n",
              "48521               Zafehouse Diaries           0.0      1.0\n",
              "48522                     Zen Bound 2           0.0      1.0\n",
              "48523                   Zombie Driver           0.0      1.0\n",
              "\n",
              "[785 rows x 3 columns]"
            ]
          },
          "metadata": {
            "tags": []
          },
          "execution_count": 53
        }
      ]
    },
    {
      "cell_type": "markdown",
      "metadata": {
        "id": "VbtFPGKsRE1L",
        "colab_type": "text"
      },
      "source": [
        "###TOP USER 4"
      ]
    },
    {
      "cell_type": "code",
      "metadata": {
        "id": "c-QNXAZstbCk",
        "colab_type": "code",
        "outputId": "7ef8d6ef-781c-45f4-e541-d35ccdf5dde4",
        "colab": {
          "base_uri": "https://localhost:8080/",
          "height": 302
        }
      },
      "source": [
        "rf4 = n.recommend(users=['30246419'])\n",
        "rf4"
      ],
      "execution_count": 54,
      "outputs": [
        {
          "output_type": "execute_result",
          "data": {
            "text/html": [
              "<div style=\"max-height:1000px;max-width:1500px;overflow:auto;\"><table frame=\"box\" rules=\"cols\">\n",
              "    <tr>\n",
              "        <th style=\"padding-left: 1em; padding-right: 1em; text-align: center\">UserID</th>\n",
              "        <th style=\"padding-left: 1em; padding-right: 1em; text-align: center\">Game</th>\n",
              "        <th style=\"padding-left: 1em; padding-right: 1em; text-align: center\">score</th>\n",
              "        <th style=\"padding-left: 1em; padding-right: 1em; text-align: center\">rank</th>\n",
              "    </tr>\n",
              "    <tr>\n",
              "        <td style=\"padding-left: 1em; padding-right: 1em; text-align: center; vertical-align: top\">30246419</td>\n",
              "        <td style=\"padding-left: 1em; padding-right: 1em; text-align: center; vertical-align: top\">Dota 2</td>\n",
              "        <td style=\"padding-left: 1em; padding-right: 1em; text-align: center; vertical-align: top\">4.965038002895669</td>\n",
              "        <td style=\"padding-left: 1em; padding-right: 1em; text-align: center; vertical-align: top\">1</td>\n",
              "    </tr>\n",
              "    <tr>\n",
              "        <td style=\"padding-left: 1em; padding-right: 1em; text-align: center; vertical-align: top\">30246419</td>\n",
              "        <td style=\"padding-left: 1em; padding-right: 1em; text-align: center; vertical-align: top\">Team Fortress 2</td>\n",
              "        <td style=\"padding-left: 1em; padding-right: 1em; text-align: center; vertical-align: top\">3.9061815305226606</td>\n",
              "        <td style=\"padding-left: 1em; padding-right: 1em; text-align: center; vertical-align: top\">2</td>\n",
              "    </tr>\n",
              "    <tr>\n",
              "        <td style=\"padding-left: 1em; padding-right: 1em; text-align: center; vertical-align: top\">30246419</td>\n",
              "        <td style=\"padding-left: 1em; padding-right: 1em; text-align: center; vertical-align: top\">Counter-Strike Global<br>Offensive ...</td>\n",
              "        <td style=\"padding-left: 1em; padding-right: 1em; text-align: center; vertical-align: top\">3.458225251602487</td>\n",
              "        <td style=\"padding-left: 1em; padding-right: 1em; text-align: center; vertical-align: top\">3</td>\n",
              "    </tr>\n",
              "    <tr>\n",
              "        <td style=\"padding-left: 1em; padding-right: 1em; text-align: center; vertical-align: top\">30246419</td>\n",
              "        <td style=\"padding-left: 1em; padding-right: 1em; text-align: center; vertical-align: top\">Counter-Strike Source</td>\n",
              "        <td style=\"padding-left: 1em; padding-right: 1em; text-align: center; vertical-align: top\">3.422756434845285</td>\n",
              "        <td style=\"padding-left: 1em; padding-right: 1em; text-align: center; vertical-align: top\">4</td>\n",
              "    </tr>\n",
              "    <tr>\n",
              "        <td style=\"padding-left: 1em; padding-right: 1em; text-align: center; vertical-align: top\">30246419</td>\n",
              "        <td style=\"padding-left: 1em; padding-right: 1em; text-align: center; vertical-align: top\">Counter-Strike</td>\n",
              "        <td style=\"padding-left: 1em; padding-right: 1em; text-align: center; vertical-align: top\">3.09822446243699</td>\n",
              "        <td style=\"padding-left: 1em; padding-right: 1em; text-align: center; vertical-align: top\">5</td>\n",
              "    </tr>\n",
              "    <tr>\n",
              "        <td style=\"padding-left: 1em; padding-right: 1em; text-align: center; vertical-align: top\">30246419</td>\n",
              "        <td style=\"padding-left: 1em; padding-right: 1em; text-align: center; vertical-align: top\">Unturned</td>\n",
              "        <td style=\"padding-left: 1em; padding-right: 1em; text-align: center; vertical-align: top\">2.661734135317163</td>\n",
              "        <td style=\"padding-left: 1em; padding-right: 1em; text-align: center; vertical-align: top\">6</td>\n",
              "    </tr>\n",
              "    <tr>\n",
              "        <td style=\"padding-left: 1em; padding-right: 1em; text-align: center; vertical-align: top\">30246419</td>\n",
              "        <td style=\"padding-left: 1em; padding-right: 1em; text-align: center; vertical-align: top\">Garry&#x27;s Mod</td>\n",
              "        <td style=\"padding-left: 1em; padding-right: 1em; text-align: center; vertical-align: top\">2.564247698950128</td>\n",
              "        <td style=\"padding-left: 1em; padding-right: 1em; text-align: center; vertical-align: top\">7</td>\n",
              "    </tr>\n",
              "    <tr>\n",
              "        <td style=\"padding-left: 1em; padding-right: 1em; text-align: center; vertical-align: top\">30246419</td>\n",
              "        <td style=\"padding-left: 1em; padding-right: 1em; text-align: center; vertical-align: top\">Call of Duty Modern<br>Warfare 2 - Multiplayer ...</td>\n",
              "        <td style=\"padding-left: 1em; padding-right: 1em; text-align: center; vertical-align: top\">2.3955105854743284</td>\n",
              "        <td style=\"padding-left: 1em; padding-right: 1em; text-align: center; vertical-align: top\">8</td>\n",
              "    </tr>\n",
              "    <tr>\n",
              "        <td style=\"padding-left: 1em; padding-right: 1em; text-align: center; vertical-align: top\">30246419</td>\n",
              "        <td style=\"padding-left: 1em; padding-right: 1em; text-align: center; vertical-align: top\">Counter-Strike Condition<br>Zero ...</td>\n",
              "        <td style=\"padding-left: 1em; padding-right: 1em; text-align: center; vertical-align: top\">2.2976321889632505</td>\n",
              "        <td style=\"padding-left: 1em; padding-right: 1em; text-align: center; vertical-align: top\">9</td>\n",
              "    </tr>\n",
              "    <tr>\n",
              "        <td style=\"padding-left: 1em; padding-right: 1em; text-align: center; vertical-align: top\">30246419</td>\n",
              "        <td style=\"padding-left: 1em; padding-right: 1em; text-align: center; vertical-align: top\">Grand Theft Auto V</td>\n",
              "        <td style=\"padding-left: 1em; padding-right: 1em; text-align: center; vertical-align: top\">2.1702982498877805</td>\n",
              "        <td style=\"padding-left: 1em; padding-right: 1em; text-align: center; vertical-align: top\">10</td>\n",
              "    </tr>\n",
              "</table>\n",
              "[10 rows x 4 columns]<br/>\n",
              "</div>"
            ],
            "text/plain": [
              "Columns:\n",
              "\tUserID\tint\n",
              "\tGame\tstr\n",
              "\tscore\tfloat\n",
              "\trank\tint\n",
              "\n",
              "Rows: 10\n",
              "\n",
              "Data:\n",
              "+----------+-------------------------------+--------------------+------+\n",
              "|  UserID  |              Game             |       score        | rank |\n",
              "+----------+-------------------------------+--------------------+------+\n",
              "| 30246419 |             Dota 2            | 4.965038002895669  |  1   |\n",
              "| 30246419 |        Team Fortress 2        | 3.9061815305226606 |  2   |\n",
              "| 30246419 | Counter-Strike Global Offe... | 3.458225251602487  |  3   |\n",
              "| 30246419 |     Counter-Strike Source     | 3.422756434845285  |  4   |\n",
              "| 30246419 |         Counter-Strike        |  3.09822446243699  |  5   |\n",
              "| 30246419 |            Unturned           | 2.661734135317163  |  6   |\n",
              "| 30246419 |          Garry's Mod          | 2.564247698950128  |  7   |\n",
              "| 30246419 | Call of Duty Modern Warfar... | 2.3955105854743284 |  8   |\n",
              "| 30246419 | Counter-Strike Condition Zero | 2.2976321889632505 |  9   |\n",
              "| 30246419 |       Grand Theft Auto V      | 2.1702982498877805 |  10  |\n",
              "+----------+-------------------------------+--------------------+------+\n",
              "[10 rows x 4 columns]"
            ]
          },
          "metadata": {
            "tags": []
          },
          "execution_count": 54
        }
      ]
    },
    {
      "cell_type": "markdown",
      "metadata": {
        "id": "MNs9s4RtRU-r",
        "colab_type": "text"
      },
      "source": [
        "###Creating a dataframe"
      ]
    },
    {
      "cell_type": "code",
      "metadata": {
        "id": "yhnixsaoBFQ9",
        "colab_type": "code",
        "colab": {
          "base_uri": "https://localhost:8080/",
          "height": 363
        },
        "outputId": "10085d55-1ca5-437e-a6cb-fb6aea7b8c3d"
      },
      "source": [
        "ranfact4 = pd.DataFrame(rf4)\n",
        "ranfact4.drop([\"UserID\",\"rank\"],axis = 1, inplace = True)\n",
        "ranfact4.rename(columns={'Game': 'Game_RFR', 'score': 'score_RFR'}, inplace=True)\n",
        "ranfact4.head(10)"
      ],
      "execution_count": 55,
      "outputs": [
        {
          "output_type": "execute_result",
          "data": {
            "text/html": [
              "<div>\n",
              "<style scoped>\n",
              "    .dataframe tbody tr th:only-of-type {\n",
              "        vertical-align: middle;\n",
              "    }\n",
              "\n",
              "    .dataframe tbody tr th {\n",
              "        vertical-align: top;\n",
              "    }\n",
              "\n",
              "    .dataframe thead th {\n",
              "        text-align: right;\n",
              "    }\n",
              "</style>\n",
              "<table border=\"1\" class=\"dataframe\">\n",
              "  <thead>\n",
              "    <tr style=\"text-align: right;\">\n",
              "      <th></th>\n",
              "      <th>Game_RFR</th>\n",
              "      <th>score_RFR</th>\n",
              "    </tr>\n",
              "  </thead>\n",
              "  <tbody>\n",
              "    <tr>\n",
              "      <th>0</th>\n",
              "      <td>Dota 2</td>\n",
              "      <td>4.965038</td>\n",
              "    </tr>\n",
              "    <tr>\n",
              "      <th>1</th>\n",
              "      <td>Team Fortress 2</td>\n",
              "      <td>3.906182</td>\n",
              "    </tr>\n",
              "    <tr>\n",
              "      <th>2</th>\n",
              "      <td>Counter-Strike Global Offensive</td>\n",
              "      <td>3.458225</td>\n",
              "    </tr>\n",
              "    <tr>\n",
              "      <th>3</th>\n",
              "      <td>Counter-Strike Source</td>\n",
              "      <td>3.422756</td>\n",
              "    </tr>\n",
              "    <tr>\n",
              "      <th>4</th>\n",
              "      <td>Counter-Strike</td>\n",
              "      <td>3.098224</td>\n",
              "    </tr>\n",
              "    <tr>\n",
              "      <th>5</th>\n",
              "      <td>Unturned</td>\n",
              "      <td>2.661734</td>\n",
              "    </tr>\n",
              "    <tr>\n",
              "      <th>6</th>\n",
              "      <td>Garry's Mod</td>\n",
              "      <td>2.564248</td>\n",
              "    </tr>\n",
              "    <tr>\n",
              "      <th>7</th>\n",
              "      <td>Call of Duty Modern Warfare 2 - Multiplayer</td>\n",
              "      <td>2.395511</td>\n",
              "    </tr>\n",
              "    <tr>\n",
              "      <th>8</th>\n",
              "      <td>Counter-Strike Condition Zero</td>\n",
              "      <td>2.297632</td>\n",
              "    </tr>\n",
              "    <tr>\n",
              "      <th>9</th>\n",
              "      <td>Grand Theft Auto V</td>\n",
              "      <td>2.170298</td>\n",
              "    </tr>\n",
              "  </tbody>\n",
              "</table>\n",
              "</div>"
            ],
            "text/plain": [
              "                                      Game_RFR  score_RFR\n",
              "0                                       Dota 2   4.965038\n",
              "1                              Team Fortress 2   3.906182\n",
              "2              Counter-Strike Global Offensive   3.458225\n",
              "3                        Counter-Strike Source   3.422756\n",
              "4                               Counter-Strike   3.098224\n",
              "5                                     Unturned   2.661734\n",
              "6                                  Garry's Mod   2.564248\n",
              "7  Call of Duty Modern Warfare 2 - Multiplayer   2.395511\n",
              "8                Counter-Strike Condition Zero   2.297632\n",
              "9                           Grand Theft Auto V   2.170298"
            ]
          },
          "metadata": {
            "tags": []
          },
          "execution_count": 55
        }
      ]
    },
    {
      "cell_type": "code",
      "metadata": {
        "id": "z0StlJn6ta2m",
        "colab_type": "code",
        "outputId": "3d74c7f4-3d65-4543-fbe1-a42ec0e1c872",
        "colab": {
          "base_uri": "https://localhost:8080/",
          "height": 424
        }
      },
      "source": [
        "clean_df.loc[clean_df[\"UserID\"] == 30246419,[\"Game\",\"Played_hours\",\"Ranking\"]]"
      ],
      "execution_count": 56,
      "outputs": [
        {
          "output_type": "execute_result",
          "data": {
            "text/html": [
              "<div>\n",
              "<style scoped>\n",
              "    .dataframe tbody tr th:only-of-type {\n",
              "        vertical-align: middle;\n",
              "    }\n",
              "\n",
              "    .dataframe tbody tr th {\n",
              "        vertical-align: top;\n",
              "    }\n",
              "\n",
              "    .dataframe thead th {\n",
              "        text-align: right;\n",
              "    }\n",
              "</style>\n",
              "<table border=\"1\" class=\"dataframe\">\n",
              "  <thead>\n",
              "    <tr style=\"text-align: right;\">\n",
              "      <th></th>\n",
              "      <th>Game</th>\n",
              "      <th>Played_hours</th>\n",
              "      <th>Ranking</th>\n",
              "    </tr>\n",
              "  </thead>\n",
              "  <tbody>\n",
              "    <tr>\n",
              "      <th>62101</th>\n",
              "      <td>The Witcher 3 Wild Hunt</td>\n",
              "      <td>99.0</td>\n",
              "      <td>10.0</td>\n",
              "    </tr>\n",
              "    <tr>\n",
              "      <th>62102</th>\n",
              "      <td>Fallout 4</td>\n",
              "      <td>97.0</td>\n",
              "      <td>10.0</td>\n",
              "    </tr>\n",
              "    <tr>\n",
              "      <th>62103</th>\n",
              "      <td>Two Worlds II</td>\n",
              "      <td>61.0</td>\n",
              "      <td>7.0</td>\n",
              "    </tr>\n",
              "    <tr>\n",
              "      <th>62104</th>\n",
              "      <td>Test Drive Unlimited 2</td>\n",
              "      <td>57.0</td>\n",
              "      <td>6.0</td>\n",
              "    </tr>\n",
              "    <tr>\n",
              "      <th>62105</th>\n",
              "      <td>Middle-earth Shadow of Mordor</td>\n",
              "      <td>53.0</td>\n",
              "      <td>6.0</td>\n",
              "    </tr>\n",
              "    <tr>\n",
              "      <th>...</th>\n",
              "      <td>...</td>\n",
              "      <td>...</td>\n",
              "      <td>...</td>\n",
              "    </tr>\n",
              "    <tr>\n",
              "      <th>62862</th>\n",
              "      <td>Yury</td>\n",
              "      <td>0.0</td>\n",
              "      <td>1.0</td>\n",
              "    </tr>\n",
              "    <tr>\n",
              "      <th>62863</th>\n",
              "      <td>Z</td>\n",
              "      <td>0.0</td>\n",
              "      <td>1.0</td>\n",
              "    </tr>\n",
              "    <tr>\n",
              "      <th>62864</th>\n",
              "      <td>Zafehouse Diaries</td>\n",
              "      <td>0.0</td>\n",
              "      <td>1.0</td>\n",
              "    </tr>\n",
              "    <tr>\n",
              "      <th>62865</th>\n",
              "      <td>Zeno Clash 2</td>\n",
              "      <td>0.0</td>\n",
              "      <td>1.0</td>\n",
              "    </tr>\n",
              "    <tr>\n",
              "      <th>62866</th>\n",
              "      <td>Zooloretto</td>\n",
              "      <td>0.0</td>\n",
              "      <td>1.0</td>\n",
              "    </tr>\n",
              "  </tbody>\n",
              "</table>\n",
              "<p>766 rows × 3 columns</p>\n",
              "</div>"
            ],
            "text/plain": [
              "                                Game  Played_hours  Ranking\n",
              "62101        The Witcher 3 Wild Hunt          99.0     10.0\n",
              "62102                      Fallout 4          97.0     10.0\n",
              "62103                  Two Worlds II          61.0      7.0\n",
              "62104         Test Drive Unlimited 2          57.0      6.0\n",
              "62105  Middle-earth Shadow of Mordor          53.0      6.0\n",
              "...                              ...           ...      ...\n",
              "62862                           Yury           0.0      1.0\n",
              "62863                              Z           0.0      1.0\n",
              "62864              Zafehouse Diaries           0.0      1.0\n",
              "62865                   Zeno Clash 2           0.0      1.0\n",
              "62866                     Zooloretto           0.0      1.0\n",
              "\n",
              "[766 rows x 3 columns]"
            ]
          },
          "metadata": {
            "tags": []
          },
          "execution_count": 56
        }
      ]
    },
    {
      "cell_type": "markdown",
      "metadata": {
        "id": "f-tzU9z7RHoh",
        "colab_type": "text"
      },
      "source": [
        "###TOP USER 5"
      ]
    },
    {
      "cell_type": "code",
      "metadata": {
        "id": "2uiC_ASit8D0",
        "colab_type": "code",
        "outputId": "abf015d7-8d75-472c-dc1d-f718ce186377",
        "colab": {
          "base_uri": "https://localhost:8080/",
          "height": 302
        }
      },
      "source": [
        "rf5 = n.recommend(users=['58345543'])\n",
        "rf5"
      ],
      "execution_count": 57,
      "outputs": [
        {
          "output_type": "execute_result",
          "data": {
            "text/html": [
              "<div style=\"max-height:1000px;max-width:1500px;overflow:auto;\"><table frame=\"box\" rules=\"cols\">\n",
              "    <tr>\n",
              "        <th style=\"padding-left: 1em; padding-right: 1em; text-align: center\">UserID</th>\n",
              "        <th style=\"padding-left: 1em; padding-right: 1em; text-align: center\">Game</th>\n",
              "        <th style=\"padding-left: 1em; padding-right: 1em; text-align: center\">score</th>\n",
              "        <th style=\"padding-left: 1em; padding-right: 1em; text-align: center\">rank</th>\n",
              "    </tr>\n",
              "    <tr>\n",
              "        <td style=\"padding-left: 1em; padding-right: 1em; text-align: center; vertical-align: top\">58345543</td>\n",
              "        <td style=\"padding-left: 1em; padding-right: 1em; text-align: center; vertical-align: top\">Counter-Strike</td>\n",
              "        <td style=\"padding-left: 1em; padding-right: 1em; text-align: center; vertical-align: top\">3.84277573363717</td>\n",
              "        <td style=\"padding-left: 1em; padding-right: 1em; text-align: center; vertical-align: top\">1</td>\n",
              "    </tr>\n",
              "    <tr>\n",
              "        <td style=\"padding-left: 1em; padding-right: 1em; text-align: center; vertical-align: top\">58345543</td>\n",
              "        <td style=\"padding-left: 1em; padding-right: 1em; text-align: center; vertical-align: top\">Grand Theft Auto V</td>\n",
              "        <td style=\"padding-left: 1em; padding-right: 1em; text-align: center; vertical-align: top\">2.809548230337457</td>\n",
              "        <td style=\"padding-left: 1em; padding-right: 1em; text-align: center; vertical-align: top\">2</td>\n",
              "    </tr>\n",
              "    <tr>\n",
              "        <td style=\"padding-left: 1em; padding-right: 1em; text-align: center; vertical-align: top\">58345543</td>\n",
              "        <td style=\"padding-left: 1em; padding-right: 1em; text-align: center; vertical-align: top\">Call of Duty Black Ops</td>\n",
              "        <td style=\"padding-left: 1em; padding-right: 1em; text-align: center; vertical-align: top\">2.77978819744523</td>\n",
              "        <td style=\"padding-left: 1em; padding-right: 1em; text-align: center; vertical-align: top\">3</td>\n",
              "    </tr>\n",
              "    <tr>\n",
              "        <td style=\"padding-left: 1em; padding-right: 1em; text-align: center; vertical-align: top\">58345543</td>\n",
              "        <td style=\"padding-left: 1em; padding-right: 1em; text-align: center; vertical-align: top\">Empire Total War</td>\n",
              "        <td style=\"padding-left: 1em; padding-right: 1em; text-align: center; vertical-align: top\">2.724582613872842</td>\n",
              "        <td style=\"padding-left: 1em; padding-right: 1em; text-align: center; vertical-align: top\">4</td>\n",
              "    </tr>\n",
              "    <tr>\n",
              "        <td style=\"padding-left: 1em; padding-right: 1em; text-align: center; vertical-align: top\">58345543</td>\n",
              "        <td style=\"padding-left: 1em; padding-right: 1em; text-align: center; vertical-align: top\">Euro Truck Simulator 2</td>\n",
              "        <td style=\"padding-left: 1em; padding-right: 1em; text-align: center; vertical-align: top\">2.6393348290198606</td>\n",
              "        <td style=\"padding-left: 1em; padding-right: 1em; text-align: center; vertical-align: top\">5</td>\n",
              "    </tr>\n",
              "    <tr>\n",
              "        <td style=\"padding-left: 1em; padding-right: 1em; text-align: center; vertical-align: top\">58345543</td>\n",
              "        <td style=\"padding-left: 1em; padding-right: 1em; text-align: center; vertical-align: top\">Age of Empires II HD<br>Edition ...</td>\n",
              "        <td style=\"padding-left: 1em; padding-right: 1em; text-align: center; vertical-align: top\">2.62063634531434</td>\n",
              "        <td style=\"padding-left: 1em; padding-right: 1em; text-align: center; vertical-align: top\">6</td>\n",
              "    </tr>\n",
              "    <tr>\n",
              "        <td style=\"padding-left: 1em; padding-right: 1em; text-align: center; vertical-align: top\">58345543</td>\n",
              "        <td style=\"padding-left: 1em; padding-right: 1em; text-align: center; vertical-align: top\">Arma 2 Operation<br>Arrowhead ...</td>\n",
              "        <td style=\"padding-left: 1em; padding-right: 1em; text-align: center; vertical-align: top\">2.5727702094786924</td>\n",
              "        <td style=\"padding-left: 1em; padding-right: 1em; text-align: center; vertical-align: top\">7</td>\n",
              "    </tr>\n",
              "    <tr>\n",
              "        <td style=\"padding-left: 1em; padding-right: 1em; text-align: center; vertical-align: top\">58345543</td>\n",
              "        <td style=\"padding-left: 1em; padding-right: 1em; text-align: center; vertical-align: top\">Rust</td>\n",
              "        <td style=\"padding-left: 1em; padding-right: 1em; text-align: center; vertical-align: top\">2.571987630295114</td>\n",
              "        <td style=\"padding-left: 1em; padding-right: 1em; text-align: center; vertical-align: top\">8</td>\n",
              "    </tr>\n",
              "    <tr>\n",
              "        <td style=\"padding-left: 1em; padding-right: 1em; text-align: center; vertical-align: top\">58345543</td>\n",
              "        <td style=\"padding-left: 1em; padding-right: 1em; text-align: center; vertical-align: top\">ARK Survival Evolved</td>\n",
              "        <td style=\"padding-left: 1em; padding-right: 1em; text-align: center; vertical-align: top\">2.562704445289926</td>\n",
              "        <td style=\"padding-left: 1em; padding-right: 1em; text-align: center; vertical-align: top\">9</td>\n",
              "    </tr>\n",
              "    <tr>\n",
              "        <td style=\"padding-left: 1em; padding-right: 1em; text-align: center; vertical-align: top\">58345543</td>\n",
              "        <td style=\"padding-left: 1em; padding-right: 1em; text-align: center; vertical-align: top\">Call of Duty Modern<br>Warfare 3 ...</td>\n",
              "        <td style=\"padding-left: 1em; padding-right: 1em; text-align: center; vertical-align: top\">2.559012831615762</td>\n",
              "        <td style=\"padding-left: 1em; padding-right: 1em; text-align: center; vertical-align: top\">10</td>\n",
              "    </tr>\n",
              "</table>\n",
              "[10 rows x 4 columns]<br/>\n",
              "</div>"
            ],
            "text/plain": [
              "Columns:\n",
              "\tUserID\tint\n",
              "\tGame\tstr\n",
              "\tscore\tfloat\n",
              "\trank\tint\n",
              "\n",
              "Rows: 10\n",
              "\n",
              "Data:\n",
              "+----------+-------------------------------+--------------------+------+\n",
              "|  UserID  |              Game             |       score        | rank |\n",
              "+----------+-------------------------------+--------------------+------+\n",
              "| 58345543 |         Counter-Strike        |  3.84277573363717  |  1   |\n",
              "| 58345543 |       Grand Theft Auto V      | 2.809548230337457  |  2   |\n",
              "| 58345543 |     Call of Duty Black Ops    |  2.77978819744523  |  3   |\n",
              "| 58345543 |        Empire Total War       | 2.724582613872842  |  4   |\n",
              "| 58345543 |     Euro Truck Simulator 2    | 2.6393348290198606 |  5   |\n",
              "| 58345543 |  Age of Empires II HD Edition |  2.62063634531434  |  6   |\n",
              "| 58345543 |   Arma 2 Operation Arrowhead  | 2.5727702094786924 |  7   |\n",
              "| 58345543 |              Rust             | 2.571987630295114  |  8   |\n",
              "| 58345543 |      ARK Survival Evolved     | 2.562704445289926  |  9   |\n",
              "| 58345543 | Call of Duty Modern Warfare 3 | 2.559012831615762  |  10  |\n",
              "+----------+-------------------------------+--------------------+------+\n",
              "[10 rows x 4 columns]"
            ]
          },
          "metadata": {
            "tags": []
          },
          "execution_count": 57
        }
      ]
    },
    {
      "cell_type": "markdown",
      "metadata": {
        "id": "HoYeTuoNRWja",
        "colab_type": "text"
      },
      "source": [
        "###Creating a dataframe\n"
      ]
    },
    {
      "cell_type": "code",
      "metadata": {
        "id": "B0zXMrPOBkE1",
        "colab_type": "code",
        "colab": {
          "base_uri": "https://localhost:8080/",
          "height": 363
        },
        "outputId": "f6d02799-4b9c-4ad4-fc29-dc3c13456c8a"
      },
      "source": [
        "ranfact5 = pd.DataFrame(rf5)\n",
        "ranfact5.drop([\"UserID\",\"rank\"],axis = 1, inplace = True)\n",
        "ranfact5.rename(columns={'Game': 'Game_RFR', 'score': 'score_RFR'}, inplace=True)\n",
        "ranfact5.head(10)"
      ],
      "execution_count": 58,
      "outputs": [
        {
          "output_type": "execute_result",
          "data": {
            "text/html": [
              "<div>\n",
              "<style scoped>\n",
              "    .dataframe tbody tr th:only-of-type {\n",
              "        vertical-align: middle;\n",
              "    }\n",
              "\n",
              "    .dataframe tbody tr th {\n",
              "        vertical-align: top;\n",
              "    }\n",
              "\n",
              "    .dataframe thead th {\n",
              "        text-align: right;\n",
              "    }\n",
              "</style>\n",
              "<table border=\"1\" class=\"dataframe\">\n",
              "  <thead>\n",
              "    <tr style=\"text-align: right;\">\n",
              "      <th></th>\n",
              "      <th>Game_RFR</th>\n",
              "      <th>score_RFR</th>\n",
              "    </tr>\n",
              "  </thead>\n",
              "  <tbody>\n",
              "    <tr>\n",
              "      <th>0</th>\n",
              "      <td>Counter-Strike</td>\n",
              "      <td>3.842776</td>\n",
              "    </tr>\n",
              "    <tr>\n",
              "      <th>1</th>\n",
              "      <td>Grand Theft Auto V</td>\n",
              "      <td>2.809548</td>\n",
              "    </tr>\n",
              "    <tr>\n",
              "      <th>2</th>\n",
              "      <td>Call of Duty Black Ops</td>\n",
              "      <td>2.779788</td>\n",
              "    </tr>\n",
              "    <tr>\n",
              "      <th>3</th>\n",
              "      <td>Empire Total War</td>\n",
              "      <td>2.724583</td>\n",
              "    </tr>\n",
              "    <tr>\n",
              "      <th>4</th>\n",
              "      <td>Euro Truck Simulator 2</td>\n",
              "      <td>2.639335</td>\n",
              "    </tr>\n",
              "    <tr>\n",
              "      <th>5</th>\n",
              "      <td>Age of Empires II HD Edition</td>\n",
              "      <td>2.620636</td>\n",
              "    </tr>\n",
              "    <tr>\n",
              "      <th>6</th>\n",
              "      <td>Arma 2 Operation Arrowhead</td>\n",
              "      <td>2.572770</td>\n",
              "    </tr>\n",
              "    <tr>\n",
              "      <th>7</th>\n",
              "      <td>Rust</td>\n",
              "      <td>2.571988</td>\n",
              "    </tr>\n",
              "    <tr>\n",
              "      <th>8</th>\n",
              "      <td>ARK Survival Evolved</td>\n",
              "      <td>2.562704</td>\n",
              "    </tr>\n",
              "    <tr>\n",
              "      <th>9</th>\n",
              "      <td>Call of Duty Modern Warfare 3</td>\n",
              "      <td>2.559013</td>\n",
              "    </tr>\n",
              "  </tbody>\n",
              "</table>\n",
              "</div>"
            ],
            "text/plain": [
              "                        Game_RFR  score_RFR\n",
              "0                 Counter-Strike   3.842776\n",
              "1             Grand Theft Auto V   2.809548\n",
              "2         Call of Duty Black Ops   2.779788\n",
              "3               Empire Total War   2.724583\n",
              "4         Euro Truck Simulator 2   2.639335\n",
              "5   Age of Empires II HD Edition   2.620636\n",
              "6     Arma 2 Operation Arrowhead   2.572770\n",
              "7                           Rust   2.571988\n",
              "8           ARK Survival Evolved   2.562704\n",
              "9  Call of Duty Modern Warfare 3   2.559013"
            ]
          },
          "metadata": {
            "tags": []
          },
          "execution_count": 58
        }
      ]
    },
    {
      "cell_type": "code",
      "metadata": {
        "id": "stXGJY4-t8Mx",
        "colab_type": "code",
        "outputId": "52590504-6d0b-43f2-d409-b2c3ed081de8",
        "colab": {
          "base_uri": "https://localhost:8080/",
          "height": 424
        }
      },
      "source": [
        "clean_df.loc[clean_df[\"UserID\"] == 58345543,[\"Game\",\"Played_hours\",\"Ranking\"]]"
      ],
      "execution_count": 59,
      "outputs": [
        {
          "output_type": "execute_result",
          "data": {
            "text/html": [
              "<div>\n",
              "<style scoped>\n",
              "    .dataframe tbody tr th:only-of-type {\n",
              "        vertical-align: middle;\n",
              "    }\n",
              "\n",
              "    .dataframe tbody tr th {\n",
              "        vertical-align: top;\n",
              "    }\n",
              "\n",
              "    .dataframe thead th {\n",
              "        text-align: right;\n",
              "    }\n",
              "</style>\n",
              "<table border=\"1\" class=\"dataframe\">\n",
              "  <thead>\n",
              "    <tr style=\"text-align: right;\">\n",
              "      <th></th>\n",
              "      <th>Game</th>\n",
              "      <th>Played_hours</th>\n",
              "      <th>Ranking</th>\n",
              "    </tr>\n",
              "  </thead>\n",
              "  <tbody>\n",
              "    <tr>\n",
              "      <th>115598</th>\n",
              "      <td>Spiral Knights</td>\n",
              "      <td>70.0</td>\n",
              "      <td>10.0</td>\n",
              "    </tr>\n",
              "    <tr>\n",
              "      <th>115599</th>\n",
              "      <td>Blacklight Retribution</td>\n",
              "      <td>64.0</td>\n",
              "      <td>10.0</td>\n",
              "    </tr>\n",
              "    <tr>\n",
              "      <th>115600</th>\n",
              "      <td>Dungeon Defenders</td>\n",
              "      <td>56.0</td>\n",
              "      <td>8.0</td>\n",
              "    </tr>\n",
              "    <tr>\n",
              "      <th>115601</th>\n",
              "      <td>Terraria</td>\n",
              "      <td>54.0</td>\n",
              "      <td>8.0</td>\n",
              "    </tr>\n",
              "    <tr>\n",
              "      <th>115602</th>\n",
              "      <td>Borderlands 2</td>\n",
              "      <td>53.0</td>\n",
              "      <td>8.0</td>\n",
              "    </tr>\n",
              "    <tr>\n",
              "      <th>...</th>\n",
              "      <td>...</td>\n",
              "      <td>...</td>\n",
              "      <td>...</td>\n",
              "    </tr>\n",
              "    <tr>\n",
              "      <th>116260</th>\n",
              "      <td>Wrath of Athena</td>\n",
              "      <td>0.0</td>\n",
              "      <td>1.0</td>\n",
              "    </tr>\n",
              "    <tr>\n",
              "      <th>116261</th>\n",
              "      <td>WTFast Gamers Private Network (GPN)</td>\n",
              "      <td>0.0</td>\n",
              "      <td>1.0</td>\n",
              "    </tr>\n",
              "    <tr>\n",
              "      <th>116262</th>\n",
              "      <td>Xam</td>\n",
              "      <td>0.0</td>\n",
              "      <td>1.0</td>\n",
              "    </tr>\n",
              "    <tr>\n",
              "      <th>116263</th>\n",
              "      <td>You Have to Win the Game</td>\n",
              "      <td>0.0</td>\n",
              "      <td>1.0</td>\n",
              "    </tr>\n",
              "    <tr>\n",
              "      <th>116264</th>\n",
              "      <td>Zombies Monsters Robots</td>\n",
              "      <td>0.0</td>\n",
              "      <td>1.0</td>\n",
              "    </tr>\n",
              "  </tbody>\n",
              "</table>\n",
              "<p>667 rows × 3 columns</p>\n",
              "</div>"
            ],
            "text/plain": [
              "                                       Game  Played_hours  Ranking\n",
              "115598                       Spiral Knights          70.0     10.0\n",
              "115599               Blacklight Retribution          64.0     10.0\n",
              "115600                    Dungeon Defenders          56.0      8.0\n",
              "115601                             Terraria          54.0      8.0\n",
              "115602                        Borderlands 2          53.0      8.0\n",
              "...                                     ...           ...      ...\n",
              "116260                      Wrath of Athena           0.0      1.0\n",
              "116261  WTFast Gamers Private Network (GPN)           0.0      1.0\n",
              "116262                                  Xam           0.0      1.0\n",
              "116263             You Have to Win the Game           0.0      1.0\n",
              "116264              Zombies Monsters Robots           0.0      1.0\n",
              "\n",
              "[667 rows x 3 columns]"
            ]
          },
          "metadata": {
            "tags": []
          },
          "execution_count": 59
        }
      ]
    },
    {
      "cell_type": "markdown",
      "metadata": {
        "id": "d3Z4eu5HzBtl",
        "colab_type": "text"
      },
      "source": [
        "# SECTION 5 - RECOMMENDATION SYSTEM - ITEM SIMILARITY RECOMMENDER"
      ]
    },
    {
      "cell_type": "markdown",
      "metadata": {
        "id": "tjvNp82SzVm4",
        "colab_type": "text"
      },
      "source": [
        "### Item Similarity Recommender System"
      ]
    },
    {
      "cell_type": "code",
      "metadata": {
        "id": "8BmZ87f0zHb5",
        "colab_type": "code",
        "outputId": "6fdf1f84-0235-4feb-80ad-cf450b50af4d",
        "colab": {
          "base_uri": "https://localhost:8080/",
          "height": 434
        }
      },
      "source": [
        "o = tc.item_similarity_recommender.create(dfS,\n",
        "\t\t\t                              user_id='UserID',\n",
        "                                    item_id='Game',\n",
        "                                    target='Ranking')"
      ],
      "execution_count": 60,
      "outputs": [
        {
          "output_type": "display_data",
          "data": {
            "text/html": [
              "<pre>Warning: Ignoring columns Played_hours;</pre>"
            ],
            "text/plain": [
              "Warning: Ignoring columns Played_hours;"
            ]
          },
          "metadata": {
            "tags": []
          }
        },
        {
          "output_type": "display_data",
          "data": {
            "text/html": [
              "<pre>    To use these columns in scoring predictions, use a model that allows the use of additional features.</pre>"
            ],
            "text/plain": [
              "    To use these columns in scoring predictions, use a model that allows the use of additional features."
            ]
          },
          "metadata": {
            "tags": []
          }
        },
        {
          "output_type": "display_data",
          "data": {
            "text/html": [
              "<pre>Preparing data set.</pre>"
            ],
            "text/plain": [
              "Preparing data set."
            ]
          },
          "metadata": {
            "tags": []
          }
        },
        {
          "output_type": "display_data",
          "data": {
            "text/html": [
              "<pre>    Data has 129535 observations with 12393 users and 5155 items.</pre>"
            ],
            "text/plain": [
              "    Data has 129535 observations with 12393 users and 5155 items."
            ]
          },
          "metadata": {
            "tags": []
          }
        },
        {
          "output_type": "display_data",
          "data": {
            "text/html": [
              "<pre>    Data prepared in: 0.135447s</pre>"
            ],
            "text/plain": [
              "    Data prepared in: 0.135447s"
            ]
          },
          "metadata": {
            "tags": []
          }
        },
        {
          "output_type": "display_data",
          "data": {
            "text/html": [
              "<pre>Training model from provided data.</pre>"
            ],
            "text/plain": [
              "Training model from provided data."
            ]
          },
          "metadata": {
            "tags": []
          }
        },
        {
          "output_type": "display_data",
          "data": {
            "text/html": [
              "<pre>Gathering per-item and per-user statistics.</pre>"
            ],
            "text/plain": [
              "Gathering per-item and per-user statistics."
            ]
          },
          "metadata": {
            "tags": []
          }
        },
        {
          "output_type": "display_data",
          "data": {
            "text/html": [
              "<pre>+--------------------------------+------------+</pre>"
            ],
            "text/plain": [
              "+--------------------------------+------------+"
            ]
          },
          "metadata": {
            "tags": []
          }
        },
        {
          "output_type": "display_data",
          "data": {
            "text/html": [
              "<pre>| Elapsed Time (Item Statistics) | % Complete |</pre>"
            ],
            "text/plain": [
              "| Elapsed Time (Item Statistics) | % Complete |"
            ]
          },
          "metadata": {
            "tags": []
          }
        },
        {
          "output_type": "display_data",
          "data": {
            "text/html": [
              "<pre>+--------------------------------+------------+</pre>"
            ],
            "text/plain": [
              "+--------------------------------+------------+"
            ]
          },
          "metadata": {
            "tags": []
          }
        },
        {
          "output_type": "display_data",
          "data": {
            "text/html": [
              "<pre>| 2.109ms                        | 8          |</pre>"
            ],
            "text/plain": [
              "| 2.109ms                        | 8          |"
            ]
          },
          "metadata": {
            "tags": []
          }
        },
        {
          "output_type": "display_data",
          "data": {
            "text/html": [
              "<pre>| 14.212ms                       | 100        |</pre>"
            ],
            "text/plain": [
              "| 14.212ms                       | 100        |"
            ]
          },
          "metadata": {
            "tags": []
          }
        },
        {
          "output_type": "display_data",
          "data": {
            "text/html": [
              "<pre>+--------------------------------+------------+</pre>"
            ],
            "text/plain": [
              "+--------------------------------+------------+"
            ]
          },
          "metadata": {
            "tags": []
          }
        },
        {
          "output_type": "display_data",
          "data": {
            "text/html": [
              "<pre>Setting up lookup tables.</pre>"
            ],
            "text/plain": [
              "Setting up lookup tables."
            ]
          },
          "metadata": {
            "tags": []
          }
        },
        {
          "output_type": "display_data",
          "data": {
            "text/html": [
              "<pre>Processing data in one pass using dense lookup tables.</pre>"
            ],
            "text/plain": [
              "Processing data in one pass using dense lookup tables."
            ]
          },
          "metadata": {
            "tags": []
          }
        },
        {
          "output_type": "display_data",
          "data": {
            "text/html": [
              "<pre>+-------------------------------------+------------------+-----------------+</pre>"
            ],
            "text/plain": [
              "+-------------------------------------+------------------+-----------------+"
            ]
          },
          "metadata": {
            "tags": []
          }
        },
        {
          "output_type": "display_data",
          "data": {
            "text/html": [
              "<pre>| Elapsed Time (Constructing Lookups) | Total % Complete | Items Processed |</pre>"
            ],
            "text/plain": [
              "| Elapsed Time (Constructing Lookups) | Total % Complete | Items Processed |"
            ]
          },
          "metadata": {
            "tags": []
          }
        },
        {
          "output_type": "display_data",
          "data": {
            "text/html": [
              "<pre>+-------------------------------------+------------------+-----------------+</pre>"
            ],
            "text/plain": [
              "+-------------------------------------+------------------+-----------------+"
            ]
          },
          "metadata": {
            "tags": []
          }
        },
        {
          "output_type": "display_data",
          "data": {
            "text/html": [
              "<pre>| 79.12ms                             | 0                | 0               |</pre>"
            ],
            "text/plain": [
              "| 79.12ms                             | 0                | 0               |"
            ]
          },
          "metadata": {
            "tags": []
          }
        },
        {
          "output_type": "display_data",
          "data": {
            "text/html": [
              "<pre>| 543.377ms                           | 100              | 5155            |</pre>"
            ],
            "text/plain": [
              "| 543.377ms                           | 100              | 5155            |"
            ]
          },
          "metadata": {
            "tags": []
          }
        },
        {
          "output_type": "display_data",
          "data": {
            "text/html": [
              "<pre>+-------------------------------------+------------------+-----------------+</pre>"
            ],
            "text/plain": [
              "+-------------------------------------+------------------+-----------------+"
            ]
          },
          "metadata": {
            "tags": []
          }
        },
        {
          "output_type": "display_data",
          "data": {
            "text/html": [
              "<pre>Finalizing lookup tables.</pre>"
            ],
            "text/plain": [
              "Finalizing lookup tables."
            ]
          },
          "metadata": {
            "tags": []
          }
        },
        {
          "output_type": "display_data",
          "data": {
            "text/html": [
              "<pre>Generating candidate set for working with new users.</pre>"
            ],
            "text/plain": [
              "Generating candidate set for working with new users."
            ]
          },
          "metadata": {
            "tags": []
          }
        },
        {
          "output_type": "display_data",
          "data": {
            "text/html": [
              "<pre>Finished training in 0.566492s</pre>"
            ],
            "text/plain": [
              "Finished training in 0.566492s"
            ]
          },
          "metadata": {
            "tags": []
          }
        }
      ]
    },
    {
      "cell_type": "code",
      "metadata": {
        "id": "irpu1pCOzih_",
        "colab_type": "code",
        "outputId": "f195b084-5bd6-4234-857a-f5d25498e45c",
        "colab": {
          "base_uri": "https://localhost:8080/",
          "height": 225
        }
      },
      "source": [
        "recommendations = o.recommend()"
      ],
      "execution_count": 61,
      "outputs": [
        {
          "output_type": "display_data",
          "data": {
            "text/html": [
              "<pre>recommendations finished on 1000/12393 queries. users per second: 17044.5</pre>"
            ],
            "text/plain": [
              "recommendations finished on 1000/12393 queries. users per second: 17044.5"
            ]
          },
          "metadata": {
            "tags": []
          }
        },
        {
          "output_type": "display_data",
          "data": {
            "text/html": [
              "<pre>recommendations finished on 2000/12393 queries. users per second: 18045.5</pre>"
            ],
            "text/plain": [
              "recommendations finished on 2000/12393 queries. users per second: 18045.5"
            ]
          },
          "metadata": {
            "tags": []
          }
        },
        {
          "output_type": "display_data",
          "data": {
            "text/html": [
              "<pre>recommendations finished on 3000/12393 queries. users per second: 18460.1</pre>"
            ],
            "text/plain": [
              "recommendations finished on 3000/12393 queries. users per second: 18460.1"
            ]
          },
          "metadata": {
            "tags": []
          }
        },
        {
          "output_type": "display_data",
          "data": {
            "text/html": [
              "<pre>recommendations finished on 4000/12393 queries. users per second: 18568.3</pre>"
            ],
            "text/plain": [
              "recommendations finished on 4000/12393 queries. users per second: 18568.3"
            ]
          },
          "metadata": {
            "tags": []
          }
        },
        {
          "output_type": "display_data",
          "data": {
            "text/html": [
              "<pre>recommendations finished on 5000/12393 queries. users per second: 18192.4</pre>"
            ],
            "text/plain": [
              "recommendations finished on 5000/12393 queries. users per second: 18192.4"
            ]
          },
          "metadata": {
            "tags": []
          }
        },
        {
          "output_type": "display_data",
          "data": {
            "text/html": [
              "<pre>recommendations finished on 6000/12393 queries. users per second: 18207.9</pre>"
            ],
            "text/plain": [
              "recommendations finished on 6000/12393 queries. users per second: 18207.9"
            ]
          },
          "metadata": {
            "tags": []
          }
        },
        {
          "output_type": "display_data",
          "data": {
            "text/html": [
              "<pre>recommendations finished on 7000/12393 queries. users per second: 18280.2</pre>"
            ],
            "text/plain": [
              "recommendations finished on 7000/12393 queries. users per second: 18280.2"
            ]
          },
          "metadata": {
            "tags": []
          }
        },
        {
          "output_type": "display_data",
          "data": {
            "text/html": [
              "<pre>recommendations finished on 8000/12393 queries. users per second: 18369.5</pre>"
            ],
            "text/plain": [
              "recommendations finished on 8000/12393 queries. users per second: 18369.5"
            ]
          },
          "metadata": {
            "tags": []
          }
        },
        {
          "output_type": "display_data",
          "data": {
            "text/html": [
              "<pre>recommendations finished on 9000/12393 queries. users per second: 18320.6</pre>"
            ],
            "text/plain": [
              "recommendations finished on 9000/12393 queries. users per second: 18320.6"
            ]
          },
          "metadata": {
            "tags": []
          }
        },
        {
          "output_type": "display_data",
          "data": {
            "text/html": [
              "<pre>recommendations finished on 10000/12393 queries. users per second: 18206.2</pre>"
            ],
            "text/plain": [
              "recommendations finished on 10000/12393 queries. users per second: 18206.2"
            ]
          },
          "metadata": {
            "tags": []
          }
        },
        {
          "output_type": "display_data",
          "data": {
            "text/html": [
              "<pre>recommendations finished on 11000/12393 queries. users per second: 18110.5</pre>"
            ],
            "text/plain": [
              "recommendations finished on 11000/12393 queries. users per second: 18110.5"
            ]
          },
          "metadata": {
            "tags": []
          }
        },
        {
          "output_type": "display_data",
          "data": {
            "text/html": [
              "<pre>recommendations finished on 12000/12393 queries. users per second: 18179.2</pre>"
            ],
            "text/plain": [
              "recommendations finished on 12000/12393 queries. users per second: 18179.2"
            ]
          },
          "metadata": {
            "tags": []
          }
        }
      ]
    },
    {
      "cell_type": "markdown",
      "metadata": {
        "id": "Y3ZdobhxzooO",
        "colab_type": "text"
      },
      "source": [
        "### USER DESCRIPTION AND RECOMMENDATIONS"
      ]
    },
    {
      "cell_type": "markdown",
      "metadata": {
        "id": "PUY3rFn1SQZI",
        "colab_type": "text"
      },
      "source": [
        "###TOP 1 USER"
      ]
    },
    {
      "cell_type": "code",
      "metadata": {
        "id": "CbZ3R532zkql",
        "colab_type": "code",
        "outputId": "79032b8c-d41e-4ca2-aa47-cb241e4d1311",
        "colab": {
          "base_uri": "https://localhost:8080/",
          "height": 302
        }
      },
      "source": [
        "isr1 = o.recommend(users=['151603712'])\n",
        "isr1.head(20)"
      ],
      "execution_count": 62,
      "outputs": [
        {
          "output_type": "execute_result",
          "data": {
            "text/html": [
              "<div style=\"max-height:1000px;max-width:1500px;overflow:auto;\"><table frame=\"box\" rules=\"cols\">\n",
              "    <tr>\n",
              "        <th style=\"padding-left: 1em; padding-right: 1em; text-align: center\">UserID</th>\n",
              "        <th style=\"padding-left: 1em; padding-right: 1em; text-align: center\">Game</th>\n",
              "        <th style=\"padding-left: 1em; padding-right: 1em; text-align: center\">score</th>\n",
              "        <th style=\"padding-left: 1em; padding-right: 1em; text-align: center\">rank</th>\n",
              "    </tr>\n",
              "    <tr>\n",
              "        <td style=\"padding-left: 1em; padding-right: 1em; text-align: center; vertical-align: top\">151603712</td>\n",
              "        <td style=\"padding-left: 1em; padding-right: 1em; text-align: center; vertical-align: top\">Portal 2</td>\n",
              "        <td style=\"padding-left: 1em; padding-right: 1em; text-align: center; vertical-align: top\">0.10231157541275024</td>\n",
              "        <td style=\"padding-left: 1em; padding-right: 1em; text-align: center; vertical-align: top\">1</td>\n",
              "    </tr>\n",
              "    <tr>\n",
              "        <td style=\"padding-left: 1em; padding-right: 1em; text-align: center; vertical-align: top\">151603712</td>\n",
              "        <td style=\"padding-left: 1em; padding-right: 1em; text-align: center; vertical-align: top\">Borderlands 2</td>\n",
              "        <td style=\"padding-left: 1em; padding-right: 1em; text-align: center; vertical-align: top\">0.10229341983795166</td>\n",
              "        <td style=\"padding-left: 1em; padding-right: 1em; text-align: center; vertical-align: top\">2</td>\n",
              "    </tr>\n",
              "    <tr>\n",
              "        <td style=\"padding-left: 1em; padding-right: 1em; text-align: center; vertical-align: top\">151603712</td>\n",
              "        <td style=\"padding-left: 1em; padding-right: 1em; text-align: center; vertical-align: top\">The Witcher 2 Assassins<br>of Kings Enhanced Edi ...</td>\n",
              "        <td style=\"padding-left: 1em; padding-right: 1em; text-align: center; vertical-align: top\">0.10084794908761978</td>\n",
              "        <td style=\"padding-left: 1em; padding-right: 1em; text-align: center; vertical-align: top\">3</td>\n",
              "    </tr>\n",
              "    <tr>\n",
              "        <td style=\"padding-left: 1em; padding-right: 1em; text-align: center; vertical-align: top\">151603712</td>\n",
              "        <td style=\"padding-left: 1em; padding-right: 1em; text-align: center; vertical-align: top\">Dishonored</td>\n",
              "        <td style=\"padding-left: 1em; padding-right: 1em; text-align: center; vertical-align: top\">0.09983683824539184</td>\n",
              "        <td style=\"padding-left: 1em; padding-right: 1em; text-align: center; vertical-align: top\">4</td>\n",
              "    </tr>\n",
              "    <tr>\n",
              "        <td style=\"padding-left: 1em; padding-right: 1em; text-align: center; vertical-align: top\">151603712</td>\n",
              "        <td style=\"padding-left: 1em; padding-right: 1em; text-align: center; vertical-align: top\">Metro 2033</td>\n",
              "        <td style=\"padding-left: 1em; padding-right: 1em; text-align: center; vertical-align: top\">0.09556290954351425</td>\n",
              "        <td style=\"padding-left: 1em; padding-right: 1em; text-align: center; vertical-align: top\">5</td>\n",
              "    </tr>\n",
              "    <tr>\n",
              "        <td style=\"padding-left: 1em; padding-right: 1em; text-align: center; vertical-align: top\">151603712</td>\n",
              "        <td style=\"padding-left: 1em; padding-right: 1em; text-align: center; vertical-align: top\">Batman Arkham City GOTY</td>\n",
              "        <td style=\"padding-left: 1em; padding-right: 1em; text-align: center; vertical-align: top\">0.09495677947998046</td>\n",
              "        <td style=\"padding-left: 1em; padding-right: 1em; text-align: center; vertical-align: top\">6</td>\n",
              "    </tr>\n",
              "    <tr>\n",
              "        <td style=\"padding-left: 1em; padding-right: 1em; text-align: center; vertical-align: top\">151603712</td>\n",
              "        <td style=\"padding-left: 1em; padding-right: 1em; text-align: center; vertical-align: top\">Saints Row The Third</td>\n",
              "        <td style=\"padding-left: 1em; padding-right: 1em; text-align: center; vertical-align: top\">0.08762047588825225</td>\n",
              "        <td style=\"padding-left: 1em; padding-right: 1em; text-align: center; vertical-align: top\">7</td>\n",
              "    </tr>\n",
              "    <tr>\n",
              "        <td style=\"padding-left: 1em; padding-right: 1em; text-align: center; vertical-align: top\">151603712</td>\n",
              "        <td style=\"padding-left: 1em; padding-right: 1em; text-align: center; vertical-align: top\">Skyrim High Resolution<br>Texture Pack ...</td>\n",
              "        <td style=\"padding-left: 1em; padding-right: 1em; text-align: center; vertical-align: top\">0.08500545769929886</td>\n",
              "        <td style=\"padding-left: 1em; padding-right: 1em; text-align: center; vertical-align: top\">8</td>\n",
              "    </tr>\n",
              "    <tr>\n",
              "        <td style=\"padding-left: 1em; padding-right: 1em; text-align: center; vertical-align: top\">151603712</td>\n",
              "        <td style=\"padding-left: 1em; padding-right: 1em; text-align: center; vertical-align: top\">Deus Ex Human Revolution</td>\n",
              "        <td style=\"padding-left: 1em; padding-right: 1em; text-align: center; vertical-align: top\">0.08309174180030823</td>\n",
              "        <td style=\"padding-left: 1em; padding-right: 1em; text-align: center; vertical-align: top\">9</td>\n",
              "    </tr>\n",
              "    <tr>\n",
              "        <td style=\"padding-left: 1em; padding-right: 1em; text-align: center; vertical-align: top\">151603712</td>\n",
              "        <td style=\"padding-left: 1em; padding-right: 1em; text-align: center; vertical-align: top\">Batman Arkham Asylum GOTY<br>Edition ...</td>\n",
              "        <td style=\"padding-left: 1em; padding-right: 1em; text-align: center; vertical-align: top\">0.08188620805740357</td>\n",
              "        <td style=\"padding-left: 1em; padding-right: 1em; text-align: center; vertical-align: top\">10</td>\n",
              "    </tr>\n",
              "</table>\n",
              "[10 rows x 4 columns]<br/>\n",
              "</div>"
            ],
            "text/plain": [
              "Columns:\n",
              "\tUserID\tint\n",
              "\tGame\tstr\n",
              "\tscore\tfloat\n",
              "\trank\tint\n",
              "\n",
              "Rows: 10\n",
              "\n",
              "Data:\n",
              "+-----------+-------------------------------+---------------------+------+\n",
              "|   UserID  |              Game             |        score        | rank |\n",
              "+-----------+-------------------------------+---------------------+------+\n",
              "| 151603712 |            Portal 2           | 0.10231157541275024 |  1   |\n",
              "| 151603712 |         Borderlands 2         | 0.10229341983795166 |  2   |\n",
              "| 151603712 | The Witcher 2 Assassins of... | 0.10084794908761978 |  3   |\n",
              "| 151603712 |           Dishonored          | 0.09983683824539184 |  4   |\n",
              "| 151603712 |           Metro 2033          | 0.09556290954351425 |  5   |\n",
              "| 151603712 |    Batman Arkham City GOTY    | 0.09495677947998046 |  6   |\n",
              "| 151603712 |      Saints Row The Third     | 0.08762047588825225 |  7   |\n",
              "| 151603712 | Skyrim High Resolution Tex... | 0.08500545769929886 |  8   |\n",
              "| 151603712 |    Deus Ex Human Revolution   | 0.08309174180030823 |  9   |\n",
              "| 151603712 | Batman Arkham Asylum GOTY ... | 0.08188620805740357 |  10  |\n",
              "+-----------+-------------------------------+---------------------+------+\n",
              "[10 rows x 4 columns]"
            ]
          },
          "metadata": {
            "tags": []
          },
          "execution_count": 62
        }
      ]
    },
    {
      "cell_type": "markdown",
      "metadata": {
        "id": "vaPwqwlaRYxf",
        "colab_type": "text"
      },
      "source": [
        "###Creating a dataframe"
      ]
    },
    {
      "cell_type": "code",
      "metadata": {
        "id": "iEcIMrPACCMk",
        "colab_type": "code",
        "colab": {
          "base_uri": "https://localhost:8080/",
          "height": 363
        },
        "outputId": "a0be75d0-ef72-4177-df31-ee936fb2f54c"
      },
      "source": [
        "itsim1 = pd.DataFrame(isr1)\n",
        "itsim1.drop([\"UserID\",\"rank\"],axis = 1, inplace = True)\n",
        "itsim1.rename(columns={'Game': 'Game_ISR', 'score': 'score_ISR'}, inplace=True)\n",
        "itsim1.head(10)"
      ],
      "execution_count": 63,
      "outputs": [
        {
          "output_type": "execute_result",
          "data": {
            "text/html": [
              "<div>\n",
              "<style scoped>\n",
              "    .dataframe tbody tr th:only-of-type {\n",
              "        vertical-align: middle;\n",
              "    }\n",
              "\n",
              "    .dataframe tbody tr th {\n",
              "        vertical-align: top;\n",
              "    }\n",
              "\n",
              "    .dataframe thead th {\n",
              "        text-align: right;\n",
              "    }\n",
              "</style>\n",
              "<table border=\"1\" class=\"dataframe\">\n",
              "  <thead>\n",
              "    <tr style=\"text-align: right;\">\n",
              "      <th></th>\n",
              "      <th>Game_ISR</th>\n",
              "      <th>score_ISR</th>\n",
              "    </tr>\n",
              "  </thead>\n",
              "  <tbody>\n",
              "    <tr>\n",
              "      <th>0</th>\n",
              "      <td>Portal 2</td>\n",
              "      <td>0.102312</td>\n",
              "    </tr>\n",
              "    <tr>\n",
              "      <th>1</th>\n",
              "      <td>Borderlands 2</td>\n",
              "      <td>0.102293</td>\n",
              "    </tr>\n",
              "    <tr>\n",
              "      <th>2</th>\n",
              "      <td>The Witcher 2 Assassins of Kings Enhanced Edition</td>\n",
              "      <td>0.100848</td>\n",
              "    </tr>\n",
              "    <tr>\n",
              "      <th>3</th>\n",
              "      <td>Dishonored</td>\n",
              "      <td>0.099837</td>\n",
              "    </tr>\n",
              "    <tr>\n",
              "      <th>4</th>\n",
              "      <td>Metro 2033</td>\n",
              "      <td>0.095563</td>\n",
              "    </tr>\n",
              "    <tr>\n",
              "      <th>5</th>\n",
              "      <td>Batman Arkham City GOTY</td>\n",
              "      <td>0.094957</td>\n",
              "    </tr>\n",
              "    <tr>\n",
              "      <th>6</th>\n",
              "      <td>Saints Row The Third</td>\n",
              "      <td>0.087620</td>\n",
              "    </tr>\n",
              "    <tr>\n",
              "      <th>7</th>\n",
              "      <td>Skyrim High Resolution Texture Pack</td>\n",
              "      <td>0.085005</td>\n",
              "    </tr>\n",
              "    <tr>\n",
              "      <th>8</th>\n",
              "      <td>Deus Ex Human Revolution</td>\n",
              "      <td>0.083092</td>\n",
              "    </tr>\n",
              "    <tr>\n",
              "      <th>9</th>\n",
              "      <td>Batman Arkham Asylum GOTY Edition</td>\n",
              "      <td>0.081886</td>\n",
              "    </tr>\n",
              "  </tbody>\n",
              "</table>\n",
              "</div>"
            ],
            "text/plain": [
              "                                            Game_ISR  score_ISR\n",
              "0                                           Portal 2   0.102312\n",
              "1                                      Borderlands 2   0.102293\n",
              "2  The Witcher 2 Assassins of Kings Enhanced Edition   0.100848\n",
              "3                                         Dishonored   0.099837\n",
              "4                                         Metro 2033   0.095563\n",
              "5                            Batman Arkham City GOTY   0.094957\n",
              "6                               Saints Row The Third   0.087620\n",
              "7                Skyrim High Resolution Texture Pack   0.085005\n",
              "8                           Deus Ex Human Revolution   0.083092\n",
              "9                  Batman Arkham Asylum GOTY Edition   0.081886"
            ]
          },
          "metadata": {
            "tags": []
          },
          "execution_count": 63
        }
      ]
    },
    {
      "cell_type": "code",
      "metadata": {
        "id": "VHLWAx__zktP",
        "colab_type": "code",
        "outputId": "8db41c85-2825-450d-f224-e5cbeada0462",
        "colab": {
          "base_uri": "https://localhost:8080/",
          "height": 1000
        }
      },
      "source": [
        "clean_df.loc[clean_df[\"UserID\"] == 151603712,[\"Game\",\"Played_hours\",\"Ranking\"]]"
      ],
      "execution_count": 64,
      "outputs": [
        {
          "output_type": "execute_result",
          "data": {
            "text/html": [
              "<div>\n",
              "<style scoped>\n",
              "    .dataframe tbody tr th:only-of-type {\n",
              "        vertical-align: middle;\n",
              "    }\n",
              "\n",
              "    .dataframe tbody tr th {\n",
              "        vertical-align: top;\n",
              "    }\n",
              "\n",
              "    .dataframe thead th {\n",
              "        text-align: right;\n",
              "    }\n",
              "</style>\n",
              "<table border=\"1\" class=\"dataframe\">\n",
              "  <thead>\n",
              "    <tr style=\"text-align: right;\">\n",
              "      <th></th>\n",
              "      <th>Game</th>\n",
              "      <th>Played_hours</th>\n",
              "      <th>Ranking</th>\n",
              "    </tr>\n",
              "  </thead>\n",
              "  <tbody>\n",
              "    <tr>\n",
              "      <th>0</th>\n",
              "      <td>The Elder Scrolls V Skyrim</td>\n",
              "      <td>273.0</td>\n",
              "      <td>10.0</td>\n",
              "    </tr>\n",
              "    <tr>\n",
              "      <th>1</th>\n",
              "      <td>Fallout 4</td>\n",
              "      <td>87.0</td>\n",
              "      <td>4.0</td>\n",
              "    </tr>\n",
              "    <tr>\n",
              "      <th>2</th>\n",
              "      <td>Spore</td>\n",
              "      <td>14.9</td>\n",
              "      <td>1.0</td>\n",
              "    </tr>\n",
              "    <tr>\n",
              "      <th>3</th>\n",
              "      <td>Fallout New Vegas</td>\n",
              "      <td>12.1</td>\n",
              "      <td>1.0</td>\n",
              "    </tr>\n",
              "    <tr>\n",
              "      <th>4</th>\n",
              "      <td>Left 4 Dead 2</td>\n",
              "      <td>8.9</td>\n",
              "      <td>1.0</td>\n",
              "    </tr>\n",
              "    <tr>\n",
              "      <th>5</th>\n",
              "      <td>HuniePop</td>\n",
              "      <td>8.5</td>\n",
              "      <td>1.0</td>\n",
              "    </tr>\n",
              "    <tr>\n",
              "      <th>6</th>\n",
              "      <td>Path of Exile</td>\n",
              "      <td>8.1</td>\n",
              "      <td>1.0</td>\n",
              "    </tr>\n",
              "    <tr>\n",
              "      <th>7</th>\n",
              "      <td>Poly Bridge</td>\n",
              "      <td>7.5</td>\n",
              "      <td>1.0</td>\n",
              "    </tr>\n",
              "    <tr>\n",
              "      <th>8</th>\n",
              "      <td>Left 4 Dead</td>\n",
              "      <td>3.3</td>\n",
              "      <td>1.0</td>\n",
              "    </tr>\n",
              "    <tr>\n",
              "      <th>9</th>\n",
              "      <td>Team Fortress 2</td>\n",
              "      <td>2.8</td>\n",
              "      <td>1.0</td>\n",
              "    </tr>\n",
              "    <tr>\n",
              "      <th>10</th>\n",
              "      <td>Tomb Raider</td>\n",
              "      <td>2.5</td>\n",
              "      <td>1.0</td>\n",
              "    </tr>\n",
              "    <tr>\n",
              "      <th>11</th>\n",
              "      <td>The Banner Saga</td>\n",
              "      <td>2.0</td>\n",
              "      <td>1.0</td>\n",
              "    </tr>\n",
              "    <tr>\n",
              "      <th>12</th>\n",
              "      <td>Dead Island Epidemic</td>\n",
              "      <td>1.4</td>\n",
              "      <td>1.0</td>\n",
              "    </tr>\n",
              "    <tr>\n",
              "      <th>13</th>\n",
              "      <td>BioShock Infinite</td>\n",
              "      <td>1.3</td>\n",
              "      <td>1.0</td>\n",
              "    </tr>\n",
              "    <tr>\n",
              "      <th>14</th>\n",
              "      <td>Dragon Age Origins - Ultimate Edition</td>\n",
              "      <td>1.3</td>\n",
              "      <td>1.0</td>\n",
              "    </tr>\n",
              "    <tr>\n",
              "      <th>15</th>\n",
              "      <td>Fallout 3 - Game of the Year Edition</td>\n",
              "      <td>0.8</td>\n",
              "      <td>1.0</td>\n",
              "    </tr>\n",
              "    <tr>\n",
              "      <th>16</th>\n",
              "      <td>SEGA Genesis &amp; Mega Drive Classics</td>\n",
              "      <td>0.8</td>\n",
              "      <td>1.0</td>\n",
              "    </tr>\n",
              "    <tr>\n",
              "      <th>17</th>\n",
              "      <td>Grand Theft Auto IV</td>\n",
              "      <td>0.6</td>\n",
              "      <td>1.0</td>\n",
              "    </tr>\n",
              "    <tr>\n",
              "      <th>18</th>\n",
              "      <td>Realm of the Mad God</td>\n",
              "      <td>0.5</td>\n",
              "      <td>1.0</td>\n",
              "    </tr>\n",
              "    <tr>\n",
              "      <th>19</th>\n",
              "      <td>Marvel Heroes 2015</td>\n",
              "      <td>0.5</td>\n",
              "      <td>1.0</td>\n",
              "    </tr>\n",
              "    <tr>\n",
              "      <th>20</th>\n",
              "      <td>Eldevin</td>\n",
              "      <td>0.5</td>\n",
              "      <td>1.0</td>\n",
              "    </tr>\n",
              "    <tr>\n",
              "      <th>21</th>\n",
              "      <td>Dota 2</td>\n",
              "      <td>0.5</td>\n",
              "      <td>1.0</td>\n",
              "    </tr>\n",
              "    <tr>\n",
              "      <th>22</th>\n",
              "      <td>BioShock</td>\n",
              "      <td>0.5</td>\n",
              "      <td>1.0</td>\n",
              "    </tr>\n",
              "    <tr>\n",
              "      <th>23</th>\n",
              "      <td>Robocraft</td>\n",
              "      <td>0.4</td>\n",
              "      <td>1.0</td>\n",
              "    </tr>\n",
              "    <tr>\n",
              "      <th>24</th>\n",
              "      <td>Garry's Mod</td>\n",
              "      <td>0.1</td>\n",
              "      <td>1.0</td>\n",
              "    </tr>\n",
              "    <tr>\n",
              "      <th>25</th>\n",
              "      <td>Jazzpunk</td>\n",
              "      <td>0.1</td>\n",
              "      <td>1.0</td>\n",
              "    </tr>\n",
              "    <tr>\n",
              "      <th>26</th>\n",
              "      <td>Alan Wake</td>\n",
              "      <td>0.0</td>\n",
              "      <td>1.0</td>\n",
              "    </tr>\n",
              "    <tr>\n",
              "      <th>27</th>\n",
              "      <td>BioShock 2</td>\n",
              "      <td>0.0</td>\n",
              "      <td>1.0</td>\n",
              "    </tr>\n",
              "    <tr>\n",
              "      <th>28</th>\n",
              "      <td>Fallen Earth</td>\n",
              "      <td>0.0</td>\n",
              "      <td>1.0</td>\n",
              "    </tr>\n",
              "    <tr>\n",
              "      <th>29</th>\n",
              "      <td>Fallout New Vegas Courier's Stash</td>\n",
              "      <td>0.0</td>\n",
              "      <td>1.0</td>\n",
              "    </tr>\n",
              "    <tr>\n",
              "      <th>30</th>\n",
              "      <td>Fallout New Vegas Dead Money</td>\n",
              "      <td>0.0</td>\n",
              "      <td>1.0</td>\n",
              "    </tr>\n",
              "    <tr>\n",
              "      <th>31</th>\n",
              "      <td>Fallout New Vegas Honest Hearts</td>\n",
              "      <td>0.0</td>\n",
              "      <td>1.0</td>\n",
              "    </tr>\n",
              "    <tr>\n",
              "      <th>32</th>\n",
              "      <td>Grand Theft Auto Episodes from Liberty City</td>\n",
              "      <td>0.0</td>\n",
              "      <td>1.0</td>\n",
              "    </tr>\n",
              "    <tr>\n",
              "      <th>33</th>\n",
              "      <td>Hitman Absolution</td>\n",
              "      <td>0.0</td>\n",
              "      <td>1.0</td>\n",
              "    </tr>\n",
              "    <tr>\n",
              "      <th>34</th>\n",
              "      <td>HuniePop Official Digital Art Collection</td>\n",
              "      <td>0.0</td>\n",
              "      <td>1.0</td>\n",
              "    </tr>\n",
              "    <tr>\n",
              "      <th>35</th>\n",
              "      <td>HuniePop Original Soundtrack</td>\n",
              "      <td>0.0</td>\n",
              "      <td>1.0</td>\n",
              "    </tr>\n",
              "    <tr>\n",
              "      <th>36</th>\n",
              "      <td>The Banner Saga - Mod Content</td>\n",
              "      <td>0.0</td>\n",
              "      <td>1.0</td>\n",
              "    </tr>\n",
              "    <tr>\n",
              "      <th>37</th>\n",
              "      <td>The Elder Scrolls V Skyrim - Dawnguard</td>\n",
              "      <td>0.0</td>\n",
              "      <td>1.0</td>\n",
              "    </tr>\n",
              "    <tr>\n",
              "      <th>38</th>\n",
              "      <td>The Elder Scrolls V Skyrim - Dragonborn</td>\n",
              "      <td>0.0</td>\n",
              "      <td>1.0</td>\n",
              "    </tr>\n",
              "    <tr>\n",
              "      <th>39</th>\n",
              "      <td>The Elder Scrolls V Skyrim - Hearthfire</td>\n",
              "      <td>0.0</td>\n",
              "      <td>1.0</td>\n",
              "    </tr>\n",
              "  </tbody>\n",
              "</table>\n",
              "</div>"
            ],
            "text/plain": [
              "                                           Game  Played_hours  Ranking\n",
              "0                    The Elder Scrolls V Skyrim         273.0     10.0\n",
              "1                                     Fallout 4          87.0      4.0\n",
              "2                                         Spore          14.9      1.0\n",
              "3                             Fallout New Vegas          12.1      1.0\n",
              "4                                 Left 4 Dead 2           8.9      1.0\n",
              "5                                      HuniePop           8.5      1.0\n",
              "6                                 Path of Exile           8.1      1.0\n",
              "7                                   Poly Bridge           7.5      1.0\n",
              "8                                   Left 4 Dead           3.3      1.0\n",
              "9                               Team Fortress 2           2.8      1.0\n",
              "10                                  Tomb Raider           2.5      1.0\n",
              "11                              The Banner Saga           2.0      1.0\n",
              "12                         Dead Island Epidemic           1.4      1.0\n",
              "13                            BioShock Infinite           1.3      1.0\n",
              "14        Dragon Age Origins - Ultimate Edition           1.3      1.0\n",
              "15         Fallout 3 - Game of the Year Edition           0.8      1.0\n",
              "16           SEGA Genesis & Mega Drive Classics           0.8      1.0\n",
              "17                          Grand Theft Auto IV           0.6      1.0\n",
              "18                         Realm of the Mad God           0.5      1.0\n",
              "19                           Marvel Heroes 2015           0.5      1.0\n",
              "20                                      Eldevin           0.5      1.0\n",
              "21                                       Dota 2           0.5      1.0\n",
              "22                                     BioShock           0.5      1.0\n",
              "23                                    Robocraft           0.4      1.0\n",
              "24                                  Garry's Mod           0.1      1.0\n",
              "25                                     Jazzpunk           0.1      1.0\n",
              "26                                    Alan Wake           0.0      1.0\n",
              "27                                   BioShock 2           0.0      1.0\n",
              "28                                 Fallen Earth           0.0      1.0\n",
              "29            Fallout New Vegas Courier's Stash           0.0      1.0\n",
              "30                 Fallout New Vegas Dead Money           0.0      1.0\n",
              "31              Fallout New Vegas Honest Hearts           0.0      1.0\n",
              "32  Grand Theft Auto Episodes from Liberty City           0.0      1.0\n",
              "33                            Hitman Absolution           0.0      1.0\n",
              "34     HuniePop Official Digital Art Collection           0.0      1.0\n",
              "35                 HuniePop Original Soundtrack           0.0      1.0\n",
              "36                The Banner Saga - Mod Content           0.0      1.0\n",
              "37       The Elder Scrolls V Skyrim - Dawnguard           0.0      1.0\n",
              "38      The Elder Scrolls V Skyrim - Dragonborn           0.0      1.0\n",
              "39      The Elder Scrolls V Skyrim - Hearthfire           0.0      1.0"
            ]
          },
          "metadata": {
            "tags": []
          },
          "execution_count": 64
        }
      ]
    },
    {
      "cell_type": "markdown",
      "metadata": {
        "id": "-TyvKTdsSNPG",
        "colab_type": "text"
      },
      "source": [
        "###TOP 2 USER"
      ]
    },
    {
      "cell_type": "code",
      "metadata": {
        "id": "slvctfgjz082",
        "colab_type": "code",
        "outputId": "b154047d-a3c3-4bc1-8600-91dbfca1af62",
        "colab": {
          "base_uri": "https://localhost:8080/",
          "height": 249
        }
      },
      "source": [
        "isr2 = o.recommend(users=['62990992'])\n",
        "isr2"
      ],
      "execution_count": 65,
      "outputs": [
        {
          "output_type": "execute_result",
          "data": {
            "text/html": [
              "<div style=\"max-height:1000px;max-width:1500px;overflow:auto;\"><table frame=\"box\" rules=\"cols\">\n",
              "    <tr>\n",
              "        <th style=\"padding-left: 1em; padding-right: 1em; text-align: center\">UserID</th>\n",
              "        <th style=\"padding-left: 1em; padding-right: 1em; text-align: center\">Game</th>\n",
              "        <th style=\"padding-left: 1em; padding-right: 1em; text-align: center\">score</th>\n",
              "        <th style=\"padding-left: 1em; padding-right: 1em; text-align: center\">rank</th>\n",
              "    </tr>\n",
              "    <tr>\n",
              "        <td style=\"padding-left: 1em; padding-right: 1em; text-align: center; vertical-align: top\">62990992</td>\n",
              "        <td style=\"padding-left: 1em; padding-right: 1em; text-align: center; vertical-align: top\">Overlord Raising Hell</td>\n",
              "        <td style=\"padding-left: 1em; padding-right: 1em; text-align: center; vertical-align: top\">0.021720042277811172</td>\n",
              "        <td style=\"padding-left: 1em; padding-right: 1em; text-align: center; vertical-align: top\">1</td>\n",
              "    </tr>\n",
              "    <tr>\n",
              "        <td style=\"padding-left: 1em; padding-right: 1em; text-align: center; vertical-align: top\">62990992</td>\n",
              "        <td style=\"padding-left: 1em; padding-right: 1em; text-align: center; vertical-align: top\">Brtal Legend</td>\n",
              "        <td style=\"padding-left: 1em; padding-right: 1em; text-align: center; vertical-align: top\">0.02107142313812556</td>\n",
              "        <td style=\"padding-left: 1em; padding-right: 1em; text-align: center; vertical-align: top\">2</td>\n",
              "    </tr>\n",
              "    <tr>\n",
              "        <td style=\"padding-left: 1em; padding-right: 1em; text-align: center; vertical-align: top\">62990992</td>\n",
              "        <td style=\"padding-left: 1em; padding-right: 1em; text-align: center; vertical-align: top\">Mark of the Ninja</td>\n",
              "        <td style=\"padding-left: 1em; padding-right: 1em; text-align: center; vertical-align: top\">0.019560436575153793</td>\n",
              "        <td style=\"padding-left: 1em; padding-right: 1em; text-align: center; vertical-align: top\">3</td>\n",
              "    </tr>\n",
              "    <tr>\n",
              "        <td style=\"padding-left: 1em; padding-right: 1em; text-align: center; vertical-align: top\">62990992</td>\n",
              "        <td style=\"padding-left: 1em; padding-right: 1em; text-align: center; vertical-align: top\">Bastion</td>\n",
              "        <td style=\"padding-left: 1em; padding-right: 1em; text-align: center; vertical-align: top\">0.01940129328979535</td>\n",
              "        <td style=\"padding-left: 1em; padding-right: 1em; text-align: center; vertical-align: top\">4</td>\n",
              "    </tr>\n",
              "    <tr>\n",
              "        <td style=\"padding-left: 1em; padding-right: 1em; text-align: center; vertical-align: top\">62990992</td>\n",
              "        <td style=\"padding-left: 1em; padding-right: 1em; text-align: center; vertical-align: top\">Darksiders</td>\n",
              "        <td style=\"padding-left: 1em; padding-right: 1em; text-align: center; vertical-align: top\">0.017975371540262457</td>\n",
              "        <td style=\"padding-left: 1em; padding-right: 1em; text-align: center; vertical-align: top\">5</td>\n",
              "    </tr>\n",
              "    <tr>\n",
              "        <td style=\"padding-left: 1em; padding-right: 1em; text-align: center; vertical-align: top\">62990992</td>\n",
              "        <td style=\"padding-left: 1em; padding-right: 1em; text-align: center; vertical-align: top\">Dishonored</td>\n",
              "        <td style=\"padding-left: 1em; padding-right: 1em; text-align: center; vertical-align: top\">0.015522174620896244</td>\n",
              "        <td style=\"padding-left: 1em; padding-right: 1em; text-align: center; vertical-align: top\">6</td>\n",
              "    </tr>\n",
              "    <tr>\n",
              "        <td style=\"padding-left: 1em; padding-right: 1em; text-align: center; vertical-align: top\">62990992</td>\n",
              "        <td style=\"padding-left: 1em; padding-right: 1em; text-align: center; vertical-align: top\">LIMBO</td>\n",
              "        <td style=\"padding-left: 1em; padding-right: 1em; text-align: center; vertical-align: top\">0.014491602499386792</td>\n",
              "        <td style=\"padding-left: 1em; padding-right: 1em; text-align: center; vertical-align: top\">7</td>\n",
              "    </tr>\n",
              "    <tr>\n",
              "        <td style=\"padding-left: 1em; padding-right: 1em; text-align: center; vertical-align: top\">62990992</td>\n",
              "        <td style=\"padding-left: 1em; padding-right: 1em; text-align: center; vertical-align: top\">Rise of the Argonauts</td>\n",
              "        <td style=\"padding-left: 1em; padding-right: 1em; text-align: center; vertical-align: top\">0.01429952619674054</td>\n",
              "        <td style=\"padding-left: 1em; padding-right: 1em; text-align: center; vertical-align: top\">8</td>\n",
              "    </tr>\n",
              "    <tr>\n",
              "        <td style=\"padding-left: 1em; padding-right: 1em; text-align: center; vertical-align: top\">62990992</td>\n",
              "        <td style=\"padding-left: 1em; padding-right: 1em; text-align: center; vertical-align: top\">The Walking Dead</td>\n",
              "        <td style=\"padding-left: 1em; padding-right: 1em; text-align: center; vertical-align: top\">0.014220608754104443</td>\n",
              "        <td style=\"padding-left: 1em; padding-right: 1em; text-align: center; vertical-align: top\">9</td>\n",
              "    </tr>\n",
              "    <tr>\n",
              "        <td style=\"padding-left: 1em; padding-right: 1em; text-align: center; vertical-align: top\">62990992</td>\n",
              "        <td style=\"padding-left: 1em; padding-right: 1em; text-align: center; vertical-align: top\">Cave Story+</td>\n",
              "        <td style=\"padding-left: 1em; padding-right: 1em; text-align: center; vertical-align: top\">0.013507157954830356</td>\n",
              "        <td style=\"padding-left: 1em; padding-right: 1em; text-align: center; vertical-align: top\">10</td>\n",
              "    </tr>\n",
              "</table>\n",
              "[10 rows x 4 columns]<br/>\n",
              "</div>"
            ],
            "text/plain": [
              "Columns:\n",
              "\tUserID\tint\n",
              "\tGame\tstr\n",
              "\tscore\tfloat\n",
              "\trank\tint\n",
              "\n",
              "Rows: 10\n",
              "\n",
              "Data:\n",
              "+----------+-----------------------+----------------------+------+\n",
              "|  UserID  |          Game         |        score         | rank |\n",
              "+----------+-----------------------+----------------------+------+\n",
              "| 62990992 | Overlord Raising Hell | 0.021720042277811172 |  1   |\n",
              "| 62990992 |      Brtal Legend     | 0.02107142313812556  |  2   |\n",
              "| 62990992 |   Mark of the Ninja   | 0.019560436575153793 |  3   |\n",
              "| 62990992 |        Bastion        | 0.01940129328979535  |  4   |\n",
              "| 62990992 |       Darksiders      | 0.017975371540262457 |  5   |\n",
              "| 62990992 |       Dishonored      | 0.015522174620896244 |  6   |\n",
              "| 62990992 |         LIMBO         | 0.014491602499386792 |  7   |\n",
              "| 62990992 | Rise of the Argonauts | 0.01429952619674054  |  8   |\n",
              "| 62990992 |    The Walking Dead   | 0.014220608754104443 |  9   |\n",
              "| 62990992 |      Cave Story+      | 0.013507157954830356 |  10  |\n",
              "+----------+-----------------------+----------------------+------+\n",
              "[10 rows x 4 columns]"
            ]
          },
          "metadata": {
            "tags": []
          },
          "execution_count": 65
        }
      ]
    },
    {
      "cell_type": "markdown",
      "metadata": {
        "id": "dC63u87ORazk",
        "colab_type": "text"
      },
      "source": [
        "###Creating a dataframe"
      ]
    },
    {
      "cell_type": "code",
      "metadata": {
        "id": "006wXt9dDgw1",
        "colab_type": "code",
        "colab": {
          "base_uri": "https://localhost:8080/",
          "height": 363
        },
        "outputId": "dbb0858e-3c28-4ef5-c697-8646fc214bfa"
      },
      "source": [
        "itsim2 = pd.DataFrame(isr2)\n",
        "itsim2.drop([\"UserID\",\"rank\"],axis = 1, inplace = True)\n",
        "itsim2.rename(columns = {'Game': 'Game_ISR', 'score': 'score_ISR'},inplace = True)\n",
        "itsim2.head(10)"
      ],
      "execution_count": 66,
      "outputs": [
        {
          "output_type": "execute_result",
          "data": {
            "text/html": [
              "<div>\n",
              "<style scoped>\n",
              "    .dataframe tbody tr th:only-of-type {\n",
              "        vertical-align: middle;\n",
              "    }\n",
              "\n",
              "    .dataframe tbody tr th {\n",
              "        vertical-align: top;\n",
              "    }\n",
              "\n",
              "    .dataframe thead th {\n",
              "        text-align: right;\n",
              "    }\n",
              "</style>\n",
              "<table border=\"1\" class=\"dataframe\">\n",
              "  <thead>\n",
              "    <tr style=\"text-align: right;\">\n",
              "      <th></th>\n",
              "      <th>Game_ISR</th>\n",
              "      <th>score_ISR</th>\n",
              "    </tr>\n",
              "  </thead>\n",
              "  <tbody>\n",
              "    <tr>\n",
              "      <th>0</th>\n",
              "      <td>Overlord Raising Hell</td>\n",
              "      <td>0.021720</td>\n",
              "    </tr>\n",
              "    <tr>\n",
              "      <th>1</th>\n",
              "      <td>Brtal Legend</td>\n",
              "      <td>0.021071</td>\n",
              "    </tr>\n",
              "    <tr>\n",
              "      <th>2</th>\n",
              "      <td>Mark of the Ninja</td>\n",
              "      <td>0.019560</td>\n",
              "    </tr>\n",
              "    <tr>\n",
              "      <th>3</th>\n",
              "      <td>Bastion</td>\n",
              "      <td>0.019401</td>\n",
              "    </tr>\n",
              "    <tr>\n",
              "      <th>4</th>\n",
              "      <td>Darksiders</td>\n",
              "      <td>0.017975</td>\n",
              "    </tr>\n",
              "    <tr>\n",
              "      <th>5</th>\n",
              "      <td>Dishonored</td>\n",
              "      <td>0.015522</td>\n",
              "    </tr>\n",
              "    <tr>\n",
              "      <th>6</th>\n",
              "      <td>LIMBO</td>\n",
              "      <td>0.014492</td>\n",
              "    </tr>\n",
              "    <tr>\n",
              "      <th>7</th>\n",
              "      <td>Rise of the Argonauts</td>\n",
              "      <td>0.014300</td>\n",
              "    </tr>\n",
              "    <tr>\n",
              "      <th>8</th>\n",
              "      <td>The Walking Dead</td>\n",
              "      <td>0.014221</td>\n",
              "    </tr>\n",
              "    <tr>\n",
              "      <th>9</th>\n",
              "      <td>Cave Story+</td>\n",
              "      <td>0.013507</td>\n",
              "    </tr>\n",
              "  </tbody>\n",
              "</table>\n",
              "</div>"
            ],
            "text/plain": [
              "                Game_ISR  score_ISR\n",
              "0  Overlord Raising Hell   0.021720\n",
              "1           Brtal Legend   0.021071\n",
              "2      Mark of the Ninja   0.019560\n",
              "3                Bastion   0.019401\n",
              "4             Darksiders   0.017975\n",
              "5             Dishonored   0.015522\n",
              "6                  LIMBO   0.014492\n",
              "7  Rise of the Argonauts   0.014300\n",
              "8       The Walking Dead   0.014221\n",
              "9            Cave Story+   0.013507"
            ]
          },
          "metadata": {
            "tags": []
          },
          "execution_count": 66
        }
      ]
    },
    {
      "cell_type": "code",
      "metadata": {
        "id": "eDa3D9Pfz1AR",
        "colab_type": "code",
        "outputId": "8f700f40-cedc-4d6e-82f7-5839c2a706a8",
        "colab": {
          "base_uri": "https://localhost:8080/",
          "height": 424
        }
      },
      "source": [
        "clean_df.loc[clean_df[\"UserID\"] == 62990992,[\"Game\",\"Played_hours\",\"Ranking\"]]"
      ],
      "execution_count": 67,
      "outputs": [
        {
          "output_type": "execute_result",
          "data": {
            "text/html": [
              "<div>\n",
              "<style scoped>\n",
              "    .dataframe tbody tr th:only-of-type {\n",
              "        vertical-align: middle;\n",
              "    }\n",
              "\n",
              "    .dataframe tbody tr th {\n",
              "        vertical-align: top;\n",
              "    }\n",
              "\n",
              "    .dataframe thead th {\n",
              "        text-align: right;\n",
              "    }\n",
              "</style>\n",
              "<table border=\"1\" class=\"dataframe\">\n",
              "  <thead>\n",
              "    <tr style=\"text-align: right;\">\n",
              "      <th></th>\n",
              "      <th>Game</th>\n",
              "      <th>Played_hours</th>\n",
              "      <th>Ranking</th>\n",
              "    </tr>\n",
              "  </thead>\n",
              "  <tbody>\n",
              "    <tr>\n",
              "      <th>77076</th>\n",
              "      <td>Counter-Strike Global Offensive</td>\n",
              "      <td>663.0</td>\n",
              "      <td>10.0</td>\n",
              "    </tr>\n",
              "    <tr>\n",
              "      <th>77077</th>\n",
              "      <td>Sid Meier's Civilization V</td>\n",
              "      <td>550.0</td>\n",
              "      <td>9.0</td>\n",
              "    </tr>\n",
              "    <tr>\n",
              "      <th>77078</th>\n",
              "      <td>Total War SHOGUN 2</td>\n",
              "      <td>212.0</td>\n",
              "      <td>4.0</td>\n",
              "    </tr>\n",
              "    <tr>\n",
              "      <th>77079</th>\n",
              "      <td>Total War ROME II - Emperor Edition</td>\n",
              "      <td>198.0</td>\n",
              "      <td>3.0</td>\n",
              "    </tr>\n",
              "    <tr>\n",
              "      <th>77080</th>\n",
              "      <td>Dungeon Defenders</td>\n",
              "      <td>195.0</td>\n",
              "      <td>3.0</td>\n",
              "    </tr>\n",
              "    <tr>\n",
              "      <th>...</th>\n",
              "      <td>...</td>\n",
              "      <td>...</td>\n",
              "      <td>...</td>\n",
              "    </tr>\n",
              "    <tr>\n",
              "      <th>78146</th>\n",
              "      <td>Xenophage</td>\n",
              "      <td>0.0</td>\n",
              "      <td>1.0</td>\n",
              "    </tr>\n",
              "    <tr>\n",
              "      <th>78147</th>\n",
              "      <td>Xpand Rally Xtreme</td>\n",
              "      <td>0.0</td>\n",
              "      <td>1.0</td>\n",
              "    </tr>\n",
              "    <tr>\n",
              "      <th>78148</th>\n",
              "      <td>Zen Bound 2</td>\n",
              "      <td>0.0</td>\n",
              "      <td>1.0</td>\n",
              "    </tr>\n",
              "    <tr>\n",
              "      <th>78149</th>\n",
              "      <td>Zombie Driver HD Apocalypse Pack</td>\n",
              "      <td>0.0</td>\n",
              "      <td>1.0</td>\n",
              "    </tr>\n",
              "    <tr>\n",
              "      <th>78150</th>\n",
              "      <td>Zoo Park</td>\n",
              "      <td>0.0</td>\n",
              "      <td>1.0</td>\n",
              "    </tr>\n",
              "  </tbody>\n",
              "</table>\n",
              "<p>1075 rows × 3 columns</p>\n",
              "</div>"
            ],
            "text/plain": [
              "                                      Game  Played_hours  Ranking\n",
              "77076      Counter-Strike Global Offensive         663.0     10.0\n",
              "77077           Sid Meier's Civilization V         550.0      9.0\n",
              "77078                   Total War SHOGUN 2         212.0      4.0\n",
              "77079  Total War ROME II - Emperor Edition         198.0      3.0\n",
              "77080                    Dungeon Defenders         195.0      3.0\n",
              "...                                    ...           ...      ...\n",
              "78146                            Xenophage           0.0      1.0\n",
              "78147                   Xpand Rally Xtreme           0.0      1.0\n",
              "78148                          Zen Bound 2           0.0      1.0\n",
              "78149     Zombie Driver HD Apocalypse Pack           0.0      1.0\n",
              "78150                             Zoo Park           0.0      1.0\n",
              "\n",
              "[1075 rows x 3 columns]"
            ]
          },
          "metadata": {
            "tags": []
          },
          "execution_count": 67
        }
      ]
    },
    {
      "cell_type": "markdown",
      "metadata": {
        "id": "F6Zmv761SKPV",
        "colab_type": "text"
      },
      "source": [
        "###TOP 3 USER"
      ]
    },
    {
      "cell_type": "code",
      "metadata": {
        "id": "g6udA5qoz1Ga",
        "colab_type": "code",
        "outputId": "f756f70d-16bc-4866-95ac-6f5c56281ed0",
        "colab": {
          "base_uri": "https://localhost:8080/",
          "height": 267
        }
      },
      "source": [
        "isr3 = o.recommend(users=['33865373'])\n",
        "isr3"
      ],
      "execution_count": 68,
      "outputs": [
        {
          "output_type": "execute_result",
          "data": {
            "text/html": [
              "<div style=\"max-height:1000px;max-width:1500px;overflow:auto;\"><table frame=\"box\" rules=\"cols\">\n",
              "    <tr>\n",
              "        <th style=\"padding-left: 1em; padding-right: 1em; text-align: center\">UserID</th>\n",
              "        <th style=\"padding-left: 1em; padding-right: 1em; text-align: center\">Game</th>\n",
              "        <th style=\"padding-left: 1em; padding-right: 1em; text-align: center\">score</th>\n",
              "        <th style=\"padding-left: 1em; padding-right: 1em; text-align: center\">rank</th>\n",
              "    </tr>\n",
              "    <tr>\n",
              "        <td style=\"padding-left: 1em; padding-right: 1em; text-align: center; vertical-align: top\">33865373</td>\n",
              "        <td style=\"padding-left: 1em; padding-right: 1em; text-align: center; vertical-align: top\">GoD Factory Wingmen</td>\n",
              "        <td style=\"padding-left: 1em; padding-right: 1em; text-align: center; vertical-align: top\">0.021196801407435507</td>\n",
              "        <td style=\"padding-left: 1em; padding-right: 1em; text-align: center; vertical-align: top\">1</td>\n",
              "    </tr>\n",
              "    <tr>\n",
              "        <td style=\"padding-left: 1em; padding-right: 1em; text-align: center; vertical-align: top\">33865373</td>\n",
              "        <td style=\"padding-left: 1em; padding-right: 1em; text-align: center; vertical-align: top\">Guacamelee! Gold Edition</td>\n",
              "        <td style=\"padding-left: 1em; padding-right: 1em; text-align: center; vertical-align: top\">0.021057773112636253</td>\n",
              "        <td style=\"padding-left: 1em; padding-right: 1em; text-align: center; vertical-align: top\">2</td>\n",
              "    </tr>\n",
              "    <tr>\n",
              "        <td style=\"padding-left: 1em; padding-right: 1em; text-align: center; vertical-align: top\">33865373</td>\n",
              "        <td style=\"padding-left: 1em; padding-right: 1em; text-align: center; vertical-align: top\">The Swapper</td>\n",
              "        <td style=\"padding-left: 1em; padding-right: 1em; text-align: center; vertical-align: top\">0.019111334202215842</td>\n",
              "        <td style=\"padding-left: 1em; padding-right: 1em; text-align: center; vertical-align: top\">3</td>\n",
              "    </tr>\n",
              "    <tr>\n",
              "        <td style=\"padding-left: 1em; padding-right: 1em; text-align: center; vertical-align: top\">33865373</td>\n",
              "        <td style=\"padding-left: 1em; padding-right: 1em; text-align: center; vertical-align: top\">Titan Quest</td>\n",
              "        <td style=\"padding-left: 1em; padding-right: 1em; text-align: center; vertical-align: top\">0.019020690131433232</td>\n",
              "        <td style=\"padding-left: 1em; padding-right: 1em; text-align: center; vertical-align: top\">4</td>\n",
              "    </tr>\n",
              "    <tr>\n",
              "        <td style=\"padding-left: 1em; padding-right: 1em; text-align: center; vertical-align: top\">33865373</td>\n",
              "        <td style=\"padding-left: 1em; padding-right: 1em; text-align: center; vertical-align: top\">The Walking Dead</td>\n",
              "        <td style=\"padding-left: 1em; padding-right: 1em; text-align: center; vertical-align: top\">0.017936440011889664</td>\n",
              "        <td style=\"padding-left: 1em; padding-right: 1em; text-align: center; vertical-align: top\">5</td>\n",
              "    </tr>\n",
              "    <tr>\n",
              "        <td style=\"padding-left: 1em; padding-right: 1em; text-align: center; vertical-align: top\">33865373</td>\n",
              "        <td style=\"padding-left: 1em; padding-right: 1em; text-align: center; vertical-align: top\">The Witcher 2 Assassins<br>of Kings Enhanced Edi ...</td>\n",
              "        <td style=\"padding-left: 1em; padding-right: 1em; text-align: center; vertical-align: top\">0.01760121419564965</td>\n",
              "        <td style=\"padding-left: 1em; padding-right: 1em; text-align: center; vertical-align: top\">6</td>\n",
              "    </tr>\n",
              "    <tr>\n",
              "        <td style=\"padding-left: 1em; padding-right: 1em; text-align: center; vertical-align: top\">33865373</td>\n",
              "        <td style=\"padding-left: 1em; padding-right: 1em; text-align: center; vertical-align: top\">Gray Matter</td>\n",
              "        <td style=\"padding-left: 1em; padding-right: 1em; text-align: center; vertical-align: top\">0.017418147823245255</td>\n",
              "        <td style=\"padding-left: 1em; padding-right: 1em; text-align: center; vertical-align: top\">7</td>\n",
              "    </tr>\n",
              "    <tr>\n",
              "        <td style=\"padding-left: 1em; padding-right: 1em; text-align: center; vertical-align: top\">33865373</td>\n",
              "        <td style=\"padding-left: 1em; padding-right: 1em; text-align: center; vertical-align: top\">Orcs Must Die! 2</td>\n",
              "        <td style=\"padding-left: 1em; padding-right: 1em; text-align: center; vertical-align: top\">0.017022938688391262</td>\n",
              "        <td style=\"padding-left: 1em; padding-right: 1em; text-align: center; vertical-align: top\">8</td>\n",
              "    </tr>\n",
              "    <tr>\n",
              "        <td style=\"padding-left: 1em; padding-right: 1em; text-align: center; vertical-align: top\">33865373</td>\n",
              "        <td style=\"padding-left: 1em; padding-right: 1em; text-align: center; vertical-align: top\">Overlord Raising Hell</td>\n",
              "        <td style=\"padding-left: 1em; padding-right: 1em; text-align: center; vertical-align: top\">0.01663894052665258</td>\n",
              "        <td style=\"padding-left: 1em; padding-right: 1em; text-align: center; vertical-align: top\">9</td>\n",
              "    </tr>\n",
              "    <tr>\n",
              "        <td style=\"padding-left: 1em; padding-right: 1em; text-align: center; vertical-align: top\">33865373</td>\n",
              "        <td style=\"padding-left: 1em; padding-right: 1em; text-align: center; vertical-align: top\">Borderlands 2</td>\n",
              "        <td style=\"padding-left: 1em; padding-right: 1em; text-align: center; vertical-align: top\">0.015909244719239855</td>\n",
              "        <td style=\"padding-left: 1em; padding-right: 1em; text-align: center; vertical-align: top\">10</td>\n",
              "    </tr>\n",
              "</table>\n",
              "[10 rows x 4 columns]<br/>\n",
              "</div>"
            ],
            "text/plain": [
              "Columns:\n",
              "\tUserID\tint\n",
              "\tGame\tstr\n",
              "\tscore\tfloat\n",
              "\trank\tint\n",
              "\n",
              "Rows: 10\n",
              "\n",
              "Data:\n",
              "+----------+-------------------------------+----------------------+------+\n",
              "|  UserID  |              Game             |        score         | rank |\n",
              "+----------+-------------------------------+----------------------+------+\n",
              "| 33865373 |      GoD Factory Wingmen      | 0.021196801407435507 |  1   |\n",
              "| 33865373 |    Guacamelee! Gold Edition   | 0.021057773112636253 |  2   |\n",
              "| 33865373 |          The Swapper          | 0.019111334202215842 |  3   |\n",
              "| 33865373 |          Titan Quest          | 0.019020690131433232 |  4   |\n",
              "| 33865373 |        The Walking Dead       | 0.017936440011889664 |  5   |\n",
              "| 33865373 | The Witcher 2 Assassins of... | 0.01760121419564965  |  6   |\n",
              "| 33865373 |          Gray Matter          | 0.017418147823245255 |  7   |\n",
              "| 33865373 |        Orcs Must Die! 2       | 0.017022938688391262 |  8   |\n",
              "| 33865373 |     Overlord Raising Hell     | 0.01663894052665258  |  9   |\n",
              "| 33865373 |         Borderlands 2         | 0.015909244719239855 |  10  |\n",
              "+----------+-------------------------------+----------------------+------+\n",
              "[10 rows x 4 columns]"
            ]
          },
          "metadata": {
            "tags": []
          },
          "execution_count": 68
        }
      ]
    },
    {
      "cell_type": "markdown",
      "metadata": {
        "id": "DNCb5cvqRcV7",
        "colab_type": "text"
      },
      "source": [
        "###Creating a dataframe"
      ]
    },
    {
      "cell_type": "code",
      "metadata": {
        "id": "Kjr9mrvXD5_P",
        "colab_type": "code",
        "colab": {
          "base_uri": "https://localhost:8080/",
          "height": 363
        },
        "outputId": "1ac7b499-9bf1-4bf0-c43a-fa2edefd8535"
      },
      "source": [
        "itsim3 = pd.DataFrame(isr3)\n",
        "itsim3.drop([\"UserID\",\"rank\"],axis = 1, inplace = True)\n",
        "itsim3.rename(columns={'Game': 'Game_ISR', 'score': 'score_ISR'}, inplace=True)\n",
        "itsim3.head(10)"
      ],
      "execution_count": 69,
      "outputs": [
        {
          "output_type": "execute_result",
          "data": {
            "text/html": [
              "<div>\n",
              "<style scoped>\n",
              "    .dataframe tbody tr th:only-of-type {\n",
              "        vertical-align: middle;\n",
              "    }\n",
              "\n",
              "    .dataframe tbody tr th {\n",
              "        vertical-align: top;\n",
              "    }\n",
              "\n",
              "    .dataframe thead th {\n",
              "        text-align: right;\n",
              "    }\n",
              "</style>\n",
              "<table border=\"1\" class=\"dataframe\">\n",
              "  <thead>\n",
              "    <tr style=\"text-align: right;\">\n",
              "      <th></th>\n",
              "      <th>Game_ISR</th>\n",
              "      <th>score_ISR</th>\n",
              "    </tr>\n",
              "  </thead>\n",
              "  <tbody>\n",
              "    <tr>\n",
              "      <th>0</th>\n",
              "      <td>GoD Factory Wingmen</td>\n",
              "      <td>0.021197</td>\n",
              "    </tr>\n",
              "    <tr>\n",
              "      <th>1</th>\n",
              "      <td>Guacamelee! Gold Edition</td>\n",
              "      <td>0.021058</td>\n",
              "    </tr>\n",
              "    <tr>\n",
              "      <th>2</th>\n",
              "      <td>The Swapper</td>\n",
              "      <td>0.019111</td>\n",
              "    </tr>\n",
              "    <tr>\n",
              "      <th>3</th>\n",
              "      <td>Titan Quest</td>\n",
              "      <td>0.019021</td>\n",
              "    </tr>\n",
              "    <tr>\n",
              "      <th>4</th>\n",
              "      <td>The Walking Dead</td>\n",
              "      <td>0.017936</td>\n",
              "    </tr>\n",
              "    <tr>\n",
              "      <th>5</th>\n",
              "      <td>The Witcher 2 Assassins of Kings Enhanced Edition</td>\n",
              "      <td>0.017601</td>\n",
              "    </tr>\n",
              "    <tr>\n",
              "      <th>6</th>\n",
              "      <td>Gray Matter</td>\n",
              "      <td>0.017418</td>\n",
              "    </tr>\n",
              "    <tr>\n",
              "      <th>7</th>\n",
              "      <td>Orcs Must Die! 2</td>\n",
              "      <td>0.017023</td>\n",
              "    </tr>\n",
              "    <tr>\n",
              "      <th>8</th>\n",
              "      <td>Overlord Raising Hell</td>\n",
              "      <td>0.016639</td>\n",
              "    </tr>\n",
              "    <tr>\n",
              "      <th>9</th>\n",
              "      <td>Borderlands 2</td>\n",
              "      <td>0.015909</td>\n",
              "    </tr>\n",
              "  </tbody>\n",
              "</table>\n",
              "</div>"
            ],
            "text/plain": [
              "                                            Game_ISR  score_ISR\n",
              "0                                GoD Factory Wingmen   0.021197\n",
              "1                           Guacamelee! Gold Edition   0.021058\n",
              "2                                        The Swapper   0.019111\n",
              "3                                        Titan Quest   0.019021\n",
              "4                                   The Walking Dead   0.017936\n",
              "5  The Witcher 2 Assassins of Kings Enhanced Edition   0.017601\n",
              "6                                        Gray Matter   0.017418\n",
              "7                                   Orcs Must Die! 2   0.017023\n",
              "8                              Overlord Raising Hell   0.016639\n",
              "9                                      Borderlands 2   0.015909"
            ]
          },
          "metadata": {
            "tags": []
          },
          "execution_count": 69
        }
      ]
    },
    {
      "cell_type": "code",
      "metadata": {
        "id": "-0EOXOs1z1Ep",
        "colab_type": "code",
        "outputId": "94916151-feb8-489c-d6b7-9c782a8a8b92",
        "colab": {
          "base_uri": "https://localhost:8080/",
          "height": 424
        }
      },
      "source": [
        "clean_df.loc[clean_df[\"UserID\"] == 33865373,[\"Game\",\"Played_hours\",\"Ranking\"]]"
      ],
      "execution_count": 70,
      "outputs": [
        {
          "output_type": "execute_result",
          "data": {
            "text/html": [
              "<div>\n",
              "<style scoped>\n",
              "    .dataframe tbody tr th:only-of-type {\n",
              "        vertical-align: middle;\n",
              "    }\n",
              "\n",
              "    .dataframe tbody tr th {\n",
              "        vertical-align: top;\n",
              "    }\n",
              "\n",
              "    .dataframe thead th {\n",
              "        text-align: right;\n",
              "    }\n",
              "</style>\n",
              "<table border=\"1\" class=\"dataframe\">\n",
              "  <thead>\n",
              "    <tr style=\"text-align: right;\">\n",
              "      <th></th>\n",
              "      <th>Game</th>\n",
              "      <th>Played_hours</th>\n",
              "      <th>Ranking</th>\n",
              "    </tr>\n",
              "  </thead>\n",
              "  <tbody>\n",
              "    <tr>\n",
              "      <th>47739</th>\n",
              "      <td>The Elder Scrolls V Skyrim</td>\n",
              "      <td>345.0</td>\n",
              "      <td>10.0</td>\n",
              "    </tr>\n",
              "    <tr>\n",
              "      <th>47740</th>\n",
              "      <td>The Elder Scrolls IV Oblivion</td>\n",
              "      <td>239.0</td>\n",
              "      <td>7.0</td>\n",
              "    </tr>\n",
              "    <tr>\n",
              "      <th>47741</th>\n",
              "      <td>Fallout New Vegas</td>\n",
              "      <td>198.0</td>\n",
              "      <td>6.0</td>\n",
              "    </tr>\n",
              "    <tr>\n",
              "      <th>47742</th>\n",
              "      <td>Sid Meier's Civilization IV</td>\n",
              "      <td>135.0</td>\n",
              "      <td>4.0</td>\n",
              "    </tr>\n",
              "    <tr>\n",
              "      <th>47743</th>\n",
              "      <td>Sid Meier's Civilization IV</td>\n",
              "      <td>2.0</td>\n",
              "      <td>1.0</td>\n",
              "    </tr>\n",
              "    <tr>\n",
              "      <th>...</th>\n",
              "      <td>...</td>\n",
              "      <td>...</td>\n",
              "      <td>...</td>\n",
              "    </tr>\n",
              "    <tr>\n",
              "      <th>48519</th>\n",
              "      <td>Xenophage</td>\n",
              "      <td>0.0</td>\n",
              "      <td>1.0</td>\n",
              "    </tr>\n",
              "    <tr>\n",
              "      <th>48520</th>\n",
              "      <td>Xotic</td>\n",
              "      <td>0.0</td>\n",
              "      <td>1.0</td>\n",
              "    </tr>\n",
              "    <tr>\n",
              "      <th>48521</th>\n",
              "      <td>Zafehouse Diaries</td>\n",
              "      <td>0.0</td>\n",
              "      <td>1.0</td>\n",
              "    </tr>\n",
              "    <tr>\n",
              "      <th>48522</th>\n",
              "      <td>Zen Bound 2</td>\n",
              "      <td>0.0</td>\n",
              "      <td>1.0</td>\n",
              "    </tr>\n",
              "    <tr>\n",
              "      <th>48523</th>\n",
              "      <td>Zombie Driver</td>\n",
              "      <td>0.0</td>\n",
              "      <td>1.0</td>\n",
              "    </tr>\n",
              "  </tbody>\n",
              "</table>\n",
              "<p>785 rows × 3 columns</p>\n",
              "</div>"
            ],
            "text/plain": [
              "                                 Game  Played_hours  Ranking\n",
              "47739      The Elder Scrolls V Skyrim         345.0     10.0\n",
              "47740  The Elder Scrolls IV Oblivion          239.0      7.0\n",
              "47741               Fallout New Vegas         198.0      6.0\n",
              "47742     Sid Meier's Civilization IV         135.0      4.0\n",
              "47743     Sid Meier's Civilization IV           2.0      1.0\n",
              "...                               ...           ...      ...\n",
              "48519                       Xenophage           0.0      1.0\n",
              "48520                           Xotic           0.0      1.0\n",
              "48521               Zafehouse Diaries           0.0      1.0\n",
              "48522                     Zen Bound 2           0.0      1.0\n",
              "48523                   Zombie Driver           0.0      1.0\n",
              "\n",
              "[785 rows x 3 columns]"
            ]
          },
          "metadata": {
            "tags": []
          },
          "execution_count": 70
        }
      ]
    },
    {
      "cell_type": "markdown",
      "metadata": {
        "id": "DBu7wP2rSGz0",
        "colab_type": "text"
      },
      "source": [
        "###TOP 4 USER"
      ]
    },
    {
      "cell_type": "code",
      "metadata": {
        "id": "u-4yPf25zk1H",
        "colab_type": "code",
        "outputId": "2f279448-9d6e-4196-d17f-0437731fe864",
        "colab": {
          "base_uri": "https://localhost:8080/",
          "height": 267
        }
      },
      "source": [
        "isr4 = o.recommend(users=['30246419'])\n",
        "isr4"
      ],
      "execution_count": 71,
      "outputs": [
        {
          "output_type": "execute_result",
          "data": {
            "text/html": [
              "<div style=\"max-height:1000px;max-width:1500px;overflow:auto;\"><table frame=\"box\" rules=\"cols\">\n",
              "    <tr>\n",
              "        <th style=\"padding-left: 1em; padding-right: 1em; text-align: center\">UserID</th>\n",
              "        <th style=\"padding-left: 1em; padding-right: 1em; text-align: center\">Game</th>\n",
              "        <th style=\"padding-left: 1em; padding-right: 1em; text-align: center\">score</th>\n",
              "        <th style=\"padding-left: 1em; padding-right: 1em; text-align: center\">rank</th>\n",
              "    </tr>\n",
              "    <tr>\n",
              "        <td style=\"padding-left: 1em; padding-right: 1em; text-align: center; vertical-align: top\">30246419</td>\n",
              "        <td style=\"padding-left: 1em; padding-right: 1em; text-align: center; vertical-align: top\">Sine Mora</td>\n",
              "        <td style=\"padding-left: 1em; padding-right: 1em; text-align: center; vertical-align: top\">0.023019409069744808</td>\n",
              "        <td style=\"padding-left: 1em; padding-right: 1em; text-align: center; vertical-align: top\">1</td>\n",
              "    </tr>\n",
              "    <tr>\n",
              "        <td style=\"padding-left: 1em; padding-right: 1em; text-align: center; vertical-align: top\">30246419</td>\n",
              "        <td style=\"padding-left: 1em; padding-right: 1em; text-align: center; vertical-align: top\">Dishonored</td>\n",
              "        <td style=\"padding-left: 1em; padding-right: 1em; text-align: center; vertical-align: top\">0.02031866167530869</td>\n",
              "        <td style=\"padding-left: 1em; padding-right: 1em; text-align: center; vertical-align: top\">2</td>\n",
              "    </tr>\n",
              "    <tr>\n",
              "        <td style=\"padding-left: 1em; padding-right: 1em; text-align: center; vertical-align: top\">30246419</td>\n",
              "        <td style=\"padding-left: 1em; padding-right: 1em; text-align: center; vertical-align: top\">Dear Esther</td>\n",
              "        <td style=\"padding-left: 1em; padding-right: 1em; text-align: center; vertical-align: top\">0.02001262512131642</td>\n",
              "        <td style=\"padding-left: 1em; padding-right: 1em; text-align: center; vertical-align: top\">3</td>\n",
              "    </tr>\n",
              "    <tr>\n",
              "        <td style=\"padding-left: 1em; padding-right: 1em; text-align: center; vertical-align: top\">30246419</td>\n",
              "        <td style=\"padding-left: 1em; padding-right: 1em; text-align: center; vertical-align: top\">BioShock Infinite</td>\n",
              "        <td style=\"padding-left: 1em; padding-right: 1em; text-align: center; vertical-align: top\">0.019627176804347786</td>\n",
              "        <td style=\"padding-left: 1em; padding-right: 1em; text-align: center; vertical-align: top\">4</td>\n",
              "    </tr>\n",
              "    <tr>\n",
              "        <td style=\"padding-left: 1em; padding-right: 1em; text-align: center; vertical-align: top\">30246419</td>\n",
              "        <td style=\"padding-left: 1em; padding-right: 1em; text-align: center; vertical-align: top\">Intrusion 2</td>\n",
              "        <td style=\"padding-left: 1em; padding-right: 1em; text-align: center; vertical-align: top\">0.01695912825103177</td>\n",
              "        <td style=\"padding-left: 1em; padding-right: 1em; text-align: center; vertical-align: top\">5</td>\n",
              "    </tr>\n",
              "    <tr>\n",
              "        <td style=\"padding-left: 1em; padding-right: 1em; text-align: center; vertical-align: top\">30246419</td>\n",
              "        <td style=\"padding-left: 1em; padding-right: 1em; text-align: center; vertical-align: top\">Osmos</td>\n",
              "        <td style=\"padding-left: 1em; padding-right: 1em; text-align: center; vertical-align: top\">0.01676778493348475</td>\n",
              "        <td style=\"padding-left: 1em; padding-right: 1em; text-align: center; vertical-align: top\">6</td>\n",
              "    </tr>\n",
              "    <tr>\n",
              "        <td style=\"padding-left: 1em; padding-right: 1em; text-align: center; vertical-align: top\">30246419</td>\n",
              "        <td style=\"padding-left: 1em; padding-right: 1em; text-align: center; vertical-align: top\">Gratuitous Space Battles</td>\n",
              "        <td style=\"padding-left: 1em; padding-right: 1em; text-align: center; vertical-align: top\">0.01669403985240871</td>\n",
              "        <td style=\"padding-left: 1em; padding-right: 1em; text-align: center; vertical-align: top\">7</td>\n",
              "    </tr>\n",
              "    <tr>\n",
              "        <td style=\"padding-left: 1em; padding-right: 1em; text-align: center; vertical-align: top\">30246419</td>\n",
              "        <td style=\"padding-left: 1em; padding-right: 1em; text-align: center; vertical-align: top\">Red Faction Guerrilla<br>Steam Edition ...</td>\n",
              "        <td style=\"padding-left: 1em; padding-right: 1em; text-align: center; vertical-align: top\">0.016295533170813156</td>\n",
              "        <td style=\"padding-left: 1em; padding-right: 1em; text-align: center; vertical-align: top\">8</td>\n",
              "    </tr>\n",
              "    <tr>\n",
              "        <td style=\"padding-left: 1em; padding-right: 1em; text-align: center; vertical-align: top\">30246419</td>\n",
              "        <td style=\"padding-left: 1em; padding-right: 1em; text-align: center; vertical-align: top\">Proteus</td>\n",
              "        <td style=\"padding-left: 1em; padding-right: 1em; text-align: center; vertical-align: top\">0.016212027534665798</td>\n",
              "        <td style=\"padding-left: 1em; padding-right: 1em; text-align: center; vertical-align: top\">9</td>\n",
              "    </tr>\n",
              "    <tr>\n",
              "        <td style=\"padding-left: 1em; padding-right: 1em; text-align: center; vertical-align: top\">30246419</td>\n",
              "        <td style=\"padding-left: 1em; padding-right: 1em; text-align: center; vertical-align: top\">Thomas Was Alone</td>\n",
              "        <td style=\"padding-left: 1em; padding-right: 1em; text-align: center; vertical-align: top\">0.015154094642644186</td>\n",
              "        <td style=\"padding-left: 1em; padding-right: 1em; text-align: center; vertical-align: top\">10</td>\n",
              "    </tr>\n",
              "</table>\n",
              "[10 rows x 4 columns]<br/>\n",
              "</div>"
            ],
            "text/plain": [
              "Columns:\n",
              "\tUserID\tint\n",
              "\tGame\tstr\n",
              "\tscore\tfloat\n",
              "\trank\tint\n",
              "\n",
              "Rows: 10\n",
              "\n",
              "Data:\n",
              "+----------+-------------------------------+----------------------+------+\n",
              "|  UserID  |              Game             |        score         | rank |\n",
              "+----------+-------------------------------+----------------------+------+\n",
              "| 30246419 |           Sine Mora           | 0.023019409069744808 |  1   |\n",
              "| 30246419 |           Dishonored          | 0.02031866167530869  |  2   |\n",
              "| 30246419 |          Dear Esther          | 0.02001262512131642  |  3   |\n",
              "| 30246419 |       BioShock Infinite       | 0.019627176804347786 |  4   |\n",
              "| 30246419 |          Intrusion 2          | 0.01695912825103177  |  5   |\n",
              "| 30246419 |             Osmos             | 0.01676778493348475  |  6   |\n",
              "| 30246419 |    Gratuitous Space Battles   | 0.01669403985240871  |  7   |\n",
              "| 30246419 | Red Faction Guerrilla Stea... | 0.016295533170813156 |  8   |\n",
              "| 30246419 |            Proteus            | 0.016212027534665798 |  9   |\n",
              "| 30246419 |        Thomas Was Alone       | 0.015154094642644186 |  10  |\n",
              "+----------+-------------------------------+----------------------+------+\n",
              "[10 rows x 4 columns]"
            ]
          },
          "metadata": {
            "tags": []
          },
          "execution_count": 71
        }
      ]
    },
    {
      "cell_type": "markdown",
      "metadata": {
        "id": "p-GQH-77ReZe",
        "colab_type": "text"
      },
      "source": [
        "###Creating a dataframe"
      ]
    },
    {
      "cell_type": "code",
      "metadata": {
        "id": "MixzoDuyECCJ",
        "colab_type": "code",
        "colab": {
          "base_uri": "https://localhost:8080/",
          "height": 363
        },
        "outputId": "03df1ab4-1ca1-47f5-c5fc-3e2a98fe4c1a"
      },
      "source": [
        "itsim4 = pd.DataFrame(isr4)\n",
        "itsim4.drop([\"UserID\",\"rank\"],axis = 1, inplace = True)\n",
        "itsim4.rename(columns={'Game': 'Game_ISR', 'score': 'score_ISR'}, inplace=True)\n",
        "itsim4.head(10)"
      ],
      "execution_count": 72,
      "outputs": [
        {
          "output_type": "execute_result",
          "data": {
            "text/html": [
              "<div>\n",
              "<style scoped>\n",
              "    .dataframe tbody tr th:only-of-type {\n",
              "        vertical-align: middle;\n",
              "    }\n",
              "\n",
              "    .dataframe tbody tr th {\n",
              "        vertical-align: top;\n",
              "    }\n",
              "\n",
              "    .dataframe thead th {\n",
              "        text-align: right;\n",
              "    }\n",
              "</style>\n",
              "<table border=\"1\" class=\"dataframe\">\n",
              "  <thead>\n",
              "    <tr style=\"text-align: right;\">\n",
              "      <th></th>\n",
              "      <th>Game_ISR</th>\n",
              "      <th>score_ISR</th>\n",
              "    </tr>\n",
              "  </thead>\n",
              "  <tbody>\n",
              "    <tr>\n",
              "      <th>0</th>\n",
              "      <td>Sine Mora</td>\n",
              "      <td>0.023019</td>\n",
              "    </tr>\n",
              "    <tr>\n",
              "      <th>1</th>\n",
              "      <td>Dishonored</td>\n",
              "      <td>0.020319</td>\n",
              "    </tr>\n",
              "    <tr>\n",
              "      <th>2</th>\n",
              "      <td>Dear Esther</td>\n",
              "      <td>0.020013</td>\n",
              "    </tr>\n",
              "    <tr>\n",
              "      <th>3</th>\n",
              "      <td>BioShock Infinite</td>\n",
              "      <td>0.019627</td>\n",
              "    </tr>\n",
              "    <tr>\n",
              "      <th>4</th>\n",
              "      <td>Intrusion 2</td>\n",
              "      <td>0.016959</td>\n",
              "    </tr>\n",
              "    <tr>\n",
              "      <th>5</th>\n",
              "      <td>Osmos</td>\n",
              "      <td>0.016768</td>\n",
              "    </tr>\n",
              "    <tr>\n",
              "      <th>6</th>\n",
              "      <td>Gratuitous Space Battles</td>\n",
              "      <td>0.016694</td>\n",
              "    </tr>\n",
              "    <tr>\n",
              "      <th>7</th>\n",
              "      <td>Red Faction Guerrilla Steam Edition</td>\n",
              "      <td>0.016296</td>\n",
              "    </tr>\n",
              "    <tr>\n",
              "      <th>8</th>\n",
              "      <td>Proteus</td>\n",
              "      <td>0.016212</td>\n",
              "    </tr>\n",
              "    <tr>\n",
              "      <th>9</th>\n",
              "      <td>Thomas Was Alone</td>\n",
              "      <td>0.015154</td>\n",
              "    </tr>\n",
              "  </tbody>\n",
              "</table>\n",
              "</div>"
            ],
            "text/plain": [
              "                              Game_ISR  score_ISR\n",
              "0                            Sine Mora   0.023019\n",
              "1                           Dishonored   0.020319\n",
              "2                          Dear Esther   0.020013\n",
              "3                    BioShock Infinite   0.019627\n",
              "4                          Intrusion 2   0.016959\n",
              "5                                Osmos   0.016768\n",
              "6             Gratuitous Space Battles   0.016694\n",
              "7  Red Faction Guerrilla Steam Edition   0.016296\n",
              "8                              Proteus   0.016212\n",
              "9                     Thomas Was Alone   0.015154"
            ]
          },
          "metadata": {
            "tags": []
          },
          "execution_count": 72
        }
      ]
    },
    {
      "cell_type": "code",
      "metadata": {
        "id": "2Ra2Rl1Dzk4p",
        "colab_type": "code",
        "outputId": "160798dc-794e-4842-9310-031f3778102c",
        "colab": {
          "base_uri": "https://localhost:8080/",
          "height": 424
        }
      },
      "source": [
        "clean_df.loc[clean_df[\"UserID\"] == 30246419,[\"Game\",\"Played_hours\",\"Ranking\"]]"
      ],
      "execution_count": 73,
      "outputs": [
        {
          "output_type": "execute_result",
          "data": {
            "text/html": [
              "<div>\n",
              "<style scoped>\n",
              "    .dataframe tbody tr th:only-of-type {\n",
              "        vertical-align: middle;\n",
              "    }\n",
              "\n",
              "    .dataframe tbody tr th {\n",
              "        vertical-align: top;\n",
              "    }\n",
              "\n",
              "    .dataframe thead th {\n",
              "        text-align: right;\n",
              "    }\n",
              "</style>\n",
              "<table border=\"1\" class=\"dataframe\">\n",
              "  <thead>\n",
              "    <tr style=\"text-align: right;\">\n",
              "      <th></th>\n",
              "      <th>Game</th>\n",
              "      <th>Played_hours</th>\n",
              "      <th>Ranking</th>\n",
              "    </tr>\n",
              "  </thead>\n",
              "  <tbody>\n",
              "    <tr>\n",
              "      <th>62101</th>\n",
              "      <td>The Witcher 3 Wild Hunt</td>\n",
              "      <td>99.0</td>\n",
              "      <td>10.0</td>\n",
              "    </tr>\n",
              "    <tr>\n",
              "      <th>62102</th>\n",
              "      <td>Fallout 4</td>\n",
              "      <td>97.0</td>\n",
              "      <td>10.0</td>\n",
              "    </tr>\n",
              "    <tr>\n",
              "      <th>62103</th>\n",
              "      <td>Two Worlds II</td>\n",
              "      <td>61.0</td>\n",
              "      <td>7.0</td>\n",
              "    </tr>\n",
              "    <tr>\n",
              "      <th>62104</th>\n",
              "      <td>Test Drive Unlimited 2</td>\n",
              "      <td>57.0</td>\n",
              "      <td>6.0</td>\n",
              "    </tr>\n",
              "    <tr>\n",
              "      <th>62105</th>\n",
              "      <td>Middle-earth Shadow of Mordor</td>\n",
              "      <td>53.0</td>\n",
              "      <td>6.0</td>\n",
              "    </tr>\n",
              "    <tr>\n",
              "      <th>...</th>\n",
              "      <td>...</td>\n",
              "      <td>...</td>\n",
              "      <td>...</td>\n",
              "    </tr>\n",
              "    <tr>\n",
              "      <th>62862</th>\n",
              "      <td>Yury</td>\n",
              "      <td>0.0</td>\n",
              "      <td>1.0</td>\n",
              "    </tr>\n",
              "    <tr>\n",
              "      <th>62863</th>\n",
              "      <td>Z</td>\n",
              "      <td>0.0</td>\n",
              "      <td>1.0</td>\n",
              "    </tr>\n",
              "    <tr>\n",
              "      <th>62864</th>\n",
              "      <td>Zafehouse Diaries</td>\n",
              "      <td>0.0</td>\n",
              "      <td>1.0</td>\n",
              "    </tr>\n",
              "    <tr>\n",
              "      <th>62865</th>\n",
              "      <td>Zeno Clash 2</td>\n",
              "      <td>0.0</td>\n",
              "      <td>1.0</td>\n",
              "    </tr>\n",
              "    <tr>\n",
              "      <th>62866</th>\n",
              "      <td>Zooloretto</td>\n",
              "      <td>0.0</td>\n",
              "      <td>1.0</td>\n",
              "    </tr>\n",
              "  </tbody>\n",
              "</table>\n",
              "<p>766 rows × 3 columns</p>\n",
              "</div>"
            ],
            "text/plain": [
              "                                Game  Played_hours  Ranking\n",
              "62101        The Witcher 3 Wild Hunt          99.0     10.0\n",
              "62102                      Fallout 4          97.0     10.0\n",
              "62103                  Two Worlds II          61.0      7.0\n",
              "62104         Test Drive Unlimited 2          57.0      6.0\n",
              "62105  Middle-earth Shadow of Mordor          53.0      6.0\n",
              "...                              ...           ...      ...\n",
              "62862                           Yury           0.0      1.0\n",
              "62863                              Z           0.0      1.0\n",
              "62864              Zafehouse Diaries           0.0      1.0\n",
              "62865                   Zeno Clash 2           0.0      1.0\n",
              "62866                     Zooloretto           0.0      1.0\n",
              "\n",
              "[766 rows x 3 columns]"
            ]
          },
          "metadata": {
            "tags": []
          },
          "execution_count": 73
        }
      ]
    },
    {
      "cell_type": "markdown",
      "metadata": {
        "id": "Vb6_aVmhR7-z",
        "colab_type": "text"
      },
      "source": [
        "###TOP 5 USER"
      ]
    },
    {
      "cell_type": "code",
      "metadata": {
        "id": "TvMMOUUszky8",
        "colab_type": "code",
        "outputId": "cd98e69c-9240-4779-d7f3-13a5924b0bd0",
        "colab": {
          "base_uri": "https://localhost:8080/",
          "height": 249
        }
      },
      "source": [
        "isr5 = o.recommend(users=['58345543'])\n",
        "isr5"
      ],
      "execution_count": 74,
      "outputs": [
        {
          "output_type": "execute_result",
          "data": {
            "text/html": [
              "<div style=\"max-height:1000px;max-width:1500px;overflow:auto;\"><table frame=\"box\" rules=\"cols\">\n",
              "    <tr>\n",
              "        <th style=\"padding-left: 1em; padding-right: 1em; text-align: center\">UserID</th>\n",
              "        <th style=\"padding-left: 1em; padding-right: 1em; text-align: center\">Game</th>\n",
              "        <th style=\"padding-left: 1em; padding-right: 1em; text-align: center\">score</th>\n",
              "        <th style=\"padding-left: 1em; padding-right: 1em; text-align: center\">rank</th>\n",
              "    </tr>\n",
              "    <tr>\n",
              "        <td style=\"padding-left: 1em; padding-right: 1em; text-align: center; vertical-align: top\">58345543</td>\n",
              "        <td style=\"padding-left: 1em; padding-right: 1em; text-align: center; vertical-align: top\">Combat Arms</td>\n",
              "        <td style=\"padding-left: 1em; padding-right: 1em; text-align: center; vertical-align: top\">0.02556089524392251</td>\n",
              "        <td style=\"padding-left: 1em; padding-right: 1em; text-align: center; vertical-align: top\">1</td>\n",
              "    </tr>\n",
              "    <tr>\n",
              "        <td style=\"padding-left: 1em; padding-right: 1em; text-align: center; vertical-align: top\">58345543</td>\n",
              "        <td style=\"padding-left: 1em; padding-right: 1em; text-align: center; vertical-align: top\">Dragon Nest Europe</td>\n",
              "        <td style=\"padding-left: 1em; padding-right: 1em; text-align: center; vertical-align: top\">0.02290467644954945</td>\n",
              "        <td style=\"padding-left: 1em; padding-right: 1em; text-align: center; vertical-align: top\">2</td>\n",
              "    </tr>\n",
              "    <tr>\n",
              "        <td style=\"padding-left: 1em; padding-right: 1em; text-align: center; vertical-align: top\">58345543</td>\n",
              "        <td style=\"padding-left: 1em; padding-right: 1em; text-align: center; vertical-align: top\">Global Agenda</td>\n",
              "        <td style=\"padding-left: 1em; padding-right: 1em; text-align: center; vertical-align: top\">0.02009778230397909</td>\n",
              "        <td style=\"padding-left: 1em; padding-right: 1em; text-align: center; vertical-align: top\">3</td>\n",
              "    </tr>\n",
              "    <tr>\n",
              "        <td style=\"padding-left: 1em; padding-right: 1em; text-align: center; vertical-align: top\">58345543</td>\n",
              "        <td style=\"padding-left: 1em; padding-right: 1em; text-align: center; vertical-align: top\">Dear Esther</td>\n",
              "        <td style=\"padding-left: 1em; padding-right: 1em; text-align: center; vertical-align: top\">0.015767073130106425</td>\n",
              "        <td style=\"padding-left: 1em; padding-right: 1em; text-align: center; vertical-align: top\">4</td>\n",
              "    </tr>\n",
              "    <tr>\n",
              "        <td style=\"padding-left: 1em; padding-right: 1em; text-align: center; vertical-align: top\">58345543</td>\n",
              "        <td style=\"padding-left: 1em; padding-right: 1em; text-align: center; vertical-align: top\">Frozen Synapse</td>\n",
              "        <td style=\"padding-left: 1em; padding-right: 1em; text-align: center; vertical-align: top\">0.0157638413233084</td>\n",
              "        <td style=\"padding-left: 1em; padding-right: 1em; text-align: center; vertical-align: top\">5</td>\n",
              "    </tr>\n",
              "    <tr>\n",
              "        <td style=\"padding-left: 1em; padding-right: 1em; text-align: center; vertical-align: top\">58345543</td>\n",
              "        <td style=\"padding-left: 1em; padding-right: 1em; text-align: center; vertical-align: top\">Mark of the Ninja</td>\n",
              "        <td style=\"padding-left: 1em; padding-right: 1em; text-align: center; vertical-align: top\">0.015663843165646802</td>\n",
              "        <td style=\"padding-left: 1em; padding-right: 1em; text-align: center; vertical-align: top\">6</td>\n",
              "    </tr>\n",
              "    <tr>\n",
              "        <td style=\"padding-left: 1em; padding-right: 1em; text-align: center; vertical-align: top\">58345543</td>\n",
              "        <td style=\"padding-left: 1em; padding-right: 1em; text-align: center; vertical-align: top\">Revenge of the Titans</td>\n",
              "        <td style=\"padding-left: 1em; padding-right: 1em; text-align: center; vertical-align: top\">0.015100526111619966</td>\n",
              "        <td style=\"padding-left: 1em; padding-right: 1em; text-align: center; vertical-align: top\">7</td>\n",
              "    </tr>\n",
              "    <tr>\n",
              "        <td style=\"padding-left: 1em; padding-right: 1em; text-align: center; vertical-align: top\">58345543</td>\n",
              "        <td style=\"padding-left: 1em; padding-right: 1em; text-align: center; vertical-align: top\">Dishonored</td>\n",
              "        <td style=\"padding-left: 1em; padding-right: 1em; text-align: center; vertical-align: top\">0.01461870391089637</td>\n",
              "        <td style=\"padding-left: 1em; padding-right: 1em; text-align: center; vertical-align: top\">8</td>\n",
              "    </tr>\n",
              "    <tr>\n",
              "        <td style=\"padding-left: 1em; padding-right: 1em; text-align: center; vertical-align: top\">58345543</td>\n",
              "        <td style=\"padding-left: 1em; padding-right: 1em; text-align: center; vertical-align: top\">FTL Faster Than Light</td>\n",
              "        <td style=\"padding-left: 1em; padding-right: 1em; text-align: center; vertical-align: top\">0.014549173302836605</td>\n",
              "        <td style=\"padding-left: 1em; padding-right: 1em; text-align: center; vertical-align: top\">9</td>\n",
              "    </tr>\n",
              "    <tr>\n",
              "        <td style=\"padding-left: 1em; padding-right: 1em; text-align: center; vertical-align: top\">58345543</td>\n",
              "        <td style=\"padding-left: 1em; padding-right: 1em; text-align: center; vertical-align: top\">Batman Arkham City GOTY</td>\n",
              "        <td style=\"padding-left: 1em; padding-right: 1em; text-align: center; vertical-align: top\">0.014514459235532148</td>\n",
              "        <td style=\"padding-left: 1em; padding-right: 1em; text-align: center; vertical-align: top\">10</td>\n",
              "    </tr>\n",
              "</table>\n",
              "[10 rows x 4 columns]<br/>\n",
              "</div>"
            ],
            "text/plain": [
              "Columns:\n",
              "\tUserID\tint\n",
              "\tGame\tstr\n",
              "\tscore\tfloat\n",
              "\trank\tint\n",
              "\n",
              "Rows: 10\n",
              "\n",
              "Data:\n",
              "+----------+-------------------------+----------------------+------+\n",
              "|  UserID  |           Game          |        score         | rank |\n",
              "+----------+-------------------------+----------------------+------+\n",
              "| 58345543 |       Combat Arms       | 0.02556089524392251  |  1   |\n",
              "| 58345543 |    Dragon Nest Europe   | 0.02290467644954945  |  2   |\n",
              "| 58345543 |      Global Agenda      | 0.02009778230397909  |  3   |\n",
              "| 58345543 |       Dear Esther       | 0.015767073130106425 |  4   |\n",
              "| 58345543 |      Frozen Synapse     |  0.0157638413233084  |  5   |\n",
              "| 58345543 |    Mark of the Ninja    | 0.015663843165646802 |  6   |\n",
              "| 58345543 |  Revenge of the Titans  | 0.015100526111619966 |  7   |\n",
              "| 58345543 |        Dishonored       | 0.01461870391089637  |  8   |\n",
              "| 58345543 |  FTL Faster Than Light  | 0.014549173302836605 |  9   |\n",
              "| 58345543 | Batman Arkham City GOTY | 0.014514459235532148 |  10  |\n",
              "+----------+-------------------------+----------------------+------+\n",
              "[10 rows x 4 columns]"
            ]
          },
          "metadata": {
            "tags": []
          },
          "execution_count": 74
        }
      ]
    },
    {
      "cell_type": "markdown",
      "metadata": {
        "id": "IMnXMYjCRf9U",
        "colab_type": "text"
      },
      "source": [
        "###Creating a dataframe"
      ]
    },
    {
      "cell_type": "code",
      "metadata": {
        "id": "5qKTdd53EJWS",
        "colab_type": "code",
        "colab": {
          "base_uri": "https://localhost:8080/",
          "height": 363
        },
        "outputId": "4a102ccf-9ecd-4b55-88fb-b486edf52b55"
      },
      "source": [
        "itsim5 = pd.DataFrame(isr5)\n",
        "itsim5.drop([\"UserID\",\"rank\"],axis = 1, inplace = True)\n",
        "itsim5.rename(columns={'Game': 'Game_ISR', 'score': 'score_ISR'},inplace = True)\n",
        "itsim5.head(10)"
      ],
      "execution_count": 75,
      "outputs": [
        {
          "output_type": "execute_result",
          "data": {
            "text/html": [
              "<div>\n",
              "<style scoped>\n",
              "    .dataframe tbody tr th:only-of-type {\n",
              "        vertical-align: middle;\n",
              "    }\n",
              "\n",
              "    .dataframe tbody tr th {\n",
              "        vertical-align: top;\n",
              "    }\n",
              "\n",
              "    .dataframe thead th {\n",
              "        text-align: right;\n",
              "    }\n",
              "</style>\n",
              "<table border=\"1\" class=\"dataframe\">\n",
              "  <thead>\n",
              "    <tr style=\"text-align: right;\">\n",
              "      <th></th>\n",
              "      <th>Game_ISR</th>\n",
              "      <th>score_ISR</th>\n",
              "    </tr>\n",
              "  </thead>\n",
              "  <tbody>\n",
              "    <tr>\n",
              "      <th>0</th>\n",
              "      <td>Combat Arms</td>\n",
              "      <td>0.025561</td>\n",
              "    </tr>\n",
              "    <tr>\n",
              "      <th>1</th>\n",
              "      <td>Dragon Nest Europe</td>\n",
              "      <td>0.022905</td>\n",
              "    </tr>\n",
              "    <tr>\n",
              "      <th>2</th>\n",
              "      <td>Global Agenda</td>\n",
              "      <td>0.020098</td>\n",
              "    </tr>\n",
              "    <tr>\n",
              "      <th>3</th>\n",
              "      <td>Dear Esther</td>\n",
              "      <td>0.015767</td>\n",
              "    </tr>\n",
              "    <tr>\n",
              "      <th>4</th>\n",
              "      <td>Frozen Synapse</td>\n",
              "      <td>0.015764</td>\n",
              "    </tr>\n",
              "    <tr>\n",
              "      <th>5</th>\n",
              "      <td>Mark of the Ninja</td>\n",
              "      <td>0.015664</td>\n",
              "    </tr>\n",
              "    <tr>\n",
              "      <th>6</th>\n",
              "      <td>Revenge of the Titans</td>\n",
              "      <td>0.015101</td>\n",
              "    </tr>\n",
              "    <tr>\n",
              "      <th>7</th>\n",
              "      <td>Dishonored</td>\n",
              "      <td>0.014619</td>\n",
              "    </tr>\n",
              "    <tr>\n",
              "      <th>8</th>\n",
              "      <td>FTL Faster Than Light</td>\n",
              "      <td>0.014549</td>\n",
              "    </tr>\n",
              "    <tr>\n",
              "      <th>9</th>\n",
              "      <td>Batman Arkham City GOTY</td>\n",
              "      <td>0.014514</td>\n",
              "    </tr>\n",
              "  </tbody>\n",
              "</table>\n",
              "</div>"
            ],
            "text/plain": [
              "                  Game_ISR  score_ISR\n",
              "0              Combat Arms   0.025561\n",
              "1       Dragon Nest Europe   0.022905\n",
              "2            Global Agenda   0.020098\n",
              "3              Dear Esther   0.015767\n",
              "4           Frozen Synapse   0.015764\n",
              "5        Mark of the Ninja   0.015664\n",
              "6    Revenge of the Titans   0.015101\n",
              "7               Dishonored   0.014619\n",
              "8    FTL Faster Than Light   0.014549\n",
              "9  Batman Arkham City GOTY   0.014514"
            ]
          },
          "metadata": {
            "tags": []
          },
          "execution_count": 75
        }
      ]
    },
    {
      "cell_type": "code",
      "metadata": {
        "id": "3KIu27WFzkxK",
        "colab_type": "code",
        "outputId": "75a19f50-3118-4c0d-a8df-0fc873d36fd0",
        "colab": {
          "base_uri": "https://localhost:8080/",
          "height": 424
        }
      },
      "source": [
        "clean_df.loc[clean_df[\"UserID\"] == 58345543,[\"Game\",\"Played_hours\",\"Ranking\"]]"
      ],
      "execution_count": 76,
      "outputs": [
        {
          "output_type": "execute_result",
          "data": {
            "text/html": [
              "<div>\n",
              "<style scoped>\n",
              "    .dataframe tbody tr th:only-of-type {\n",
              "        vertical-align: middle;\n",
              "    }\n",
              "\n",
              "    .dataframe tbody tr th {\n",
              "        vertical-align: top;\n",
              "    }\n",
              "\n",
              "    .dataframe thead th {\n",
              "        text-align: right;\n",
              "    }\n",
              "</style>\n",
              "<table border=\"1\" class=\"dataframe\">\n",
              "  <thead>\n",
              "    <tr style=\"text-align: right;\">\n",
              "      <th></th>\n",
              "      <th>Game</th>\n",
              "      <th>Played_hours</th>\n",
              "      <th>Ranking</th>\n",
              "    </tr>\n",
              "  </thead>\n",
              "  <tbody>\n",
              "    <tr>\n",
              "      <th>115598</th>\n",
              "      <td>Spiral Knights</td>\n",
              "      <td>70.0</td>\n",
              "      <td>10.0</td>\n",
              "    </tr>\n",
              "    <tr>\n",
              "      <th>115599</th>\n",
              "      <td>Blacklight Retribution</td>\n",
              "      <td>64.0</td>\n",
              "      <td>10.0</td>\n",
              "    </tr>\n",
              "    <tr>\n",
              "      <th>115600</th>\n",
              "      <td>Dungeon Defenders</td>\n",
              "      <td>56.0</td>\n",
              "      <td>8.0</td>\n",
              "    </tr>\n",
              "    <tr>\n",
              "      <th>115601</th>\n",
              "      <td>Terraria</td>\n",
              "      <td>54.0</td>\n",
              "      <td>8.0</td>\n",
              "    </tr>\n",
              "    <tr>\n",
              "      <th>115602</th>\n",
              "      <td>Borderlands 2</td>\n",
              "      <td>53.0</td>\n",
              "      <td>8.0</td>\n",
              "    </tr>\n",
              "    <tr>\n",
              "      <th>...</th>\n",
              "      <td>...</td>\n",
              "      <td>...</td>\n",
              "      <td>...</td>\n",
              "    </tr>\n",
              "    <tr>\n",
              "      <th>116260</th>\n",
              "      <td>Wrath of Athena</td>\n",
              "      <td>0.0</td>\n",
              "      <td>1.0</td>\n",
              "    </tr>\n",
              "    <tr>\n",
              "      <th>116261</th>\n",
              "      <td>WTFast Gamers Private Network (GPN)</td>\n",
              "      <td>0.0</td>\n",
              "      <td>1.0</td>\n",
              "    </tr>\n",
              "    <tr>\n",
              "      <th>116262</th>\n",
              "      <td>Xam</td>\n",
              "      <td>0.0</td>\n",
              "      <td>1.0</td>\n",
              "    </tr>\n",
              "    <tr>\n",
              "      <th>116263</th>\n",
              "      <td>You Have to Win the Game</td>\n",
              "      <td>0.0</td>\n",
              "      <td>1.0</td>\n",
              "    </tr>\n",
              "    <tr>\n",
              "      <th>116264</th>\n",
              "      <td>Zombies Monsters Robots</td>\n",
              "      <td>0.0</td>\n",
              "      <td>1.0</td>\n",
              "    </tr>\n",
              "  </tbody>\n",
              "</table>\n",
              "<p>667 rows × 3 columns</p>\n",
              "</div>"
            ],
            "text/plain": [
              "                                       Game  Played_hours  Ranking\n",
              "115598                       Spiral Knights          70.0     10.0\n",
              "115599               Blacklight Retribution          64.0     10.0\n",
              "115600                    Dungeon Defenders          56.0      8.0\n",
              "115601                             Terraria          54.0      8.0\n",
              "115602                        Borderlands 2          53.0      8.0\n",
              "...                                     ...           ...      ...\n",
              "116260                      Wrath of Athena           0.0      1.0\n",
              "116261  WTFast Gamers Private Network (GPN)           0.0      1.0\n",
              "116262                                  Xam           0.0      1.0\n",
              "116263             You Have to Win the Game           0.0      1.0\n",
              "116264              Zombies Monsters Robots           0.0      1.0\n",
              "\n",
              "[667 rows x 3 columns]"
            ]
          },
          "metadata": {
            "tags": []
          },
          "execution_count": 76
        }
      ]
    },
    {
      "cell_type": "markdown",
      "metadata": {
        "id": "2wK1I6CBRiWS",
        "colab_type": "text"
      },
      "source": [
        "### TOP 1 USER TOTAL COMPARISON FOR RECOMMENDATIONS"
      ]
    },
    {
      "cell_type": "code",
      "metadata": {
        "id": "5FACvcHhE5jm",
        "colab_type": "code",
        "colab": {
          "base_uri": "https://localhost:8080/",
          "height": 363
        },
        "outputId": "c3276ce0-3771-4f4c-9364-f88641a4b71d"
      },
      "source": [
        "Top1_comparison = pd.concat([fact1, ranfact1,itsim1], axis=1, sort=False)\n",
        "Top1_comparison.head(10)"
      ],
      "execution_count": 77,
      "outputs": [
        {
          "output_type": "execute_result",
          "data": {
            "text/html": [
              "<div>\n",
              "<style scoped>\n",
              "    .dataframe tbody tr th:only-of-type {\n",
              "        vertical-align: middle;\n",
              "    }\n",
              "\n",
              "    .dataframe tbody tr th {\n",
              "        vertical-align: top;\n",
              "    }\n",
              "\n",
              "    .dataframe thead th {\n",
              "        text-align: right;\n",
              "    }\n",
              "</style>\n",
              "<table border=\"1\" class=\"dataframe\">\n",
              "  <thead>\n",
              "    <tr style=\"text-align: right;\">\n",
              "      <th></th>\n",
              "      <th>Game_FR</th>\n",
              "      <th>score_FR</th>\n",
              "      <th>Game_RFR</th>\n",
              "      <th>score_RFR</th>\n",
              "      <th>Game_ISR</th>\n",
              "      <th>score_ISR</th>\n",
              "    </tr>\n",
              "  </thead>\n",
              "  <tbody>\n",
              "    <tr>\n",
              "      <th>0</th>\n",
              "      <td>Counter-Strike</td>\n",
              "      <td>3.599212</td>\n",
              "      <td>Counter-Strike</td>\n",
              "      <td>3.042428</td>\n",
              "      <td>Portal 2</td>\n",
              "      <td>0.102312</td>\n",
              "    </tr>\n",
              "    <tr>\n",
              "      <th>1</th>\n",
              "      <td>Counter-Strike Source</td>\n",
              "      <td>3.318338</td>\n",
              "      <td>Counter-Strike Source</td>\n",
              "      <td>2.977187</td>\n",
              "      <td>Borderlands 2</td>\n",
              "      <td>0.102293</td>\n",
              "    </tr>\n",
              "    <tr>\n",
              "      <th>2</th>\n",
              "      <td>Counter-Strike Global Offensive</td>\n",
              "      <td>3.295661</td>\n",
              "      <td>Counter-Strike Global Offensive</td>\n",
              "      <td>2.964557</td>\n",
              "      <td>The Witcher 2 Assassins of Kings Enhanced Edition</td>\n",
              "      <td>0.100848</td>\n",
              "    </tr>\n",
              "    <tr>\n",
              "      <th>3</th>\n",
              "      <td>Half-Life 2</td>\n",
              "      <td>3.017350</td>\n",
              "      <td>Unturned</td>\n",
              "      <td>2.918731</td>\n",
              "      <td>Dishonored</td>\n",
              "      <td>0.099837</td>\n",
              "    </tr>\n",
              "    <tr>\n",
              "      <th>4</th>\n",
              "      <td>Unturned</td>\n",
              "      <td>2.807434</td>\n",
              "      <td>Sid Meier's Civilization V</td>\n",
              "      <td>2.507797</td>\n",
              "      <td>Metro 2033</td>\n",
              "      <td>0.095563</td>\n",
              "    </tr>\n",
              "    <tr>\n",
              "      <th>5</th>\n",
              "      <td>Sid Meier's Civilization V</td>\n",
              "      <td>2.735714</td>\n",
              "      <td>Half-Life 2</td>\n",
              "      <td>2.130364</td>\n",
              "      <td>Batman Arkham City GOTY</td>\n",
              "      <td>0.094957</td>\n",
              "    </tr>\n",
              "    <tr>\n",
              "      <th>6</th>\n",
              "      <td>Counter-Strike Nexon Zombies</td>\n",
              "      <td>2.702370</td>\n",
              "      <td>Terraria</td>\n",
              "      <td>1.960389</td>\n",
              "      <td>Saints Row The Third</td>\n",
              "      <td>0.087620</td>\n",
              "    </tr>\n",
              "    <tr>\n",
              "      <th>7</th>\n",
              "      <td>Call of Duty Modern Warfare 2</td>\n",
              "      <td>2.666453</td>\n",
              "      <td>Portal 2</td>\n",
              "      <td>1.956343</td>\n",
              "      <td>Skyrim High Resolution Texture Pack</td>\n",
              "      <td>0.085005</td>\n",
              "    </tr>\n",
              "    <tr>\n",
              "      <th>8</th>\n",
              "      <td>Ricochet</td>\n",
              "      <td>2.642383</td>\n",
              "      <td>Call of Duty Modern Warfare 2 - Multiplayer</td>\n",
              "      <td>1.950493</td>\n",
              "      <td>Deus Ex Human Revolution</td>\n",
              "      <td>0.083092</td>\n",
              "    </tr>\n",
              "    <tr>\n",
              "      <th>9</th>\n",
              "      <td>Half-Life Blue Shift</td>\n",
              "      <td>2.637195</td>\n",
              "      <td>Call of Duty Modern Warfare 2</td>\n",
              "      <td>1.872252</td>\n",
              "      <td>Batman Arkham Asylum GOTY Edition</td>\n",
              "      <td>0.081886</td>\n",
              "    </tr>\n",
              "  </tbody>\n",
              "</table>\n",
              "</div>"
            ],
            "text/plain": [
              "                           Game_FR  ...  score_ISR\n",
              "0                   Counter-Strike  ...   0.102312\n",
              "1            Counter-Strike Source  ...   0.102293\n",
              "2  Counter-Strike Global Offensive  ...   0.100848\n",
              "3                      Half-Life 2  ...   0.099837\n",
              "4                         Unturned  ...   0.095563\n",
              "5       Sid Meier's Civilization V  ...   0.094957\n",
              "6     Counter-Strike Nexon Zombies  ...   0.087620\n",
              "7    Call of Duty Modern Warfare 2  ...   0.085005\n",
              "8                         Ricochet  ...   0.083092\n",
              "9             Half-Life Blue Shift  ...   0.081886\n",
              "\n",
              "[10 rows x 6 columns]"
            ]
          },
          "metadata": {
            "tags": []
          },
          "execution_count": 77
        }
      ]
    },
    {
      "cell_type": "markdown",
      "metadata": {
        "id": "XDcnOYVGRqoU",
        "colab_type": "text"
      },
      "source": [
        "### TOP 2 USER TOTAL COMPARISON FOR RECOMMENDATIONS"
      ]
    },
    {
      "cell_type": "code",
      "metadata": {
        "id": "rzZ6G26THTBs",
        "colab_type": "code",
        "colab": {
          "base_uri": "https://localhost:8080/",
          "height": 363
        },
        "outputId": "2a8d5afb-3a21-418c-80d3-9fd155c3626a"
      },
      "source": [
        "Top2_comparison = pd.concat([fact2, ranfact2,itsim2], axis=1, sort=False)\n",
        "Top2_comparison.head(10)"
      ],
      "execution_count": 78,
      "outputs": [
        {
          "output_type": "execute_result",
          "data": {
            "text/html": [
              "<div>\n",
              "<style scoped>\n",
              "    .dataframe tbody tr th:only-of-type {\n",
              "        vertical-align: middle;\n",
              "    }\n",
              "\n",
              "    .dataframe tbody tr th {\n",
              "        vertical-align: top;\n",
              "    }\n",
              "\n",
              "    .dataframe thead th {\n",
              "        text-align: right;\n",
              "    }\n",
              "</style>\n",
              "<table border=\"1\" class=\"dataframe\">\n",
              "  <thead>\n",
              "    <tr style=\"text-align: right;\">\n",
              "      <th></th>\n",
              "      <th>Game_FR</th>\n",
              "      <th>score_FR</th>\n",
              "      <th>Game_RFR</th>\n",
              "      <th>score_RFR</th>\n",
              "      <th>Game_ISR</th>\n",
              "      <th>score_ISR</th>\n",
              "    </tr>\n",
              "  </thead>\n",
              "  <tbody>\n",
              "    <tr>\n",
              "      <th>0</th>\n",
              "      <td>Unturned</td>\n",
              "      <td>2.781367</td>\n",
              "      <td>Unturned</td>\n",
              "      <td>1.992360</td>\n",
              "      <td>Overlord Raising Hell</td>\n",
              "      <td>0.021720</td>\n",
              "    </tr>\n",
              "    <tr>\n",
              "      <th>1</th>\n",
              "      <td>Call of Duty Modern Warfare 2</td>\n",
              "      <td>2.253299</td>\n",
              "      <td>Call of Duty Modern Warfare 2 - Multiplayer</td>\n",
              "      <td>0.959642</td>\n",
              "      <td>Brtal Legend</td>\n",
              "      <td>0.021071</td>\n",
              "    </tr>\n",
              "    <tr>\n",
              "      <th>2</th>\n",
              "      <td>H1Z1</td>\n",
              "      <td>2.136863</td>\n",
              "      <td>Call of Duty Modern Warfare 2</td>\n",
              "      <td>0.940942</td>\n",
              "      <td>Mark of the Ninja</td>\n",
              "      <td>0.019560</td>\n",
              "    </tr>\n",
              "    <tr>\n",
              "      <th>3</th>\n",
              "      <td>Call of Duty Modern Warfare 2 - Multiplayer</td>\n",
              "      <td>2.127905</td>\n",
              "      <td>PAYDAY 2</td>\n",
              "      <td>0.930588</td>\n",
              "      <td>Bastion</td>\n",
              "      <td>0.019401</td>\n",
              "    </tr>\n",
              "    <tr>\n",
              "      <th>4</th>\n",
              "      <td>Call of Duty Black Ops</td>\n",
              "      <td>2.120046</td>\n",
              "      <td>Call of Duty Black Ops - Multiplayer</td>\n",
              "      <td>0.765139</td>\n",
              "      <td>Darksiders</td>\n",
              "      <td>0.017975</td>\n",
              "    </tr>\n",
              "    <tr>\n",
              "      <th>5</th>\n",
              "      <td>Grand Theft Auto V</td>\n",
              "      <td>2.045218</td>\n",
              "      <td>Grand Theft Auto V</td>\n",
              "      <td>0.718971</td>\n",
              "      <td>Dishonored</td>\n",
              "      <td>0.015522</td>\n",
              "    </tr>\n",
              "    <tr>\n",
              "      <th>6</th>\n",
              "      <td>The Sims(TM) 3</td>\n",
              "      <td>2.042751</td>\n",
              "      <td>DayZ</td>\n",
              "      <td>0.702582</td>\n",
              "      <td>LIMBO</td>\n",
              "      <td>0.014492</td>\n",
              "    </tr>\n",
              "    <tr>\n",
              "      <th>7</th>\n",
              "      <td>Football Manager 2009</td>\n",
              "      <td>2.035857</td>\n",
              "      <td>Don't Starve</td>\n",
              "      <td>0.694531</td>\n",
              "      <td>Rise of the Argonauts</td>\n",
              "      <td>0.014300</td>\n",
              "    </tr>\n",
              "    <tr>\n",
              "      <th>8</th>\n",
              "      <td>Train Simulator</td>\n",
              "      <td>1.997084</td>\n",
              "      <td>Fallout New Vegas</td>\n",
              "      <td>0.689030</td>\n",
              "      <td>The Walking Dead</td>\n",
              "      <td>0.014221</td>\n",
              "    </tr>\n",
              "    <tr>\n",
              "      <th>9</th>\n",
              "      <td>Farming Simulator 2013</td>\n",
              "      <td>1.939009</td>\n",
              "      <td>Dark Souls Prepare to Die Edition</td>\n",
              "      <td>0.658600</td>\n",
              "      <td>Cave Story+</td>\n",
              "      <td>0.013507</td>\n",
              "    </tr>\n",
              "  </tbody>\n",
              "</table>\n",
              "</div>"
            ],
            "text/plain": [
              "                                       Game_FR  ...  score_ISR\n",
              "0                                     Unturned  ...   0.021720\n",
              "1                Call of Duty Modern Warfare 2  ...   0.021071\n",
              "2                                         H1Z1  ...   0.019560\n",
              "3  Call of Duty Modern Warfare 2 - Multiplayer  ...   0.019401\n",
              "4                       Call of Duty Black Ops  ...   0.017975\n",
              "5                           Grand Theft Auto V  ...   0.015522\n",
              "6                               The Sims(TM) 3  ...   0.014492\n",
              "7                        Football Manager 2009  ...   0.014300\n",
              "8                              Train Simulator  ...   0.014221\n",
              "9                       Farming Simulator 2013  ...   0.013507\n",
              "\n",
              "[10 rows x 6 columns]"
            ]
          },
          "metadata": {
            "tags": []
          },
          "execution_count": 78
        }
      ]
    },
    {
      "cell_type": "markdown",
      "metadata": {
        "id": "Zs4HejRpRuO1",
        "colab_type": "text"
      },
      "source": [
        "### TOP 3 USER TOTAL COMPARISON FOR RECOMMENDATIONS"
      ]
    },
    {
      "cell_type": "code",
      "metadata": {
        "id": "6DNhw96EJzBd",
        "colab_type": "code",
        "colab": {
          "base_uri": "https://localhost:8080/",
          "height": 363
        },
        "outputId": "685d2da3-f216-4e86-d496-f3e7b863ee02"
      },
      "source": [
        "Top3_comparison = pd.concat([fact3, ranfact3,itsim3], axis=1, sort=False)\n",
        "Top3_comparison.head(10)"
      ],
      "execution_count": 79,
      "outputs": [
        {
          "output_type": "execute_result",
          "data": {
            "text/html": [
              "<div>\n",
              "<style scoped>\n",
              "    .dataframe tbody tr th:only-of-type {\n",
              "        vertical-align: middle;\n",
              "    }\n",
              "\n",
              "    .dataframe tbody tr th {\n",
              "        vertical-align: top;\n",
              "    }\n",
              "\n",
              "    .dataframe thead th {\n",
              "        text-align: right;\n",
              "    }\n",
              "</style>\n",
              "<table border=\"1\" class=\"dataframe\">\n",
              "  <thead>\n",
              "    <tr style=\"text-align: right;\">\n",
              "      <th></th>\n",
              "      <th>Game_FR</th>\n",
              "      <th>score_FR</th>\n",
              "      <th>Game_RFR</th>\n",
              "      <th>score_RFR</th>\n",
              "      <th>Game_ISR</th>\n",
              "      <th>score_ISR</th>\n",
              "    </tr>\n",
              "  </thead>\n",
              "  <tbody>\n",
              "    <tr>\n",
              "      <th>0</th>\n",
              "      <td>Counter-Strike Source</td>\n",
              "      <td>3.306294</td>\n",
              "      <td>Counter-Strike Global Offensive</td>\n",
              "      <td>2.660007</td>\n",
              "      <td>GoD Factory Wingmen</td>\n",
              "      <td>0.021197</td>\n",
              "    </tr>\n",
              "    <tr>\n",
              "      <th>1</th>\n",
              "      <td>Counter-Strike Global Offensive</td>\n",
              "      <td>3.157751</td>\n",
              "      <td>Counter-Strike Source</td>\n",
              "      <td>2.535124</td>\n",
              "      <td>Guacamelee! Gold Edition</td>\n",
              "      <td>0.021058</td>\n",
              "    </tr>\n",
              "    <tr>\n",
              "      <th>2</th>\n",
              "      <td>Unturned</td>\n",
              "      <td>2.796498</td>\n",
              "      <td>Unturned</td>\n",
              "      <td>2.324753</td>\n",
              "      <td>The Swapper</td>\n",
              "      <td>0.019111</td>\n",
              "    </tr>\n",
              "    <tr>\n",
              "      <th>3</th>\n",
              "      <td>Sid Meier's Civilization V</td>\n",
              "      <td>2.639100</td>\n",
              "      <td>Sid Meier's Civilization V</td>\n",
              "      <td>2.093990</td>\n",
              "      <td>Titan Quest</td>\n",
              "      <td>0.019021</td>\n",
              "    </tr>\n",
              "    <tr>\n",
              "      <th>4</th>\n",
              "      <td>Call of Duty Modern Warfare 2 - Multiplayer</td>\n",
              "      <td>2.522735</td>\n",
              "      <td>Call of Duty Modern Warfare 2 - Multiplayer</td>\n",
              "      <td>1.424652</td>\n",
              "      <td>The Walking Dead</td>\n",
              "      <td>0.017936</td>\n",
              "    </tr>\n",
              "    <tr>\n",
              "      <th>5</th>\n",
              "      <td>Counter-Strike Nexon Zombies</td>\n",
              "      <td>2.492555</td>\n",
              "      <td>Call of Duty Modern Warfare 2</td>\n",
              "      <td>1.340646</td>\n",
              "      <td>The Witcher 2 Assassins of Kings Enhanced Edition</td>\n",
              "      <td>0.017601</td>\n",
              "    </tr>\n",
              "    <tr>\n",
              "      <th>6</th>\n",
              "      <td>Grand Theft Auto V</td>\n",
              "      <td>2.429589</td>\n",
              "      <td>PAYDAY 2</td>\n",
              "      <td>1.291558</td>\n",
              "      <td>Gray Matter</td>\n",
              "      <td>0.017418</td>\n",
              "    </tr>\n",
              "    <tr>\n",
              "      <th>7</th>\n",
              "      <td>Trove</td>\n",
              "      <td>2.428363</td>\n",
              "      <td>Warframe</td>\n",
              "      <td>1.279092</td>\n",
              "      <td>Orcs Must Die! 2</td>\n",
              "      <td>0.017023</td>\n",
              "    </tr>\n",
              "    <tr>\n",
              "      <th>8</th>\n",
              "      <td>H1Z1</td>\n",
              "      <td>2.423694</td>\n",
              "      <td>War Thunder</td>\n",
              "      <td>1.204648</td>\n",
              "      <td>Overlord Raising Hell</td>\n",
              "      <td>0.016639</td>\n",
              "    </tr>\n",
              "    <tr>\n",
              "      <th>9</th>\n",
              "      <td>The Sims(TM) 3</td>\n",
              "      <td>2.402269</td>\n",
              "      <td>Age of Empires II HD Edition</td>\n",
              "      <td>1.200443</td>\n",
              "      <td>Borderlands 2</td>\n",
              "      <td>0.015909</td>\n",
              "    </tr>\n",
              "  </tbody>\n",
              "</table>\n",
              "</div>"
            ],
            "text/plain": [
              "                                       Game_FR  ...  score_ISR\n",
              "0                        Counter-Strike Source  ...   0.021197\n",
              "1              Counter-Strike Global Offensive  ...   0.021058\n",
              "2                                     Unturned  ...   0.019111\n",
              "3                   Sid Meier's Civilization V  ...   0.019021\n",
              "4  Call of Duty Modern Warfare 2 - Multiplayer  ...   0.017936\n",
              "5                 Counter-Strike Nexon Zombies  ...   0.017601\n",
              "6                           Grand Theft Auto V  ...   0.017418\n",
              "7                                        Trove  ...   0.017023\n",
              "8                                         H1Z1  ...   0.016639\n",
              "9                               The Sims(TM) 3  ...   0.015909\n",
              "\n",
              "[10 rows x 6 columns]"
            ]
          },
          "metadata": {
            "tags": []
          },
          "execution_count": 79
        }
      ]
    },
    {
      "cell_type": "markdown",
      "metadata": {
        "id": "G1gtsAMlRw2z",
        "colab_type": "text"
      },
      "source": [
        "### TOP 4 USER TOTAL COMPARISON FOR RECOMMENDATIONS"
      ]
    },
    {
      "cell_type": "code",
      "metadata": {
        "id": "DsCKJVz5J6az",
        "colab_type": "code",
        "colab": {
          "base_uri": "https://localhost:8080/",
          "height": 363
        },
        "outputId": "70a1a1bb-a518-4452-f651-c0ce4d14b2fa"
      },
      "source": [
        "Top4_comparison = pd.concat([fact4, ranfact4,itsim4], axis=1, sort=False)\n",
        "Top4_comparison.head(10)"
      ],
      "execution_count": 80,
      "outputs": [
        {
          "output_type": "execute_result",
          "data": {
            "text/html": [
              "<div>\n",
              "<style scoped>\n",
              "    .dataframe tbody tr th:only-of-type {\n",
              "        vertical-align: middle;\n",
              "    }\n",
              "\n",
              "    .dataframe tbody tr th {\n",
              "        vertical-align: top;\n",
              "    }\n",
              "\n",
              "    .dataframe thead th {\n",
              "        text-align: right;\n",
              "    }\n",
              "</style>\n",
              "<table border=\"1\" class=\"dataframe\">\n",
              "  <thead>\n",
              "    <tr style=\"text-align: right;\">\n",
              "      <th></th>\n",
              "      <th>Game_FR</th>\n",
              "      <th>score_FR</th>\n",
              "      <th>Game_RFR</th>\n",
              "      <th>score_RFR</th>\n",
              "      <th>Game_ISR</th>\n",
              "      <th>score_ISR</th>\n",
              "    </tr>\n",
              "  </thead>\n",
              "  <tbody>\n",
              "    <tr>\n",
              "      <th>0</th>\n",
              "      <td>Dota 2</td>\n",
              "      <td>5.824189</td>\n",
              "      <td>Dota 2</td>\n",
              "      <td>4.965038</td>\n",
              "      <td>Sine Mora</td>\n",
              "      <td>0.023019</td>\n",
              "    </tr>\n",
              "    <tr>\n",
              "      <th>1</th>\n",
              "      <td>Counter-Strike Source</td>\n",
              "      <td>4.697783</td>\n",
              "      <td>Team Fortress 2</td>\n",
              "      <td>3.906182</td>\n",
              "      <td>Dishonored</td>\n",
              "      <td>0.020319</td>\n",
              "    </tr>\n",
              "    <tr>\n",
              "      <th>2</th>\n",
              "      <td>Counter-Strike</td>\n",
              "      <td>4.690151</td>\n",
              "      <td>Counter-Strike Global Offensive</td>\n",
              "      <td>3.458225</td>\n",
              "      <td>Dear Esther</td>\n",
              "      <td>0.020013</td>\n",
              "    </tr>\n",
              "    <tr>\n",
              "      <th>3</th>\n",
              "      <td>Team Fortress 2</td>\n",
              "      <td>4.636832</td>\n",
              "      <td>Counter-Strike Source</td>\n",
              "      <td>3.422756</td>\n",
              "      <td>BioShock Infinite</td>\n",
              "      <td>0.019627</td>\n",
              "    </tr>\n",
              "    <tr>\n",
              "      <th>4</th>\n",
              "      <td>Counter-Strike Global Offensive</td>\n",
              "      <td>4.632634</td>\n",
              "      <td>Counter-Strike</td>\n",
              "      <td>3.098224</td>\n",
              "      <td>Intrusion 2</td>\n",
              "      <td>0.016959</td>\n",
              "    </tr>\n",
              "    <tr>\n",
              "      <th>5</th>\n",
              "      <td>Call of Duty Modern Warfare 2 - Multiplayer</td>\n",
              "      <td>4.030859</td>\n",
              "      <td>Unturned</td>\n",
              "      <td>2.661734</td>\n",
              "      <td>Osmos</td>\n",
              "      <td>0.016768</td>\n",
              "    </tr>\n",
              "    <tr>\n",
              "      <th>6</th>\n",
              "      <td>Grand Theft Auto V</td>\n",
              "      <td>3.975383</td>\n",
              "      <td>Garry's Mod</td>\n",
              "      <td>2.564248</td>\n",
              "      <td>Gratuitous Space Battles</td>\n",
              "      <td>0.016694</td>\n",
              "    </tr>\n",
              "    <tr>\n",
              "      <th>7</th>\n",
              "      <td>Garry's Mod</td>\n",
              "      <td>3.874509</td>\n",
              "      <td>Call of Duty Modern Warfare 2 - Multiplayer</td>\n",
              "      <td>2.395511</td>\n",
              "      <td>Red Faction Guerrilla Steam Edition</td>\n",
              "      <td>0.016296</td>\n",
              "    </tr>\n",
              "    <tr>\n",
              "      <th>8</th>\n",
              "      <td>Counter-Strike Nexon Zombies</td>\n",
              "      <td>3.848310</td>\n",
              "      <td>Counter-Strike Condition Zero</td>\n",
              "      <td>2.297632</td>\n",
              "      <td>Proteus</td>\n",
              "      <td>0.016212</td>\n",
              "    </tr>\n",
              "    <tr>\n",
              "      <th>9</th>\n",
              "      <td>Trove</td>\n",
              "      <td>3.842202</td>\n",
              "      <td>Grand Theft Auto V</td>\n",
              "      <td>2.170298</td>\n",
              "      <td>Thomas Was Alone</td>\n",
              "      <td>0.015154</td>\n",
              "    </tr>\n",
              "  </tbody>\n",
              "</table>\n",
              "</div>"
            ],
            "text/plain": [
              "                                       Game_FR  ...  score_ISR\n",
              "0                                       Dota 2  ...   0.023019\n",
              "1                        Counter-Strike Source  ...   0.020319\n",
              "2                               Counter-Strike  ...   0.020013\n",
              "3                              Team Fortress 2  ...   0.019627\n",
              "4              Counter-Strike Global Offensive  ...   0.016959\n",
              "5  Call of Duty Modern Warfare 2 - Multiplayer  ...   0.016768\n",
              "6                           Grand Theft Auto V  ...   0.016694\n",
              "7                                  Garry's Mod  ...   0.016296\n",
              "8                 Counter-Strike Nexon Zombies  ...   0.016212\n",
              "9                                        Trove  ...   0.015154\n",
              "\n",
              "[10 rows x 6 columns]"
            ]
          },
          "metadata": {
            "tags": []
          },
          "execution_count": 80
        }
      ]
    },
    {
      "cell_type": "markdown",
      "metadata": {
        "id": "BeC2C1oPRyz1",
        "colab_type": "text"
      },
      "source": [
        "### TOP 5 USER TOTAL COMPARISON FOR RECOMMENDATIONS"
      ]
    },
    {
      "cell_type": "code",
      "metadata": {
        "id": "IVMFi4EFKBoc",
        "colab_type": "code",
        "colab": {
          "base_uri": "https://localhost:8080/",
          "height": 363
        },
        "outputId": "4a5aca58-60f0-4676-8985-0ac06fc62207"
      },
      "source": [
        "Top5_comparison = pd.concat([fact5, ranfact5,itsim5], axis=1, sort=False)\n",
        "Top5_comparison.head(10)"
      ],
      "execution_count": 81,
      "outputs": [
        {
          "output_type": "execute_result",
          "data": {
            "text/html": [
              "<div>\n",
              "<style scoped>\n",
              "    .dataframe tbody tr th:only-of-type {\n",
              "        vertical-align: middle;\n",
              "    }\n",
              "\n",
              "    .dataframe tbody tr th {\n",
              "        vertical-align: top;\n",
              "    }\n",
              "\n",
              "    .dataframe thead th {\n",
              "        text-align: right;\n",
              "    }\n",
              "</style>\n",
              "<table border=\"1\" class=\"dataframe\">\n",
              "  <thead>\n",
              "    <tr style=\"text-align: right;\">\n",
              "      <th></th>\n",
              "      <th>Game_FR</th>\n",
              "      <th>score_FR</th>\n",
              "      <th>Game_RFR</th>\n",
              "      <th>score_RFR</th>\n",
              "      <th>Game_ISR</th>\n",
              "      <th>score_ISR</th>\n",
              "    </tr>\n",
              "  </thead>\n",
              "  <tbody>\n",
              "    <tr>\n",
              "      <th>0</th>\n",
              "      <td>Counter-Strike</td>\n",
              "      <td>5.290026</td>\n",
              "      <td>Counter-Strike</td>\n",
              "      <td>3.842776</td>\n",
              "      <td>Combat Arms</td>\n",
              "      <td>0.025561</td>\n",
              "    </tr>\n",
              "    <tr>\n",
              "      <th>1</th>\n",
              "      <td>Grand Theft Auto V</td>\n",
              "      <td>4.757214</td>\n",
              "      <td>Grand Theft Auto V</td>\n",
              "      <td>2.809548</td>\n",
              "      <td>Dragon Nest Europe</td>\n",
              "      <td>0.022905</td>\n",
              "    </tr>\n",
              "    <tr>\n",
              "      <th>2</th>\n",
              "      <td>Euro Truck Simulator 2</td>\n",
              "      <td>4.652666</td>\n",
              "      <td>Call of Duty Black Ops</td>\n",
              "      <td>2.779788</td>\n",
              "      <td>Global Agenda</td>\n",
              "      <td>0.020098</td>\n",
              "    </tr>\n",
              "    <tr>\n",
              "      <th>3</th>\n",
              "      <td>ARK Survival Evolved</td>\n",
              "      <td>4.442864</td>\n",
              "      <td>Empire Total War</td>\n",
              "      <td>2.724583</td>\n",
              "      <td>Dear Esther</td>\n",
              "      <td>0.015767</td>\n",
              "    </tr>\n",
              "    <tr>\n",
              "      <th>4</th>\n",
              "      <td>H1Z1</td>\n",
              "      <td>4.428638</td>\n",
              "      <td>Euro Truck Simulator 2</td>\n",
              "      <td>2.639335</td>\n",
              "      <td>Frozen Synapse</td>\n",
              "      <td>0.015764</td>\n",
              "    </tr>\n",
              "    <tr>\n",
              "      <th>5</th>\n",
              "      <td>The Sims(TM) 3</td>\n",
              "      <td>4.413128</td>\n",
              "      <td>Age of Empires II HD Edition</td>\n",
              "      <td>2.620636</td>\n",
              "      <td>Mark of the Ninja</td>\n",
              "      <td>0.015664</td>\n",
              "    </tr>\n",
              "    <tr>\n",
              "      <th>6</th>\n",
              "      <td>Empire Total War</td>\n",
              "      <td>4.351100</td>\n",
              "      <td>Arma 2 Operation Arrowhead</td>\n",
              "      <td>2.572770</td>\n",
              "      <td>Revenge of the Titans</td>\n",
              "      <td>0.015101</td>\n",
              "    </tr>\n",
              "    <tr>\n",
              "      <th>7</th>\n",
              "      <td>Football Manager 2009</td>\n",
              "      <td>4.305280</td>\n",
              "      <td>Rust</td>\n",
              "      <td>2.571988</td>\n",
              "      <td>Dishonored</td>\n",
              "      <td>0.014619</td>\n",
              "    </tr>\n",
              "    <tr>\n",
              "      <th>8</th>\n",
              "      <td>Cities Skylines</td>\n",
              "      <td>4.301247</td>\n",
              "      <td>ARK Survival Evolved</td>\n",
              "      <td>2.562704</td>\n",
              "      <td>FTL Faster Than Light</td>\n",
              "      <td>0.014549</td>\n",
              "    </tr>\n",
              "    <tr>\n",
              "      <th>9</th>\n",
              "      <td>Farming Simulator 15</td>\n",
              "      <td>4.283862</td>\n",
              "      <td>Call of Duty Modern Warfare 3</td>\n",
              "      <td>2.559013</td>\n",
              "      <td>Batman Arkham City GOTY</td>\n",
              "      <td>0.014514</td>\n",
              "    </tr>\n",
              "  </tbody>\n",
              "</table>\n",
              "</div>"
            ],
            "text/plain": [
              "                  Game_FR  score_FR  ...                 Game_ISR  score_ISR\n",
              "0          Counter-Strike  5.290026  ...              Combat Arms   0.025561\n",
              "1      Grand Theft Auto V  4.757214  ...       Dragon Nest Europe   0.022905\n",
              "2  Euro Truck Simulator 2  4.652666  ...            Global Agenda   0.020098\n",
              "3    ARK Survival Evolved  4.442864  ...              Dear Esther   0.015767\n",
              "4                    H1Z1  4.428638  ...           Frozen Synapse   0.015764\n",
              "5          The Sims(TM) 3  4.413128  ...        Mark of the Ninja   0.015664\n",
              "6        Empire Total War  4.351100  ...    Revenge of the Titans   0.015101\n",
              "7   Football Manager 2009  4.305280  ...               Dishonored   0.014619\n",
              "8         Cities Skylines  4.301247  ...    FTL Faster Than Light   0.014549\n",
              "9    Farming Simulator 15  4.283862  ...  Batman Arkham City GOTY   0.014514\n",
              "\n",
              "[10 rows x 6 columns]"
            ]
          },
          "metadata": {
            "tags": []
          },
          "execution_count": 81
        }
      ]
    }
  ]
}